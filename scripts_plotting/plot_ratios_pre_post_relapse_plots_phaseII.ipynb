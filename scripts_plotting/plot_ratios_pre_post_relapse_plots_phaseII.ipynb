{
 "cells": [
  {
   "cell_type": "code",
   "execution_count": null,
   "id": "1bd6a90c-eac2-4340-9783-ade09f0c42b8",
   "metadata": {},
   "outputs": [],
   "source": [
    "library(tidyverse)\n",
    "library(stringr) \n",
    "library(plotly)"
   ]
  },
  {
   "cell_type": "code",
   "execution_count": null,
   "id": "c8311de3-02c2-49ac-b579-da2c7a0afd17",
   "metadata": {},
   "outputs": [],
   "source": [
    "##############################################################################\n",
    "\n",
    "##########################     INPUT PARAMETERS    ###########################\n",
    "\n",
    "##############################################################################\n",
    "\n",
    "\n",
    "\n",
    "# filetype = # \"ratio_all_germline_singletons_excluded_tumor_4_cs\" # # \"ratio_singletons_excluded_tumor_4_cs\" # \"ratio\" \n",
    "filetype = \"ratio\"\n",
    "\n",
    "# input_folder =   \"ci5_cs1e9\" # \"all_germline_ci5_cs1e9\" # \"all_germline_filtered_bams_tumor_ci5_cs1e9\" # \"all_germline_filtered_bams_tumor_subtract_other_tumor_ci5_cs1e9\", all_germline_filtered_bams_tumor_ci5_cs1e9_filtered_cfDNA\n",
    "# all_germline_filtered_bams_tumor_ci5_cs1e9_filtered_cfDNA # de_novo_germline # all_germline_filtered_bams_tumor_ci5_cs1e9_filtered_cfDNA_subtracted_kmers_not_seen\n",
    "# all_germline_filtered_bams_tumor_ci5_cs1e9_well_mapping_subtracted # de_novo_germline # de_novo_germline_filtered_cfDNA # de_novo_germline_reference\n",
    "input_folder = \"final_pipeline_NEW\"\n",
    "\n",
    "# output_folder =  \"ci5_cs1e9\" # \"union_germline_ci4_cs1e9\" # \"union_germline_filtered_tumor_bams_ci5_cs1e9\" # \"union_germline_filtered_tumor_bams_subtract_other_tumors_ci5_cs1e9\"\n",
    "# union_germline_filtered_tumor_bams_ci5_cs1e9_filtered_cfDNA # de_novo_germline # union_germline_filtered_bams_tumor_ci5_cs1e9_filtered_cfDNA_subtracted_kmers_not_seen\n",
    "# union_germline_filtered_tumor_ci5_cs1e9_well_mapping_subtracted # de_novo_germline # de_novo_germline_filtered_cfDNA # de_novo_germline_reference\n",
    "output_folder = \"final_pipeline_pII\"\n",
    "\n",
    "input_phase = \"phaseII\"\n",
    "\n",
    "\n",
    "low_qual_sample <- read.table(\"../low_qual_sample.txt\")\n",
    "low_qual_sample <- as.character(low_qual_sample[[1]])"
   ]
  },
  {
   "cell_type": "code",
   "execution_count": null,
   "id": "f0b6f2b5-e325-4449-9e1d-5da8f63f7e66",
   "metadata": {},
   "outputs": [],
   "source": [
    "paramspace = read.csv(\"../data/metadata/paramspace_cfDNA_phaseII_missing_removed.csv\")\n",
    "\n",
    "paramspace  <- paramspace %>% rename(patient_id = pt_id)\n",
    "rm_pt <- read.csv(\"../phase2_exclude3.csv\", header=FALSE)\n",
    "rm_pt <- as.character(unlist(c(rm_pt[1,])))\n",
    "paramspace <- paramspace %>% filter(!patient_id %in% rm_pt)\n",
    "\n",
    "head(paramspace)"
   ]
  },
  {
   "cell_type": "code",
   "execution_count": null,
   "id": "40aef33a-0501-40ee-91b7-51f464658e0d",
   "metadata": {},
   "outputs": [],
   "source": [
    "paramspace <- paramspace %>% group_by(patient_id) %>% mutate(n = n()) %>% filter(n > 2) %>% ungroup()\n",
    "paramspace\n",
    "dim(paramspace)"
   ]
  },
  {
   "cell_type": "code",
   "execution_count": null,
   "id": "e766ebbb-cf62-49d6-9072-a9d6fbadaaf7",
   "metadata": {},
   "outputs": [],
   "source": [
    "str(paramspace)\n",
    "paramspace$patient_id <- as.character(paramspace$patient_id)\n",
    "paramspace$cfDNA_folder <- as.character(paramspace$cfDNA_folder)"
   ]
  },
  {
   "cell_type": "code",
   "execution_count": null,
   "id": "c56efba1-58ce-4200-a1cf-ab3552908747",
   "metadata": {},
   "outputs": [],
   "source": [
    "SAMPLES = paramspace[\"patient_id\"]\n",
    "FOLDERS = paramspace[\"cfDNA_folder\"]"
   ]
  },
  {
   "cell_type": "code",
   "execution_count": null,
   "id": "8f1c2ac7-e24f-4e5b-9833-a08af406b63b",
   "metadata": {},
   "outputs": [],
   "source": [
    "#paramspace[\"big_ratio\"] <- NA\n",
    "#paramspace[\"big_ratio_CI_lower\"] <- NA\n",
    "#paramspace[\"big_ratio_CI_upper\"] <- NA\n",
    "\n",
    "paramspace[\"small_ratio\"] <- NA\n",
    "paramspace[\"small_ratio_CI_lower\"] <- NA\n",
    "paramspace[\"small_ratio_CI_upper\"] <- NA\n",
    "\n",
    "for (row in 1:nrow(paramspace)){\n",
    "    pt = paramspace[row, \"patient_id\"]\n",
    "    #print(pt)\n",
    "    fd = paramspace[row, \"cfDNA_folder\"]\n",
    "    #big_r = read.csv(paste(\"../data/\", pt, \"/\" , fd, \"/\", input_folder, \"/\", \"big_\", filetype, \".csv\", sep = \"\"))\n",
    "    #jaccard_r = read.csv(paste(\"../data/\", pt, \"/\" , fd, \"/\", input_folder, \"/\", \"jaccard_index.csv\", sep = \"\"))\n",
    "    small_r = read.csv(paste(\"../data/phase_II_patients/\", pt, \"/\", fd, \"/\", input_folder, \"/\", \"small_\", filetype, \".csv\", sep = \"\"))\n",
    "    #print(big_r[[1]])\n",
    "    #print(small_r[[1]])\n",
    "    #paramspace[row, \"big_ratio\"] = big_r$ratio\n",
    "    #paramspace[row, \"big_ratio_CI_lower\"] = big_r$lower_CI\n",
    "    #paramspace[row, \"big_ratio_CI_upper\"] = big_r$upper_CI\n",
    "    \n",
    "    paramspace[row, \"small_ratio\"] = small_r$ratio\n",
    "    paramspace[row, \"small_ratio_CI_lower\"] = small_r$lower_CI\n",
    "    paramspace[row, \"small_ratio_CI_upper\"] = small_r$upper_CI\n",
    "}"
   ]
  },
  {
   "cell_type": "code",
   "execution_count": null,
   "id": "f20809e7-0c3d-4c8f-9233-431c2d4901e1",
   "metadata": {},
   "outputs": [],
   "source": [
    "res <- paramspace"
   ]
  },
  {
   "cell_type": "code",
   "execution_count": null,
   "id": "654f6089-66e3-45a7-93ab-6d1a9af6a542",
   "metadata": {},
   "outputs": [],
   "source": [
    "#res <- res %>% separate(cfDNA_folder, c(\"sampleID\", \"sample_type\", \"sample_number\"))\n",
    "res <- res %>% \n",
    "  mutate(tmp_chunks = stringr::str_split(cfDNA_folder, stringr::fixed(\"_\"),  n = 3)) %>%\n",
    "  mutate(sampleID = map_chr(tmp_chunks, 1),\n",
    "         sub_value = map_chr(tmp_chunks, 2), \n",
    "         sub_val = map_chr(tmp_chunks, 3)) %>%\n",
    "  select(-c(tmp_chunks, sub_value, sub_val))\n"
   ]
  },
  {
   "cell_type": "code",
   "execution_count": null,
   "id": "c1bfb993-5617-4c17-855c-46a4a03dfe13",
   "metadata": {},
   "outputs": [],
   "source": [
    "sample_timepoint <- read.csv(\"../data/metadata/clin_data/sample_timepoint_formatted.csv\")"
   ]
  },
  {
   "cell_type": "code",
   "execution_count": null,
   "id": "b6589182-b6f2-429d-ad3e-3cd4c0fead0d",
   "metadata": {},
   "outputs": [],
   "source": [
    "head(sample_timepoint)\n",
    "sample_timepoint_days <- sample_timepoint %>% filter(phase == input_phase)\n",
    "sample_timepoint_days <- sample_timepoint_days %>% select(sampleID, sample_timepoint_days_since_OP)\n",
    "sample_timepoint_days %>% filter(is.na(sample_timepoint_days_since_OP))"
   ]
  },
  {
   "cell_type": "code",
   "execution_count": null,
   "id": "b7c5fbf3-a080-4dde-b88f-23d4cc1d60b2",
   "metadata": {},
   "outputs": [],
   "source": [
    "res$sampleID <- as.character(res$sampleID)\n",
    "res <- left_join(res, sample_timepoint_days, by = c(\"sampleID\"))"
   ]
  },
  {
   "cell_type": "code",
   "execution_count": null,
   "id": "f92f9b98-37fd-45d6-8c30-289cd1995b7a",
   "metadata": {},
   "outputs": [],
   "source": [
    "clinical_data <- read.csv(\"../data/metadata/clin_data/clinical_data_formatted.csv\")\n",
    "clinical_data_relapse <- clinical_data %>% select(patient_id, time_to_relapse_days, adjuvant_chemo_start_days, adjuvant_chemo_end_days)"
   ]
  },
  {
   "cell_type": "code",
   "execution_count": null,
   "id": "4925944c-ace9-404a-9d8d-1033d13a42c4",
   "metadata": {},
   "outputs": [],
   "source": [
    "res <-left_join(res, clinical_data_relapse, by=\"patient_id\")"
   ]
  },
  {
   "cell_type": "code",
   "execution_count": null,
   "id": "eb6028b2-57b8-44d1-848f-28811bab0f85",
   "metadata": {},
   "outputs": [],
   "source": [
    "res <- res %>% select(patient_id, cfDNA_folder, sampleID, sample_timepoint_days_since_OP, time_to_relapse_days, small_ratio) #, big_upper_ratio"
   ]
  },
  {
   "cell_type": "code",
   "execution_count": null,
   "id": "e0c945c7-3c3c-4d57-8f0c-dd1bcd824721",
   "metadata": {},
   "outputs": [],
   "source": []
  },
  {
   "cell_type": "code",
   "execution_count": null,
   "id": "88591646-4400-436a-b7c7-24eb3ca5ec89",
   "metadata": {},
   "outputs": [],
   "source": [
    "patients <- as.character(unique(res$patient_id))\n",
    "res_new <- NULL\n",
    "\n",
    "for (i in patients){\n",
    "    patient <- res %>% filter(patient_id == i)\n",
    "    #print(patient)\n",
    "    if(is.na(sum(patient$time_to_relapse_days))){\n",
    "        new_row = patient %>% filter(sample_timepoint_days_since_OP == max(sample_timepoint_days_since_OP))\n",
    "    }else{\n",
    "        relapse_timepoint = min(patient$time_to_relapse_days, na.rm=TRUE)\n",
    "        before_relapse = patient %>% filter(sample_timepoint_days_since_OP < time_to_relapse_days)\n",
    "        #print(before_relapse)\n",
    "        new_row = before_relapse %>% filter(sample_timepoint_days_since_OP == max(sample_timepoint_days_since_OP))}\n",
    "    \n",
    "    res_new = bind_rows(res_new, new_row)\n",
    "    }\n"
   ]
  },
  {
   "cell_type": "code",
   "execution_count": null,
   "id": "757efbfd-c794-4d51-b4b9-22b2de9ebdaf",
   "metadata": {},
   "outputs": [],
   "source": [
    "res_new"
   ]
  },
  {
   "cell_type": "code",
   "execution_count": null,
   "id": "84dfd00f-207b-4679-962f-e7fad9edfc9c",
   "metadata": {},
   "outputs": [],
   "source": [
    "res_new <- res_new %>% mutate(sample_label = \"last_before_relapse\")"
   ]
  },
  {
   "cell_type": "code",
   "execution_count": null,
   "id": "d3571da1-3933-4b18-bb0f-5759afed4d2e",
   "metadata": {},
   "outputs": [],
   "source": [
    "res_new <- res_new %>% select(patient_id, cfDNA_folder, sampleID, small_ratio, sample_timepoint_days_since_OP, sample_label) #big_upper_ratio,"
   ]
  },
  {
   "cell_type": "code",
   "execution_count": null,
   "id": "a948eb5d-59c5-4ea5-8c9c-e1921cd9b5e5",
   "metadata": {},
   "outputs": [],
   "source": [
    "res_new"
   ]
  },
  {
   "cell_type": "code",
   "execution_count": null,
   "id": "c79fec00-9895-415f-9312-9e95995f1f3a",
   "metadata": {},
   "outputs": [],
   "source": [
    "res_min <- NULL\n",
    "for (pt in unique(res$patient_id)){\n",
    "    res_pt <- res %>% filter(patient_id == pt)\n",
    "    res_pt$sample_timepoint_days_since_OP <- as.numeric(res_pt$sample_timepoint_days_since_OP)\n",
    "    \n",
    "    # order based on sample timepoint\n",
    "    res_pt <- res_pt %>% arrange(sample_timepoint_days_since_OP)\n",
    "    #head(res_pt)\n",
    "    \n",
    "    # pick first 2\n",
    "    res_pt <- res_pt[1:2, ]\n",
    "    #print(dim(res_pt))\n",
    "    \n",
    "    res_pt <- res_pt %>% mutate(sample_label = c(\"pre-op\", \"post-op\"))\n",
    "    \n",
    "    if (as.numeric(res_pt[1, \"sample_timepoint_days_since_OP\"]) > 0){\n",
    "        # test expression\n",
    "        next \n",
    "    } \n",
    "    \n",
    "    # save to res min\n",
    "    res_min <- rbind(res_min, res_pt)\n",
    "    \n",
    "    }\n",
    "\n",
    "res_min <- res_min %>% select(patient_id, cfDNA_folder, sampleID, small_ratio, sample_timepoint_days_since_OP, sample_label) #big_upper_ratio, \n",
    "dim(res_min)"
   ]
  },
  {
   "cell_type": "code",
   "execution_count": null,
   "id": "e63df047-4176-4c99-a035-d2f15066ab39",
   "metadata": {},
   "outputs": [],
   "source": [
    "res_new <- res_new %>% filter(patient_id %in% unique(res_min$patient_id))\n",
    "dim(res_new)"
   ]
  },
  {
   "cell_type": "code",
   "execution_count": null,
   "id": "56f4ca28-d97c-45b9-899a-03f081e28d15",
   "metadata": {},
   "outputs": [],
   "source": [
    "res_three_points <- bind_rows(res_min, res_new)"
   ]
  },
  {
   "cell_type": "code",
   "execution_count": null,
   "id": "ce414a94-c028-4f04-a9bf-8a04455a21d2",
   "metadata": {},
   "outputs": [],
   "source": [
    "rownames(res_three_points) <- 1:nrow(res_three_points)\n",
    "res_three_points"
   ]
  },
  {
   "cell_type": "code",
   "execution_count": null,
   "id": "96f15e08-014a-493e-86cf-8f53d21449f3",
   "metadata": {},
   "outputs": [],
   "source": [
    "normalized_res <- data.frame(matrix(ncol = ncol(res_three_points)+1, nrow = 0))\n",
    "colnames(normalized_res) <- c(colnames(res_three_points), \"small_ratio_normalized\") #, \"big_upper_ratio_normalized\"\n",
    "colnames(normalized_res)"
   ]
  },
  {
   "cell_type": "code",
   "execution_count": null,
   "id": "dd0133b1-4f1e-4713-861c-e16ab72af20d",
   "metadata": {},
   "outputs": [],
   "source": [
    "patients = as.character(unique(res_three_points$patient_id))"
   ]
  },
  {
   "cell_type": "code",
   "execution_count": null,
   "id": "df7d4134-78bc-4fdc-b642-29494090510f",
   "metadata": {},
   "outputs": [],
   "source": [
    "dim(res_three_points)"
   ]
  },
  {
   "cell_type": "code",
   "execution_count": null,
   "id": "ba493e11-39b3-4b83-81bd-03f40fa85cae",
   "metadata": {},
   "outputs": [],
   "source": [
    "for (i in unique(res_three_points$patient_id)){\n",
    "    res_pt <- res_three_points %>% filter(patient_id == i)\n",
    "    print(i)\n",
    "    \n",
    "    if (res_pt[which(res_pt$sample_label == \"post-op\"), \"cfDNA_folder\"] == res_pt[which(res_pt$sample_label == \"last_before_relapse\"), \"cfDNA_folder\"]){\n",
    "        next\n",
    "    }\n",
    "    \n",
    "    for (x in res_pt$cfDNA_folder){\n",
    "        sample_label_check <- res_pt %>% filter(cfDNA_folder == x)\n",
    "        print(sample_label_check)\n",
    "        \n",
    "        if (sample_label_check$sample_label == \"pre-op\"){\n",
    "            print(sample_label_check$small_ratio)\n",
    "            #pre_val_big = sample_label_check$big_ratio\n",
    "            #pre_val_jaccard = sample_label_check$jaccard\n",
    "            pre_val_small = sample_label_check$small_ratio}}\n",
    "    \n",
    "    for (j in res_pt$cfDNA_folder){\n",
    "        normalized_line <- res_pt %>% filter(cfDNA_folder == j)\n",
    "        #print(normalized_line)\n",
    "        normalized_line <- normalized_line %>% mutate(small_ratio_normalized = small_ratio/pre_val_small) #, big_upper_ratio_normalized = big_upper_ratio/pre_val_big_upper\n",
    "        #print(normalized_line)\n",
    "        normalized_res[nrow(normalized_res)+1,] = c(i, j, normalized_line[3:7])\n",
    "    \n",
    "    }}"
   ]
  },
  {
   "cell_type": "code",
   "execution_count": null,
   "id": "4f24fd91-f484-4a53-a805-257aaba5aa72",
   "metadata": {},
   "outputs": [],
   "source": [
    "normalized_res <- normalized_res %>% mutate(pre_post_time = ifelse(sample_label == \"pre-op\", 0, sample_timepoint_days_since_OP))\n",
    "dim(normalized_res)"
   ]
  },
  {
   "cell_type": "code",
   "execution_count": null,
   "id": "f356474d-0dc8-4609-a8fb-21c36270b997",
   "metadata": {},
   "outputs": [],
   "source": [
    "relapse <- read.csv(\"../data/metadata/clin_data//clinical_data_formatted.csv\")\n",
    "relapse <- relapse %>% filter(C2i_phase == \"phaseII\") %>% select(patient_id, is_relapse..0.no.1.yes., time_to_relapse_days)\n",
    "relapse_label <- relapse %>% mutate(Relapse_label = ifelse(is_relapse..0.no.1.yes. == 0, \"No_relapse\", \"Relapse\")) %>% select(patient_id, Relapse_label)\n",
    "head(relapse_label)\n",
    "normalized_res <- left_join(normalized_res, relapse_label, by=\"patient_id\")"
   ]
  },
  {
   "cell_type": "code",
   "execution_count": null,
   "id": "19344097-2c16-49e9-96d6-c8cf4b5d1b28",
   "metadata": {},
   "outputs": [],
   "source": [
    "normalized_res"
   ]
  },
  {
   "cell_type": "code",
   "execution_count": null,
   "id": "c0996320-4ed6-4e58-9865-e6499c78d5f6",
   "metadata": {},
   "outputs": [],
   "source": [
    "normalized_res_without_post_op <- normalized_res %>% filter(sample_label != \"post-op\")"
   ]
  },
  {
   "cell_type": "markdown",
   "id": "998fcb64-aba7-4137-9977-e4c5f738641e",
   "metadata": {},
   "source": [
    "## Normalized plots pre_op pre_relapse/last sample"
   ]
  },
  {
   "cell_type": "code",
   "execution_count": null,
   "id": "1194f107-0b8b-4c57-a2d2-5c361c51fa61",
   "metadata": {},
   "outputs": [],
   "source": [
    "#quick_plot_big_r_normalized <- ggplot(normalized_res_without_post_op) + \n",
    "#    geom_line(aes(x = pre_post_time, y = log10(big_ratio_normalized), color = Relapse_label, group=patient_id)) + \n",
    "#    geom_point(aes(x = pre_post_time, y = log10(big_ratio_normalized), color = Relapse_label)) + theme(text = element_text(size = 20)) \n",
    "\n",
    "#quick_plot_big_r_normalized"
   ]
  },
  {
   "cell_type": "code",
   "execution_count": null,
   "id": "841949a9-0282-4ac0-87cc-7466f0ccf726",
   "metadata": {},
   "outputs": [],
   "source": [
    "#ggsave(\n",
    "#  paste(\"../plotting_results/\", output_folder, \"/pre_post_relapse_plots/Normalized_big_\", filetype, \".png\", sep = \"\"),\n",
    "#  quick_plot_big_r_normalized, dpi = \"print\")"
   ]
  },
  {
   "cell_type": "code",
   "execution_count": null,
   "id": "11ee002b-f70d-4d9e-ac20-895b0068f16b",
   "metadata": {},
   "outputs": [],
   "source": []
  },
  {
   "cell_type": "code",
   "execution_count": null,
   "id": "8ffa26a5-52cc-4d53-a7dc-90d9a8bb50b8",
   "metadata": {},
   "outputs": [],
   "source": [
    "#quick_plot_jaccard_normalized <- ggplot(normalized_res_without_post_op) + \n",
    "#    geom_line(aes(x = pre_post_time, y = log10(jaccard_normalized), color = Relapse_label, group=patient_id)) + \n",
    "#    geom_point(aes(x = pre_post_time, y = log10(jaccard_normalized), color = Relapse_label)) + theme(text = element_text(size = 20)) \n",
    "#\n",
    "#ggsave(\n",
    "#  paste(\"../plotting_results/\", output_folder, \"/pre_post_relapse_plots/Normalized_Jaccard\", filetype, \".png\", sep = \"\"),\n",
    "#  quick_plot_jaccard_normalized, dpi = \"print\")"
   ]
  },
  {
   "cell_type": "code",
   "execution_count": null,
   "id": "223260c8-c4cf-4f95-b6b9-a7463056ad79",
   "metadata": {},
   "outputs": [],
   "source": [
    "#quick_plot_jaccard_normalized"
   ]
  },
  {
   "cell_type": "code",
   "execution_count": null,
   "id": "e8ed0fbf-c989-4235-8845-993bd8e84734",
   "metadata": {},
   "outputs": [],
   "source": [
    "quick_plot_small_r_normalized <- ggplot(normalized_res_without_post_op) + \n",
    "    geom_line(aes(x = pre_post_time, y = log10(small_ratio_normalized), color = Relapse_label, group=patient_id)) + \n",
    "    geom_point(aes(x = pre_post_time, y = log10(small_ratio_normalized), color = Relapse_label)) + theme(text = element_text(size = 20)) \n",
    "\n",
    "quick_plot_small_r_normalized"
   ]
  },
  {
   "cell_type": "code",
   "execution_count": null,
   "id": "4f446ff4-777e-45cd-9c95-a5a32a4db0cd",
   "metadata": {},
   "outputs": [],
   "source": [
    "#ggsave(\n",
    "#  paste(\"../plotting_results/\", output_folder, \"/pre_post_relapse_plots/Normalized_small_\", filetype, \".png\", sep = \"\"),\n",
    "#  quick_plot_small_r_normalized, dpi = \"print\")"
   ]
  },
  {
   "cell_type": "markdown",
   "id": "2b0ed16f-8531-43d3-b075-1e9048735eac",
   "metadata": {},
   "source": [
    "## Not normalized plots pre_op pre_relapse/last sample"
   ]
  },
  {
   "cell_type": "code",
   "execution_count": null,
   "id": "669fc455-4e46-4cf7-a815-3e618049fa61",
   "metadata": {},
   "outputs": [],
   "source": [
    "#quick_plot_big_r <- ggplot(normalized_res_without_post_op) + \n",
    "#    geom_line(aes(x = pre_post_time, y = big_ratio, color = Relapse_label, group=patient_id)) + \n",
    "#    geom_point(aes(x = pre_post_time, y = big_ratio, color = Relapse_label)) + theme(text = element_text(size = 20)) \n",
    "#\n",
    "#ggsave(\n",
    "#  paste(\"../plotting_results/\", output_folder, \"/pre_post_relapse_plots/Big_\", filetype, \".png\", sep = \"\"),\n",
    "#  quick_plot_big_r, dpi = \"print\")"
   ]
  },
  {
   "cell_type": "code",
   "execution_count": null,
   "id": "ee12380f-1846-4c30-9d96-bd1c092179b5",
   "metadata": {},
   "outputs": [],
   "source": [
    "#quick_plot_big_r"
   ]
  },
  {
   "cell_type": "code",
   "execution_count": null,
   "id": "43b17905-0646-4251-a43a-2e6bcb265bb8",
   "metadata": {},
   "outputs": [],
   "source": [
    "quick_plot_small_r <- ggplot(normalized_res_without_post_op) + \n",
    "    geom_line(aes(x = pre_post_time, y = small_ratio, color = Relapse_label, group=patient_id)) + \n",
    "    geom_point(aes(x = pre_post_time, y = small_ratio, color = Relapse_label)) + theme(text = element_text(size = 20)) \n",
    "\n",
    "\n",
    "ggsave(\n",
    "  paste(\"../plotting_results/\", output_folder, \"/pre_post_relapse_plots/Small_\", filetype, \".png\", sep = \"\"),\n",
    "  quick_plot_small_r, dpi = \"print\")"
   ]
  },
  {
   "cell_type": "code",
   "execution_count": null,
   "id": "8013f959-7735-4c5d-9e84-3acb69928031",
   "metadata": {},
   "outputs": [],
   "source": [
    "quick_plot_small_r"
   ]
  },
  {
   "cell_type": "markdown",
   "id": "3d1540d3-c67c-4674-8c37-2f047be810ef",
   "metadata": {},
   "source": [
    "## Normalized plots pre-op + post-op + pre_relapse/last sample"
   ]
  },
  {
   "cell_type": "code",
   "execution_count": null,
   "id": "9745ca30-c402-410c-9c97-6f235c18fbac",
   "metadata": {},
   "outputs": [],
   "source": [
    "normalized_bt_post_op_res <- data.frame(matrix(ncol = ncol(res_three_points)+1, nrow = 0))\n",
    "colnames(normalized_bt_post_op_res) <- c(colnames(res_three_points), \"small_ratio_normalized\") #, \"big_upper_ratio_normalized\""
   ]
  },
  {
   "cell_type": "code",
   "execution_count": null,
   "id": "c96cf6cf-b364-4b5c-83a5-575b41cc543d",
   "metadata": {},
   "outputs": [],
   "source": [
    "normalized_bt_post_op_res"
   ]
  },
  {
   "cell_type": "code",
   "execution_count": null,
   "id": "44799633-fd6e-4ff4-943c-5df20ac89a1e",
   "metadata": {},
   "outputs": [],
   "source": [
    "patients = as.character(unique(res_three_points$patient_id))"
   ]
  },
  {
   "cell_type": "code",
   "execution_count": null,
   "id": "7ffdb2cc-f810-4fee-93b2-02569962598a",
   "metadata": {},
   "outputs": [],
   "source": [
    "for (i in patients){\n",
    "    print(i)\n",
    "    res_pt <- res_three_points %>% filter(patient_id == i)\n",
    "    \n",
    "    if (res_pt[which(res_pt$sample_label == \"post-op\"), \"cfDNA_folder\"] == res_pt[which(res_pt$sample_label == \"last_before_relapse\"), \"cfDNA_folder\"]){\n",
    "        next\n",
    "    }\n",
    "    \n",
    "    for (x in res_pt$cfDNA_folder){\n",
    "        sample_label_check <- res_pt %>% filter(cfDNA_folder == x)\n",
    "        \n",
    "        if (sample_label_check$sample_label == \"post-op\"){\n",
    "            #pre_val_big = sample_label_check$big_ratio\n",
    "            pre_val_small = sample_label_check$small_ratio}}\n",
    "    \n",
    "    for (j in res_pt$cfDNA_folder){\n",
    "        normalized_line <- res_pt %>% filter(cfDNA_folder == j)\n",
    "        #print(normalized_line)\n",
    "        normalized_line <- normalized_line %>% mutate(small_ratio_normalized = small_ratio/pre_val_small) #, big_upper_ratio_normalized = big_upper_ratio/pre_val_big_upper\n",
    "        #print(normalized_line)\n",
    "        normalized_bt_post_op_res[nrow(normalized_bt_post_op_res)+1,] = c(i, j, normalized_line[3:7])\n",
    "    \n",
    "    }}"
   ]
  },
  {
   "cell_type": "code",
   "execution_count": null,
   "id": "ea23770b-9aef-4b66-80de-c7f77d54a4ef",
   "metadata": {},
   "outputs": [],
   "source": [
    "dim(normalized_bt_post_op_res)"
   ]
  },
  {
   "cell_type": "code",
   "execution_count": null,
   "id": "f24e48f2-d5f3-424d-98eb-98e8293d68b9",
   "metadata": {},
   "outputs": [],
   "source": [
    "normalized_bt_post_op_res <- normalized_bt_post_op_res %>% mutate(pre_post_time = ifelse(sample_label == \"pre-op\", 0, sample_timepoint_days_since_OP))"
   ]
  },
  {
   "cell_type": "code",
   "execution_count": null,
   "id": "375c460c-1712-4191-a197-32ee32c2f7a5",
   "metadata": {},
   "outputs": [],
   "source": [
    "relapse <- read.csv(\"../data/metadata/clin_data//clinical_data_formatted.csv\")\n",
    "relapse <- relapse %>% filter(C2i_phase == \"phaseII\") %>% select(patient_id, is_relapse..0.no.1.yes., time_to_relapse_days)\n",
    "relapse_label <- relapse %>% mutate(Relapse_label = ifelse(is_relapse..0.no.1.yes. == 0, \"No_relapse\", \"Relapse\")) %>% select(patient_id, Relapse_label)\n",
    "head(relapse_label)\n",
    "normalized_bt_post_op_res <- left_join(normalized_bt_post_op_res, relapse_label, by=\"patient_id\")"
   ]
  },
  {
   "cell_type": "code",
   "execution_count": null,
   "id": "d64122c5-609c-45f0-adab-3221cc645170",
   "metadata": {},
   "outputs": [],
   "source": [
    "normalized_bt_post_op_res"
   ]
  },
  {
   "cell_type": "code",
   "execution_count": null,
   "id": "f773d892-1a4f-4436-b585-dc5adbfe2b5a",
   "metadata": {},
   "outputs": [],
   "source": [
    "normalized_bt_post_op_res"
   ]
  },
  {
   "cell_type": "code",
   "execution_count": null,
   "id": "2cfdedcb-4e16-4472-a8db-e39a2068f6a8",
   "metadata": {},
   "outputs": [],
   "source": [
    "normalized_bt_post_op_res <- unique(normalized_bt_post_op_res)"
   ]
  },
  {
   "cell_type": "code",
   "execution_count": null,
   "id": "7970e6f4-a931-480b-b8a0-8a424e852224",
   "metadata": {},
   "outputs": [],
   "source": [
    "normalized_bt_post_op_res_without_pre <- normalized_bt_post_op_res %>% filter(sample_label != \"pre-op\")"
   ]
  },
  {
   "cell_type": "code",
   "execution_count": null,
   "id": "32839216-184c-413f-a206-07232959b1a0",
   "metadata": {},
   "outputs": [],
   "source": [
    "#quick_plot_big_r_normalized <- ggplot(normalized_bt_post_op_res_without_pre) + \n",
    "#    geom_line(aes(x = pre_post_time, y = log10(big_ratio_normalized), color = Relapse_label, group=patient_id)) + \n",
    "#    geom_point(aes(x = pre_post_time, y = log10(big_ratio_normalized), color = Relapse_label)) + theme(text = element_text(size = 20)) \n",
    "\n",
    "#ggsave(\n",
    "#  paste(\"../plotting_results/\", output_folder, \"/pre_post_relapse_plots/Post_op_pre_relapse_normalized_Big_\", filetype, \".png\", sep = \"\"),\n",
    "#  quick_plot_big_r_normalized, dpi = \"print\")"
   ]
  },
  {
   "cell_type": "code",
   "execution_count": null,
   "id": "e7247eb4-9dd6-48f2-b553-369d04d285a0",
   "metadata": {},
   "outputs": [],
   "source": [
    "#quick_plot_big_r_normalized"
   ]
  },
  {
   "cell_type": "code",
   "execution_count": null,
   "id": "6ba931d2-4db6-4c92-bdf8-c72dacb98b56",
   "metadata": {},
   "outputs": [],
   "source": [
    "#quick_plot_jaccard_normalized <- ggplot(normalized_bt_post_op_res_without_pre) + \n",
    "#    geom_line(aes(x = pre_post_time, y = log10(jaccard_normalized), color = Relapse_label, group=patient_id)) + \n",
    "#    geom_point(aes(x = pre_post_time, y = log10(jaccard_normalized), color = Relapse_label)) + theme(text = element_text(size = 20)) \n",
    "\n",
    "#ggsave(\n",
    "#  paste(\"../plotting_results/\", output_folder, \"/pre_post_relapse_plots/Post_op_pre_relapse_normalized_Jaccard_\", filetype, \".png\", sep = \"\"),\n",
    "#  quick_plot_jaccard_normalized, dpi = \"print\")"
   ]
  },
  {
   "cell_type": "code",
   "execution_count": null,
   "id": "98f531a8-7dba-4075-bf8a-e50e3eb43c11",
   "metadata": {},
   "outputs": [],
   "source": [
    "#quick_plot_jaccard_normalized"
   ]
  },
  {
   "cell_type": "code",
   "execution_count": null,
   "id": "d23ac204-7bf0-4607-87dc-c771bde89a80",
   "metadata": {},
   "outputs": [],
   "source": [
    "quick_plot_small_r_normalized <- ggplot(normalized_bt_post_op_res_without_pre %>% filter(patient_id != low_qual_sample)) + \n",
    "    geom_line(aes(x = pre_post_time, y = log10(small_ratio_normalized), color = Relapse_label, group=patient_id), size = 0.5) + \n",
    "    geom_point(aes(x = pre_post_time, y = log10(small_ratio_normalized), color = Relapse_label), size = 1) + \n",
    "    theme_minimal() + \n",
    "    theme(text = element_text(size = 13)) + \n",
    "    xlab(\"Sample time point (days since surgery)\") + ylab(\"log10((UT kmers in cfDNA / UT kmers)\") + \n",
    "    scale_color_manual(values=c('#00BFC4', '#F8766D'), labels = c(\"No relapse\", \"Relapse\"))\n",
    "    \n",
    "#ggtitle(\"Fraction of unique tumor k-mers found in cfDNA,\\nnormalized by the pre-op sample (low quality sample removed)\")"
   ]
  },
  {
   "cell_type": "code",
   "execution_count": null,
   "id": "bfd1df2b-17d5-4973-ae11-8d46c832afc2",
   "metadata": {},
   "outputs": [],
   "source": [
    "options(repr.plot.width=9, repr.plot.height=6)\n",
    "quick_plot_small_r_normalized"
   ]
  },
  {
   "cell_type": "code",
   "execution_count": null,
   "id": "da96d3a2-c009-4285-b8fe-285d8814c2fe",
   "metadata": {},
   "outputs": [],
   "source": [
    "quick_plot_small_r_normalized <- ggplot(normalized_bt_post_op_res_without_pre %>% filter(patient_id != low_qual_sample)) + \n",
    "    geom_line(aes(x = pre_post_time, y = log10(small_ratio_normalized), color = Relapse_label, group=patient_id), size = 0.5) + \n",
    "    geom_point(aes(x = pre_post_time, y = log10(small_ratio_normalized), color = Relapse_label), size = 1) + \n",
    "    theme_minimal() + \n",
    "    theme(text = element_text(size = 12),\n",
    "          strip.text.x = element_blank()) + \n",
    "    xlab(\"Sample time point (days since surgery)\") + ylab(\"log10((UT kmers in cfDNA / UT kmers)\") + \n",
    "    scale_color_manual(values=c('#00BFC4', '#F8766D'), labels = c(\"No relapse\", \"Relapse\"), name = \"Relapse label\") +  \n",
    "    facet_wrap(~Relapse_label, ncol = 2)\n",
    "\n",
    "options(repr.plot.width=9, repr.plot.height=6)\n",
    "quick_plot_small_r_normalized"
   ]
  },
  {
   "cell_type": "code",
   "execution_count": null,
   "id": "42ca7d49-ac07-4254-8c18-5dd11e2dd82d",
   "metadata": {},
   "outputs": [],
   "source": [
    "#ggsave(\n",
    "#  paste(\"../plotting_results/\", output_folder, \"/pre_post_relapse_plots/Post_op_pre_relapse_normalized_Small_\", filetype, \".png\", sep = \"\"),\n",
    "#  quick_plot_small_r_normalized, dpi = \"print\")"
   ]
  },
  {
   "cell_type": "code",
   "execution_count": null,
   "id": "795b931b-69fb-42b9-ad4f-83a5c873f117",
   "metadata": {},
   "outputs": [],
   "source": [
    "#quick_plot_big_r <- ggplot(normalized_bt_post_op_res_without_pre) + \n",
    "#    geom_line(aes(x = pre_post_time, y = big_ratio, color = Relapse_label, group=patient_id)) + \n",
    "#    geom_point(aes(x = pre_post_time, y = big_ratio, color = Relapse_label)) + theme(text = element_text(size = 20)) \n",
    "\n",
    "#ggsave(\n",
    "#  paste(\"../plotting_results/\", output_folder, \"/pre_post_relapse_plots/Post_op_pre_relapse_Big_\", filetype, \".png\", sep = \"\"),\n",
    "#  quick_plot_big_r, dpi = \"print\")"
   ]
  },
  {
   "cell_type": "code",
   "execution_count": null,
   "id": "4c3cd131-12a8-4329-b9a8-85d2eb87e530",
   "metadata": {},
   "outputs": [],
   "source": [
    "#quick_plot_big_r"
   ]
  },
  {
   "cell_type": "code",
   "execution_count": null,
   "id": "e8df521c-7140-41b9-8df1-4278c9bee8c7",
   "metadata": {},
   "outputs": [],
   "source": [
    "#quick_plot_jaccard <- ggplot(normalized_bt_post_op_res_without_pre) + \n",
    "#    geom_line(aes(x = pre_post_time, y = jaccard, color = Relapse_label, group=patient_id)) + \n",
    "#    geom_point(aes(x = pre_post_time, y = jaccard, color = Relapse_label)) + theme(text = element_text(size = 20)) \n",
    "\n",
    "#ggsave(\n",
    "#  paste(\"../plotting_results/\", output_folder, \"/pre_post_relapse_plots/Post_op_pre_relapse_Jaccard_\", filetype, \".png\", sep = \"\"),\n",
    "#  quick_plot_jaccard, dpi = \"print\")"
   ]
  },
  {
   "cell_type": "code",
   "execution_count": null,
   "id": "3f77e8a2-0212-42f9-a8f4-67fbe70b796c",
   "metadata": {},
   "outputs": [],
   "source": [
    "#quick_plot_jaccard"
   ]
  },
  {
   "cell_type": "code",
   "execution_count": null,
   "id": "09e16f60-d6e2-4e08-b625-2a3724c2dc76",
   "metadata": {},
   "outputs": [],
   "source": [
    "quick_plot_small_r <- ggplot(normalized_bt_post_op_res_without_pre) + \n",
    "    geom_line(aes(x = pre_post_time, y = small_ratio, color = Relapse_label, group=patient_id)) + \n",
    "    geom_point(aes(x = pre_post_time, y = small_ratio, color = Relapse_label)) + theme(text = element_text(size = 20)) \n",
    "\n",
    "ggsave(\n",
    "  paste(\"../plotting_results/\", output_folder, \"/pre_post_relapse_plots/Post_op_pre_relapse_Small_\", filetype, \".png\", sep = \"\"),\n",
    "  quick_plot_small_r, dpi = \"print\")"
   ]
  },
  {
   "cell_type": "code",
   "execution_count": null,
   "id": "b8986790-1d77-4f00-91cb-9be61c4c47f2",
   "metadata": {},
   "outputs": [],
   "source": [
    "quick_plot_small_r"
   ]
  },
  {
   "cell_type": "markdown",
   "id": "09f18b22-fbc0-4f41-9ebe-b81e6dd158c2",
   "metadata": {},
   "source": [
    "## With all thre data points"
   ]
  },
  {
   "cell_type": "code",
   "execution_count": null,
   "id": "d4be355b-b31c-4b3a-9faf-9f3a1acce59a",
   "metadata": {},
   "outputs": [],
   "source": [
    "#quick_plot_big_r_normalized <- ggplot(normalized_bt_post_op_res) + \n",
    "#    geom_line(aes(x = pre_post_time, y = log10(big_ratio_normalized), color = Relapse_label, group=patient_id)) + \n",
    "#    geom_point(aes(x = pre_post_time, y = log10(big_ratio_normalized), color = Relapse_label)) + theme(text = element_text(size = 20)) \n",
    "\n",
    "#ggsave(\n",
    "#  paste(\"../plotting_results/\", output_folder, \"/pre_post_relapse_plots/Pre_op_post_op_pre_relapse_normalized_Big_\", filetype, \".png\", sep = \"\"),\n",
    "#  quick_plot_big_r_normalized, dpi = \"print\")"
   ]
  },
  {
   "cell_type": "code",
   "execution_count": null,
   "id": "7bb5ebb2-df2d-4b05-a325-9e2c644724d6",
   "metadata": {},
   "outputs": [],
   "source": [
    "#quick_plot_big_r_normalized"
   ]
  },
  {
   "cell_type": "code",
   "execution_count": null,
   "id": "b8ee597e-0356-4428-96cf-fc9afe4ca8bc",
   "metadata": {},
   "outputs": [],
   "source": [
    "#quick_plot_jaccard_normalized <- ggplot(normalized_bt_post_op_res) + \n",
    "#    geom_line(aes(x = pre_post_time, y = log10(jaccard_normalized), color = Relapse_label, group=patient_id)) + \n",
    "#    geom_point(aes(x = pre_post_time, y = log10(jaccard_normalized), color = Relapse_label)) + theme(text = element_text(size = 20)) \n",
    "\n",
    "#ggsave(\n",
    "#  paste(\"../plotting_results/\", output_folder, \"/pre_post_relapse_plots/Pre_op_post_op_pre_relapse_normalized_Jaccard_\", filetype, \".png\", sep = \"\"),\n",
    "#  quick_plot_jaccard_normalized, dpi = \"print\")"
   ]
  },
  {
   "cell_type": "code",
   "execution_count": null,
   "id": "00444682-73df-4714-829e-f46f50e07afa",
   "metadata": {},
   "outputs": [],
   "source": [
    "#quick_plot_jaccard_normalized"
   ]
  },
  {
   "cell_type": "code",
   "execution_count": null,
   "id": "a8f74f0e-f53d-408c-9118-c85093d9f38d",
   "metadata": {},
   "outputs": [],
   "source": [
    "quick_plot_small_r_normalized <- ggplot(normalized_bt_post_op_res) + \n",
    "    geom_line(aes(x = pre_post_time, y = log10(small_ratio_normalized), color = Relapse_label, group=patient_id)) + \n",
    "    geom_point(aes(x = pre_post_time, y = log10(small_ratio_normalized), color = Relapse_label)) + theme(text = element_text(size = 20)) \n",
    "\n",
    "ggsave(\n",
    "  paste(\"../plotting_results/\", output_folder, \"/pre_post_relapse_plots/Pre-op_post_op_pre_relapse_normalized_Small_\", filetype, \".png\", sep = \"\"),\n",
    "  quick_plot_small_r_normalized, dpi = \"print\")"
   ]
  },
  {
   "cell_type": "code",
   "execution_count": null,
   "id": "f3d722a4-b28a-4e6a-acfb-8b139ec04ef3",
   "metadata": {},
   "outputs": [],
   "source": [
    "quick_plot_small_r_normalized"
   ]
  },
  {
   "cell_type": "code",
   "execution_count": null,
   "id": "6cbe02fe-384c-47fa-9da0-0cf572370f58",
   "metadata": {},
   "outputs": [],
   "source": [
    "#quick_plot_big_r <- ggplot(normalized_bt_post_op_res) + \n",
    "#    geom_line(aes(x = pre_post_time, y = big_ratio, color = Relapse_label, group=patient_id)) + \n",
    "#    geom_point(aes(x = pre_post_time, y = big_ratio, color = Relapse_label)) + theme(text = element_text(size = 20)) \n",
    "#\n",
    "#ggsave(\n",
    "#  paste(\"../plotting_results/\", output_folder, \"/pre_post_relapse_plots/Pre_op_post_op_pre_relapse_Big_\", filetype, \".png\", sep = \"\"),\n",
    "#  quick_plot_big_r, dpi = \"print\")"
   ]
  },
  {
   "cell_type": "code",
   "execution_count": null,
   "id": "120f57fc-b24f-41fc-897c-db129fee1ad7",
   "metadata": {},
   "outputs": [],
   "source": [
    "#quick_plot_big_r"
   ]
  },
  {
   "cell_type": "code",
   "execution_count": null,
   "id": "4c0e7309-18ee-425b-9c40-c4f87782006b",
   "metadata": {},
   "outputs": [],
   "source": [
    "#quick_plot_jaccard <- ggplot(normalized_bt_post_op_res) + \n",
    "#    geom_line(aes(x = pre_post_time, y = jaccard, color = Relapse_label, group=patient_id)) + \n",
    "#    geom_point(aes(x = pre_post_time, y = jaccard, color = Relapse_label)) + theme(text = element_text(size = 20)) \n",
    "\n",
    "#ggsave(\n",
    "#  paste(\"../plotting_results/\", output_folder, \"/pre_post_relapse_plots/Pre_op_post_op_pre_relapse_Jaccard_\", filetype, \".png\", sep = \"\"),\n",
    "#  quick_plot_jaccard, dpi = \"print\")"
   ]
  },
  {
   "cell_type": "code",
   "execution_count": null,
   "id": "7ce61a4f-3d39-4fcb-a19f-fe563992812d",
   "metadata": {},
   "outputs": [],
   "source": [
    "#quick_plot_jaccard"
   ]
  },
  {
   "cell_type": "code",
   "execution_count": null,
   "id": "ca7f1c2f-dac7-4676-a5ce-d26009ba3b88",
   "metadata": {},
   "outputs": [],
   "source": [
    "quick_plot_small_r <- ggplot(normalized_bt_post_op_res) + \n",
    "    geom_line(aes(x = pre_post_time, y = small_ratio, color = Relapse_label, group=patient_id)) + \n",
    "    geom_point(aes(x = pre_post_time, y = small_ratio, color = Relapse_label)) + theme(text = element_text(size = 20)) \n",
    "\n",
    "ggsave(\n",
    "  paste(\"../plotting_results/\", output_folder, \"/pre_post_relapse_plots/Pre_op_post_op_pre_relapse_Small_\", filetype, \".png\", sep = \"\"),\n",
    "  quick_plot_small_r, dpi = \"print\")"
   ]
  },
  {
   "cell_type": "code",
   "execution_count": null,
   "id": "bd965690-c0ac-4ea7-8ac9-b8035dd76418",
   "metadata": {},
   "outputs": [],
   "source": [
    "quick_plot_small_r"
   ]
  },
  {
   "cell_type": "markdown",
   "id": "7b56c9b2-8200-4ea9-b179-c004403bb7ac",
   "metadata": {},
   "source": []
  },
  {
   "cell_type": "code",
   "execution_count": null,
   "id": "3a763b95-c202-4fe6-be61-f0d20a90555f",
   "metadata": {},
   "outputs": [],
   "source": []
  },
  {
   "cell_type": "code",
   "execution_count": null,
   "id": "519efb39-cd83-418e-9089-df7f1c11ab14",
   "metadata": {},
   "outputs": [],
   "source": []
  },
  {
   "cell_type": "code",
   "execution_count": null,
   "id": "95c80480-b5a8-4408-9fb7-17f9360708d8",
   "metadata": {},
   "outputs": [],
   "source": []
  },
  {
   "cell_type": "code",
   "execution_count": null,
   "id": "b0f8b507-0d88-4e2a-a85c-834e2f785151",
   "metadata": {},
   "outputs": [],
   "source": []
  },
  {
   "cell_type": "code",
   "execution_count": null,
   "id": "ac517ce9-39d5-4508-9437-2b0a16a13a07",
   "metadata": {},
   "outputs": [],
   "source": []
  },
  {
   "cell_type": "code",
   "execution_count": null,
   "id": "88b53332-a614-41a9-895b-3619fff381ab",
   "metadata": {},
   "outputs": [],
   "source": []
  },
  {
   "cell_type": "code",
   "execution_count": null,
   "id": "2ad513e4-3bf6-46ea-8c80-5a4e557c8da4",
   "metadata": {},
   "outputs": [],
   "source": []
  }
 ],
 "metadata": {
  "kernelspec": {
   "display_name": "R",
   "language": "R",
   "name": "ir"
  },
  "language_info": {
   "codemirror_mode": "r",
   "file_extension": ".r",
   "mimetype": "text/x-r-source",
   "name": "R",
   "pygments_lexer": "r",
   "version": "3.6.1"
  }
 },
 "nbformat": 4,
 "nbformat_minor": 5
}
