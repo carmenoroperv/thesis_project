{
 "cells": [
  {
   "cell_type": "code",
   "execution_count": null,
   "id": "38333373-cbbd-4b83-a625-4e9cf5ed8284",
   "metadata": {},
   "outputs": [],
   "source": [
    "library(tidyverse)"
   ]
  },
  {
   "cell_type": "code",
   "execution_count": null,
   "id": "7cc2ebdb-d12a-4f50-aa93-3f0e95063f26",
   "metadata": {},
   "outputs": [],
   "source": [
    "data <- read.table(\"../data/plotdata_germline_union_filtered.txt\")"
   ]
  },
  {
   "cell_type": "code",
   "execution_count": null,
   "id": "b07f7a9b-e093-4f2b-8e6b-a236f1b337a1",
   "metadata": {},
   "outputs": [],
   "source": [
    "cum_sum <- NULL\n",
    "for (row in 1:nrow(data)){\n",
    "    if (row <= 2000){\n",
    "        sub_data <- data[row:nrow(data), ]\n",
    "        cum_sum <- c(cum_sum, sum(sub_data$V2))\n",
    "    } else {\n",
    "        cum_sum <- c(cum_sum, NA)\n",
    "    }\n",
    "    }\n",
    "data <- data %>% mutate(cumulative_kmers = cum_sum)"
   ]
  },
  {
   "cell_type": "code",
   "execution_count": null,
   "id": "038d3924-c837-4e35-8562-2b1fb5080ab1",
   "metadata": {},
   "outputs": [],
   "source": [
    "colnames(data) <- c(\"count\", \"n\", \"cumulative_kmers\")\n",
    "head(data)"
   ]
  },
  {
   "cell_type": "code",
   "execution_count": null,
   "id": "464055cd-78eb-452e-a1e3-b308b7a7d746",
   "metadata": {},
   "outputs": [],
   "source": [
    "data_1000 <- data %>% filter(count <= 2000)"
   ]
  },
  {
   "cell_type": "code",
   "execution_count": null,
   "id": "eb5e31a9-46c6-4300-947d-55c1f657d319",
   "metadata": {},
   "outputs": [],
   "source": [
    "line_smooth <- ggplot(data_1000) + \n",
    "    #geom_smooth(aes(count, log10(n)), size = 0.5, alpha = 1, se = FALSE) + \n",
    "    geom_line(aes(count, log10(n)), size = 0.5, alpha = 1) + \n",
    "    xlab(\"Number of times k-mer is observed\") + \n",
    "    ylab(\"log(Number of k-mers)\") + \n",
    "    theme_minimal()  + \n",
    "    #annotate(\"text\", x = 250, y = log10(max(data_only_250$n)) + 0.6, label = data_only_250$patient_id[which(data_only_250$n == max(data_only_250$n))]) +\n",
    "    ggtitle(\"Union germline\")\n",
    "\n",
    "line_smooth\n"
   ]
  },
  {
   "cell_type": "code",
   "execution_count": null,
   "id": "0513b364-6a6d-4b1c-a9af-208636fbfd50",
   "metadata": {},
   "outputs": [],
   "source": [
    "line_cumulative <- ggplot(data_1000) + \n",
    "    #geom_smooth(aes(count, log10(cumulative_kmers), color = patient_id), size = 0.5, alpha = 1, se = FALSE) + \n",
    "    geom_line(aes(count, log10(cumulative_kmers)), size = 0.5, alpha = 1) + \n",
    "    xlab(\"Number of times k-mer is observed\") + \n",
    "    ylab(\"log(Cumulative number of kmers (excluding everything < x)\") + \n",
    "    theme_minimal()  + \n",
    "    #annotate(\"text\", x = 250, y = log10(max(data_only_250$cumulative_kmers)) + 0.6, label = data_only_250$patient_id[which(data_only_250$n == max(data_only_250$n))]) +\n",
    "    ggtitle(\"Union germline\")\n",
    "\n",
    "line_cumulative"
   ]
  },
  {
   "cell_type": "code",
   "execution_count": null,
   "id": "8be996f6-2b11-4d1f-84d4-54be61093c4f",
   "metadata": {},
   "outputs": [],
   "source": [
    "ggsave(\n",
    "  paste(\"../plotting_results/Union_germline_kmer_count_distribution\", \".png\", sep = \"\"),\n",
    "  line_smooth, dpi = \"print\")\n",
    "\n",
    "ggsave(\n",
    "  paste(\"../plotting_results/Union_germline_kmer_count_distribution_cumulative\", \".png\", sep = \"\"),\n",
    "  line_cumulative, dpi = \"print\")"
   ]
  },
  {
   "cell_type": "code",
   "execution_count": null,
   "id": "f7c98e7a-1df5-474c-88ca-0e9deab01b7d",
   "metadata": {},
   "outputs": [],
   "source": []
  }
 ],
 "metadata": {
  "kernelspec": {
   "display_name": "R",
   "language": "R",
   "name": "ir"
  },
  "language_info": {
   "codemirror_mode": "r",
   "file_extension": ".r",
   "mimetype": "text/x-r-source",
   "name": "R",
   "pygments_lexer": "r",
   "version": "3.6.1"
  }
 },
 "nbformat": 4,
 "nbformat_minor": 5
}
