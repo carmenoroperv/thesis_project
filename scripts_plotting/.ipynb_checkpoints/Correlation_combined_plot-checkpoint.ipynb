{
 "cells": [
  {
   "cell_type": "code",
   "execution_count": null,
   "id": "d3859f79-e77a-4177-984c-f177982f731a",
   "metadata": {},
   "outputs": [],
   "source": [
    "library(tidyverse)"
   ]
  },
  {
   "cell_type": "code",
   "execution_count": null,
   "id": "79d97f2a-6fc8-4455-9c27-7ef6db3bea0b",
   "metadata": {},
   "outputs": [],
   "source": [
    "correlation_file_name <- \"ci5_cs1e9_correlation\"\n",
    "# ci5_cs1e9_correlation\n",
    "# all_germline_ci5_cs1e9_correlation \n",
    "# all_germline_filtered_bams_tumor_ci5_cs1e9_correlation\n",
    "# de_novo_germline_reference_correlation"
   ]
  },
  {
   "cell_type": "code",
   "execution_count": null,
   "id": "e6aa2d36-cf4c-4fbb-bfca-2704ae69ec0c",
   "metadata": {},
   "outputs": [],
   "source": [
    "paramspace <- read.csv(\"data/metadata/paramspace_cfDNA_phaseI.csv\")"
   ]
  },
  {
   "cell_type": "code",
   "execution_count": null,
   "id": "bcf8a44a-c64b-48c3-af86-3d456826f703",
   "metadata": {},
   "outputs": [],
   "source": [
    "patients <- as.character(unique(paramspace$pt_id))"
   ]
  },
  {
   "cell_type": "code",
   "execution_count": null,
   "id": "73c9c9fc-eba3-4f24-ace1-2e5c82829359",
   "metadata": {},
   "outputs": [],
   "source": [
    "patients"
   ]
  },
  {
   "cell_type": "code",
   "execution_count": null,
   "id": "bb4b871c-6486-49ce-8368-c9533a0b7424",
   "metadata": {},
   "outputs": [],
   "source": [
    "correlation_per_patient <- data.frame(matrix(ncol = 3, nrow = 0))\n",
    "\n",
    "colnames(correlation_per_patient) <-c(\"pt_id\", \"cfDNA_sample\", \"correlation\")"
   ]
  },
  {
   "cell_type": "code",
   "execution_count": null,
   "id": "a1db4082-31ff-4914-80dc-38894cc91a78",
   "metadata": {},
   "outputs": [],
   "source": [
    "for (i in patients){\n",
    "    correlation_csv <- read.csv(paste(\"data/\", i, \"/\", correlation_file_name, \".csv\", sep = \"\"))\n",
    "    for (j in correlation_csv$cfDNA_sample){\n",
    "        correlation_row <- correlation_csv %>% filter(cfDNA_sample == j)\n",
    "        correlation <- correlation_row$Correlation\n",
    "        correlation_per_patient[nrow(correlation_per_patient)+1,] = c(i, j, correlation)\n",
    "                                    \n",
    "}}"
   ]
  },
  {
   "cell_type": "code",
   "execution_count": null,
   "id": "3ac7016e-c35f-40a4-8f88-c786b2cf1be6",
   "metadata": {},
   "outputs": [],
   "source": [
    "correlation_per_patient <- correlation_per_patient %>% \n",
    "  mutate(tmp_chunks = stringr::str_split(cfDNA_sample, stringr::fixed(\"_\"),  n = 3)) %>%\n",
    "  mutate(sampleID = map_chr(tmp_chunks, 1),\n",
    "         sub_value = map_chr(tmp_chunks, 2), \n",
    "         sub_val = map_chr(tmp_chunks, 3)) %>%\n",
    "  select(-c(tmp_chunks, sub_value, sub_val))\n",
    "\n",
    "head(correlation_per_patient)\n",
    "dim(correlation_per_patient)"
   ]
  },
  {
   "cell_type": "code",
   "execution_count": null,
   "id": "f0549b86-a94f-4460-8e7e-223b3bd81d27",
   "metadata": {},
   "outputs": [],
   "source": [
    "sample_timepoint <- read.csv(\"data/metadata/clin_data/sample_timepoint_formatted.csv\")\n",
    "sample_timepoint_days <- sample_timepoint %>% filter(phase == \"phaseI\")\n",
    "sample_timepoint_days <- sample_timepoint_days %>% select(sampleID, sample_timepoint_days_since_OP)"
   ]
  },
  {
   "cell_type": "code",
   "execution_count": null,
   "id": "3981def7-7e4c-4f22-9198-be35758d75e2",
   "metadata": {},
   "outputs": [],
   "source": [
    "correlation_per_patient <- left_join(correlation_per_patient, sample_timepoint_days, by=\"sampleID\")\n",
    "head(correlation_per_patient)"
   ]
  },
  {
   "cell_type": "code",
   "execution_count": null,
   "id": "903389fe-ecc8-4f4b-9552-035b31892422",
   "metadata": {},
   "outputs": [],
   "source": [
    "phaseIpt_R <- read.csv(\"../phaseI_pt_R.csv\", header=FALSE)\n",
    "phaseIpt_R <- as.character(unlist(c(phaseIpt_R[1,])))"
   ]
  },
  {
   "cell_type": "code",
   "execution_count": null,
   "id": "0be76434-080d-4848-8456-f5b53a71e7d9",
   "metadata": {},
   "outputs": [],
   "source": [
    "relapse_pt = phaseIpt_R"
   ]
  },
  {
   "cell_type": "code",
   "execution_count": null,
   "id": "c1c09b9c-a2ab-446d-9bf9-88e322c4d8fc",
   "metadata": {},
   "outputs": [],
   "source": [
    "Correlation <- correlation_per_patient %>% mutate(Relapse = ifelse(pt_id %in% relapse_pt, \"Relapse\", \"No_relapse\"))\n",
    "head(Correlation)"
   ]
  },
  {
   "cell_type": "code",
   "execution_count": null,
   "id": "186c9a85-68bd-42c2-9cb4-3842099e7a49",
   "metadata": {},
   "outputs": [],
   "source": [
    "Correlation$correlation <- as.numeric(Correlation$correlation)"
   ]
  },
  {
   "cell_type": "code",
   "execution_count": null,
   "id": "b065c59c-1cf3-4d79-b303-c2b2d88c9157",
   "metadata": {},
   "outputs": [],
   "source": [
    "write.csv(Correlation, paste(\"data/\", correlation_file_name, \".csv\", sep = \"\"))"
   ]
  },
  {
   "cell_type": "code",
   "execution_count": null,
   "id": "fd94b3bf-53e5-4933-95dc-4a3a0f8d48f6",
   "metadata": {},
   "outputs": [],
   "source": []
  },
  {
   "cell_type": "code",
   "execution_count": null,
   "id": "ef90fb8d-b9c3-40b1-9d38-267879e90e22",
   "metadata": {},
   "outputs": [],
   "source": []
  },
  {
   "cell_type": "code",
   "execution_count": null,
   "id": "25476d00-665c-4da9-8cfc-a4a821db2169",
   "metadata": {},
   "outputs": [],
   "source": [
    "head(Correlation)"
   ]
  },
  {
   "cell_type": "code",
   "execution_count": null,
   "id": "db160bf9-02e8-4e75-a1dd-9ebed72932f8",
   "metadata": {},
   "outputs": [],
   "source": [
    "clinical_data <- read.csv(\"data/metadata/clin_data/clinical_data_formatted.csv\")\n",
    "clinical_data_relapse <- clinical_data %>% select(patient_id, time_to_relapse_days, adjuvant_chemo_start_days, adjuvant_chemo_end_days)\n",
    "colnames(clinical_data_relapse) <- c(\"pt_id\", \"time_to_relapse_days\", \"adjuvant_chemo_start_days\", \"adjuvant_chemo_end_days\")\n",
    "head(clinical_data_relapse)"
   ]
  },
  {
   "cell_type": "code",
   "execution_count": null,
   "id": "3dea7f7e-378b-4ae3-8499-178c408a29d9",
   "metadata": {},
   "outputs": [],
   "source": [
    "res <-left_join(Correlation, clinical_data_relapse, by=\"pt_id\")"
   ]
  },
  {
   "cell_type": "code",
   "execution_count": null,
   "id": "dab67e1b-e24d-4fc8-be7d-2a85ba26b421",
   "metadata": {},
   "outputs": [],
   "source": [
    "head(res)"
   ]
  },
  {
   "cell_type": "code",
   "execution_count": null,
   "id": "40d9761a-1a34-4bcc-8d76-8d87f683b68e",
   "metadata": {},
   "outputs": [],
   "source": [
    "normalized_res_intervention_relapses <- res %>% filter(Relapse == \"Relapse\", sample_timepoint_days_since_OP >= time_to_relapse_days)\n",
    "normalized_res_intervention_pre_or_no_relapse1 <- res %>% group_by(pt_id) %>% filter(Relapse == \"Relapse\", sample_timepoint_days_since_OP >= time_to_relapse_days) %>% filter(sample_timepoint_days_since_OP == min(sample_timepoint_days_since_OP))\n",
    "\n",
    "normalized_res_intervention_pre_or_no_relapse2 <- res %>% filter(Relapse == \"No_relapse\" | \n",
    "                                                                                        sample_timepoint_days_since_OP < time_to_relapse_days)\n",
    "\n",
    "normalized_res_intervention_pre_or_no_relapse <- bind_rows(normalized_res_intervention_pre_or_no_relapse1, normalized_res_intervention_pre_or_no_relapse2)"
   ]
  },
  {
   "cell_type": "code",
   "execution_count": null,
   "id": "6f380611-cf17-475e-97dd-7006cf7b96ff",
   "metadata": {},
   "outputs": [],
   "source": [
    "options(repr.plot.width=20, repr.plot.height=10)"
   ]
  },
  {
   "cell_type": "code",
   "execution_count": null,
   "id": "b61161a5-3f11-48c1-ad21-d7cc22b5cb14",
   "metadata": {},
   "outputs": [],
   "source": [
    "combined_correlation_plot <- ggplot() + \n",
    "    geom_line(data = normalized_res_intervention_pre_or_no_relapse, aes(x = sample_timepoint_days_since_OP, y = correlation, color = Relapse, group=pt_id)) + \n",
    "    geom_line(data = normalized_res_intervention_relapses, aes(x = sample_timepoint_days_since_OP, y = correlation, color = Relapse, group=pt_id), linetype = \"dashed\") + \n",
    "    geom_point(data = res, aes(x = sample_timepoint_days_since_OP, y = correlation, color = Relapse))+ theme(text = element_text(size = 20))  #+ geom_text(data = res, aes(x = sample_timepoint_days_since_OP, y = correlation, color = Relapse, label=pt_id))\n",
    "\n",
    "\n",
    "ggsave(paste(\"plotting_results/Correlation_ctDNA_tumor_counts/\", correlation_file_name, \".png\", sep=\"\"),\n",
    "  combined_correlation_plot, width = 12, height = 8, dpi = \"print\")"
   ]
  },
  {
   "cell_type": "code",
   "execution_count": null,
   "id": "3c9b6c22-a8e5-4d43-9e27-fcdf6be289c8",
   "metadata": {},
   "outputs": [],
   "source": [
    "combined_correlation_plot"
   ]
  },
  {
   "cell_type": "code",
   "execution_count": null,
   "id": "ec7851f0-0225-49d4-b01b-93fe8817342a",
   "metadata": {},
   "outputs": [],
   "source": [
    "head(res)"
   ]
  },
  {
   "cell_type": "code",
   "execution_count": null,
   "id": "e6deb2e7-f0d4-445d-ac4d-1ef50602d778",
   "metadata": {},
   "outputs": [],
   "source": [
    "readcounts <- read.csv(\"data/read_counts.csv\")\n",
    "readcounts <- readcounts %>% select(-pt_id)"
   ]
  },
  {
   "cell_type": "code",
   "execution_count": null,
   "id": "ef173b07-1a55-4c04-88bc-78d91a5b7522",
   "metadata": {},
   "outputs": [],
   "source": [
    "readcounts <- left_join(res, readcounts, by=\"cfDNA_sample\")"
   ]
  },
  {
   "cell_type": "code",
   "execution_count": null,
   "id": "00429813-80e4-4953-ad3f-952c83d5d98e",
   "metadata": {},
   "outputs": [],
   "source": [
    "means_cor <- res %>% group_by(pt_id) %>% summarize(cor_mean = mean(correlation))\n",
    "head(means_cor)\n",
    "\n",
    "low_qual_sample <- read.table(\"../low_qual_sample.txt\")\n",
    "low_qual_sample <- as.character(unlist(c(low_qual_sample[1,])))"
   ]
  },
  {
   "cell_type": "code",
   "execution_count": null,
   "id": "d1513fe6-7278-45c5-8cca-1f119c2452c6",
   "metadata": {},
   "outputs": [],
   "source": [
    "normalized_res_intervention_pre_or_no_relapse$pt_id <- as.character(normalized_res_intervention_pre_or_no_relapse$pt_id)\n",
    "normalized_res_intervention_relapses$pt_id <- as.character(normalized_res_intervention_relapses$pt_id)\n",
    "res$pt_id <- as.character(res$pt_id)"
   ]
  },
  {
   "cell_type": "code",
   "execution_count": null,
   "id": "b819593a-e7bf-42cb-bf1e-84d9472d0ac4",
   "metadata": {},
   "outputs": [],
   "source": [
    "options(repr.plot.width=9, repr.plot.height=7)\n",
    "\n",
    "pt_id.labs <- c(paste(means_cor$pt_id, \",  mean cor: \", round(means_cor$cor_mean, 3), sep = \"\"))\n",
    "names(pt_id.labs) <- c(as.character(means_cor$pt_id))\n",
    "\n",
    "ggplot() + \n",
    "    geom_line(data = normalized_res_intervention_pre_or_no_relapse  %>% filter(pt_id != low_qual_sample), aes(x = sample_timepoint_days_since_OP, y = correlation, color = Relapse)) + \n",
    "    geom_line(data = normalized_res_intervention_relapses  %>% filter(pt_id != low_qual_sample), aes(x = sample_timepoint_days_since_OP, y = correlation, color = Relapse), linetype = \"dashed\") + \n",
    "    geom_point(data = res %>% filter(pt_id != low_qual_sample), aes(x = sample_timepoint_days_since_OP, y = correlation, color = Relapse))+ theme(text = element_text(size = 20)) +\n",
    "    theme_minimal() +\n",
    "    facet_wrap(~pt_id, labeller = labeller(pt_id = pt_id.labs), ncol = 2) +\n",
    "    scale_color_manual(values=c('#00BFC4', '#F8766D'), labels = c(\"No relapse\", \"Relapse\"))+\n",
    "    xlab(\"cfDNA sample timepoint (days since surgery)\") + \n",
    "    ylab(\"Correlation\") + \n",
    "    theme(strip.text.x = element_text(size = 12),\n",
    "          text = element_text(size = 12),\n",
    "          legend.text=element_text(size=12))"
   ]
  },
  {
   "cell_type": "code",
   "execution_count": null,
   "id": "0487f32c-5ba7-479e-958d-3639371d2445",
   "metadata": {},
   "outputs": [],
   "source": [
    "\n",
    "phaseIpt_R <- read.csv(\"../phaseI_pt_R.csv\", header=FALSE)\n",
    "phaseIpt_R <- as.character(unlist(c(phaseIpt_R[1,])))\n",
    "relapsing_pt <- phaseIpt_R\n",
    "\n",
    "res %>% filter(pt_id %in% relapsing_pt) %>% summarize(mean_cor = mean(correlation))\n",
    "res %>% filter(!(pt_id %in% relapsing_pt)) %>% filter(!(pt_id != low_qual_sample)) %>% summarize(mean_cor = mean(correlation))"
   ]
  },
  {
   "cell_type": "code",
   "execution_count": null,
   "id": "c9f70c76-13fc-4d53-bf6c-618adc043232",
   "metadata": {},
   "outputs": [],
   "source": [
    "normalized_res_intervention_pre_or_no_relapse %>% filter(pt_id %in% relapsing_pt) %>% \n",
    "    arrange(pt_id) %>% \n",
    "    group_by(pt_id) %>% \n",
    "    summarize(mean_cor = mean(correlation))"
   ]
  },
  {
   "cell_type": "code",
   "execution_count": null,
   "id": "e1367386-7ad9-4818-858f-fd63c9b63c3a",
   "metadata": {},
   "outputs": [],
   "source": [
    "relapsing_pt2 <- phaseIpt_R\n",
    "\n",
    "normalized_res_intervention_relapses_wo_min <- NULL\n",
    "for (i in relapsing_pt){\n",
    "    normalized_res_intervention_relapses_pt_min <- normalized_res_intervention_relapses %>% filter(pt_id == i) %>% \n",
    "        filter(sample_timepoint_days_since_OP != min(sample_timepoint_days_since_OP))\n",
    "    normalized_res_intervention_relapses_wo_min <- rbind(normalized_res_intervention_relapses_wo_min, normalized_res_intervention_relapses_pt_min)\n",
    "}\n",
    "\n",
    "normalized_res_intervention_relapses_wo_min %>% filter(pt_id %in% relapsing_pt) %>% \n",
    "    arrange(pt_id) %>% \n",
    "    group_by(pt_id) %>% summarize(mean_cor = mean(correlation))"
   ]
  },
  {
   "cell_type": "code",
   "execution_count": null,
   "id": "8895cbf6-50bc-408b-9c65-36154aafa305",
   "metadata": {},
   "outputs": [],
   "source": [
    "head(readcounts)"
   ]
  },
  {
   "cell_type": "code",
   "execution_count": null,
   "id": "fa0c2e70-ee7a-435c-bb48-523fd885bcf8",
   "metadata": {},
   "outputs": [],
   "source": [
    "options(repr.plot.width=8, repr.plot.height=12)\n",
    "\n",
    "ggplot() + \n",
    "    geom_line(data=readcounts, aes(x = sample_timepoint_days_since_OP, y = readcount, color = Relapse))+\n",
    "    geom_point(data=readcounts, aes(x = sample_timepoint_days_since_OP, y = readcount, color = Relapse))+\n",
    "    theme_minimal() +\n",
    "    facet_wrap(~pt_id, ncol =1, scales = \"free_y\")"
   ]
  },
  {
   "cell_type": "code",
   "execution_count": null,
   "id": "42b8b8c0-2af7-4baf-81c3-541b67b42aa9",
   "metadata": {},
   "outputs": [],
   "source": []
  },
  {
   "cell_type": "code",
   "execution_count": null,
   "id": "a4ca5247-d519-424c-a2fa-8f59c89ee40a",
   "metadata": {},
   "outputs": [],
   "source": []
  }
 ],
 "metadata": {
  "kernelspec": {
   "display_name": "R",
   "language": "R",
   "name": "ir"
  },
  "language_info": {
   "codemirror_mode": "r",
   "file_extension": ".r",
   "mimetype": "text/x-r-source",
   "name": "R",
   "pygments_lexer": "r",
   "version": "3.6.1"
  }
 },
 "nbformat": 4,
 "nbformat_minor": 5
}
