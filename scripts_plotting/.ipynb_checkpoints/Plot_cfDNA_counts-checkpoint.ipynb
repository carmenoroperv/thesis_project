{
 "cells": [
  {
   "cell_type": "code",
   "execution_count": 23,
   "id": "401bec87-2fb3-47ec-afd3-ccd49d16d264",
   "metadata": {},
   "outputs": [],
   "source": [
    "library(tidyverse)"
   ]
  },
  {
   "cell_type": "code",
   "execution_count": 24,
   "id": "7a80414e-c6e6-4e17-b853-017a3dd6b5b7",
   "metadata": {},
   "outputs": [],
   "source": [
    "data_folder <-  \"all_germline_filtered_bams_tumor_ci5_cs1e9\" #\"ci5_cs1e9\"  #  \"all_germline_ci5_cs1e9\" #\"all_germline_filtered_bams_tumor_ci5_cs1e9\"   \n",
    "big_ratio_file_name <- \"big_ratio.csv\" #\"big_ratio_singletons_excluded_tumor_4_cs.csv\" # \"big_ratio_all_germline_singletons_excluded_tumor_4_cs.csv\" #\"big_ratio.csv\" # #\n",
    "small_ratio_file_name <- \"small_ratio.csv\" #\"small_ratio_singletons_excluded_tumor_4_cs.csv\" #\"small_ratio_all_germline_singletons_excluded_tumor_4_cs.csv\" #\"small_ratio.csv\" # #"
   ]
  },
  {
   "cell_type": "code",
   "execution_count": 25,
   "id": "a74056bb-b39e-4f91-b402-828f901bb8e1",
   "metadata": {},
   "outputs": [],
   "source": [
    "paramspace <- read.csv(\"../data/metadata/paramspace_cfDNA_phaseI.csv\")"
   ]
  },
  {
   "cell_type": "code",
   "execution_count": 26,
   "id": "e6d10224-4594-482c-a4e8-9ca749bbc802",
   "metadata": {},
   "outputs": [],
   "source": [
    "paramspace <- paramspace %>% select(pt_id, cfDNA_folder)"
   ]
  },
  {
   "cell_type": "code",
   "execution_count": 27,
   "id": "9ca8ffcf-a278-44a7-a0f2-b51df2957b51",
   "metadata": {},
   "outputs": [
    {
     "data": {
      "text/html": [
       "<table>\n",
       "<thead><tr><th scope=col>pt_id</th><th scope=col>cfDNA_folder</th></tr></thead>\n",
       "<tbody>\n",
       "\t<tr><td>C04689                    </td><td>C303A04689D_cfdna_N295-103</td></tr>\n",
       "\t<tr><td>C04689                    </td><td>C305A04689D_cfdna_N295-71 </td></tr>\n",
       "\t<tr><td>C04689                    </td><td>C309A04689D_cfdna_N295-47 </td></tr>\n",
       "\t<tr><td>C04689                    </td><td>C302A04689D_cfdna_N295-102</td></tr>\n",
       "\t<tr><td>C04689                    </td><td>C299A04689D_cfdna_N295-99 </td></tr>\n",
       "\t<tr><td>C04689                    </td><td>C307A04689D_cfdna_N295-110</td></tr>\n",
       "</tbody>\n",
       "</table>\n"
      ],
      "text/latex": [
       "\\begin{tabular}{r|ll}\n",
       " pt\\_id & cfDNA\\_folder\\\\\n",
       "\\hline\n",
       "\t C04689                         & C303A04689D\\_cfdna\\_N295-103\\\\\n",
       "\t C04689                         & C305A04689D\\_cfdna\\_N295-71 \\\\\n",
       "\t C04689                         & C309A04689D\\_cfdna\\_N295-47 \\\\\n",
       "\t C04689                         & C302A04689D\\_cfdna\\_N295-102\\\\\n",
       "\t C04689                         & C299A04689D\\_cfdna\\_N295-99 \\\\\n",
       "\t C04689                         & C307A04689D\\_cfdna\\_N295-110\\\\\n",
       "\\end{tabular}\n"
      ],
      "text/markdown": [
       "\n",
       "| pt_id | cfDNA_folder |\n",
       "|---|---|\n",
       "| C04689                     | C303A04689D_cfdna_N295-103 |\n",
       "| C04689                     | C305A04689D_cfdna_N295-71  |\n",
       "| C04689                     | C309A04689D_cfdna_N295-47  |\n",
       "| C04689                     | C302A04689D_cfdna_N295-102 |\n",
       "| C04689                     | C299A04689D_cfdna_N295-99  |\n",
       "| C04689                     | C307A04689D_cfdna_N295-110 |\n",
       "\n"
      ],
      "text/plain": [
       "  pt_id  cfDNA_folder              \n",
       "1 C04689 C303A04689D_cfdna_N295-103\n",
       "2 C04689 C305A04689D_cfdna_N295-71 \n",
       "3 C04689 C309A04689D_cfdna_N295-47 \n",
       "4 C04689 C302A04689D_cfdna_N295-102\n",
       "5 C04689 C299A04689D_cfdna_N295-99 \n",
       "6 C04689 C307A04689D_cfdna_N295-110"
      ]
     },
     "metadata": {},
     "output_type": "display_data"
    }
   ],
   "source": [
    "head(paramspace)"
   ]
  },
  {
   "cell_type": "code",
   "execution_count": 28,
   "id": "d57dab3d-6bad-44e5-a5da-3cec4215568e",
   "metadata": {},
   "outputs": [],
   "source": [
    "patients <- as.character(unique(paramspace$pt_id))"
   ]
  },
  {
   "cell_type": "code",
   "execution_count": 29,
   "id": "33d2cb68-54fb-42ad-8e21-aab924a6eab8",
   "metadata": {},
   "outputs": [
    {
     "data": {
      "text/html": [
       "<ol class=list-inline>\n",
       "\t<li>'C04689'</li>\n",
       "\t<li>'C04816'</li>\n",
       "\t<li>'C04837'</li>\n",
       "\t<li>'C04849'</li>\n",
       "\t<li>'C04873'</li>\n",
       "\t<li>'C04874'</li>\n",
       "\t<li>'C04886'</li>\n",
       "\t<li>'C04887'</li>\n",
       "\t<li>'C05048'</li>\n",
       "\t<li>'C05073'</li>\n",
       "\t<li>'C05084'</li>\n",
       "\t<li>'C05118'</li>\n",
       "\t<li>'C05194'</li>\n",
       "\t<li>'C05234'</li>\n",
       "\t<li>'C05703'</li>\n",
       "</ol>\n"
      ],
      "text/latex": [
       "\\begin{enumerate*}\n",
       "\\item 'C04689'\n",
       "\\item 'C04816'\n",
       "\\item 'C04837'\n",
       "\\item 'C04849'\n",
       "\\item 'C04873'\n",
       "\\item 'C04874'\n",
       "\\item 'C04886'\n",
       "\\item 'C04887'\n",
       "\\item 'C05048'\n",
       "\\item 'C05073'\n",
       "\\item 'C05084'\n",
       "\\item 'C05118'\n",
       "\\item 'C05194'\n",
       "\\item 'C05234'\n",
       "\\item 'C05703'\n",
       "\\end{enumerate*}\n"
      ],
      "text/markdown": [
       "1. 'C04689'\n",
       "2. 'C04816'\n",
       "3. 'C04837'\n",
       "4. 'C04849'\n",
       "5. 'C04873'\n",
       "6. 'C04874'\n",
       "7. 'C04886'\n",
       "8. 'C04887'\n",
       "9. 'C05048'\n",
       "10. 'C05073'\n",
       "11. 'C05084'\n",
       "12. 'C05118'\n",
       "13. 'C05194'\n",
       "14. 'C05234'\n",
       "15. 'C05703'\n",
       "\n",
       "\n"
      ],
      "text/plain": [
       " [1] \"C04689\" \"C04816\" \"C04837\" \"C04849\" \"C04873\" \"C04874\" \"C04886\" \"C04887\"\n",
       " [9] \"C05048\" \"C05073\" \"C05084\" \"C05118\" \"C05194\" \"C05234\" \"C05703\""
      ]
     },
     "metadata": {},
     "output_type": "display_data"
    }
   ],
   "source": [
    "patients"
   ]
  },
  {
   "cell_type": "code",
   "execution_count": 30,
   "id": "cd335a0d-6c5c-456d-97f7-626b7439f7f1",
   "metadata": {},
   "outputs": [],
   "source": [
    "read_counts <- data.frame(matrix(ncol = 3, nrow = 0))\n",
    "colnames(read_counts) <-c(\"pt_id\", \"cfDNA_sample\", \"readcount\")"
   ]
  },
  {
   "cell_type": "code",
   "execution_count": 31,
   "id": "603ca2f9-d03d-4236-a454-5096f55e8220",
   "metadata": {},
   "outputs": [],
   "source": [
    "for (i in patients){\n",
    "    paramspace_patient <- paramspace %>% filter(pt_id == i)\n",
    "    for (j in paramspace_patient$cfDNA_folder){\n",
    "        reads <- read.csv(paste(\"../data/\", i, \"/\", j, \"/cs1e9/cfDNA_count.csv\", sep = \"\"), header=FALSE)\n",
    "        read_counts[nrow(read_counts)+1,] = c(i, j, reads)\n",
    "    }}"
   ]
  },
  {
   "cell_type": "code",
   "execution_count": 32,
   "id": "1ef6b54f-8267-4ba1-b394-da6a43036ad9",
   "metadata": {},
   "outputs": [
    {
     "data": {
      "text/html": [
       "<table>\n",
       "<thead><tr><th scope=col>pt_id</th><th scope=col>cfDNA_sample</th><th scope=col>readcount</th></tr></thead>\n",
       "<tbody>\n",
       "\t<tr><td>C04689                    </td><td>C303A04689D_cfdna_N295-103</td><td> 827991065                </td></tr>\n",
       "\t<tr><td>C04689                    </td><td>C305A04689D_cfdna_N295-71 </td><td> 883469138                </td></tr>\n",
       "\t<tr><td>C04689                    </td><td>C309A04689D_cfdna_N295-47 </td><td> 817835199                </td></tr>\n",
       "\t<tr><td>C04689                    </td><td>C302A04689D_cfdna_N295-102</td><td> 922155779                </td></tr>\n",
       "\t<tr><td>C04689                    </td><td>C299A04689D_cfdna_N295-99 </td><td> 932048828                </td></tr>\n",
       "\t<tr><td>C04689                    </td><td>C307A04689D_cfdna_N295-110</td><td> 890590110                </td></tr>\n",
       "\t<tr><td>C04689                    </td><td>C300A04689D_cfdna_N295-100</td><td>1146394933                </td></tr>\n",
       "\t<tr><td>C04689                    </td><td>C306A04689D_cfdna_N295-90 </td><td> 938698170                </td></tr>\n",
       "\t<tr><td>C04689                    </td><td>C312A04689D_cfdna_N295-162</td><td>1007226108                </td></tr>\n",
       "\t<tr><td>C04689                    </td><td>C311A04689D_cfdna_N295-157</td><td> 940465477                </td></tr>\n",
       "\t<tr><td>C04689                    </td><td>C304A04689D_cfdna_N295-60 </td><td> 996026744                </td></tr>\n",
       "\t<tr><td>C04689                    </td><td>C301A04689D_cfdna_N295-101</td><td> 878855829                </td></tr>\n",
       "\t<tr><td>C04689                    </td><td>C310A04689D_cfdna_N295-137</td><td>1045923472                </td></tr>\n",
       "\t<tr><td>C04689                    </td><td>C308A04689D_cfdna_N295-127</td><td> 870492543                </td></tr>\n",
       "\t<tr><td>C04816                    </td><td>C282A04816D_cfdna_N295-189</td><td> 822750246                </td></tr>\n",
       "\t<tr><td>C04816                    </td><td>C272A04816D_cfdna_N295-106</td><td> 901722601                </td></tr>\n",
       "\t<tr><td>C04816                    </td><td>C274A04816D_cfdna_N295-92 </td><td>1048756059                </td></tr>\n",
       "\t<tr><td>C04816                    </td><td>C278A04816D_cfdna_N295-144</td><td>1915957554                </td></tr>\n",
       "\t<tr><td>C04816                    </td><td>C280A04816D_cfdna_N295-161</td><td> 898726350                </td></tr>\n",
       "\t<tr><td>C04816                    </td><td>C273A04816D_cfdna_N295-68 </td><td> 840888213                </td></tr>\n",
       "\t<tr><td>C04816                    </td><td>C277A04816D_cfdna_N295-48 </td><td> 973187742                </td></tr>\n",
       "\t<tr><td>C04816                    </td><td>C281A04816D_cfdna_N295-178</td><td> 834785254                </td></tr>\n",
       "\t<tr><td>C04816                    </td><td>C270A04816D_cfdna_N295-104</td><td> 853424403                </td></tr>\n",
       "\t<tr><td>C04816                    </td><td>C271A04816D_cfdna_N295-105</td><td> 958928693                </td></tr>\n",
       "\t<tr><td>C04816                    </td><td>C276A04816D_cfdna_N295-120</td><td> 924793834                </td></tr>\n",
       "\t<tr><td>C04816                    </td><td>C279A04816D_cfdna_N295-152</td><td> 890496154                </td></tr>\n",
       "\t<tr><td>C04816                    </td><td>C283A04816D_cfdna_N295-196</td><td> 862660964                </td></tr>\n",
       "\t<tr><td>C04816                    </td><td>C275A04816D_cfdna_N295-98 </td><td> 900220429                </td></tr>\n",
       "\t<tr><td>C04837                    </td><td>C240A04837D_cfdna_N295-73 </td><td> 973631966                </td></tr>\n",
       "\t<tr><td>C04837                    </td><td>C239A04837D_cfdna_N295-72 </td><td>1022431538                </td></tr>\n",
       "\t<tr><td>...</td><td>...</td><td>...</td></tr>\n",
       "\t<tr><td>C05194                    </td><td>C261A05194D_cfdna_N295-194</td><td> 896620154                </td></tr>\n",
       "\t<tr><td>C05194                    </td><td>C266A05194D_cfdna_N295-125</td><td> 990999156                </td></tr>\n",
       "\t<tr><td>C05194                    </td><td>C262A05194D_cfdna_N295-200</td><td>1275105246                </td></tr>\n",
       "\t<tr><td>C05234                    </td><td>C397A05234D_cfdna_N295-57 </td><td>1072848339                </td></tr>\n",
       "\t<tr><td>C05234                    </td><td>C387A05234D_cfdna_N295-225</td><td> 964117375                </td></tr>\n",
       "\t<tr><td>C05234                    </td><td>C390A05234D_cfdna_N295-179</td><td> 817489515                </td></tr>\n",
       "\t<tr><td>C05234                    </td><td>C398A05234D_cfdna_N295-136</td><td>1045713218                </td></tr>\n",
       "\t<tr><td>C05234                    </td><td>C388A05234D_cfdna_N295-154</td><td>1126638534                </td></tr>\n",
       "\t<tr><td>C05234                    </td><td>C389A05234D_cfdna_N295-160</td><td>1065568566                </td></tr>\n",
       "\t<tr><td>C05234                    </td><td>C394A05234D_cfdna_N295-209</td><td>1406270661                </td></tr>\n",
       "\t<tr><td>C05234                    </td><td>C395A05234D_cfdna_N295-214</td><td>1137527994                </td></tr>\n",
       "\t<tr><td>C05234                    </td><td>C392A05234D_cfdna_N295-119</td><td> 970320693                </td></tr>\n",
       "\t<tr><td>C05234                    </td><td>C399A05234D_cfdna_N295-146</td><td> 964610129                </td></tr>\n",
       "\t<tr><td>C05234                    </td><td>C396A05234D_cfdna_N295-118</td><td> 970385375                </td></tr>\n",
       "\t<tr><td>C05234                    </td><td>C391A05234D_cfdna_N295-188</td><td> 889112093                </td></tr>\n",
       "\t<tr><td>C05234                    </td><td>C393A05234D_cfdna_N295-197</td><td> 995909231                </td></tr>\n",
       "\t<tr><td>C05234                    </td><td>C386A05234D_cfdna_N295-223</td><td> 697036089                </td></tr>\n",
       "\t<tr><td>C05703                    </td><td>C251A05703D_cfdna_N295-135</td><td>1008899402                </td></tr>\n",
       "\t<tr><td>C05703                    </td><td>C245A05703D_cfdna_N295-192</td><td> 850537811                </td></tr>\n",
       "\t<tr><td>C05703                    </td><td>C252A05703D_cfdna_N295-143</td><td>1008949448                </td></tr>\n",
       "\t<tr><td>C05703                    </td><td>C253A05703D_cfdna_N295-159</td><td> 949623487                </td></tr>\n",
       "\t<tr><td>C05703                    </td><td>C244A05703D_cfdna_N295-183</td><td> 791638186                </td></tr>\n",
       "\t<tr><td>C05703                    </td><td>C246A05703D_cfdna_N295-201</td><td>1347187755                </td></tr>\n",
       "\t<tr><td>C05703                    </td><td>C249A05703D_cfdna_N295-217</td><td>1280626607                </td></tr>\n",
       "\t<tr><td>C05703                    </td><td>C247A05703D_cfdna_N295-211</td><td>1295895453                </td></tr>\n",
       "\t<tr><td>C05703                    </td><td>C242A05703D_cfdna_N295-226</td><td>1093814759                </td></tr>\n",
       "\t<tr><td>C05703                    </td><td>C234A05703D_cfdna_N295-229</td><td> 884773787                </td></tr>\n",
       "\t<tr><td>C05703                    </td><td>C248A05703D_cfdna_N295-215</td><td>1219053351                </td></tr>\n",
       "\t<tr><td>C05703                    </td><td>C250A05703D_cfdna_N295-46 </td><td> 790212758                </td></tr>\n",
       "\t<tr><td>C05703                    </td><td>C243A05703D_cfdna_N295-171</td><td> 918017024                </td></tr>\n",
       "</tbody>\n",
       "</table>\n"
      ],
      "text/latex": [
       "\\begin{tabular}{r|lll}\n",
       " pt\\_id & cfDNA\\_sample & readcount\\\\\n",
       "\\hline\n",
       "\t C04689                         & C303A04689D\\_cfdna\\_N295-103 &  827991065                    \\\\\n",
       "\t C04689                         & C305A04689D\\_cfdna\\_N295-71  &  883469138                    \\\\\n",
       "\t C04689                         & C309A04689D\\_cfdna\\_N295-47  &  817835199                    \\\\\n",
       "\t C04689                         & C302A04689D\\_cfdna\\_N295-102 &  922155779                    \\\\\n",
       "\t C04689                         & C299A04689D\\_cfdna\\_N295-99  &  932048828                    \\\\\n",
       "\t C04689                         & C307A04689D\\_cfdna\\_N295-110 &  890590110                    \\\\\n",
       "\t C04689                         & C300A04689D\\_cfdna\\_N295-100 & 1146394933                    \\\\\n",
       "\t C04689                         & C306A04689D\\_cfdna\\_N295-90  &  938698170                    \\\\\n",
       "\t C04689                         & C312A04689D\\_cfdna\\_N295-162 & 1007226108                    \\\\\n",
       "\t C04689                         & C311A04689D\\_cfdna\\_N295-157 &  940465477                    \\\\\n",
       "\t C04689                         & C304A04689D\\_cfdna\\_N295-60  &  996026744                    \\\\\n",
       "\t C04689                         & C301A04689D\\_cfdna\\_N295-101 &  878855829                    \\\\\n",
       "\t C04689                         & C310A04689D\\_cfdna\\_N295-137 & 1045923472                    \\\\\n",
       "\t C04689                         & C308A04689D\\_cfdna\\_N295-127 &  870492543                    \\\\\n",
       "\t C04816                         & C282A04816D\\_cfdna\\_N295-189 &  822750246                    \\\\\n",
       "\t C04816                         & C272A04816D\\_cfdna\\_N295-106 &  901722601                    \\\\\n",
       "\t C04816                         & C274A04816D\\_cfdna\\_N295-92  & 1048756059                    \\\\\n",
       "\t C04816                         & C278A04816D\\_cfdna\\_N295-144 & 1915957554                    \\\\\n",
       "\t C04816                         & C280A04816D\\_cfdna\\_N295-161 &  898726350                    \\\\\n",
       "\t C04816                         & C273A04816D\\_cfdna\\_N295-68  &  840888213                    \\\\\n",
       "\t C04816                         & C277A04816D\\_cfdna\\_N295-48  &  973187742                    \\\\\n",
       "\t C04816                         & C281A04816D\\_cfdna\\_N295-178 &  834785254                    \\\\\n",
       "\t C04816                         & C270A04816D\\_cfdna\\_N295-104 &  853424403                    \\\\\n",
       "\t C04816                         & C271A04816D\\_cfdna\\_N295-105 &  958928693                    \\\\\n",
       "\t C04816                         & C276A04816D\\_cfdna\\_N295-120 &  924793834                    \\\\\n",
       "\t C04816                         & C279A04816D\\_cfdna\\_N295-152 &  890496154                    \\\\\n",
       "\t C04816                         & C283A04816D\\_cfdna\\_N295-196 &  862660964                    \\\\\n",
       "\t C04816                         & C275A04816D\\_cfdna\\_N295-98  &  900220429                    \\\\\n",
       "\t C04837                         & C240A04837D\\_cfdna\\_N295-73  &  973631966                    \\\\\n",
       "\t C04837                         & C239A04837D\\_cfdna\\_N295-72  & 1022431538                    \\\\\n",
       "\t ... & ... & ...\\\\\n",
       "\t C05194                         & C261A05194D\\_cfdna\\_N295-194 &  896620154                    \\\\\n",
       "\t C05194                         & C266A05194D\\_cfdna\\_N295-125 &  990999156                    \\\\\n",
       "\t C05194                         & C262A05194D\\_cfdna\\_N295-200 & 1275105246                    \\\\\n",
       "\t C05234                         & C397A05234D\\_cfdna\\_N295-57  & 1072848339                    \\\\\n",
       "\t C05234                         & C387A05234D\\_cfdna\\_N295-225 &  964117375                    \\\\\n",
       "\t C05234                         & C390A05234D\\_cfdna\\_N295-179 &  817489515                    \\\\\n",
       "\t C05234                         & C398A05234D\\_cfdna\\_N295-136 & 1045713218                    \\\\\n",
       "\t C05234                         & C388A05234D\\_cfdna\\_N295-154 & 1126638534                    \\\\\n",
       "\t C05234                         & C389A05234D\\_cfdna\\_N295-160 & 1065568566                    \\\\\n",
       "\t C05234                         & C394A05234D\\_cfdna\\_N295-209 & 1406270661                    \\\\\n",
       "\t C05234                         & C395A05234D\\_cfdna\\_N295-214 & 1137527994                    \\\\\n",
       "\t C05234                         & C392A05234D\\_cfdna\\_N295-119 &  970320693                    \\\\\n",
       "\t C05234                         & C399A05234D\\_cfdna\\_N295-146 &  964610129                    \\\\\n",
       "\t C05234                         & C396A05234D\\_cfdna\\_N295-118 &  970385375                    \\\\\n",
       "\t C05234                         & C391A05234D\\_cfdna\\_N295-188 &  889112093                    \\\\\n",
       "\t C05234                         & C393A05234D\\_cfdna\\_N295-197 &  995909231                    \\\\\n",
       "\t C05234                         & C386A05234D\\_cfdna\\_N295-223 &  697036089                    \\\\\n",
       "\t C05703                         & C251A05703D\\_cfdna\\_N295-135 & 1008899402                    \\\\\n",
       "\t C05703                         & C245A05703D\\_cfdna\\_N295-192 &  850537811                    \\\\\n",
       "\t C05703                         & C252A05703D\\_cfdna\\_N295-143 & 1008949448                    \\\\\n",
       "\t C05703                         & C253A05703D\\_cfdna\\_N295-159 &  949623487                    \\\\\n",
       "\t C05703                         & C244A05703D\\_cfdna\\_N295-183 &  791638186                    \\\\\n",
       "\t C05703                         & C246A05703D\\_cfdna\\_N295-201 & 1347187755                    \\\\\n",
       "\t C05703                         & C249A05703D\\_cfdna\\_N295-217 & 1280626607                    \\\\\n",
       "\t C05703                         & C247A05703D\\_cfdna\\_N295-211 & 1295895453                    \\\\\n",
       "\t C05703                         & C242A05703D\\_cfdna\\_N295-226 & 1093814759                    \\\\\n",
       "\t C05703                         & C234A05703D\\_cfdna\\_N295-229 &  884773787                    \\\\\n",
       "\t C05703                         & C248A05703D\\_cfdna\\_N295-215 & 1219053351                    \\\\\n",
       "\t C05703                         & C250A05703D\\_cfdna\\_N295-46  &  790212758                    \\\\\n",
       "\t C05703                         & C243A05703D\\_cfdna\\_N295-171 &  918017024                    \\\\\n",
       "\\end{tabular}\n"
      ],
      "text/markdown": [
       "\n",
       "| pt_id | cfDNA_sample | readcount |\n",
       "|---|---|---|\n",
       "| C04689                     | C303A04689D_cfdna_N295-103 |  827991065                 |\n",
       "| C04689                     | C305A04689D_cfdna_N295-71  |  883469138                 |\n",
       "| C04689                     | C309A04689D_cfdna_N295-47  |  817835199                 |\n",
       "| C04689                     | C302A04689D_cfdna_N295-102 |  922155779                 |\n",
       "| C04689                     | C299A04689D_cfdna_N295-99  |  932048828                 |\n",
       "| C04689                     | C307A04689D_cfdna_N295-110 |  890590110                 |\n",
       "| C04689                     | C300A04689D_cfdna_N295-100 | 1146394933                 |\n",
       "| C04689                     | C306A04689D_cfdna_N295-90  |  938698170                 |\n",
       "| C04689                     | C312A04689D_cfdna_N295-162 | 1007226108                 |\n",
       "| C04689                     | C311A04689D_cfdna_N295-157 |  940465477                 |\n",
       "| C04689                     | C304A04689D_cfdna_N295-60  |  996026744                 |\n",
       "| C04689                     | C301A04689D_cfdna_N295-101 |  878855829                 |\n",
       "| C04689                     | C310A04689D_cfdna_N295-137 | 1045923472                 |\n",
       "| C04689                     | C308A04689D_cfdna_N295-127 |  870492543                 |\n",
       "| C04816                     | C282A04816D_cfdna_N295-189 |  822750246                 |\n",
       "| C04816                     | C272A04816D_cfdna_N295-106 |  901722601                 |\n",
       "| C04816                     | C274A04816D_cfdna_N295-92  | 1048756059                 |\n",
       "| C04816                     | C278A04816D_cfdna_N295-144 | 1915957554                 |\n",
       "| C04816                     | C280A04816D_cfdna_N295-161 |  898726350                 |\n",
       "| C04816                     | C273A04816D_cfdna_N295-68  |  840888213                 |\n",
       "| C04816                     | C277A04816D_cfdna_N295-48  |  973187742                 |\n",
       "| C04816                     | C281A04816D_cfdna_N295-178 |  834785254                 |\n",
       "| C04816                     | C270A04816D_cfdna_N295-104 |  853424403                 |\n",
       "| C04816                     | C271A04816D_cfdna_N295-105 |  958928693                 |\n",
       "| C04816                     | C276A04816D_cfdna_N295-120 |  924793834                 |\n",
       "| C04816                     | C279A04816D_cfdna_N295-152 |  890496154                 |\n",
       "| C04816                     | C283A04816D_cfdna_N295-196 |  862660964                 |\n",
       "| C04816                     | C275A04816D_cfdna_N295-98  |  900220429                 |\n",
       "| C04837                     | C240A04837D_cfdna_N295-73  |  973631966                 |\n",
       "| C04837                     | C239A04837D_cfdna_N295-72  | 1022431538                 |\n",
       "| ... | ... | ... |\n",
       "| C05194                     | C261A05194D_cfdna_N295-194 |  896620154                 |\n",
       "| C05194                     | C266A05194D_cfdna_N295-125 |  990999156                 |\n",
       "| C05194                     | C262A05194D_cfdna_N295-200 | 1275105246                 |\n",
       "| C05234                     | C397A05234D_cfdna_N295-57  | 1072848339                 |\n",
       "| C05234                     | C387A05234D_cfdna_N295-225 |  964117375                 |\n",
       "| C05234                     | C390A05234D_cfdna_N295-179 |  817489515                 |\n",
       "| C05234                     | C398A05234D_cfdna_N295-136 | 1045713218                 |\n",
       "| C05234                     | C388A05234D_cfdna_N295-154 | 1126638534                 |\n",
       "| C05234                     | C389A05234D_cfdna_N295-160 | 1065568566                 |\n",
       "| C05234                     | C394A05234D_cfdna_N295-209 | 1406270661                 |\n",
       "| C05234                     | C395A05234D_cfdna_N295-214 | 1137527994                 |\n",
       "| C05234                     | C392A05234D_cfdna_N295-119 |  970320693                 |\n",
       "| C05234                     | C399A05234D_cfdna_N295-146 |  964610129                 |\n",
       "| C05234                     | C396A05234D_cfdna_N295-118 |  970385375                 |\n",
       "| C05234                     | C391A05234D_cfdna_N295-188 |  889112093                 |\n",
       "| C05234                     | C393A05234D_cfdna_N295-197 |  995909231                 |\n",
       "| C05234                     | C386A05234D_cfdna_N295-223 |  697036089                 |\n",
       "| C05703                     | C251A05703D_cfdna_N295-135 | 1008899402                 |\n",
       "| C05703                     | C245A05703D_cfdna_N295-192 |  850537811                 |\n",
       "| C05703                     | C252A05703D_cfdna_N295-143 | 1008949448                 |\n",
       "| C05703                     | C253A05703D_cfdna_N295-159 |  949623487                 |\n",
       "| C05703                     | C244A05703D_cfdna_N295-183 |  791638186                 |\n",
       "| C05703                     | C246A05703D_cfdna_N295-201 | 1347187755                 |\n",
       "| C05703                     | C249A05703D_cfdna_N295-217 | 1280626607                 |\n",
       "| C05703                     | C247A05703D_cfdna_N295-211 | 1295895453                 |\n",
       "| C05703                     | C242A05703D_cfdna_N295-226 | 1093814759                 |\n",
       "| C05703                     | C234A05703D_cfdna_N295-229 |  884773787                 |\n",
       "| C05703                     | C248A05703D_cfdna_N295-215 | 1219053351                 |\n",
       "| C05703                     | C250A05703D_cfdna_N295-46  |  790212758                 |\n",
       "| C05703                     | C243A05703D_cfdna_N295-171 |  918017024                 |\n",
       "\n"
      ],
      "text/plain": [
       "    pt_id  cfDNA_sample               readcount \n",
       "1   C04689 C303A04689D_cfdna_N295-103  827991065\n",
       "2   C04689 C305A04689D_cfdna_N295-71   883469138\n",
       "3   C04689 C309A04689D_cfdna_N295-47   817835199\n",
       "4   C04689 C302A04689D_cfdna_N295-102  922155779\n",
       "5   C04689 C299A04689D_cfdna_N295-99   932048828\n",
       "6   C04689 C307A04689D_cfdna_N295-110  890590110\n",
       "7   C04689 C300A04689D_cfdna_N295-100 1146394933\n",
       "8   C04689 C306A04689D_cfdna_N295-90   938698170\n",
       "9   C04689 C312A04689D_cfdna_N295-162 1007226108\n",
       "10  C04689 C311A04689D_cfdna_N295-157  940465477\n",
       "11  C04689 C304A04689D_cfdna_N295-60   996026744\n",
       "12  C04689 C301A04689D_cfdna_N295-101  878855829\n",
       "13  C04689 C310A04689D_cfdna_N295-137 1045923472\n",
       "14  C04689 C308A04689D_cfdna_N295-127  870492543\n",
       "15  C04816 C282A04816D_cfdna_N295-189  822750246\n",
       "16  C04816 C272A04816D_cfdna_N295-106  901722601\n",
       "17  C04816 C274A04816D_cfdna_N295-92  1048756059\n",
       "18  C04816 C278A04816D_cfdna_N295-144 1915957554\n",
       "19  C04816 C280A04816D_cfdna_N295-161  898726350\n",
       "20  C04816 C273A04816D_cfdna_N295-68   840888213\n",
       "21  C04816 C277A04816D_cfdna_N295-48   973187742\n",
       "22  C04816 C281A04816D_cfdna_N295-178  834785254\n",
       "23  C04816 C270A04816D_cfdna_N295-104  853424403\n",
       "24  C04816 C271A04816D_cfdna_N295-105  958928693\n",
       "25  C04816 C276A04816D_cfdna_N295-120  924793834\n",
       "26  C04816 C279A04816D_cfdna_N295-152  890496154\n",
       "27  C04816 C283A04816D_cfdna_N295-196  862660964\n",
       "28  C04816 C275A04816D_cfdna_N295-98   900220429\n",
       "29  C04837 C240A04837D_cfdna_N295-73   973631966\n",
       "30  C04837 C239A04837D_cfdna_N295-72  1022431538\n",
       "... ...    ...                        ...       \n",
       "161 C05194 C261A05194D_cfdna_N295-194  896620154\n",
       "162 C05194 C266A05194D_cfdna_N295-125  990999156\n",
       "163 C05194 C262A05194D_cfdna_N295-200 1275105246\n",
       "164 C05234 C397A05234D_cfdna_N295-57  1072848339\n",
       "165 C05234 C387A05234D_cfdna_N295-225  964117375\n",
       "166 C05234 C390A05234D_cfdna_N295-179  817489515\n",
       "167 C05234 C398A05234D_cfdna_N295-136 1045713218\n",
       "168 C05234 C388A05234D_cfdna_N295-154 1126638534\n",
       "169 C05234 C389A05234D_cfdna_N295-160 1065568566\n",
       "170 C05234 C394A05234D_cfdna_N295-209 1406270661\n",
       "171 C05234 C395A05234D_cfdna_N295-214 1137527994\n",
       "172 C05234 C392A05234D_cfdna_N295-119  970320693\n",
       "173 C05234 C399A05234D_cfdna_N295-146  964610129\n",
       "174 C05234 C396A05234D_cfdna_N295-118  970385375\n",
       "175 C05234 C391A05234D_cfdna_N295-188  889112093\n",
       "176 C05234 C393A05234D_cfdna_N295-197  995909231\n",
       "177 C05234 C386A05234D_cfdna_N295-223  697036089\n",
       "178 C05703 C251A05703D_cfdna_N295-135 1008899402\n",
       "179 C05703 C245A05703D_cfdna_N295-192  850537811\n",
       "180 C05703 C252A05703D_cfdna_N295-143 1008949448\n",
       "181 C05703 C253A05703D_cfdna_N295-159  949623487\n",
       "182 C05703 C244A05703D_cfdna_N295-183  791638186\n",
       "183 C05703 C246A05703D_cfdna_N295-201 1347187755\n",
       "184 C05703 C249A05703D_cfdna_N295-217 1280626607\n",
       "185 C05703 C247A05703D_cfdna_N295-211 1295895453\n",
       "186 C05703 C242A05703D_cfdna_N295-226 1093814759\n",
       "187 C05703 C234A05703D_cfdna_N295-229  884773787\n",
       "188 C05703 C248A05703D_cfdna_N295-215 1219053351\n",
       "189 C05703 C250A05703D_cfdna_N295-46   790212758\n",
       "190 C05703 C243A05703D_cfdna_N295-171  918017024"
      ]
     },
     "metadata": {},
     "output_type": "display_data"
    }
   ],
   "source": [
    "read_counts"
   ]
  },
  {
   "cell_type": "code",
   "execution_count": 33,
   "id": "0bfcd5cf-e745-48ca-b970-635779eea333",
   "metadata": {},
   "outputs": [],
   "source": [
    "write.csv(read_counts, \"../data/read_counts.csv\", row.names=FALSE)"
   ]
  },
  {
   "cell_type": "markdown",
   "id": "38b449d0-d198-425c-92a3-e7a70bb814f6",
   "metadata": {},
   "source": [
    "## Combine the ratios for all patients in one data frame"
   ]
  },
  {
   "cell_type": "code",
   "execution_count": 34,
   "id": "72d9297b-1ef8-44a3-97c7-062a88bda00e",
   "metadata": {},
   "outputs": [],
   "source": [
    "big_ratio <- data.frame(matrix(ncol = 3, nrow = 0))\n",
    "colnames(big_ratio) <-c(\"pt_id\", \"cfDNA_sample\", \"big_ratio\")"
   ]
  },
  {
   "cell_type": "code",
   "execution_count": 35,
   "id": "8d5e261e-5a43-409d-942f-2683a0e9c1af",
   "metadata": {},
   "outputs": [],
   "source": [
    "for (i in patients){\n",
    "    paramspace_patient <- paramspace %>% filter(pt_id == i)\n",
    "    for (j in paramspace_patient$cfDNA_folder){\n",
    "        reads <- read.csv(paste(\"../data/\", i, \"/\", j, \"/\", data_folder, \"/\", big_ratio_file_name, sep = \"\"))\n",
    "        reads <- reads %>% select(ratio)\n",
    "        big_ratio[nrow(big_ratio)+1,] = c(i, j, reads)\n",
    "    }}"
   ]
  },
  {
   "cell_type": "code",
   "execution_count": 36,
   "id": "606ed9c9-8a3b-4e49-9f4d-f3bc7951b5de",
   "metadata": {},
   "outputs": [],
   "source": [
    "small_ratio <- data.frame(matrix(ncol = 3, nrow = 0))\n",
    "colnames(small_ratio) <-c(\"pt_id\", \"cfDNA_sample\", \"small_ratio\")"
   ]
  },
  {
   "cell_type": "code",
   "execution_count": 37,
   "id": "ddad3e28-07bc-42c5-8486-5e87580ce492",
   "metadata": {},
   "outputs": [],
   "source": [
    "for (i in patients){\n",
    "    paramspace_patient <- paramspace %>% filter(pt_id == i)\n",
    "    for (j in paramspace_patient$cfDNA_folder){\n",
    "        reads <- read.csv(paste(\"../data/\", i, \"/\", j, \"/\", data_folder, \"/\", small_ratio_file_name, sep = \"\"))\n",
    "        reads <- reads %>% select(ratio)\n",
    "        small_ratio[nrow(small_ratio)+1,] = c(i, j, reads)\n",
    "    }}"
   ]
  },
  {
   "cell_type": "code",
   "execution_count": null,
   "id": "e7adcf3a-7d38-404f-8bf9-68c00e06c2b0",
   "metadata": {},
   "outputs": [],
   "source": []
  },
  {
   "cell_type": "code",
   "execution_count": null,
   "id": "2f79e014-17f8-427a-89b3-a801a2cd4440",
   "metadata": {},
   "outputs": [],
   "source": []
  },
  {
   "cell_type": "markdown",
   "id": "6c791f82-7007-49cb-ab15-d2affcb9e9bb",
   "metadata": {},
   "source": [
    "## Plots"
   ]
  },
  {
   "cell_type": "code",
   "execution_count": 38,
   "id": "881d59d8-7db2-415f-932e-c550e71d8186",
   "metadata": {},
   "outputs": [],
   "source": [
    "big_ratio <- big_ratio %>% select(\"cfDNA_sample\", \"big_ratio\")"
   ]
  },
  {
   "cell_type": "code",
   "execution_count": 39,
   "id": "3643b46c-44b5-4149-978f-18b270dd5f96",
   "metadata": {},
   "outputs": [],
   "source": [
    "small_ratio <- small_ratio %>% select(\"cfDNA_sample\", \"small_ratio\")"
   ]
  },
  {
   "cell_type": "code",
   "execution_count": 40,
   "id": "ce636b5d-4d26-48d6-97b3-91c27db474be",
   "metadata": {},
   "outputs": [],
   "source": [
    "ratios_and_counts <- left_join(read_counts, big_ratio, by=\"cfDNA_sample\")\n",
    "ratios_and_counts <- left_join(ratios_and_counts, small_ratio, by=\"cfDNA_sample\")"
   ]
  },
  {
   "cell_type": "code",
   "execution_count": 41,
   "id": "aa55b8bf-991f-4de2-8614-1f9d29af87bc",
   "metadata": {},
   "outputs": [
    {
     "data": {
      "text/html": [
       "-0.032530522713989"
      ],
      "text/latex": [
       "-0.032530522713989"
      ],
      "text/markdown": [
       "-0.032530522713989"
      ],
      "text/plain": [
       "[1] -0.03253052"
      ]
     },
     "metadata": {},
     "output_type": "display_data"
    }
   ],
   "source": [
    "cor(ratios_and_counts$big_ratio, ratios_and_counts$readcount)"
   ]
  },
  {
   "cell_type": "code",
   "execution_count": 42,
   "id": "1d6c67dc-b5f4-49f0-a43e-1eb5167c5c65",
   "metadata": {},
   "outputs": [
    {
     "data": {
      "image/png": "[encoded data removed]",
      "text/plain": [
       "plot without title"
      ]
     },
     "metadata": {},
     "output_type": "display_data"
    }
   ],
   "source": [
    "ggplot(data = ratios_and_counts)+\n",
    "    geom_point(aes(x = big_ratio, y = readcount, color = pt_id))\n",
    "    #+geom_text(aes(x = big_ratio, y = readcount, label = pt_id))"
   ]
  },
  {
   "cell_type": "code",
   "execution_count": 43,
   "id": "b682be0d-6576-4e90-8351-26bbd45588ec",
   "metadata": {},
   "outputs": [
    {
     "name": "stderr",
     "output_type": "stream",
     "text": [
      "Saving 6.67 x 6.67 in image\n"
     ]
    }
   ],
   "source": [
    "ggsave(paste(\"../plotting_results/Correlation_readcounts/\", data_folder, \"_big_ratio\", \".png\", sep=\"\"))"
   ]
  },
  {
   "cell_type": "code",
   "execution_count": 44,
   "id": "d74f01cd-414a-4f5e-87a4-4b529c6e5f64",
   "metadata": {},
   "outputs": [
    {
     "data": {
      "text/html": [
       "-0.00411498173766723"
      ],
      "text/latex": [
       "-0.00411498173766723"
      ],
      "text/markdown": [
       "-0.00411498173766723"
      ],
      "text/plain": [
       "[1] -0.004114982"
      ]
     },
     "metadata": {},
     "output_type": "display_data"
    }
   ],
   "source": [
    "cor(ratios_and_counts$small_ratio, ratios_and_counts$readcount)"
   ]
  },
  {
   "cell_type": "code",
   "execution_count": 45,
   "id": "3222ec4e-4c36-45d9-a9e8-df201d85963e",
   "metadata": {},
   "outputs": [
    {
     "data": {
      "image/png": "[encoded data removed]",
      "text/plain": [
       "plot without title"
      ]
     },
     "metadata": {},
     "output_type": "display_data"
    }
   ],
   "source": [
    "ggplot(data = ratios_and_counts)+\n",
    "    geom_point(aes(x = small_ratio, y = readcount, color = pt_id))"
   ]
  },
  {
   "cell_type": "code",
   "execution_count": 46,
   "id": "8977756e-40e4-4174-9eb5-9bc2b3291315",
   "metadata": {},
   "outputs": [
    {
     "name": "stderr",
     "output_type": "stream",
     "text": [
      "Saving 6.67 x 6.67 in image\n"
     ]
    }
   ],
   "source": [
    "ggsave(paste(\"../plotting_results/Correlation_readcounts/\", data_folder, \"_small_ratio\", \".png\", sep=\"\"))"
   ]
  },
  {
   "cell_type": "code",
   "execution_count": 47,
   "id": "c422ddee-cce1-4c6c-a00d-d5d411ace152",
   "metadata": {},
   "outputs": [],
   "source": [
    "pt_correlation <- ratios_and_counts %>% group_by(pt_id)  %>% transmute(corr_big = cor(readcount, big_ratio), corr_small = cor(readcount, small_ratio)) %>% unique()"
   ]
  },
  {
   "cell_type": "code",
   "execution_count": 48,
   "id": "441b8433-f120-4a75-bc86-b2623f407905",
   "metadata": {},
   "outputs": [
    {
     "data": {
      "text/html": [
       "<table>\n",
       "<thead><tr><th scope=col>pt_id</th><th scope=col>corr_big</th><th scope=col>corr_small</th></tr></thead>\n",
       "<tbody>\n",
       "\t<tr><td>C04689      </td><td> 0.112494605</td><td>0.142243737 </td></tr>\n",
       "\t<tr><td>C04816      </td><td>-0.098241505</td><td>0.512349426 </td></tr>\n",
       "\t<tr><td>C04837      </td><td>-0.403668151</td><td>0.371890954 </td></tr>\n",
       "\t<tr><td>C04849      </td><td> 0.119725960</td><td>0.670126484 </td></tr>\n",
       "\t<tr><td>C04873      </td><td>-0.431295834</td><td>0.218824344 </td></tr>\n",
       "\t<tr><td>C04874      </td><td> 0.094169118</td><td>0.397157462 </td></tr>\n",
       "\t<tr><td>C04886      </td><td>-0.185062471</td><td>0.650822771 </td></tr>\n",
       "\t<tr><td>C04887      </td><td>-0.399167060</td><td>0.373025888 </td></tr>\n",
       "\t<tr><td>C05048      </td><td>-0.129225996</td><td>0.002438326 </td></tr>\n",
       "\t<tr><td>C05073      </td><td> 0.204101613</td><td>0.078320002 </td></tr>\n",
       "\t<tr><td>C05084      </td><td> 0.367884425</td><td>0.364517071 </td></tr>\n",
       "\t<tr><td>C05118      </td><td> 0.007476516</td><td>0.048090551 </td></tr>\n",
       "\t<tr><td>C05194      </td><td> 0.358372020</td><td>0.837372062 </td></tr>\n",
       "\t<tr><td>C05234      </td><td> 0.054255070</td><td>0.365346643 </td></tr>\n",
       "\t<tr><td>C05703      </td><td> 0.015505935</td><td>0.769756828 </td></tr>\n",
       "</tbody>\n",
       "</table>\n"
      ],
      "text/latex": [
       "\\begin{tabular}{r|lll}\n",
       " pt\\_id & corr\\_big & corr\\_small\\\\\n",
       "\\hline\n",
       "\t C04689       &  0.112494605 & 0.142243737 \\\\\n",
       "\t C04816       & -0.098241505 & 0.512349426 \\\\\n",
       "\t C04837       & -0.403668151 & 0.371890954 \\\\\n",
       "\t C04849       &  0.119725960 & 0.670126484 \\\\\n",
       "\t C04873       & -0.431295834 & 0.218824344 \\\\\n",
       "\t C04874       &  0.094169118 & 0.397157462 \\\\\n",
       "\t C04886       & -0.185062471 & 0.650822771 \\\\\n",
       "\t C04887       & -0.399167060 & 0.373025888 \\\\\n",
       "\t C05048       & -0.129225996 & 0.002438326 \\\\\n",
       "\t C05073       &  0.204101613 & 0.078320002 \\\\\n",
       "\t C05084       &  0.367884425 & 0.364517071 \\\\\n",
       "\t C05118       &  0.007476516 & 0.048090551 \\\\\n",
       "\t C05194       &  0.358372020 & 0.837372062 \\\\\n",
       "\t C05234       &  0.054255070 & 0.365346643 \\\\\n",
       "\t C05703       &  0.015505935 & 0.769756828 \\\\\n",
       "\\end{tabular}\n"
      ],
      "text/markdown": [
       "\n",
       "| pt_id | corr_big | corr_small |\n",
       "|---|---|---|\n",
       "| C04689       |  0.112494605 | 0.142243737  |\n",
       "| C04816       | -0.098241505 | 0.512349426  |\n",
       "| C04837       | -0.403668151 | 0.371890954  |\n",
       "| C04849       |  0.119725960 | 0.670126484  |\n",
       "| C04873       | -0.431295834 | 0.218824344  |\n",
       "| C04874       |  0.094169118 | 0.397157462  |\n",
       "| C04886       | -0.185062471 | 0.650822771  |\n",
       "| C04887       | -0.399167060 | 0.373025888  |\n",
       "| C05048       | -0.129225996 | 0.002438326  |\n",
       "| C05073       |  0.204101613 | 0.078320002  |\n",
       "| C05084       |  0.367884425 | 0.364517071  |\n",
       "| C05118       |  0.007476516 | 0.048090551  |\n",
       "| C05194       |  0.358372020 | 0.837372062  |\n",
       "| C05234       |  0.054255070 | 0.365346643  |\n",
       "| C05703       |  0.015505935 | 0.769756828  |\n",
       "\n"
      ],
      "text/plain": [
       "   pt_id  corr_big     corr_small \n",
       "1  C04689  0.112494605 0.142243737\n",
       "2  C04816 -0.098241505 0.512349426\n",
       "3  C04837 -0.403668151 0.371890954\n",
       "4  C04849  0.119725960 0.670126484\n",
       "5  C04873 -0.431295834 0.218824344\n",
       "6  C04874  0.094169118 0.397157462\n",
       "7  C04886 -0.185062471 0.650822771\n",
       "8  C04887 -0.399167060 0.373025888\n",
       "9  C05048 -0.129225996 0.002438326\n",
       "10 C05073  0.204101613 0.078320002\n",
       "11 C05084  0.367884425 0.364517071\n",
       "12 C05118  0.007476516 0.048090551\n",
       "13 C05194  0.358372020 0.837372062\n",
       "14 C05234  0.054255070 0.365346643\n",
       "15 C05703  0.015505935 0.769756828"
      ]
     },
     "metadata": {},
     "output_type": "display_data"
    }
   ],
   "source": [
    "pt_correlation"
   ]
  },
  {
   "cell_type": "code",
   "execution_count": 49,
   "id": "901edd10-65e8-4feb-9044-b41484f8efb1",
   "metadata": {},
   "outputs": [
    {
     "data": {
      "text/html": [
       "-0.0208450502579662"
      ],
      "text/latex": [
       "-0.0208450502579662"
      ],
      "text/markdown": [
       "-0.0208450502579662"
      ],
      "text/plain": [
       "[1] -0.02084505"
      ]
     },
     "metadata": {},
     "output_type": "display_data"
    },
    {
     "data": {
      "text/html": [
       "0.386818836602437"
      ],
      "text/latex": [
       "0.386818836602437"
      ],
      "text/markdown": [
       "0.386818836602437"
      ],
      "text/plain": [
       "[1] 0.3868188"
      ]
     },
     "metadata": {},
     "output_type": "display_data"
    }
   ],
   "source": [
    "mean_big = mean(pt_correlation$corr_big)\n",
    "mean_big\n",
    "\n",
    "mean_small = mean(pt_correlation$corr_small)\n",
    "mean_small"
   ]
  },
  {
   "cell_type": "code",
   "execution_count": 50,
   "id": "ffd05dc4-cdb8-4763-8c66-059f88aebc23",
   "metadata": {},
   "outputs": [],
   "source": [
    "write.csv(pt_correlation, paste(\"../plotting_results/Correlation_readcounts/\", data_folder, \".csv\", sep=\"\"), row.names= FALSE)"
   ]
  },
  {
   "cell_type": "code",
   "execution_count": 51,
   "id": "1f52e25a-e0aa-47ef-abbc-583f05ff627c",
   "metadata": {},
   "outputs": [
    {
     "data": {
      "text/html": [
       "<table>\n",
       "<thead><tr><th scope=col>pt_id</th><th scope=col>corr_big</th><th scope=col>corr_small</th></tr></thead>\n",
       "<tbody>\n",
       "\t<tr><td>C04689      </td><td> 0.112494605</td><td>0.142243737 </td></tr>\n",
       "\t<tr><td>C04816      </td><td>-0.098241505</td><td>0.512349426 </td></tr>\n",
       "\t<tr><td>C04837      </td><td>-0.403668151</td><td>0.371890954 </td></tr>\n",
       "\t<tr><td>C04849      </td><td> 0.119725960</td><td>0.670126484 </td></tr>\n",
       "\t<tr><td>C04873      </td><td>-0.431295834</td><td>0.218824344 </td></tr>\n",
       "\t<tr><td>C04874      </td><td> 0.094169118</td><td>0.397157462 </td></tr>\n",
       "\t<tr><td>C04886      </td><td>-0.185062471</td><td>0.650822771 </td></tr>\n",
       "\t<tr><td>C04887      </td><td>-0.399167060</td><td>0.373025888 </td></tr>\n",
       "\t<tr><td>C05048      </td><td>-0.129225996</td><td>0.002438326 </td></tr>\n",
       "\t<tr><td>C05073      </td><td> 0.204101613</td><td>0.078320002 </td></tr>\n",
       "\t<tr><td>C05084      </td><td> 0.367884425</td><td>0.364517071 </td></tr>\n",
       "\t<tr><td>C05118      </td><td> 0.007476516</td><td>0.048090551 </td></tr>\n",
       "\t<tr><td>C05194      </td><td> 0.358372020</td><td>0.837372062 </td></tr>\n",
       "\t<tr><td>C05234      </td><td> 0.054255070</td><td>0.365346643 </td></tr>\n",
       "\t<tr><td>C05703      </td><td> 0.015505935</td><td>0.769756828 </td></tr>\n",
       "</tbody>\n",
       "</table>\n"
      ],
      "text/latex": [
       "\\begin{tabular}{r|lll}\n",
       " pt\\_id & corr\\_big & corr\\_small\\\\\n",
       "\\hline\n",
       "\t C04689       &  0.112494605 & 0.142243737 \\\\\n",
       "\t C04816       & -0.098241505 & 0.512349426 \\\\\n",
       "\t C04837       & -0.403668151 & 0.371890954 \\\\\n",
       "\t C04849       &  0.119725960 & 0.670126484 \\\\\n",
       "\t C04873       & -0.431295834 & 0.218824344 \\\\\n",
       "\t C04874       &  0.094169118 & 0.397157462 \\\\\n",
       "\t C04886       & -0.185062471 & 0.650822771 \\\\\n",
       "\t C04887       & -0.399167060 & 0.373025888 \\\\\n",
       "\t C05048       & -0.129225996 & 0.002438326 \\\\\n",
       "\t C05073       &  0.204101613 & 0.078320002 \\\\\n",
       "\t C05084       &  0.367884425 & 0.364517071 \\\\\n",
       "\t C05118       &  0.007476516 & 0.048090551 \\\\\n",
       "\t C05194       &  0.358372020 & 0.837372062 \\\\\n",
       "\t C05234       &  0.054255070 & 0.365346643 \\\\\n",
       "\t C05703       &  0.015505935 & 0.769756828 \\\\\n",
       "\\end{tabular}\n"
      ],
      "text/markdown": [
       "\n",
       "| pt_id | corr_big | corr_small |\n",
       "|---|---|---|\n",
       "| C04689       |  0.112494605 | 0.142243737  |\n",
       "| C04816       | -0.098241505 | 0.512349426  |\n",
       "| C04837       | -0.403668151 | 0.371890954  |\n",
       "| C04849       |  0.119725960 | 0.670126484  |\n",
       "| C04873       | -0.431295834 | 0.218824344  |\n",
       "| C04874       |  0.094169118 | 0.397157462  |\n",
       "| C04886       | -0.185062471 | 0.650822771  |\n",
       "| C04887       | -0.399167060 | 0.373025888  |\n",
       "| C05048       | -0.129225996 | 0.002438326  |\n",
       "| C05073       |  0.204101613 | 0.078320002  |\n",
       "| C05084       |  0.367884425 | 0.364517071  |\n",
       "| C05118       |  0.007476516 | 0.048090551  |\n",
       "| C05194       |  0.358372020 | 0.837372062  |\n",
       "| C05234       |  0.054255070 | 0.365346643  |\n",
       "| C05703       |  0.015505935 | 0.769756828  |\n",
       "\n"
      ],
      "text/plain": [
       "   pt_id  corr_big     corr_small \n",
       "1  C04689  0.112494605 0.142243737\n",
       "2  C04816 -0.098241505 0.512349426\n",
       "3  C04837 -0.403668151 0.371890954\n",
       "4  C04849  0.119725960 0.670126484\n",
       "5  C04873 -0.431295834 0.218824344\n",
       "6  C04874  0.094169118 0.397157462\n",
       "7  C04886 -0.185062471 0.650822771\n",
       "8  C04887 -0.399167060 0.373025888\n",
       "9  C05048 -0.129225996 0.002438326\n",
       "10 C05073  0.204101613 0.078320002\n",
       "11 C05084  0.367884425 0.364517071\n",
       "12 C05118  0.007476516 0.048090551\n",
       "13 C05194  0.358372020 0.837372062\n",
       "14 C05234  0.054255070 0.365346643\n",
       "15 C05703  0.015505935 0.769756828"
      ]
     },
     "metadata": {},
     "output_type": "display_data"
    }
   ],
   "source": [
    "pt_correlation"
   ]
  },
  {
   "cell_type": "code",
   "execution_count": 52,
   "id": "fe5d2553-9d68-461b-96bc-d77f87d3250e",
   "metadata": {},
   "outputs": [
    {
     "data": {
      "text/html": [
       "<table>\n",
       "<thead><tr><th scope=col>pt_id</th><th scope=col>cfDNA_sample</th><th scope=col>readcount</th><th scope=col>big_ratio</th><th scope=col>small_ratio</th></tr></thead>\n",
       "<tbody>\n",
       "\t<tr><td>C04689                    </td><td>C303A04689D_cfdna_N295-103</td><td> 827991065                </td><td>0.051587019               </td><td>0.07806884                </td></tr>\n",
       "\t<tr><td>C04689                    </td><td>C305A04689D_cfdna_N295-71 </td><td> 883469138                </td><td>0.050885396               </td><td>0.07956767                </td></tr>\n",
       "\t<tr><td>C04689                    </td><td>C309A04689D_cfdna_N295-47 </td><td> 817835199                </td><td>0.051647013               </td><td>0.07749676                </td></tr>\n",
       "\t<tr><td>C04689                    </td><td>C302A04689D_cfdna_N295-102</td><td> 922155779                </td><td>0.052144842               </td><td>0.07836441                </td></tr>\n",
       "\t<tr><td>C04689                    </td><td>C299A04689D_cfdna_N295-99 </td><td> 932048828                </td><td>0.052791006               </td><td>0.09294082                </td></tr>\n",
       "\t<tr><td>C04689                    </td><td>C307A04689D_cfdna_N295-110</td><td> 890590110                </td><td>0.052239141               </td><td>0.07821757                </td></tr>\n",
       "\t<tr><td>C04689                    </td><td>C300A04689D_cfdna_N295-100</td><td>1146394933                </td><td>0.052265153               </td><td>0.08002914                </td></tr>\n",
       "\t<tr><td>C04689                    </td><td>C306A04689D_cfdna_N295-90 </td><td> 938698170                </td><td>0.051409515               </td><td>0.07861993                </td></tr>\n",
       "\t<tr><td>C04689                    </td><td>C312A04689D_cfdna_N295-162</td><td>1007226108                </td><td>0.051256005               </td><td>0.07921107                </td></tr>\n",
       "\t<tr><td>C04689                    </td><td>C311A04689D_cfdna_N295-157</td><td> 940465477                </td><td>0.051948056               </td><td>0.07920726                </td></tr>\n",
       "\t<tr><td>C04689                    </td><td>C304A04689D_cfdna_N295-60 </td><td> 996026744                </td><td>0.051492972               </td><td>0.07893076                </td></tr>\n",
       "\t<tr><td>C04689                    </td><td>C301A04689D_cfdna_N295-101</td><td> 878855829                </td><td>0.051663837               </td><td>0.07811842                </td></tr>\n",
       "\t<tr><td>C04689                    </td><td>C310A04689D_cfdna_N295-137</td><td>1045923472                </td><td>0.051569434               </td><td>0.07898034                </td></tr>\n",
       "\t<tr><td>C04689                    </td><td>C308A04689D_cfdna_N295-127</td><td> 870492543                </td><td>0.052092246               </td><td>0.07704101                </td></tr>\n",
       "\t<tr><td>C04816                    </td><td>C282A04816D_cfdna_N295-189</td><td> 822750246                </td><td>0.016263696               </td><td>0.12862124                </td></tr>\n",
       "\t<tr><td>C04816                    </td><td>C272A04816D_cfdna_N295-106</td><td> 901722601                </td><td>0.004467288               </td><td>0.05698298                </td></tr>\n",
       "\t<tr><td>C04816                    </td><td>C274A04816D_cfdna_N295-92 </td><td>1048756059                </td><td>0.003747883               </td><td>0.05758374                </td></tr>\n",
       "\t<tr><td>C04816                    </td><td>C278A04816D_cfdna_N295-144</td><td>1915957554                </td><td>0.005618014               </td><td>0.13127380                </td></tr>\n",
       "\t<tr><td>C04816                    </td><td>C280A04816D_cfdna_N295-161</td><td> 898726350                </td><td>0.005805690               </td><td>0.06729937                </td></tr>\n",
       "\t<tr><td>C04816                    </td><td>C273A04816D_cfdna_N295-68 </td><td> 840888213                </td><td>0.003644722               </td><td>0.04765594                </td></tr>\n",
       "\t<tr><td>C04816                    </td><td>C277A04816D_cfdna_N295-48 </td><td> 973187742                </td><td>0.013473674               </td><td>0.12966600                </td></tr>\n",
       "\t<tr><td>C04816                    </td><td>C281A04816D_cfdna_N295-178</td><td> 834785254                </td><td>0.004895051               </td><td>0.05207100                </td></tr>\n",
       "\t<tr><td>C04816                    </td><td>C270A04816D_cfdna_N295-104</td><td> 853424403                </td><td>0.005324785               </td><td>0.06444776                </td></tr>\n",
       "\t<tr><td>C04816                    </td><td>C271A04816D_cfdna_N295-105</td><td> 958928693                </td><td>0.006488325               </td><td>0.08191655                </td></tr>\n",
       "\t<tr><td>C04816                    </td><td>C276A04816D_cfdna_N295-120</td><td> 924793834                </td><td>0.006623869               </td><td>0.07627135                </td></tr>\n",
       "\t<tr><td>C04816                    </td><td>C279A04816D_cfdna_N295-152</td><td> 890496154                </td><td>0.007135422               </td><td>0.08486406                </td></tr>\n",
       "\t<tr><td>C04816                    </td><td>C283A04816D_cfdna_N295-196</td><td> 862660964                </td><td>0.005241269               </td><td>0.05830696                </td></tr>\n",
       "\t<tr><td>C04816                    </td><td>C275A04816D_cfdna_N295-98 </td><td> 900220429                </td><td>0.004034317               </td><td>0.05282428                </td></tr>\n",
       "\t<tr><td>C04837                    </td><td>C240A04837D_cfdna_N295-73 </td><td> 973631966                </td><td>0.086505290               </td><td>0.13660317                </td></tr>\n",
       "\t<tr><td>C04837                    </td><td>C239A04837D_cfdna_N295-72 </td><td>1022431538                </td><td>0.085196642               </td><td>0.13401119                </td></tr>\n",
       "\t<tr><td>...</td><td>...</td><td>...</td><td>...</td><td>...</td></tr>\n",
       "\t<tr><td>C05194                    </td><td>C261A05194D_cfdna_N295-194</td><td> 896620154                </td><td>0.001022969               </td><td>0.006007366               </td></tr>\n",
       "\t<tr><td>C05194                    </td><td>C266A05194D_cfdna_N295-125</td><td> 990999156                </td><td>0.001056671               </td><td>0.007399632               </td></tr>\n",
       "\t<tr><td>C05194                    </td><td>C262A05194D_cfdna_N295-200</td><td>1275105246                </td><td>0.001014028               </td><td>0.009499079               </td></tr>\n",
       "\t<tr><td>C05234                    </td><td>C397A05234D_cfdna_N295-57 </td><td>1072848339                </td><td>0.622126441               </td><td>0.961769461               </td></tr>\n",
       "\t<tr><td>C05234                    </td><td>C387A05234D_cfdna_N295-225</td><td> 964117375                </td><td>0.633099228               </td><td>0.958256530               </td></tr>\n",
       "\t<tr><td>C05234                    </td><td>C390A05234D_cfdna_N295-179</td><td> 817489515                </td><td>0.622331679               </td><td>0.958406405               </td></tr>\n",
       "\t<tr><td>C05234                    </td><td>C398A05234D_cfdna_N295-136</td><td>1045713218                </td><td>0.634260063               </td><td>0.962478855               </td></tr>\n",
       "\t<tr><td>C05234                    </td><td>C388A05234D_cfdna_N295-154</td><td>1126638534                </td><td>0.636024523               </td><td>0.980265352               </td></tr>\n",
       "\t<tr><td>C05234                    </td><td>C389A05234D_cfdna_N295-160</td><td>1065568566                </td><td>0.671965872               </td><td>0.990224749               </td></tr>\n",
       "\t<tr><td>C05234                    </td><td>C394A05234D_cfdna_N295-209</td><td>1406270661                </td><td>0.621106006               </td><td>0.964459448               </td></tr>\n",
       "\t<tr><td>C05234                    </td><td>C395A05234D_cfdna_N295-214</td><td>1137527994                </td><td>0.622472620               </td><td>0.970666707               </td></tr>\n",
       "\t<tr><td>C05234                    </td><td>C392A05234D_cfdna_N295-119</td><td> 970320693                </td><td>0.623246875               </td><td>0.964325794               </td></tr>\n",
       "\t<tr><td>C05234                    </td><td>C399A05234D_cfdna_N295-146</td><td> 964610129                </td><td>0.626448305               </td><td>0.974984304               </td></tr>\n",
       "\t<tr><td>C05234                    </td><td>C396A05234D_cfdna_N295-118</td><td> 970385375                </td><td>0.626032753               </td><td>0.961416934               </td></tr>\n",
       "\t<tr><td>C05234                    </td><td>C391A05234D_cfdna_N295-188</td><td> 889112093                </td><td>0.627573089               </td><td>0.961668935               </td></tr>\n",
       "\t<tr><td>C05234                    </td><td>C393A05234D_cfdna_N295-197</td><td> 995909231                </td><td>0.652898910               </td><td>0.986057941               </td></tr>\n",
       "\t<tr><td>C05234                    </td><td>C386A05234D_cfdna_N295-223</td><td> 697036089                </td><td>0.625094408               </td><td>0.952484046               </td></tr>\n",
       "\t<tr><td>C05703                    </td><td>C251A05703D_cfdna_N295-135</td><td>1008899402                </td><td>0.019296866               </td><td>0.035744075               </td></tr>\n",
       "\t<tr><td>C05703                    </td><td>C245A05703D_cfdna_N295-192</td><td> 850537811                </td><td>0.020036929               </td><td>0.033366464               </td></tr>\n",
       "\t<tr><td>C05703                    </td><td>C252A05703D_cfdna_N295-143</td><td>1008949448                </td><td>0.019991373               </td><td>0.034833957               </td></tr>\n",
       "\t<tr><td>C05703                    </td><td>C253A05703D_cfdna_N295-159</td><td> 949623487                </td><td>0.019748771               </td><td>0.034245401               </td></tr>\n",
       "\t<tr><td>C05703                    </td><td>C244A05703D_cfdna_N295-183</td><td> 791638186                </td><td>0.020253607               </td><td>0.032216635               </td></tr>\n",
       "\t<tr><td>C05703                    </td><td>C246A05703D_cfdna_N295-201</td><td>1347187755                </td><td>0.020578358               </td><td>0.036691222               </td></tr>\n",
       "\t<tr><td>C05703                    </td><td>C249A05703D_cfdna_N295-217</td><td>1280626607                </td><td>0.019558542               </td><td>0.039392345               </td></tr>\n",
       "\t<tr><td>C05703                    </td><td>C247A05703D_cfdna_N295-211</td><td>1295895453                </td><td>0.020082175               </td><td>0.038297085               </td></tr>\n",
       "\t<tr><td>C05703                    </td><td>C242A05703D_cfdna_N295-226</td><td>1093814759                </td><td>0.019628570               </td><td>0.034648815               </td></tr>\n",
       "\t<tr><td>C05703                    </td><td>C234A05703D_cfdna_N295-229</td><td> 884773787                </td><td>0.019028599               </td><td>0.031959386               </td></tr>\n",
       "\t<tr><td>C05703                    </td><td>C248A05703D_cfdna_N295-215</td><td>1219053351                </td><td>0.019801709               </td><td>0.036930932               </td></tr>\n",
       "\t<tr><td>C05703                    </td><td>C250A05703D_cfdna_N295-46 </td><td> 790212758                </td><td>0.020494082               </td><td>0.036500234               </td></tr>\n",
       "\t<tr><td>C05703                    </td><td>C243A05703D_cfdna_N295-171</td><td> 918017024                </td><td>0.020117443               </td><td>0.033917992               </td></tr>\n",
       "</tbody>\n",
       "</table>\n"
      ],
      "text/latex": [
       "\\begin{tabular}{r|lllll}\n",
       " pt\\_id & cfDNA\\_sample & readcount & big\\_ratio & small\\_ratio\\\\\n",
       "\\hline\n",
       "\t C04689                         & C303A04689D\\_cfdna\\_N295-103 &  827991065                     & 0.051587019                    & 0.07806884                    \\\\\n",
       "\t C04689                         & C305A04689D\\_cfdna\\_N295-71  &  883469138                     & 0.050885396                    & 0.07956767                    \\\\\n",
       "\t C04689                         & C309A04689D\\_cfdna\\_N295-47  &  817835199                     & 0.051647013                    & 0.07749676                    \\\\\n",
       "\t C04689                         & C302A04689D\\_cfdna\\_N295-102 &  922155779                     & 0.052144842                    & 0.07836441                    \\\\\n",
       "\t C04689                         & C299A04689D\\_cfdna\\_N295-99  &  932048828                     & 0.052791006                    & 0.09294082                    \\\\\n",
       "\t C04689                         & C307A04689D\\_cfdna\\_N295-110 &  890590110                     & 0.052239141                    & 0.07821757                    \\\\\n",
       "\t C04689                         & C300A04689D\\_cfdna\\_N295-100 & 1146394933                     & 0.052265153                    & 0.08002914                    \\\\\n",
       "\t C04689                         & C306A04689D\\_cfdna\\_N295-90  &  938698170                     & 0.051409515                    & 0.07861993                    \\\\\n",
       "\t C04689                         & C312A04689D\\_cfdna\\_N295-162 & 1007226108                     & 0.051256005                    & 0.07921107                    \\\\\n",
       "\t C04689                         & C311A04689D\\_cfdna\\_N295-157 &  940465477                     & 0.051948056                    & 0.07920726                    \\\\\n",
       "\t C04689                         & C304A04689D\\_cfdna\\_N295-60  &  996026744                     & 0.051492972                    & 0.07893076                    \\\\\n",
       "\t C04689                         & C301A04689D\\_cfdna\\_N295-101 &  878855829                     & 0.051663837                    & 0.07811842                    \\\\\n",
       "\t C04689                         & C310A04689D\\_cfdna\\_N295-137 & 1045923472                     & 0.051569434                    & 0.07898034                    \\\\\n",
       "\t C04689                         & C308A04689D\\_cfdna\\_N295-127 &  870492543                     & 0.052092246                    & 0.07704101                    \\\\\n",
       "\t C04816                         & C282A04816D\\_cfdna\\_N295-189 &  822750246                     & 0.016263696                    & 0.12862124                    \\\\\n",
       "\t C04816                         & C272A04816D\\_cfdna\\_N295-106 &  901722601                     & 0.004467288                    & 0.05698298                    \\\\\n",
       "\t C04816                         & C274A04816D\\_cfdna\\_N295-92  & 1048756059                     & 0.003747883                    & 0.05758374                    \\\\\n",
       "\t C04816                         & C278A04816D\\_cfdna\\_N295-144 & 1915957554                     & 0.005618014                    & 0.13127380                    \\\\\n",
       "\t C04816                         & C280A04816D\\_cfdna\\_N295-161 &  898726350                     & 0.005805690                    & 0.06729937                    \\\\\n",
       "\t C04816                         & C273A04816D\\_cfdna\\_N295-68  &  840888213                     & 0.003644722                    & 0.04765594                    \\\\\n",
       "\t C04816                         & C277A04816D\\_cfdna\\_N295-48  &  973187742                     & 0.013473674                    & 0.12966600                    \\\\\n",
       "\t C04816                         & C281A04816D\\_cfdna\\_N295-178 &  834785254                     & 0.004895051                    & 0.05207100                    \\\\\n",
       "\t C04816                         & C270A04816D\\_cfdna\\_N295-104 &  853424403                     & 0.005324785                    & 0.06444776                    \\\\\n",
       "\t C04816                         & C271A04816D\\_cfdna\\_N295-105 &  958928693                     & 0.006488325                    & 0.08191655                    \\\\\n",
       "\t C04816                         & C276A04816D\\_cfdna\\_N295-120 &  924793834                     & 0.006623869                    & 0.07627135                    \\\\\n",
       "\t C04816                         & C279A04816D\\_cfdna\\_N295-152 &  890496154                     & 0.007135422                    & 0.08486406                    \\\\\n",
       "\t C04816                         & C283A04816D\\_cfdna\\_N295-196 &  862660964                     & 0.005241269                    & 0.05830696                    \\\\\n",
       "\t C04816                         & C275A04816D\\_cfdna\\_N295-98  &  900220429                     & 0.004034317                    & 0.05282428                    \\\\\n",
       "\t C04837                         & C240A04837D\\_cfdna\\_N295-73  &  973631966                     & 0.086505290                    & 0.13660317                    \\\\\n",
       "\t C04837                         & C239A04837D\\_cfdna\\_N295-72  & 1022431538                     & 0.085196642                    & 0.13401119                    \\\\\n",
       "\t ... & ... & ... & ... & ...\\\\\n",
       "\t C05194                         & C261A05194D\\_cfdna\\_N295-194 &  896620154                     & 0.001022969                    & 0.006007366                   \\\\\n",
       "\t C05194                         & C266A05194D\\_cfdna\\_N295-125 &  990999156                     & 0.001056671                    & 0.007399632                   \\\\\n",
       "\t C05194                         & C262A05194D\\_cfdna\\_N295-200 & 1275105246                     & 0.001014028                    & 0.009499079                   \\\\\n",
       "\t C05234                         & C397A05234D\\_cfdna\\_N295-57  & 1072848339                     & 0.622126441                    & 0.961769461                   \\\\\n",
       "\t C05234                         & C387A05234D\\_cfdna\\_N295-225 &  964117375                     & 0.633099228                    & 0.958256530                   \\\\\n",
       "\t C05234                         & C390A05234D\\_cfdna\\_N295-179 &  817489515                     & 0.622331679                    & 0.958406405                   \\\\\n",
       "\t C05234                         & C398A05234D\\_cfdna\\_N295-136 & 1045713218                     & 0.634260063                    & 0.962478855                   \\\\\n",
       "\t C05234                         & C388A05234D\\_cfdna\\_N295-154 & 1126638534                     & 0.636024523                    & 0.980265352                   \\\\\n",
       "\t C05234                         & C389A05234D\\_cfdna\\_N295-160 & 1065568566                     & 0.671965872                    & 0.990224749                   \\\\\n",
       "\t C05234                         & C394A05234D\\_cfdna\\_N295-209 & 1406270661                     & 0.621106006                    & 0.964459448                   \\\\\n",
       "\t C05234                         & C395A05234D\\_cfdna\\_N295-214 & 1137527994                     & 0.622472620                    & 0.970666707                   \\\\\n",
       "\t C05234                         & C392A05234D\\_cfdna\\_N295-119 &  970320693                     & 0.623246875                    & 0.964325794                   \\\\\n",
       "\t C05234                         & C399A05234D\\_cfdna\\_N295-146 &  964610129                     & 0.626448305                    & 0.974984304                   \\\\\n",
       "\t C05234                         & C396A05234D\\_cfdna\\_N295-118 &  970385375                     & 0.626032753                    & 0.961416934                   \\\\\n",
       "\t C05234                         & C391A05234D\\_cfdna\\_N295-188 &  889112093                     & 0.627573089                    & 0.961668935                   \\\\\n",
       "\t C05234                         & C393A05234D\\_cfdna\\_N295-197 &  995909231                     & 0.652898910                    & 0.986057941                   \\\\\n",
       "\t C05234                         & C386A05234D\\_cfdna\\_N295-223 &  697036089                     & 0.625094408                    & 0.952484046                   \\\\\n",
       "\t C05703                         & C251A05703D\\_cfdna\\_N295-135 & 1008899402                     & 0.019296866                    & 0.035744075                   \\\\\n",
       "\t C05703                         & C245A05703D\\_cfdna\\_N295-192 &  850537811                     & 0.020036929                    & 0.033366464                   \\\\\n",
       "\t C05703                         & C252A05703D\\_cfdna\\_N295-143 & 1008949448                     & 0.019991373                    & 0.034833957                   \\\\\n",
       "\t C05703                         & C253A05703D\\_cfdna\\_N295-159 &  949623487                     & 0.019748771                    & 0.034245401                   \\\\\n",
       "\t C05703                         & C244A05703D\\_cfdna\\_N295-183 &  791638186                     & 0.020253607                    & 0.032216635                   \\\\\n",
       "\t C05703                         & C246A05703D\\_cfdna\\_N295-201 & 1347187755                     & 0.020578358                    & 0.036691222                   \\\\\n",
       "\t C05703                         & C249A05703D\\_cfdna\\_N295-217 & 1280626607                     & 0.019558542                    & 0.039392345                   \\\\\n",
       "\t C05703                         & C247A05703D\\_cfdna\\_N295-211 & 1295895453                     & 0.020082175                    & 0.038297085                   \\\\\n",
       "\t C05703                         & C242A05703D\\_cfdna\\_N295-226 & 1093814759                     & 0.019628570                    & 0.034648815                   \\\\\n",
       "\t C05703                         & C234A05703D\\_cfdna\\_N295-229 &  884773787                     & 0.019028599                    & 0.031959386                   \\\\\n",
       "\t C05703                         & C248A05703D\\_cfdna\\_N295-215 & 1219053351                     & 0.019801709                    & 0.036930932                   \\\\\n",
       "\t C05703                         & C250A05703D\\_cfdna\\_N295-46  &  790212758                     & 0.020494082                    & 0.036500234                   \\\\\n",
       "\t C05703                         & C243A05703D\\_cfdna\\_N295-171 &  918017024                     & 0.020117443                    & 0.033917992                   \\\\\n",
       "\\end{tabular}\n"
      ],
      "text/markdown": [
       "\n",
       "| pt_id | cfDNA_sample | readcount | big_ratio | small_ratio |\n",
       "|---|---|---|---|---|\n",
       "| C04689                     | C303A04689D_cfdna_N295-103 |  827991065                 | 0.051587019                | 0.07806884                 |\n",
       "| C04689                     | C305A04689D_cfdna_N295-71  |  883469138                 | 0.050885396                | 0.07956767                 |\n",
       "| C04689                     | C309A04689D_cfdna_N295-47  |  817835199                 | 0.051647013                | 0.07749676                 |\n",
       "| C04689                     | C302A04689D_cfdna_N295-102 |  922155779                 | 0.052144842                | 0.07836441                 |\n",
       "| C04689                     | C299A04689D_cfdna_N295-99  |  932048828                 | 0.052791006                | 0.09294082                 |\n",
       "| C04689                     | C307A04689D_cfdna_N295-110 |  890590110                 | 0.052239141                | 0.07821757                 |\n",
       "| C04689                     | C300A04689D_cfdna_N295-100 | 1146394933                 | 0.052265153                | 0.08002914                 |\n",
       "| C04689                     | C306A04689D_cfdna_N295-90  |  938698170                 | 0.051409515                | 0.07861993                 |\n",
       "| C04689                     | C312A04689D_cfdna_N295-162 | 1007226108                 | 0.051256005                | 0.07921107                 |\n",
       "| C04689                     | C311A04689D_cfdna_N295-157 |  940465477                 | 0.051948056                | 0.07920726                 |\n",
       "| C04689                     | C304A04689D_cfdna_N295-60  |  996026744                 | 0.051492972                | 0.07893076                 |\n",
       "| C04689                     | C301A04689D_cfdna_N295-101 |  878855829                 | 0.051663837                | 0.07811842                 |\n",
       "| C04689                     | C310A04689D_cfdna_N295-137 | 1045923472                 | 0.051569434                | 0.07898034                 |\n",
       "| C04689                     | C308A04689D_cfdna_N295-127 |  870492543                 | 0.052092246                | 0.07704101                 |\n",
       "| C04816                     | C282A04816D_cfdna_N295-189 |  822750246                 | 0.016263696                | 0.12862124                 |\n",
       "| C04816                     | C272A04816D_cfdna_N295-106 |  901722601                 | 0.004467288                | 0.05698298                 |\n",
       "| C04816                     | C274A04816D_cfdna_N295-92  | 1048756059                 | 0.003747883                | 0.05758374                 |\n",
       "| C04816                     | C278A04816D_cfdna_N295-144 | 1915957554                 | 0.005618014                | 0.13127380                 |\n",
       "| C04816                     | C280A04816D_cfdna_N295-161 |  898726350                 | 0.005805690                | 0.06729937                 |\n",
       "| C04816                     | C273A04816D_cfdna_N295-68  |  840888213                 | 0.003644722                | 0.04765594                 |\n",
       "| C04816                     | C277A04816D_cfdna_N295-48  |  973187742                 | 0.013473674                | 0.12966600                 |\n",
       "| C04816                     | C281A04816D_cfdna_N295-178 |  834785254                 | 0.004895051                | 0.05207100                 |\n",
       "| C04816                     | C270A04816D_cfdna_N295-104 |  853424403                 | 0.005324785                | 0.06444776                 |\n",
       "| C04816                     | C271A04816D_cfdna_N295-105 |  958928693                 | 0.006488325                | 0.08191655                 |\n",
       "| C04816                     | C276A04816D_cfdna_N295-120 |  924793834                 | 0.006623869                | 0.07627135                 |\n",
       "| C04816                     | C279A04816D_cfdna_N295-152 |  890496154                 | 0.007135422                | 0.08486406                 |\n",
       "| C04816                     | C283A04816D_cfdna_N295-196 |  862660964                 | 0.005241269                | 0.05830696                 |\n",
       "| C04816                     | C275A04816D_cfdna_N295-98  |  900220429                 | 0.004034317                | 0.05282428                 |\n",
       "| C04837                     | C240A04837D_cfdna_N295-73  |  973631966                 | 0.086505290                | 0.13660317                 |\n",
       "| C04837                     | C239A04837D_cfdna_N295-72  | 1022431538                 | 0.085196642                | 0.13401119                 |\n",
       "| ... | ... | ... | ... | ... |\n",
       "| C05194                     | C261A05194D_cfdna_N295-194 |  896620154                 | 0.001022969                | 0.006007366                |\n",
       "| C05194                     | C266A05194D_cfdna_N295-125 |  990999156                 | 0.001056671                | 0.007399632                |\n",
       "| C05194                     | C262A05194D_cfdna_N295-200 | 1275105246                 | 0.001014028                | 0.009499079                |\n",
       "| C05234                     | C397A05234D_cfdna_N295-57  | 1072848339                 | 0.622126441                | 0.961769461                |\n",
       "| C05234                     | C387A05234D_cfdna_N295-225 |  964117375                 | 0.633099228                | 0.958256530                |\n",
       "| C05234                     | C390A05234D_cfdna_N295-179 |  817489515                 | 0.622331679                | 0.958406405                |\n",
       "| C05234                     | C398A05234D_cfdna_N295-136 | 1045713218                 | 0.634260063                | 0.962478855                |\n",
       "| C05234                     | C388A05234D_cfdna_N295-154 | 1126638534                 | 0.636024523                | 0.980265352                |\n",
       "| C05234                     | C389A05234D_cfdna_N295-160 | 1065568566                 | 0.671965872                | 0.990224749                |\n",
       "| C05234                     | C394A05234D_cfdna_N295-209 | 1406270661                 | 0.621106006                | 0.964459448                |\n",
       "| C05234                     | C395A05234D_cfdna_N295-214 | 1137527994                 | 0.622472620                | 0.970666707                |\n",
       "| C05234                     | C392A05234D_cfdna_N295-119 |  970320693                 | 0.623246875                | 0.964325794                |\n",
       "| C05234                     | C399A05234D_cfdna_N295-146 |  964610129                 | 0.626448305                | 0.974984304                |\n",
       "| C05234                     | C396A05234D_cfdna_N295-118 |  970385375                 | 0.626032753                | 0.961416934                |\n",
       "| C05234                     | C391A05234D_cfdna_N295-188 |  889112093                 | 0.627573089                | 0.961668935                |\n",
       "| C05234                     | C393A05234D_cfdna_N295-197 |  995909231                 | 0.652898910                | 0.986057941                |\n",
       "| C05234                     | C386A05234D_cfdna_N295-223 |  697036089                 | 0.625094408                | 0.952484046                |\n",
       "| C05703                     | C251A05703D_cfdna_N295-135 | 1008899402                 | 0.019296866                | 0.035744075                |\n",
       "| C05703                     | C245A05703D_cfdna_N295-192 |  850537811                 | 0.020036929                | 0.033366464                |\n",
       "| C05703                     | C252A05703D_cfdna_N295-143 | 1008949448                 | 0.019991373                | 0.034833957                |\n",
       "| C05703                     | C253A05703D_cfdna_N295-159 |  949623487                 | 0.019748771                | 0.034245401                |\n",
       "| C05703                     | C244A05703D_cfdna_N295-183 |  791638186                 | 0.020253607                | 0.032216635                |\n",
       "| C05703                     | C246A05703D_cfdna_N295-201 | 1347187755                 | 0.020578358                | 0.036691222                |\n",
       "| C05703                     | C249A05703D_cfdna_N295-217 | 1280626607                 | 0.019558542                | 0.039392345                |\n",
       "| C05703                     | C247A05703D_cfdna_N295-211 | 1295895453                 | 0.020082175                | 0.038297085                |\n",
       "| C05703                     | C242A05703D_cfdna_N295-226 | 1093814759                 | 0.019628570                | 0.034648815                |\n",
       "| C05703                     | C234A05703D_cfdna_N295-229 |  884773787                 | 0.019028599                | 0.031959386                |\n",
       "| C05703                     | C248A05703D_cfdna_N295-215 | 1219053351                 | 0.019801709                | 0.036930932                |\n",
       "| C05703                     | C250A05703D_cfdna_N295-46  |  790212758                 | 0.020494082                | 0.036500234                |\n",
       "| C05703                     | C243A05703D_cfdna_N295-171 |  918017024                 | 0.020117443                | 0.033917992                |\n",
       "\n"
      ],
      "text/plain": [
       "    pt_id  cfDNA_sample               readcount  big_ratio   small_ratio\n",
       "1   C04689 C303A04689D_cfdna_N295-103  827991065 0.051587019 0.07806884 \n",
       "2   C04689 C305A04689D_cfdna_N295-71   883469138 0.050885396 0.07956767 \n",
       "3   C04689 C309A04689D_cfdna_N295-47   817835199 0.051647013 0.07749676 \n",
       "4   C04689 C302A04689D_cfdna_N295-102  922155779 0.052144842 0.07836441 \n",
       "5   C04689 C299A04689D_cfdna_N295-99   932048828 0.052791006 0.09294082 \n",
       "6   C04689 C307A04689D_cfdna_N295-110  890590110 0.052239141 0.07821757 \n",
       "7   C04689 C300A04689D_cfdna_N295-100 1146394933 0.052265153 0.08002914 \n",
       "8   C04689 C306A04689D_cfdna_N295-90   938698170 0.051409515 0.07861993 \n",
       "9   C04689 C312A04689D_cfdna_N295-162 1007226108 0.051256005 0.07921107 \n",
       "10  C04689 C311A04689D_cfdna_N295-157  940465477 0.051948056 0.07920726 \n",
       "11  C04689 C304A04689D_cfdna_N295-60   996026744 0.051492972 0.07893076 \n",
       "12  C04689 C301A04689D_cfdna_N295-101  878855829 0.051663837 0.07811842 \n",
       "13  C04689 C310A04689D_cfdna_N295-137 1045923472 0.051569434 0.07898034 \n",
       "14  C04689 C308A04689D_cfdna_N295-127  870492543 0.052092246 0.07704101 \n",
       "15  C04816 C282A04816D_cfdna_N295-189  822750246 0.016263696 0.12862124 \n",
       "16  C04816 C272A04816D_cfdna_N295-106  901722601 0.004467288 0.05698298 \n",
       "17  C04816 C274A04816D_cfdna_N295-92  1048756059 0.003747883 0.05758374 \n",
       "18  C04816 C278A04816D_cfdna_N295-144 1915957554 0.005618014 0.13127380 \n",
       "19  C04816 C280A04816D_cfdna_N295-161  898726350 0.005805690 0.06729937 \n",
       "20  C04816 C273A04816D_cfdna_N295-68   840888213 0.003644722 0.04765594 \n",
       "21  C04816 C277A04816D_cfdna_N295-48   973187742 0.013473674 0.12966600 \n",
       "22  C04816 C281A04816D_cfdna_N295-178  834785254 0.004895051 0.05207100 \n",
       "23  C04816 C270A04816D_cfdna_N295-104  853424403 0.005324785 0.06444776 \n",
       "24  C04816 C271A04816D_cfdna_N295-105  958928693 0.006488325 0.08191655 \n",
       "25  C04816 C276A04816D_cfdna_N295-120  924793834 0.006623869 0.07627135 \n",
       "26  C04816 C279A04816D_cfdna_N295-152  890496154 0.007135422 0.08486406 \n",
       "27  C04816 C283A04816D_cfdna_N295-196  862660964 0.005241269 0.05830696 \n",
       "28  C04816 C275A04816D_cfdna_N295-98   900220429 0.004034317 0.05282428 \n",
       "29  C04837 C240A04837D_cfdna_N295-73   973631966 0.086505290 0.13660317 \n",
       "30  C04837 C239A04837D_cfdna_N295-72  1022431538 0.085196642 0.13401119 \n",
       "... ...    ...                        ...        ...         ...        \n",
       "161 C05194 C261A05194D_cfdna_N295-194  896620154 0.001022969 0.006007366\n",
       "162 C05194 C266A05194D_cfdna_N295-125  990999156 0.001056671 0.007399632\n",
       "163 C05194 C262A05194D_cfdna_N295-200 1275105246 0.001014028 0.009499079\n",
       "164 C05234 C397A05234D_cfdna_N295-57  1072848339 0.622126441 0.961769461\n",
       "165 C05234 C387A05234D_cfdna_N295-225  964117375 0.633099228 0.958256530\n",
       "166 C05234 C390A05234D_cfdna_N295-179  817489515 0.622331679 0.958406405\n",
       "167 C05234 C398A05234D_cfdna_N295-136 1045713218 0.634260063 0.962478855\n",
       "168 C05234 C388A05234D_cfdna_N295-154 1126638534 0.636024523 0.980265352\n",
       "169 C05234 C389A05234D_cfdna_N295-160 1065568566 0.671965872 0.990224749\n",
       "170 C05234 C394A05234D_cfdna_N295-209 1406270661 0.621106006 0.964459448\n",
       "171 C05234 C395A05234D_cfdna_N295-214 1137527994 0.622472620 0.970666707\n",
       "172 C05234 C392A05234D_cfdna_N295-119  970320693 0.623246875 0.964325794\n",
       "173 C05234 C399A05234D_cfdna_N295-146  964610129 0.626448305 0.974984304\n",
       "174 C05234 C396A05234D_cfdna_N295-118  970385375 0.626032753 0.961416934\n",
       "175 C05234 C391A05234D_cfdna_N295-188  889112093 0.627573089 0.961668935\n",
       "176 C05234 C393A05234D_cfdna_N295-197  995909231 0.652898910 0.986057941\n",
       "177 C05234 C386A05234D_cfdna_N295-223  697036089 0.625094408 0.952484046\n",
       "178 C05703 C251A05703D_cfdna_N295-135 1008899402 0.019296866 0.035744075\n",
       "179 C05703 C245A05703D_cfdna_N295-192  850537811 0.020036929 0.033366464\n",
       "180 C05703 C252A05703D_cfdna_N295-143 1008949448 0.019991373 0.034833957\n",
       "181 C05703 C253A05703D_cfdna_N295-159  949623487 0.019748771 0.034245401\n",
       "182 C05703 C244A05703D_cfdna_N295-183  791638186 0.020253607 0.032216635\n",
       "183 C05703 C246A05703D_cfdna_N295-201 1347187755 0.020578358 0.036691222\n",
       "184 C05703 C249A05703D_cfdna_N295-217 1280626607 0.019558542 0.039392345\n",
       "185 C05703 C247A05703D_cfdna_N295-211 1295895453 0.020082175 0.038297085\n",
       "186 C05703 C242A05703D_cfdna_N295-226 1093814759 0.019628570 0.034648815\n",
       "187 C05703 C234A05703D_cfdna_N295-229  884773787 0.019028599 0.031959386\n",
       "188 C05703 C248A05703D_cfdna_N295-215 1219053351 0.019801709 0.036930932\n",
       "189 C05703 C250A05703D_cfdna_N295-46   790212758 0.020494082 0.036500234\n",
       "190 C05703 C243A05703D_cfdna_N295-171  918017024 0.020117443 0.033917992"
      ]
     },
     "metadata": {},
     "output_type": "display_data"
    }
   ],
   "source": [
    "ratios_and_counts"
   ]
  },
  {
   "cell_type": "code",
   "execution_count": null,
   "id": "06a4d5fb-8e98-4b1e-b11c-de08cdb63bdf",
   "metadata": {},
   "outputs": [],
   "source": []
  }
 ],
 "metadata": {
  "kernelspec": {
   "display_name": "R",
   "language": "R",
   "name": "ir"
  },
  "language_info": {
   "codemirror_mode": "r",
   "file_extension": ".r",
   "mimetype": "text/x-r-source",
   "name": "R",
   "pygments_lexer": "r",
   "version": "3.6.1"
  }
 },
 "nbformat": 4,
 "nbformat_minor": 5
}
