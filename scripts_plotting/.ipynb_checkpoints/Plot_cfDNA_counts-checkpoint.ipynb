{
 "cells": [
  {
   "cell_type": "code",
   "execution_count": 35,
   "id": "401bec87-2fb3-47ec-afd3-ccd49d16d264",
   "metadata": {},
   "outputs": [],
   "source": [
    "library(tidyverse)"
   ]
  },
  {
   "cell_type": "code",
   "execution_count": 36,
   "id": "a74056bb-b39e-4f91-b402-828f901bb8e1",
   "metadata": {},
   "outputs": [],
   "source": [
    "paramspace <- read.csv(\"../data/metadata/paramspace_cfDNA_phaseI.csv\")"
   ]
  },
  {
   "cell_type": "code",
   "execution_count": 37,
   "id": "e6d10224-4594-482c-a4e8-9ca749bbc802",
   "metadata": {},
   "outputs": [],
   "source": [
    "paramspace <- paramspace %>% select(pt_id, cfDNA_folder)"
   ]
  },
  {
   "cell_type": "code",
   "execution_count": 38,
   "id": "9ca8ffcf-a278-44a7-a0f2-b51df2957b51",
   "metadata": {},
   "outputs": [
    {
     "data": {
      "text/html": [
       "<table>\n",
       "<thead><tr><th scope=col>pt_id</th><th scope=col>cfDNA_folder</th></tr></thead>\n",
       "<tbody>\n",
       "\t<tr><td>C04689                    </td><td>C303A04689D_cfdna_N295-103</td></tr>\n",
       "\t<tr><td>C04689                    </td><td>C305A04689D_cfdna_N295-71 </td></tr>\n",
       "\t<tr><td>C04689                    </td><td>C309A04689D_cfdna_N295-47 </td></tr>\n",
       "\t<tr><td>C04689                    </td><td>C302A04689D_cfdna_N295-102</td></tr>\n",
       "\t<tr><td>C04689                    </td><td>C299A04689D_cfdna_N295-99 </td></tr>\n",
       "\t<tr><td>C04689                    </td><td>C307A04689D_cfdna_N295-110</td></tr>\n",
       "</tbody>\n",
       "</table>\n"
      ],
      "text/latex": [
       "\\begin{tabular}{r|ll}\n",
       " pt\\_id & cfDNA\\_folder\\\\\n",
       "\\hline\n",
       "\t C04689                         & C303A04689D\\_cfdna\\_N295-103\\\\\n",
       "\t C04689                         & C305A04689D\\_cfdna\\_N295-71 \\\\\n",
       "\t C04689                         & C309A04689D\\_cfdna\\_N295-47 \\\\\n",
       "\t C04689                         & C302A04689D\\_cfdna\\_N295-102\\\\\n",
       "\t C04689                         & C299A04689D\\_cfdna\\_N295-99 \\\\\n",
       "\t C04689                         & C307A04689D\\_cfdna\\_N295-110\\\\\n",
       "\\end{tabular}\n"
      ],
      "text/markdown": [
       "\n",
       "| pt_id | cfDNA_folder |\n",
       "|---|---|\n",
       "| C04689                     | C303A04689D_cfdna_N295-103 |\n",
       "| C04689                     | C305A04689D_cfdna_N295-71  |\n",
       "| C04689                     | C309A04689D_cfdna_N295-47  |\n",
       "| C04689                     | C302A04689D_cfdna_N295-102 |\n",
       "| C04689                     | C299A04689D_cfdna_N295-99  |\n",
       "| C04689                     | C307A04689D_cfdna_N295-110 |\n",
       "\n"
      ],
      "text/plain": [
       "  pt_id  cfDNA_folder              \n",
       "1 C04689 C303A04689D_cfdna_N295-103\n",
       "2 C04689 C305A04689D_cfdna_N295-71 \n",
       "3 C04689 C309A04689D_cfdna_N295-47 \n",
       "4 C04689 C302A04689D_cfdna_N295-102\n",
       "5 C04689 C299A04689D_cfdna_N295-99 \n",
       "6 C04689 C307A04689D_cfdna_N295-110"
      ]
     },
     "metadata": {},
     "output_type": "display_data"
    }
   ],
   "source": [
    "head(paramspace)"
   ]
  },
  {
   "cell_type": "code",
   "execution_count": 39,
   "id": "d57dab3d-6bad-44e5-a5da-3cec4215568e",
   "metadata": {},
   "outputs": [],
   "source": [
    "patients <- as.character(unique(paramspace$pt_id))"
   ]
  },
  {
   "cell_type": "code",
   "execution_count": 40,
   "id": "33d2cb68-54fb-42ad-8e21-aab924a6eab8",
   "metadata": {},
   "outputs": [
    {
     "data": {
      "text/html": [
       "<ol class=list-inline>\n",
       "\t<li>'C04689'</li>\n",
       "\t<li>'C04816'</li>\n",
       "\t<li>'C04837'</li>\n",
       "\t<li>'C04849'</li>\n",
       "\t<li>'C04873'</li>\n",
       "\t<li>'C04874'</li>\n",
       "\t<li>'C04886'</li>\n",
       "\t<li>'C04887'</li>\n",
       "\t<li>'C05048'</li>\n",
       "\t<li>'C05073'</li>\n",
       "\t<li>'C05084'</li>\n",
       "\t<li>'C05118'</li>\n",
       "\t<li>'C05194'</li>\n",
       "\t<li>'C05234'</li>\n",
       "\t<li>'C05703'</li>\n",
       "</ol>\n"
      ],
      "text/latex": [
       "\\begin{enumerate*}\n",
       "\\item 'C04689'\n",
       "\\item 'C04816'\n",
       "\\item 'C04837'\n",
       "\\item 'C04849'\n",
       "\\item 'C04873'\n",
       "\\item 'C04874'\n",
       "\\item 'C04886'\n",
       "\\item 'C04887'\n",
       "\\item 'C05048'\n",
       "\\item 'C05073'\n",
       "\\item 'C05084'\n",
       "\\item 'C05118'\n",
       "\\item 'C05194'\n",
       "\\item 'C05234'\n",
       "\\item 'C05703'\n",
       "\\end{enumerate*}\n"
      ],
      "text/markdown": [
       "1. 'C04689'\n",
       "2. 'C04816'\n",
       "3. 'C04837'\n",
       "4. 'C04849'\n",
       "5. 'C04873'\n",
       "6. 'C04874'\n",
       "7. 'C04886'\n",
       "8. 'C04887'\n",
       "9. 'C05048'\n",
       "10. 'C05073'\n",
       "11. 'C05084'\n",
       "12. 'C05118'\n",
       "13. 'C05194'\n",
       "14. 'C05234'\n",
       "15. 'C05703'\n",
       "\n",
       "\n"
      ],
      "text/plain": [
       " [1] \"C04689\" \"C04816\" \"C04837\" \"C04849\" \"C04873\" \"C04874\" \"C04886\" \"C04887\"\n",
       " [9] \"C05048\" \"C05073\" \"C05084\" \"C05118\" \"C05194\" \"C05234\" \"C05703\""
      ]
     },
     "metadata": {},
     "output_type": "display_data"
    }
   ],
   "source": [
    "patients"
   ]
  },
  {
   "cell_type": "code",
   "execution_count": 41,
   "id": "cd335a0d-6c5c-456d-97f7-626b7439f7f1",
   "metadata": {},
   "outputs": [],
   "source": [
    "read_counts <- data.frame(matrix(ncol = 3, nrow = 0))\n",
    "colnames(read_counts) <-c(\"pt_id\", \"cfDNA_sample\", \"readcount\")"
   ]
  },
  {
   "cell_type": "code",
   "execution_count": 42,
   "id": "603ca2f9-d03d-4236-a454-5096f55e8220",
   "metadata": {},
   "outputs": [],
   "source": [
    "for (i in patients){\n",
    "    paramspace_patient <- paramspace %>% filter(pt_id == i)\n",
    "    for (j in paramspace_patient$cfDNA_folder){\n",
    "        reads <- read.csv(paste(\"../data/\", i, \"/\", j, \"/cs1e9/cfDNA_count.csv\", sep = \"\"), header=FALSE)\n",
    "        read_counts[nrow(read_counts)+1,] = c(i, j, reads)\n",
    "    }}"
   ]
  },
  {
   "cell_type": "markdown",
   "id": "38b449d0-d198-425c-92a3-e7a70bb814f6",
   "metadata": {},
   "source": [
    "## Combine the ratios for all patients in one data frame"
   ]
  },
  {
   "cell_type": "code",
   "execution_count": 43,
   "id": "72d9297b-1ef8-44a3-97c7-062a88bda00e",
   "metadata": {},
   "outputs": [],
   "source": [
    "big_ratio <- data.frame(matrix(ncol = 3, nrow = 0))\n",
    "colnames(big_ratio) <-c(\"pt_id\", \"cfDNA_sample\", \"big_ratio\")"
   ]
  },
  {
   "cell_type": "code",
   "execution_count": 44,
   "id": "8d5e261e-5a43-409d-942f-2683a0e9c1af",
   "metadata": {},
   "outputs": [],
   "source": [
    "for (i in patients){\n",
    "    paramspace_patient <- paramspace %>% filter(pt_id == i)\n",
    "    for (j in paramspace_patient$cfDNA_folder){\n",
    "        reads <- read.csv(paste(\"../data/\", i, \"/\", j, \"/ci5_cs1e9/big_ratio_singletons_excluded_tumor_4_cs.csv\", sep = \"\"))\n",
    "        reads <- reads %>% select(ratio)\n",
    "        big_ratio[nrow(big_ratio)+1,] = c(i, j, reads)\n",
    "    }}"
   ]
  },
  {
   "cell_type": "code",
   "execution_count": 45,
   "id": "606ed9c9-8a3b-4e49-9f4d-f3bc7951b5de",
   "metadata": {},
   "outputs": [],
   "source": [
    "small_ratio <- data.frame(matrix(ncol = 3, nrow = 0))\n",
    "colnames(small_ratio) <-c(\"pt_id\", \"cfDNA_sample\", \"small_ratio\")"
   ]
  },
  {
   "cell_type": "code",
   "execution_count": 46,
   "id": "ddad3e28-07bc-42c5-8486-5e87580ce492",
   "metadata": {},
   "outputs": [],
   "source": [
    "for (i in patients){\n",
    "    paramspace_patient <- paramspace %>% filter(pt_id == i)\n",
    "    for (j in paramspace_patient$cfDNA_folder){\n",
    "        reads <- read.csv(paste(\"../data/\", i, \"/\", j, \"/ci5_cs1e9/small_ratio_singletons_excluded_tumor_4_cs.csv\", sep = \"\"))\n",
    "        reads <- reads %>% select(ratio)\n",
    "        small_ratio[nrow(small_ratio)+1,] = c(i, j, reads)\n",
    "    }}"
   ]
  },
  {
   "cell_type": "code",
   "execution_count": null,
   "id": "e7adcf3a-7d38-404f-8bf9-68c00e06c2b0",
   "metadata": {},
   "outputs": [],
   "source": []
  },
  {
   "cell_type": "code",
   "execution_count": null,
   "id": "2f79e014-17f8-427a-89b3-a801a2cd4440",
   "metadata": {},
   "outputs": [],
   "source": []
  },
  {
   "cell_type": "markdown",
   "id": "6c791f82-7007-49cb-ab15-d2affcb9e9bb",
   "metadata": {},
   "source": [
    "## Plots"
   ]
  },
  {
   "cell_type": "code",
   "execution_count": 47,
   "id": "881d59d8-7db2-415f-932e-c550e71d8186",
   "metadata": {},
   "outputs": [],
   "source": [
    "big_ratio <- big_ratio %>% select(\"cfDNA_sample\", \"big_ratio\")"
   ]
  },
  {
   "cell_type": "code",
   "execution_count": 48,
   "id": "3643b46c-44b5-4149-978f-18b270dd5f96",
   "metadata": {},
   "outputs": [],
   "source": [
    "small_ratio <- small_ratio %>% select(\"cfDNA_sample\", \"small_ratio\")"
   ]
  },
  {
   "cell_type": "code",
   "execution_count": 54,
   "id": "ce636b5d-4d26-48d6-97b3-91c27db474be",
   "metadata": {},
   "outputs": [],
   "source": [
    "ratios_and_counts <- left_join(read_counts, big_ratio, by=\"cfDNA_sample\")\n",
    "ratios_and_counts <- left_join(ratios_and_counts, small_ratio, by=\"cfDNA_sample\")"
   ]
  },
  {
   "cell_type": "code",
   "execution_count": null,
   "id": "aa55b8bf-991f-4de2-8614-1f9d29af87bc",
   "metadata": {},
   "outputs": [],
   "source": [
    "cor(ratios_and_counts$big_ratio, ratios_and_counts$readcount)"
   ]
  },
  {
   "cell_type": "code",
   "execution_count": 55,
   "id": "1d6c67dc-b5f4-49f0-a43e-1eb5167c5c65",
   "metadata": {},
   "outputs": [
    {
     "data": {
      "image/png": "[encoded data removed]",
      "text/plain": [
       "plot without title"
      ]
     },
     "metadata": {},
     "output_type": "display_data"
    }
   ],
   "source": [
    "ggplot(data = ratios_and_counts)+\n",
    "    geom_point(aes(x = big_ratio, y = readcount))"
   ]
  },
  {
   "cell_type": "code",
   "execution_count": null,
   "id": "d74f01cd-414a-4f5e-87a4-4b529c6e5f64",
   "metadata": {},
   "outputs": [],
   "source": [
    "cor(ratios_and_counts$small_ratio, ratios_and_counts$readcount)"
   ]
  },
  {
   "cell_type": "code",
   "execution_count": 56,
   "id": "3222ec4e-4c36-45d9-a9e8-df201d85963e",
   "metadata": {},
   "outputs": [
    {
     "data": {
      "image/png": "[encoded data removed]",
      "text/plain": [
       "plot without title"
      ]
     },
     "metadata": {},
     "output_type": "display_data"
    }
   ],
   "source": [
    "ggplot(data = ratios_and_counts)+\n",
    "    geom_point(aes(x = small_ratio, y = readcount))"
   ]
  },
  {
   "cell_type": "code",
   "execution_count": null,
   "id": "c422ddee-cce1-4c6c-a00d-d5d411ace152",
   "metadata": {},
   "outputs": [],
   "source": []
  },
  {
   "cell_type": "code",
   "execution_count": null,
   "id": "fe5d2553-9d68-461b-96bc-d77f87d3250e",
   "metadata": {},
   "outputs": [],
   "source": []
  }
 ],
 "metadata": {
  "kernelspec": {
   "display_name": "R",
   "language": "R",
   "name": "ir"
  },
  "language_info": {
   "codemirror_mode": "r",
   "file_extension": ".r",
   "mimetype": "text/x-r-source",
   "name": "R",
   "pygments_lexer": "r",
   "version": "3.6.1"
  }
 },
 "nbformat": 4,
 "nbformat_minor": 5
}
