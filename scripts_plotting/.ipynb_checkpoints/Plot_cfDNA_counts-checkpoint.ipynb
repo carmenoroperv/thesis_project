{
 "cells": [
  {
   "cell_type": "code",
   "execution_count": null,
   "id": "401bec87-2fb3-47ec-afd3-ccd49d16d264",
   "metadata": {},
   "outputs": [],
   "source": [
    "library(tidyverse)\n",
    "library(RColorBrewer)\n",
    "library(grid)\n",
    "library(cowplot)"
   ]
  },
  {
   "cell_type": "code",
   "execution_count": null,
   "id": "7a80414e-c6e6-4e17-b853-017a3dd6b5b7",
   "metadata": {},
   "outputs": [],
   "source": [
    "data_folder <-  \"de_novo_germline_reference\" # de_novo_germline_reference # all_germline_filtered_bams_tumor_subtract_other_tumor_ci5_cs1e9 # ci5_cs1e9  # all_germline_ci5_cs1e9 # all_germline_filtered_bams_tumor_ci5_cs1e9 # all_germline_filtered_bams_tumor_subtract_other_tumor_ci5_cs1e9\n",
    "big_ratio_file_name <- \"big_ratio.csv\" #\"big_ratio_singletons_excluded_tumor_4_cs.csv\" # \"big_ratio_all_germline_singletons_excluded_tumor_4_cs.csv\" #\"big_ratio.csv\" # #\n",
    "small_ratio_file_name <- \"small_ratio.csv\" #\"small_ratio_singletons_excluded_tumor_4_cs.csv\" #\"small_ratio_all_germline_singletons_excluded_tumor_4_cs.csv\" #\"small_ratio.csv\" # #"
   ]
  },
  {
   "cell_type": "code",
   "execution_count": null,
   "id": "a74056bb-b39e-4f91-b402-828f901bb8e1",
   "metadata": {},
   "outputs": [],
   "source": [
    "paramspace <- read.csv(\"../data/metadata/paramspace_cfDNA_phaseI.csv\")"
   ]
  },
  {
   "cell_type": "code",
   "execution_count": null,
   "id": "e6d10224-4594-482c-a4e8-9ca749bbc802",
   "metadata": {},
   "outputs": [],
   "source": [
    "paramspace <- paramspace %>% select(pt_id, cfDNA_folder)"
   ]
  },
  {
   "cell_type": "code",
   "execution_count": null,
   "id": "9ca8ffcf-a278-44a7-a0f2-b51df2957b51",
   "metadata": {},
   "outputs": [],
   "source": [
    "head(paramspace)"
   ]
  },
  {
   "cell_type": "code",
   "execution_count": null,
   "id": "d57dab3d-6bad-44e5-a5da-3cec4215568e",
   "metadata": {},
   "outputs": [],
   "source": [
    "patients <- as.character(unique(paramspace$pt_id))"
   ]
  },
  {
   "cell_type": "code",
   "execution_count": null,
   "id": "33d2cb68-54fb-42ad-8e21-aab924a6eab8",
   "metadata": {},
   "outputs": [],
   "source": [
    "patients"
   ]
  },
  {
   "cell_type": "code",
   "execution_count": null,
   "id": "cd335a0d-6c5c-456d-97f7-626b7439f7f1",
   "metadata": {},
   "outputs": [],
   "source": [
    "read_counts <- data.frame(matrix(ncol = 3, nrow = 0))\n",
    "colnames(read_counts) <-c(\"pt_id\", \"cfDNA_sample\", \"readcount\")"
   ]
  },
  {
   "cell_type": "code",
   "execution_count": null,
   "id": "603ca2f9-d03d-4236-a454-5096f55e8220",
   "metadata": {},
   "outputs": [],
   "source": [
    "for (i in patients){\n",
    "    paramspace_patient <- paramspace %>% filter(pt_id == i)\n",
    "    for (j in paramspace_patient$cfDNA_folder){\n",
    "        reads <- read.csv(paste(\"../data/\", i, \"/\", j, \"/cs1e9/cfDNA_count.csv\", sep = \"\"), header=FALSE)\n",
    "        read_counts[nrow(read_counts)+1,] = c(i, j, reads)\n",
    "    }}"
   ]
  },
  {
   "cell_type": "code",
   "execution_count": null,
   "id": "1ef6b54f-8267-4ba1-b394-da6a43036ad9",
   "metadata": {},
   "outputs": [],
   "source": [
    "read_counts"
   ]
  },
  {
   "cell_type": "code",
   "execution_count": null,
   "id": "0bfcd5cf-e745-48ca-b970-635779eea333",
   "metadata": {},
   "outputs": [],
   "source": [
    "write.csv(read_counts, \"../data/read_counts.csv\", row.names=FALSE)"
   ]
  },
  {
   "cell_type": "markdown",
   "id": "38b449d0-d198-425c-92a3-e7a70bb814f6",
   "metadata": {},
   "source": [
    "## Combine the ratios for all patients in one data frame"
   ]
  },
  {
   "cell_type": "code",
   "execution_count": null,
   "id": "72d9297b-1ef8-44a3-97c7-062a88bda00e",
   "metadata": {},
   "outputs": [],
   "source": [
    "big_ratio <- data.frame(matrix(ncol = 3, nrow = 0))\n",
    "colnames(big_ratio) <-c(\"pt_id\", \"cfDNA_sample\", \"big_ratio\")"
   ]
  },
  {
   "cell_type": "code",
   "execution_count": null,
   "id": "8d5e261e-5a43-409d-942f-2683a0e9c1af",
   "metadata": {},
   "outputs": [],
   "source": [
    "for (i in patients){\n",
    "    paramspace_patient <- paramspace %>% filter(pt_id == i)\n",
    "    for (j in paramspace_patient$cfDNA_folder){\n",
    "        reads <- read.csv(paste(\"../data/\", i, \"/\", j, \"/\", data_folder, \"/\", big_ratio_file_name, sep = \"\"))\n",
    "        reads <- reads %>% select(ratio)\n",
    "        big_ratio[nrow(big_ratio)+1,] = c(i, j, reads)\n",
    "    }}"
   ]
  },
  {
   "cell_type": "code",
   "execution_count": null,
   "id": "606ed9c9-8a3b-4e49-9f4d-f3bc7951b5de",
   "metadata": {},
   "outputs": [],
   "source": [
    "small_ratio_comb <- data.frame(matrix(ncol = 3, nrow = 0))\n",
    "colnames(small_ratio_comb) <-c(\"pt_id\", \"cfDNA_sample\", \"small_ratio\")"
   ]
  },
  {
   "cell_type": "code",
   "execution_count": null,
   "id": "ddad3e28-07bc-42c5-8486-5e87580ce492",
   "metadata": {},
   "outputs": [],
   "source": [
    "for (i in patients){\n",
    "    paramspace_patient <- paramspace %>% filter(pt_id == i)\n",
    "    for (j in paramspace_patient$cfDNA_folder){\n",
    "        reads <- read.csv(paste(\"../data/\", i, \"/\", j, \"/\", data_folder, \"/\", small_ratio_file_name, sep = \"\"))\n",
    "        reads <- reads %>% select(ratio)\n",
    "        small_ratio_comb[nrow(small_ratio_comb)+1,] = c(i, j, reads)\n",
    "    }}"
   ]
  },
  {
   "cell_type": "code",
   "execution_count": null,
   "id": "e7adcf3a-7d38-404f-8bf9-68c00e06c2b0",
   "metadata": {},
   "outputs": [],
   "source": [
    "head(small_ratio_comb)\n",
    "dim(small_ratio_comb)"
   ]
  },
  {
   "cell_type": "markdown",
   "id": "6c791f82-7007-49cb-ab15-d2affcb9e9bb",
   "metadata": {},
   "source": [
    "## Plots"
   ]
  },
  {
   "cell_type": "code",
   "execution_count": null,
   "id": "881d59d8-7db2-415f-932e-c550e71d8186",
   "metadata": {},
   "outputs": [],
   "source": [
    "big_ratio <- big_ratio %>% select(\"cfDNA_sample\", \"big_ratio\")"
   ]
  },
  {
   "cell_type": "code",
   "execution_count": null,
   "id": "3643b46c-44b5-4149-978f-18b270dd5f96",
   "metadata": {},
   "outputs": [],
   "source": [
    "small_ratio_comb <- small_ratio_comb %>% select(\"cfDNA_sample\", \"small_ratio\")"
   ]
  },
  {
   "cell_type": "code",
   "execution_count": null,
   "id": "ce636b5d-4d26-48d6-97b3-91c27db474be",
   "metadata": {},
   "outputs": [],
   "source": [
    "ratios_and_counts <- left_join(read_counts, big_ratio, by=\"cfDNA_sample\")\n",
    "ratios_and_counts <- left_join(ratios_and_counts, small_ratio_comb, by=\"cfDNA_sample\")"
   ]
  },
  {
   "cell_type": "code",
   "execution_count": null,
   "id": "aa55b8bf-991f-4de2-8614-1f9d29af87bc",
   "metadata": {},
   "outputs": [],
   "source": [
    "cor(ratios_and_counts$big_ratio, ratios_and_counts$readcount)"
   ]
  },
  {
   "cell_type": "code",
   "execution_count": null,
   "id": "1d6c67dc-b5f4-49f0-a43e-1eb5167c5c65",
   "metadata": {},
   "outputs": [],
   "source": [
    "ggplot(data = ratios_and_counts)+\n",
    "    geom_point(aes(x = big_ratio, y = readcount, color = pt_id))\n",
    "    #+geom_text(aes(x = big_ratio, y = readcount, label = pt_id))\n",
    "\n",
    "ggsave(paste(\"../plotting_results/Correlation_readcounts/\", data_folder, \"_big_ratio\", \".png\", sep=\"\"))"
   ]
  },
  {
   "cell_type": "code",
   "execution_count": null,
   "id": "c0ed89a8-cf58-496c-bac7-603238e2b0fd",
   "metadata": {},
   "outputs": [],
   "source": [
    "options(repr.plot.width=12, repr.plot.height=6)\n",
    "ggplot(data = ratios_and_counts)+\n",
    "    geom_point(aes(x = big_ratio, y = readcount, color = pt_id)) + facet_wrap(~pt_id, ncol = 5, scales = \"free\")\n",
    "\n",
    "ggsave(paste(\"../plotting_results/Correlation_readcounts/\", data_folder, \"_big_ratio_faceted\", \".png\", sep=\"\"))"
   ]
  },
  {
   "cell_type": "code",
   "execution_count": null,
   "id": "b682be0d-6576-4e90-8351-26bbd45588ec",
   "metadata": {},
   "outputs": [],
   "source": []
  },
  {
   "cell_type": "code",
   "execution_count": null,
   "id": "d74f01cd-414a-4f5e-87a4-4b529c6e5f64",
   "metadata": {},
   "outputs": [],
   "source": [
    "cor(ratios_and_counts$small_ratio, ratios_and_counts$readcount)"
   ]
  },
  {
   "cell_type": "code",
   "execution_count": null,
   "id": "3222ec4e-4c36-45d9-a9e8-df201d85963e",
   "metadata": {},
   "outputs": [],
   "source": [
    "ggplot(data = ratios_and_counts)+\n",
    "    geom_point(aes(x = small_ratio, y = readcount, color = pt_id))\n",
    "\n",
    "ggsave(paste(\"../plotting_results/Correlation_readcounts/\", data_folder, \"_small_ratio\", \".png\", sep=\"\"))"
   ]
  },
  {
   "cell_type": "code",
   "execution_count": null,
   "id": "8977756e-40e4-4174-9eb5-9bc2b3291315",
   "metadata": {},
   "outputs": [],
   "source": [
    "#ggsave(paste(\"../plotting_results/Correlation_readcounts/\", data_folder, \"_small_ratio_faceted\", \".png\", sep=\"\"))"
   ]
  },
  {
   "cell_type": "code",
   "execution_count": null,
   "id": "c422ddee-cce1-4c6c-a00d-d5d411ace152",
   "metadata": {},
   "outputs": [],
   "source": [
    "pt_correlation <- ratios_and_counts %>% group_by(pt_id)  %>% transmute(corr_big = cor(readcount, big_ratio), corr_small = cor(readcount, small_ratio)) %>% unique()"
   ]
  },
  {
   "cell_type": "code",
   "execution_count": null,
   "id": "441b8433-f120-4a75-bc86-b2623f407905",
   "metadata": {},
   "outputs": [],
   "source": [
    "pt_correlation"
   ]
  },
  {
   "cell_type": "code",
   "execution_count": null,
   "id": "901edd10-65e8-4feb-9044-b41484f8efb1",
   "metadata": {},
   "outputs": [],
   "source": [
    "mean_big = mean(pt_correlation$corr_big)\n",
    "mean_big\n",
    "\n",
    "mean_small = mean(pt_correlation$corr_small)\n",
    "mean_small"
   ]
  },
  {
   "cell_type": "code",
   "execution_count": null,
   "id": "ffd05dc4-cdb8-4763-8c66-059f88aebc23",
   "metadata": {},
   "outputs": [],
   "source": [
    "write.csv(pt_correlation, paste(\"../plotting_results/Correlation_readcounts/\", data_folder, \".csv\", sep=\"\"), row.names= FALSE)"
   ]
  },
  {
   "cell_type": "code",
   "execution_count": null,
   "id": "1f52e25a-e0aa-47ef-abbc-583f05ff627c",
   "metadata": {},
   "outputs": [],
   "source": [
    "pt_correlation"
   ]
  },
  {
   "cell_type": "code",
   "execution_count": null,
   "id": "06a4d5fb-8e98-4b1e-b11c-de08cdb63bdf",
   "metadata": {},
   "outputs": [],
   "source": []
  },
  {
   "cell_type": "markdown",
   "id": "62732101-947f-4981-8b4a-f993e070ac6d",
   "metadata": {},
   "source": [
    "# Plots for the report"
   ]
  },
  {
   "cell_type": "code",
   "execution_count": null,
   "id": "23752157-918a-4659-aa0a-274b5653a594",
   "metadata": {},
   "outputs": [],
   "source": [
    "small_ratio <- data.frame(matrix(ncol = 3, nrow = 0))\n",
    "colnames(small_ratio) <-c(\"pt_id\", \"cfDNA_sample\", \"small_ratio\")"
   ]
  },
  {
   "cell_type": "code",
   "execution_count": null,
   "id": "7bc6d3e6-7e69-41ea-8c7b-6dca6bd6e181",
   "metadata": {},
   "outputs": [],
   "source": [
    "for (i in patients){\n",
    "    paramspace_patient <- paramspace %>% filter(pt_id == i)\n",
    "    for (j in paramspace_patient$cfDNA_folder){\n",
    "        reads <- read.csv(paste(\"../data/\", i, \"/\", j, \"/\", data_folder, \"/\", small_ratio_file_name, sep = \"\"))\n",
    "        reads <- reads %>% select(ratio)\n",
    "        small_ratio[nrow(small_ratio)+1,] = c(i, j, reads)\n",
    "    }}\n",
    "head(small_ratio)"
   ]
  },
  {
   "cell_type": "code",
   "execution_count": null,
   "id": "bacca693-a606-45c2-9e19-e65ab96b519c",
   "metadata": {},
   "outputs": [],
   "source": [
    "dim(small_ratio)"
   ]
  },
  {
   "cell_type": "code",
   "execution_count": null,
   "id": "f428cdd7-372e-4824-a5eb-7bd2ff7038bd",
   "metadata": {},
   "outputs": [],
   "source": [
    "small_ratio <- small_ratio %>% \n",
    "  mutate(tmp_chunks = stringr::str_split(cfDNA_sample, stringr::fixed(\"_\"),  n = 3)) %>%\n",
    "  mutate(sampleID = map_chr(tmp_chunks, 1),\n",
    "         sub_value = map_chr(tmp_chunks, 2), \n",
    "         sub_val = map_chr(tmp_chunks, 3)) %>%\n",
    "  select(-c(tmp_chunks, sub_value, sub_val))\n",
    "\n",
    "head(small_ratio)\n",
    "dim(small_ratio)"
   ]
  },
  {
   "cell_type": "code",
   "execution_count": null,
   "id": "59daa003-a768-45c6-ad0f-70af4d84dcce",
   "metadata": {},
   "outputs": [],
   "source": [
    "sample_timepoint <- read.csv(\"../data/metadata/clin_data/sample_timepoint_formatted.csv\")"
   ]
  },
  {
   "cell_type": "code",
   "execution_count": null,
   "id": "076966e6-7662-48e5-b2f9-ae769a931115",
   "metadata": {},
   "outputs": [],
   "source": [
    "head(sample_timepoint)\n",
    "sample_timepoint_days <- sample_timepoint %>% filter(phase == \"phaseI\")\n",
    "sample_timepoint_days <- sample_timepoint_days %>% select(sampleID, sample_timepoint_days_since_OP)\n",
    "sample_timepoint_days %>% filter(is.na(sample_timepoint_days_since_OP))\n",
    "dim(sample_timepoint_days)\n",
    "head(sample_timepoint_days)"
   ]
  },
  {
   "cell_type": "code",
   "execution_count": null,
   "id": "0cb7f7e5-1ffd-4727-aacd-530ee51fbb3d",
   "metadata": {},
   "outputs": [],
   "source": [
    "small_ratio$sampleID <- as.character(small_ratio$sampleID)\n",
    "small_ratio <- left_join(small_ratio, sample_timepoint_days, by = c(\"sampleID\"))\n",
    "head(small_ratio)\n",
    "dim(small_ratio)"
   ]
  },
  {
   "cell_type": "code",
   "execution_count": null,
   "id": "d39bb758-12df-4c91-8d3b-c5515d368a5a",
   "metadata": {},
   "outputs": [],
   "source": [
    "phaseIpt_R <- read.csv(\"../phaseI_pt_R.csv\", header=FALSE)\n",
    "phaseIpt_R <- as.character(unlist(c(phaseIpt_R[1,])))\n",
    "\n",
    "low_qual_sample <- read.table(\"../low_qual_sample.txt\")\n",
    "low_qual_sample <- as.character(low_qual_sample[[1]])"
   ]
  },
  {
   "cell_type": "code",
   "execution_count": null,
   "id": "6df7403c-a7d1-4b3f-abb6-0258bda738b0",
   "metadata": {},
   "outputs": [],
   "source": [
    "relapse_pts <- phaseIpt_R\n",
    "\n",
    "small_ratio <- small_ratio %>% mutate(relapse_label = ifelse(pt_id %in% relapse_pts, \"R\", \"No_R\"))\n",
    "\n",
    "ratios_and_counts_small <- left_join(read_counts, small_ratio, by=c(\"pt_id\", \"cfDNA_sample\"))\n",
    "dim(ratios_and_counts_small)"
   ]
  },
  {
   "cell_type": "code",
   "execution_count": null,
   "id": "22940d3c-84fb-4b24-ba8d-b8505ec9fd4a",
   "metadata": {},
   "outputs": [],
   "source": [
    "head(ratios_and_counts_small)\n",
    "ratios_and_counts_small <- ratios_and_counts_small %>% filter(pt_id != low_qual_sample)\n",
    "dim(ratios_and_counts_small)"
   ]
  },
  {
   "cell_type": "code",
   "execution_count": null,
   "id": "5842fc34-1df9-4087-a4ad-e36c5184cca7",
   "metadata": {},
   "outputs": [],
   "source": [
    "ratios_and_counts_small_samples_o <- NULL\n",
    "color_palette_size <- 0\n",
    "for (i in unique(ratios_and_counts_small$pt_id)){\n",
    "    print(i)\n",
    "    ratios_and_counts_small_pt <- ratios_and_counts_small %>% filter(pt_id == i) %>% arrange(sample_timepoint_days_since_OP)\n",
    "    ratios_and_counts_small_pt <- ratios_and_counts_small_pt %>% mutate(samples_order = seq(1, nrow(ratios_and_counts_small_pt)))\n",
    "    if (nrow(ratios_and_counts_small_pt) > color_palette_size){\n",
    "            color_palette_size <- nrow(ratios_and_counts_small_pt)\n",
    "        }\n",
    "    ratios_and_counts_small_samples_o <- rbind(ratios_and_counts_small_samples_o, ratios_and_counts_small_pt)\n",
    "    }\n",
    "\n",
    "    \n",
    "head(ratios_and_counts_small_samples_o)          "
   ]
  },
  {
   "cell_type": "code",
   "execution_count": null,
   "id": "fcc9ba8c-9dc6-4775-9406-6c9458711a6e",
   "metadata": {},
   "outputs": [],
   "source": [
    "correlations_smallr <- ratios_and_counts_small_samples_o %>% \n",
    "    group_by(pt_id) %>% \n",
    "    transmute(corr_small = cor(readcount, small_ratio)) %>% unique()\n",
    "correlations_smallr\n",
    "mean(correlations_smallr$corr_small)"
   ]
  },
  {
   "cell_type": "code",
   "execution_count": null,
   "id": "20703291-a68d-478f-933c-4c4296422b2b",
   "metadata": {},
   "outputs": [],
   "source": [
    "relapse_pts <- phaseIpt_R\n",
    "\n",
    "relapse_cor <- correlations_smallr %>% filter(pt_id %in% relapse_pts)\n",
    "mean(relapse_cor$corr_small)\n",
    "\n",
    "no_relapse_cor <- correlations_smallr %>% filter(!pt_id %in% relapse_pts)\n",
    "mean(no_relapse_cor$corr_small)"
   ]
  },
  {
   "cell_type": "code",
   "execution_count": null,
   "id": "37465e40-c25c-4250-80b0-0716d2049157",
   "metadata": {},
   "outputs": [],
   "source": [
    "dim(ratios_and_counts_small_samples_o)\n",
    "ratios_and_counts_small_samples_o <- left_join(ratios_and_counts_small_samples_o, correlations_smallr, by = \"pt_id\")\n",
    "dim(ratios_and_counts_small_samples_o)\n",
    "head(ratios_and_counts_small_samples_o)"
   ]
  },
  {
   "cell_type": "code",
   "execution_count": null,
   "id": "60b610b1-3efd-49d6-9111-9019ce74597a",
   "metadata": {},
   "outputs": [],
   "source": [
    "#getPalette = colorRampPalette(brewer.pal(9, \"Blues\"))\n",
    "colsi = colorRampPalette(brewer.pal(9, \"Blues\"))(17)[4:17]\n",
    "ratios_and_counts_small_samples_o$samples_order <- as.factor(ratios_and_counts_small_samples_o$samples_order)"
   ]
  },
  {
   "cell_type": "code",
   "execution_count": null,
   "id": "9533064a-9c17-4cb4-8202-e097c1a769a1",
   "metadata": {},
   "outputs": [],
   "source": [
    "options(repr.plot.width=10.2, repr.plot.height=10)\n",
    "\n",
    "pt_id.labs <- c(paste(ratios_and_counts_small_samples_o$pt_id, \", (\", ratios_and_counts_small_samples_o$relapse_label, \"), cor: \", round(ratios_and_counts_small_samples_o$corr_small, 3), sep = \"\"))\n",
    "names(pt_id.labs) <- c(as.character(ratios_and_counts_small_samples_o$pt_id))\n",
    "\n",
    "plotty <- ratios_and_counts_small_samples_o %>% ggplot() +\n",
    "    geom_point(aes(x = small_ratio, y = readcount, color = samples_order), size = 1.8) + \n",
    "    facet_wrap(~pt_id, scales = \"free\", ncol = 3, labeller = labeller(pt_id = pt_id.labs),) + \n",
    "    scale_color_manual(values = c(\"darkred\", colsi)) + #getPalette(color_palette_size -1))) +\n",
    "    theme_minimal() + \n",
    "    theme(strip.text.x = element_text(size = 10),\n",
    "          axis.text.x = element_text(size = 11),\n",
    "          axis.text.y = element_text(size = 11),\n",
    "          axis.title=element_text(size=13),\n",
    "          legend.text=element_text(size=13), \n",
    "          strip.background =element_rect(fill=\"lightgrey\"),\n",
    "          panel.border = element_rect(size = 0.1, colour = \"black\", fill = NA)) +\n",
    "    xlab(\"Fraction of unique tumor k-mers found in cfDNA\") + labs(color=\"Order of samples\")+\n",
    "    ylab(\"Number of cfDNA reads\")\n",
    "\n",
    "plotty"
   ]
  },
  {
   "cell_type": "code",
   "execution_count": null,
   "id": "a4c36b38-cc65-4b2e-91bc-82283dae6a9b",
   "metadata": {},
   "outputs": [],
   "source": [
    "options(repr.plot.width=9, repr.plot.height=7)\n",
    "\n",
    "pt_id.labs <- c(paste(ratios_and_counts_small_samples_o$pt_id, \", (\", ratios_and_counts_small_samples_o$relapse_label, \"), cor: \", round(ratios_and_counts_small_samples_o$corr_small, 3), sep = \"\"))\n",
    "names(pt_id.labs) <- c(as.character(ratios_and_counts_small_samples_o$pt_id))\n",
    "\n",
    "plotty_nor <- ratios_and_counts_small_samples_o %>% filter(relapse_label == \"No_R\") %>% ggplot() +\n",
    "    geom_point(aes(x = small_ratio, y = readcount, color = samples_order), size = 1.8) + \n",
    "    facet_wrap(~pt_id, ncol = 3, labeller = labeller(pt_id = pt_id.labs),) + \n",
    "    scale_color_manual(values = c(\"darkred\", colsi)) + #getPalette(color_palette_size -1))) +\n",
    "    theme_minimal() + \n",
    "    theme(strip.text.x = element_text(size = 10),\n",
    "          axis.text.x = element_text(size = 9),\n",
    "          axis.text.y = element_text(size = 10),\n",
    "          legend.text=element_text(size=12), \n",
    "          strip.background =element_rect(fill=\"lightgrey\"),\n",
    "          panel.border = element_rect(size = 0.1, colour = \"black\", fill = NA)) +\n",
    "    xlab(\"Fraction of unique tumor k-mers found in cfDNA\") + labs(color=\"Order of samples\")+\n",
    "    ylab(\"Number of cfDNA reads\")\n",
    "\n",
    "plotty_nor"
   ]
  },
  {
   "cell_type": "code",
   "execution_count": null,
   "id": "5b4f9a9e-b4a1-4c24-bf3e-21d6802b7f59",
   "metadata": {},
   "outputs": [],
   "source": [
    "options(repr.plot.width=10, repr.plot.height=7)\n",
    "\n",
    "pt_id.labs <- c(paste(ratios_and_counts_small_samples_o$pt_id, \", (\", ratios_and_counts_small_samples_o$relapse_label, \"), cor: \", round(ratios_and_counts_small_samples_o$corr_small, 3), sep = \"\"))\n",
    "names(pt_id.labs) <- c(as.character(ratios_and_counts_small_samples_o$pt_id))\n",
    "\n",
    "plotty_R <- ratios_and_counts_small_samples_o %>% filter(relapse_label == \"R\") %>% ggplot() +\n",
    "    geom_point(aes(x = small_ratio, y = readcount, color = samples_order), size = 1.8) + \n",
    "    facet_wrap(~pt_id, ncol = 3, labeller = labeller(pt_id = pt_id.labs),) + \n",
    "    scale_color_manual(values = c(\"darkred\", colsi)) + #getPalette(color_palette_size -1))) +\n",
    "    theme_minimal() + \n",
    "    theme(strip.text.x = element_text(size = 10),\n",
    "          axis.text.x = element_text(size = 9),\n",
    "          axis.text.y = element_text(size = 10),\n",
    "          legend.text=element_text(size=12), \n",
    "          strip.background =element_rect(fill=\"lightgrey\"),\n",
    "          panel.border = element_rect(size = 0.1, colour = \"black\", fill = NA)) +\n",
    "    xlab(\"Fraction of unique tumor k-mers found in cfDNA\") + labs(color=\"Order of samples\")+\n",
    "    ylab(\"Number of cfDNA reads\")\n",
    "\n",
    "plotty_R"
   ]
  },
  {
   "cell_type": "code",
   "execution_count": null,
   "id": "b6e60251-3c06-419c-bbbf-eb99ef5e58ad",
   "metadata": {},
   "outputs": [],
   "source": [
    "ratios_and_counts_small_samples_o_relapses <- ratios_and_counts_small_samples_o %>% filter(pt_id %in% phaseIpt_R) "
   ]
  },
  {
   "cell_type": "code",
   "execution_count": null,
   "id": "2eee4f15-1a12-4935-b53b-86941de2d2f7",
   "metadata": {},
   "outputs": [],
   "source": [
    "options(repr.plot.width=9, repr.plot.height=10)\n",
    "plots_readcounts <- NULL\n",
    "plots_ratio <- NULL\n",
    "#unique(ratios_and_counts_small_samples_o$pt_id\n",
    "for (i in unique(ratios_and_counts_small_samples_o$pt_id)){\n",
    "    ratios_and_counts_small_samples_o_pt <- ratios_and_counts_small_samples_o %>% filter(pt_id == i)\n",
    "    plot_readc_pt <- ggplot(ratios_and_counts_small_samples_o_pt) + \n",
    "        geom_col(aes(x = sample_timepoint_days_since_OP, y = readcount), width = 20, fill = \"gray75\") + \n",
    "        theme_minimal() + xlab(\"\") + ylab(\"\") +  ggtitle(paste(i, \", cor: \", round(ratios_and_counts_small_samples_o_pt$corr_small, 3), sep = \"\")) +  \n",
    "        theme(plot.margin = unit(c(0, 0, -0.4, 0), \"cm\"),\n",
    "               plot.title = element_text(size=10),\n",
    "              axis.text.x = element_blank(), \n",
    "              axis.text.y =element_text(size=8)) + \n",
    "        scale_y_continuous(breaks = c(0, 5e+08, 1e+09))\n",
    "    plots_readcounts[[i]] <- plot_readc_pt\n",
    "    \n",
    "    plots_ratio_pt <- ggplot(ratios_and_counts_small_samples_o_pt) + \n",
    "        geom_point(aes(x = sample_timepoint_days_since_OP, y = small_ratio), size = 0.8) + \n",
    "        geom_line(aes(x = sample_timepoint_days_since_OP, y = small_ratio)) + \n",
    "        theme_minimal() + xlab(\"\") + ylab(\"\") + \n",
    "        theme(plot.margin = unit(c(0, 0, 0, 0), \"cm\"), \n",
    "              axis.text.y =element_text(size=8))\n",
    "    plots_ratio[[i]] <- plots_ratio_pt\n",
    "    }\n",
    "\n",
    "p1 <- plot_grid(plots_readcounts[[\"1\"]], \n",
    "          plots_readcounts[[\"2\"]], \n",
    "          plots_ratio[[\"1\"]], \n",
    "          plots_ratio[[\"2\"]], \n",
    "          plots_readcounts[[\"3\"]], \n",
    "          plots_readcounts[[\"4\"]], \n",
    "          plots_ratio[[\"3\"]], \n",
    "          plots_ratio[[\"4\"]],\n",
    "          plots_readcounts[[\"5\"]], \n",
    "          plots_readcounts[[\"6\"]], \n",
    "          plots_ratio[[\"5\"]], \n",
    "          plots_ratio[[\"6\"]], \n",
    "          plots_readcounts[[\"7\"]], \n",
    "          plots_readcounts[[\"8\"]], \n",
    "          plots_ratio[[\"7\"]], \n",
    "          plots_ratio[[\"8\"]], ncol = 2, align = \"v\",\n",
    "          rel_heights = c(0.5, 0.8, 0.5, 0.8, 0.5, 0.8, 0.5, 0.8, 0.5, 0.8, 0.5, 0.8, 0.5, 0.8, 0.5, 0.8),\n",
    "          rel_widths = c(9,9, 9,9, 9,9, 9,9, 9,9, 9,9, 9,9, 9,9))\n",
    "\n",
    "\n",
    "p2 <- plot_grid(plots_readcounts[[\"9\"]], NULL, plots_ratio[[\"10\"]],  NULL, ncol = 2, align = \"v\",\n",
    "          rel_heights = c(0.5, 0.8, 0, 0),\n",
    "          rel_widths = c(9,9, 9, 9))\n",
    "\n",
    "p3 <- plot_grid(p1, p2, ncol = 1, rel_heights=c(0.8,0.2))\n",
    "p3\n",
    "\n",
    "     \n"
   ]
  },
  {
   "cell_type": "code",
   "execution_count": null,
   "id": "9b46b511-e807-4bd4-860b-c7d06be5bf98",
   "metadata": {},
   "outputs": [],
   "source": []
  },
  {
   "cell_type": "code",
   "execution_count": null,
   "id": "523154d8-e8e2-46eb-b75c-16d896706bc4",
   "metadata": {},
   "outputs": [],
   "source": [
    "clinical_data <- read.csv(\"../data/metadata/clin_data/clinical_data_formatted.csv\")\n",
    "clinical_data_relapse <- clinical_data %>% select(patient_id, time_to_relapse_days, adjuvant_chemo_start_days, adjuvant_chemo_end_days)\n",
    "clinical_data_relapse <- clinical_data_relapse %>% rename(pt_id = patient_id)\n",
    "head(clinical_data_relapse)\n",
    "\n",
    "ratios_and_counts_small_samples_o_relapses <-left_join(ratios_and_counts_small_samples_o_relapses, clinical_data_relapse, by=\"pt_id\")\n",
    "head(ratios_and_counts_small_samples_o_relapses)\n",
    "dim(ratios_and_counts_small_samples_o_relapses)"
   ]
  },
  {
   "cell_type": "code",
   "execution_count": null,
   "id": "dbcaf5d1-afac-4f4f-b06c-6573d2785d77",
   "metadata": {},
   "outputs": [],
   "source": [
    "relapses <- ratios_and_counts_small_samples_o_relapses %>% filter(relapse_label == \"R\", sample_timepoint_days_since_OP >= time_to_relapse_days)\n",
    "pre_relapse1 <- ratios_and_counts_small_samples_o_relapses %>% group_by(pt_id) %>% \n",
    "    filter(relapse_label == \"R\", sample_timepoint_days_since_OP >= time_to_relapse_days) %>% \n",
    "    filter(sample_timepoint_days_since_OP == min(sample_timepoint_days_since_OP))\n",
    "\n",
    "pre_relapse2 <- ratios_and_counts_small_samples_o_relapses %>% filter(sample_timepoint_days_since_OP < time_to_relapse_days)\n",
    "\n",
    "pre_relapse <- bind_rows(pre_relapse1, pre_relapse2)"
   ]
  },
  {
   "cell_type": "code",
   "execution_count": null,
   "id": "f56ba714-d7b8-4550-b6ce-4c2ec54f9c4e",
   "metadata": {},
   "outputs": [],
   "source": [
    "options(repr.plot.width=9, repr.plot.height=10)\n",
    "plots_readcounts_R <- NULL\n",
    "plots_ratio_R <- NULL\n",
    "#unique(ratios_and_counts_small_samples_o$pt_id\n",
    "for (i in unique(ratios_and_counts_small_samples_o_relapses$pt_id)){\n",
    "    ratios_and_counts_small_samples_o_pt <- ratios_and_counts_small_samples_o_relapses %>% filter(pt_id == i)\n",
    "    pre_relapse_pt <- pre_relapse %>% filter(pt_id == i)\n",
    "    relapses_pt <- relapses %>% filter(pt_id == i)\n",
    "    \n",
    "    plot_readc_pt <- ggplot(ratios_and_counts_small_samples_o_pt) + \n",
    "        geom_col(aes(x = sample_timepoint_days_since_OP, y = readcount), width = 20, fill = \"gray75\") + \n",
    "        theme_minimal() + xlab(\"\") + ylab(\"\") + ggtitle(paste(i, \", cor: \", round(ratios_and_counts_small_samples_o_pt$corr_small, 3), sep = \"\")) + \n",
    "        theme(plot.margin = unit(c(0, 0, -0.4, 0), \"cm\"),\n",
    "               plot.title = element_text(size=10),\n",
    "              axis.text.x = element_blank(), \n",
    "              axis.text.y =element_text(size=8)) + \n",
    "        scale_y_continuous(breaks = c(0, 5e+08, 1e+09))\n",
    "    plots_readcounts_R[[i]] <- plot_readc_pt\n",
    "    \n",
    "    plots_ratio_pt <- ggplot() + \n",
    "        geom_point(data = ratios_and_counts_small_samples_o_pt, aes(x = sample_timepoint_days_since_OP, y = small_ratio), size = 0.8) + \n",
    "        geom_line(data = pre_relapse_pt, aes(x = sample_timepoint_days_since_OP, y = small_ratio)) + \n",
    "        geom_line(data = relapses_pt, aes(x = sample_timepoint_days_since_OP, y = small_ratio), linetype = \"dashed\") + \n",
    "        theme_minimal() + xlab(\"\") + ylab(\"\") + \n",
    "        theme(plot.margin = unit(c(0, 0, 0, 0), \"cm\"), \n",
    "              axis.text.y =element_text(size=8))\n",
    "    plots_ratio_R[[i]] <- plots_ratio_pt\n",
    "    }\n"
   ]
  },
  {
   "cell_type": "code",
   "execution_count": null,
   "id": "f5e88b32-e73e-42ba-a57b-7317d1925c63",
   "metadata": {},
   "outputs": [],
   "source": [
    "options(repr.plot.width=9, repr.plot.height=6)\n",
    "relapse_pts <- phaseIpt_R\n",
    "pR1 <- plot_grid(plots_readcounts_R[[phaseIpt_R][1]], \n",
    "          plots_readcounts_R[[phaseIpt_R][2]]], \n",
    "          plots_ratio_R[[phaseIpt_R][1]]], \n",
    "          plots_ratio_R[[phaseIpt_R][2]]], \n",
    "          plots_readcounts_R[[phaseIpt_R][3]]], \n",
    "          plots_readcounts_R[[phaseIpt_R][4]]], \n",
    "          plots_ratio_R[[phaseIpt_R][3]]], \n",
    "          plots_ratio_R[[phaseIpt_R][4]]], ncol = 2, align = \"v\",\n",
    "          rel_heights = c(0.5, 0.8, 0.5, 0.8, 0.5, 0.8, 0.5, 0.8),\n",
    "          rel_widths = c(9,9, 9,9, 9,9, 9,9))\n",
    "\n",
    "\n",
    "pR2 <- plot_grid(plots_readcounts_R[[phaseIpt_R][5]]], NULL, plots_ratio_R[[phaseIpt_R[5]],  NULL, ncol = 2, align = \"v\",\n",
    "          rel_heights = c(0.5, 0.8, 0, 0),\n",
    "          rel_widths = c(9,9, 9, 9))\n",
    "\n",
    "pR3 <- plot_grid(pR1, pR2, ncol = 1, rel_heights=c(0.66,0.33))\n",
    "pR3"
   ]
  },
  {
   "cell_type": "code",
   "execution_count": null,
   "id": "37849d04-c100-42fa-b369-57b026e5e693",
   "metadata": {},
   "outputs": [],
   "source": []
  }
 ],
 "metadata": {
  "kernelspec": {
   "display_name": "R",
   "language": "R",
   "name": "ir"
  },
  "language_info": {
   "codemirror_mode": "r",
   "file_extension": ".r",
   "mimetype": "text/x-r-source",
   "name": "R",
   "pygments_lexer": "r",
   "version": "3.6.1"
  }
 },
 "nbformat": 4,
 "nbformat_minor": 5
}
