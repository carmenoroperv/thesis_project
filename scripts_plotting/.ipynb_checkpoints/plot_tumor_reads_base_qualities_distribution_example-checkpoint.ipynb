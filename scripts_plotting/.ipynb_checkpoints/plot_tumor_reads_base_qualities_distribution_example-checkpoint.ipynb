{
 "cells": [
  {
   "cell_type": "code",
   "execution_count": 1,
   "id": "2f277b70-22d5-4e8f-8466-a8dea04ef3bb",
   "metadata": {},
   "outputs": [
    {
     "name": "stderr",
     "output_type": "stream",
     "text": [
      "Registered S3 methods overwritten by 'ggplot2':\n",
      "  method         from \n",
      "  [.quosures     rlang\n",
      "  c.quosures     rlang\n",
      "  print.quosures rlang\n",
      "Registered S3 method overwritten by 'rvest':\n",
      "  method            from\n",
      "  read_xml.response xml2\n",
      "── Attaching packages ──────────────────────────────────────────────────────────────────────────── tidyverse 1.2.1 ──\n",
      "✔ ggplot2 3.1.1     ✔ purrr   0.3.4\n",
      "✔ tibble  3.1.4     ✔ dplyr   1.0.7\n",
      "✔ tidyr   1.1.3     ✔ stringr 1.4.0\n",
      "✔ readr   1.3.1     ✔ forcats 0.4.0\n",
      "── Conflicts ─────────────────────────────────────────────────────────────────────────────── tidyverse_conflicts() ──\n",
      "✖ dplyr::filter() masks stats::filter()\n",
      "✖ dplyr::lag()    masks stats::lag()\n"
     ]
    }
   ],
   "source": [
    "library(tidyverse)"
   ]
  },
  {
   "cell_type": "code",
   "execution_count": 4,
   "id": "dd2a42c9-a92b-4f03-a000-44dc28236cee",
   "metadata": {},
   "outputs": [],
   "source": [
    "qualities <- read.csv(\"../data/C04689/C123T04689D_frfr_N295-450//tumor_bam_base_qualities.csv\")"
   ]
  },
  {
   "cell_type": "code",
   "execution_count": 5,
   "id": "b8580d2d-1e22-4fa2-adb7-db8b4c8a5944",
   "metadata": {},
   "outputs": [
    {
     "data": {
      "text/html": [
       "<table>\n",
       "<thead><tr><th scope=col>Quality</th><th scope=col>Number_of_bases</th></tr></thead>\n",
       "<tbody>\n",
       "\t<tr><td>37          </td><td>167504839954</td></tr>\n",
       "\t<tr><td>11          </td><td>  4250542101</td></tr>\n",
       "\t<tr><td>25          </td><td>  7030737118</td></tr>\n",
       "\t<tr><td> 2          </td><td>     2248080</td></tr>\n",
       "</tbody>\n",
       "</table>\n"
      ],
      "text/latex": [
       "\\begin{tabular}{r|ll}\n",
       " Quality & Number\\_of\\_bases\\\\\n",
       "\\hline\n",
       "\t 37           & 167504839954\\\\\n",
       "\t 11           &   4250542101\\\\\n",
       "\t 25           &   7030737118\\\\\n",
       "\t  2           &      2248080\\\\\n",
       "\\end{tabular}\n"
      ],
      "text/markdown": [
       "\n",
       "| Quality | Number_of_bases |\n",
       "|---|---|\n",
       "| 37           | 167504839954 |\n",
       "| 11           |   4250542101 |\n",
       "| 25           |   7030737118 |\n",
       "|  2           |      2248080 |\n",
       "\n"
      ],
      "text/plain": [
       "  Quality Number_of_bases\n",
       "1 37      167504839954   \n",
       "2 11        4250542101   \n",
       "3 25        7030737118   \n",
       "4  2           2248080   "
      ]
     },
     "metadata": {},
     "output_type": "display_data"
    }
   ],
   "source": [
    "qualities"
   ]
  },
  {
   "cell_type": "code",
   "execution_count": 21,
   "id": "7c9983ec-9d72-4fab-a170-c7ec7f73d723",
   "metadata": {},
   "outputs": [
    {
     "data": {
      "image/png": "[encoded data removed]",
      "text/plain": [
       "plot without title"
      ]
     },
     "metadata": {},
     "output_type": "display_data"
    }
   ],
   "source": [
    "options(repr.plot.width=7, repr.plot.height=8)\n",
    "qplot(as.factor(Quality), Number_of_bases, geom = \"col\", data = qualities, xlab = \"Phred base quality\", ylab = \"n bases\")"
   ]
  },
  {
   "cell_type": "code",
   "execution_count": null,
   "id": "252cd90b-014c-4bf0-abf3-765f5748d83e",
   "metadata": {},
   "outputs": [],
   "source": []
  }
 ],
 "metadata": {
  "kernelspec": {
   "display_name": "R",
   "language": "R",
   "name": "ir"
  },
  "language_info": {
   "codemirror_mode": "r",
   "file_extension": ".r",
   "mimetype": "text/x-r-source",
   "name": "R",
   "pygments_lexer": "r",
   "version": "3.6.1"
  }
 },
 "nbformat": 4,
 "nbformat_minor": 5
}
