{
 "cells": [
  {
   "cell_type": "code",
   "execution_count": null,
   "id": "3f1be5ac-0ab5-4c92-b1cb-d95ecad4fc35",
   "metadata": {},
   "outputs": [],
   "source": [
    "library(tidyverse)\n",
    "library(RColorBrewer)"
   ]
  },
  {
   "cell_type": "code",
   "execution_count": null,
   "id": "36a73a98-d1fa-4ff1-bcd0-d2803fb93d09",
   "metadata": {},
   "outputs": [],
   "source": [
    "############################################################################\n",
    "#                                                                          #\n",
    "#                          SET PARAMETERS HERE                             #\n",
    "#                                                                          #\n",
    "############################################################################\n",
    "\n",
    "############### input parameters (in data folder) ##########################\n",
    "# input_folder = \"all_germline_filtered_bams_tumor_ci5_cs1e9\" # \"all_germline_ci5_cs1e9\" # \"ci5_cs1e9\" # \"cs1e9\"\n",
    "input_folder = \"all_germline_filtered_bams_tumor_subtract_other_tumor_ci5_cs1e9\"\n",
    "#filename =  \"plotdata_unique_tumor_all_germline_singletons_excluded_tumor_4_cs_filtered.txt\" # \"plotdata_intersection_singletons_excluded_tumor_4_cs_filtered.txt\" # \"plotdata_intersection_cs1e9_filtered.txt\"\n",
    "filename = \"plotdata_intersection_filtered.txt\"\n",
    "\n",
    "############### output parameters (in plotting_results folder) #############\n",
    "#output_folder = \"ci1_cs1e9\" # \"ci5_cs1e9\" # \"union_germline_ci4_cs1e9\" # \"union_germline_filtered_tumor_bams_ci5_cs1e9\"\n",
    "output_folder = \"union_germline_filtered_tumor_bams_subtract_other_tumors_ci5_cs1e9\"\n",
    "#plot_title = \"Unique tumor kmers\" # \"Tumor kmers\"\n",
    "plot_title = \"Unique tumor kmers found in cfDNA samples\"\n",
    "\n",
    "\n",
    "paramspace <- read.csv(\"../data/metadata/paramspace_cfDNA_phaseI.csv\", sep = \",\")\n",
    "dim(paramspace)\n",
    "#output_path_unique_kmers, pt_id"
   ]
  },
  {
   "cell_type": "code",
   "execution_count": null,
   "id": "838f298e-cf10-47c8-b2ff-5cc607b63433",
   "metadata": {},
   "outputs": [],
   "source": [
    "head(paramspace)"
   ]
  },
  {
   "cell_type": "code",
   "execution_count": null,
   "id": "74149dd0-4a78-4f89-94b3-f588323ddeee",
   "metadata": {},
   "outputs": [],
   "source": [
    "paramspace <- paramspace %>% \n",
    "  mutate(tmp_chunks = stringr::str_split(cfDNA_folder, stringr::fixed(\"_\"),  n = 3)) %>%\n",
    "  mutate(sampleID = map_chr(tmp_chunks, 1),\n",
    "         sub_value = map_chr(tmp_chunks, 2), \n",
    "         sub_val = map_chr(tmp_chunks, 3)) %>%\n",
    "  select(-c(tmp_chunks, sub_value, sub_val))\n",
    "\n",
    "head(paramspace)\n",
    "dim(paramspace)"
   ]
  },
  {
   "cell_type": "code",
   "execution_count": null,
   "id": "d2df0fe4-907c-4df0-b4d1-904ea0b47dea",
   "metadata": {},
   "outputs": [],
   "source": [
    "sample_timepoint <- read.csv(\"../data/metadata/clin_data/sample_timepoint_formatted.csv\")"
   ]
  },
  {
   "cell_type": "code",
   "execution_count": null,
   "id": "0df129c1-6ec4-4b07-ae20-27168f370eb7",
   "metadata": {},
   "outputs": [],
   "source": [
    "sample_timepoint_days <- sample_timepoint %>% filter(phase == \"phaseI\")\n",
    "sample_timepoint_days <- sample_timepoint_days %>% select(sampleID, sample_timepoint_days_since_OP)\n",
    "print(sample_timepoint_days %>% filter(is.na(sample_timepoint_days_since_OP)))\n",
    "dim(sample_timepoint_days)\n",
    "head(sample_timepoint_days)"
   ]
  },
  {
   "cell_type": "code",
   "execution_count": null,
   "id": "b50c701f-eb9b-4820-a0a0-93102b88f416",
   "metadata": {},
   "outputs": [],
   "source": [
    "paramspace$sampleID <- as.character(paramspace$sampleID)\n",
    "paramspace <- left_join(paramspace, sample_timepoint_days, by = c(\"sampleID\"))\n",
    "head(paramspace)\n",
    "dim(paramspace)"
   ]
  },
  {
   "cell_type": "code",
   "execution_count": null,
   "id": "b1b080f5-3ad8-4b78-bc58-e06cf6b3072a",
   "metadata": {},
   "outputs": [],
   "source": []
  },
  {
   "cell_type": "code",
   "execution_count": null,
   "id": "4c05fb77-66e4-4c53-9ca3-0b4b4a520822",
   "metadata": {},
   "outputs": [],
   "source": [
    "data_all <- NULL\n",
    "\n",
    "plots <- NULL\n",
    "\n",
    "getPalette = colorRampPalette(brewer.pal(9, \"Blues\"))\n",
    "\n",
    "for (pt in unique(paramspace$pt_id)){\n",
    "    pt_paramspace <- paramspace %>% filter(pt_id == pt)\n",
    "    print(pt)\n",
    "    \n",
    "    data_all_pt <- NULL\n",
    "    for (row in 1:nrow(pt_paramspace)){\n",
    "        fd = pt_paramspace[row, \"cfDNA_folder\"]\n",
    "        sample_timepoint = pt_paramspace[row, \"sample_timepoint_days_since_OP\"]\n",
    "        data <- read.table(paste(\"../data/\", pt, \"/\", fd ,\"/\", input_folder, \"/\", filename, sep = \"\"))\n",
    "        data <- data %>% mutate(sample_timepoint = sample_timepoint)\n",
    "        \n",
    "        data_all_pt <- rbind(data_all_pt, data)    \n",
    "    }\n",
    "    data_all_pt <- data_all_pt %>% arrange(sample_timepoint)\n",
    "    data_all_pt$sample_timepoint <- as.factor(data_all_pt$sample_timepoint)\n",
    "    colourCount = length(unique(data_all_pt$sample_timepoint))\n",
    "    \n",
    "    colnames(data_all_pt) <- c(\"count\", \"n\", \"sample_timepoint\")\n",
    "    print(head(data_all_pt))\n",
    "    \n",
    "    data_all_1000 <- data_all_pt %>% filter(count <= 1000)\n",
    "    \n",
    "    line_smooth <- ggplot(data_all_1000) + \n",
    "        geom_smooth(aes(count, log10(n), color = sample_timepoint), size = 0.5, alpha = 1, se = FALSE) + \n",
    "        geom_line(aes(count, log10(n), color = sample_timepoint), size = 0.3, alpha = 0.2) + \n",
    "        theme_minimal()  + \n",
    "        #annotate(\"text\", x = 250, y = log10(max(data_only_250$n)) + 0.6, label = data_only_250$patient_id[which(data_only_250$n == max(data_only_250$n))]) +\n",
    "        scale_color_manual(values = getPalette(colourCount)) + \n",
    "        labs(x = \"Number of times k-mer is observed\",\n",
    "             y = \"log(Number of k-mers)\", \n",
    "            title = paste(plot_title, sep =  \"\"),\n",
    "            subtitle = paste(\"Patient \", pt, \"\\nPipeline \", input_folder, sep =  \"\"))\n",
    "    \n",
    "    ggsave(\n",
    "      paste(\"../plotting_results/\", output_folder, \"/kmer_distributions/unique_tumor_cfDNA_intersection_kmer_distributions/Patient_\", pt, \"_Unique_tumor_cfDNA_intersection_kmer_count_distribution\", \".png\", sep = \"\"),\n",
    "      line_smooth, dpi = \"print\")\n",
    "\n",
    "    \n",
    "    plots[[pt]] <- line_smooth\n",
    "    \n",
    "    \n",
    "    }\n"
   ]
  },
  {
   "cell_type": "code",
   "execution_count": null,
   "id": "1fdc70a7-515d-45b9-aae3-d13b427f38d9",
   "metadata": {},
   "outputs": [],
   "source": []
  },
  {
   "cell_type": "code",
   "execution_count": null,
   "id": "78452355-ffe8-4013-ab64-94862441d7a5",
   "metadata": {},
   "outputs": [],
   "source": []
  }
 ],
 "metadata": {
  "kernelspec": {
   "display_name": "R",
   "language": "R",
   "name": "ir"
  },
  "language_info": {
   "codemirror_mode": "r",
   "file_extension": ".r",
   "mimetype": "text/x-r-source",
   "name": "R",
   "pygments_lexer": "r",
   "version": "3.6.1"
  }
 },
 "nbformat": 4,
 "nbformat_minor": 5
}
