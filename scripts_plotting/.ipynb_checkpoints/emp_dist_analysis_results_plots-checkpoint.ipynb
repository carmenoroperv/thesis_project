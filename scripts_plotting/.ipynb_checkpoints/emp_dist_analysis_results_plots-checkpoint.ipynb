{
 "cells": [
  {
   "cell_type": "code",
   "execution_count": 1,
   "id": "4a4003dd-62de-4678-82a1-c3af847ae5ec",
   "metadata": {},
   "outputs": [
    {
     "name": "stderr",
     "output_type": "stream",
     "text": [
      "Registered S3 methods overwritten by 'ggplot2':\n",
      "  method         from \n",
      "  [.quosures     rlang\n",
      "  c.quosures     rlang\n",
      "  print.quosures rlang\n",
      "Registered S3 method overwritten by 'rvest':\n",
      "  method            from\n",
      "  read_xml.response xml2\n",
      "── Attaching packages ─────────────────────────────────────────────────────────────── tidyverse 1.2.1 ──\n",
      "✔ ggplot2 3.1.1     ✔ purrr   0.3.4\n",
      "✔ tibble  3.1.4     ✔ dplyr   1.0.7\n",
      "✔ tidyr   1.1.3     ✔ stringr 1.4.0\n",
      "✔ readr   1.3.1     ✔ forcats 0.4.0\n",
      "── Conflicts ────────────────────────────────────────────────────────────────── tidyverse_conflicts() ──\n",
      "✖ dplyr::filter() masks stats::filter()\n",
      "✖ dplyr::lag()    masks stats::lag()\n"
     ]
    }
   ],
   "source": [
    "library(tidyverse)\n",
    "library(RColorBrewer)"
   ]
  },
  {
   "cell_type": "code",
   "execution_count": 2,
   "id": "b37a9d63-3232-4c58-9260-15a2b57fb30f",
   "metadata": {},
   "outputs": [],
   "source": [
    "############################################################################\n",
    "#                                                                          #\n",
    "#                          SET PARAMETERS HERE                             #\n",
    "#                                                                          #\n",
    "############################################################################\n",
    "\n",
    "input_folder_target_ratios = \"ci5_cs1e9\"\n",
    "filetype_target_ratios = \"ratio_singletons_excluded_tumor_4_cs\"\n",
    "\n",
    "input_folder_ratios_dist = \"ratio_emp_dist_analysis_ci4_cs1e9\"\n",
    "output_folder = \"ci5_cs1e9\""
   ]
  },
  {
   "cell_type": "code",
   "execution_count": 3,
   "id": "43aafde5-feb2-4193-8b6a-19a17a88d047",
   "metadata": {},
   "outputs": [
    {
     "data": {
      "text/html": [
       "<ol class=list-inline>\n",
       "\t<li>2660</li>\n",
       "\t<li>5</li>\n",
       "</ol>\n"
      ],
      "text/latex": [
       "\\begin{enumerate*}\n",
       "\\item 2660\n",
       "\\item 5\n",
       "\\end{enumerate*}\n"
      ],
      "text/markdown": [
       "1. 2660\n",
       "2. 5\n",
       "\n",
       "\n"
      ],
      "text/plain": [
       "[1] 2660    5"
      ]
     },
     "metadata": {},
     "output_type": "display_data"
    },
    {
     "data": {
      "text/html": [
       "<table>\n",
       "<thead><tr><th scope=col>X</th><th scope=col>patient_id</th><th scope=col>unique_tumor_kmers_folder</th><th scope=col>other_patient_id</th><th scope=col>other_patient_cfDNA_folder</th></tr></thead>\n",
       "<tbody>\n",
       "\t<tr><td>0                         </td><td>C04689                    </td><td>C123T04689D_frfr_N295-450 </td><td>C04849                    </td><td>C258A04849D_cfdna_N295-141</td></tr>\n",
       "\t<tr><td>1                         </td><td>C04689                    </td><td>C123T04689D_frfr_N295-450 </td><td>C04849                    </td><td>C255A04849D_cfdna_N295-87 </td></tr>\n",
       "\t<tr><td>2                         </td><td>C04689                    </td><td>C123T04689D_frfr_N295-450 </td><td>C04849                    </td><td>C194A04849D_cfdna_N295-218</td></tr>\n",
       "\t<tr><td>3                         </td><td>C04689                    </td><td>C123T04689D_frfr_N295-450 </td><td>C04849                    </td><td>C252A04849D_cfdna_N295-64 </td></tr>\n",
       "\t<tr><td>4                         </td><td>C04689                    </td><td>C123T04689D_frfr_N295-450 </td><td>C04849                    </td><td>C256A04849D_cfdna_N295-115</td></tr>\n",
       "\t<tr><td>5                         </td><td>C04689                    </td><td>C123T04689D_frfr_N295-450 </td><td>C04849                    </td><td>C263A04849D_cfdna_N295-222</td></tr>\n",
       "</tbody>\n",
       "</table>\n"
      ],
      "text/latex": [
       "\\begin{tabular}{r|lllll}\n",
       " X & patient\\_id & unique\\_tumor\\_kmers\\_folder & other\\_patient\\_id & other\\_patient\\_cfDNA\\_folder\\\\\n",
       "\\hline\n",
       "\t 0                              & C04689                         & C123T04689D\\_frfr\\_N295-450  & C04849                         & C258A04849D\\_cfdna\\_N295-141\\\\\n",
       "\t 1                              & C04689                         & C123T04689D\\_frfr\\_N295-450  & C04849                         & C255A04849D\\_cfdna\\_N295-87 \\\\\n",
       "\t 2                              & C04689                         & C123T04689D\\_frfr\\_N295-450  & C04849                         & C194A04849D\\_cfdna\\_N295-218\\\\\n",
       "\t 3                              & C04689                         & C123T04689D\\_frfr\\_N295-450  & C04849                         & C252A04849D\\_cfdna\\_N295-64 \\\\\n",
       "\t 4                              & C04689                         & C123T04689D\\_frfr\\_N295-450  & C04849                         & C256A04849D\\_cfdna\\_N295-115\\\\\n",
       "\t 5                              & C04689                         & C123T04689D\\_frfr\\_N295-450  & C04849                         & C263A04849D\\_cfdna\\_N295-222\\\\\n",
       "\\end{tabular}\n"
      ],
      "text/markdown": [
       "\n",
       "| X | patient_id | unique_tumor_kmers_folder | other_patient_id | other_patient_cfDNA_folder |\n",
       "|---|---|---|---|---|\n",
       "| 0                          | C04689                     | C123T04689D_frfr_N295-450  | C04849                     | C258A04849D_cfdna_N295-141 |\n",
       "| 1                          | C04689                     | C123T04689D_frfr_N295-450  | C04849                     | C255A04849D_cfdna_N295-87  |\n",
       "| 2                          | C04689                     | C123T04689D_frfr_N295-450  | C04849                     | C194A04849D_cfdna_N295-218 |\n",
       "| 3                          | C04689                     | C123T04689D_frfr_N295-450  | C04849                     | C252A04849D_cfdna_N295-64  |\n",
       "| 4                          | C04689                     | C123T04689D_frfr_N295-450  | C04849                     | C256A04849D_cfdna_N295-115 |\n",
       "| 5                          | C04689                     | C123T04689D_frfr_N295-450  | C04849                     | C263A04849D_cfdna_N295-222 |\n",
       "\n"
      ],
      "text/plain": [
       "  X patient_id unique_tumor_kmers_folder other_patient_id\n",
       "1 0 C04689     C123T04689D_frfr_N295-450 C04849          \n",
       "2 1 C04689     C123T04689D_frfr_N295-450 C04849          \n",
       "3 2 C04689     C123T04689D_frfr_N295-450 C04849          \n",
       "4 3 C04689     C123T04689D_frfr_N295-450 C04849          \n",
       "5 4 C04689     C123T04689D_frfr_N295-450 C04849          \n",
       "6 5 C04689     C123T04689D_frfr_N295-450 C04849          \n",
       "  other_patient_cfDNA_folder\n",
       "1 C258A04849D_cfdna_N295-141\n",
       "2 C255A04849D_cfdna_N295-87 \n",
       "3 C194A04849D_cfdna_N295-218\n",
       "4 C252A04849D_cfdna_N295-64 \n",
       "5 C256A04849D_cfdna_N295-115\n",
       "6 C263A04849D_cfdna_N295-222"
      ]
     },
     "metadata": {},
     "output_type": "display_data"
    }
   ],
   "source": [
    "paramspace_emp <- read.csv(\"../data/metadata/paramspace_empirical_dist_analysis_phaseI.csv\", sep = \",\")\n",
    "dim(paramspace_emp)\n",
    "head(paramspace_emp)"
   ]
  },
  {
   "cell_type": "code",
   "execution_count": 4,
   "id": "56121d00-2efa-40c9-a04a-f96306ee2a72",
   "metadata": {},
   "outputs": [
    {
     "data": {
      "text/html": [
       "<ol class=list-inline>\n",
       "\t<li>190</li>\n",
       "\t<li>5</li>\n",
       "</ol>\n"
      ],
      "text/latex": [
       "\\begin{enumerate*}\n",
       "\\item 190\n",
       "\\item 5\n",
       "\\end{enumerate*}\n"
      ],
      "text/markdown": [
       "1. 190\n",
       "2. 5\n",
       "\n",
       "\n"
      ],
      "text/plain": [
       "[1] 190   5"
      ]
     },
     "metadata": {},
     "output_type": "display_data"
    }
   ],
   "source": [
    "paramspace_cfDNA <- read.csv(\"../data/metadata/paramspace_cfDNA_phaseI.csv\", sep = \",\")\n",
    "paramspace_cfDNA  <- paramspace_cfDNA %>% rename(patient_id = pt_id)\n",
    "dim(paramspace_cfDNA)"
   ]
  },
  {
   "cell_type": "code",
   "execution_count": 5,
   "id": "7c913ee1-6d8b-45f9-9fa7-58bf2c24fdd4",
   "metadata": {},
   "outputs": [],
   "source": [
    "paramspace_cfDNA[\"big_ratio\"] <- NA\n",
    "paramspace_cfDNA[\"big_ratio_CI_lower\"] <- NA\n",
    "paramspace_cfDNA[\"big_ratio_CI_upper\"] <- NA\n",
    "\n",
    "paramspace_cfDNA[\"small_ratio\"] <- NA\n",
    "paramspace_cfDNA[\"small_ratio_CI_lower\"] <- NA\n",
    "paramspace_cfDNA[\"small_ratio_CI_upper\"] <- NA\n",
    "\n",
    "for (row in 1:nrow(paramspace_cfDNA)){\n",
    "    pt = paramspace_cfDNA[row, \"patient_id\"]\n",
    "    #print(pt)\n",
    "    fd = paramspace_cfDNA[row, \"cfDNA_folder\"]\n",
    "    big_r = read.csv(paste(\"../data/\", pt, \"/\" , fd, \"/\", input_folder_target_ratios, \"/\", \"big_\", filetype_target_ratios, \".csv\", sep = \"\"))\n",
    "    small_r = read.csv(paste(\"../data/\", pt, \"/\", fd, \"/\", input_folder_target_ratios, \"/\", \"small_\", filetype_target_ratios, \".csv\", sep = \"\"))\n",
    "    #print(big_r[[1]])\n",
    "    #print(small_r[[1]])\n",
    "    paramspace_cfDNA[row, \"big_ratio\"] = big_r$ratio\n",
    "    paramspace_cfDNA[row, \"big_ratio_CI_lower\"] = big_r$lower_CI\n",
    "    paramspace_cfDNA[row, \"big_ratio_CI_upper\"] = big_r$upper_CI\n",
    "    \n",
    "    paramspace_cfDNA[row, \"small_ratio\"] = small_r$ratio\n",
    "    paramspace_cfDNA[row, \"small_ratio_CI_lower\"] = small_r$lower_CI\n",
    "    paramspace_cfDNA[row, \"small_ratio_CI_upper\"] = small_r$upper_CI\n",
    "}"
   ]
  },
  {
   "cell_type": "code",
   "execution_count": 6,
   "id": "8b3d8c3f-0b9f-4e7c-bc5a-752c26a8616f",
   "metadata": {},
   "outputs": [
    {
     "data": {
      "text/html": [
       "<table>\n",
       "<thead><tr><th scope=col>patient_id</th><th scope=col>cfDNA_folder</th><th scope=col>cfDNA_file</th><th scope=col>cfDNA_bam_path</th><th scope=col>unique_kmers_folder</th><th scope=col>big_ratio</th><th scope=col>big_ratio_CI_lower</th><th scope=col>big_ratio_CI_upper</th><th scope=col>small_ratio</th><th scope=col>small_ratio_CI_lower</th><th scope=col>small_ratio_CI_upper</th><th scope=col>sampleID</th></tr></thead>\n",
       "<tbody>\n",
       "\t<tr><td>C04689                                                                                                    </td><td>C303A04689D_cfdna_N295-103                                                                                </td><td>C303A04689D_cfdna.aligned.sorted.markdup.bam                                                              </td><td>../../DerivedData/main_data/C04689/C303A04689D_cfdna_N295-103/C303A04689D_cfdna.aligned.sorted.markdup.bam</td><td>C123T04689D_frfr_N295-450                                                                                 </td><td>0.5577292                                                                                                 </td><td>0.5575592                                                                                                 </td><td>0.5579010                                                                                                 </td><td>0.5479398                                                                                                 </td><td>0.5476892                                                                                                 </td><td>0.5481904                                                                                                 </td><td>C303A04689D                                                                                               </td></tr>\n",
       "\t<tr><td>C04689                                                                                                    </td><td>C305A04689D_cfdna_N295-71                                                                                 </td><td>C305A04689D_cfdna.aligned.sorted.markdup.bam                                                              </td><td>../../DerivedData/main_data/C04689/C305A04689D_cfdna_N295-71/C305A04689D_cfdna.aligned.sorted.markdup.bam </td><td>C123T04689D_frfr_N295-450                                                                                 </td><td>0.5585645                                                                                                 </td><td>0.5583999                                                                                                 </td><td>0.5587261                                                                                                 </td><td>0.5709877                                                                                                 </td><td>0.5707385                                                                                                 </td><td>0.5712370                                                                                                 </td><td>C305A04689D                                                                                               </td></tr>\n",
       "\t<tr><td>C04689                                                                                                    </td><td>C309A04689D_cfdna_N295-47                                                                                 </td><td>C309A04689D_cfdna.aligned.sorted.markdup.bam                                                              </td><td>../../DerivedData/main_data/C04689/C309A04689D_cfdna_N295-47/C309A04689D_cfdna.aligned.sorted.markdup.bam </td><td>C123T04689D_frfr_N295-450                                                                                 </td><td>0.5478894                                                                                                 </td><td>0.5477200                                                                                                 </td><td>0.5480527                                                                                                 </td><td>0.5489249                                                                                                 </td><td>0.5486743                                                                                                 </td><td>0.5491754                                                                                                 </td><td>C309A04689D                                                                                               </td></tr>\n",
       "\t<tr><td>C04689                                                                                                    </td><td>C302A04689D_cfdna_N295-102                                                                                </td><td>C302A04689D_cfdna.aligned.sorted.markdup.bam                                                              </td><td>../../DerivedData/main_data/C04689/C302A04689D_cfdna_N295-102/C302A04689D_cfdna.aligned.sorted.markdup.bam</td><td>C123T04689D_frfr_N295-450                                                                                 </td><td>0.5536607                                                                                                 </td><td>0.5534985                                                                                                 </td><td>0.5538208                                                                                                 </td><td>0.5626518                                                                                                 </td><td>0.5624020                                                                                                 </td><td>0.5629016                                                                                                 </td><td>C302A04689D                                                                                               </td></tr>\n",
       "\t<tr><td>C04689                                                                                                    </td><td>C299A04689D_cfdna_N295-99                                                                                 </td><td>C299A04689D_cfdna.aligned.sorted.markdup.bam                                                              </td><td>../../DerivedData/main_data/C04689/C299A04689D_cfdna_N295-99/C299A04689D_cfdna.aligned.sorted.markdup.bam </td><td>C123T04689D_frfr_N295-450                                                                                 </td><td>0.5570174                                                                                                 </td><td>0.5568513                                                                                                 </td><td>0.5571812                                                                                                 </td><td>0.5705301                                                                                                 </td><td>0.5702808                                                                                                 </td><td>0.5707793                                                                                                 </td><td>C299A04689D                                                                                               </td></tr>\n",
       "\t<tr><td>C04689                                                                                                    </td><td>C307A04689D_cfdna_N295-110                                                                                </td><td>C307A04689D_cfdna.aligned.sorted.markdup.bam                                                              </td><td>../../DerivedData/main_data/C04689/C307A04689D_cfdna_N295-110/C307A04689D_cfdna.aligned.sorted.markdup.bam</td><td>C123T04689D_frfr_N295-450                                                                                 </td><td>0.5608753                                                                                                 </td><td>0.5607092                                                                                                 </td><td>0.5610420                                                                                                 </td><td>0.5669944                                                                                                 </td><td>0.5667449                                                                                                 </td><td>0.5672439                                                                                                 </td><td>C307A04689D                                                                                               </td></tr>\n",
       "</tbody>\n",
       "</table>\n"
      ],
      "text/latex": [
       "\\begin{tabular}{r|llllllllllll}\n",
       " patient\\_id & cfDNA\\_folder & cfDNA\\_file & cfDNA\\_bam\\_path & unique\\_kmers\\_folder & big\\_ratio & big\\_ratio\\_CI\\_lower & big\\_ratio\\_CI\\_upper & small\\_ratio & small\\_ratio\\_CI\\_lower & small\\_ratio\\_CI\\_upper & sampleID\\\\\n",
       "\\hline\n",
       "\t C04689                                                                                                             & C303A04689D\\_cfdna\\_N295-103                                                                                     & C303A04689D\\_cfdna.aligned.sorted.markdup.bam                                                                     & ../../DerivedData/main\\_data/C04689/C303A04689D\\_cfdna\\_N295-103/C303A04689D\\_cfdna.aligned.sorted.markdup.bam & C123T04689D\\_frfr\\_N295-450                                                                                      & 0.5577292                                                                                                          & 0.5575592                                                                                                          & 0.5579010                                                                                                          & 0.5479398                                                                                                          & 0.5476892                                                                                                          & 0.5481904                                                                                                          & C303A04689D                                                                                                       \\\\\n",
       "\t C04689                                                                                                             & C305A04689D\\_cfdna\\_N295-71                                                                                      & C305A04689D\\_cfdna.aligned.sorted.markdup.bam                                                                     & ../../DerivedData/main\\_data/C04689/C305A04689D\\_cfdna\\_N295-71/C305A04689D\\_cfdna.aligned.sorted.markdup.bam  & C123T04689D\\_frfr\\_N295-450                                                                                      & 0.5585645                                                                                                          & 0.5583999                                                                                                          & 0.5587261                                                                                                          & 0.5709877                                                                                                          & 0.5707385                                                                                                          & 0.5712370                                                                                                          & C305A04689D                                                                                                       \\\\\n",
       "\t C04689                                                                                                             & C309A04689D\\_cfdna\\_N295-47                                                                                      & C309A04689D\\_cfdna.aligned.sorted.markdup.bam                                                                     & ../../DerivedData/main\\_data/C04689/C309A04689D\\_cfdna\\_N295-47/C309A04689D\\_cfdna.aligned.sorted.markdup.bam  & C123T04689D\\_frfr\\_N295-450                                                                                      & 0.5478894                                                                                                          & 0.5477200                                                                                                          & 0.5480527                                                                                                          & 0.5489249                                                                                                          & 0.5486743                                                                                                          & 0.5491754                                                                                                          & C309A04689D                                                                                                       \\\\\n",
       "\t C04689                                                                                                             & C302A04689D\\_cfdna\\_N295-102                                                                                     & C302A04689D\\_cfdna.aligned.sorted.markdup.bam                                                                     & ../../DerivedData/main\\_data/C04689/C302A04689D\\_cfdna\\_N295-102/C302A04689D\\_cfdna.aligned.sorted.markdup.bam & C123T04689D\\_frfr\\_N295-450                                                                                      & 0.5536607                                                                                                          & 0.5534985                                                                                                          & 0.5538208                                                                                                          & 0.5626518                                                                                                          & 0.5624020                                                                                                          & 0.5629016                                                                                                          & C302A04689D                                                                                                       \\\\\n",
       "\t C04689                                                                                                             & C299A04689D\\_cfdna\\_N295-99                                                                                      & C299A04689D\\_cfdna.aligned.sorted.markdup.bam                                                                     & ../../DerivedData/main\\_data/C04689/C299A04689D\\_cfdna\\_N295-99/C299A04689D\\_cfdna.aligned.sorted.markdup.bam  & C123T04689D\\_frfr\\_N295-450                                                                                      & 0.5570174                                                                                                          & 0.5568513                                                                                                          & 0.5571812                                                                                                          & 0.5705301                                                                                                          & 0.5702808                                                                                                          & 0.5707793                                                                                                          & C299A04689D                                                                                                       \\\\\n",
       "\t C04689                                                                                                             & C307A04689D\\_cfdna\\_N295-110                                                                                     & C307A04689D\\_cfdna.aligned.sorted.markdup.bam                                                                     & ../../DerivedData/main\\_data/C04689/C307A04689D\\_cfdna\\_N295-110/C307A04689D\\_cfdna.aligned.sorted.markdup.bam & C123T04689D\\_frfr\\_N295-450                                                                                      & 0.5608753                                                                                                          & 0.5607092                                                                                                          & 0.5610420                                                                                                          & 0.5669944                                                                                                          & 0.5667449                                                                                                          & 0.5672439                                                                                                          & C307A04689D                                                                                                       \\\\\n",
       "\\end{tabular}\n"
      ],
      "text/markdown": [
       "\n",
       "| patient_id | cfDNA_folder | cfDNA_file | cfDNA_bam_path | unique_kmers_folder | big_ratio | big_ratio_CI_lower | big_ratio_CI_upper | small_ratio | small_ratio_CI_lower | small_ratio_CI_upper | sampleID |\n",
       "|---|---|---|---|---|---|---|---|---|---|---|---|\n",
       "| C04689                                                                                                     | C303A04689D_cfdna_N295-103                                                                                 | C303A04689D_cfdna.aligned.sorted.markdup.bam                                                               | ../../DerivedData/main_data/C04689/C303A04689D_cfdna_N295-103/C303A04689D_cfdna.aligned.sorted.markdup.bam | C123T04689D_frfr_N295-450                                                                                  | 0.5577292                                                                                                  | 0.5575592                                                                                                  | 0.5579010                                                                                                  | 0.5479398                                                                                                  | 0.5476892                                                                                                  | 0.5481904                                                                                                  | C303A04689D                                                                                                |\n",
       "| C04689                                                                                                     | C305A04689D_cfdna_N295-71                                                                                  | C305A04689D_cfdna.aligned.sorted.markdup.bam                                                               | ../../DerivedData/main_data/C04689/C305A04689D_cfdna_N295-71/C305A04689D_cfdna.aligned.sorted.markdup.bam  | C123T04689D_frfr_N295-450                                                                                  | 0.5585645                                                                                                  | 0.5583999                                                                                                  | 0.5587261                                                                                                  | 0.5709877                                                                                                  | 0.5707385                                                                                                  | 0.5712370                                                                                                  | C305A04689D                                                                                                |\n",
       "| C04689                                                                                                     | C309A04689D_cfdna_N295-47                                                                                  | C309A04689D_cfdna.aligned.sorted.markdup.bam                                                               | ../../DerivedData/main_data/C04689/C309A04689D_cfdna_N295-47/C309A04689D_cfdna.aligned.sorted.markdup.bam  | C123T04689D_frfr_N295-450                                                                                  | 0.5478894                                                                                                  | 0.5477200                                                                                                  | 0.5480527                                                                                                  | 0.5489249                                                                                                  | 0.5486743                                                                                                  | 0.5491754                                                                                                  | C309A04689D                                                                                                |\n",
       "| C04689                                                                                                     | C302A04689D_cfdna_N295-102                                                                                 | C302A04689D_cfdna.aligned.sorted.markdup.bam                                                               | ../../DerivedData/main_data/C04689/C302A04689D_cfdna_N295-102/C302A04689D_cfdna.aligned.sorted.markdup.bam | C123T04689D_frfr_N295-450                                                                                  | 0.5536607                                                                                                  | 0.5534985                                                                                                  | 0.5538208                                                                                                  | 0.5626518                                                                                                  | 0.5624020                                                                                                  | 0.5629016                                                                                                  | C302A04689D                                                                                                |\n",
       "| C04689                                                                                                     | C299A04689D_cfdna_N295-99                                                                                  | C299A04689D_cfdna.aligned.sorted.markdup.bam                                                               | ../../DerivedData/main_data/C04689/C299A04689D_cfdna_N295-99/C299A04689D_cfdna.aligned.sorted.markdup.bam  | C123T04689D_frfr_N295-450                                                                                  | 0.5570174                                                                                                  | 0.5568513                                                                                                  | 0.5571812                                                                                                  | 0.5705301                                                                                                  | 0.5702808                                                                                                  | 0.5707793                                                                                                  | C299A04689D                                                                                                |\n",
       "| C04689                                                                                                     | C307A04689D_cfdna_N295-110                                                                                 | C307A04689D_cfdna.aligned.sorted.markdup.bam                                                               | ../../DerivedData/main_data/C04689/C307A04689D_cfdna_N295-110/C307A04689D_cfdna.aligned.sorted.markdup.bam | C123T04689D_frfr_N295-450                                                                                  | 0.5608753                                                                                                  | 0.5607092                                                                                                  | 0.5610420                                                                                                  | 0.5669944                                                                                                  | 0.5667449                                                                                                  | 0.5672439                                                                                                  | C307A04689D                                                                                                |\n",
       "\n"
      ],
      "text/plain": [
       "  patient_id cfDNA_folder              \n",
       "1 C04689     C303A04689D_cfdna_N295-103\n",
       "2 C04689     C305A04689D_cfdna_N295-71 \n",
       "3 C04689     C309A04689D_cfdna_N295-47 \n",
       "4 C04689     C302A04689D_cfdna_N295-102\n",
       "5 C04689     C299A04689D_cfdna_N295-99 \n",
       "6 C04689     C307A04689D_cfdna_N295-110\n",
       "  cfDNA_file                                  \n",
       "1 C303A04689D_cfdna.aligned.sorted.markdup.bam\n",
       "2 C305A04689D_cfdna.aligned.sorted.markdup.bam\n",
       "3 C309A04689D_cfdna.aligned.sorted.markdup.bam\n",
       "4 C302A04689D_cfdna.aligned.sorted.markdup.bam\n",
       "5 C299A04689D_cfdna.aligned.sorted.markdup.bam\n",
       "6 C307A04689D_cfdna.aligned.sorted.markdup.bam\n",
       "  cfDNA_bam_path                                                                                            \n",
       "1 ../../DerivedData/main_data/C04689/C303A04689D_cfdna_N295-103/C303A04689D_cfdna.aligned.sorted.markdup.bam\n",
       "2 ../../DerivedData/main_data/C04689/C305A04689D_cfdna_N295-71/C305A04689D_cfdna.aligned.sorted.markdup.bam \n",
       "3 ../../DerivedData/main_data/C04689/C309A04689D_cfdna_N295-47/C309A04689D_cfdna.aligned.sorted.markdup.bam \n",
       "4 ../../DerivedData/main_data/C04689/C302A04689D_cfdna_N295-102/C302A04689D_cfdna.aligned.sorted.markdup.bam\n",
       "5 ../../DerivedData/main_data/C04689/C299A04689D_cfdna_N295-99/C299A04689D_cfdna.aligned.sorted.markdup.bam \n",
       "6 ../../DerivedData/main_data/C04689/C307A04689D_cfdna_N295-110/C307A04689D_cfdna.aligned.sorted.markdup.bam\n",
       "  unique_kmers_folder       big_ratio big_ratio_CI_lower big_ratio_CI_upper\n",
       "1 C123T04689D_frfr_N295-450 0.5577292 0.5575592          0.5579010         \n",
       "2 C123T04689D_frfr_N295-450 0.5585645 0.5583999          0.5587261         \n",
       "3 C123T04689D_frfr_N295-450 0.5478894 0.5477200          0.5480527         \n",
       "4 C123T04689D_frfr_N295-450 0.5536607 0.5534985          0.5538208         \n",
       "5 C123T04689D_frfr_N295-450 0.5570174 0.5568513          0.5571812         \n",
       "6 C123T04689D_frfr_N295-450 0.5608753 0.5607092          0.5610420         \n",
       "  small_ratio small_ratio_CI_lower small_ratio_CI_upper sampleID   \n",
       "1 0.5479398   0.5476892            0.5481904            C303A04689D\n",
       "2 0.5709877   0.5707385            0.5712370            C305A04689D\n",
       "3 0.5489249   0.5486743            0.5491754            C309A04689D\n",
       "4 0.5626518   0.5624020            0.5629016            C302A04689D\n",
       "5 0.5705301   0.5702808            0.5707793            C299A04689D\n",
       "6 0.5669944   0.5667449            0.5672439            C307A04689D"
      ]
     },
     "metadata": {},
     "output_type": "display_data"
    },
    {
     "data": {
      "text/html": [
       "<ol class=list-inline>\n",
       "\t<li>190</li>\n",
       "\t<li>12</li>\n",
       "</ol>\n"
      ],
      "text/latex": [
       "\\begin{enumerate*}\n",
       "\\item 190\n",
       "\\item 12\n",
       "\\end{enumerate*}\n"
      ],
      "text/markdown": [
       "1. 190\n",
       "2. 12\n",
       "\n",
       "\n"
      ],
      "text/plain": [
       "[1] 190  12"
      ]
     },
     "metadata": {},
     "output_type": "display_data"
    }
   ],
   "source": [
    "paramspace_cfDNA <- paramspace_cfDNA %>% \n",
    "  mutate(tmp_chunks = stringr::str_split(cfDNA_folder, stringr::fixed(\"_\"),  n = 3)) %>%\n",
    "  mutate(sampleID = map_chr(tmp_chunks, 1),\n",
    "         sub_value = map_chr(tmp_chunks, 2), \n",
    "         sub_val = map_chr(tmp_chunks, 3)) %>%\n",
    "  select(-c(tmp_chunks, sub_value, sub_val))\n",
    "\n",
    "head(paramspace_cfDNA)\n",
    "dim(paramspace_cfDNA)"
   ]
  },
  {
   "cell_type": "code",
   "execution_count": 7,
   "id": "68615caa-e56c-4072-87b3-4b2be305bf18",
   "metadata": {},
   "outputs": [],
   "source": [
    "sample_timepoint <- read.csv(\"../data/metadata/clin_data/sample_timepoint_formatted.csv\")"
   ]
  },
  {
   "cell_type": "code",
   "execution_count": 8,
   "id": "724193a5-5397-48ca-9f40-859bd21427cf",
   "metadata": {},
   "outputs": [
    {
     "name": "stdout",
     "output_type": "stream",
     "text": [
      "[1] sampleID                       sample_timepoint_days_since_OP\n",
      "<0 rows> (or 0-length row.names)\n"
     ]
    },
    {
     "data": {
      "text/html": [
       "<ol class=list-inline>\n",
       "\t<li>190</li>\n",
       "\t<li>2</li>\n",
       "</ol>\n"
      ],
      "text/latex": [
       "\\begin{enumerate*}\n",
       "\\item 190\n",
       "\\item 2\n",
       "\\end{enumerate*}\n"
      ],
      "text/markdown": [
       "1. 190\n",
       "2. 2\n",
       "\n",
       "\n"
      ],
      "text/plain": [
       "[1] 190   2"
      ]
     },
     "metadata": {},
     "output_type": "display_data"
    },
    {
     "data": {
      "text/html": [
       "<table>\n",
       "<thead><tr><th scope=col>sampleID</th><th scope=col>sample_timepoint_days_since_OP</th></tr></thead>\n",
       "<tbody>\n",
       "\t<tr><td>C299A04689D</td><td> -1        </td></tr>\n",
       "\t<tr><td>C300A04689D</td><td> 37        </td></tr>\n",
       "\t<tr><td>C301A04689D</td><td> 93        </td></tr>\n",
       "\t<tr><td>C302A04689D</td><td>175        </td></tr>\n",
       "\t<tr><td>C303A04689D</td><td>267        </td></tr>\n",
       "\t<tr><td>C304A04689D</td><td>362        </td></tr>\n",
       "</tbody>\n",
       "</table>\n"
      ],
      "text/latex": [
       "\\begin{tabular}{r|ll}\n",
       " sampleID & sample\\_timepoint\\_days\\_since\\_OP\\\\\n",
       "\\hline\n",
       "\t C299A04689D &  -1        \\\\\n",
       "\t C300A04689D &  37        \\\\\n",
       "\t C301A04689D &  93        \\\\\n",
       "\t C302A04689D & 175        \\\\\n",
       "\t C303A04689D & 267        \\\\\n",
       "\t C304A04689D & 362        \\\\\n",
       "\\end{tabular}\n"
      ],
      "text/markdown": [
       "\n",
       "| sampleID | sample_timepoint_days_since_OP |\n",
       "|---|---|\n",
       "| C299A04689D |  -1         |\n",
       "| C300A04689D |  37         |\n",
       "| C301A04689D |  93         |\n",
       "| C302A04689D | 175         |\n",
       "| C303A04689D | 267         |\n",
       "| C304A04689D | 362         |\n",
       "\n"
      ],
      "text/plain": [
       "  sampleID    sample_timepoint_days_since_OP\n",
       "1 C299A04689D  -1                           \n",
       "2 C300A04689D  37                           \n",
       "3 C301A04689D  93                           \n",
       "4 C302A04689D 175                           \n",
       "5 C303A04689D 267                           \n",
       "6 C304A04689D 362                           "
      ]
     },
     "metadata": {},
     "output_type": "display_data"
    }
   ],
   "source": [
    "sample_timepoint_days <- sample_timepoint %>% filter(phase == \"phaseI\")\n",
    "sample_timepoint_days <- sample_timepoint_days %>% select(sampleID, sample_timepoint_days_since_OP)\n",
    "print(sample_timepoint_days %>% filter(is.na(sample_timepoint_days_since_OP)))\n",
    "dim(sample_timepoint_days)\n",
    "head(sample_timepoint_days)"
   ]
  },
  {
   "cell_type": "code",
   "execution_count": 9,
   "id": "9c893b3f-6cce-4c36-b582-3223ccadb6e4",
   "metadata": {},
   "outputs": [
    {
     "data": {
      "text/html": [
       "<table>\n",
       "<thead><tr><th scope=col>patient_id</th><th scope=col>cfDNA_folder</th><th scope=col>cfDNA_file</th><th scope=col>cfDNA_bam_path</th><th scope=col>unique_kmers_folder</th><th scope=col>big_ratio</th><th scope=col>big_ratio_CI_lower</th><th scope=col>big_ratio_CI_upper</th><th scope=col>small_ratio</th><th scope=col>small_ratio_CI_lower</th><th scope=col>small_ratio_CI_upper</th><th scope=col>sampleID</th><th scope=col>sample_timepoint_days_since_OP</th></tr></thead>\n",
       "<tbody>\n",
       "\t<tr><td>C04689                                                                                                    </td><td>C303A04689D_cfdna_N295-103                                                                                </td><td>C303A04689D_cfdna.aligned.sorted.markdup.bam                                                              </td><td>../../DerivedData/main_data/C04689/C303A04689D_cfdna_N295-103/C303A04689D_cfdna.aligned.sorted.markdup.bam</td><td>C123T04689D_frfr_N295-450                                                                                 </td><td>0.5577292                                                                                                 </td><td>0.5575592                                                                                                 </td><td>0.5579010                                                                                                 </td><td>0.5479398                                                                                                 </td><td>0.5476892                                                                                                 </td><td>0.5481904                                                                                                 </td><td>C303A04689D                                                                                               </td><td>267                                                                                                       </td></tr>\n",
       "\t<tr><td>C04689                                                                                                    </td><td>C305A04689D_cfdna_N295-71                                                                                 </td><td>C305A04689D_cfdna.aligned.sorted.markdup.bam                                                              </td><td>../../DerivedData/main_data/C04689/C305A04689D_cfdna_N295-71/C305A04689D_cfdna.aligned.sorted.markdup.bam </td><td>C123T04689D_frfr_N295-450                                                                                 </td><td>0.5585645                                                                                                 </td><td>0.5583999                                                                                                 </td><td>0.5587261                                                                                                 </td><td>0.5709877                                                                                                 </td><td>0.5707385                                                                                                 </td><td>0.5712370                                                                                                 </td><td>C305A04689D                                                                                               </td><td>454                                                                                                       </td></tr>\n",
       "\t<tr><td>C04689                                                                                                    </td><td>C309A04689D_cfdna_N295-47                                                                                 </td><td>C309A04689D_cfdna.aligned.sorted.markdup.bam                                                              </td><td>../../DerivedData/main_data/C04689/C309A04689D_cfdna_N295-47/C309A04689D_cfdna.aligned.sorted.markdup.bam </td><td>C123T04689D_frfr_N295-450                                                                                 </td><td>0.5478894                                                                                                 </td><td>0.5477200                                                                                                 </td><td>0.5480527                                                                                                 </td><td>0.5489249                                                                                                 </td><td>0.5486743                                                                                                 </td><td>0.5491754                                                                                                 </td><td>C309A04689D                                                                                               </td><td>820                                                                                                       </td></tr>\n",
       "\t<tr><td>C04689                                                                                                    </td><td>C302A04689D_cfdna_N295-102                                                                                </td><td>C302A04689D_cfdna.aligned.sorted.markdup.bam                                                              </td><td>../../DerivedData/main_data/C04689/C302A04689D_cfdna_N295-102/C302A04689D_cfdna.aligned.sorted.markdup.bam</td><td>C123T04689D_frfr_N295-450                                                                                 </td><td>0.5536607                                                                                                 </td><td>0.5534985                                                                                                 </td><td>0.5538208                                                                                                 </td><td>0.5626518                                                                                                 </td><td>0.5624020                                                                                                 </td><td>0.5629016                                                                                                 </td><td>C302A04689D                                                                                               </td><td>175                                                                                                       </td></tr>\n",
       "\t<tr><td>C04689                                                                                                    </td><td>C299A04689D_cfdna_N295-99                                                                                 </td><td>C299A04689D_cfdna.aligned.sorted.markdup.bam                                                              </td><td>../../DerivedData/main_data/C04689/C299A04689D_cfdna_N295-99/C299A04689D_cfdna.aligned.sorted.markdup.bam </td><td>C123T04689D_frfr_N295-450                                                                                 </td><td>0.5570174                                                                                                 </td><td>0.5568513                                                                                                 </td><td>0.5571812                                                                                                 </td><td>0.5705301                                                                                                 </td><td>0.5702808                                                                                                 </td><td>0.5707793                                                                                                 </td><td>C299A04689D                                                                                               </td><td> -1                                                                                                       </td></tr>\n",
       "\t<tr><td>C04689                                                                                                    </td><td>C307A04689D_cfdna_N295-110                                                                                </td><td>C307A04689D_cfdna.aligned.sorted.markdup.bam                                                              </td><td>../../DerivedData/main_data/C04689/C307A04689D_cfdna_N295-110/C307A04689D_cfdna.aligned.sorted.markdup.bam</td><td>C123T04689D_frfr_N295-450                                                                                 </td><td>0.5608753                                                                                                 </td><td>0.5607092                                                                                                 </td><td>0.5610420                                                                                                 </td><td>0.5669944                                                                                                 </td><td>0.5667449                                                                                                 </td><td>0.5672439                                                                                                 </td><td>C307A04689D                                                                                               </td><td>637                                                                                                       </td></tr>\n",
       "</tbody>\n",
       "</table>\n"
      ],
      "text/latex": [
       "\\begin{tabular}{r|lllllllllllll}\n",
       " patient\\_id & cfDNA\\_folder & cfDNA\\_file & cfDNA\\_bam\\_path & unique\\_kmers\\_folder & big\\_ratio & big\\_ratio\\_CI\\_lower & big\\_ratio\\_CI\\_upper & small\\_ratio & small\\_ratio\\_CI\\_lower & small\\_ratio\\_CI\\_upper & sampleID & sample\\_timepoint\\_days\\_since\\_OP\\\\\n",
       "\\hline\n",
       "\t C04689                                                                                                             & C303A04689D\\_cfdna\\_N295-103                                                                                     & C303A04689D\\_cfdna.aligned.sorted.markdup.bam                                                                     & ../../DerivedData/main\\_data/C04689/C303A04689D\\_cfdna\\_N295-103/C303A04689D\\_cfdna.aligned.sorted.markdup.bam & C123T04689D\\_frfr\\_N295-450                                                                                      & 0.5577292                                                                                                          & 0.5575592                                                                                                          & 0.5579010                                                                                                          & 0.5479398                                                                                                          & 0.5476892                                                                                                          & 0.5481904                                                                                                          & C303A04689D                                                                                                        & 267                                                                                                               \\\\\n",
       "\t C04689                                                                                                             & C305A04689D\\_cfdna\\_N295-71                                                                                      & C305A04689D\\_cfdna.aligned.sorted.markdup.bam                                                                     & ../../DerivedData/main\\_data/C04689/C305A04689D\\_cfdna\\_N295-71/C305A04689D\\_cfdna.aligned.sorted.markdup.bam  & C123T04689D\\_frfr\\_N295-450                                                                                      & 0.5585645                                                                                                          & 0.5583999                                                                                                          & 0.5587261                                                                                                          & 0.5709877                                                                                                          & 0.5707385                                                                                                          & 0.5712370                                                                                                          & C305A04689D                                                                                                        & 454                                                                                                               \\\\\n",
       "\t C04689                                                                                                             & C309A04689D\\_cfdna\\_N295-47                                                                                      & C309A04689D\\_cfdna.aligned.sorted.markdup.bam                                                                     & ../../DerivedData/main\\_data/C04689/C309A04689D\\_cfdna\\_N295-47/C309A04689D\\_cfdna.aligned.sorted.markdup.bam  & C123T04689D\\_frfr\\_N295-450                                                                                      & 0.5478894                                                                                                          & 0.5477200                                                                                                          & 0.5480527                                                                                                          & 0.5489249                                                                                                          & 0.5486743                                                                                                          & 0.5491754                                                                                                          & C309A04689D                                                                                                        & 820                                                                                                               \\\\\n",
       "\t C04689                                                                                                             & C302A04689D\\_cfdna\\_N295-102                                                                                     & C302A04689D\\_cfdna.aligned.sorted.markdup.bam                                                                     & ../../DerivedData/main\\_data/C04689/C302A04689D\\_cfdna\\_N295-102/C302A04689D\\_cfdna.aligned.sorted.markdup.bam & C123T04689D\\_frfr\\_N295-450                                                                                      & 0.5536607                                                                                                          & 0.5534985                                                                                                          & 0.5538208                                                                                                          & 0.5626518                                                                                                          & 0.5624020                                                                                                          & 0.5629016                                                                                                          & C302A04689D                                                                                                        & 175                                                                                                               \\\\\n",
       "\t C04689                                                                                                             & C299A04689D\\_cfdna\\_N295-99                                                                                      & C299A04689D\\_cfdna.aligned.sorted.markdup.bam                                                                     & ../../DerivedData/main\\_data/C04689/C299A04689D\\_cfdna\\_N295-99/C299A04689D\\_cfdna.aligned.sorted.markdup.bam  & C123T04689D\\_frfr\\_N295-450                                                                                      & 0.5570174                                                                                                          & 0.5568513                                                                                                          & 0.5571812                                                                                                          & 0.5705301                                                                                                          & 0.5702808                                                                                                          & 0.5707793                                                                                                          & C299A04689D                                                                                                        &  -1                                                                                                               \\\\\n",
       "\t C04689                                                                                                             & C307A04689D\\_cfdna\\_N295-110                                                                                     & C307A04689D\\_cfdna.aligned.sorted.markdup.bam                                                                     & ../../DerivedData/main\\_data/C04689/C307A04689D\\_cfdna\\_N295-110/C307A04689D\\_cfdna.aligned.sorted.markdup.bam & C123T04689D\\_frfr\\_N295-450                                                                                      & 0.5608753                                                                                                          & 0.5607092                                                                                                          & 0.5610420                                                                                                          & 0.5669944                                                                                                          & 0.5667449                                                                                                          & 0.5672439                                                                                                          & C307A04689D                                                                                                        & 637                                                                                                               \\\\\n",
       "\\end{tabular}\n"
      ],
      "text/markdown": [
       "\n",
       "| patient_id | cfDNA_folder | cfDNA_file | cfDNA_bam_path | unique_kmers_folder | big_ratio | big_ratio_CI_lower | big_ratio_CI_upper | small_ratio | small_ratio_CI_lower | small_ratio_CI_upper | sampleID | sample_timepoint_days_since_OP |\n",
       "|---|---|---|---|---|---|---|---|---|---|---|---|---|\n",
       "| C04689                                                                                                     | C303A04689D_cfdna_N295-103                                                                                 | C303A04689D_cfdna.aligned.sorted.markdup.bam                                                               | ../../DerivedData/main_data/C04689/C303A04689D_cfdna_N295-103/C303A04689D_cfdna.aligned.sorted.markdup.bam | C123T04689D_frfr_N295-450                                                                                  | 0.5577292                                                                                                  | 0.5575592                                                                                                  | 0.5579010                                                                                                  | 0.5479398                                                                                                  | 0.5476892                                                                                                  | 0.5481904                                                                                                  | C303A04689D                                                                                                | 267                                                                                                        |\n",
       "| C04689                                                                                                     | C305A04689D_cfdna_N295-71                                                                                  | C305A04689D_cfdna.aligned.sorted.markdup.bam                                                               | ../../DerivedData/main_data/C04689/C305A04689D_cfdna_N295-71/C305A04689D_cfdna.aligned.sorted.markdup.bam  | C123T04689D_frfr_N295-450                                                                                  | 0.5585645                                                                                                  | 0.5583999                                                                                                  | 0.5587261                                                                                                  | 0.5709877                                                                                                  | 0.5707385                                                                                                  | 0.5712370                                                                                                  | C305A04689D                                                                                                | 454                                                                                                        |\n",
       "| C04689                                                                                                     | C309A04689D_cfdna_N295-47                                                                                  | C309A04689D_cfdna.aligned.sorted.markdup.bam                                                               | ../../DerivedData/main_data/C04689/C309A04689D_cfdna_N295-47/C309A04689D_cfdna.aligned.sorted.markdup.bam  | C123T04689D_frfr_N295-450                                                                                  | 0.5478894                                                                                                  | 0.5477200                                                                                                  | 0.5480527                                                                                                  | 0.5489249                                                                                                  | 0.5486743                                                                                                  | 0.5491754                                                                                                  | C309A04689D                                                                                                | 820                                                                                                        |\n",
       "| C04689                                                                                                     | C302A04689D_cfdna_N295-102                                                                                 | C302A04689D_cfdna.aligned.sorted.markdup.bam                                                               | ../../DerivedData/main_data/C04689/C302A04689D_cfdna_N295-102/C302A04689D_cfdna.aligned.sorted.markdup.bam | C123T04689D_frfr_N295-450                                                                                  | 0.5536607                                                                                                  | 0.5534985                                                                                                  | 0.5538208                                                                                                  | 0.5626518                                                                                                  | 0.5624020                                                                                                  | 0.5629016                                                                                                  | C302A04689D                                                                                                | 175                                                                                                        |\n",
       "| C04689                                                                                                     | C299A04689D_cfdna_N295-99                                                                                  | C299A04689D_cfdna.aligned.sorted.markdup.bam                                                               | ../../DerivedData/main_data/C04689/C299A04689D_cfdna_N295-99/C299A04689D_cfdna.aligned.sorted.markdup.bam  | C123T04689D_frfr_N295-450                                                                                  | 0.5570174                                                                                                  | 0.5568513                                                                                                  | 0.5571812                                                                                                  | 0.5705301                                                                                                  | 0.5702808                                                                                                  | 0.5707793                                                                                                  | C299A04689D                                                                                                |  -1                                                                                                        |\n",
       "| C04689                                                                                                     | C307A04689D_cfdna_N295-110                                                                                 | C307A04689D_cfdna.aligned.sorted.markdup.bam                                                               | ../../DerivedData/main_data/C04689/C307A04689D_cfdna_N295-110/C307A04689D_cfdna.aligned.sorted.markdup.bam | C123T04689D_frfr_N295-450                                                                                  | 0.5608753                                                                                                  | 0.5607092                                                                                                  | 0.5610420                                                                                                  | 0.5669944                                                                                                  | 0.5667449                                                                                                  | 0.5672439                                                                                                  | C307A04689D                                                                                                | 637                                                                                                        |\n",
       "\n"
      ],
      "text/plain": [
       "  patient_id cfDNA_folder              \n",
       "1 C04689     C303A04689D_cfdna_N295-103\n",
       "2 C04689     C305A04689D_cfdna_N295-71 \n",
       "3 C04689     C309A04689D_cfdna_N295-47 \n",
       "4 C04689     C302A04689D_cfdna_N295-102\n",
       "5 C04689     C299A04689D_cfdna_N295-99 \n",
       "6 C04689     C307A04689D_cfdna_N295-110\n",
       "  cfDNA_file                                  \n",
       "1 C303A04689D_cfdna.aligned.sorted.markdup.bam\n",
       "2 C305A04689D_cfdna.aligned.sorted.markdup.bam\n",
       "3 C309A04689D_cfdna.aligned.sorted.markdup.bam\n",
       "4 C302A04689D_cfdna.aligned.sorted.markdup.bam\n",
       "5 C299A04689D_cfdna.aligned.sorted.markdup.bam\n",
       "6 C307A04689D_cfdna.aligned.sorted.markdup.bam\n",
       "  cfDNA_bam_path                                                                                            \n",
       "1 ../../DerivedData/main_data/C04689/C303A04689D_cfdna_N295-103/C303A04689D_cfdna.aligned.sorted.markdup.bam\n",
       "2 ../../DerivedData/main_data/C04689/C305A04689D_cfdna_N295-71/C305A04689D_cfdna.aligned.sorted.markdup.bam \n",
       "3 ../../DerivedData/main_data/C04689/C309A04689D_cfdna_N295-47/C309A04689D_cfdna.aligned.sorted.markdup.bam \n",
       "4 ../../DerivedData/main_data/C04689/C302A04689D_cfdna_N295-102/C302A04689D_cfdna.aligned.sorted.markdup.bam\n",
       "5 ../../DerivedData/main_data/C04689/C299A04689D_cfdna_N295-99/C299A04689D_cfdna.aligned.sorted.markdup.bam \n",
       "6 ../../DerivedData/main_data/C04689/C307A04689D_cfdna_N295-110/C307A04689D_cfdna.aligned.sorted.markdup.bam\n",
       "  unique_kmers_folder       big_ratio big_ratio_CI_lower big_ratio_CI_upper\n",
       "1 C123T04689D_frfr_N295-450 0.5577292 0.5575592          0.5579010         \n",
       "2 C123T04689D_frfr_N295-450 0.5585645 0.5583999          0.5587261         \n",
       "3 C123T04689D_frfr_N295-450 0.5478894 0.5477200          0.5480527         \n",
       "4 C123T04689D_frfr_N295-450 0.5536607 0.5534985          0.5538208         \n",
       "5 C123T04689D_frfr_N295-450 0.5570174 0.5568513          0.5571812         \n",
       "6 C123T04689D_frfr_N295-450 0.5608753 0.5607092          0.5610420         \n",
       "  small_ratio small_ratio_CI_lower small_ratio_CI_upper sampleID   \n",
       "1 0.5479398   0.5476892            0.5481904            C303A04689D\n",
       "2 0.5709877   0.5707385            0.5712370            C305A04689D\n",
       "3 0.5489249   0.5486743            0.5491754            C309A04689D\n",
       "4 0.5626518   0.5624020            0.5629016            C302A04689D\n",
       "5 0.5705301   0.5702808            0.5707793            C299A04689D\n",
       "6 0.5669944   0.5667449            0.5672439            C307A04689D\n",
       "  sample_timepoint_days_since_OP\n",
       "1 267                           \n",
       "2 454                           \n",
       "3 820                           \n",
       "4 175                           \n",
       "5  -1                           \n",
       "6 637                           "
      ]
     },
     "metadata": {},
     "output_type": "display_data"
    },
    {
     "data": {
      "text/html": [
       "<ol class=list-inline>\n",
       "\t<li>190</li>\n",
       "\t<li>13</li>\n",
       "</ol>\n"
      ],
      "text/latex": [
       "\\begin{enumerate*}\n",
       "\\item 190\n",
       "\\item 13\n",
       "\\end{enumerate*}\n"
      ],
      "text/markdown": [
       "1. 190\n",
       "2. 13\n",
       "\n",
       "\n"
      ],
      "text/plain": [
       "[1] 190  13"
      ]
     },
     "metadata": {},
     "output_type": "display_data"
    }
   ],
   "source": [
    "paramspace_cfDNA$sampleID <- as.character(paramspace_cfDNA$sampleID)\n",
    "paramspace_cfDNA <- left_join(paramspace_cfDNA, sample_timepoint_days, by = c(\"sampleID\"))\n",
    "head(paramspace_cfDNA)\n",
    "dim(paramspace_cfDNA)"
   ]
  },
  {
   "cell_type": "code",
   "execution_count": 10,
   "id": "c46abbff-cc5a-4788-974d-8e46bc530aca",
   "metadata": {},
   "outputs": [],
   "source": [
    "getPalette = colorRampPalette(brewer.pal(9, \"Blues\"))"
   ]
  },
  {
   "cell_type": "code",
   "execution_count": 11,
   "id": "c515dbde-53e2-4f17-afba-160531cad0c9",
   "metadata": {},
   "outputs": [
    {
     "data": {
      "text/html": [
       "<table>\n",
       "<thead><tr><th scope=col>X</th><th scope=col>patient_id</th><th scope=col>unique_tumor_kmers_folder</th><th scope=col>other_patient_id</th><th scope=col>other_patient_cfDNA_folder</th></tr></thead>\n",
       "<tbody>\n",
       "\t<tr><td>0                         </td><td>C04689                    </td><td>C123T04689D_frfr_N295-450 </td><td>C04849                    </td><td>C258A04849D_cfdna_N295-141</td></tr>\n",
       "\t<tr><td>1                         </td><td>C04689                    </td><td>C123T04689D_frfr_N295-450 </td><td>C04849                    </td><td>C255A04849D_cfdna_N295-87 </td></tr>\n",
       "\t<tr><td>2                         </td><td>C04689                    </td><td>C123T04689D_frfr_N295-450 </td><td>C04849                    </td><td>C194A04849D_cfdna_N295-218</td></tr>\n",
       "\t<tr><td>3                         </td><td>C04689                    </td><td>C123T04689D_frfr_N295-450 </td><td>C04849                    </td><td>C252A04849D_cfdna_N295-64 </td></tr>\n",
       "\t<tr><td>4                         </td><td>C04689                    </td><td>C123T04689D_frfr_N295-450 </td><td>C04849                    </td><td>C256A04849D_cfdna_N295-115</td></tr>\n",
       "\t<tr><td>5                         </td><td>C04689                    </td><td>C123T04689D_frfr_N295-450 </td><td>C04849                    </td><td>C263A04849D_cfdna_N295-222</td></tr>\n",
       "</tbody>\n",
       "</table>\n"
      ],
      "text/latex": [
       "\\begin{tabular}{r|lllll}\n",
       " X & patient\\_id & unique\\_tumor\\_kmers\\_folder & other\\_patient\\_id & other\\_patient\\_cfDNA\\_folder\\\\\n",
       "\\hline\n",
       "\t 0                              & C04689                         & C123T04689D\\_frfr\\_N295-450  & C04849                         & C258A04849D\\_cfdna\\_N295-141\\\\\n",
       "\t 1                              & C04689                         & C123T04689D\\_frfr\\_N295-450  & C04849                         & C255A04849D\\_cfdna\\_N295-87 \\\\\n",
       "\t 2                              & C04689                         & C123T04689D\\_frfr\\_N295-450  & C04849                         & C194A04849D\\_cfdna\\_N295-218\\\\\n",
       "\t 3                              & C04689                         & C123T04689D\\_frfr\\_N295-450  & C04849                         & C252A04849D\\_cfdna\\_N295-64 \\\\\n",
       "\t 4                              & C04689                         & C123T04689D\\_frfr\\_N295-450  & C04849                         & C256A04849D\\_cfdna\\_N295-115\\\\\n",
       "\t 5                              & C04689                         & C123T04689D\\_frfr\\_N295-450  & C04849                         & C263A04849D\\_cfdna\\_N295-222\\\\\n",
       "\\end{tabular}\n"
      ],
      "text/markdown": [
       "\n",
       "| X | patient_id | unique_tumor_kmers_folder | other_patient_id | other_patient_cfDNA_folder |\n",
       "|---|---|---|---|---|\n",
       "| 0                          | C04689                     | C123T04689D_frfr_N295-450  | C04849                     | C258A04849D_cfdna_N295-141 |\n",
       "| 1                          | C04689                     | C123T04689D_frfr_N295-450  | C04849                     | C255A04849D_cfdna_N295-87  |\n",
       "| 2                          | C04689                     | C123T04689D_frfr_N295-450  | C04849                     | C194A04849D_cfdna_N295-218 |\n",
       "| 3                          | C04689                     | C123T04689D_frfr_N295-450  | C04849                     | C252A04849D_cfdna_N295-64  |\n",
       "| 4                          | C04689                     | C123T04689D_frfr_N295-450  | C04849                     | C256A04849D_cfdna_N295-115 |\n",
       "| 5                          | C04689                     | C123T04689D_frfr_N295-450  | C04849                     | C263A04849D_cfdna_N295-222 |\n",
       "\n"
      ],
      "text/plain": [
       "  X patient_id unique_tumor_kmers_folder other_patient_id\n",
       "1 0 C04689     C123T04689D_frfr_N295-450 C04849          \n",
       "2 1 C04689     C123T04689D_frfr_N295-450 C04849          \n",
       "3 2 C04689     C123T04689D_frfr_N295-450 C04849          \n",
       "4 3 C04689     C123T04689D_frfr_N295-450 C04849          \n",
       "5 4 C04689     C123T04689D_frfr_N295-450 C04849          \n",
       "6 5 C04689     C123T04689D_frfr_N295-450 C04849          \n",
       "  other_patient_cfDNA_folder\n",
       "1 C258A04849D_cfdna_N295-141\n",
       "2 C255A04849D_cfdna_N295-87 \n",
       "3 C194A04849D_cfdna_N295-218\n",
       "4 C252A04849D_cfdna_N295-64 \n",
       "5 C256A04849D_cfdna_N295-115\n",
       "6 C263A04849D_cfdna_N295-222"
      ]
     },
     "metadata": {},
     "output_type": "display_data"
    }
   ],
   "source": [
    "head(paramspace_emp)"
   ]
  },
  {
   "cell_type": "code",
   "execution_count": 12,
   "id": "7e53e954-0165-4bdf-883a-0538a8a7927f",
   "metadata": {},
   "outputs": [],
   "source": [
    "Correlations <- read.csv(\"../data/ci5_cs1e9_correlation.csv\")\n",
    "relapse_label <- Correlations %>% select(cfDNA_sample, Relapse)\n",
    "colnames(relapse_label) <- c(\"cfDNA_folder\", \"Relapse_label\")"
   ]
  },
  {
   "cell_type": "code",
   "execution_count": 13,
   "id": "1edda2fa-7626-43c4-9bfb-09fd0bd793e2",
   "metadata": {},
   "outputs": [
    {
     "data": {
      "text/html": [
       "<ol class=list-inline>\n",
       "\t<li>190</li>\n",
       "\t<li>13</li>\n",
       "</ol>\n"
      ],
      "text/latex": [
       "\\begin{enumerate*}\n",
       "\\item 190\n",
       "\\item 13\n",
       "\\end{enumerate*}\n"
      ],
      "text/markdown": [
       "1. 190\n",
       "2. 13\n",
       "\n",
       "\n"
      ],
      "text/plain": [
       "[1] 190  13"
      ]
     },
     "metadata": {},
     "output_type": "display_data"
    }
   ],
   "source": [
    "dim(paramspace_cfDNA)"
   ]
  },
  {
   "cell_type": "code",
   "execution_count": 14,
   "id": "646eba8f-6aba-47dd-b8c6-fc7efce78e29",
   "metadata": {},
   "outputs": [
    {
     "data": {
      "text/html": [
       "<table>\n",
       "<thead><tr><th scope=col>patient_id</th><th scope=col>cfDNA_folder</th><th scope=col>cfDNA_file</th><th scope=col>cfDNA_bam_path</th><th scope=col>unique_kmers_folder</th><th scope=col>big_ratio</th><th scope=col>big_ratio_CI_lower</th><th scope=col>big_ratio_CI_upper</th><th scope=col>small_ratio</th><th scope=col>small_ratio_CI_lower</th><th scope=col>small_ratio_CI_upper</th><th scope=col>sampleID</th><th scope=col>sample_timepoint_days_since_OP</th><th scope=col>Relapse_label</th></tr></thead>\n",
       "<tbody>\n",
       "\t<tr><td>C04689                                                                                                    </td><td>C303A04689D_cfdna_N295-103                                                                                </td><td>C303A04689D_cfdna.aligned.sorted.markdup.bam                                                              </td><td>../../DerivedData/main_data/C04689/C303A04689D_cfdna_N295-103/C303A04689D_cfdna.aligned.sorted.markdup.bam</td><td>C123T04689D_frfr_N295-450                                                                                 </td><td>0.5577292                                                                                                 </td><td>0.5575592                                                                                                 </td><td>0.5579010                                                                                                 </td><td>0.5479398                                                                                                 </td><td>0.5476892                                                                                                 </td><td>0.5481904                                                                                                 </td><td>C303A04689D                                                                                               </td><td>267                                                                                                       </td><td>No_relapse                                                                                                </td></tr>\n",
       "\t<tr><td>C04689                                                                                                    </td><td>C305A04689D_cfdna_N295-71                                                                                 </td><td>C305A04689D_cfdna.aligned.sorted.markdup.bam                                                              </td><td>../../DerivedData/main_data/C04689/C305A04689D_cfdna_N295-71/C305A04689D_cfdna.aligned.sorted.markdup.bam </td><td>C123T04689D_frfr_N295-450                                                                                 </td><td>0.5585645                                                                                                 </td><td>0.5583999                                                                                                 </td><td>0.5587261                                                                                                 </td><td>0.5709877                                                                                                 </td><td>0.5707385                                                                                                 </td><td>0.5712370                                                                                                 </td><td>C305A04689D                                                                                               </td><td>454                                                                                                       </td><td>No_relapse                                                                                                </td></tr>\n",
       "\t<tr><td>C04689                                                                                                    </td><td>C309A04689D_cfdna_N295-47                                                                                 </td><td>C309A04689D_cfdna.aligned.sorted.markdup.bam                                                              </td><td>../../DerivedData/main_data/C04689/C309A04689D_cfdna_N295-47/C309A04689D_cfdna.aligned.sorted.markdup.bam </td><td>C123T04689D_frfr_N295-450                                                                                 </td><td>0.5478894                                                                                                 </td><td>0.5477200                                                                                                 </td><td>0.5480527                                                                                                 </td><td>0.5489249                                                                                                 </td><td>0.5486743                                                                                                 </td><td>0.5491754                                                                                                 </td><td>C309A04689D                                                                                               </td><td>820                                                                                                       </td><td>No_relapse                                                                                                </td></tr>\n",
       "\t<tr><td>C04689                                                                                                    </td><td>C302A04689D_cfdna_N295-102                                                                                </td><td>C302A04689D_cfdna.aligned.sorted.markdup.bam                                                              </td><td>../../DerivedData/main_data/C04689/C302A04689D_cfdna_N295-102/C302A04689D_cfdna.aligned.sorted.markdup.bam</td><td>C123T04689D_frfr_N295-450                                                                                 </td><td>0.5536607                                                                                                 </td><td>0.5534985                                                                                                 </td><td>0.5538208                                                                                                 </td><td>0.5626518                                                                                                 </td><td>0.5624020                                                                                                 </td><td>0.5629016                                                                                                 </td><td>C302A04689D                                                                                               </td><td>175                                                                                                       </td><td>No_relapse                                                                                                </td></tr>\n",
       "\t<tr><td>C04689                                                                                                    </td><td>C299A04689D_cfdna_N295-99                                                                                 </td><td>C299A04689D_cfdna.aligned.sorted.markdup.bam                                                              </td><td>../../DerivedData/main_data/C04689/C299A04689D_cfdna_N295-99/C299A04689D_cfdna.aligned.sorted.markdup.bam </td><td>C123T04689D_frfr_N295-450                                                                                 </td><td>0.5570174                                                                                                 </td><td>0.5568513                                                                                                 </td><td>0.5571812                                                                                                 </td><td>0.5705301                                                                                                 </td><td>0.5702808                                                                                                 </td><td>0.5707793                                                                                                 </td><td>C299A04689D                                                                                               </td><td> -1                                                                                                       </td><td>No_relapse                                                                                                </td></tr>\n",
       "\t<tr><td>C04689                                                                                                    </td><td>C307A04689D_cfdna_N295-110                                                                                </td><td>C307A04689D_cfdna.aligned.sorted.markdup.bam                                                              </td><td>../../DerivedData/main_data/C04689/C307A04689D_cfdna_N295-110/C307A04689D_cfdna.aligned.sorted.markdup.bam</td><td>C123T04689D_frfr_N295-450                                                                                 </td><td>0.5608753                                                                                                 </td><td>0.5607092                                                                                                 </td><td>0.5610420                                                                                                 </td><td>0.5669944                                                                                                 </td><td>0.5667449                                                                                                 </td><td>0.5672439                                                                                                 </td><td>C307A04689D                                                                                               </td><td>637                                                                                                       </td><td>No_relapse                                                                                                </td></tr>\n",
       "</tbody>\n",
       "</table>\n"
      ],
      "text/latex": [
       "\\begin{tabular}{r|llllllllllllll}\n",
       " patient\\_id & cfDNA\\_folder & cfDNA\\_file & cfDNA\\_bam\\_path & unique\\_kmers\\_folder & big\\_ratio & big\\_ratio\\_CI\\_lower & big\\_ratio\\_CI\\_upper & small\\_ratio & small\\_ratio\\_CI\\_lower & small\\_ratio\\_CI\\_upper & sampleID & sample\\_timepoint\\_days\\_since\\_OP & Relapse\\_label\\\\\n",
       "\\hline\n",
       "\t C04689                                                                                                             & C303A04689D\\_cfdna\\_N295-103                                                                                     & C303A04689D\\_cfdna.aligned.sorted.markdup.bam                                                                     & ../../DerivedData/main\\_data/C04689/C303A04689D\\_cfdna\\_N295-103/C303A04689D\\_cfdna.aligned.sorted.markdup.bam & C123T04689D\\_frfr\\_N295-450                                                                                      & 0.5577292                                                                                                          & 0.5575592                                                                                                          & 0.5579010                                                                                                          & 0.5479398                                                                                                          & 0.5476892                                                                                                          & 0.5481904                                                                                                          & C303A04689D                                                                                                        & 267                                                                                                                & No\\_relapse                                                                                                      \\\\\n",
       "\t C04689                                                                                                             & C305A04689D\\_cfdna\\_N295-71                                                                                      & C305A04689D\\_cfdna.aligned.sorted.markdup.bam                                                                     & ../../DerivedData/main\\_data/C04689/C305A04689D\\_cfdna\\_N295-71/C305A04689D\\_cfdna.aligned.sorted.markdup.bam  & C123T04689D\\_frfr\\_N295-450                                                                                      & 0.5585645                                                                                                          & 0.5583999                                                                                                          & 0.5587261                                                                                                          & 0.5709877                                                                                                          & 0.5707385                                                                                                          & 0.5712370                                                                                                          & C305A04689D                                                                                                        & 454                                                                                                                & No\\_relapse                                                                                                      \\\\\n",
       "\t C04689                                                                                                             & C309A04689D\\_cfdna\\_N295-47                                                                                      & C309A04689D\\_cfdna.aligned.sorted.markdup.bam                                                                     & ../../DerivedData/main\\_data/C04689/C309A04689D\\_cfdna\\_N295-47/C309A04689D\\_cfdna.aligned.sorted.markdup.bam  & C123T04689D\\_frfr\\_N295-450                                                                                      & 0.5478894                                                                                                          & 0.5477200                                                                                                          & 0.5480527                                                                                                          & 0.5489249                                                                                                          & 0.5486743                                                                                                          & 0.5491754                                                                                                          & C309A04689D                                                                                                        & 820                                                                                                                & No\\_relapse                                                                                                      \\\\\n",
       "\t C04689                                                                                                             & C302A04689D\\_cfdna\\_N295-102                                                                                     & C302A04689D\\_cfdna.aligned.sorted.markdup.bam                                                                     & ../../DerivedData/main\\_data/C04689/C302A04689D\\_cfdna\\_N295-102/C302A04689D\\_cfdna.aligned.sorted.markdup.bam & C123T04689D\\_frfr\\_N295-450                                                                                      & 0.5536607                                                                                                          & 0.5534985                                                                                                          & 0.5538208                                                                                                          & 0.5626518                                                                                                          & 0.5624020                                                                                                          & 0.5629016                                                                                                          & C302A04689D                                                                                                        & 175                                                                                                                & No\\_relapse                                                                                                      \\\\\n",
       "\t C04689                                                                                                             & C299A04689D\\_cfdna\\_N295-99                                                                                      & C299A04689D\\_cfdna.aligned.sorted.markdup.bam                                                                     & ../../DerivedData/main\\_data/C04689/C299A04689D\\_cfdna\\_N295-99/C299A04689D\\_cfdna.aligned.sorted.markdup.bam  & C123T04689D\\_frfr\\_N295-450                                                                                      & 0.5570174                                                                                                          & 0.5568513                                                                                                          & 0.5571812                                                                                                          & 0.5705301                                                                                                          & 0.5702808                                                                                                          & 0.5707793                                                                                                          & C299A04689D                                                                                                        &  -1                                                                                                                & No\\_relapse                                                                                                      \\\\\n",
       "\t C04689                                                                                                             & C307A04689D\\_cfdna\\_N295-110                                                                                     & C307A04689D\\_cfdna.aligned.sorted.markdup.bam                                                                     & ../../DerivedData/main\\_data/C04689/C307A04689D\\_cfdna\\_N295-110/C307A04689D\\_cfdna.aligned.sorted.markdup.bam & C123T04689D\\_frfr\\_N295-450                                                                                      & 0.5608753                                                                                                          & 0.5607092                                                                                                          & 0.5610420                                                                                                          & 0.5669944                                                                                                          & 0.5667449                                                                                                          & 0.5672439                                                                                                          & C307A04689D                                                                                                        & 637                                                                                                                & No\\_relapse                                                                                                      \\\\\n",
       "\\end{tabular}\n"
      ],
      "text/markdown": [
       "\n",
       "| patient_id | cfDNA_folder | cfDNA_file | cfDNA_bam_path | unique_kmers_folder | big_ratio | big_ratio_CI_lower | big_ratio_CI_upper | small_ratio | small_ratio_CI_lower | small_ratio_CI_upper | sampleID | sample_timepoint_days_since_OP | Relapse_label |\n",
       "|---|---|---|---|---|---|---|---|---|---|---|---|---|---|\n",
       "| C04689                                                                                                     | C303A04689D_cfdna_N295-103                                                                                 | C303A04689D_cfdna.aligned.sorted.markdup.bam                                                               | ../../DerivedData/main_data/C04689/C303A04689D_cfdna_N295-103/C303A04689D_cfdna.aligned.sorted.markdup.bam | C123T04689D_frfr_N295-450                                                                                  | 0.5577292                                                                                                  | 0.5575592                                                                                                  | 0.5579010                                                                                                  | 0.5479398                                                                                                  | 0.5476892                                                                                                  | 0.5481904                                                                                                  | C303A04689D                                                                                                | 267                                                                                                        | No_relapse                                                                                                 |\n",
       "| C04689                                                                                                     | C305A04689D_cfdna_N295-71                                                                                  | C305A04689D_cfdna.aligned.sorted.markdup.bam                                                               | ../../DerivedData/main_data/C04689/C305A04689D_cfdna_N295-71/C305A04689D_cfdna.aligned.sorted.markdup.bam  | C123T04689D_frfr_N295-450                                                                                  | 0.5585645                                                                                                  | 0.5583999                                                                                                  | 0.5587261                                                                                                  | 0.5709877                                                                                                  | 0.5707385                                                                                                  | 0.5712370                                                                                                  | C305A04689D                                                                                                | 454                                                                                                        | No_relapse                                                                                                 |\n",
       "| C04689                                                                                                     | C309A04689D_cfdna_N295-47                                                                                  | C309A04689D_cfdna.aligned.sorted.markdup.bam                                                               | ../../DerivedData/main_data/C04689/C309A04689D_cfdna_N295-47/C309A04689D_cfdna.aligned.sorted.markdup.bam  | C123T04689D_frfr_N295-450                                                                                  | 0.5478894                                                                                                  | 0.5477200                                                                                                  | 0.5480527                                                                                                  | 0.5489249                                                                                                  | 0.5486743                                                                                                  | 0.5491754                                                                                                  | C309A04689D                                                                                                | 820                                                                                                        | No_relapse                                                                                                 |\n",
       "| C04689                                                                                                     | C302A04689D_cfdna_N295-102                                                                                 | C302A04689D_cfdna.aligned.sorted.markdup.bam                                                               | ../../DerivedData/main_data/C04689/C302A04689D_cfdna_N295-102/C302A04689D_cfdna.aligned.sorted.markdup.bam | C123T04689D_frfr_N295-450                                                                                  | 0.5536607                                                                                                  | 0.5534985                                                                                                  | 0.5538208                                                                                                  | 0.5626518                                                                                                  | 0.5624020                                                                                                  | 0.5629016                                                                                                  | C302A04689D                                                                                                | 175                                                                                                        | No_relapse                                                                                                 |\n",
       "| C04689                                                                                                     | C299A04689D_cfdna_N295-99                                                                                  | C299A04689D_cfdna.aligned.sorted.markdup.bam                                                               | ../../DerivedData/main_data/C04689/C299A04689D_cfdna_N295-99/C299A04689D_cfdna.aligned.sorted.markdup.bam  | C123T04689D_frfr_N295-450                                                                                  | 0.5570174                                                                                                  | 0.5568513                                                                                                  | 0.5571812                                                                                                  | 0.5705301                                                                                                  | 0.5702808                                                                                                  | 0.5707793                                                                                                  | C299A04689D                                                                                                |  -1                                                                                                        | No_relapse                                                                                                 |\n",
       "| C04689                                                                                                     | C307A04689D_cfdna_N295-110                                                                                 | C307A04689D_cfdna.aligned.sorted.markdup.bam                                                               | ../../DerivedData/main_data/C04689/C307A04689D_cfdna_N295-110/C307A04689D_cfdna.aligned.sorted.markdup.bam | C123T04689D_frfr_N295-450                                                                                  | 0.5608753                                                                                                  | 0.5607092                                                                                                  | 0.5610420                                                                                                  | 0.5669944                                                                                                  | 0.5667449                                                                                                  | 0.5672439                                                                                                  | C307A04689D                                                                                                | 637                                                                                                        | No_relapse                                                                                                 |\n",
       "\n"
      ],
      "text/plain": [
       "  patient_id cfDNA_folder              \n",
       "1 C04689     C303A04689D_cfdna_N295-103\n",
       "2 C04689     C305A04689D_cfdna_N295-71 \n",
       "3 C04689     C309A04689D_cfdna_N295-47 \n",
       "4 C04689     C302A04689D_cfdna_N295-102\n",
       "5 C04689     C299A04689D_cfdna_N295-99 \n",
       "6 C04689     C307A04689D_cfdna_N295-110\n",
       "  cfDNA_file                                  \n",
       "1 C303A04689D_cfdna.aligned.sorted.markdup.bam\n",
       "2 C305A04689D_cfdna.aligned.sorted.markdup.bam\n",
       "3 C309A04689D_cfdna.aligned.sorted.markdup.bam\n",
       "4 C302A04689D_cfdna.aligned.sorted.markdup.bam\n",
       "5 C299A04689D_cfdna.aligned.sorted.markdup.bam\n",
       "6 C307A04689D_cfdna.aligned.sorted.markdup.bam\n",
       "  cfDNA_bam_path                                                                                            \n",
       "1 ../../DerivedData/main_data/C04689/C303A04689D_cfdna_N295-103/C303A04689D_cfdna.aligned.sorted.markdup.bam\n",
       "2 ../../DerivedData/main_data/C04689/C305A04689D_cfdna_N295-71/C305A04689D_cfdna.aligned.sorted.markdup.bam \n",
       "3 ../../DerivedData/main_data/C04689/C309A04689D_cfdna_N295-47/C309A04689D_cfdna.aligned.sorted.markdup.bam \n",
       "4 ../../DerivedData/main_data/C04689/C302A04689D_cfdna_N295-102/C302A04689D_cfdna.aligned.sorted.markdup.bam\n",
       "5 ../../DerivedData/main_data/C04689/C299A04689D_cfdna_N295-99/C299A04689D_cfdna.aligned.sorted.markdup.bam \n",
       "6 ../../DerivedData/main_data/C04689/C307A04689D_cfdna_N295-110/C307A04689D_cfdna.aligned.sorted.markdup.bam\n",
       "  unique_kmers_folder       big_ratio big_ratio_CI_lower big_ratio_CI_upper\n",
       "1 C123T04689D_frfr_N295-450 0.5577292 0.5575592          0.5579010         \n",
       "2 C123T04689D_frfr_N295-450 0.5585645 0.5583999          0.5587261         \n",
       "3 C123T04689D_frfr_N295-450 0.5478894 0.5477200          0.5480527         \n",
       "4 C123T04689D_frfr_N295-450 0.5536607 0.5534985          0.5538208         \n",
       "5 C123T04689D_frfr_N295-450 0.5570174 0.5568513          0.5571812         \n",
       "6 C123T04689D_frfr_N295-450 0.5608753 0.5607092          0.5610420         \n",
       "  small_ratio small_ratio_CI_lower small_ratio_CI_upper sampleID   \n",
       "1 0.5479398   0.5476892            0.5481904            C303A04689D\n",
       "2 0.5709877   0.5707385            0.5712370            C305A04689D\n",
       "3 0.5489249   0.5486743            0.5491754            C309A04689D\n",
       "4 0.5626518   0.5624020            0.5629016            C302A04689D\n",
       "5 0.5705301   0.5702808            0.5707793            C299A04689D\n",
       "6 0.5669944   0.5667449            0.5672439            C307A04689D\n",
       "  sample_timepoint_days_since_OP Relapse_label\n",
       "1 267                            No_relapse   \n",
       "2 454                            No_relapse   \n",
       "3 820                            No_relapse   \n",
       "4 175                            No_relapse   \n",
       "5  -1                            No_relapse   \n",
       "6 637                            No_relapse   "
      ]
     },
     "metadata": {},
     "output_type": "display_data"
    }
   ],
   "source": [
    "paramspace_cfDNA <- left_join(paramspace_cfDNA, relapse_label, by = \"cfDNA_folder\")\n",
    "head(paramspace_cfDNA)"
   ]
  },
  {
   "cell_type": "code",
   "execution_count": 15,
   "id": "f3f1b7a0-992a-4e30-a545-9859c69b223c",
   "metadata": {},
   "outputs": [
    {
     "data": {
      "text/html": [
       "<table>\n",
       "<thead><tr><th scope=col>patient_id</th><th scope=col>cfDNA_folder</th><th scope=col>cfDNA_file</th><th scope=col>cfDNA_bam_path</th><th scope=col>unique_kmers_folder</th><th scope=col>big_ratio</th><th scope=col>big_ratio_CI_lower</th><th scope=col>big_ratio_CI_upper</th><th scope=col>small_ratio</th><th scope=col>small_ratio_CI_lower</th><th scope=col>small_ratio_CI_upper</th><th scope=col>sampleID</th><th scope=col>sample_timepoint_days_since_OP</th><th scope=col>Relapse_label</th></tr></thead>\n",
       "<tbody>\n",
       "\t<tr><td>C05048                                                                                                    </td><td>C275A05048D_cfdna_N295-123                                                                                </td><td>C275A05048D_cfdna.aligned.sorted.markdup.bam                                                              </td><td>../../DerivedData/main_data/C05048/C275A05048D_cfdna_N295-123/C275A05048D_cfdna.aligned.sorted.markdup.bam</td><td>C74T05048D_frfr_N295-458                                                                                  </td><td>0.02426148                                                                                                </td><td>0.02423942                                                                                                </td><td>0.02428385                                                                                                </td><td>0.06112369                                                                                                </td><td>0.06102532                                                                                                </td><td>0.06122218                                                                                                </td><td>C275A05048D                                                                                               </td><td> 273                                                                                                      </td><td>No_relapse                                                                                                </td></tr>\n",
       "\t<tr><td>C05048                                                                                                    </td><td>C75A05048D_cfdna_N295-233                                                                                 </td><td>C75A05048D_cfdna.aligned.sorted.markdup.bam                                                               </td><td>../../DerivedData/main_data/C05048/C75A05048D_cfdna_N295-233/C75A05048D_cfdna.aligned.sorted.markdup.bam  </td><td>C74T05048D_frfr_N295-458                                                                                  </td><td>0.02739208                                                                                                </td><td>0.02736398                                                                                                </td><td>0.02742005                                                                                                </td><td>0.05543594                                                                                                </td><td>0.05534198                                                                                                </td><td>0.05553003                                                                                                </td><td>C75A05048D                                                                                                </td><td>  -1                                                                                                      </td><td>NA                                                                                                        </td></tr>\n",
       "\t<tr><td>C05048                                                                                                    </td><td>C284A05048D_cfdna_N295-210                                                                                </td><td>C284A05048D_cfdna.aligned.sorted.markdup.bam                                                              </td><td>../../DerivedData/main_data/C05048/C284A05048D_cfdna_N295-210/C284A05048D_cfdna.aligned.sorted.markdup.bam</td><td>C74T05048D_frfr_N295-458                                                                                  </td><td>0.03107747                                                                                                </td><td>0.03104282                                                                                                </td><td>0.03111180                                                                                                </td><td>0.04681143                                                                                                </td><td>0.04672469                                                                                                </td><td>0.04689828                                                                                                </td><td>C284A05048D                                                                                               </td><td>1057                                                                                                      </td><td>No_relapse                                                                                                </td></tr>\n",
       "\t<tr><td>C05048                                                                                                    </td><td>C274A05048D_cfdna_N295-111                                                                                </td><td>C274A05048D_cfdna.aligned.sorted.markdup.bam                                                              </td><td>../../DerivedData/main_data/C05048/C274A05048D_cfdna_N295-111/C274A05048D_cfdna.aligned.sorted.markdup.bam</td><td>C74T05048D_frfr_N295-458                                                                                  </td><td>0.02301118                                                                                                </td><td>0.02298798                                                                                                </td><td>0.02303389                                                                                                </td><td>0.06069208                                                                                                </td><td>0.06059403                                                                                                </td><td>0.06079024                                                                                                </td><td>C274A05048D                                                                                               </td><td> 182                                                                                                      </td><td>No_relapse                                                                                                </td></tr>\n",
       "\t<tr><td>C05048                                                                                                    </td><td>C282A05048D_cfdna_N295-199                                                                                </td><td>C282A05048D_cfdna.aligned.sorted.markdup.bam                                                              </td><td>../../DerivedData/main_data/C05048/C282A05048D_cfdna_N295-199/C282A05048D_cfdna.aligned.sorted.markdup.bam</td><td>C74T05048D_frfr_N295-458                                                                                  </td><td>0.02312879                                                                                                </td><td>0.02309694                                                                                                </td><td>0.02316104                                                                                                </td><td>0.03996309                                                                                                </td><td>0.03988266                                                                                                </td><td>0.04004363                                                                                                </td><td>C282A05048D                                                                                               </td><td> 919                                                                                                      </td><td>No_relapse                                                                                                </td></tr>\n",
       "\t<tr><td>C05048                                                                                                    </td><td>C283A05048D_cfdna_N295-207                                                                                </td><td>C283A05048D_cfdna.aligned.sorted.markdup.bam                                                              </td><td>../../DerivedData/main_data/C05048/C283A05048D_cfdna_N295-207/C283A05048D_cfdna.aligned.sorted.markdup.bam</td><td>C74T05048D_frfr_N295-458                                                                                  </td><td>0.02323992                                                                                                </td><td>0.02320691                                                                                                </td><td>0.02327269                                                                                                </td><td>0.03756043                                                                                                </td><td>0.03748236                                                                                                </td><td>0.03763861                                                                                                </td><td>C283A05048D                                                                                               </td><td>1003                                                                                                      </td><td>No_relapse                                                                                                </td></tr>\n",
       "\t<tr><td>C05048                                                                                                    </td><td>C280A05048D_cfdna_N295-176                                                                                </td><td>C280A05048D_cfdna.aligned.sorted.markdup.bam                                                              </td><td>../../DerivedData/main_data/C05048/C280A05048D_cfdna_N295-176/C280A05048D_cfdna.aligned.sorted.markdup.bam</td><td>C74T05048D_frfr_N295-458                                                                                  </td><td>0.02326142                                                                                                </td><td>0.02323922                                                                                                </td><td>0.02328365                                                                                                </td><td>0.05912839                                                                                                </td><td>0.05903153                                                                                                </td><td>0.05922536                                                                                                </td><td>C280A05048D                                                                                               </td><td> 734                                                                                                      </td><td>No_relapse                                                                                                </td></tr>\n",
       "\t<tr><td>C05048                                                                                                    </td><td>C273A05048D_cfdna_N295-89                                                                                 </td><td>C273A05048D_cfdna.aligned.sorted.markdup.bam                                                              </td><td>../../DerivedData/main_data/C05048/C273A05048D_cfdna_N295-89/C273A05048D_cfdna.aligned.sorted.markdup.bam </td><td>C74T05048D_frfr_N295-458                                                                                  </td><td>0.02493906                                                                                                </td><td>0.02491626                                                                                                </td><td>0.02496203                                                                                                </td><td>0.06830766                                                                                                </td><td>0.06820406                                                                                                </td><td>0.06841137                                                                                                </td><td>C273A05048D                                                                                               </td><td> 111                                                                                                      </td><td>No_relapse                                                                                                </td></tr>\n",
       "\t<tr><td>C05048                                                                                                    </td><td>C278A05048D_cfdna_N295-151                                                                                </td><td>C278A05048D_cfdna.aligned.sorted.markdup.bam                                                              </td><td>../../DerivedData/main_data/C05048/C278A05048D_cfdna_N295-151/C278A05048D_cfdna.aligned.sorted.markdup.bam</td><td>C74T05048D_frfr_N295-458                                                                                  </td><td>0.02284378                                                                                                </td><td>0.02282273                                                                                                </td><td>0.02286532                                                                                                </td><td>0.06293238                                                                                                </td><td>0.06283266                                                                                                </td><td>0.06303222                                                                                                </td><td>C278A05048D                                                                                               </td><td> 555                                                                                                      </td><td>No_relapse                                                                                                </td></tr>\n",
       "\t<tr><td>C05048                                                                                                    </td><td>C281A05048D_cfdna_N295-193                                                                                </td><td>C281A05048D_cfdna.aligned.sorted.markdup.bam                                                              </td><td>../../DerivedData/main_data/C05048/C281A05048D_cfdna_N295-193/C281A05048D_cfdna.aligned.sorted.markdup.bam</td><td>C74T05048D_frfr_N295-458                                                                                  </td><td>0.02375719                                                                                                </td><td>0.02373334                                                                                                </td><td>0.02378088                                                                                                </td><td>0.05873711                                                                                                </td><td>0.05864055                                                                                                </td><td>0.05883378                                                                                                </td><td>C281A05048D                                                                                               </td><td> 821                                                                                                      </td><td>No_relapse                                                                                                </td></tr>\n",
       "\t<tr><td>C05048                                                                                                    </td><td>C272A05048D_cfdna_N295-78                                                                                 </td><td>C272A05048D_cfdna.aligned.sorted.markdup.bam                                                              </td><td>../../DerivedData/main_data/C05048/C272A05048D_cfdna_N295-78/C272A05048D_cfdna.aligned.sorted.markdup.bam </td><td>C74T05048D_frfr_N295-458                                                                                  </td><td>0.02296514                                                                                                </td><td>0.02294220                                                                                                </td><td>0.02298788                                                                                                </td><td>0.05982842                                                                                                </td><td>0.05973102                                                                                                </td><td>0.05992592                                                                                                </td><td>C272A05048D                                                                                               </td><td>  37                                                                                                      </td><td>No_relapse                                                                                                </td></tr>\n",
       "\t<tr><td>C05048                                                                                                    </td><td>C276A05048D_cfdna_N295-52                                                                                 </td><td>C276A05048D_cfdna.aligned.sorted.markdup.bam                                                              </td><td>../../DerivedData/main_data/C05048/C276A05048D_cfdna_N295-52/C276A05048D_cfdna.aligned.sorted.markdup.bam </td><td>C74T05048D_frfr_N295-458                                                                                  </td><td>0.02250156                                                                                                </td><td>0.02247778                                                                                                </td><td>0.02252551                                                                                                </td><td>0.05444884                                                                                                </td><td>0.05435566                                                                                                </td><td>0.05454213                                                                                                </td><td>C276A05048D                                                                                               </td><td> 378                                                                                                      </td><td>No_relapse                                                                                                </td></tr>\n",
       "\t<tr><td>C05048                                                                                                    </td><td>C277A05048D_cfdna_N295-134                                                                                </td><td>C277A05048D_cfdna.aligned.sorted.markdup.bam                                                              </td><td>../../DerivedData/main_data/C05048/C277A05048D_cfdna_N295-134/C277A05048D_cfdna.aligned.sorted.markdup.bam</td><td>C74T05048D_frfr_N295-458                                                                                  </td><td>0.02342050                                                                                                </td><td>0.02339931                                                                                                </td><td>0.02344203                                                                                                </td><td>0.06163750                                                                                                </td><td>0.06153874                                                                                                </td><td>0.06173637                                                                                                </td><td>C277A05048D                                                                                               </td><td> 450                                                                                                      </td><td>No_relapse                                                                                                </td></tr>\n",
       "\t<tr><td>C05048                                                                                                    </td><td>C279A05048D_cfdna_N295-168                                                                                </td><td>C279A05048D_cfdna.aligned.sorted.markdup.bam                                                              </td><td>../../DerivedData/main_data/C05048/C279A05048D_cfdna_N295-168/C279A05048D_cfdna.aligned.sorted.markdup.bam</td><td>C74T05048D_frfr_N295-458                                                                                  </td><td>0.02236074                                                                                                </td><td>0.02233930                                                                                                </td><td>0.02238245                                                                                                </td><td>0.05874664                                                                                                </td><td>0.05865008                                                                                                </td><td>0.05884332                                                                                                </td><td>C279A05048D                                                                                               </td><td> 651                                                                                                      </td><td>No_relapse                                                                                                </td></tr>\n",
       "</tbody>\n",
       "</table>\n"
      ],
      "text/latex": [
       "\\begin{tabular}{r|llllllllllllll}\n",
       " patient\\_id & cfDNA\\_folder & cfDNA\\_file & cfDNA\\_bam\\_path & unique\\_kmers\\_folder & big\\_ratio & big\\_ratio\\_CI\\_lower & big\\_ratio\\_CI\\_upper & small\\_ratio & small\\_ratio\\_CI\\_lower & small\\_ratio\\_CI\\_upper & sampleID & sample\\_timepoint\\_days\\_since\\_OP & Relapse\\_label\\\\\n",
       "\\hline\n",
       "\t C05048                                                                                                             & C275A05048D\\_cfdna\\_N295-123                                                                                     & C275A05048D\\_cfdna.aligned.sorted.markdup.bam                                                                     & ../../DerivedData/main\\_data/C05048/C275A05048D\\_cfdna\\_N295-123/C275A05048D\\_cfdna.aligned.sorted.markdup.bam & C74T05048D\\_frfr\\_N295-458                                                                                       & 0.02426148                                                                                                         & 0.02423942                                                                                                         & 0.02428385                                                                                                         & 0.06112369                                                                                                         & 0.06102532                                                                                                         & 0.06122218                                                                                                         & C275A05048D                                                                                                        &  273                                                                                                               & No\\_relapse                                                                                                      \\\\\n",
       "\t C05048                                                                                                             & C75A05048D\\_cfdna\\_N295-233                                                                                      & C75A05048D\\_cfdna.aligned.sorted.markdup.bam                                                                      & ../../DerivedData/main\\_data/C05048/C75A05048D\\_cfdna\\_N295-233/C75A05048D\\_cfdna.aligned.sorted.markdup.bam   & C74T05048D\\_frfr\\_N295-458                                                                                       & 0.02739208                                                                                                         & 0.02736398                                                                                                         & 0.02742005                                                                                                         & 0.05543594                                                                                                         & 0.05534198                                                                                                         & 0.05553003                                                                                                         & C75A05048D                                                                                                         &   -1                                                                                                               & NA                                                                                                                \\\\\n",
       "\t C05048                                                                                                             & C284A05048D\\_cfdna\\_N295-210                                                                                     & C284A05048D\\_cfdna.aligned.sorted.markdup.bam                                                                     & ../../DerivedData/main\\_data/C05048/C284A05048D\\_cfdna\\_N295-210/C284A05048D\\_cfdna.aligned.sorted.markdup.bam & C74T05048D\\_frfr\\_N295-458                                                                                       & 0.03107747                                                                                                         & 0.03104282                                                                                                         & 0.03111180                                                                                                         & 0.04681143                                                                                                         & 0.04672469                                                                                                         & 0.04689828                                                                                                         & C284A05048D                                                                                                        & 1057                                                                                                               & No\\_relapse                                                                                                      \\\\\n",
       "\t C05048                                                                                                             & C274A05048D\\_cfdna\\_N295-111                                                                                     & C274A05048D\\_cfdna.aligned.sorted.markdup.bam                                                                     & ../../DerivedData/main\\_data/C05048/C274A05048D\\_cfdna\\_N295-111/C274A05048D\\_cfdna.aligned.sorted.markdup.bam & C74T05048D\\_frfr\\_N295-458                                                                                       & 0.02301118                                                                                                         & 0.02298798                                                                                                         & 0.02303389                                                                                                         & 0.06069208                                                                                                         & 0.06059403                                                                                                         & 0.06079024                                                                                                         & C274A05048D                                                                                                        &  182                                                                                                               & No\\_relapse                                                                                                      \\\\\n",
       "\t C05048                                                                                                             & C282A05048D\\_cfdna\\_N295-199                                                                                     & C282A05048D\\_cfdna.aligned.sorted.markdup.bam                                                                     & ../../DerivedData/main\\_data/C05048/C282A05048D\\_cfdna\\_N295-199/C282A05048D\\_cfdna.aligned.sorted.markdup.bam & C74T05048D\\_frfr\\_N295-458                                                                                       & 0.02312879                                                                                                         & 0.02309694                                                                                                         & 0.02316104                                                                                                         & 0.03996309                                                                                                         & 0.03988266                                                                                                         & 0.04004363                                                                                                         & C282A05048D                                                                                                        &  919                                                                                                               & No\\_relapse                                                                                                      \\\\\n",
       "\t C05048                                                                                                             & C283A05048D\\_cfdna\\_N295-207                                                                                     & C283A05048D\\_cfdna.aligned.sorted.markdup.bam                                                                     & ../../DerivedData/main\\_data/C05048/C283A05048D\\_cfdna\\_N295-207/C283A05048D\\_cfdna.aligned.sorted.markdup.bam & C74T05048D\\_frfr\\_N295-458                                                                                       & 0.02323992                                                                                                         & 0.02320691                                                                                                         & 0.02327269                                                                                                         & 0.03756043                                                                                                         & 0.03748236                                                                                                         & 0.03763861                                                                                                         & C283A05048D                                                                                                        & 1003                                                                                                               & No\\_relapse                                                                                                      \\\\\n",
       "\t C05048                                                                                                             & C280A05048D\\_cfdna\\_N295-176                                                                                     & C280A05048D\\_cfdna.aligned.sorted.markdup.bam                                                                     & ../../DerivedData/main\\_data/C05048/C280A05048D\\_cfdna\\_N295-176/C280A05048D\\_cfdna.aligned.sorted.markdup.bam & C74T05048D\\_frfr\\_N295-458                                                                                       & 0.02326142                                                                                                         & 0.02323922                                                                                                         & 0.02328365                                                                                                         & 0.05912839                                                                                                         & 0.05903153                                                                                                         & 0.05922536                                                                                                         & C280A05048D                                                                                                        &  734                                                                                                               & No\\_relapse                                                                                                      \\\\\n",
       "\t C05048                                                                                                             & C273A05048D\\_cfdna\\_N295-89                                                                                      & C273A05048D\\_cfdna.aligned.sorted.markdup.bam                                                                     & ../../DerivedData/main\\_data/C05048/C273A05048D\\_cfdna\\_N295-89/C273A05048D\\_cfdna.aligned.sorted.markdup.bam  & C74T05048D\\_frfr\\_N295-458                                                                                       & 0.02493906                                                                                                         & 0.02491626                                                                                                         & 0.02496203                                                                                                         & 0.06830766                                                                                                         & 0.06820406                                                                                                         & 0.06841137                                                                                                         & C273A05048D                                                                                                        &  111                                                                                                               & No\\_relapse                                                                                                      \\\\\n",
       "\t C05048                                                                                                             & C278A05048D\\_cfdna\\_N295-151                                                                                     & C278A05048D\\_cfdna.aligned.sorted.markdup.bam                                                                     & ../../DerivedData/main\\_data/C05048/C278A05048D\\_cfdna\\_N295-151/C278A05048D\\_cfdna.aligned.sorted.markdup.bam & C74T05048D\\_frfr\\_N295-458                                                                                       & 0.02284378                                                                                                         & 0.02282273                                                                                                         & 0.02286532                                                                                                         & 0.06293238                                                                                                         & 0.06283266                                                                                                         & 0.06303222                                                                                                         & C278A05048D                                                                                                        &  555                                                                                                               & No\\_relapse                                                                                                      \\\\\n",
       "\t C05048                                                                                                             & C281A05048D\\_cfdna\\_N295-193                                                                                     & C281A05048D\\_cfdna.aligned.sorted.markdup.bam                                                                     & ../../DerivedData/main\\_data/C05048/C281A05048D\\_cfdna\\_N295-193/C281A05048D\\_cfdna.aligned.sorted.markdup.bam & C74T05048D\\_frfr\\_N295-458                                                                                       & 0.02375719                                                                                                         & 0.02373334                                                                                                         & 0.02378088                                                                                                         & 0.05873711                                                                                                         & 0.05864055                                                                                                         & 0.05883378                                                                                                         & C281A05048D                                                                                                        &  821                                                                                                               & No\\_relapse                                                                                                      \\\\\n",
       "\t C05048                                                                                                             & C272A05048D\\_cfdna\\_N295-78                                                                                      & C272A05048D\\_cfdna.aligned.sorted.markdup.bam                                                                     & ../../DerivedData/main\\_data/C05048/C272A05048D\\_cfdna\\_N295-78/C272A05048D\\_cfdna.aligned.sorted.markdup.bam  & C74T05048D\\_frfr\\_N295-458                                                                                       & 0.02296514                                                                                                         & 0.02294220                                                                                                         & 0.02298788                                                                                                         & 0.05982842                                                                                                         & 0.05973102                                                                                                         & 0.05992592                                                                                                         & C272A05048D                                                                                                        &   37                                                                                                               & No\\_relapse                                                                                                      \\\\\n",
       "\t C05048                                                                                                             & C276A05048D\\_cfdna\\_N295-52                                                                                      & C276A05048D\\_cfdna.aligned.sorted.markdup.bam                                                                     & ../../DerivedData/main\\_data/C05048/C276A05048D\\_cfdna\\_N295-52/C276A05048D\\_cfdna.aligned.sorted.markdup.bam  & C74T05048D\\_frfr\\_N295-458                                                                                       & 0.02250156                                                                                                         & 0.02247778                                                                                                         & 0.02252551                                                                                                         & 0.05444884                                                                                                         & 0.05435566                                                                                                         & 0.05454213                                                                                                         & C276A05048D                                                                                                        &  378                                                                                                               & No\\_relapse                                                                                                      \\\\\n",
       "\t C05048                                                                                                             & C277A05048D\\_cfdna\\_N295-134                                                                                     & C277A05048D\\_cfdna.aligned.sorted.markdup.bam                                                                     & ../../DerivedData/main\\_data/C05048/C277A05048D\\_cfdna\\_N295-134/C277A05048D\\_cfdna.aligned.sorted.markdup.bam & C74T05048D\\_frfr\\_N295-458                                                                                       & 0.02342050                                                                                                         & 0.02339931                                                                                                         & 0.02344203                                                                                                         & 0.06163750                                                                                                         & 0.06153874                                                                                                         & 0.06173637                                                                                                         & C277A05048D                                                                                                        &  450                                                                                                               & No\\_relapse                                                                                                      \\\\\n",
       "\t C05048                                                                                                             & C279A05048D\\_cfdna\\_N295-168                                                                                     & C279A05048D\\_cfdna.aligned.sorted.markdup.bam                                                                     & ../../DerivedData/main\\_data/C05048/C279A05048D\\_cfdna\\_N295-168/C279A05048D\\_cfdna.aligned.sorted.markdup.bam & C74T05048D\\_frfr\\_N295-458                                                                                       & 0.02236074                                                                                                         & 0.02233930                                                                                                         & 0.02238245                                                                                                         & 0.05874664                                                                                                         & 0.05865008                                                                                                         & 0.05884332                                                                                                         & C279A05048D                                                                                                        &  651                                                                                                               & No\\_relapse                                                                                                      \\\\\n",
       "\\end{tabular}\n"
      ],
      "text/markdown": [
       "\n",
       "| patient_id | cfDNA_folder | cfDNA_file | cfDNA_bam_path | unique_kmers_folder | big_ratio | big_ratio_CI_lower | big_ratio_CI_upper | small_ratio | small_ratio_CI_lower | small_ratio_CI_upper | sampleID | sample_timepoint_days_since_OP | Relapse_label |\n",
       "|---|---|---|---|---|---|---|---|---|---|---|---|---|---|\n",
       "| C05048                                                                                                     | C275A05048D_cfdna_N295-123                                                                                 | C275A05048D_cfdna.aligned.sorted.markdup.bam                                                               | ../../DerivedData/main_data/C05048/C275A05048D_cfdna_N295-123/C275A05048D_cfdna.aligned.sorted.markdup.bam | C74T05048D_frfr_N295-458                                                                                   | 0.02426148                                                                                                 | 0.02423942                                                                                                 | 0.02428385                                                                                                 | 0.06112369                                                                                                 | 0.06102532                                                                                                 | 0.06122218                                                                                                 | C275A05048D                                                                                                |  273                                                                                                       | No_relapse                                                                                                 |\n",
       "| C05048                                                                                                     | C75A05048D_cfdna_N295-233                                                                                  | C75A05048D_cfdna.aligned.sorted.markdup.bam                                                                | ../../DerivedData/main_data/C05048/C75A05048D_cfdna_N295-233/C75A05048D_cfdna.aligned.sorted.markdup.bam   | C74T05048D_frfr_N295-458                                                                                   | 0.02739208                                                                                                 | 0.02736398                                                                                                 | 0.02742005                                                                                                 | 0.05543594                                                                                                 | 0.05534198                                                                                                 | 0.05553003                                                                                                 | C75A05048D                                                                                                 |   -1                                                                                                       | NA                                                                                                         |\n",
       "| C05048                                                                                                     | C284A05048D_cfdna_N295-210                                                                                 | C284A05048D_cfdna.aligned.sorted.markdup.bam                                                               | ../../DerivedData/main_data/C05048/C284A05048D_cfdna_N295-210/C284A05048D_cfdna.aligned.sorted.markdup.bam | C74T05048D_frfr_N295-458                                                                                   | 0.03107747                                                                                                 | 0.03104282                                                                                                 | 0.03111180                                                                                                 | 0.04681143                                                                                                 | 0.04672469                                                                                                 | 0.04689828                                                                                                 | C284A05048D                                                                                                | 1057                                                                                                       | No_relapse                                                                                                 |\n",
       "| C05048                                                                                                     | C274A05048D_cfdna_N295-111                                                                                 | C274A05048D_cfdna.aligned.sorted.markdup.bam                                                               | ../../DerivedData/main_data/C05048/C274A05048D_cfdna_N295-111/C274A05048D_cfdna.aligned.sorted.markdup.bam | C74T05048D_frfr_N295-458                                                                                   | 0.02301118                                                                                                 | 0.02298798                                                                                                 | 0.02303389                                                                                                 | 0.06069208                                                                                                 | 0.06059403                                                                                                 | 0.06079024                                                                                                 | C274A05048D                                                                                                |  182                                                                                                       | No_relapse                                                                                                 |\n",
       "| C05048                                                                                                     | C282A05048D_cfdna_N295-199                                                                                 | C282A05048D_cfdna.aligned.sorted.markdup.bam                                                               | ../../DerivedData/main_data/C05048/C282A05048D_cfdna_N295-199/C282A05048D_cfdna.aligned.sorted.markdup.bam | C74T05048D_frfr_N295-458                                                                                   | 0.02312879                                                                                                 | 0.02309694                                                                                                 | 0.02316104                                                                                                 | 0.03996309                                                                                                 | 0.03988266                                                                                                 | 0.04004363                                                                                                 | C282A05048D                                                                                                |  919                                                                                                       | No_relapse                                                                                                 |\n",
       "| C05048                                                                                                     | C283A05048D_cfdna_N295-207                                                                                 | C283A05048D_cfdna.aligned.sorted.markdup.bam                                                               | ../../DerivedData/main_data/C05048/C283A05048D_cfdna_N295-207/C283A05048D_cfdna.aligned.sorted.markdup.bam | C74T05048D_frfr_N295-458                                                                                   | 0.02323992                                                                                                 | 0.02320691                                                                                                 | 0.02327269                                                                                                 | 0.03756043                                                                                                 | 0.03748236                                                                                                 | 0.03763861                                                                                                 | C283A05048D                                                                                                | 1003                                                                                                       | No_relapse                                                                                                 |\n",
       "| C05048                                                                                                     | C280A05048D_cfdna_N295-176                                                                                 | C280A05048D_cfdna.aligned.sorted.markdup.bam                                                               | ../../DerivedData/main_data/C05048/C280A05048D_cfdna_N295-176/C280A05048D_cfdna.aligned.sorted.markdup.bam | C74T05048D_frfr_N295-458                                                                                   | 0.02326142                                                                                                 | 0.02323922                                                                                                 | 0.02328365                                                                                                 | 0.05912839                                                                                                 | 0.05903153                                                                                                 | 0.05922536                                                                                                 | C280A05048D                                                                                                |  734                                                                                                       | No_relapse                                                                                                 |\n",
       "| C05048                                                                                                     | C273A05048D_cfdna_N295-89                                                                                  | C273A05048D_cfdna.aligned.sorted.markdup.bam                                                               | ../../DerivedData/main_data/C05048/C273A05048D_cfdna_N295-89/C273A05048D_cfdna.aligned.sorted.markdup.bam  | C74T05048D_frfr_N295-458                                                                                   | 0.02493906                                                                                                 | 0.02491626                                                                                                 | 0.02496203                                                                                                 | 0.06830766                                                                                                 | 0.06820406                                                                                                 | 0.06841137                                                                                                 | C273A05048D                                                                                                |  111                                                                                                       | No_relapse                                                                                                 |\n",
       "| C05048                                                                                                     | C278A05048D_cfdna_N295-151                                                                                 | C278A05048D_cfdna.aligned.sorted.markdup.bam                                                               | ../../DerivedData/main_data/C05048/C278A05048D_cfdna_N295-151/C278A05048D_cfdna.aligned.sorted.markdup.bam | C74T05048D_frfr_N295-458                                                                                   | 0.02284378                                                                                                 | 0.02282273                                                                                                 | 0.02286532                                                                                                 | 0.06293238                                                                                                 | 0.06283266                                                                                                 | 0.06303222                                                                                                 | C278A05048D                                                                                                |  555                                                                                                       | No_relapse                                                                                                 |\n",
       "| C05048                                                                                                     | C281A05048D_cfdna_N295-193                                                                                 | C281A05048D_cfdna.aligned.sorted.markdup.bam                                                               | ../../DerivedData/main_data/C05048/C281A05048D_cfdna_N295-193/C281A05048D_cfdna.aligned.sorted.markdup.bam | C74T05048D_frfr_N295-458                                                                                   | 0.02375719                                                                                                 | 0.02373334                                                                                                 | 0.02378088                                                                                                 | 0.05873711                                                                                                 | 0.05864055                                                                                                 | 0.05883378                                                                                                 | C281A05048D                                                                                                |  821                                                                                                       | No_relapse                                                                                                 |\n",
       "| C05048                                                                                                     | C272A05048D_cfdna_N295-78                                                                                  | C272A05048D_cfdna.aligned.sorted.markdup.bam                                                               | ../../DerivedData/main_data/C05048/C272A05048D_cfdna_N295-78/C272A05048D_cfdna.aligned.sorted.markdup.bam  | C74T05048D_frfr_N295-458                                                                                   | 0.02296514                                                                                                 | 0.02294220                                                                                                 | 0.02298788                                                                                                 | 0.05982842                                                                                                 | 0.05973102                                                                                                 | 0.05992592                                                                                                 | C272A05048D                                                                                                |   37                                                                                                       | No_relapse                                                                                                 |\n",
       "| C05048                                                                                                     | C276A05048D_cfdna_N295-52                                                                                  | C276A05048D_cfdna.aligned.sorted.markdup.bam                                                               | ../../DerivedData/main_data/C05048/C276A05048D_cfdna_N295-52/C276A05048D_cfdna.aligned.sorted.markdup.bam  | C74T05048D_frfr_N295-458                                                                                   | 0.02250156                                                                                                 | 0.02247778                                                                                                 | 0.02252551                                                                                                 | 0.05444884                                                                                                 | 0.05435566                                                                                                 | 0.05454213                                                                                                 | C276A05048D                                                                                                |  378                                                                                                       | No_relapse                                                                                                 |\n",
       "| C05048                                                                                                     | C277A05048D_cfdna_N295-134                                                                                 | C277A05048D_cfdna.aligned.sorted.markdup.bam                                                               | ../../DerivedData/main_data/C05048/C277A05048D_cfdna_N295-134/C277A05048D_cfdna.aligned.sorted.markdup.bam | C74T05048D_frfr_N295-458                                                                                   | 0.02342050                                                                                                 | 0.02339931                                                                                                 | 0.02344203                                                                                                 | 0.06163750                                                                                                 | 0.06153874                                                                                                 | 0.06173637                                                                                                 | C277A05048D                                                                                                |  450                                                                                                       | No_relapse                                                                                                 |\n",
       "| C05048                                                                                                     | C279A05048D_cfdna_N295-168                                                                                 | C279A05048D_cfdna.aligned.sorted.markdup.bam                                                               | ../../DerivedData/main_data/C05048/C279A05048D_cfdna_N295-168/C279A05048D_cfdna.aligned.sorted.markdup.bam | C74T05048D_frfr_N295-458                                                                                   | 0.02236074                                                                                                 | 0.02233930                                                                                                 | 0.02238245                                                                                                 | 0.05874664                                                                                                 | 0.05865008                                                                                                 | 0.05884332                                                                                                 | C279A05048D                                                                                                |  651                                                                                                       | No_relapse                                                                                                 |\n",
       "\n"
      ],
      "text/plain": [
       "   patient_id cfDNA_folder              \n",
       "1  C05048     C275A05048D_cfdna_N295-123\n",
       "2  C05048     C75A05048D_cfdna_N295-233 \n",
       "3  C05048     C284A05048D_cfdna_N295-210\n",
       "4  C05048     C274A05048D_cfdna_N295-111\n",
       "5  C05048     C282A05048D_cfdna_N295-199\n",
       "6  C05048     C283A05048D_cfdna_N295-207\n",
       "7  C05048     C280A05048D_cfdna_N295-176\n",
       "8  C05048     C273A05048D_cfdna_N295-89 \n",
       "9  C05048     C278A05048D_cfdna_N295-151\n",
       "10 C05048     C281A05048D_cfdna_N295-193\n",
       "11 C05048     C272A05048D_cfdna_N295-78 \n",
       "12 C05048     C276A05048D_cfdna_N295-52 \n",
       "13 C05048     C277A05048D_cfdna_N295-134\n",
       "14 C05048     C279A05048D_cfdna_N295-168\n",
       "   cfDNA_file                                  \n",
       "1  C275A05048D_cfdna.aligned.sorted.markdup.bam\n",
       "2  C75A05048D_cfdna.aligned.sorted.markdup.bam \n",
       "3  C284A05048D_cfdna.aligned.sorted.markdup.bam\n",
       "4  C274A05048D_cfdna.aligned.sorted.markdup.bam\n",
       "5  C282A05048D_cfdna.aligned.sorted.markdup.bam\n",
       "6  C283A05048D_cfdna.aligned.sorted.markdup.bam\n",
       "7  C280A05048D_cfdna.aligned.sorted.markdup.bam\n",
       "8  C273A05048D_cfdna.aligned.sorted.markdup.bam\n",
       "9  C278A05048D_cfdna.aligned.sorted.markdup.bam\n",
       "10 C281A05048D_cfdna.aligned.sorted.markdup.bam\n",
       "11 C272A05048D_cfdna.aligned.sorted.markdup.bam\n",
       "12 C276A05048D_cfdna.aligned.sorted.markdup.bam\n",
       "13 C277A05048D_cfdna.aligned.sorted.markdup.bam\n",
       "14 C279A05048D_cfdna.aligned.sorted.markdup.bam\n",
       "   cfDNA_bam_path                                                                                            \n",
       "1  ../../DerivedData/main_data/C05048/C275A05048D_cfdna_N295-123/C275A05048D_cfdna.aligned.sorted.markdup.bam\n",
       "2  ../../DerivedData/main_data/C05048/C75A05048D_cfdna_N295-233/C75A05048D_cfdna.aligned.sorted.markdup.bam  \n",
       "3  ../../DerivedData/main_data/C05048/C284A05048D_cfdna_N295-210/C284A05048D_cfdna.aligned.sorted.markdup.bam\n",
       "4  ../../DerivedData/main_data/C05048/C274A05048D_cfdna_N295-111/C274A05048D_cfdna.aligned.sorted.markdup.bam\n",
       "5  ../../DerivedData/main_data/C05048/C282A05048D_cfdna_N295-199/C282A05048D_cfdna.aligned.sorted.markdup.bam\n",
       "6  ../../DerivedData/main_data/C05048/C283A05048D_cfdna_N295-207/C283A05048D_cfdna.aligned.sorted.markdup.bam\n",
       "7  ../../DerivedData/main_data/C05048/C280A05048D_cfdna_N295-176/C280A05048D_cfdna.aligned.sorted.markdup.bam\n",
       "8  ../../DerivedData/main_data/C05048/C273A05048D_cfdna_N295-89/C273A05048D_cfdna.aligned.sorted.markdup.bam \n",
       "9  ../../DerivedData/main_data/C05048/C278A05048D_cfdna_N295-151/C278A05048D_cfdna.aligned.sorted.markdup.bam\n",
       "10 ../../DerivedData/main_data/C05048/C281A05048D_cfdna_N295-193/C281A05048D_cfdna.aligned.sorted.markdup.bam\n",
       "11 ../../DerivedData/main_data/C05048/C272A05048D_cfdna_N295-78/C272A05048D_cfdna.aligned.sorted.markdup.bam \n",
       "12 ../../DerivedData/main_data/C05048/C276A05048D_cfdna_N295-52/C276A05048D_cfdna.aligned.sorted.markdup.bam \n",
       "13 ../../DerivedData/main_data/C05048/C277A05048D_cfdna_N295-134/C277A05048D_cfdna.aligned.sorted.markdup.bam\n",
       "14 ../../DerivedData/main_data/C05048/C279A05048D_cfdna_N295-168/C279A05048D_cfdna.aligned.sorted.markdup.bam\n",
       "   unique_kmers_folder      big_ratio  big_ratio_CI_lower big_ratio_CI_upper\n",
       "1  C74T05048D_frfr_N295-458 0.02426148 0.02423942         0.02428385        \n",
       "2  C74T05048D_frfr_N295-458 0.02739208 0.02736398         0.02742005        \n",
       "3  C74T05048D_frfr_N295-458 0.03107747 0.03104282         0.03111180        \n",
       "4  C74T05048D_frfr_N295-458 0.02301118 0.02298798         0.02303389        \n",
       "5  C74T05048D_frfr_N295-458 0.02312879 0.02309694         0.02316104        \n",
       "6  C74T05048D_frfr_N295-458 0.02323992 0.02320691         0.02327269        \n",
       "7  C74T05048D_frfr_N295-458 0.02326142 0.02323922         0.02328365        \n",
       "8  C74T05048D_frfr_N295-458 0.02493906 0.02491626         0.02496203        \n",
       "9  C74T05048D_frfr_N295-458 0.02284378 0.02282273         0.02286532        \n",
       "10 C74T05048D_frfr_N295-458 0.02375719 0.02373334         0.02378088        \n",
       "11 C74T05048D_frfr_N295-458 0.02296514 0.02294220         0.02298788        \n",
       "12 C74T05048D_frfr_N295-458 0.02250156 0.02247778         0.02252551        \n",
       "13 C74T05048D_frfr_N295-458 0.02342050 0.02339931         0.02344203        \n",
       "14 C74T05048D_frfr_N295-458 0.02236074 0.02233930         0.02238245        \n",
       "   small_ratio small_ratio_CI_lower small_ratio_CI_upper sampleID   \n",
       "1  0.06112369  0.06102532           0.06122218           C275A05048D\n",
       "2  0.05543594  0.05534198           0.05553003           C75A05048D \n",
       "3  0.04681143  0.04672469           0.04689828           C284A05048D\n",
       "4  0.06069208  0.06059403           0.06079024           C274A05048D\n",
       "5  0.03996309  0.03988266           0.04004363           C282A05048D\n",
       "6  0.03756043  0.03748236           0.03763861           C283A05048D\n",
       "7  0.05912839  0.05903153           0.05922536           C280A05048D\n",
       "8  0.06830766  0.06820406           0.06841137           C273A05048D\n",
       "9  0.06293238  0.06283266           0.06303222           C278A05048D\n",
       "10 0.05873711  0.05864055           0.05883378           C281A05048D\n",
       "11 0.05982842  0.05973102           0.05992592           C272A05048D\n",
       "12 0.05444884  0.05435566           0.05454213           C276A05048D\n",
       "13 0.06163750  0.06153874           0.06173637           C277A05048D\n",
       "14 0.05874664  0.05865008           0.05884332           C279A05048D\n",
       "   sample_timepoint_days_since_OP Relapse_label\n",
       "1   273                           No_relapse   \n",
       "2    -1                           NA           \n",
       "3  1057                           No_relapse   \n",
       "4   182                           No_relapse   \n",
       "5   919                           No_relapse   \n",
       "6  1003                           No_relapse   \n",
       "7   734                           No_relapse   \n",
       "8   111                           No_relapse   \n",
       "9   555                           No_relapse   \n",
       "10  821                           No_relapse   \n",
       "11   37                           No_relapse   \n",
       "12  378                           No_relapse   \n",
       "13  450                           No_relapse   \n",
       "14  651                           No_relapse   "
      ]
     },
     "metadata": {},
     "output_type": "display_data"
    }
   ],
   "source": [
    "paramspace_cfDNA %>% filter(patient_id == \"C05048\")"
   ]
  },
  {
   "cell_type": "code",
   "execution_count": 16,
   "id": "82b6d4ba-0a4b-4f35-8774-75c2678e1a9b",
   "metadata": {},
   "outputs": [
    {
     "name": "stderr",
     "output_type": "stream",
     "text": [
      "Saving 6.67 x 6.67 in image\n",
      "Saving 6.67 x 6.67 in image\n",
      "Saving 6.67 x 6.67 in image\n",
      "Saving 6.67 x 6.67 in image\n",
      "Saving 6.67 x 6.67 in image\n",
      "Saving 6.67 x 6.67 in image\n",
      "Saving 6.67 x 6.67 in image\n",
      "Saving 6.67 x 6.67 in image\n",
      "Saving 6.67 x 6.67 in image\n",
      "Saving 6.67 x 6.67 in image\n",
      "Saving 6.67 x 6.67 in image\n",
      "Saving 6.67 x 6.67 in image\n",
      "Saving 6.67 x 6.67 in image\n",
      "Saving 6.67 x 6.67 in image\n",
      "Saving 6.67 x 6.67 in image\n"
     ]
    }
   ],
   "source": [
    "plots <- NULL\n",
    "p_vals_all <- NULL\n",
    "\n",
    "for (pt in unique(paramspace_emp$patient_id)){\n",
    "    paramspace_emp_pt <- paramspace_emp %>% filter(patient_id == pt)\n",
    "    paramspace_cfDNA_pt <- paramspace_cfDNA %>% filter(patient_id == pt)\n",
    "    \n",
    "    paramspace_emp_pt[\"big_ratio\"] <- NA\n",
    "    \n",
    "    for (row in 1:nrow(paramspace_emp_pt)){\n",
    "        other_pt = paramspace_emp_pt[row, \"other_patient_id\"]\n",
    "        other_pt_cfDNA_folder = paramspace_emp_pt[row, \"other_patient_cfDNA_folder\"]\n",
    "        index  = paramspace_emp_pt[row, \"X\"]\n",
    "        big_r = read.csv(paste(\"../data/\", pt, \"/\" , input_folder_ratios_dist, \"/ratios/\", \"big_ratio_pt_\", other_pt, \"_cfDNAsample_\", other_pt_cfDNA_folder, \"_\", index, \".csv\", sep = \"\"))\n",
    "        paramspace_emp_pt[row, \"big_ratio\"] = big_r$ratio\n",
    "    }\n",
    "    ratios_other = paramspace_emp_pt$big_ratio\n",
    "    ratios_other = sort(ratios_other, decreasing = FALSE)\n",
    "    paramspace_cfDNA_pt[\"p_value\"] <- NA\n",
    "    \n",
    "    for (row in 1:nrow(paramspace_cfDNA_pt)){\n",
    "        ratio = paramspace_cfDNA_pt[row, \"big_ratio\"]\n",
    "        paramspace_cfDNA_pt[row, \"p_value\"] = sum(ratios_other >= ratio)/length(ratios_other)\n",
    "        }\n",
    "    p_vals_all <- rbind(p_vals_all, paramspace_cfDNA_pt)\n",
    "    \n",
    "    paramspace_cfDNA_pt$sample_timepoint <- as.factor(paramspace_cfDNA_pt$sample_timepoint)\n",
    "    colourCount = length(unique(paramspace_cfDNA_pt$sample_timepoint))\n",
    "    \n",
    "    distribution_plot <- ggplot() + \n",
    "                              geom_histogram(data = paramspace_emp_pt, aes(x = big_ratio), fill = \"grey81\", color = \"grey50\", bins = 70) + \n",
    "                              geom_vline(data = paramspace_cfDNA_pt, aes(xintercept = big_ratio, color = sample_timepoint), size = 0.5, alpha = 1) + \n",
    "                              theme_minimal()  + \n",
    "                              scale_color_manual(values = getPalette(colourCount)) + \n",
    "                              labs(x = \"Big ratio\",\n",
    "                                   y = \"count\", \n",
    "                                   title = paste(\"Big ratio distribution\", sep =  \"\"),\n",
    "                                   subtitle = paste(\"Patient \", pt, \" (\", paramspace_cfDNA_pt[1, \"Relapse_label\"], \")\", \"\\nPipeline \", input_folder_target_ratios, sep =  \"\"))\n",
    "    \n",
    "    ggsave(\n",
    "      paste(\"../plotting_results/\", output_folder, \"/empirical_dist_analysis/Patient_\", pt, \"_Big_ratio_distribution.png\", sep = \"\"),\n",
    "      distribution_plot, dpi = \"print\")\n",
    "\n",
    "    \n",
    "    plots[[pt]] <- distribution_plot\n",
    "    \n",
    "    }"
   ]
  },
  {
   "cell_type": "code",
   "execution_count": 17,
   "id": "1b6b9786-2468-4402-a039-5b23a006b8a4",
   "metadata": {},
   "outputs": [
    {
     "data": {
      "image/png": "[encoded data removed]",
      "text/plain": [
       "plot without title"
      ]
     },
     "metadata": {},
     "output_type": "display_data"
    }
   ],
   "source": [
    "plots[[\"C04689\"]]"
   ]
  },
  {
   "cell_type": "markdown",
   "id": "899c1dda-f197-4ba7-92b7-30f757216e87",
   "metadata": {},
   "source": [
    "## Calculate p-values"
   ]
  },
  {
   "cell_type": "code",
   "execution_count": 18,
   "id": "b1200b69-2148-412e-b753-a1f581cf072f",
   "metadata": {},
   "outputs": [
    {
     "data": {
      "text/html": [
       "<ol class=list-inline>\n",
       "\t<li>190</li>\n",
       "\t<li>14</li>\n",
       "</ol>\n"
      ],
      "text/latex": [
       "\\begin{enumerate*}\n",
       "\\item 190\n",
       "\\item 14\n",
       "\\end{enumerate*}\n"
      ],
      "text/markdown": [
       "1. 190\n",
       "2. 14\n",
       "\n",
       "\n"
      ],
      "text/plain": [
       "[1] 190  14"
      ]
     },
     "metadata": {},
     "output_type": "display_data"
    }
   ],
   "source": [
    "dim(paramspace_cfDNA)"
   ]
  },
  {
   "cell_type": "code",
   "execution_count": 19,
   "id": "a348f45b-e681-4e51-bd8a-6d3651a7a72e",
   "metadata": {},
   "outputs": [
    {
     "data": {
      "text/html": [
       "<ol class=list-inline>\n",
       "\t<li>190</li>\n",
       "\t<li>15</li>\n",
       "</ol>\n"
      ],
      "text/latex": [
       "\\begin{enumerate*}\n",
       "\\item 190\n",
       "\\item 15\n",
       "\\end{enumerate*}\n"
      ],
      "text/markdown": [
       "1. 190\n",
       "2. 15\n",
       "\n",
       "\n"
      ],
      "text/plain": [
       "[1] 190  15"
      ]
     },
     "metadata": {},
     "output_type": "display_data"
    }
   ],
   "source": [
    "dim(p_vals_all)"
   ]
  },
  {
   "cell_type": "code",
   "execution_count": 21,
   "id": "0435be91-a1aa-4be2-92bc-0c0ba7e170d7",
   "metadata": {},
   "outputs": [
    {
     "data": {
      "text/html": [
       "<table>\n",
       "<thead><tr><th scope=col>patient_id</th><th scope=col>cfDNA_folder</th><th scope=col>unique_kmers_folder</th><th scope=col>big_ratio</th><th scope=col>small_ratio</th><th scope=col>sampleID</th><th scope=col>sample_timepoint_days_since_OP</th><th scope=col>Relapse_label</th><th scope=col>p_value</th></tr></thead>\n",
       "<tbody>\n",
       "\t<tr><td>C04689                    </td><td>C303A04689D_cfdna_N295-103</td><td>C123T04689D_frfr_N295-450 </td><td>0.5577292                 </td><td>0.5479398                 </td><td>C303A04689D               </td><td>267                       </td><td>No_relapse                </td><td>0.9943182                 </td></tr>\n",
       "\t<tr><td>C04689                    </td><td>C305A04689D_cfdna_N295-71 </td><td>C123T04689D_frfr_N295-450 </td><td>0.5585645                 </td><td>0.5709877                 </td><td>C305A04689D               </td><td>454                       </td><td>No_relapse                </td><td>0.9943182                 </td></tr>\n",
       "\t<tr><td>C04689                    </td><td>C309A04689D_cfdna_N295-47 </td><td>C123T04689D_frfr_N295-450 </td><td>0.5478894                 </td><td>0.5489249                 </td><td>C309A04689D               </td><td>820                       </td><td>No_relapse                </td><td>1.0000000                 </td></tr>\n",
       "\t<tr><td>C04689                    </td><td>C302A04689D_cfdna_N295-102</td><td>C123T04689D_frfr_N295-450 </td><td>0.5536607                 </td><td>0.5626518                 </td><td>C302A04689D               </td><td>175                       </td><td>No_relapse                </td><td>1.0000000                 </td></tr>\n",
       "\t<tr><td>C04689                    </td><td>C299A04689D_cfdna_N295-99 </td><td>C123T04689D_frfr_N295-450 </td><td>0.5570174                 </td><td>0.5705301                 </td><td>C299A04689D               </td><td> -1                       </td><td>No_relapse                </td><td>0.9943182                 </td></tr>\n",
       "\t<tr><td>C04689                    </td><td>C307A04689D_cfdna_N295-110</td><td>C123T04689D_frfr_N295-450 </td><td>0.5608753                 </td><td>0.5669944                 </td><td>C307A04689D               </td><td>637                       </td><td>No_relapse                </td><td>0.9943182                 </td></tr>\n",
       "</tbody>\n",
       "</table>\n"
      ],
      "text/latex": [
       "\\begin{tabular}{r|lllllllll}\n",
       " patient\\_id & cfDNA\\_folder & unique\\_kmers\\_folder & big\\_ratio & small\\_ratio & sampleID & sample\\_timepoint\\_days\\_since\\_OP & Relapse\\_label & p\\_value\\\\\n",
       "\\hline\n",
       "\t C04689                         & C303A04689D\\_cfdna\\_N295-103 & C123T04689D\\_frfr\\_N295-450  & 0.5577292                      & 0.5479398                      & C303A04689D                    & 267                            & No\\_relapse                   & 0.9943182                     \\\\\n",
       "\t C04689                         & C305A04689D\\_cfdna\\_N295-71  & C123T04689D\\_frfr\\_N295-450  & 0.5585645                      & 0.5709877                      & C305A04689D                    & 454                            & No\\_relapse                   & 0.9943182                     \\\\\n",
       "\t C04689                         & C309A04689D\\_cfdna\\_N295-47  & C123T04689D\\_frfr\\_N295-450  & 0.5478894                      & 0.5489249                      & C309A04689D                    & 820                            & No\\_relapse                   & 1.0000000                     \\\\\n",
       "\t C04689                         & C302A04689D\\_cfdna\\_N295-102 & C123T04689D\\_frfr\\_N295-450  & 0.5536607                      & 0.5626518                      & C302A04689D                    & 175                            & No\\_relapse                   & 1.0000000                     \\\\\n",
       "\t C04689                         & C299A04689D\\_cfdna\\_N295-99  & C123T04689D\\_frfr\\_N295-450  & 0.5570174                      & 0.5705301                      & C299A04689D                    &  -1                            & No\\_relapse                   & 0.9943182                     \\\\\n",
       "\t C04689                         & C307A04689D\\_cfdna\\_N295-110 & C123T04689D\\_frfr\\_N295-450  & 0.5608753                      & 0.5669944                      & C307A04689D                    & 637                            & No\\_relapse                   & 0.9943182                     \\\\\n",
       "\\end{tabular}\n"
      ],
      "text/markdown": [
       "\n",
       "| patient_id | cfDNA_folder | unique_kmers_folder | big_ratio | small_ratio | sampleID | sample_timepoint_days_since_OP | Relapse_label | p_value |\n",
       "|---|---|---|---|---|---|---|---|---|\n",
       "| C04689                     | C303A04689D_cfdna_N295-103 | C123T04689D_frfr_N295-450  | 0.5577292                  | 0.5479398                  | C303A04689D                | 267                        | No_relapse                 | 0.9943182                  |\n",
       "| C04689                     | C305A04689D_cfdna_N295-71  | C123T04689D_frfr_N295-450  | 0.5585645                  | 0.5709877                  | C305A04689D                | 454                        | No_relapse                 | 0.9943182                  |\n",
       "| C04689                     | C309A04689D_cfdna_N295-47  | C123T04689D_frfr_N295-450  | 0.5478894                  | 0.5489249                  | C309A04689D                | 820                        | No_relapse                 | 1.0000000                  |\n",
       "| C04689                     | C302A04689D_cfdna_N295-102 | C123T04689D_frfr_N295-450  | 0.5536607                  | 0.5626518                  | C302A04689D                | 175                        | No_relapse                 | 1.0000000                  |\n",
       "| C04689                     | C299A04689D_cfdna_N295-99  | C123T04689D_frfr_N295-450  | 0.5570174                  | 0.5705301                  | C299A04689D                |  -1                        | No_relapse                 | 0.9943182                  |\n",
       "| C04689                     | C307A04689D_cfdna_N295-110 | C123T04689D_frfr_N295-450  | 0.5608753                  | 0.5669944                  | C307A04689D                | 637                        | No_relapse                 | 0.9943182                  |\n",
       "\n"
      ],
      "text/plain": [
       "  patient_id cfDNA_folder               unique_kmers_folder       big_ratio\n",
       "1 C04689     C303A04689D_cfdna_N295-103 C123T04689D_frfr_N295-450 0.5577292\n",
       "2 C04689     C305A04689D_cfdna_N295-71  C123T04689D_frfr_N295-450 0.5585645\n",
       "3 C04689     C309A04689D_cfdna_N295-47  C123T04689D_frfr_N295-450 0.5478894\n",
       "4 C04689     C302A04689D_cfdna_N295-102 C123T04689D_frfr_N295-450 0.5536607\n",
       "5 C04689     C299A04689D_cfdna_N295-99  C123T04689D_frfr_N295-450 0.5570174\n",
       "6 C04689     C307A04689D_cfdna_N295-110 C123T04689D_frfr_N295-450 0.5608753\n",
       "  small_ratio sampleID    sample_timepoint_days_since_OP Relapse_label\n",
       "1 0.5479398   C303A04689D 267                            No_relapse   \n",
       "2 0.5709877   C305A04689D 454                            No_relapse   \n",
       "3 0.5489249   C309A04689D 820                            No_relapse   \n",
       "4 0.5626518   C302A04689D 175                            No_relapse   \n",
       "5 0.5705301   C299A04689D  -1                            No_relapse   \n",
       "6 0.5669944   C307A04689D 637                            No_relapse   \n",
       "  p_value  \n",
       "1 0.9943182\n",
       "2 0.9943182\n",
       "3 1.0000000\n",
       "4 1.0000000\n",
       "5 0.9943182\n",
       "6 0.9943182"
      ]
     },
     "metadata": {},
     "output_type": "display_data"
    }
   ],
   "source": [
    "p_vals_all <- p_vals_all %>% select(patient_id, cfDNA_folder, unique_kmers_folder, big_ratio, small_ratio, sampleID, sample_timepoint_days_since_OP, Relapse_label, p_value)\n",
    "head(p_vals_all)"
   ]
  },
  {
   "cell_type": "code",
   "execution_count": 22,
   "id": "85ae2db3-fea0-44b0-8cf0-c3cce34079e2",
   "metadata": {},
   "outputs": [],
   "source": [
    "write.csv(p_vals_all,  paste(\"../plotting_results/\", output_folder, \"/empirical_dist_analysis/p_values.csv\", sep = \"\"), row.names = FALSE)"
   ]
  },
  {
   "cell_type": "code",
   "execution_count": null,
   "id": "028870c1-d985-40cd-91ac-652a2915b654",
   "metadata": {},
   "outputs": [],
   "source": []
  }
 ],
 "metadata": {
  "kernelspec": {
   "display_name": "R",
   "language": "R",
   "name": "ir"
  },
  "language_info": {
   "codemirror_mode": "r",
   "file_extension": ".r",
   "mimetype": "text/x-r-source",
   "name": "R",
   "pygments_lexer": "r",
   "version": "3.6.1"
  }
 },
 "nbformat": 4,
 "nbformat_minor": 5
}
