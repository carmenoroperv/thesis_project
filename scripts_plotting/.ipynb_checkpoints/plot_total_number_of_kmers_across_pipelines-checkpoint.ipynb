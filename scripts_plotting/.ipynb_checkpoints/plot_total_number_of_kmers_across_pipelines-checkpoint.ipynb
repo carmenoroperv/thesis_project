{
 "cells": [
  {
   "cell_type": "code",
   "execution_count": null,
   "id": "6e329441-8571-41a9-b59b-cc3d32f775c8",
   "metadata": {},
   "outputs": [],
   "source": [
    "library(tidyverse)\n",
    "library(RColorBrewer)"
   ]
  },
  {
   "cell_type": "code",
   "execution_count": null,
   "id": "0b6768eb-6b42-4f73-8f39-adab0c74fb5e",
   "metadata": {},
   "outputs": [],
   "source": [
    "paramspace <- read.csv(\"../data/metadata/paramspace_phaseI.csv\")\n",
    "paramspace <- paramspace %>% select(pt_id, output_path_unique_kmers)\n",
    "head(paramspace)\n",
    "dim(paramspace)"
   ]
  },
  {
   "cell_type": "code",
   "execution_count": null,
   "id": "84bb23fb-3529-415f-b391-438b847f5171",
   "metadata": {},
   "outputs": [],
   "source": [
    "phaseIpt_R <- read.csv(\"../phaseI_pt_R.csv\", header=FALSE)\n",
    "phaseIpt_R <- as.character(unlist(c(phaseIpt_R[1,])))\n",
    "\n",
    "low_qual_sample <- read.table(\"../low_qual_sample.txt\")\n",
    "low_qual_sample <- as.character(low_qual_sample[[1]])"
   ]
  },
  {
   "cell_type": "code",
   "execution_count": null,
   "id": "f56b023d-6ac9-4252-b2f9-60eb5a3e4d52",
   "metadata": {},
   "outputs": [],
   "source": [
    "processFile = function(filepath) {\n",
    "    con = file(filepath, \"r\")\n",
    "    while (TRUE) {\n",
    "        line = readLines(con, n = 1)\n",
    "        if ( length(line) == 0 || str_split(line, \":\")[[1]][1] == \"1 of 1 steps (100%) done\") {\n",
    "            break\n",
    "            }\n",
    "        if (str_split(line, \":\")[[1]][1] == \"   Total no. of reads                 \"){\n",
    "            reads = gsub(\" \", \"\", str_split(line, \":\")[[1]][2], fixed = TRUE)\n",
    "            }\n",
    "        if (str_split(line, \":\")[[1]][1] == \"   Total no. of sequences             \"){\n",
    "            reads = gsub(\" \", \"\", str_split(line, \":\")[[1]][2], fixed = TRUE)\n",
    "            }\n",
    "        if (str_split(line, \":\")[[1]][1] == \"   No. of unique counted k-mers       \"){\n",
    "            kmers = gsub(\" \", \"\", str_split(line, \":\")[[1]][2], fixed = TRUE)\n",
    "            }\n",
    "    }\n",
    "    res = c(reads, kmers)\n",
    "    close(con)\n",
    "    return(res) \n",
    "}"
   ]
  },
  {
   "cell_type": "code",
   "execution_count": null,
   "id": "186fa273-72b6-4d4b-ac16-49b0299b4a8a",
   "metadata": {},
   "outputs": [],
   "source": [
    "res_germline <- NULL\n",
    "logs = list.files('../logs/high_cs_count_germline/')\n",
    "logs_de_novo = list.files('../logs/high_cs_count_germline_de_novo/')\n",
    "\n",
    "for (row in 1:nrow(paramspace)){\n",
    "    patient = paramspace[row, \"pt_id\"]\n",
    "    folder = paramspace[row, \"output_path_unique_kmers\"]\n",
    "    \n",
    "    log = grep(patient, logs, value=TRUE)\n",
    "    res_germ_pt <- processFile(paste0('../logs/high_cs_count_germline/', log))\n",
    "    res_germ_pt_df <- tibble(pt_id = patient, \n",
    "                            tumor_folder = folder, \n",
    "                            germline_reads = as.numeric(res_germ_pt[1]),\n",
    "                            germline_kmers = as.numeric(res_germ_pt[2]),\n",
    "                            pipeline = \"germline\")\n",
    "\n",
    "    res_germline <- bind_rows(res_germline, res_germ_pt_df)\n",
    "    \n",
    "    log = grep(patient, logs_de_novo, value=TRUE)\n",
    "    res_germ_pt_de_novo <- processFile(paste0('../logs/high_cs_count_germline_de_novo/', log))\n",
    "    res_germ_pt_de_novo_df <- tibble(pt_id = patient, \n",
    "                                     tumor_folder = folder, \n",
    "                                     germline_reads = as.numeric(res_germ_pt_de_novo[1]),\n",
    "                                     germline_kmers = as.numeric(res_germ_pt_de_novo[2]),\n",
    "                                     pipeline = \"germline_var_stringed_together\")\n",
    "\n",
    "    res_germline <- bind_rows(res_germline, res_germ_pt_de_novo_df)\n",
    "}\n",
    "head(res_germline)"
   ]
  },
  {
   "cell_type": "code",
   "execution_count": null,
   "id": "2843fd7e-3926-42ec-b6ab-ae9f1e36547d",
   "metadata": {},
   "outputs": [],
   "source": [
    "res_unions_germline <- NULL\n",
    "union_germline <- read.table(paste(\"../data/\", \"plotdata_germline_union_filtered.txt\", sep = \"\"))\n",
    "union_kmers <- as.numeric(sum(union_germline$V2))\n",
    "res_germ_union <- tibble(pt_id = \"union_germline\", \n",
    "                            tumor_folder = NA, \n",
    "                            germline_reads = NA,\n",
    "                            germline_kmers = as.numeric(union_kmers))\n",
    "\n",
    "res_germ_unions <- tibble(germline = \"union\", \n",
    "                            tumor_folder = NA, \n",
    "                            germline_reads = NA,\n",
    "                            germline_kmers = as.numeric(union_kmers))\n",
    "\n",
    "res_germline <- bind_rows(res_germline, res_germ_union)\n",
    "res_unions_germline <- bind_rows(res_unions_germline, res_germ_unions)\n",
    "\n",
    "\n",
    "union_germline_de_novo <- read.table(paste(\"../data/\", \"plotdata_germline_union_de_novo_filtered.txt\", sep = \"\"))\n",
    "union_germline_de_novo_kmers <- as.numeric(sum(union_germline_de_novo$V2))\n",
    "res_germ_union_de_novo <- tibble(germline = \"union_var_stringed_together\", \n",
    "                            tumor_folder = NA, \n",
    "                            germline_reads = NA,\n",
    "                            germline_kmers = as.numeric(union_germline_de_novo_kmers))\n",
    "res_unions_germline <- bind_rows(res_unions_germline, res_germ_union_de_novo)\n",
    "\n",
    "\n",
    "\n",
    "union_germline_de_novo_k50 <- read.table(paste(\"../data/\", \"plotdata_germline_union_de_novo_and_k50_filtered.txt\", sep = \"\"))\n",
    "union_germline_de_novo_k50_kmers <- as.numeric(sum(union_germline_de_novo_k50$V2))\n",
    "res_germ_union_de_novo_k50 <- tibble(germline = \"added_union_var_stringed_together\", \n",
    "                            tumor_folder = NA, \n",
    "                            germline_reads = NA,\n",
    "                            germline_kmers = as.numeric(union_germline_de_novo_k50_kmers))\n",
    "res_unions_germline <- bind_rows(res_unions_germline, res_germ_union_de_novo_k50)\n",
    "\n",
    "\n",
    "union_germline_de_novo_k50_ref <- read.table(paste(\"../data/\", \"plotdata_germline_union_de_novo_and_k50_and_reference_filtered.txt\", sep = \"\"))\n",
    "union_germline_de_novo_k50_ref_kmers <- as.numeric(sum(union_germline_de_novo_k50_ref$V2))\n",
    "res_germ_union_de_novo_k50_ref <- tibble(germline = \"added_reference\", \n",
    "                            tumor_folder = NA, \n",
    "                            germline_reads = NA,\n",
    "                            germline_kmers = as.numeric(union_germline_de_novo_k50_ref_kmers))\n",
    "res_unions_germline <- bind_rows(res_unions_germline, res_germ_union_de_novo_k50_ref)"
   ]
  },
  {
   "cell_type": "code",
   "execution_count": null,
   "id": "db8be9ed-d906-4215-bea8-6b5308a250b2",
   "metadata": {},
   "outputs": [],
   "source": [
    "res_unions_germline"
   ]
  },
  {
   "cell_type": "code",
   "execution_count": null,
   "id": "7782f8c8-5005-4d7a-9c9c-3f533c3b5130",
   "metadata": {},
   "outputs": [],
   "source": [
    "#options(repr.plot.width=15, repr.plot.height=8)\n",
    "#options(warn=-1)\n",
    "#res_germline_1pipeline <- res_germline %>% filter(pipeline == \"germline\")\n",
    "a <- ifelse(res_germline_1pipeline$pt_id %in% phaseIpt_R, \"red\", \"darkblue\")"
   ]
  },
  {
   "cell_type": "code",
   "execution_count": null,
   "id": "14cf0448-7b3b-45fe-8205-8e561167de42",
   "metadata": {},
   "outputs": [],
   "source": [
    "#germline_plot"
   ]
  },
  {
   "cell_type": "code",
   "execution_count": null,
   "id": "8f89c983-c287-4082-8554-fe5f73a7e2c9",
   "metadata": {},
   "outputs": [],
   "source": [
    "res_unions_germline"
   ]
  },
  {
   "cell_type": "code",
   "execution_count": null,
   "id": "46188864-4034-4812-bded-8b756d7994bc",
   "metadata": {},
   "outputs": [],
   "source": [
    " res_unions_germline_plot <- res_unions_germline %>% filter(germline != \"union_var_stringed_together\") %>% mutate(l = c(\"Union of germline k-mers from \\n phase I patients\", \"Added reference genome and \\n germline variants  consensus \\n sequences k-mers\", \"Added k-mers from \\n the reference genome sequence\"))"
   ]
  },
  {
   "cell_type": "code",
   "execution_count": null,
   "id": "dba753fb-b6d3-47ad-8b01-11ef37a0d442",
   "metadata": {},
   "outputs": [],
   "source": [
    "options(repr.plot.width=15, repr.plot.height=8)\n",
    "res_unions_germline_plot %>% ggplot() +\n",
    "  geom_col(aes(x = factor(l, levels = (sort(l, decreasing = TRUE))), y = germline_kmers), fill = \"grey\") +\n",
    "    #ggtitle(\"Germline kmers\") + \n",
    "    geom_text(aes(x = l, y = germline_kmers, label = germline_kmers), size = 6)+\n",
    "    theme_minimal()  + \n",
    "    theme(text = element_text(size = 20))+\n",
    "    ylab(\"Number of germline k-mers\") + xlab(\"\") + \n",
    "    coord_cartesian(ylim = c(70000000000, 70200000000))"
   ]
  },
  {
   "cell_type": "code",
   "execution_count": null,
   "id": "2d7a9c5b-fc93-4c89-935e-73fafcaf0bdf",
   "metadata": {},
   "outputs": [],
   "source": [
    "print(paste0(\"Adding reference kmers to the union germline set adds \", (70102232848 - 70087229074), \" kmers\"))\n"
   ]
  },
  {
   "cell_type": "code",
   "execution_count": null,
   "id": "0210dca4-5a34-4065-a42b-7b487c212754",
   "metadata": {},
   "outputs": [],
   "source": [
    "res_germline %>% filter(pt_id != \"union_germline\") %>% filter(pipeline == \"germline\") %>% ggplot() +\n",
    "  geom_col(aes(x = pt_id, y = germline_kmers), fill = \"grey\") +\n",
    "    ggtitle(\"Germline kmers\") + theme_minimal()  + \n",
    "    theme(axis.text.x = element_text(colour = a, size = 11),\n",
    "          axis.text.y = element_text(size = 11),\n",
    "          axis.title=element_text(size=13)) + \n",
    "    ylab(\"n germline kmers\") + xlab(\"Patient ID\")"
   ]
  },
  {
   "cell_type": "code",
   "execution_count": null,
   "id": "bde0494a-60e5-4dcc-b67d-73799af916f5",
   "metadata": {},
   "outputs": [],
   "source": [
    "head(res_germline)"
   ]
  },
  {
   "cell_type": "code",
   "execution_count": null,
   "id": "f0afadb3-2c9b-4641-b204-e7f9f539da85",
   "metadata": {},
   "outputs": [],
   "source": [
    "options(repr.plot.width=15, repr.plot.height=8)\n",
    "res_tumor_unique_tumor <- NULL\n",
    "\n",
    "logs_ci1_cs1e9 = list.files('../logs/high_cs_count_tumor/')\n",
    "logs_ci5_cs1e9 = list.files('../logs/high_cs_ci5_tumor_count_tumor/')\n",
    "logs_AG_FT_ci5_cs1e9 = list.files('../logs/count_tumor_all_germline_filtered_bams_tumor_ci5_cs1e9/')\n",
    "\n",
    "\n",
    "for (row in 1:nrow(paramspace)){\n",
    "    patient = paramspace[row, \"pt_id\"]\n",
    "    print(as.character(patient))\n",
    "    folder = paramspace[row, \"output_path_unique_kmers\"]\n",
    "    \n",
    "    \n",
    "    log_ci1_cs1e9 = grep(patient, logs_ci1_cs1e9, value=TRUE)\n",
    "    reads_kmers_ci1_cs1e9 <- processFile(paste0('../logs/high_cs_count_tumor/', log_ci1_cs1e9))\n",
    "    \n",
    "    unique_kmers_ci1_cs1e9 <- read.table(paste(\"../data/\", patient, \"/\", folder, \"/cs1e9/\", \"plotdata_unique_tumor_cs1e9_filtered.txt\", sep = \"\"))\n",
    "    tumor_kmers_ci1_cs1e9 <- read.table(paste(\"../data/\", patient, \"/\", folder, \"/cs1e9/\", \"plotdata_tumor_cs1e9_filtered.txt\", sep = \"\"))\n",
    "    ci1_cs1e9 <- tibble(pt_id = patient, \n",
    "                        tumor_folder = folder, \n",
    "                        tumor_reads = as.numeric(reads_kmers_ci1_cs1e9[1]),\n",
    "                        tumor_kmers = as.numeric(sum(tumor_kmers_ci1_cs1e9$V2)),\n",
    "                        tumor_kmers_total_n = as.numeric(sum(as.numeric(tumor_kmers_ci1_cs1e9$V2) * as.numeric(tumor_kmers_ci1_cs1e9$V1))),\n",
    "                        unique_tumor_kmers = as.numeric(sum(unique_kmers_ci1_cs1e9$V2)), \n",
    "                        unique_tumor_kmers_total_n = as.numeric(sum(as.numeric(unique_kmers_ci1_cs1e9$V2) * as.numeric(unique_kmers_ci1_cs1e9$V1))), \n",
    "                        pipeline = \"ci1_cs1e9\")\n",
    "    #print(reads_kmers_ci1_cs1e9[1])\n",
    "    #print(sum(tumor_kmers_ci1_cs1e9$V2))\n",
    "    res_tumor_unique_tumor <- bind_rows(res_tumor_unique_tumor, ci1_cs1e9)\n",
    "    \n",
    "    \n",
    "    log_ci5_cs1e9 = grep(patient, logs_ci5_cs1e9, value=TRUE)\n",
    "    reads_kmers_ci5_cs1e9 <- processFile(paste0('../logs/high_cs_ci5_tumor_count_tumor/', log_ci5_cs1e9))\n",
    "    \n",
    "    unique_kmers_ci5_cs1e9 <- read.table(paste(\"../data/\", patient, \"/\", folder, \"/ci5_cs1e9/\", \"plotdata_unique_tumor_singletons_excluded_tumor_4_cs_filtered.txt\", sep = \"\"))\n",
    "    tumor_kmers_ci5_cs1e9 <- read.table(paste(\"../data/\", patient, \"/\", folder, \"/ci5_cs1e9/\", \"plotdata_tumor_singletons_excluded_tumor_4_cs_filtered.txt\", sep = \"\"))\n",
    "    ci5_cs1e9 <- tibble(pt_id = patient, \n",
    "                        tumor_folder = folder, \n",
    "                        tumor_reads = as.numeric(reads_kmers_ci5_cs1e9[1]),\n",
    "                        tumor_kmers = as.numeric(sum(tumor_kmers_ci5_cs1e9$V2)),\n",
    "                        tumor_kmers_total_n = as.numeric(sum(as.numeric(tumor_kmers_ci5_cs1e9$V2) * as.numeric(tumor_kmers_ci5_cs1e9$V1))),\n",
    "                        unique_tumor_kmers = as.numeric(sum(unique_kmers_ci5_cs1e9$V2)), \n",
    "                        unique_tumor_kmers_total_n = as.numeric(sum(as.numeric(unique_kmers_ci5_cs1e9$V2) * as.numeric(unique_kmers_ci5_cs1e9$V1))),\n",
    "                        pipeline = \"ci5_cs1e9\")\n",
    "    #print(reads_kmers_ci5_cs1e9[1])\n",
    "    res_tumor_unique_tumor <- bind_rows(res_tumor_unique_tumor, ci5_cs1e9)\n",
    "                        \n",
    "    \n",
    "    unique_kmers_AG_ci5_cs1e9 <- read.table(paste(\"../data/\", patient, \"/\", folder, \"/all_germline_ci5_cs1e9/\", \"plotdata_unique_tumor_all_germline_singletons_excluded_tumor_4_cs_filtered.txt\", sep = \"\"))\n",
    "    AG_ci5_cs1e9 <- tibble(pt_id = patient, \n",
    "                        tumor_folder = folder, \n",
    "                        tumor_reads = as.numeric(reads_kmers_ci5_cs1e9[1]),\n",
    "                        tumor_kmers = as.numeric(sum(tumor_kmers_ci5_cs1e9$V2)),\n",
    "                        tumor_kmers_total_n = as.numeric(sum(as.numeric(tumor_kmers_ci5_cs1e9$V2) * as.numeric(tumor_kmers_ci5_cs1e9$V1))),\n",
    "                        unique_tumor_kmers = as.numeric(sum(unique_kmers_AG_ci5_cs1e9$V2)), \n",
    "                        unique_tumor_kmers_total_n = as.numeric(sum(as.numeric(unique_kmers_AG_ci5_cs1e9$V2) * as.numeric(unique_kmers_AG_ci5_cs1e9$V1))), \n",
    "                        pipeline = \"all_germline_ci5_cs1e9\")\n",
    "    res_tumor_unique_tumor <- bind_rows(res_tumor_unique_tumor, AG_ci5_cs1e9)\n",
    "                                        \n",
    "    \n",
    "    log_AG_FT_ci5_cs1e9 = grep(patient, logs_AG_FT_ci5_cs1e9, value=TRUE)\n",
    "    reads_kmers_AG_FT_ci5_cs1e9 <- processFile(paste0('../logs/count_tumor_all_germline_filtered_bams_tumor_ci5_cs1e9/', log_AG_FT_ci5_cs1e9))\n",
    "    \n",
    "    unique_kmers_AG_FT_ci5_cs1e9 <- read.table(paste(\"../data/\", patient, \"/\", folder, \"/all_germline_filtered_bams_tumor_ci5_cs1e9/\", \"plotdata_unique_tumor_kmers_filtered.txt\", sep = \"\"))\n",
    "    tumor_kmers_AG_FT_ci5_cs1e9 <- read.table(paste(\"../data/\", patient, \"/\", folder, \"/all_germline_filtered_bams_tumor_ci5_cs1e9/\", \"plotdata_tumor_filtered.txt\", sep = \"\"))\n",
    "    AG_TF_ci5_cs1e9 <- tibble(pt_id = patient, \n",
    "                        tumor_folder = folder, \n",
    "                        tumor_reads = as.numeric(reads_kmers_AG_FT_ci5_cs1e9[1]),\n",
    "                        tumor_kmers = as.numeric(sum(tumor_kmers_AG_FT_ci5_cs1e9$V2)),\n",
    "                        tumor_kmers_total_n = as.numeric(sum(as.numeric(tumor_kmers_AG_FT_ci5_cs1e9$V2) * as.numeric(tumor_kmers_AG_FT_ci5_cs1e9$V1))),\n",
    "                        unique_tumor_kmers = as.numeric(sum(unique_kmers_AG_FT_ci5_cs1e9$V2)), \n",
    "                        unique_tumor_kmers_total_n = as.numeric(sum(as.numeric(unique_kmers_AG_FT_ci5_cs1e9$V2) * as.numeric(unique_kmers_AG_FT_ci5_cs1e9$V1))),\n",
    "                        pipeline = \"all_germline_filtered_tumor_ci5_cs1e9\")\n",
    "    #print(reads_kmers_AG_FT_ci5_cs1e9[1])\n",
    "    #print(sum(tumor_kmers_AG_FT_ci5_cs1e9$V2))\n",
    "    res_tumor_unique_tumor <- bind_rows(res_tumor_unique_tumor, AG_TF_ci5_cs1e9)\n",
    "    \n",
    "    \n",
    "    unique_kmers_AG_FT_ci5_cs1e9_DN <- read.table(paste(\"../data/\", patient, \"/\", folder, \"/de_novo_germline/\", \"plotdata_unique_tumor_kmers_filtered.txt\", sep = \"\"))\n",
    "    AG_TF_ci5_cs1e9_DN <- tibble(pt_id = patient, \n",
    "                        tumor_folder = folder, \n",
    "                        tumor_reads = as.numeric(reads_kmers_AG_FT_ci5_cs1e9[1]),\n",
    "                        tumor_kmers = as.numeric(sum(tumor_kmers_AG_FT_ci5_cs1e9$V2)),\n",
    "                        tumor_kmers_total_n = as.numeric(sum(as.numeric(tumor_kmers_AG_FT_ci5_cs1e9$V2) * as.numeric(tumor_kmers_AG_FT_ci5_cs1e9$V1))),\n",
    "                        unique_tumor_kmers = as.numeric(sum(unique_kmers_AG_FT_ci5_cs1e9_DN$V2)), \n",
    "                        unique_tumor_kmers_total_n = as.numeric(sum(as.numeric(unique_kmers_AG_FT_ci5_cs1e9_DN$V2) * as.numeric(unique_kmers_AG_FT_ci5_cs1e9_DN$V1))),\n",
    "                        pipeline = \"all_germline_filtered_tumor_ci5_cs1e9_germline_var_stringed\")\n",
    "    #print(reads_kmers_AG_FT_ci5_cs1e9[1])\n",
    "    #print(sum(tumor_kmers_AG_FT_ci5_cs1e9$V2))\n",
    "    res_tumor_unique_tumor <- bind_rows(res_tumor_unique_tumor, AG_TF_ci5_cs1e9_DN)\n",
    "\n",
    "    \n",
    "    unique_kmers_AG_FT_DENOV_REF_ci5_cs1e9 <- read.table(paste(\"../data/\", patient, \"/\", folder, \"/de_novo_germline_reference/\", \"plotdata_unique_tumor_kmers_filtered.txt\", sep = \"\"))\n",
    "    AG_FT_DENOV_REF_ci5_cs1e9 <- tibble(pt_id = patient, \n",
    "                        tumor_folder = folder, \n",
    "                        tpumor_reads = as.numeric(reads_kmers_AG_FT_ci5_cs1e9[1]),\n",
    "                        tumor_kmers = as.numeric(sum(tumor_kmers_AG_FT_ci5_cs1e9$V2)),\n",
    "                        tumor_kmers_total_n = as.numeric(sum(as.numeric(tumor_kmers_AG_FT_ci5_cs1e9$V2) * as.numeric(tumor_kmers_AG_FT_ci5_cs1e9$V1))),\n",
    "                        unique_tumor_kmers = as.numeric(sum(unique_kmers_AG_FT_DENOV_REF_ci5_cs1e9$V2)), \n",
    "                        unique_tumor_kmers_total_n = as.numeric(sum(as.numeric(unique_kmers_AG_FT_DENOV_REF_ci5_cs1e9$V2) * as.numeric(unique_kmers_AG_FT_DENOV_REF_ci5_cs1e9$V1))), \n",
    "                        pipeline = \"de_novo_ref\")\n",
    "    print(reads_kmers_AG_FT_ci5_cs1e9[1])\n",
    "    print(sum(tumor_kmers_AG_FT_ci5_cs1e9$V2))\n",
    "    res_tumor_unique_tumor <- bind_rows(res_tumor_unique_tumor, AG_FT_DENOV_REF_ci5_cs1e9)\n",
    "    \n",
    "    \n",
    "    unique_kmers_AG_FT_WELLMAP_ci5_cs1e9 <- read.table(paste(\"../data/\", patient, \"/\", folder, \"/all_germline_filtered_bams_tumor_ci5_cs1e9_well_mapping_subtracted/\", \"plotdata_unique_tumor_kmers_filtered.txt\", sep = \"\"))\n",
    "    AG_FT_WELLMAP_ci5_cs1e9 <- tibble(pt_id = patient, \n",
    "                        tumor_folder = folder, \n",
    "                        tpumor_reads = as.numeric(reads_kmers_AG_FT_ci5_cs1e9[1]),\n",
    "                        tumor_kmers = as.numeric(sum(tumor_kmers_AG_FT_ci5_cs1e9$V2)),\n",
    "                        tumor_kmers_total_n = as.numeric(sum(as.numeric(tumor_kmers_AG_FT_ci5_cs1e9$V2) * as.numeric(tumor_kmers_AG_FT_ci5_cs1e9$V1))),\n",
    "                        unique_tumor_kmers = as.numeric(sum(unique_kmers_AG_FT_WELLMAP_ci5_cs1e9$V2)), \n",
    "                        unique_tumor_kmers_total_n = as.numeric(sum(as.numeric(unique_kmers_AG_FT_WELLMAP_ci5_cs1e9$V2) * as.numeric(unique_kmers_AG_FT_WELLMAP_ci5_cs1e9$V1))), \n",
    "                        pipeline = \"well_mapping_kmers_subtracted\")\n",
    "    print(reads_kmers_AG_FT_ci5_cs1e9[1])\n",
    "    print(sum(tumor_kmers_AG_FT_ci5_cs1e9$V2))\n",
    "    res_tumor_unique_tumor <- bind_rows(res_tumor_unique_tumor, AG_FT_WELLMAP_ci5_cs1e9)\n",
    "    \n",
    "}\n"
   ]
  },
  {
   "cell_type": "code",
   "execution_count": null,
   "id": "3bb9957d-fcb3-482b-99f7-097cbd6026e2",
   "metadata": {},
   "outputs": [],
   "source": [
    "res_tumor_unique_tumor_nolow_q_pt <- res_tumor_unique_tumor %>% filter(pipeline != \"ci1_cs1e9\") %>% filter(!(pt_id %in% low_qual_sample))\n",
    "b <- ifelse(unique(as.character(res_tumor_unique_tumor_nolow_q_pt$pt_id)) %in% phaseIpt_R, \"red\", \"darkblue\")"
   ]
  },
  {
   "cell_type": "code",
   "execution_count": null,
   "id": "639fe069-b4c6-4894-a38e-ae14490078c7",
   "metadata": {},
   "outputs": [],
   "source": [
    "options(repr.plot.width=20, repr.plot.height=18)\n",
    "res_germline_baseline <- res_germline %>% filter(pipeline == \"germline\") %>% filter(!pt_id %in% low_qual_sample)\n",
    "\n",
    "germline_plot <- ggplot(res_germline_baseline) +\n",
    "  geom_col(aes(x = pt_id, y = germline_kmers), fill = \"grey\") +\n",
    "    #ggtitle(\"Germline kmers\") + \n",
    "    theme_minimal()  + \n",
    "    theme(axis.text.x = element_text(colour = b))+ \n",
    "    \n",
    "    theme(text = element_text(size = 20))+\n",
    "    ylab(\"Number of germline k-mers\") + xlab(\"\")+\n",
    "    scale_y_continuous(breaks = seq(0, 10000000000, by = 2000000000))"
   ]
  },
  {
   "cell_type": "code",
   "execution_count": null,
   "id": "f360478c-6bbb-41c1-8b0f-75463ade017a",
   "metadata": {},
   "outputs": [],
   "source": [
    "germline_plot"
   ]
  },
  {
   "cell_type": "code",
   "execution_count": null,
   "id": "dab4e364-7a12-4db5-bf12-6eb50c695eda",
   "metadata": {},
   "outputs": [],
   "source": [
    "res_germline_baseline"
   ]
  },
  {
   "cell_type": "code",
   "execution_count": null,
   "id": "b1877ade-daa2-48df-9b75-285a92d23a09",
   "metadata": {},
   "outputs": [],
   "source": [
    "options(repr.plot.width=8, repr.plot.height=11)\n",
    "ggplot(res_germline) +\n",
    "  geom_col(aes(x = pt_id, y = germline_kmers), fill = \"grey\") +\n",
    "    ggtitle(\"Germline kmers\") + theme_minimal()  + \n",
    "    theme(axis.text.x = element_text(colour = a, size = 11, angle=-45),\n",
    "          axis.text.y = element_text(size = 11),\n",
    "          axis.title=element_text(size=13)) + \n",
    "    ylab(\"n germline kmers\") + xlab(\"Patient ID\")"
   ]
  },
  {
   "cell_type": "code",
   "execution_count": null,
   "id": "30f3d671-cb3a-4065-8b75-aa28e4d3e640",
   "metadata": {},
   "outputs": [],
   "source": []
  },
  {
   "cell_type": "code",
   "execution_count": null,
   "id": "4829af29-1cb6-4754-b02d-1d17488f517b",
   "metadata": {},
   "outputs": [],
   "source": [
    "res_tumor_unique_tumor$pipeline <- factor(res_tumor_unique_tumor$pipeline, levels = c(\"ci1_cs1e9\", \n",
    "                                                                                      \"ci5_cs1e9\", \n",
    "                                                                                      \"all_germline_ci5_cs1e9\", \n",
    "                                                                                      \"all_germline_filtered_tumor_ci5_cs1e9\",\n",
    "                                                                                      \"all_germline_filtered_tumor_ci5_cs1e9_germline_var_stringed\",\n",
    "                                                                                      \"de_novo_ref\", \n",
    "                                                                                       \"well_mapping_kmers_subtracted\"\n",
    "                                                                                      ))\n",
    "res_tumor_unique_tumor$pt_id <- as.character(res_tumor_unique_tumor$pt_id)\n",
    "res_tumor_unique_tumor <- res_tumor_unique_tumor %>% arrange(pt_id)\n",
    "head(res_tumor_unique_tumor)"
   ]
  },
  {
   "cell_type": "code",
   "execution_count": null,
   "id": "7c5a48c4-3002-406f-ac57-63c8e5efed42",
   "metadata": {},
   "outputs": [],
   "source": [
    "unique(res_tumor_unique_tumor$pipeline)"
   ]
  },
  {
   "cell_type": "code",
   "execution_count": null,
   "id": "c9d5bcc3-3f3c-418e-b81a-6a2ad1d247da",
   "metadata": {},
   "outputs": [],
   "source": [
    "###PLOT BASELINE PIPELINE\n",
    "options(repr.plot.width=20, repr.plot.height=8)\n",
    "res_tumor_unique_tumor_ci1 <- res_tumor_unique_tumor %>% filter(pipeline == \"ci1_cs1e9\") %>% filter(!pt_id %in% low_qual_sample)\n",
    "a <- ifelse(unique(as.character(res_tumor_unique_tumor_ci1$pt_id)) %in% phaseIpt_R, \"red\", \"darkblue\")\n",
    "\n",
    "res_tumor_unique_tumor_nolow_q_pt <- res_tumor_unique_tumor %>% filter(pipeline != \"ci1_cs1e9\") %>% filter(!pt_id %in% low_qual_sample)\n",
    "b <- ifelse(unique(as.character(res_tumor_unique_tumor_nolow_q_pt$pt_id)) %in% phaseIpt_R, \"red\", \"darkblue\")\n",
    "\n",
    "\n",
    "unique_plot <- ggplot(data = res_tumor_unique_tumor_ci1) +\n",
    "  geom_col(aes(x = pt_id, y = unique_tumor_kmers), fill = \"grey\") +\n",
    "    #ggtitle(\"Unique tumor kmers\") + \n",
    "    #theme()+\n",
    "    xlab(\"\")+ylab(\"Number of unique tumor k-mers\")+\n",
    "    theme_minimal()+\n",
    "    theme(text = element_text(size = 20), axis.text.x = element_text(colour = b)) \n",
    "    "
   ]
  },
  {
   "cell_type": "code",
   "execution_count": null,
   "id": "55e763b2-48bc-460b-b769-a75653403289",
   "metadata": {},
   "outputs": [],
   "source": [
    "###PLOT BASELINE PIPELINE\n",
    "options(repr.plot.width=20, repr.plot.height=8)\n",
    "res_tumor_unique_tumor_ci1 <- res_tumor_unique_tumor %>% filter(pipeline == \"de_novo_ref\") %>% filter(!pt_id %in% low_qual_sample)\n",
    "a <- ifelse(unique(as.character(res_tumor_unique_tumor_ci1$pt_id)) %in% phaseIpt_R, \"red\", \"darkblue\")\n",
    "\n",
    "res_tumor_unique_tumor_nolow_q_pt <- res_tumor_unique_tumor %>% filter(pipeline != \"ci1_cs1e9\") %>% filter(!pt_id %in% low_qual_sample)\n",
    "b <- ifelse(unique(as.character(res_tumor_unique_tumor_nolow_q_pt$pt_id)) %in% phaseIpt_R, \"red\", \"darkblue\")\n",
    "\n",
    "\n",
    "ggplot(data = res_tumor_unique_tumor_ci1) +\n",
    "  geom_col(aes(x = pt_id, y = unique_tumor_kmers), fill = \"grey\") +\n",
    "    #ggtitle(\"Unique tumor kmers\") + \n",
    "    #theme()+\n",
    "    xlab(\"\")+ylab(\"Number of unique tumor k-mers\")+\n",
    "    theme_minimal()+\n",
    "    theme(text = element_text(size = 20), axis.text.x = element_text(colour = b)) \n",
    "    "
   ]
  },
  {
   "cell_type": "code",
   "execution_count": null,
   "id": "ad0618c7-98fd-4144-927f-4adc205fbb6c",
   "metadata": {},
   "outputs": [],
   "source": [
    "###PLOT BASELINE PIPELINE\n",
    "options(repr.plot.width=20, repr.plot.height=8)\n",
    "res_tumor_unique_tumor_ci1 <- res_tumor_unique_tumor %>% filter(pipeline == \"de_novo_ref\") %>% filter(!pt_id %in% low_qual_sample)\n",
    "a <- ifelse(unique(as.character(res_tumor_unique_tumor_ci1$pt_id)) %in% phaseIpt_R, \"red\", \"darkblue\")\n",
    "\n",
    "res_tumor_unique_tumor_nolow_q_pt <- res_tumor_unique_tumor %>% filter(pipeline != \"ci1_cs1e9\") %>% filter(!pt_id %in% low_qual_sample)\n",
    "b <- ifelse(unique(as.character(res_tumor_unique_tumor_nolow_q_pt$pt_id)) %in% phaseIpt_R, \"red\", \"darkblue\")\n",
    "\n",
    "\n",
    "ggplot(data = res_tumor_unique_tumor_ci1) +\n",
    "  geom_col(aes(x = pt_id, y = unique_tumor_kmers), fill = \"grey\") +\n",
    "    #ggtitle(\"Unique tumor kmers\") + \n",
    "    #theme()+\n",
    "    xlab(\"\")+ylab(\"Number of unique tumor k-mers\")+\n",
    "    theme_minimal()+\n",
    "    theme(text = element_text(size = 20), axis.text.x = element_text(colour = b)) \n",
    "    "
   ]
  },
  {
   "cell_type": "code",
   "execution_count": null,
   "id": "6e8380a2-bb2f-4089-935e-9108e254b8de",
   "metadata": {},
   "outputs": [],
   "source": [
    "###PLOT ci5_cs1e9 PIPELINE\n",
    "options(repr.plot.width=20, repr.plot.height=8)\n",
    "res_tumor_unique_tumor_ci5_cs1e9 <- res_tumor_unique_tumor %>% filter(pipeline == \"ci5_cs1e9\")\n",
    "\n",
    "ggplot(data = res_tumor_unique_tumor_ci5_cs1e9) +\n",
    "  geom_col(aes(x = pt_id, y = unique_tumor_kmers), fill = \"grey\") +\n",
    "    #ggtitle(\"Unique tumor kmers\") + \n",
    "    #theme()+\n",
    "    xlab(\"\")+ylab(\"Number of unique tumor k-mers\")+\n",
    "    theme_minimal()+\n",
    "    theme(text = element_text(size = 20), axis.text.x = element_text(colour = b)) \n",
    "    "
   ]
  },
  {
   "cell_type": "code",
   "execution_count": null,
   "id": "fdfa905e-d4f7-4964-8aeb-53816036adee",
   "metadata": {},
   "outputs": [],
   "source": [
    "###PLOT ci5_cs1e9 PIPELINE\n",
    "options(repr.plot.width=20, repr.plot.height=8)\n",
    "res_tumor_unique_tumor_ci5_cs1e9 <- res_tumor_unique_tumor %>% filter(pipeline == \"de_novo_ref\")\n",
    "\n",
    "ggplot(data = res_tumor_unique_tumor_ci5_cs1e9) +\n",
    "  geom_col(aes(x = pt_id, y = unique_tumor_kmers), fill = \"grey\") +\n",
    "    #ggtitle(\"Unique tumor kmers\") + \n",
    "    #theme()+\n",
    "    xlab(\"\")+ylab(\"Number of unique tumor k-mers\")+\n",
    "    theme_minimal()+\n",
    "    theme(text = element_text(size = 20), axis.text.x = element_text(colour = b)) \n",
    "    "
   ]
  },
  {
   "cell_type": "code",
   "execution_count": null,
   "id": "100b227a-8452-43c1-b612-c3ac156fcfc4",
   "metadata": {},
   "outputs": [],
   "source": [
    "unique(res_tumor_unique_tumor$pipeline)"
   ]
  },
  {
   "cell_type": "code",
   "execution_count": null,
   "id": "4faa1d5e-3a3d-48a2-abcf-bee81382790b",
   "metadata": {},
   "outputs": [],
   "source": [
    "#Plot for results - effect of changing the germline on unique tumor set\n",
    "options(repr.plot.width=20, repr.plot.height=8)\n",
    "res_tumor_unique_tumor_nolow_q_pt <- res_tumor_unique_tumor %>% filter(pipeline != \"ci1_cs1e9\") %>% filter(!pt_id %in% low_qual_sample)\n",
    "b <- ifelse(unique(as.character(res_tumor_unique_tumor_nolow_q_pt$pt_id)) %in% phaseIpt_R, \"red\", \"darkblue\")\n",
    "\n",
    "res_tumor_unique_tumor %>% filter(pipeline == \"all_germline_filtered_tumor_ci5_cs1e9\" | pipeline == \"all_germline_filtered_tumor_ci5_cs1e9_germline_var_stringed\" | pipeline == \"de_novo_ref\") %>% filter(!pt_id %in% low_qual_sample) %>% ggplot() +\n",
    "  geom_col(aes(x = pt_id, y = unique_tumor_kmers, fill = pipeline), position = \"dodge2\") + \n",
    "    theme_minimal() +\n",
    "    theme(axis.text.x = element_text(colour = b)) + \n",
    "    theme(text = element_text(size = 20))+\n",
    "    xlab(\"\") + scale_fill_discrete(name = \"Pipeline\", labels = c( \"Germline union\",  \"Germline variants stringed\", \"Germline variants stringed + reference\" )) +ylab(\"Number of unique tumor k-mers\")"
   ]
  },
  {
   "cell_type": "code",
   "execution_count": null,
   "id": "1365e632-294b-40cb-b813-12dccabf2094",
   "metadata": {},
   "outputs": [],
   "source": [
    "unique(res_tumor_unique_tumor$pipeline)"
   ]
  },
  {
   "cell_type": "code",
   "execution_count": null,
   "id": "5ac44396-4419-4bfb-ada4-df8972d7fe60",
   "metadata": {},
   "outputs": [],
   "source": [
    "#Plot for results - effect of changing the tumor set on unique tumor set\n",
    "options(repr.plot.width=20, repr.plot.height=8)\n",
    "res_tumor_unique_tumor_nolow_q_pt <- res_tumor_unique_tumor %>% filter(pipeline != \"ci1_cs1e9\") %>% filter(!(pt_id %in% low_qual_sample))\n",
    "b <- ifelse(unique(as.character(res_tumor_unique_tumor_nolow_q_pt$pt_id)) %in% phaseIpt_R, \"red\", \"darkblue\")\n",
    "\n",
    "res_tumor_unique_tumor %>% filter(pipeline == \"ci1_cs1e9\" |pipeline == \"ci5_cs1e9\" | pipeline == \"all_germline_ci5_cs1e9\" | pipeline == \"all_germline_filtered_tumor_ci5_cs1e9\") %>% filter(!(pt_id %in% low_qual_sample)) %>% ggplot() +\n",
    "  geom_col(aes(x = pt_id, y = log10(unique_tumor_kmers), fill = pipeline), position = \"dodge2\") + \n",
    "    theme_minimal() +\n",
    "    theme(axis.text.x = element_text(colour = b)) + \n",
    "    theme(text = element_text(size = 20))+\n",
    "    xlab(\"\") + scale_fill_discrete(name = \"Pipeline\", labels = c( \"No filter\", \"Exclude tumor kmers with count < 5\", \"Added union germline\", \"Added quality filtering of the tumor reads\")) +ylab(\"log(Number of unique tumor k-mers)\")"
   ]
  },
  {
   "cell_type": "code",
   "execution_count": null,
   "id": "c801b63e-7529-4d46-bb54-d5db5b3f1e4c",
   "metadata": {},
   "outputs": [],
   "source": [
    "res_tumor_unique_tumor_nolow_q_pt <- res_tumor_unique_tumor %>% filter(pipeline != \"ci1_cs1e9\") %>% filter(!(pt_id %in% low_qual_sample))\n",
    "b <- ifelse(unique(as.character(res_tumor_unique_tumor_nolow_q_pt$pt_id)) %in% phaseIpt_R, \"red\", \"darkblue\")\n",
    "\n",
    "res_tumor_unique_tumor %>% filter(pipeline != \"ci1_cs1e9\") %>% filter(!(pt_id %in% low_qual_sample)) %>% ggplot() +\n",
    "  geom_col(aes(x = pt_id, y = unique_tumor_kmers, fill = pipeline), position = \"dodge2\") + \n",
    "    theme_minimal() +\n",
    "    theme(axis.text.x = element_text(colour = b, size = 11),\n",
    "          axis.text.y = element_text(size = 11),\n",
    "          axis.title=element_text(size=13)) + \n",
    "    xlab(\"Patient ID\") + ylab(\"n unique tumor kmers\") + scale_fill_discrete(name = \"Pipeline\", labels = c(\"Exclude tumor kmers with count < 5\", \"Germline union added\", \"Tumor reads quality filtering added\", \"Germline var stringed added\")) "
   ]
  },
  {
   "cell_type": "code",
   "execution_count": null,
   "id": "54b12920-124c-4e4b-b08b-afb9b924cb52",
   "metadata": {},
   "outputs": [],
   "source": [
    "res_tumor_unique_tumor_nolow_q_pt <- res_tumor_unique_tumor %>% filter(pipeline != \"ci1_cs1e9\") %>% filter(!(pt_id %in% low_qual_sample))\n",
    "b <- ifelse(unique(as.character(res_tumor_unique_tumor_nolow_q_pt$pt_id)) %in% phaseIpt_R, \"red\", \"darkblue\")\n",
    "\n",
    "res_tumor_unique_tumor %>% filter(pipeline %in% c(\"all_germline_filtered_tumor_ci5_cs1e9_germline_var_stringed\")) %>% filter(!(pt_id %in% low_qual_sample)) %>% ggplot() +\n",
    "  geom_col(aes(x = pt_id, y = unique_tumor_kmers), fill = \"grey\") + \n",
    "    ggtitle(\"Unique tumor kmers, 1 sample removed\", subtitle = \"1) Tumor k-mers with coun < 5 excluded, 2) germline union, 3) tumor reads quality filtered, 4) germline var stringed together\") +\n",
    "    theme_minimal() + \n",
    "    theme(axis.text.x = element_text(colour = b, size = 11),\n",
    "          axis.text.y = element_text(size = 11),\n",
    "          axis.title=element_text(size=13)) + \n",
    "    xlab(\"Patient ID\") + ylab(\"n unique tumor kmers\")"
   ]
  },
  {
   "cell_type": "code",
   "execution_count": null,
   "id": "a6cdec07-40ee-40cd-862e-5ecacf787ca6",
   "metadata": {},
   "outputs": [],
   "source": [
    "res_tumor_unique_tumor %>% filter(pipeline == \"ci1_cs1e9\") %>% ggplot() +\n",
    "  geom_col(aes(x = pt_id, y = unique_tumor_kmers, fill = pipeline), position = \"dodge2\") + \n",
    "    ggtitle(\"Unique tumor kmers, pipeline ci1_cs1e9\") + \n",
    "    theme(axis.text.x = element_text(colour = a))"
   ]
  },
  {
   "cell_type": "code",
   "execution_count": null,
   "id": "d30be5cb-5c6b-4a6d-9813-30df0ec58370",
   "metadata": {},
   "outputs": [],
   "source": [
    "options(repr.plot.width=20, repr.plot.height=18)\n",
    "\n",
    " res_tumor_unique_tumor_ci1 <-  res_tumor_unique_tumor %>% filter(pipeline == \"ci1_cs1e9\") %>% filter(!pt_id %in% low_qual_sample)\n",
    "tumor_plot <-    ggplot(res_tumor_unique_tumor_ci1) +\n",
    "        geom_col(aes(x = pt_id, y = tumor_kmers), fill = \"grey\") + \n",
    "        theme_minimal() + \n",
    "        theme(text = element_text(size = 20), axis.text.x = element_text(colour = b))+ \n",
    "    xlab(\"\") + ylab(\"Number of tumor k-mers\") "
   ]
  },
  {
   "cell_type": "code",
   "execution_count": null,
   "id": "c5088441-73cf-4586-8ec4-a37e35be44f7",
   "metadata": {},
   "outputs": [],
   "source": [
    "library(cowplot)"
   ]
  },
  {
   "cell_type": "code",
   "execution_count": null,
   "id": "ab789bad-9892-4825-9ed4-71fc6dc9e355",
   "metadata": {},
   "outputs": [],
   "source": [
    "plot_grid(germline_plot, tumor_plot, unique_plot, ncol = 1)"
   ]
  },
  {
   "cell_type": "code",
   "execution_count": null,
   "id": "7daa2258-a4e8-4fd0-80bf-fb927c6d49f6",
   "metadata": {},
   "outputs": [],
   "source": [
    "unique(res_tumor_unique_tumor$pipeline)"
   ]
  },
  {
   "cell_type": "code",
   "execution_count": null,
   "id": "f52a58ea-f9d4-4afd-b671-d06c86e44399",
   "metadata": {},
   "outputs": [],
   "source": [
    "options(repr.plot.width=20, repr.plot.height=8)\n",
    "\n",
    "res_tumor_unique_tumor_ci1 <-  res_tumor_unique_tumor %>% filter(pipeline == \"de_novo_ref\") %>% filter(!pt_id %in% low_qual_sample)\n",
    "    ggplot(res_tumor_unique_tumor_ci1) +\n",
    "        geom_col(aes(x = pt_id, y = tumor_kmers), fill = \"grey\") + \n",
    "        theme_minimal() + \n",
    "        theme(text = element_text(size = 20), axis.text.x = element_text(colour = b))+ \n",
    "    xlab(\"\") + ylab(\"Number of tumor k-mers\") "
   ]
  },
  {
   "cell_type": "code",
   "execution_count": null,
   "id": "e062783e-c2f4-4430-83d2-af50148bf38c",
   "metadata": {},
   "outputs": [],
   "source": [
    "head(res_tumor_unique_tumor)"
   ]
  },
  {
   "cell_type": "code",
   "execution_count": null,
   "id": "98d94e07-cb54-4bab-b658-c15951c1936f",
   "metadata": {},
   "outputs": [],
   "source": [
    "options(repr.plot.width=20, repr.plot.height=8)\n",
    "b <- ifelse(unique(as.character(res_tumor_unique_tumor_nolow_q_pt$pt_id)) %in% phaseIpt_R, \"red\", \"darkblue\")\n",
    "res_tumor_unique_tumor %>% filter(!pt_id %in% low_qual_sample) %>% filter(pipeline == \"ci1_cs1e9\" | pipeline == \"ci5_cs1e9\" | pipeline == \"all_germline_filtered_tumor_ci5_cs1e9\") %>% ggplot() +\n",
    "  geom_col(aes(x = pt_id, y = tumor_kmers, fill = pipeline), position = \"dodge2\") + \n",
    "    #ggtitle(\"Tumor kmers\") + \n",
    "    theme_minimal() + \n",
    "    theme(text = element_text(size = 20), axis.text.x = element_text(colour = b))+ \n",
    "    xlab(\"\") + ylab(\"Number of tumor k-mers\")  + scale_fill_discrete(name = \"Pipeline\", labels = c(\"No filters\", \"Exclude tumor kmers with count < 5\", \"Tumor reads quality filtering added\")) "
   ]
  },
  {
   "cell_type": "code",
   "execution_count": null,
   "id": "50928045-4cb9-4ca4-b9ed-249c56ddd5c1",
   "metadata": {},
   "outputs": [],
   "source": [
    "options(repr.plot.width=15, repr.plot.height=8)\n",
    "res_tumor_unique_tumor %>% filter(!(pipeline %in% c(\"all_germline_ci5_cs1e9\", \"all_germline_filtered_tumor_ci5_cs1e9_germline_var_stringed\"))) %>% ggplot() +\n",
    "  geom_col(aes(x = pt_id, y = tumor_kmers, fill = pipeline), position = \"dodge2\") + \n",
    "   # ggtitle(\"Tumor kmers\") + \n",
    "    theme_minimal() + \n",
    "    theme(axis.text.x = element_text(colour = a, size = 11),\n",
    "          axis.text.y = element_text(size = 11),\n",
    "          axis.title=element_text(size=13)) + \n",
    "    xlab(\"\") + ylab(\"Number of tumor k-mers\")  + scale_fill_discrete(name = \"Pipeline\", labels = c(\"No filters\", \"Exclude tumor kmers with count < 5\", \"Tumor reads quality filtering added\")) "
   ]
  },
  {
   "cell_type": "code",
   "execution_count": null,
   "id": "4cbbf9da-b8b6-4512-b79e-bc893991d9ec",
   "metadata": {},
   "outputs": [],
   "source": [
    "res_tumor_unique_tumor %>% filter(!(pipeline %in% c(\"ci1_cs1e9\", \"ci5_cs1e9\"))) %>% ggplot() +\n",
    "  geom_col(aes(x = pt_id, y = tumor_kmers, fill = pipeline), position = \"dodge2\") + \n",
    "    ggtitle(\"Tumor kmers\") + \n",
    "    theme(axis.text.x = element_text(colour = a))"
   ]
  },
  {
   "cell_type": "code",
   "execution_count": null,
   "id": "2948718a-5cca-4e2b-8736-7ba2204946bd",
   "metadata": {},
   "outputs": [],
   "source": [
    "ggplot(res_tumor_unique_tumor) +\n",
    "  geom_col(aes(x = pt_id, y = tumor_reads, fill = pipeline), position = \"dodge2\") + \n",
    "    ggtitle(\"Tumor reads\") + \n",
    "    theme(axis.text.x = element_text(colour = a))"
   ]
  },
  {
   "cell_type": "markdown",
   "id": "5ca56dec-de93-490e-968f-aeb3ee06bbda",
   "metadata": {},
   "source": [
    "# cfDNA "
   ]
  },
  {
   "cell_type": "code",
   "execution_count": null,
   "id": "a29c9e6f-1729-44d3-a0c9-b11ae5c249ad",
   "metadata": {},
   "outputs": [],
   "source": [
    "paramspace_cfDNA <- read.csv(\"../data/metadata/paramspace_cfDNA_phaseI.csv\")\n",
    "paramspace_cfDNA <- paramspace_cfDNA %>% select(pt_id, cfDNA_folder, unique_kmers_folder) %>% filter(!pt_id %in% low_qual_sample)\n",
    "head(paramspace_cfDNA)\n",
    "dim(paramspace_cfDNA)"
   ]
  },
  {
   "cell_type": "code",
   "execution_count": null,
   "id": "ae1effca-2998-4204-836a-cea388bedce7",
   "metadata": {},
   "outputs": [],
   "source": [
    "paramspace_cfDNA <- paramspace_cfDNA %>% \n",
    "  mutate(tmp_chunks = stringr::str_split(cfDNA_folder, stringr::fixed(\"_\"),  n = 3)) %>%\n",
    "  mutate(sampleID = map_chr(tmp_chunks, 1),\n",
    "         sub_value = map_chr(tmp_chunks, 2), \n",
    "         sub_val = map_chr(tmp_chunks, 3)) %>%\n",
    "  select(-c(tmp_chunks, sub_value, sub_val))\n",
    "\n",
    "head(paramspace_cfDNA)\n",
    "dim(paramspace_cfDNA)"
   ]
  },
  {
   "cell_type": "code",
   "execution_count": null,
   "id": "95194d6f-f1c9-4836-a363-96627675b97e",
   "metadata": {},
   "outputs": [],
   "source": [
    "sample_timepoint <- read.csv(\"../data/metadata/clin_data/sample_timepoint_formatted.csv\")"
   ]
  },
  {
   "cell_type": "code",
   "execution_count": null,
   "id": "4cc71740-a941-4108-9753-d8ceb557cab8",
   "metadata": {},
   "outputs": [],
   "source": [
    "head(sample_timepoint)\n",
    "sample_timepoint_days <- sample_timepoint %>% filter(phase == \"phaseI\")\n",
    "sample_timepoint_days <- sample_timepoint_days %>% select(sampleID, sample_timepoint_days_since_OP)\n",
    "sample_timepoint_days %>% filter(is.na(sample_timepoint_days_since_OP))\n",
    "dim(sample_timepoint_days)\n",
    "head(sample_timepoint_days)"
   ]
  },
  {
   "cell_type": "code",
   "execution_count": null,
   "id": "a40beabc-86ad-4a6d-9045-ebbd01600260",
   "metadata": {},
   "outputs": [],
   "source": [
    "paramspace_cfDNA$sampleID <- as.character(paramspace_cfDNA$sampleID)\n",
    "paramspace_cfDNA <- left_join(paramspace_cfDNA, sample_timepoint_days, by = c(\"sampleID\"))\n",
    "head(paramspace_cfDNA)\n",
    "dim(paramspace_cfDNA)"
   ]
  },
  {
   "cell_type": "code",
   "execution_count": null,
   "id": "7da67d61-29b5-4335-aecb-3b6b36125217",
   "metadata": {},
   "outputs": [],
   "source": [
    "res_cfDNA <- NULL\n",
    "\n",
    "logs_cfDNA = list.files('../logs/count_cfDNA_kmers_cs1e9/')\n",
    "\n",
    "\n",
    "for (row in 1:nrow(paramspace_cfDNA)){\n",
    "    patient = paramspace_cfDNA[row, \"pt_id\"]\n",
    "    #print(as.character(patient))\n",
    "    cfDNA_folder = paramspace_cfDNA[row, \"cfDNA_folder\"]\n",
    "    folder = paramspace_cfDNA[row, \"unique_kmers_folder\"]\n",
    "    \n",
    "    logs_pt = grep(patient, logs_cfDNA, value=TRUE)\n",
    "    logs_pt_cfDNA_sample = grep(cfDNA_folder, logs_pt, value=TRUE)\n",
    "    if (length(logs_pt_cfDNA_sample) == 0){\n",
    "        print(cfDNA_folder)\n",
    "        reads_kmers_cfDNA = c(NA, NA)\n",
    "    } else {\n",
    "        reads_kmers_cfDNA <- processFile(paste0('../logs/count_cfDNA_kmers_cs1e9/', logs_pt_cfDNA_sample))\n",
    "    }\n",
    "    \n",
    "    #print(reads_kmers_cfDNA)\n",
    "    \n",
    "    cfDNA_kmers_df <- read.table(paste(\"../data/\", patient, \"/\", cfDNA_folder, \"/cs1e9/\", \"plotdata_cfDNA_cs1e9_filtered.txt\", sep = \"\"))\n",
    "    cfDNA_kmers_filtered_df <- read.table(paste(\"../data/\", patient, \"/\", cfDNA_folder, \"/all_germline_filtered_bams_tumor_ci5_cs1e9_filtered_cfDNA/\", \"plotdata_cfDNA_kmers_filtered.txt\", sep = \"\"))\n",
    "    cfDNA_kmers_df_ci2 = cfDNA_kmers_df[-c(1), ]\n",
    "    cfDNA_kmers_df$V2 <- as.numeric(cfDNA_kmers_df$V2)\n",
    "    cfDNA_kmers_df$V1 <- as.numeric(cfDNA_kmers_df$V1)\n",
    "    \n",
    "    cfDNA_kmers_filtered_df$V2 <- as.numeric(cfDNA_kmers_filtered_df$V2)\n",
    "    cfDNA_kmers_filtered_df$V1 <- as.numeric(cfDNA_kmers_filtered_df$V1)\n",
    "    \n",
    "    cfDNA_res_sample <- tibble(pt_id = patient, \n",
    "                        tumor_folder = folder, \n",
    "                        cfDNA_folder = cfDNA_folder,\n",
    "                        cfDNA_reads = as.numeric(reads_kmers_cfDNA[1]),\n",
    "                        cfDNA_kmers = as.numeric(sum(cfDNA_kmers_df$V2)),\n",
    "                        cfDNA_kmers_ci2 = as.numeric(sum(cfDNA_kmers_df_ci2$V2)),\n",
    "                        cfDNA_kmers_total_n = as.numeric(sum(cfDNA_kmers_df$V2 * cfDNA_kmers_df$V1)),\n",
    "                        cfDNA_kmers_filtered = as.numeric(sum(cfDNA_kmers_filtered_df$V2)),\n",
    "                        cfDNA_kmers_filtered_total_n = as.numeric(sum(cfDNA_kmers_filtered_df$V2 * cfDNA_kmers_filtered_df$V1)),\n",
    "                        sample_timepoint_days_since_OP = paramspace_cfDNA[row, \"sample_timepoint_days_since_OP\"],\n",
    "                        pipeline = \"ci1_cs1e9\")\n",
    "    #print(reads_kmers_cfDNA[2])\n",
    "    #print(sum(cfDNA_kmers_df$V2))\n",
    "    res_cfDNA <- bind_rows(res_cfDNA, cfDNA_res_sample)\n",
    "    }"
   ]
  },
  {
   "cell_type": "code",
   "execution_count": null,
   "id": "1ff76aca-15b4-4d86-8452-ad427653ffc0",
   "metadata": {},
   "outputs": [],
   "source": [
    "res_cfDNA_final <- NULL\n",
    "color_palette_size <- 0\n",
    "for (pt in unique(res_cfDNA$pt_id)){\n",
    "    res_cfDNA_pt <- res_cfDNA %>% filter(pt_id == pt)\n",
    "    res_cfDNA_pt$sample_timepoint_days_since_OP <- as.numeric(res_cfDNA_pt$sample_timepoint_days_since_OP)\n",
    "    res_cfDNA_pt <- res_cfDNA_pt %>% arrange(sample_timepoint_days_since_OP) %>% mutate(samples_order = seq(1, nrow(res_cfDNA_pt)))\n",
    "    if (nrow(res_cfDNA_pt) > color_palette_size){\n",
    "        color_palette_size <- nrow(res_cfDNA_pt)\n",
    "    }\n",
    "    res_cfDNA_final <- rbind(res_cfDNA_final, res_cfDNA_pt)\n",
    "}\n",
    "head(res_cfDNA_final)"
   ]
  },
  {
   "cell_type": "code",
   "execution_count": null,
   "id": "70800d49-af32-49e4-a3fb-82ba767517d2",
   "metadata": {},
   "outputs": [],
   "source": [
    "getPalette = colorRampPalette(brewer.pal(9, \"Blues\"))\n",
    "res_cfDNA_final$samples_order <- as.factor(res_cfDNA_final$samples_order)"
   ]
  },
  {
   "cell_type": "code",
   "execution_count": null,
   "id": "3855215c-987f-4f20-8735-8de75652cfad",
   "metadata": {},
   "outputs": [],
   "source": []
  },
  {
   "cell_type": "code",
   "execution_count": null,
   "id": "de6aa34d-244e-4b8b-acfb-0b7873e63927",
   "metadata": {},
   "outputs": [],
   "source": [
    "res_cfDNA_final_plot <- res_cfDNA_final %>% filter(!pt_id %in% low_qual_sample)"
   ]
  },
  {
   "cell_type": "code",
   "execution_count": null,
   "id": "fed53d2c-9302-4892-8f7d-72788f7ef64b",
   "metadata": {},
   "outputs": [],
   "source": [
    "colsi = colorRampPalette(brewer.pal(9, \"Blues\"))(17)[4:17]\n",
    "res_cfDNA_final_plot$samples_order <- as.factor(res_cfDNA_final_plot$samples_order)"
   ]
  },
  {
   "cell_type": "code",
   "execution_count": null,
   "id": "7f1d9cf0-b220-4665-bc89-4519284b4c33",
   "metadata": {},
   "outputs": [],
   "source": [
    "options(repr.plot.width=20, repr.plot.height=8)\n",
    "ggplot(res_cfDNA_final_plot) +\n",
    "    geom_col(aes(x = pt_id, y = cfDNA_reads, fill = samples_order), position = \"dodge2\") +\n",
    "    #ggtitle(\"cfDNA reads\") \n",
    "    theme_minimal() + \n",
    "    scale_fill_manual(values = c(\"firebrick\", colsi))  + \n",
    "     theme(text = element_text(size = 20), axis.text.x = element_text(colour = b))+\n",
    "    xlab(\"\") + ylab(\"Number of reads in cfDNA\")"
   ]
  },
  {
   "cell_type": "code",
   "execution_count": null,
   "id": "570f3fc3-20f3-445b-b2e9-1f1d62e448b8",
   "metadata": {},
   "outputs": [],
   "source": []
  },
  {
   "cell_type": "code",
   "execution_count": null,
   "id": "03ae46aa-7c2a-466c-a7f8-8eb396292510",
   "metadata": {},
   "outputs": [],
   "source": [
    "options(repr.plot.width=20, repr.plot.height=8)\n",
    "\n",
    "\n",
    "\n",
    "ggplot(res_cfDNA_final_plot) +\n",
    "    geom_col(aes(x = pt_id, y = cfDNA_kmers, fill = samples_order), position = \"dodge2\") +\n",
    "    #ggtitle(\"cfDNA kmers\") + \n",
    "    theme_minimal() + \n",
    "    scale_fill_manual(values = c(\"firebrick\", colsi)) + \n",
    "    #theme(panel.background = element_rect(fill = \"grey89\",colour = \"grey89\"), \n",
    "                                                                    #panel.grid.major=element_line(colour=\"white\"),\n",
    "                                                                    #panel.grid.minor=element_line(colour=\"white\"))+\n",
    "    theme(text = element_text(size = 20), axis.text.x = element_text(colour = b))+ \n",
    "    xlab(\"\")+ylab(\"Number of cfDNA k-mers\")+\n",
    "    labs(fill=\"Order of samples\")"
   ]
  },
  {
   "cell_type": "code",
   "execution_count": null,
   "id": "2d844a77-35f4-4d84-b92a-6f16b60f2b43",
   "metadata": {},
   "outputs": [],
   "source": [
    "head(res_cfDNA_final)"
   ]
  },
  {
   "cell_type": "code",
   "execution_count": null,
   "id": "68519575-45ea-4bd2-aade-8338c32152b6",
   "metadata": {},
   "outputs": [],
   "source": [
    "ggplot(res_cfDNA_final) +\n",
    "    geom_col(aes(x = pt_id, y = cfDNA_kmers_ci2, fill = samples_order), position = \"dodge2\") +\n",
    "    ggtitle(\"cfDNA kmers, singletons excluded\") + theme_minimal() + \n",
    "    scale_fill_manual(values = getPalette(color_palette_size)) + \n",
    "    theme(axis.text.x = element_text(colour = b))"
   ]
  },
  {
   "cell_type": "code",
   "execution_count": null,
   "id": "dbcde16e-2652-493a-80b5-92e5ff72cbd3",
   "metadata": {
    "tags": []
   },
   "outputs": [],
   "source": [
    "res_cfDNA_final"
   ]
  },
  {
   "cell_type": "code",
   "execution_count": null,
   "id": "e3d1f92f-a323-49ab-9699-8dea591d4065",
   "metadata": {},
   "outputs": [],
   "source": [
    "res_cfDNA_final_long <- res_cfDNA_final %>% pivot_longer(cols = c(\"cfDNA_reads\", \n",
    "                                                                  \"cfDNA_kmers\", \n",
    "                                                                  \"cfDNA_kmers_ci2\", \n",
    "                                                                  \"cfDNA_kmers_total_n\", \n",
    "                                                                  \"cfDNA_kmers_filtered\",\n",
    "                                                                  \"cfDNA_kmers_filtered_total_n\"),\n",
    "                                                 names_to = \"kmer_set\",\n",
    "                                                 values_to = \"n\")"
   ]
  },
  {
   "cell_type": "code",
   "execution_count": null,
   "id": "a1cc682a-894e-4880-beb9-eedc3137e31f",
   "metadata": {},
   "outputs": [],
   "source": [
    "res_cfDNA_final_long$kmer_set = factor(res_cfDNA_final_long$kmer_set, levels=c(\"cfDNA_reads\", \n",
    "                                                                  \"cfDNA_kmers\", \n",
    "                                                                  \"cfDNA_kmers_ci2\", \n",
    "                                                                  \"cfDNA_kmers_total_n\", \n",
    "                                                                  \"cfDNA_kmers_filtered\",\n",
    "                                                                  \"cfDNA_kmers_filtered_total_n\"))"
   ]
  },
  {
   "cell_type": "code",
   "execution_count": null,
   "id": "f307c911-cc70-4708-8f93-4199c9284c62",
   "metadata": {},
   "outputs": [],
   "source": [
    "head(res_cfDNA_final_long)"
   ]
  },
  {
   "cell_type": "code",
   "execution_count": null,
   "id": "b99ea46b-0bb9-4756-ab2c-0f6e7288b16a",
   "metadata": {
    "tags": []
   },
   "outputs": [],
   "source": [
    "cfDNA_plot_res_cfDNA_final_long <- res_cfDNA_final_long %>% filter(kmer_set == \"cfDNA_kmers\" | kmer_set == \"cfDNA_kmers_ci2\" | kmer_set == \"cfDNA_kmers_filtered\")\n",
    "cfDNA_plot_res_cfDNA_final_long$kmer_set <- droplevels(cfDNA_plot_res_cfDNA_final_long$kmer_set)\n",
    "levels(cfDNA_plot_res_cfDNA_final_long$kmer_set) <- c(\"No filter applied\", \"Exclude cfDNA kmers with count < 2\", \"Quality filtering of cfDNA reads\")\n"
   ]
  },
  {
   "cell_type": "code",
   "execution_count": null,
   "id": "fdf73ab5-87da-4e29-895c-6f4ed1438dc1",
   "metadata": {},
   "outputs": [],
   "source": [
    "unique(cfDNA_plot_res_cfDNA_final_long$kmer_set)"
   ]
  },
  {
   "cell_type": "code",
   "execution_count": null,
   "id": "388f0d45-64c4-4faf-a2f7-5263934725d1",
   "metadata": {},
   "outputs": [],
   "source": [
    "ggplot(cfDNA_plot_res_cfDNA_final_long) +\n",
    "    geom_col(aes(x = pt_id, y = n, fill = samples_order), position = \"dodge2\") +\n",
    "    #ggtitle(\"Unique tumor kmers found in cfDNA samples\") + \n",
    "    theme_minimal() + \n",
    "    facet_wrap(~kmer_set, ncol=1,) + \n",
    "    scale_fill_manual(values = c(\"firebrick\", colsi)) + \n",
    "    theme(axis.text.x = element_text(colour = b))+\n",
    "    theme(text = element_text(size = 20))+\n",
    "    xlab(\"\") + labs(fill=\"Order of samples\")+\n",
    "    ylab(\"Number of k-mers in the in the cfDNA\")"
   ]
  },
  {
   "cell_type": "code",
   "execution_count": null,
   "id": "4d0ac72c-8f6a-4599-8c3a-819da08ebde1",
   "metadata": {},
   "outputs": [],
   "source": [
    "\n",
    "supp.labs <- c(\"cfDNA kmers\", \"cfDNA kmers, reads quality filtered\")\n",
    "names(supp.labs) <- c(\"cfDNA_kmers\", \"cfDNA_kmers_filtered\")\n",
    "\n",
    "res_cfDNA_final_long %>% filter(!(kmer_set %in% c(\"cfDNA_kmers_ci2\", \n",
    "                                                  \"cfDNA_reads\", \n",
    "                                                  \"cfDNA_kmers_total_n\", \n",
    "                                                  \"cfDNA_kmers_filtered_total_n\"))) %>% \n",
    "ggplot() +\n",
    "    geom_col(aes(x = pt_id, y = n, fill = samples_order), position = \"dodge2\") +\n",
    "    ggtitle(\"cfDNA kmers\") + theme_minimal() + facet_wrap(~kmer_set, ncol=1, labeller = labeller(kmer_set = supp.labs)) + \n",
    "    scale_fill_manual(values = getPalette(color_palette_size)) + \n",
    "    theme(axis.text.x = element_text(colour = b, size = 11),\n",
    "          axis.text.y = element_text(size = 11),\n",
    "          axis.title=element_text(size=13),\n",
    "          panel.background = element_rect(fill = \"grey86\",\n",
    "                                          colour = \"grey86\")) + \n",
    "    xlab(\"Patient ID\") + ylab(\"n cfDNA kmers\")"
   ]
  },
  {
   "cell_type": "code",
   "execution_count": null,
   "id": "b1c4f834-5573-47c6-b6c2-e534125e5f17",
   "metadata": {},
   "outputs": [],
   "source": [
    "unique(res_cfDNA_final_long$kmer_set)"
   ]
  },
  {
   "cell_type": "markdown",
   "id": "d105bc3d-dbde-4c68-b5cc-22f57c0613f2",
   "metadata": {},
   "source": [
    "# Intersections"
   ]
  },
  {
   "cell_type": "code",
   "execution_count": null,
   "id": "34df0dd7-5784-4d72-8116-f890f910c330",
   "metadata": {
    "tags": []
   },
   "outputs": [],
   "source": [
    "res_intersection <- NULL\n",
    "\n",
    "for (row in 1:nrow(paramspace_cfDNA)){\n",
    "    patient = paramspace_cfDNA[row, \"pt_id\"]\n",
    "   # print(as.character(patient))\n",
    "    cfDNA_folder = paramspace_cfDNA[row, \"cfDNA_folder\"]\n",
    "    folder = paramspace_cfDNA[row, \"unique_kmers_folder\"]\n",
    "    \n",
    "    intersection_kmers_ci1_cs1e9 <- read.table(paste(\"../data/\", patient, \"/\", cfDNA_folder, \"/cs1e9/\", \"plotdata_intersection_cs1e9_filtered.txt\", sep = \"\"))\n",
    "    intersection_ci1_cs1e9 <- tibble(pt_id = patient, \n",
    "                                    tumor_folder = folder, \n",
    "                                    cfDNA_folder = cfDNA_folder,\n",
    "                                    intersection_kmers = as.numeric(sum(intersection_kmers_ci1_cs1e9$V2)),\n",
    "                                    intersection_kmers_total_n = as.numeric(sum(intersection_kmers_ci1_cs1e9$V2 * intersection_kmers_ci1_cs1e9$V1)),\n",
    "                                    sample_timepoint_days_since_OP = paramspace_cfDNA[row, \"sample_timepoint_days_since_OP\"],\n",
    "                                    pipeline = \"ci1_cs1e9\")\n",
    "    res_intersection <- bind_rows(res_intersection, intersection_ci1_cs1e9)\n",
    "    \n",
    "    intersection_kmers_ci5_cs1e9 <- read.table(paste(\"../data/\", patient, \"/\", cfDNA_folder, \"/ci5_cs1e9/\", \"plotdata_intersection_singletons_excluded_tumor_4_cs_filtered.txt\", sep = \"\"))\n",
    "    intersection_ci5_cs1e9 <- tibble(pt_id = patient, \n",
    "                                    tumor_folder = folder, \n",
    "                                    cfDNA_folder = cfDNA_folder,\n",
    "                                    intersection_kmers = as.numeric(sum(intersection_kmers_ci5_cs1e9$V2)),\n",
    "                                    intersection_kmers_total_n = as.numeric(sum(intersection_kmers_ci5_cs1e9$V2 * intersection_kmers_ci5_cs1e9$V1)),\n",
    "                                    sample_timepoint_days_since_OP = paramspace_cfDNA[row, \"sample_timepoint_days_since_OP\"],\n",
    "                                    pipeline = \"ci5_cs1e9\")\n",
    "    res_intersection <- bind_rows(res_intersection, intersection_ci5_cs1e9)\n",
    "    \n",
    "    intersection_kmers_AG_ci5_cs1e9 <- read.table(paste(\"../data/\", patient, \"/\", cfDNA_folder, \"/all_germline_ci5_cs1e9/\", \"plotdata_intersection_singletons_all_germline_excluded_tumor_4_cs_filtered.txt\", sep = \"\"))\n",
    "    intersection_AG_ci5_cs1e9 <- tibble(pt_id = patient, \n",
    "                                    tumor_folder = folder, \n",
    "                                    cfDNA_folder = cfDNA_folder,\n",
    "                                    intersection_kmers = as.numeric(sum(intersection_kmers_AG_ci5_cs1e9$V2)),\n",
    "                                    intersection_kmers_total_n = as.numeric(sum(intersection_kmers_AG_ci5_cs1e9$V2 * intersection_kmers_AG_ci5_cs1e9$V1)),\n",
    "                                    sample_timepoint_days_since_OP = paramspace_cfDNA[row, \"sample_timepoint_days_since_OP\"],\n",
    "                                    pipeline = \"all_germline_ci5_cs1e9\")\n",
    "    res_intersection <- bind_rows(res_intersection, intersection_AG_ci5_cs1e9)\n",
    "    \n",
    "    intersection_kmers_AG_FT_ci5_cs1e9 <- read.table(paste(\"../data/\", patient, \"/\", cfDNA_folder, \"/all_germline_filtered_bams_tumor_ci5_cs1e9/\", \"plotdata_intersection_filtered.txt\", sep = \"\"))\n",
    "    intersection_AG_FT_ci5_cs1e9 <- tibble(pt_id = patient, \n",
    "                                    tumor_folder = folder, \n",
    "                                    cfDNA_folder = cfDNA_folder,\n",
    "                                    intersection_kmers = as.numeric(sum(intersection_kmers_AG_FT_ci5_cs1e9$V2)),\n",
    "                                    intersection_kmers_total_n = as.numeric(sum(intersection_kmers_AG_FT_ci5_cs1e9$V2 * intersection_kmers_AG_FT_ci5_cs1e9$V1)),\n",
    "                                    sample_timepoint_days_since_OP = paramspace_cfDNA[row, \"sample_timepoint_days_since_OP\"],\n",
    "                                    pipeline = \"all_germline_filtered_tumor_ci5_cs1e9\")\n",
    "    res_intersection <- bind_rows(res_intersection, intersection_AG_FT_ci5_cs1e9)\n",
    "    \n",
    "    intersection_kmers_AG_FT_ci5_cs1e9_DN <- read.table(paste(\"../data/\", patient, \"/\", cfDNA_folder, \"/de_novo_germline/\", \"plotdata_intersection_filtered.txt\", sep = \"\"))\n",
    "    intersection_AG_FT_ci5_cs1e9_DN <- tibble(pt_id = patient, \n",
    "                                    tumor_folder = folder, \n",
    "                                    cfDNA_folder = cfDNA_folder,\n",
    "                                    intersection_kmers = as.numeric(sum(intersection_kmers_AG_FT_ci5_cs1e9_DN$V2)),\n",
    "                                    intersection_kmers_total_n = as.numeric(sum(intersection_kmers_AG_FT_ci5_cs1e9_DN$V2 * intersection_kmers_AG_FT_ci5_cs1e9_DN$V1)),\n",
    "                                    sample_timepoint_days_since_OP = paramspace_cfDNA[row, \"sample_timepoint_days_since_OP\"],\n",
    "                                    pipeline = \"all_germline_filtered_tumor_ci5_cs1e9_de_novo\")\n",
    "    res_intersection <- bind_rows(res_intersection, intersection_AG_FT_ci5_cs1e9_DN)\n",
    "    \n",
    "    intersection_kmers_AG_FT_ci5_cs1e9_DN_FcfDNA <- read.table(paste(\"../data/\", patient, \"/\", cfDNA_folder, \"/de_novo_germline_filtered_cfDNA/\", \"plotdata_intersection_filtered.txt\", sep = \"\"))\n",
    "    intersection_AG_FT_ci5_cs1e9_DN_FcfDNA <- tibble(pt_id = patient, \n",
    "                                    tumor_folder = folder, \n",
    "                                    cfDNA_folder = cfDNA_folder,\n",
    "                                    intersection_kmers = as.numeric(sum(intersection_kmers_AG_FT_ci5_cs1e9_DN_FcfDNA$V2)),\n",
    "                                    intersection_kmers_total_n = as.numeric(sum(intersection_kmers_AG_FT_ci5_cs1e9_DN_FcfDNA$V2 * intersection_kmers_AG_FT_ci5_cs1e9_DN_FcfDNA$V1)),\n",
    "                                    sample_timepoint_days_since_OP = paramspace_cfDNA[row, \"sample_timepoint_days_since_OP\"],\n",
    "                                    pipeline = \"all_germline_filtered_tumor_ci5_cs1e9_de_novo_filtered_cfDNA\")\n",
    "    res_intersection <- bind_rows(res_intersection, intersection_AG_FT_ci5_cs1e9_DN_FcfDNA)\n",
    "    \n",
    "    \n",
    "    #intersection_kmers_AG_FT_SO_ci5_cs1e9 <- read.table(paste(\"../data/\", patient, \"/\", cfDNA_folder, \"/all_germline_filtered_bams_tumor_subtract_other_tumor_ci5_cs1e9/\", \"plotdata_intersection_filtered.txt\", sep = \"\"))\n",
    "    #intersection_AG_FT_SO_ci5_cs1e9 <- tibble(pt_id = patient, \n",
    "    #                                tumor_folder = folder, \n",
    "    #                                cfDNA_folder = cfDNA_folder,\n",
    "    #                                intersection_kmers = as.numeric(sum(intersection_kmers_AG_FT_SO_ci5_cs1e9$V2)),\n",
    "    #                                intersection_kmers_total_n = as.numeric(sum(intersection_kmers_AG_FT_SO_ci5_cs1e9$V2 * intersection_kmers_AG_FT_SO_ci5_cs1e9$V1)),\n",
    "    #                                sample_timepoint_days_since_OP = paramspace_cfDNA[row, \"sample_timepoint_days_since_OP\"],\n",
    "    #                                pipeline = \"all_germline_filtered_tumor_subtract_others_ci5_cs1e9\")\n",
    "    #res_intersection <- bind_rows(res_intersection, intersection_AG_FT_SO_ci5_cs1e9)\n",
    "    \n",
    "    ###New from here\n",
    "    intersection_kmers_AG_FT_ci5_cs1e9_DN_REF <- read.table(paste(\"../data/\", patient, \"/\", cfDNA_folder, \"/de_novo_germline_reference/\", \"plotdata_intersection_filtered.txt\", sep = \"\"))\n",
    "    intersection_AG_FT_ci5_cs1e9_DN_REF <- tibble(pt_id = patient, \n",
    "                                    tumor_folder = folder, \n",
    "                                    cfDNA_folder = cfDNA_folder,\n",
    "                                    intersection_kmers = as.numeric(sum(intersection_kmers_AG_FT_ci5_cs1e9_DN_REF$V2)),\n",
    "                                    intersection_kmers_total_n = as.numeric(sum(intersection_kmers_AG_FT_ci5_cs1e9_DN_REF$V2 * intersection_kmers_AG_FT_ci5_cs1e9_DN_REF$V1)),\n",
    "                                    sample_timepoint_days_since_OP = paramspace_cfDNA[row, \"sample_timepoint_days_since_OP\"],\n",
    "                                    pipeline = \"all_germline_filtered_tumor_ci5_cs1e9_de_novo_reference\")\n",
    "    res_intersection <- bind_rows(res_intersection, intersection_AG_FT_ci5_cs1e9_DN_REF)\n",
    "    \n",
    "    intersection_kmers_AG_FT_ci5_cs1e9_WELLMAP <- read.table(paste(\"../data/\", patient, \"/\", cfDNA_folder, \"/all_germline_filtered_bams_tumor_ci5_cs1e9_well_mapping_subtracted/\", \"plotdata_intersection_filtered.txt\", sep = \"\"))\n",
    "    intersection_AG_FT_ci5_cs1e9_WELLMAP <- tibble(pt_id = patient, \n",
    "                                    tumor_folder = folder, \n",
    "                                    cfDNA_folder = cfDNA_folder,\n",
    "                                    intersection_kmers = as.numeric(sum(intersection_kmers_AG_FT_ci5_cs1e9_WELLMAP$V2)),\n",
    "                                    intersection_kmers_total_n = as.numeric(sum(intersection_kmers_AG_FT_ci5_cs1e9_WELLMAP$V2 * intersection_kmers_AG_FT_ci5_cs1e9_WELLMAP$V1)),\n",
    "                                    sample_timepoint_days_since_OP = paramspace_cfDNA[row, \"sample_timepoint_days_since_OP\"],\n",
    "                                    pipeline = \"all_germline_filtered_tumor_ci5_cs1e9_well_ampping_kmers_subtracted\")\n",
    "    res_intersection <- bind_rows(res_intersection, intersection_AG_FT_ci5_cs1e9_WELLMAP)\n",
    "\n",
    "    intersection_kmers_AG_FT_ci5_cs1e9_QFcfDNA <- read.table(paste(\"../data/\", patient, \"/\", cfDNA_folder, \"/all_germline_filtered_bams_tumor_ci5_cs1e9_filtered_cfDNA/\", \"plotdata_intersection_filtered.txt\", sep = \"\"))\n",
    "    intersection_AG_FT_ci5_cs1e9_QFcfDNA <- tibble(pt_id = patient, \n",
    "                                    tumor_folder = folder, \n",
    "                                    cfDNA_folder = cfDNA_folder,\n",
    "                                    intersection_kmers = as.numeric(sum(intersection_kmers_AG_FT_ci5_cs1e9_QFcfDNA$V2)),\n",
    "                                    intersection_kmers_total_n = as.numeric(sum(intersection_kmers_AG_FT_ci5_cs1e9_QFcfDNA$V2 * intersection_kmers_AG_FT_ci5_cs1e9_QFcfDNA$V1)),\n",
    "                                    sample_timepoint_days_since_OP = paramspace_cfDNA[row, \"sample_timepoint_days_since_OP\"],\n",
    "                                    pipeline = \"all_germline_filtered_tumor_ci5_cs1e9_filtered_cfDNA\")\n",
    "    res_intersection <- bind_rows(res_intersection, intersection_AG_FT_ci5_cs1e9_QFcfDNA)\n",
    "    \n",
    "    intersection_kmers_AG_FT_ci5_cs1e9_NOT_SEEN <- read.table(paste(\"../data/\", patient, \"/\", cfDNA_folder, \"/all_germline_filtered_bams_tumor_ci5_cs1e9_filtered_cfDNA_subtracted_kmers_not_seen/\", \"plotdata_intersection_filtered.txt\", sep = \"\"))\n",
    "    intersection_AG_FT_ci5_cs1e9_NOT_SEEN <- tibble(pt_id = patient, \n",
    "                                    tumor_folder = folder, \n",
    "                                    cfDNA_folder = cfDNA_folder,\n",
    "                                    intersection_kmers = as.numeric(sum(intersection_kmers_AG_FT_ci5_cs1e9_NOT_SEEN$V2)),\n",
    "                                    intersection_kmers_total_n = as.numeric(sum(intersection_kmers_AG_FT_ci5_cs1e9_NOT_SEEN$V2 * intersection_kmers_AG_FT_ci5_cs1e9_NOT_SEEN$V1)),\n",
    "                                    sample_timepoint_days_since_OP = paramspace_cfDNA[row, \"sample_timepoint_days_since_OP\"],\n",
    "                                    pipeline = \"all_germline_filtered_tumor_ci5_cs1e9_subtract_kmers_not_seen\")\n",
    "    res_intersection <- bind_rows(res_intersection, intersection_AG_FT_ci5_cs1e9_NOT_SEEN)\n",
    "    \n",
    "    \n",
    "    intersection_kmers_AG_FT_ci5_cs1e9_CI2 <- read.table(paste(\"../data/\", patient, \"/\", cfDNA_folder, \"/all_germline_filtered_bams_tumor_ci5_cs1e9_cfDNA_ci2_cs1e9/\", \"plotdata_intersection_filtered.txt\", sep = \"\"))\n",
    "    intersection_AG_FT_ci5_cs1e9_CI2 <- tibble(pt_id = patient, \n",
    "                                    tumor_folder = folder, \n",
    "                                    cfDNA_folder = cfDNA_folder,\n",
    "                                    intersection_kmers = as.numeric(sum(intersection_kmers_AG_FT_ci5_cs1e9_CI2$V2)),\n",
    "                                    intersection_kmers_total_n = as.numeric(sum(intersection_kmers_AG_FT_ci5_cs1e9_CI2$V2 * intersection_kmers_AG_FT_ci5_cs1e9_CI2$V1)),\n",
    "                                    sample_timepoint_days_since_OP = paramspace_cfDNA[row, \"sample_timepoint_days_since_OP\"],\n",
    "                                    pipeline = \"all_germline_filtered_tumor_ci5_cs1e9_ci2_cfDNA\")\n",
    "    res_intersection <- bind_rows(res_intersection, intersection_AG_FT_ci5_cs1e9_CI2)\n",
    "    \n",
    "    }\n",
    "    \n",
    "   "
   ]
  },
  {
   "cell_type": "code",
   "execution_count": null,
   "id": "005e5b79-a8a8-48fa-8861-ed453f59191b",
   "metadata": {},
   "outputs": [],
   "source": [
    "res_intersection_final <- NULL # \n",
    "color_palette_size <- 0\n",
    "for (pt in unique(res_intersection$pt_id)){\n",
    "    res_intersection_pt <- res_intersection %>% filter(pt_id == pt)\n",
    "    for (pipeline_C in c(\"ci1_cs1e9\", \"ci5_cs1e9\", \"all_germline_ci5_cs1e9\", \"all_germline_filtered_tumor_ci5_cs1e9\", \"all_germline_filtered_tumor_ci5_cs1e9_de_novo\", \"all_germline_filtered_tumor_ci5_cs1e9_de_novo_filtered_cfDNA\", \"all_germline_filtered_tumor_ci5_cs1e9_de_novo_reference\", \"all_germline_filtered_tumor_ci5_cs1e9_well_ampping_kmers_subtracted\", \"all_germline_filtered_tumor_ci5_cs1e9_filtered_cfDNA\", \"all_germline_filtered_tumor_ci5_cs1e9_subtract_kmers_not_seen\",  \"all_germline_filtered_tumor_ci5_cs1e9_ci2_cfDNA\")){\n",
    "        res_intersection_pt_pipeline <- res_intersection_pt %>% filter(pipeline == pipeline_C)\n",
    "        res_intersection_pt_pipeline$sample_timepoint_days_since_OP <- as.numeric(res_intersection_pt_pipeline$sample_timepoint_days_since_OP)\n",
    "        res_intersection_pt_pipeline <- res_intersection_pt_pipeline %>% arrange(sample_timepoint_days_since_OP) %>% mutate(samples_order = seq(1, nrow(res_intersection_pt_pipeline)))\n",
    "        if (nrow(res_intersection_pt_pipeline) > color_palette_size){\n",
    "            color_palette_size <- nrow(res_intersection_pt_pipeline)\n",
    "        }\n",
    "        res_intersection_final <- rbind(res_intersection_final, res_intersection_pt_pipeline)\n",
    "        }\n",
    "}\n",
    "\n"
   ]
  },
  {
   "cell_type": "code",
   "execution_count": null,
   "id": "1c5b723a-f25f-47a5-9552-6c157f825e1c",
   "metadata": {},
   "outputs": [],
   "source": [
    "res_intersection_final$samples_order <- as.factor(res_intersection_final$samples_order)\n",
    "res_intersection_final$pipeline <- factor(res_intersection_final$pipeline, levels = c(\"ci1_cs1e9\", \"ci5_cs1e9\", \"all_germline_ci5_cs1e9\", \"all_germline_filtered_tumor_ci5_cs1e9\", \"all_germline_filtered_tumor_ci5_cs1e9_de_novo\", \"all_germline_filtered_tumor_ci5_cs1e9_de_novo_filtered_cfDNA\", \"all_germline_filtered_tumor_ci5_cs1e9_de_novo_reference\", \"all_germline_filtered_tumor_ci5_cs1e9_well_ampping_kmers_subtracted\", \"all_germline_filtered_tumor_ci5_cs1e9_filtered_cfDNA\", \"all_germline_filtered_tumor_ci5_cs1e9_subtract_kmers_not_seen\",  \"all_germline_filtered_tumor_ci5_cs1e9_ci2_cfDNA\"))\n",
    "head(res_intersection_final)"
   ]
  },
  {
   "cell_type": "code",
   "execution_count": null,
   "id": "274c66d3-33f6-4d3d-a74a-4907f6b377ca",
   "metadata": {},
   "outputs": [],
   "source": [
    "options(repr.plot.width=20, repr.plot.height=8)\n",
    "res_intersection_final_plot <- res_intersection_final %>% filter(pipeline ==\"ci1_cs1e9\") %>% filter(!pt_id %in% low_qual_sample)\n",
    "ggplot(res_intersection_final_plot) +\n",
    "    geom_col(aes(x = pt_id, y = intersection_kmers, fill = samples_order), position = \"dodge2\") +\n",
    "    #ggtitle(\"Unique tumor kmers found in cfDNA samples\") + \n",
    "    theme_minimal() +\n",
    "    scale_fill_manual(values = c(\"firebrick\", colsi)) + \n",
    "    theme(text = element_text(size = 20), axis.text.x = element_text(colour = a))+\n",
    "    xlab(\"\")+ylab(\"Number of k-mers in the intersection\")+\n",
    "    labs(fill=\"Order of samples\")"
   ]
  },
  {
   "cell_type": "code",
   "execution_count": null,
   "id": "fe3079ac-47e7-4c65-896e-d97a7a137c02",
   "metadata": {},
   "outputs": [],
   "source": [
    "options(repr.plot.width=20, repr.plot.height=8)\n",
    "res_intersection_final_plot <- res_intersection_final %>% filter(pipeline ==\"all_germline_filtered_tumor_ci5_cs1e9_de_novo_reference\") %>% filter(!pt_id %in% low_qual_sample)\n",
    "ggplot(res_intersection_final_plot) +\n",
    "    geom_col(aes(x = pt_id, y = log(intersection_kmers), fill = samples_order), position = \"dodge2\") +\n",
    "    #ggtitle(\"Unique tumor kmers found in cfDNA samples\") + \n",
    "    theme_minimal() +\n",
    "    scale_fill_manual(values = c(\"firebrick\", colsi)) + \n",
    "    theme(text = element_text(size = 20), axis.text.x = element_text(colour = a))+\n",
    "    xlab(\"\")+ylab(\"Number of k-mers in the intersection\")+\n",
    "    labs(fill=\"Order of samples\")"
   ]
  },
  {
   "cell_type": "code",
   "execution_count": null,
   "id": "bdcd62a9-90a5-4363-9b5b-8df2ed55770f",
   "metadata": {},
   "outputs": [],
   "source": [
    "unique(res_intersection_final$pipeline)"
   ]
  },
  {
   "cell_type": "code",
   "execution_count": null,
   "id": "a9b88c1f-9441-4908-887f-e93dba3208e1",
   "metadata": {},
   "outputs": [],
   "source": [
    "#Plot for results - germline experiments --> de novo and union germline\n",
    "res_intersection_final_plot_germline <- res_intersection_final %>% filter(pipeline == \"ci5_cs1e9\" | pipeline == \"all_germline_ci5_cs1e9\")\n",
    "res_intersection_final_plot_germline <- res_intersection_final_plot_germline %>% filter(!pt_id %in% low_qual_sample)\n",
    "\n",
    "levels(res_intersection_final_plot_germline$pipeline)\n",
    "res_intersection_final_plot_germline$pipeline <- droplevels(res_intersection_final_plot_germline$pipeline)\n",
    "\n",
    "\n",
    "levels(res_intersection_final_plot_germline$pipeline) <- c(\"Exclude tumor kmers with count < 5\", \"Exclude tumor kmers with count < 5 + union germline\")\n",
    "\n",
    "ggplot(res_intersection_final_plot_germline) +\n",
    "    geom_col(aes(x = pt_id, y = intersection_kmers, fill = samples_order), position = \"dodge2\") +\n",
    "    #ggtitle(\"Unique tumor kmers found in cfDNA samples\") + \n",
    "    theme_minimal() + \n",
    "    facet_wrap(~pipeline, scales = \"free_y\", ncol=1,) + \n",
    "    scale_fill_manual(values = c(\"firebrick\", colsi)) + \n",
    "    theme(axis.text.x = element_text(colour = b))+\n",
    "    theme(text = element_text(size = 20))+\n",
    "    xlab(\"\") + labs(fill=\"Order of samples\")+\n",
    "    ylab(\"Number of k-mers in the intersection\")"
   ]
  },
  {
   "cell_type": "code",
   "execution_count": null,
   "id": "eb5f5f03-caa3-4cd7-b05f-1e866ba70699",
   "metadata": {},
   "outputs": [],
   "source": [
    "#Plot for results - tumor experiments --> de novo and union germline\n",
    "res_intersection_final_plot_tumor <- res_intersection_final %>% filter(pipeline == \"ci5_cs1e9\" | pipeline == \"all_germline_filtered_tumor_ci5_cs1e9\" | pipeline == \"all_germline_filtered_tumor_ci5_cs1e9_well_ampping_kmers_subtracted\")\n",
    "res_intersection_final_plot_tumor <- res_intersection_final_plot_tumor %>% filter(!pt_id %in% low_qual_sample)\n",
    "\n",
    "levels(res_intersection_final_plot_tumor$pipeline)\n",
    "res_intersection_final_plot_tumor$pipeline <- droplevels(res_intersection_final_plot_tumor$pipeline)\n",
    "\n",
    "\n",
    "levels(res_intersection_final_plot_tumor$pipeline) <- c(\"Exclude tumor k-mers with count <5\",  \"Quality filtering of tumor reads\", \"Well mapping k-mers subtracted\")\n",
    "\n",
    "ggplot(res_intersection_final_plot_tumor) +\n",
    "    geom_col(aes(x = pt_id, y = intersection_kmers, fill = samples_order), position = \"dodge2\") +\n",
    "    #ggtitle(\"Unique tumor kmers found in cfDNA samples\") + \n",
    "    theme_minimal() + \n",
    "    facet_wrap(~pipeline, scales = \"free_y\", ncol=1,) + \n",
    "    scale_fill_manual(values = getPalette(color_palette_size)) + \n",
    "    theme(axis.text.x = element_text(colour = b))+\n",
    "    theme(text = element_text(size = 20))+\n",
    "    xlab(\"\") + labs(fill=\"Order of samples\")+\n",
    "    ylab(\"Number of k-mers in the intersection\")"
   ]
  },
  {
   "cell_type": "code",
   "execution_count": null,
   "id": "ab2a380e-21f3-4d88-ae46-11aacbb038c9",
   "metadata": {},
   "outputs": [],
   "source": [
    "#Plot for results - cfDNA experiments --> de novo and union germline\n",
    "res_intersection_final_plot_tumor <- res_intersection_final %>% filter(pipeline == \"all_germline_filtered_tumor_ci5_cs1e9_subtract_kmers_not_seen\" | pipeline == \"all_germline_filtered_tumor_ci5_cs1e9_ci2_cfDNA\" | pipeline == \"all_germline_filtered_tumor_ci5_cs1e9_de_novo_filtered_cfDNA\")\n",
    "res_intersection_final_plot_tumor <- res_intersection_final_plot_tumor %>% filter(!pt_id %in% low_qual_sample)\n",
    "\n",
    "levels(res_intersection_final_plot_tumor$pipeline)\n",
    "res_intersection_final_plot_tumor$pipeline <- droplevels(res_intersection_final_plot_tumor$pipeline)\n",
    "\n",
    "\n",
    "levels(res_intersection_final_plot_tumor$pipeline) <- c(\"Subtract k-mers not seen\",  \"Exclude cfDNA singletons\", \"Quality filtering of cfDNA reads\")\n",
    "\n",
    "ggplot(res_intersection_final_plot_tumor) +\n",
    "    geom_col(aes(x = pt_id, y = intersection_kmers, fill = samples_order), position = \"dodge2\") +\n",
    "    #ggtitle(\"Unique tumor kmers found in cfDNA samples\") + \n",
    "    theme_minimal() + \n",
    "    facet_wrap(~pipeline, scales = \"free_y\", ncol=1,) + \n",
    "    scale_fill_manual(values = getPalette(color_palette_size)) + \n",
    "    theme(axis.text.x = element_text(colour = b))+\n",
    "    theme(text = element_text(size = 20))+\n",
    "    xlab(\"\") + labs(fill=\"Order of samples\")+\n",
    "    ylab(\"Number of k-mers in the intersection\")"
   ]
  },
  {
   "cell_type": "code",
   "execution_count": null,
   "id": "5e444cd2-864c-41d3-8ddc-4324af7186fb",
   "metadata": {},
   "outputs": [],
   "source": [
    "ggplot(res_intersection_final) +\n",
    "    geom_col(aes(x = pt_id, y = intersection_kmers, fill = samples_order), position = \"dodge2\") +\n",
    "    ggtitle(\"Unique tumor kmers found in cfDNA samples\") + theme_minimal() + facet_wrap(~pipeline, scales = \"free_y\", ncol=1) + \n",
    "    scale_fill_manual(values = getPalette(color_palette_size)) + \n",
    "    theme(axis.text.x = element_text(colour = a))"
   ]
  },
  {
   "cell_type": "code",
   "execution_count": null,
   "id": "666884fa-74c9-4e0a-8725-56355cf345e2",
   "metadata": {},
   "outputs": [],
   "source": [
    "supp.labs <- c(\"Exclude tumor kmers with count < 5\", \"Germline union added\")\n",
    "names(supp.labs) <- c(\"ci5_cs1e9\", \"all_germline_ci5_cs1e9\")\n",
    "\n",
    "\n",
    "res_intersection_final %>% filter(!pt_id %in% low_qual_sample) %>% filter(!(pipeline %in% c(\"ci1_cs1e9\", \"all_germline_filtered_tumor_ci5_cs1e9\", \"all_germline_filtered_tumor_ci5_cs1e9_de_novo\", \"all_germline_filtered_tumor_ci5_cs1e9_de_novo_filtered_cfDNA\"))) %>%\n",
    "    ggplot() +\n",
    "    geom_col(aes(x = pt_id, y = intersection_kmers, fill = samples_order), position = \"dodge2\") +\n",
    "    ggtitle(\"Unique tumor kmers found in cfDNA samples, low quality sample removed\") + theme_minimal() + facet_wrap(~pipeline, scales = \"free_y\", ncol=1, labeller = labeller(pipeline = supp.labs)) + \n",
    "    scale_fill_manual(values = getPalette(color_palette_size)) + \n",
    "    theme(axis.text.x = element_text(colour = b, size = 11),\n",
    "          axis.text.y = element_text(size = 11),\n",
    "          axis.title=element_text(size=13),\n",
    "          panel.background = element_rect(fill = \"grey86\",\n",
    "                                          colour = \"grey86\")) + \n",
    "    xlab(\"Patient ID\") + ylab(\"n cfDNA kmers\")"
   ]
  },
  {
   "cell_type": "code",
   "execution_count": null,
   "id": "663b9266-fe58-4401-b2fc-859cff94122c",
   "metadata": {},
   "outputs": [],
   "source": [
    "supp.labs <- c(\"Exclude tumor kmers with count < 5\", \"Germline union added\")\n",
    "names(supp.labs) <- c(\"ci5_cs1e9\", \"all_germline_ci5_cs1e9\")\n",
    "\n",
    "\n",
    "res_intersection_final %>% filter(!pt_id %in% low_qual_sample) %>% filter(!(pipeline %in% c(\"ci1_cs1e9\", \"ci5_cs1e9\", \"all_germline_ci5_cs1e9\", \"all_germline_filtered_tumor_ci5_cs1e9\", \"all_germline_filtered_tumor_ci5_cs1e9_de_novo_filtered_cfDNA\"))) %>%\n",
    "    ggplot() +\n",
    "    geom_col(aes(x = pt_id, y = intersection_kmers, fill = samples_order), position = \"dodge2\") +\n",
    "    ggtitle(\"Unique tumor kmers found in cfDNA samples, low quality sample removed\") + theme_minimal() + facet_wrap(~pipeline, scales = \"free_y\", ncol=1, labeller = labeller(pipeline = supp.labs)) + \n",
    "    scale_fill_manual(values = getPalette(color_palette_size)) + \n",
    "    theme(axis.text.x = element_text(colour = b, size = 11),\n",
    "          axis.text.y = element_text(size = 11),\n",
    "          axis.title=element_text(size=13),\n",
    "          panel.background = element_rect(fill = \"grey86\",\n",
    "                                          colour = \"grey86\")) + \n",
    "    xlab(\"Patient ID\") + ylab(\"n cfDNA kmers\")"
   ]
  },
  {
   "cell_type": "code",
   "execution_count": null,
   "id": "91115ccd-ea59-46fa-94ed-e38535cf514b",
   "metadata": {},
   "outputs": [],
   "source": [
    "getPalette_reds = colorRampPalette(brewer.pal(9, \"Reds\"))"
   ]
  },
  {
   "cell_type": "code",
   "execution_count": null,
   "id": "401a0292-fe26-4fae-995a-e11bbba8574a",
   "metadata": {},
   "outputs": [],
   "source": [
    "res_intersection_final %>% filter(!(pt_id %in% phaseIpt_R)) %>%\n",
    "    ggplot() +\n",
    "    geom_col(aes(x = pt_id, y = intersection_kmers, fill = samples_order), position = \"dodge2\") +\n",
    "    ggtitle(\"Unique tumor kmers found in cfDNA samples, relapses and 1 no relapse removed\") + theme_minimal() + facet_wrap(~pipeline, scales = \"free_y\", ncol=1) + \n",
    "    scale_fill_manual(values = getPalette(color_palette_size)) + \n",
    "    theme(axis.text.x = element_text(colour = \"darkblue\"))"
   ]
  },
  {
   "cell_type": "code",
   "execution_count": null,
   "id": "f919a5bd-ab4d-4530-9341-e11f1af11bf7",
   "metadata": {},
   "outputs": [],
   "source": [
    "res_intersection_final %>% filter(!(pt_id %in% phaseIpt_R)) %>%\n",
    "    ggplot() +\n",
    "    geom_col(aes(x = pt_id, y = intersection_kmers_total_n, fill = samples_order), position = \"dodge2\") +\n",
    "    ggtitle(\"Unique tumor kmers found in cfDNA samples, relapses and 1 no relapse removed\") + theme_minimal() + facet_wrap(~pipeline, scales = \"free_y\", ncol=1) + \n",
    "    scale_fill_manual(values = getPalette(color_palette_size)) + \n",
    "    theme(axis.text.x = element_text(colour = \"darkblue\"))"
   ]
  },
  {
   "cell_type": "code",
   "execution_count": null,
   "id": "98481aa0-f2d0-4f6f-8526-cde623529e67",
   "metadata": {},
   "outputs": [],
   "source": [
    "res_intersection_final %>% filter((pt_id %in% phaseIpt_R)) %>%\n",
    "ggplot() +\n",
    "geom_col(aes(x = pt_id, y = intersection_kmers, fill = samples_order), position = \"dodge2\") +\n",
    "ggtitle(\"Unique tumor kmers found in cfDNA samples, relapses\") + theme_minimal() + facet_wrap(~pipeline, scales = \"free_y\", ncol=1) + \n",
    "scale_fill_manual(values = getPalette(color_palette_size)) + \n",
    "theme(axis.text.x = element_text(colour = \"red\"))"
   ]
  },
  {
   "cell_type": "code",
   "execution_count": null,
   "id": "a024e774-9af7-47a3-9f7d-8226ec450323",
   "metadata": {},
   "outputs": [],
   "source": [
    "res_intersection_final %>% filter((pt_id %in% phaseIpt_R)) %>%\n",
    "ggplot() +\n",
    "geom_col(aes(x = pt_id, y = intersection_kmers_total_n, fill = samples_order), position = \"dodge2\") +\n",
    "ggtitle(\"Unique tumor kmers found in cfDNA samples, relapses\") + theme_minimal() + facet_wrap(~pipeline, scales = \"free_y\", ncol=1) + \n",
    "scale_fill_manual(values = getPalette(color_palette_size)) + \n",
    "theme(axis.text.x = element_text(colour = \"red\"))"
   ]
  },
  {
   "cell_type": "markdown",
   "id": "b79addb5-51c1-41c9-b4a0-4257281a851c",
   "metadata": {},
   "source": [
    "# Ratios"
   ]
  },
  {
   "cell_type": "code",
   "execution_count": null,
   "id": "4b40789f-2812-4cd3-bb6e-92e527c59ab3",
   "metadata": {},
   "outputs": [],
   "source": [
    "head(res_cfDNA_final)\n",
    "dim(res_cfDNA_final)"
   ]
  },
  {
   "cell_type": "code",
   "execution_count": null,
   "id": "4c18efe7-32cc-4de6-b440-3f2a6c53e736",
   "metadata": {},
   "outputs": [],
   "source": [
    "head(res_intersection_final)\n",
    "dim(res_intersection_final)"
   ]
  },
  {
   "cell_type": "code",
   "execution_count": null,
   "id": "c47e01bb-39c7-4486-a850-221d8c1cee51",
   "metadata": {},
   "outputs": [],
   "source": [
    "res_ratios_final <- left_join(res_intersection_final, res_cfDNA_final, by = c(\"pt_id\", \"tumor_folder\", \"cfDNA_folder\", \"sample_timepoint_days_since_OP\", \"samples_order\"))\n",
    "head(res_ratios_final)\n",
    "tail(res_ratios_final)\n",
    "dim(res_ratios_final)"
   ]
  },
  {
   "cell_type": "code",
   "execution_count": null,
   "id": "e112fd45-e510-4322-bd0b-34aa2dccd886",
   "metadata": {},
   "outputs": [],
   "source": [
    "res_ratios_final <- res_ratios_final %>% select(-pipeline.y) %>% rename(pipeline = pipeline.x)\n",
    "head(res_ratios_final)"
   ]
  },
  {
   "cell_type": "code",
   "execution_count": null,
   "id": "aae8e27f-2bca-492b-ac96-79e5044d8e11",
   "metadata": {},
   "outputs": [],
   "source": [
    "head(res_tumor_unique_tumor)\n",
    "dim(res_tumor_unique_tumor)"
   ]
  },
  {
   "cell_type": "code",
   "execution_count": null,
   "id": "b291891f-0d64-44d1-9712-668b94fa530a",
   "metadata": {},
   "outputs": [],
   "source": [
    "res_ratios_final <- left_join(res_ratios_final, res_tumor_unique_tumor, by = c(\"pt_id\", \"tumor_folder\", \"pipeline\"))\n",
    "head(res_ratios_final)\n",
    "dim(res_ratios_final)"
   ]
  },
  {
   "cell_type": "markdown",
   "id": "e37480c1-1f7a-4ff2-8291-2a7063ecd1f6",
   "metadata": {},
   "source": [
    "# Big ratio upper ratio"
   ]
  },
  {
   "cell_type": "code",
   "execution_count": null,
   "id": "f50872aa-30d3-40cd-880b-6a372740b1d4",
   "metadata": {},
   "outputs": [],
   "source": [
    "res_ratios_final %>% filter(!pt_id %in% low_qual_sample) %>% \n",
    "    distinct(pipeline, pt_id, intersection_kmers_total_n, cfDNA_kmers_total_n, samples_order) %>%\n",
    "ggplot() +\n",
    "    geom_col(aes(x = pt_id, y = intersection_kmers_total_n/cfDNA_kmers_total_n, fill = samples_order), position = \"dodge2\") +\n",
    "    ggtitle(\"Big ratio upper ratio\") + theme_minimal() + facet_wrap(~pipeline, scales = \"free_y\", ncol=1) + \n",
    "    scale_fill_manual(values = getPalette(color_palette_size)) + \n",
    "    theme(axis.text.x = element_text(colour = b))"
   ]
  },
  {
   "cell_type": "code",
   "execution_count": null,
   "id": "6f1dd62f-ba40-42be-aa73-137c9827df81",
   "metadata": {},
   "outputs": [],
   "source": [
    "res_ratios_final %>% \n",
    "    distinct(pipeline, pt_id, intersection_kmers_total_n, cfDNA_kmers_total_n, samples_order) %>%\n",
    "ggplot() +\n",
    "    geom_col(aes(x = pt_id, y = intersection_kmers_total_n/cfDNA_kmers_total_n, fill = samples_order), position = \"dodge2\") +\n",
    "    ggtitle(\"Big ratio upper ratio\") + theme_minimal() + facet_wrap(~pipeline, scales = \"free_y\", ncol=1) + \n",
    "    scale_fill_manual(values = getPalette(color_palette_size)) + \n",
    "    theme(axis.text.x = element_text(colour = a))"
   ]
  },
  {
   "cell_type": "code",
   "execution_count": null,
   "id": "c971bf3e-a04c-4eb9-9b65-2b811b1c6f25",
   "metadata": {},
   "outputs": [],
   "source": [
    "res_ratios_final %>% \n",
    "    distinct(pipeline, pt_id, intersection_kmers, cfDNA_kmers, samples_order) %>%\n",
    "ggplot() +\n",
    "    geom_col(aes(x = pt_id, y = intersection_kmers/cfDNA_kmers, fill = samples_order), position = \"dodge2\") +\n",
    "    ggtitle(\"Big ratio upper ratio\") + theme_minimal() + facet_wrap(~pipeline, scales = \"free_y\", ncol=1) + \n",
    "    scale_fill_manual(values = getPalette(color_palette_size)) + \n",
    "    theme(axis.text.x = element_text(colour = a))"
   ]
  },
  {
   "cell_type": "code",
   "execution_count": null,
   "id": "8a2be0ba-2773-468d-b4eb-edb131fea898",
   "metadata": {},
   "outputs": [],
   "source": [
    "res_ratios_final %>% filter(!pt_id %in% low_qual_sample) %>% \n",
    "    distinct(pipeline, pt_id, intersection_kmers, cfDNA_kmers, samples_order) %>%\n",
    "ggplot() +\n",
    "    geom_col(aes(x = pt_id, y = intersection_kmers/cfDNA_kmers, fill = samples_order), position = \"dodge2\") +\n",
    "    ggtitle(\"Big ratio upper ratio\") + theme_minimal() + facet_wrap(~pipeline, scales = \"free_y\", ncol=1) + \n",
    "    scale_fill_manual(values = getPalette(color_palette_size)) + \n",
    "    theme(axis.text.x = element_text(colour = b))"
   ]
  },
  {
   "cell_type": "markdown",
   "id": "4e4075d3-24c4-4179-89c3-176b87a25990",
   "metadata": {},
   "source": [
    "# Big ratio lower ratio"
   ]
  },
  {
   "cell_type": "code",
   "execution_count": null,
   "id": "6979d74a-87a6-44a7-b693-533035fbd2f3",
   "metadata": {},
   "outputs": [],
   "source": [
    "res_ratios_final %>% distinct(pipeline, pt_id, unique_tumor_kmers_total_n, tumor_kmers_total_n) %>%\n",
    "ggplot() +\n",
    "    geom_col(aes(x = pt_id, y = as.numeric(unique_tumor_kmers_total_n/tumor_kmers_total_n))) +\n",
    "    ggtitle(\"Big ratio lower ratio\") + theme_minimal() + facet_wrap(~pipeline, scales = \"free_y\", ncol=1) + \n",
    "    theme(axis.text.x = element_text(colour = a))"
   ]
  },
  {
   "cell_type": "code",
   "execution_count": null,
   "id": "6ccfc51b-94d5-433d-baea-922a6159c895",
   "metadata": {},
   "outputs": [],
   "source": [
    "res_ratios_final %>% filter(!pt_id %in% low_qual_sample) %>% \n",
    "    distinct(pipeline, pt_id, unique_tumor_kmers_total_n, tumor_kmers_total_n) %>%\n",
    "ggplot() +\n",
    "    geom_col(aes(x = pt_id, y = unique_tumor_kmers_total_n/tumor_kmers_total_n)) +\n",
    "    ggtitle(\"Big ratio lower ratio\") + theme_minimal() + facet_wrap(~pipeline, scales = \"free_y\", ncol=1) + \n",
    "    theme(axis.text.x = element_text(colour = b))"
   ]
  },
  {
   "cell_type": "markdown",
   "id": "78256d73-9e7f-4145-80c5-a33a2b2f81e6",
   "metadata": {},
   "source": [
    "# Big ratio"
   ]
  },
  {
   "cell_type": "code",
   "execution_count": null,
   "id": "3a8e7a0b-dd79-4b7f-8293-4feab96cc178",
   "metadata": {},
   "outputs": [],
   "source": [
    "res_ratios_final %>% \n",
    "    distinct(pipeline, pt_id, intersection_kmers_total_n, cfDNA_kmers_total_n, unique_tumor_kmers_total_n, tumor_kmers_total_n, samples_order) %>%\n",
    "ggplot() +\n",
    "    geom_col(aes(x = pt_id, y = (intersection_kmers_total_n/cfDNA_kmers_total_n)/(unique_tumor_kmers_total_n/tumor_kmers_total_n), fill = samples_order), position = \"dodge2\") +\n",
    "    ggtitle(\"Big ratio\") + theme_minimal() + facet_wrap(~pipeline, scales = \"free_y\", ncol=1) + \n",
    "    scale_fill_manual(values = getPalette(color_palette_size)) + \n",
    "    theme(axis.text.x = element_text(colour = a))"
   ]
  },
  {
   "cell_type": "code",
   "execution_count": null,
   "id": "dff2d995-932a-4ffa-a489-b5e87ef62e38",
   "metadata": {},
   "outputs": [],
   "source": [
    "res_ratios_final %>% \n",
    "    distinct(pipeline, pt_id, intersection_kmers, cfDNA_kmers, unique_tumor_kmers, tumor_kmers, samples_order) %>%\n",
    "ggplot() +\n",
    "    geom_col(aes(x = pt_id, y = (intersection_kmers/cfDNA_kmers)/(unique_tumor_kmers/tumor_kmers), fill = samples_order), position = \"dodge2\") +\n",
    "    ggtitle(\"Big ratio\") + theme_minimal() + facet_wrap(~pipeline, scales = \"free_y\", ncol=1) + \n",
    "    scale_fill_manual(values = getPalette(color_palette_size)) + \n",
    "    theme(axis.text.x = element_text(colour = a))"
   ]
  },
  {
   "cell_type": "markdown",
   "id": "6516ebcc-515f-435a-8f6b-e85803b49a16",
   "metadata": {},
   "source": [
    "# Small ratio"
   ]
  },
  {
   "cell_type": "code",
   "execution_count": null,
   "id": "c7e2711b-b83b-439b-8f9f-46d1c15ff188",
   "metadata": {},
   "outputs": [],
   "source": [
    "res_ratios_final %>% \n",
    "    distinct(pipeline, pt_id, intersection_kmers, unique_tumor_kmers, samples_order) %>%\n",
    "    ggplot() +\n",
    "    geom_col(aes(x = pt_id, y = intersection_kmers/unique_tumor_kmers, fill = samples_order), position = \"dodge2\") +\n",
    "    ggtitle(\"Small ratio\") + theme_minimal() + facet_wrap(~pipeline, scales = \"free_y\", ncol=1) + \n",
    "    scale_fill_manual(values = getPalette(color_palette_size)) + \n",
    "    theme(axis.text.x = element_text(colour = a))"
   ]
  },
  {
   "cell_type": "code",
   "execution_count": null,
   "id": "22f64ad8-33bd-444f-b5fc-62111a3ddfad",
   "metadata": {},
   "outputs": [],
   "source": [
    "res_ratios_final %>% \n",
    "    distinct(pipeline, pt_id, intersection_kmers, cfDNA_kmers, samples_order) %>%\n",
    "    ggplot() +\n",
    "    geom_col(aes(x = pt_id, y = intersection_kmers/cfDNA_kmers, fill = samples_order), position = \"dodge2\") +\n",
    "    ggtitle(\"Small ratio\") + theme_minimal() + facet_wrap(~pipeline, scales = \"free_y\", ncol=1) + \n",
    "    scale_fill_manual(values = getPalette(color_palette_size)) + \n",
    "    theme(axis.text.x = element_text(colour = a))"
   ]
  },
  {
   "cell_type": "code",
   "execution_count": null,
   "id": "6cbffe9f-f4cb-4831-b9a7-2c837711862f",
   "metadata": {},
   "outputs": [],
   "source": [
    "res_ratios_final %>% filter(!pt_id %in% low_qual_sample) %>% \n",
    "    distinct(pipeline, pt_id, intersection_kmers, cfDNA_kmers, samples_order) %>%\n",
    "    ggplot() +\n",
    "    geom_col(aes(x = pt_id, y = intersection_kmers/cfDNA_kmers, fill = samples_order), position = \"dodge2\") +\n",
    "    ggtitle(\"Small ratio\") + theme_minimal() + facet_wrap(~pipeline, scales = \"free_y\", ncol=1) + \n",
    "    scale_fill_manual(values = getPalette(color_palette_size)) + \n",
    "    theme(axis.text.x = element_text(colour = b))"
   ]
  },
  {
   "cell_type": "code",
   "execution_count": null,
   "id": "7509331e-2286-494b-8fff-0efbd0db1cbb",
   "metadata": {},
   "outputs": [],
   "source": [
    "res_ratios_final <- res_ratios_final %>% arrange(germline_reads)\n",
    "write.csv(res_ratios_final, \"res_all.csv\")"
   ]
  },
  {
   "cell_type": "markdown",
   "id": "92873c96-32cd-419a-92bf-1d1afb3a5c2a",
   "metadata": {},
   "source": [
    "# Kmer sets across the pipeline"
   ]
  },
  {
   "cell_type": "code",
   "execution_count": null,
   "id": "52e4a0e3-1cb8-4ba6-b7ab-b30607b58fd0",
   "metadata": {},
   "outputs": [],
   "source": [
    "head(res_ratios_final)"
   ]
  },
  {
   "cell_type": "code",
   "execution_count": null,
   "id": "49d466c5-ddb4-4ab5-b374-e9bad2b3f6cf",
   "metadata": {},
   "outputs": [],
   "source": [
    "head(res_germline)"
   ]
  },
  {
   "cell_type": "code",
   "execution_count": null,
   "id": "fc61d3a1-ebe7-42e1-ba40-4c019e164536",
   "metadata": {},
   "outputs": [],
   "source": [
    "res_ratios_final <- left_join(res_ratios_final, res_germline, by = c(\"pt_id\", \"tumor_folder\"))\n",
    "head(res_ratios_final)"
   ]
  },
  {
   "cell_type": "code",
   "execution_count": null,
   "id": "94f4f29e-8d14-4c85-b252-b1bbcd6f0ce7",
   "metadata": {},
   "outputs": [],
   "source": [
    "res_AGFTci5 <- res_ratios_final %>% filter(pipeline == \"all_germline_filtered_tumor_ci5_cs1e9\")"
   ]
  },
  {
   "cell_type": "code",
   "execution_count": null,
   "id": "9a46ec90-2bb9-4693-903a-08a0021d2dc2",
   "metadata": {},
   "outputs": [],
   "source": [
    "res_AGFTci5_long <- res_AGFTci5 %>% pivot_longer(cols = c(\"intersection_kmers\", \n",
    "                                                          \"intersection_kmers_total_n\", \n",
    "                                                          \"cfDNA_reads\", \n",
    "                                                          \"cfDNA_kmers\",\n",
    "                                                          \"cfDNA_kmers_ci2\",\n",
    "                                                          \"cfDNA_kmers_total_n\",\n",
    "                                                          \"tumor_reads\",\n",
    "                                                          \"tumor_kmers\",\n",
    "                                                          \"tumor_kmers_total_n\",\n",
    "                                                          \"unique_tumor_kmers\",\n",
    "                                                          \"unique_tumor_kmers_total_n\",\n",
    "                                                          \"germline_reads\",\n",
    "                                                          \"germline_kmers\"),\n",
    "                                                 names_to = \"kmer_set\",\n",
    "                                                 values_to = \"n\")\n",
    "\n",
    "head(res_AGFTci5_long)"
   ]
  },
  {
   "cell_type": "code",
   "execution_count": null,
   "id": "bf563a37-d3e5-481b-a544-4bbad1e1db51",
   "metadata": {},
   "outputs": [],
   "source": [
    "tail(res_AGFTci5_long)"
   ]
  },
  {
   "cell_type": "code",
   "execution_count": null,
   "id": "9da8f50c-cdf1-4c48-984d-63dc3ed3d10e",
   "metadata": {},
   "outputs": [],
   "source": [
    "res_AGFTci5_long$kmer_set = factor(res_AGFTci5_long$kmer_set, levels=c(\"germline_reads\", \n",
    "                                                                       \"germline_kmers\",\n",
    "                                                                       \"tumor_kmers\",\n",
    "                                                                       \"tumor_reads\",\n",
    "                                                                       \"tumor_kmers_total_n\",\n",
    "                                                                       \"unique_tumor_kmers\",\n",
    "                                                                       \"unique_tumor_kmers_total_n\",\n",
    "                                                                       \"cfDNA_reads\",\n",
    "                                                                       \"cfDNA_kmers\",\n",
    "                                                                       \"cfDNA_kmers_total_n\",\n",
    "                                                                       \"cfDNA_kmers_ci2\", \n",
    "                                                                       \"intersection_kmers\",\n",
    "                                                                       \"intersection_kmers_total_n\"))"
   ]
  },
  {
   "cell_type": "code",
   "execution_count": null,
   "id": "08d80e2b-e6ba-442e-88f6-aabdd19351d0",
   "metadata": {},
   "outputs": [],
   "source": [
    "res_AGFTci5_long %>% filter(!(kmer_set %in% c(\"cfDNA_kmers_ci2\", \n",
    "                                              \"cfDNA_kmers_total_n\", \n",
    "                                              \"cfDNA_reads\", \n",
    "                                              \"germline_reads\", \n",
    "                                              \"intersection_kmers_total_n\",\n",
    "                                              \"tumor_reads\", \n",
    "                                              \"tumor_kmers_total_n\",\n",
    "                                              \"unique_tumor_kmers_total_n\"))) %>% \n",
    "    #distinct(pt_id, tumor_folder) %>%\n",
    "    ggplot() +\n",
    "    geom_col(aes(x = pt_id, y = n, fill = samples_order), position = \"dodge2\") +\n",
    "    ggtitle(\"Kmer sets across the pipeline\") + theme_minimal() + facet_wrap(~kmer_set, scales = \"free_y\", ncol=1) + \n",
    "    scale_fill_manual(values = getPalette(color_palette_size)) + \n",
    "    theme(axis.text.x = element_text(colour = a))"
   ]
  },
  {
   "cell_type": "code",
   "execution_count": null,
   "id": "b8b4ea69-481e-44f4-b352-51b6de22f9f5",
   "metadata": {},
   "outputs": [],
   "source": [
    "res_AGFTci5_long %>% filter(!(kmer_set %in% c(\"cfDNA_kmers_ci2\", \n",
    "                                              \"cfDNA_kmers_total_n\", \n",
    "                                              \"cfDNA_reads\", \n",
    "                                              \"germline_reads\", \n",
    "                                              \"intersection_kmers_total_n\",\n",
    "                                              \"tumor_reads\", \n",
    "                                              \"tumor_kmers_total_n\",\n",
    "                                              \"unique_tumor_kmers_total_n\"))) %>% \n",
    "    filter(!pt_id %in% low_qual_sample) %>% \n",
    "    ggplot() +\n",
    "    geom_col(aes(x = pt_id, y = n, fill = samples_order), position = \"dodge2\") +\n",
    "    ggtitle(\"Kmer sets across the pipeline\") + theme_minimal() + facet_wrap(~kmer_set, scales = \"free_y\", ncol=1) + \n",
    "    scale_fill_manual(values = getPalette(color_palette_size)) + \n",
    "    theme(axis.text.x = element_text(colour = b))"
   ]
  },
  {
   "cell_type": "code",
   "execution_count": null,
   "id": "1e99a17b-6c45-46e7-92b2-41d4152ce930",
   "metadata": {},
   "outputs": [],
   "source": [
    "res_AGFTci5_long %>% filter(!(kmer_set %in% c(\"cfDNA_kmers_ci2\", \n",
    "                                              \"cfDNA_kmers\", \n",
    "                                              \"cfDNA_reads\", \n",
    "                                              \"germline_reads\", \n",
    "                                              \"intersection_kmers\",\n",
    "                                              \"tumor_reads\", \n",
    "                                              \"tumor_kmers\",\n",
    "                                              \"unique_tumor_kmers\"))) %>% \n",
    "    filter(!pt_id %in% low_qual_sample) %>% \n",
    "    ggplot() +\n",
    "    geom_col(aes(x = pt_id, y = n, fill = samples_order), position = \"dodge2\") +\n",
    "    ggtitle(\"Kmer sets across the pipeline\") + theme_minimal() + facet_wrap(~kmer_set, scales = \"free_y\", ncol=1) + \n",
    "    scale_fill_manual(values = getPalette(color_palette_size)) + \n",
    "    theme(axis.text.x = element_text(colour = b))"
   ]
  },
  {
   "cell_type": "code",
   "execution_count": null,
   "id": "b4f4ac04-3d91-473b-abe1-e47de02056e0",
   "metadata": {},
   "outputs": [],
   "source": []
  },
  {
   "cell_type": "code",
   "execution_count": null,
   "id": "e774330c-5955-4ad7-894c-8065a2c533ce",
   "metadata": {},
   "outputs": [],
   "source": []
  },
  {
   "cell_type": "code",
   "execution_count": null,
   "id": "e8178dea-2b91-41d8-8156-e272dc52b04b",
   "metadata": {},
   "outputs": [],
   "source": []
  }
 ],
 "metadata": {
  "kernelspec": {
   "display_name": "R",
   "language": "R",
   "name": "ir"
  },
  "language_info": {
   "codemirror_mode": "r",
   "file_extension": ".r",
   "mimetype": "text/x-r-source",
   "name": "R",
   "pygments_lexer": "r",
   "version": "3.6.1"
  }
 },
 "nbformat": 4,
 "nbformat_minor": 5
}
                                                                                                                                                                                                                                                                                                                                                                                                                                                                                                                                                                                                                                                                                                                                                                                                                                                                                                                                                                                                                                                                                                                                                                                                                                                                                                                                                                                                                                                                                                                                                                                                                                                                                                                                                                                                                                                                                                                                                                                                                                                                                                                                                                                                                                                                                                                                                                                                                                                                                                                                                                                                                                                                                                                                                                                                                                                                                                                                                                                                                                                                                                                                                                                                                                                                                                                                                                                                                                                                                                                                                                                                                                                                                                                                                                                                                                                                                                                                                                                                                                                                                                                                                                                                                                                                                                                                                                                                                                                                                                                                                                                                                                                                                                                                                                                                                                                                                                                                                                                                                                                                                                                                                                                                                                                                                                                                                                                                                                                                                                                                                                                                                                                                                                                                                                                                                                                                                                                                                                                                                                                                                                                                                                                                                                                                                                                                                                                                                                                                                                                                                                                                                                                                                                                                                                                                                                                                                                                                                                                                                                                                                                                                                                                                                                                                                                                                                                                                                                                                                                                                                                                                                                                                                                                                                                                                                                                                                                                                                                                                                                                                                                                                                                                                                                                                                                                                                                                                                                                                                                                                                                                                                                                                                                                                                                                                                                                                                                                                                                                                                                                                                                                                                                                                                                                                                                                                                                                                                                                                                                                                                                                                                                                                                                                                                                                                                                                                                                                                                                                                                                                                                                                                                                                                                                                                                                                                                                                                                                                                                                                                                                                                                                                                                                                                                                                                                                                                                                                                                                                                                                                                                                                                                                                                                                                                                                                                                                                                                                                                                                                                                                                                                                                                                                                                                                                                                                                                                                                                                                                                                                                                                                                                                                                                                                                                                                                                                                                                                                                                                                                                                                                                                                                                                                                                                                                                                                                                                                                                                                                