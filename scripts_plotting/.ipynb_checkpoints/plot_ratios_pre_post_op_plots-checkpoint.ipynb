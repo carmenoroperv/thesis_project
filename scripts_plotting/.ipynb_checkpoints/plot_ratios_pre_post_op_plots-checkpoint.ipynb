{
 "cells": [
  {
   "cell_type": "code",
   "execution_count": null,
   "id": "71e68840-29c2-40fc-a62d-ea179bdcec2d",
   "metadata": {},
   "outputs": [],
   "source": [
    "library(tidyverse)\n",
    "library(stringr) \n",
    "library(plotly)\n",
    "library(cowplot)"
   ]
  },
  {
   "cell_type": "code",
   "execution_count": null,
   "id": "e193650f-52ee-4265-9b53-912c1bd270c5",
   "metadata": {},
   "outputs": [],
   "source": [
    "##############################################################################\n",
    "\n",
    "##########################     INPUT PARAMETERS    ###########################\n",
    "\n",
    "##############################################################################\n",
    "\n",
    "\n",
    "\n",
    "# filetype = # \"ratio_all_germline_singletons_excluded_tumor_4_cs\" # # \"ratio_singletons_excluded_tumor_4_cs\" # \"ratio\" \n",
    "filetype = \"ratio\"\n",
    "\n",
    "# input_folder =   \"ci5_cs1e9\" # \"all_germline_ci5_cs1e9\" # \"all_germline_filtered_bams_tumor_ci5_cs1e9\" # \"all_germline_filtered_bams_tumor_subtract_other_tumor_ci5_cs1e9\", all_germline_filtered_bams_tumor_ci5_cs1e9_filtered_cfDNA\n",
    "# all_germline_filtered_bams_tumor_ci5_cs1e9_filtered_cfDNA # de_novo_germline # all_germline_filtered_bams_tumor_ci5_cs1e9_filtered_cfDNA_subtracted_kmers_not_seen\n",
    "# all_germline_filtered_bams_tumor_ci5_cs1e9_well_mapping_subtracted # de_novo_germline # de_novo_germline_filtered_cfDNA # de_novo_germline_reference\n",
    "input_folder = \"de_novo_germline_reference\"\n",
    "\n",
    "# output_folder =  \"ci5_cs1e9\" # \"union_germline_ci4_cs1e9\" # \"union_germline_filtered_tumor_bams_ci5_cs1e9\" # \"union_germline_filtered_tumor_bams_subtract_other_tumors_ci5_cs1e9\"\n",
    "# union_germline_filtered_tumor_bams_ci5_cs1e9_filtered_cfDNA # de_novo_germline # union_germline_filtered_bams_tumor_ci5_cs1e9_filtered_cfDNA_subtracted_kmers_not_seen\n",
    "# union_germline_filtered_tumor_ci5_cs1e9_well_mapping_subtracted # de_novo_germline # de_novo_germline_filtered_cfDNA # de_novo_germline_reference\n",
    "output_folder = \"de_novo_germline_reference\"\n",
    "\n",
    "low_qual_sample <- read.table(\"../low_qual_sample.txt\")\n",
    "low_qual_sample <- as.character(low_qual_sample[[1]])\n",
    "\n",
    "phaseIpt <- read.csv(\"../phaseI_pt.csv\", header=FALSE)\n",
    "phaseIpt <- as.character(unlist(c(phaseIpt[1,])))"
   ]
  },
  {
   "cell_type": "code",
   "execution_count": null,
   "id": "716a4a9d-4f4b-4c78-a2aa-908674ab3f67",
   "metadata": {},
   "outputs": [],
   "source": [
    "paramspace = read.csv(\"../data/metadata/paramspace_cfDNA_phaseI.csv\")\n",
    "\n",
    "paramspace  <- paramspace %>% rename(patient_id = pt_id)\n",
    "head(paramspace)"
   ]
  },
  {
   "cell_type": "code",
   "execution_count": null,
   "id": "f2c0e256-b498-4c1b-9eb0-6d365ca624f8",
   "metadata": {},
   "outputs": [],
   "source": [
    "SAMPLES = paramspace[\"patient_id\"]\n",
    "FOLDERS = paramspace[\"cfDNA_folder\"]"
   ]
  },
  {
   "cell_type": "code",
   "execution_count": null,
   "id": "e2718c51-863b-4003-ac1e-add7203de77f",
   "metadata": {},
   "outputs": [],
   "source": [
    "nrow(paramspace)"
   ]
  },
  {
   "cell_type": "code",
   "execution_count": null,
   "id": "386461c3-526e-4409-b00e-fd9724efc328",
   "metadata": {},
   "outputs": [],
   "source": [
    "paramspace[\"big_ratio\"] <- NA\n",
    "paramspace[\"big_ratio_CI_lower\"] <- NA\n",
    "paramspace[\"big_ratio_CI_upper\"] <- NA\n",
    "\n",
    "paramspace[\"small_ratio\"] <- NA\n",
    "paramspace[\"small_ratio_CI_lower\"] <- NA\n",
    "paramspace[\"small_ratio_CI_upper\"] <- NA\n",
    "\n",
    "#paramspace[\"jaccard\"] <- NA\n",
    "#paramspace[\"jaccard_CI_lower\"] <- NA\n",
    "#paramspace[\"jaccard_CI_upper\"] <- NA\n",
    "\n",
    "for (row in 1:nrow(paramspace)){\n",
    "    pt = paramspace[row, \"patient_id\"]\n",
    "    #print(pt)\n",
    "    fd = paramspace[row, \"cfDNA_folder\"]\n",
    "    big_r = read.csv(paste(\"../data/\", pt, \"/\" , fd, \"/\", input_folder, \"/\", \"big_\", filetype, \".csv\", sep = \"\"))\n",
    "    #jaccard = read.csv(paste(\"../data/\", pt, \"/\" , fd, \"/\", input_folder, \"/\", \"jaccard_index.csv\", sep = \"\"))\n",
    "    small_r = read.csv(paste(\"../data/\", pt, \"/\", fd, \"/\", input_folder, \"/\", \"small_\", filetype, \".csv\", sep = \"\"))\n",
    "    #print(big_r[[1]])\n",
    "    #print(small_r[[1]])\n",
    "    paramspace[row, \"big_ratio\"] = big_r$ratio\n",
    "    paramspace[row, \"big_ratio_CI_lower\"] = big_r$lower_CI\n",
    "    paramspace[row, \"big_ratio_CI_upper\"] = big_r$upper_CI\n",
    "\n",
    "    #paramspace[row, \"jaccard\"] = jaccard$ratio\n",
    "    #paramspace[row, \"jaccard_CI_lower\"] = jaccard$lower_CI\n",
    "    #paramspace[row, \"jaccard_CI_upper\"] = jaccard$upper_CI\n",
    "    \n",
    "    paramspace[row, \"small_ratio\"] = small_r$ratio\n",
    "    paramspace[row, \"small_ratio_CI_lower\"] = small_r$lower_CI\n",
    "    paramspace[row, \"small_ratio_CI_upper\"] = small_r$upper_CI\n",
    "}"
   ]
  },
  {
   "cell_type": "code",
   "execution_count": null,
   "id": "b975b2da-cbe0-40e0-904a-5f12d29f2f0c",
   "metadata": {},
   "outputs": [],
   "source": [
    "res <- paramspace\n",
    "head(res)"
   ]
  },
  {
   "cell_type": "code",
   "execution_count": null,
   "id": "ef4aa368-7b40-426e-8839-0cb99d858aab",
   "metadata": {},
   "outputs": [],
   "source": [
    "#res <- res %>% separate(cfDNA_folder, c(\"sampleID\", \"sample_type\", \"sample_number\"))\n",
    "res <- res %>% \n",
    "  mutate(tmp_chunks = stringr::str_split(cfDNA_folder, stringr::fixed(\"_\"),  n = 3)) %>%\n",
    "  mutate(sampleID = map_chr(tmp_chunks, 1),\n",
    "         sub_value = map_chr(tmp_chunks, 2), \n",
    "         sub_val = map_chr(tmp_chunks, 3)) %>%\n",
    "  select(-c(tmp_chunks, sub_value, sub_val))\n",
    "\n",
    "head(res)\n",
    "dim(res)"
   ]
  },
  {
   "cell_type": "code",
   "execution_count": null,
   "id": "9c662e0d-7d23-49a1-89a0-fdb78e6c530a",
   "metadata": {},
   "outputs": [],
   "source": [
    "sample_timepoint <- read.csv(\"../data/metadata/clin_data/sample_timepoint_formatted.csv\")"
   ]
  },
  {
   "cell_type": "code",
   "execution_count": null,
   "id": "3aa5025b-a3bb-4ff2-b639-f00f2566fa34",
   "metadata": {},
   "outputs": [],
   "source": [
    "head(sample_timepoint)\n",
    "sample_timepoint_days <- sample_timepoint %>% filter(phase == \"phaseI\")\n",
    "sample_timepoint_days <- sample_timepoint_days %>% select(sampleID, sample_timepoint_days_since_OP)\n",
    "sample_timepoint_days %>% filter(is.na(sample_timepoint_days_since_OP))\n",
    "dim(sample_timepoint_days)\n",
    "head(sample_timepoint_days)"
   ]
  },
  {
   "cell_type": "code",
   "execution_count": null,
   "id": "c874738f-d7f9-45b4-a937-ba8bb0ba358c",
   "metadata": {},
   "outputs": [],
   "source": [
    "res$sampleID <- as.character(res$sampleID)\n",
    "res <- left_join(res, sample_timepoint_days, by = c(\"sampleID\"))\n",
    "head(res)\n",
    "dim(res)"
   ]
  },
  {
   "cell_type": "code",
   "execution_count": null,
   "id": "d419b5e8-241c-4aa9-b08e-6dccdcfed8d2",
   "metadata": {},
   "outputs": [],
   "source": [
    "res %>% filter(is.na(sample_timepoint_days_since_OP))"
   ]
  },
  {
   "cell_type": "code",
   "execution_count": null,
   "id": "7bf24bd5-1441-47ff-a259-6bf2574510ab",
   "metadata": {},
   "outputs": [],
   "source": [
    "clinical_data <- read.csv(\"../data/metadata/clin_data/clinical_data_formatted.csv\")\n",
    "clinical_data_relapse <- clinical_data %>% select(patient_id, time_to_relapse_days, adjuvant_chemo_start_days, adjuvant_chemo_end_days)\n",
    "head(clinical_data_relapse)"
   ]
  },
  {
   "cell_type": "code",
   "execution_count": null,
   "id": "11e7e677-fe59-4b14-ad2f-1044ede1abe3",
   "metadata": {},
   "outputs": [],
   "source": [
    "res <-left_join(res, clinical_data_relapse, by=\"patient_id\")\n",
    "head(res)\n",
    "dim(res)"
   ]
  },
  {
   "cell_type": "code",
   "execution_count": null,
   "id": "e7d6de04-42f3-42e7-a727-dcf1fea9cd6d",
   "metadata": {},
   "outputs": [],
   "source": [
    "phase_I_pts = phaseIpt\n",
    "\n",
    "res_min <- NULL\n",
    "for (pt in phase_I_pts){\n",
    "    res_pt <- res %>% filter(patient_id == pt)\n",
    "    res_pt$sample_timepoint_days_since_OP <- as.numeric(res_pt$sample_timepoint_days_since_OP)\n",
    "    \n",
    "    # order based on sample timepoint\n",
    "    res_pt <- res_pt %>% arrange(sample_timepoint_days_since_OP)\n",
    "    head(res_pt)\n",
    "    \n",
    "    # pick first 2\n",
    "    res_pt <- res_pt[1:2, ]\n",
    "    print(dim(res_pt))\n",
    "    \n",
    "    res_pt <- res_pt %>% mutate(sample_label = c(\"pre-op\", \"post-op\"))\n",
    "    \n",
    "    # save to res min\n",
    "    res_min <- rbind(res_min, res_pt)\n",
    "    \n",
    "    }\n",
    "\n",
    "res_min %>% select(patient_id, cfDNA_folder, big_ratio, small_ratio, sample_timepoint_days_since_OP, sample_label) #big_upper_ratio,"
   ]
  },
  {
   "cell_type": "code",
   "execution_count": null,
   "id": "43471ff2-529b-4e29-9a93-0403a12156a5",
   "metadata": {},
   "outputs": [],
   "source": [
    "res_min <- res_min %>% mutate(pre_post_time = ifelse(sample_label == \"pre-op\", 0, sample_timepoint_days_since_OP))"
   ]
  },
  {
   "cell_type": "code",
   "execution_count": null,
   "id": "56236671-9e10-4b67-b008-92e1f291c0a8",
   "metadata": {},
   "outputs": [],
   "source": [
    "options(repr.plot.width=7, repr.plot.height=7)"
   ]
  },
  {
   "cell_type": "code",
   "execution_count": null,
   "id": "3323a80c-0265-4ea7-a096-69390401c907",
   "metadata": {},
   "outputs": [],
   "source": [
    "res_filtered <- res_min %>% select(patient_id, cfDNA_folder, big_ratio, small_ratio, sample_timepoint_days_since_OP, sample_label) #big_upper_ratio,"
   ]
  },
  {
   "cell_type": "code",
   "execution_count": null,
   "id": "8c29ac70-3487-472b-aa99-70e3d6921cb3",
   "metadata": {},
   "outputs": [],
   "source": [
    "normalized_res <- data.frame(matrix(ncol = 8, nrow = 0))\n",
    "colnames(normalized_res) <- c(\"patient_id\", \"cfDNA_folder\", \"big_ratio\", \"small_ratio\", \"sample_timepoint_days_since_OP\", \"sample_label\", \"big_ratio_normalized\", \"small_ratio_normalized\")\n"
   ]
  },
  {
   "cell_type": "code",
   "execution_count": null,
   "id": "9845dc0d-c046-4fed-8336-a66cf16b3d2b",
   "metadata": {},
   "outputs": [],
   "source": [
    "patients = as.character(unique(res_filtered$patient_id))"
   ]
  },
  {
   "cell_type": "code",
   "execution_count": null,
   "id": "87eda5da-14f3-44d6-a693-b677bd76f8fa",
   "metadata": {},
   "outputs": [],
   "source": [
    "for (i in patients){\n",
    "    res_pt <- res_filtered %>% filter(patient_id == i)\n",
    "    \n",
    "    for (x in res_pt$cfDNA_folder){\n",
    "        sample_label_check <- res_pt %>% filter(cfDNA_folder == x)\n",
    "        \n",
    "        if (sample_label_check$sample_label == \"pre-op\"){\n",
    "            pre_val_big = sample_label_check$big_ratio\n",
    "            #pre_val_jaccard = sample_label_check$jaccard\n",
    "            pre_val_small = sample_label_check$small_ratio}}\n",
    "    \n",
    "    for (j in res_pt$cfDNA_folder){\n",
    "        normalized_line <- res_pt %>% filter(cfDNA_folder == j)\n",
    "        #print(normalized_line)\n",
    "        normalized_line <- normalized_line %>% mutate(big_ratio_normalized = big_ratio/pre_val_big, small_ratio_normalized = small_ratio/pre_val_small) #\n",
    "        #print(normalized_line)\n",
    "        normalized_res[nrow(normalized_res)+1,] = c(i, j, normalized_line[3:8])\n",
    "    \n",
    "    }}"
   ]
  },
  {
   "cell_type": "code",
   "execution_count": null,
   "id": "f7ab5fb2-4bc4-4705-be01-e0cc431a0e72",
   "metadata": {},
   "outputs": [],
   "source": [
    "Correlations <- read.csv(\"../data/ci5_cs1e9_correlation.csv\")\n",
    "relapse_label <- Correlations %>% select(cfDNA_sample, Relapse)\n",
    "colnames(relapse_label) <- c(\"cfDNA_folder\", \"Relapse_label\")"
   ]
  },
  {
   "cell_type": "code",
   "execution_count": null,
   "id": "26b88fe0-c523-4916-be8e-ac54db2b5cfd",
   "metadata": {},
   "outputs": [],
   "source": [
    "normalized_res <- left_join(normalized_res, relapse_label, by=\"cfDNA_folder\")"
   ]
  },
  {
   "cell_type": "code",
   "execution_count": null,
   "id": "df68aff9-fa92-446e-a3c4-1ac0a46b8e85",
   "metadata": {},
   "outputs": [],
   "source": [
    "normalized_res <- normalized_res %>% mutate(pre_post_time = ifelse(sample_label == \"pre-op\", 0, sample_timepoint_days_since_OP))"
   ]
  },
  {
   "cell_type": "code",
   "execution_count": null,
   "id": "9adddbc6-1d39-48bd-907c-5c8eb364df5f",
   "metadata": {},
   "outputs": [],
   "source": [
    "quick_plot_big_r_normalized <- ggplot(normalized_res) + geom_line(aes(x = pre_post_time, y = log10(big_ratio_normalized), color = Relapse_label, group=patient_id)) + \n",
    "                                      geom_point(aes(x = pre_post_time, y = log10(big_ratio_normalized), color = Relapse_label)) \n"
   ]
  },
  {
   "cell_type": "code",
   "execution_count": null,
   "id": "b762ef42-1686-4df9-b974-49ed5eb8343f",
   "metadata": {},
   "outputs": [],
   "source": [
    "quick_plot_big_r_normalized"
   ]
  },
  {
   "cell_type": "code",
   "execution_count": null,
   "id": "a1f53374-4fa6-4969-8311-2962dc380703",
   "metadata": {},
   "outputs": [],
   "source": [
    "ggsave(\n",
    "  paste(\"../plotting_results/\", output_folder, \"/pre_post_plots/Normalized_Big_\", filetype, \".png\", sep = \"\"),\n",
    "  quick_plot_big_r_normalized, dpi = \"print\")"
   ]
  },
  {
   "cell_type": "code",
   "execution_count": null,
   "id": "200ae298-d9e1-4760-b52c-68648f6cabb1",
   "metadata": {},
   "outputs": [],
   "source": [
    "#quick_plot_jaccard_normalized <- ggplot(normalized_res) + geom_line(aes(x = pre_post_time, y = log10(jaccard_normalized), color = Relapse_label, group=patient_id)) + \n",
    "#                                      geom_point(aes(x = pre_post_time, y = log10(jaccard_normalized), color = Relapse_label)) + theme(text = element_text(size = 20)) \n",
    "#ggsave(\n",
    "#  paste(\"../plotting_results/\", output_folder, \"/pre_post_plots/Normalized_Jaccard_\", filetype, \".png\", sep = \"\"),\n",
    "#  quick_plot_jaccard_normalized, dpi = \"print\")"
   ]
  },
  {
   "cell_type": "code",
   "execution_count": null,
   "id": "1d3238cc-a7c2-4c32-8a54-1e6a0f355a0a",
   "metadata": {},
   "outputs": [],
   "source": [
    "#quick_plot_jaccard_normalized"
   ]
  },
  {
   "cell_type": "code",
   "execution_count": null,
   "id": "747de709-c8f8-41d3-9565-12ef0c0205cd",
   "metadata": {},
   "outputs": [],
   "source": [
    "quick_plot_small_r_normalized <- ggplot(normalized_res %>% filter(patient_id != low_qual_sample)) + geom_line(aes(x = pre_post_time, y = log10(small_ratio_normalized), color = Relapse_label, group=patient_id), size = 1) + \n",
    "                                      geom_point(aes(x = pre_post_time, y = log10(small_ratio_normalized), color = Relapse_label), size = 2) + \n",
    "    theme_minimal() + \n",
    "    theme(text = element_text(size = 16)) + \n",
    "    xlab(\"Sample time point (days since surgery)\")  + ylab(\"log10((UT kmers in cfDNA / UT kmers)\") + \n",
    "    scale_color_manual(values=c('#00BFC4', '#F8766D'), labels = c(\"No relapse\", \"Relapse\"))\n",
    "    #+ \n",
    "    #ggtitle(\"Fraction of unique tumor k-mers found in cfDNA,\\nnormalized by the pre-op sample (low quality sample removed)\")\n"
   ]
  },
  {
   "cell_type": "code",
   "execution_count": null,
   "id": "c47dc564-d796-4622-ad9a-eb965b3209c1",
   "metadata": {},
   "outputs": [],
   "source": [
    "quick_plot_small_r_normalized"
   ]
  },
  {
   "cell_type": "code",
   "execution_count": null,
   "id": "d2595932-0d90-46d5-ac37-7a2da150a01e",
   "metadata": {},
   "outputs": [],
   "source": [
    "ggsave(\n",
    "  paste(\"../plotting_results/\", output_folder, \"/pre_post_plots/Normalized_Small_\", filetype, \".png\", sep = \"\"),\n",
    "  quick_plot_small_r_normalized, dpi = \"print\")"
   ]
  },
  {
   "cell_type": "code",
   "execution_count": null,
   "id": "259232cd-36f0-4275-bb02-844fe88d17e3",
   "metadata": {},
   "outputs": [],
   "source": [
    "normalized_res"
   ]
  },
  {
   "cell_type": "code",
   "execution_count": null,
   "id": "b1f14712-a7c5-40f7-afef-2adf1541f688",
   "metadata": {},
   "outputs": [],
   "source": [
    "quick_plot_big_r_ <- ggplot(normalized_res) + geom_line(aes(x = pre_post_time, y = big_ratio, color = Relapse_label, group=patient_id)) + \n",
    "                                      geom_point(aes(x = pre_post_time, y = big_ratio, color = Relapse_label)) + theme(text = element_text(size = 20)) \n",
    "ggsave(\n",
    "  paste(\"../plotting_results/\", output_folder, \"/pre_post_plots/Big_\", filetype, \".png\", sep = \"\"),\n",
    "  quick_plot_big_r_, dpi = \"print\")"
   ]
  },
  {
   "cell_type": "code",
   "execution_count": null,
   "id": "2f5c26a3-d1ae-42b5-9788-0cb4da3acd99",
   "metadata": {},
   "outputs": [],
   "source": [
    "quick_plot_big_r_"
   ]
  },
  {
   "cell_type": "code",
   "execution_count": null,
   "id": "a12f942f-71d9-4d2e-8338-b42593243d43",
   "metadata": {},
   "outputs": [],
   "source": [
    "#quick_plot_jaccard <- ggplot(normalized_res %>% filter(patient_id != low_qual_sample)) + geom_line(aes(x = pre_post_time, y = jaccard, color = Relapse_label, group=patient_id)) + \n",
    "#                                               geom_point(aes(x = pre_post_time, y = jaccard, color = Relapse_label)) + theme(text = element_text(size = 20)) \n"
   ]
  },
  {
   "cell_type": "code",
   "execution_count": null,
   "id": "7cc84ab9-1f9b-4f38-8f62-62cb9cfbb65a",
   "metadata": {},
   "outputs": [],
   "source": [
    "#quick_plot_jaccard"
   ]
  },
  {
   "cell_type": "code",
   "execution_count": null,
   "id": "25b47a1d-66cb-4a95-b145-603fd1f72119",
   "metadata": {},
   "outputs": [],
   "source": [
    "quick_plot_small_r <- ggplot(normalized_res) + geom_line(aes(x = pre_post_time, y = small_ratio, color = Relapse_label, group=patient_id)) + \n",
    "                                      geom_point(aes(x = pre_post_time, y = small_ratio, color = Relapse_label)) + theme(text = element_text(size = 20)) \n",
    "ggsave(\n",
    "  paste(\"../plotting_results/\", output_folder, \"/pre_post_plots/Small_\", filetype, \".png\", sep = \"\"),\n",
    "  quick_plot_small_r, dpi = \"print\")"
   ]
  },
  {
   "cell_type": "code",
   "execution_count": null,
   "id": "2ec793d8-b3cf-477d-8cdc-7583616ee1b0",
   "metadata": {},
   "outputs": [],
   "source": [
    "quick_plot_small_r"
   ]
  },
  {
   "cell_type": "code",
   "execution_count": null,
   "id": "d82aa7ef-a1ae-4abc-8ec1-0b9be4f2620d",
   "metadata": {},
   "outputs": [],
   "source": []
  },
  {
   "cell_type": "code",
   "execution_count": null,
   "id": "42ac47c1-d7c5-4292-9571-30a10b90f979",
   "metadata": {},
   "outputs": [],
   "source": []
  },
  {
   "cell_type": "code",
   "execution_count": null,
   "id": "7ce0fe95-1f14-4dd8-84b5-4092a799b882",
   "metadata": {},
   "outputs": [],
   "source": []
  },
  {
   "cell_type": "code",
   "execution_count": null,
   "id": "8e2006e9-e03b-4d43-a298-2f0eaab2e8fb",
   "metadata": {},
   "outputs": [],
   "source": []
  },
  {
   "cell_type": "code",
   "execution_count": null,
   "id": "3ae5dedc-7a7d-4bb9-bb65-dd159850bcbb",
   "metadata": {},
   "outputs": [],
   "source": []
  }
 ],
 "metadata": {
  "kernelspec": {
   "display_name": "R",
   "language": "R",
   "name": "ir"
  },
  "language_info": {
   "codemirror_mode": "r",
   "file_extension": ".r",
   "mimetype": "text/x-r-source",
   "name": "R",
   "pygments_lexer": "r",
   "version": "3.6.1"
  }
 },
 "nbformat": 4,
 "nbformat_minor": 5
}
