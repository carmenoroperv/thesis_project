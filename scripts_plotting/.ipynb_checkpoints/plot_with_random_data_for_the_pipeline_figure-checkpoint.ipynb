{
 "cells": [
  {
   "cell_type": "code",
   "execution_count": 5,
   "id": "e4819d28-5229-4f25-aac2-a7ac4e9e97fa",
   "metadata": {},
   "outputs": [],
   "source": [
    "library(dplyr)\n",
    "library(ggplot2)"
   ]
  },
  {
   "cell_type": "code",
   "execution_count": 63,
   "id": "58a93a4c-41a8-4560-b40c-8cef22447e15",
   "metadata": {},
   "outputs": [],
   "source": [
    "x <- c(-30, 0, 3, 50, 70, 120, 200, 250, 270, 300, 370)\n",
    "y <- c(0.20, 0.20, 0.12, 0.12, 0.13, 0.14, 0.15, 0.15, 0.17, 0.18, 0.20)"
   ]
  },
  {
   "cell_type": "code",
   "execution_count": 64,
   "id": "983cf7e7-ac62-4db7-aac9-caa3ab49f1a0",
   "metadata": {},
   "outputs": [],
   "source": [
    "data = data.frame(x,y)"
   ]
  },
  {
   "cell_type": "code",
   "execution_count": 65,
   "id": "95d880dd-52f8-4e8e-a5df-5be0f6aa9d82",
   "metadata": {},
   "outputs": [
    {
     "data": {
      "text/html": [
       "<table>\n",
       "<thead><tr><th scope=col>x</th><th scope=col>y</th></tr></thead>\n",
       "<tbody>\n",
       "\t<tr><td>-30 </td><td>0.20</td></tr>\n",
       "\t<tr><td>  0 </td><td>0.20</td></tr>\n",
       "\t<tr><td>  3 </td><td>0.12</td></tr>\n",
       "\t<tr><td> 50 </td><td>0.12</td></tr>\n",
       "\t<tr><td> 70 </td><td>0.13</td></tr>\n",
       "\t<tr><td>120 </td><td>0.14</td></tr>\n",
       "\t<tr><td>200 </td><td>0.15</td></tr>\n",
       "\t<tr><td>250 </td><td>0.15</td></tr>\n",
       "\t<tr><td>270 </td><td>0.17</td></tr>\n",
       "\t<tr><td>300 </td><td>0.18</td></tr>\n",
       "\t<tr><td>370 </td><td>0.20</td></tr>\n",
       "</tbody>\n",
       "</table>\n"
      ],
      "text/latex": [
       "\\begin{tabular}{r|ll}\n",
       " x & y\\\\\n",
       "\\hline\n",
       "\t -30  & 0.20\\\\\n",
       "\t   0  & 0.20\\\\\n",
       "\t   3  & 0.12\\\\\n",
       "\t  50  & 0.12\\\\\n",
       "\t  70  & 0.13\\\\\n",
       "\t 120  & 0.14\\\\\n",
       "\t 200  & 0.15\\\\\n",
       "\t 250  & 0.15\\\\\n",
       "\t 270  & 0.17\\\\\n",
       "\t 300  & 0.18\\\\\n",
       "\t 370  & 0.20\\\\\n",
       "\\end{tabular}\n"
      ],
      "text/markdown": [
       "\n",
       "| x | y |\n",
       "|---|---|\n",
       "| -30  | 0.20 |\n",
       "|   0  | 0.20 |\n",
       "|   3  | 0.12 |\n",
       "|  50  | 0.12 |\n",
       "|  70  | 0.13 |\n",
       "| 120  | 0.14 |\n",
       "| 200  | 0.15 |\n",
       "| 250  | 0.15 |\n",
       "| 270  | 0.17 |\n",
       "| 300  | 0.18 |\n",
       "| 370  | 0.20 |\n",
       "\n"
      ],
      "text/plain": [
       "   x   y   \n",
       "1  -30 0.20\n",
       "2    0 0.20\n",
       "3    3 0.12\n",
       "4   50 0.12\n",
       "5   70 0.13\n",
       "6  120 0.14\n",
       "7  200 0.15\n",
       "8  250 0.15\n",
       "9  270 0.17\n",
       "10 300 0.18\n",
       "11 370 0.20"
      ]
     },
     "metadata": {},
     "output_type": "display_data"
    }
   ],
   "source": [
    "data"
   ]
  },
  {
   "cell_type": "code",
   "execution_count": 70,
   "id": "e19abc4c-992d-4e5d-a821-67776bd1ba15",
   "metadata": {},
   "outputs": [
    {
     "data": {
      "image/png": "[encoded data removed]",
      "text/plain": [
       "plot without title"
      ]
     },
     "metadata": {},
     "output_type": "display_data"
    }
   ],
   "source": [
    "ggplot(aes(x=x, y=y), data = data)+geom_line()+xlab(\"Days\") + ylab(\"Tumor fraction\")+geom_vline(xintercept = 0, color = \"red\")+\n",
    "geom_text(aes(x=30, label=\"Surgery\", y=0.21), colour=\"red\")+ theme_classic() +\n",
    "theme(aspect.ratio=3/10)\n",
    " "
   ]
  },
  {
   "cell_type": "code",
   "execution_count": null,
   "id": "1e7bb261-fbc8-49a6-923a-1f31235b7d2a",
   "metadata": {},
   "outputs": [],
   "source": []
  }
 ],
 "metadata": {
  "kernelspec": {
   "display_name": "R",
   "language": "R",
   "name": "ir"
  },
  "language_info": {
   "codemirror_mode": "r",
   "file_extension": ".r",
   "mimetype": "text/x-r-source",
   "name": "R",
   "pygments_lexer": "r",
   "version": "3.6.1"
  }
 },
 "nbformat": 4,
 "nbformat_minor": 5
}
