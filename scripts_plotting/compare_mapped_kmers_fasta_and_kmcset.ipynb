{
 "cells": [
  {
   "cell_type": "code",
   "execution_count": 1,
   "id": "bca8e091-f2b2-4e14-9ecd-96d55cf477fb",
   "metadata": {},
   "outputs": [
    {
     "name": "stderr",
     "output_type": "stream",
     "text": [
      "Registered S3 methods overwritten by 'ggplot2':\n",
      "  method         from \n",
      "  [.quosures     rlang\n",
      "  c.quosures     rlang\n",
      "  print.quosures rlang\n",
      "Registered S3 method overwritten by 'rvest':\n",
      "  method            from\n",
      "  read_xml.response xml2\n",
      "── Attaching packages ─────────────────────────────────────────────────────────────────────────────── tidyverse 1.2.1 ──\n",
      "✔ ggplot2 3.1.1     ✔ purrr   0.3.4\n",
      "✔ tibble  3.1.4     ✔ dplyr   1.0.7\n",
      "✔ tidyr   1.1.3     ✔ stringr 1.4.0\n",
      "✔ readr   1.3.1     ✔ forcats 0.4.0\n",
      "── Conflicts ────────────────────────────────────────────────────────────────────────────────── tidyverse_conflicts() ──\n",
      "✖ dplyr::filter() masks stats::filter()\n",
      "✖ dplyr::lag()    masks stats::lag()\n",
      "Updating HTML index of packages in '.Library'\n",
      "Making 'packages.html' ... done\n",
      "\n",
      "Attaching package: ‘seqinr’\n",
      "\n",
      "The following object is masked from ‘package:dplyr’:\n",
      "\n",
      "    count\n",
      "\n"
     ]
    }
   ],
   "source": [
    "library(tidyverse)\n",
    "install.packages('seqinr')\n",
    "library(seqinr)"
   ]
  },
  {
   "cell_type": "code",
   "execution_count": 2,
   "id": "8bf1fbb7-a039-488d-8349-849ac4a1aa1f",
   "metadata": {},
   "outputs": [],
   "source": [
    "fasta <- read.fasta(\"../data/C05118/C146T05118D_frfr_N295-461/all_germline_filtered_bams_tumor_ci5_cs1e9/mapping_to_reference/unique_tumor_kmers.fa\",\n",
    "                   as.string = TRUE, forceDNAtolower = FALSE, set.attributes = FALSE)"
   ]
  },
  {
   "cell_type": "code",
   "execution_count": 3,
   "id": "f52729c2-afb0-4fd7-b9ed-6a6a62f37a74",
   "metadata": {},
   "outputs": [
    {
     "data": {
      "text/html": [
       "<strong>$index0</strong> = 'AAAAAAAAAAAAAAAAAAAAAAAAAAAAAAAAAAAAAAGTTAATTGTTTC'"
      ],
      "text/latex": [
       "\\textbf{\\$index0} = 'AAAAAAAAAAAAAAAAAAAAAAAAAAAAAAAAAAAAAAGTTAATTGTTTC'"
      ],
      "text/markdown": [
       "**$index0** = 'AAAAAAAAAAAAAAAAAAAAAAAAAAAAAAAAAAAAAAGTTAATTGTTTC'"
      ],
      "text/plain": [
       "$index0\n",
       "[1] \"AAAAAAAAAAAAAAAAAAAAAAAAAAAAAAAAAAAAAAGTTAATTGTTTC\"\n"
      ]
     },
     "metadata": {},
     "output_type": "display_data"
    }
   ],
   "source": [
    "fasta[1]"
   ]
  },
  {
   "cell_type": "code",
   "execution_count": 4,
   "id": "5201d272-d262-4fe8-a004-1c0f56f2d71a",
   "metadata": {},
   "outputs": [],
   "source": [
    "df_fasta <- as.data.frame(do.call(rbind, fasta))"
   ]
  },
  {
   "cell_type": "code",
   "execution_count": 5,
   "id": "64a69bba-5d4a-422f-840d-4b6cb1ccc698",
   "metadata": {},
   "outputs": [
    {
     "data": {
      "text/html": [
       "<table>\n",
       "<thead><tr><th></th><th scope=col>V1</th></tr></thead>\n",
       "<tbody>\n",
       "\t<tr><th scope=row>index0</th><td>AAAAAAAAAAAAAAAAAAAAAAAAAAAAAAAAAAAAAAGTTAATTGTTTC</td></tr>\n",
       "\t<tr><th scope=row>index1</th><td>AAAAAAAAAAAAAAAAAAAAAAAAAAAAAAAAAAAAAGTTAATTGTTTCA</td></tr>\n",
       "\t<tr><th scope=row>index2</th><td>AAAAAAAAAAAAAAAAAAAAAAAAAAAAAAAAAAAAGTTAATTGTTTCAT</td></tr>\n",
       "\t<tr><th scope=row>index3</th><td>AAAAAAAAAAAAAAAGAAAAAAGTATGCAGTGCTGGGGAGACAGCAATTG</td></tr>\n",
       "\t<tr><th scope=row>index4</th><td>AAAAAAAAAAAAAAATAGCCCTGGCCAGGTGCATTGGCTCATGCCTGTAA</td></tr>\n",
       "\t<tr><th scope=row>index5</th><td>AAAAAAAAAAAAAAGAAAAAAGTATGCAGTGCTGGGGAGACAGCAATTGA</td></tr>\n",
       "</tbody>\n",
       "</table>\n"
      ],
      "text/latex": [
       "\\begin{tabular}{r|l}\n",
       "  & V1\\\\\n",
       "\\hline\n",
       "\tindex0 & AAAAAAAAAAAAAAAAAAAAAAAAAAAAAAAAAAAAAAGTTAATTGTTTC\\\\\n",
       "\tindex1 & AAAAAAAAAAAAAAAAAAAAAAAAAAAAAAAAAAAAAGTTAATTGTTTCA\\\\\n",
       "\tindex2 & AAAAAAAAAAAAAAAAAAAAAAAAAAAAAAAAAAAAGTTAATTGTTTCAT\\\\\n",
       "\tindex3 & AAAAAAAAAAAAAAAGAAAAAAGTATGCAGTGCTGGGGAGACAGCAATTG\\\\\n",
       "\tindex4 & AAAAAAAAAAAAAAATAGCCCTGGCCAGGTGCATTGGCTCATGCCTGTAA\\\\\n",
       "\tindex5 & AAAAAAAAAAAAAAGAAAAAAGTATGCAGTGCTGGGGAGACAGCAATTGA\\\\\n",
       "\\end{tabular}\n"
      ],
      "text/markdown": [
       "\n",
       "| <!--/--> | V1 |\n",
       "|---|---|\n",
       "| index0 | AAAAAAAAAAAAAAAAAAAAAAAAAAAAAAAAAAAAAAGTTAATTGTTTC |\n",
       "| index1 | AAAAAAAAAAAAAAAAAAAAAAAAAAAAAAAAAAAAAGTTAATTGTTTCA |\n",
       "| index2 | AAAAAAAAAAAAAAAAAAAAAAAAAAAAAAAAAAAAGTTAATTGTTTCAT |\n",
       "| index3 | AAAAAAAAAAAAAAAGAAAAAAGTATGCAGTGCTGGGGAGACAGCAATTG |\n",
       "| index4 | AAAAAAAAAAAAAAATAGCCCTGGCCAGGTGCATTGGCTCATGCCTGTAA |\n",
       "| index5 | AAAAAAAAAAAAAAGAAAAAAGTATGCAGTGCTGGGGAGACAGCAATTGA |\n",
       "\n"
      ],
      "text/plain": [
       "       V1                                                \n",
       "index0 AAAAAAAAAAAAAAAAAAAAAAAAAAAAAAAAAAAAAAGTTAATTGTTTC\n",
       "index1 AAAAAAAAAAAAAAAAAAAAAAAAAAAAAAAAAAAAAGTTAATTGTTTCA\n",
       "index2 AAAAAAAAAAAAAAAAAAAAAAAAAAAAAAAAAAAAGTTAATTGTTTCAT\n",
       "index3 AAAAAAAAAAAAAAAGAAAAAAGTATGCAGTGCTGGGGAGACAGCAATTG\n",
       "index4 AAAAAAAAAAAAAAATAGCCCTGGCCAGGTGCATTGGCTCATGCCTGTAA\n",
       "index5 AAAAAAAAAAAAAAGAAAAAAGTATGCAGTGCTGGGGAGACAGCAATTGA"
      ]
     },
     "metadata": {},
     "output_type": "display_data"
    }
   ],
   "source": [
    "head(df_fasta)"
   ]
  },
  {
   "cell_type": "code",
   "execution_count": 6,
   "id": "2c825306-8833-4d94-850c-2414994cf979",
   "metadata": {},
   "outputs": [],
   "source": [
    "df_fasta <- tibble::rownames_to_column(df_fasta, \"index\")"
   ]
  },
  {
   "cell_type": "code",
   "execution_count": 7,
   "id": "6c136077-4c6a-4cf4-a068-6d04c0e22629",
   "metadata": {},
   "outputs": [],
   "source": [
    "colnames(df_fasta) <- c(\"index\", \"kmer\")"
   ]
  },
  {
   "cell_type": "code",
   "execution_count": 8,
   "id": "1ffc3e79-d72b-4d6e-8829-044d59c0200e",
   "metadata": {},
   "outputs": [
    {
     "data": {
      "text/html": [
       "<table>\n",
       "<thead><tr><th scope=col>index</th><th scope=col>kmer</th></tr></thead>\n",
       "<tbody>\n",
       "\t<tr><td>index0                                            </td><td>AAAAAAAAAAAAAAAAAAAAAAAAAAAAAAAAAAAAAAGTTAATTGTTTC</td></tr>\n",
       "\t<tr><td>index1                                            </td><td>AAAAAAAAAAAAAAAAAAAAAAAAAAAAAAAAAAAAAGTTAATTGTTTCA</td></tr>\n",
       "\t<tr><td>index2                                            </td><td>AAAAAAAAAAAAAAAAAAAAAAAAAAAAAAAAAAAAGTTAATTGTTTCAT</td></tr>\n",
       "\t<tr><td>index3                                            </td><td>AAAAAAAAAAAAAAAGAAAAAAGTATGCAGTGCTGGGGAGACAGCAATTG</td></tr>\n",
       "\t<tr><td>index4                                            </td><td>AAAAAAAAAAAAAAATAGCCCTGGCCAGGTGCATTGGCTCATGCCTGTAA</td></tr>\n",
       "\t<tr><td>index5                                            </td><td>AAAAAAAAAAAAAAGAAAAAAGTATGCAGTGCTGGGGAGACAGCAATTGA</td></tr>\n",
       "</tbody>\n",
       "</table>\n"
      ],
      "text/latex": [
       "\\begin{tabular}{r|ll}\n",
       " index & kmer\\\\\n",
       "\\hline\n",
       "\t index0                                             & AAAAAAAAAAAAAAAAAAAAAAAAAAAAAAAAAAAAAAGTTAATTGTTTC\\\\\n",
       "\t index1                                             & AAAAAAAAAAAAAAAAAAAAAAAAAAAAAAAAAAAAAGTTAATTGTTTCA\\\\\n",
       "\t index2                                             & AAAAAAAAAAAAAAAAAAAAAAAAAAAAAAAAAAAAGTTAATTGTTTCAT\\\\\n",
       "\t index3                                             & AAAAAAAAAAAAAAAGAAAAAAGTATGCAGTGCTGGGGAGACAGCAATTG\\\\\n",
       "\t index4                                             & AAAAAAAAAAAAAAATAGCCCTGGCCAGGTGCATTGGCTCATGCCTGTAA\\\\\n",
       "\t index5                                             & AAAAAAAAAAAAAAGAAAAAAGTATGCAGTGCTGGGGAGACAGCAATTGA\\\\\n",
       "\\end{tabular}\n"
      ],
      "text/markdown": [
       "\n",
       "| index | kmer |\n",
       "|---|---|\n",
       "| index0                                             | AAAAAAAAAAAAAAAAAAAAAAAAAAAAAAAAAAAAAAGTTAATTGTTTC |\n",
       "| index1                                             | AAAAAAAAAAAAAAAAAAAAAAAAAAAAAAAAAAAAAGTTAATTGTTTCA |\n",
       "| index2                                             | AAAAAAAAAAAAAAAAAAAAAAAAAAAAAAAAAAAAGTTAATTGTTTCAT |\n",
       "| index3                                             | AAAAAAAAAAAAAAAGAAAAAAGTATGCAGTGCTGGGGAGACAGCAATTG |\n",
       "| index4                                             | AAAAAAAAAAAAAAATAGCCCTGGCCAGGTGCATTGGCTCATGCCTGTAA |\n",
       "| index5                                             | AAAAAAAAAAAAAAGAAAAAAGTATGCAGTGCTGGGGAGACAGCAATTGA |\n",
       "\n"
      ],
      "text/plain": [
       "  index  kmer                                              \n",
       "1 index0 AAAAAAAAAAAAAAAAAAAAAAAAAAAAAAAAAAAAAAGTTAATTGTTTC\n",
       "2 index1 AAAAAAAAAAAAAAAAAAAAAAAAAAAAAAAAAAAAAGTTAATTGTTTCA\n",
       "3 index2 AAAAAAAAAAAAAAAAAAAAAAAAAAAAAAAAAAAAGTTAATTGTTTCAT\n",
       "4 index3 AAAAAAAAAAAAAAAGAAAAAAGTATGCAGTGCTGGGGAGACAGCAATTG\n",
       "5 index4 AAAAAAAAAAAAAAATAGCCCTGGCCAGGTGCATTGGCTCATGCCTGTAA\n",
       "6 index5 AAAAAAAAAAAAAAGAAAAAAGTATGCAGTGCTGGGGAGACAGCAATTGA"
      ]
     },
     "metadata": {},
     "output_type": "display_data"
    },
    {
     "data": {
      "text/html": [
       "<ol class=list-inline>\n",
       "\t<li>567681</li>\n",
       "\t<li>2</li>\n",
       "</ol>\n"
      ],
      "text/latex": [
       "\\begin{enumerate*}\n",
       "\\item 567681\n",
       "\\item 2\n",
       "\\end{enumerate*}\n"
      ],
      "text/markdown": [
       "1. 567681\n",
       "2. 2\n",
       "\n",
       "\n"
      ],
      "text/plain": [
       "[1] 567681      2"
      ]
     },
     "metadata": {},
     "output_type": "display_data"
    }
   ],
   "source": [
    "head(df_fasta)\n",
    "dim(df_fasta)"
   ]
  },
  {
   "cell_type": "code",
   "execution_count": 9,
   "id": "92d25635-786b-4151-9ecb-84be0ac82a4b",
   "metadata": {},
   "outputs": [
    {
     "data": {
      "text/html": [
       "<table>\n",
       "<thead><tr><th scope=col>V1</th><th scope=col>V2</th></tr></thead>\n",
       "<tbody>\n",
       "\t<tr><td>AAAAAAAAAAAAATTTTAAAAAACACAGTTTTCTTGGTCATTACGGATTA</td><td>1                                                 </td></tr>\n",
       "\t<tr><td>AAAAAAAAAAAATTTTAAAAAACACAGTTTTCTTGGTCATTACGGATTAA</td><td>1                                                 </td></tr>\n",
       "\t<tr><td>AAAAAAAAAAATTTTAAAAAACACAGTTTTCTTGGTCATTACGGATTAAA</td><td>1                                                 </td></tr>\n",
       "\t<tr><td>AAAAAAAAAACTTGCAATCCCAACACTCAGAGATAAACCTGGAATTTTTT</td><td>1                                                 </td></tr>\n",
       "\t<tr><td>AAAAAAAAAAGTTGGATTTTATCCAGAGTGTTAAGGCATGAATTAAAGTT</td><td>1                                                 </td></tr>\n",
       "\t<tr><td>AAAAAAAAAATTTTAAAAAACACAGTTTTCTTGGTCATTACGGATTAAAA</td><td>1                                                 </td></tr>\n",
       "</tbody>\n",
       "</table>\n"
      ],
      "text/latex": [
       "\\begin{tabular}{r|ll}\n",
       " V1 & V2\\\\\n",
       "\\hline\n",
       "\t AAAAAAAAAAAAATTTTAAAAAACACAGTTTTCTTGGTCATTACGGATTA & 1                                                 \\\\\n",
       "\t AAAAAAAAAAAATTTTAAAAAACACAGTTTTCTTGGTCATTACGGATTAA & 1                                                 \\\\\n",
       "\t AAAAAAAAAAATTTTAAAAAACACAGTTTTCTTGGTCATTACGGATTAAA & 1                                                 \\\\\n",
       "\t AAAAAAAAAACTTGCAATCCCAACACTCAGAGATAAACCTGGAATTTTTT & 1                                                 \\\\\n",
       "\t AAAAAAAAAAGTTGGATTTTATCCAGAGTGTTAAGGCATGAATTAAAGTT & 1                                                 \\\\\n",
       "\t AAAAAAAAAATTTTAAAAAACACAGTTTTCTTGGTCATTACGGATTAAAA & 1                                                 \\\\\n",
       "\\end{tabular}\n"
      ],
      "text/markdown": [
       "\n",
       "| V1 | V2 |\n",
       "|---|---|\n",
       "| AAAAAAAAAAAAATTTTAAAAAACACAGTTTTCTTGGTCATTACGGATTA | 1                                                  |\n",
       "| AAAAAAAAAAAATTTTAAAAAACACAGTTTTCTTGGTCATTACGGATTAA | 1                                                  |\n",
       "| AAAAAAAAAAATTTTAAAAAACACAGTTTTCTTGGTCATTACGGATTAAA | 1                                                  |\n",
       "| AAAAAAAAAACTTGCAATCCCAACACTCAGAGATAAACCTGGAATTTTTT | 1                                                  |\n",
       "| AAAAAAAAAAGTTGGATTTTATCCAGAGTGTTAAGGCATGAATTAAAGTT | 1                                                  |\n",
       "| AAAAAAAAAATTTTAAAAAACACAGTTTTCTTGGTCATTACGGATTAAAA | 1                                                  |\n",
       "\n"
      ],
      "text/plain": [
       "  V1                                                 V2\n",
       "1 AAAAAAAAAAAAATTTTAAAAAACACAGTTTTCTTGGTCATTACGGATTA 1 \n",
       "2 AAAAAAAAAAAATTTTAAAAAACACAGTTTTCTTGGTCATTACGGATTAA 1 \n",
       "3 AAAAAAAAAAATTTTAAAAAACACAGTTTTCTTGGTCATTACGGATTAAA 1 \n",
       "4 AAAAAAAAAACTTGCAATCCCAACACTCAGAGATAAACCTGGAATTTTTT 1 \n",
       "5 AAAAAAAAAAGTTGGATTTTATCCAGAGTGTTAAGGCATGAATTAAAGTT 1 \n",
       "6 AAAAAAAAAATTTTAAAAAACACAGTTTTCTTGGTCATTACGGATTAAAA 1 "
      ]
     },
     "metadata": {},
     "output_type": "display_data"
    }
   ],
   "source": [
    "#321476 - kmc\n",
    "#321555 - fasta\n",
    "\n",
    "df_kmc <- read.table(\"../data/C05118/C146T05118D_frfr_N295-461/all_germline_filtered_bams_tumor_ci5_cs1e9/mapping_to_reference/dump_kmers_mapping_w_01_mismatches.txt\", sep = \"\\t\", header = FALSE)\n",
    "head(df_kmc)"
   ]
  },
  {
   "cell_type": "code",
   "execution_count": 10,
   "id": "7d5d8a31-bfdd-4ae0-accf-74459dafcace",
   "metadata": {},
   "outputs": [],
   "source": [
    "colnames(df_kmc) <- c(\"kmer\", \"count\")"
   ]
  },
  {
   "cell_type": "code",
   "execution_count": 11,
   "id": "28c18b86-3b23-4138-89fd-dc5ede41ed4c",
   "metadata": {},
   "outputs": [
    {
     "data": {
      "text/html": [
       "<table>\n",
       "<thead><tr><th scope=col>kmer</th><th scope=col>count</th></tr></thead>\n",
       "<tbody>\n",
       "</tbody>\n",
       "</table>\n"
      ],
      "text/latex": [
       "\\begin{tabular}{r|ll}\n",
       " kmer & count\\\\\n",
       "\\hline\n",
       "\\end{tabular}\n"
      ],
      "text/markdown": [
       "\n",
       "| kmer | count |\n",
       "|---|---|\n",
       "\n"
      ],
      "text/plain": [
       "     kmer count"
      ]
     },
     "metadata": {},
     "output_type": "display_data"
    }
   ],
   "source": [
    "df_kmc %>% filter(count != 1)"
   ]
  },
  {
   "cell_type": "code",
   "execution_count": 12,
   "id": "2dcbbdc0-6baa-4902-aece-a0b966a5053d",
   "metadata": {},
   "outputs": [
    {
     "name": "stdout",
     "output_type": "stream",
     "text": [
      "'data.frame':\t567681 obs. of  2 variables:\n",
      " $ index: chr  \"index0\" \"index1\" \"index2\" \"index3\" ...\n",
      " $ kmer : Factor w/ 567681 levels \"AAAAAAAAAAAAAAAAAAAAAAAAAAAAAAAAAAAAAAGTTAATTGTTTC\",..: 1 2 3 4 5 6 7 8 9 10 ...\n",
      "  ..- attr(*, \"names\")= chr  \"index0\" \"index1\" \"index2\" \"index3\" ...\n",
      "'data.frame':\t479246 obs. of  2 variables:\n",
      " $ kmer : Factor w/ 479246 levels \"AAAAAAAAAAAAAATAGCCCTGGCCAGGTGCATTGGCTCATGCCTGTAAT\",..: 4 10 23 29 34 50 62 67 68 86 ...\n",
      " $ count: int  1 1 1 1 1 1 1 1 1 1 ...\n"
     ]
    }
   ],
   "source": [
    "str(df_fasta)\n",
    "str(df_kmc)\n",
    "\n",
    "df_kmc$kmer <- as.character(df_kmc$kmer)\n",
    "df_fasta$kmer <- as.character(df_fasta$kmer)"
   ]
  },
  {
   "cell_type": "code",
   "execution_count": 13,
   "id": "95f619e2-4fd1-4d05-88f0-64dfd2891b5c",
   "metadata": {},
   "outputs": [
    {
     "data": {
      "text/html": [
       "0"
      ],
      "text/latex": [
       "0"
      ],
      "text/markdown": [
       "0"
      ],
      "text/plain": [
       "[1] 0"
      ]
     },
     "metadata": {},
     "output_type": "display_data"
    }
   ],
   "source": [
    "diff <- setdiff(df_kmc$kmer, df_fasta$kmer)\n",
    "length(diff)"
   ]
  },
  {
   "cell_type": "code",
   "execution_count": 14,
   "id": "17da526b-9fc0-4cde-9daa-20194ef846d4",
   "metadata": {},
   "outputs": [],
   "source": [
    "for (i in diff){\n",
    "    print(i)\n",
    "    print(nchar(i))\n",
    "}"
   ]
  },
  {
   "cell_type": "code",
   "execution_count": 29,
   "id": "03ab344c-a603-4e51-8b05-4596576c110f",
   "metadata": {},
   "outputs": [
    {
     "data": {
      "text/html": [
       "79"
      ],
      "text/latex": [
       "79"
      ],
      "text/markdown": [
       "79"
      ],
      "text/plain": [
       "[1] 79"
      ]
     },
     "metadata": {},
     "output_type": "display_data"
    }
   ],
   "source": [
    "321555 - 321476"
   ]
  },
  {
   "cell_type": "code",
   "execution_count": 48,
   "id": "6c5c752b-128e-46b6-948a-655556c96816",
   "metadata": {},
   "outputs": [
    {
     "data": {
      "text/html": [
       "'J'"
      ],
      "text/latex": [
       "'J'"
      ],
      "text/markdown": [
       "'J'"
      ],
      "text/plain": [
       "[1] \"J\""
      ]
     },
     "metadata": {},
     "output_type": "display_data"
    }
   ],
   "source": [
    "x <- c(\"B\",\"X\",\"K\",\"J\")\n",
    "y <- c(\"K\",\"X\",\"B\",\"A\")\n",
    "setdiff(x, y)"
   ]
  },
  {
   "cell_type": "code",
   "execution_count": null,
   "id": "cab96f95-96e5-4938-9e8a-c8741ca3275f",
   "metadata": {},
   "outputs": [],
   "source": []
  }
 ],
 "metadata": {
  "kernelspec": {
   "display_name": "R",
   "language": "R",
   "name": "ir"
  },
  "language_info": {
   "codemirror_mode": "r",
   "file_extension": ".r",
   "mimetype": "text/x-r-source",
   "name": "R",
   "pygments_lexer": "r",
   "version": "3.6.1"
  }
 },
 "nbformat": 4,
 "nbformat_minor": 5
}
