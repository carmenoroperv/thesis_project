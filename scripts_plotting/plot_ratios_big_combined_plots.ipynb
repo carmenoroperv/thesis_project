{
 "cells": [
  {
   "cell_type": "code",
   "execution_count": null,
   "id": "71e68840-29c2-40fc-a62d-ea179bdcec2d",
   "metadata": {},
   "outputs": [],
   "source": [
    "library(tidyverse)\n",
    "library(stringr) \n",
    "library(plotly)"
   ]
  },
  {
   "cell_type": "code",
   "execution_count": null,
   "id": "e193650f-52ee-4265-9b53-912c1bd270c5",
   "metadata": {},
   "outputs": [],
   "source": [
    "##############################################################################\n",
    "\n",
    "##########################     INPUT PARAMETERS    ###########################\n",
    "\n",
    "##############################################################################\n",
    "\n",
    "\n",
    "\n",
    "# filetype = # \"ratio_all_germline_singletons_excluded_tumor_4_cs\" # # \"ratio_singletons_excluded_tumor_4_cs\" # \"ratio\" ratio_cs1e9\n",
    "filetype = \"ratio_cs1e9\"\n",
    "\n",
    "# input_folder =   \"ci5_cs1e9\" # \"all_germline_ci5_cs1e9\" # \"all_germline_filtered_bams_tumor_ci5_cs1e9\" # \"all_germline_filtered_bams_tumor_subtract_other_tumor_ci5_cs1e9\", all_germline_filtered_bams_tumor_ci5_cs1e9_filtered_cfDNA\n",
    "# all_germline_filtered_bams_tumor_ci5_cs1e9_filtered_cfDNA # de_novo_germline # all_germline_filtered_bams_tumor_ci5_cs1e9_filtered_cfDNA_subtracted_kmers_not_seen\n",
    "# all_germline_filtered_bams_tumor_ci5_cs1e9_well_mapping_subtracted # de_novo_germline # de_novo_germline_filtered_cfDNA # de_novo_germline_reference\n",
    "#input_folder = \"de_novo_germline\"\n",
    "input_folder = \"cs1e9\"\n",
    "\n",
    "# output_folder =  \"ci5_cs1e9\" # \"union_germline_ci4_cs1e9\" # \"union_germline_filtered_tumor_bams_ci5_cs1e9\" # \"union_germline_filtered_tumor_bams_subtract_other_tumors_ci5_cs1e9\"\n",
    "# union_germline_filtered_tumor_bams_ci5_cs1e9_filtered_cfDNA # de_novo_germline # union_germline_filtered_bams_tumor_ci5_cs1e9_filtered_cfDNA_subtracted_kmers_not_seen\n",
    "# union_germline_filtered_tumor_ci5_cs1e9_well_mapping_subtracted # de_novo_germline # de_novo_germline_filtered_cfDNA # de_novo_germline_reference\n",
    "output_folder = \"ci1_cs1e9\"\n",
    "\n",
    "low_qual_sample <- read.table(\"../low_qual_sample.txt\")\n",
    "low_qual_sample <- as.character(low_qual_sample[[1]])"
   ]
  },
  {
   "cell_type": "code",
   "execution_count": null,
   "id": "716a4a9d-4f4b-4c78-a2aa-908674ab3f67",
   "metadata": {},
   "outputs": [],
   "source": [
    "paramspace = read.csv(\"../data/metadata/paramspace_cfDNA_phaseI.csv\")\n",
    "\n",
    "paramspace  <- paramspace %>% rename(patient_id = pt_id)\n",
    "head(paramspace)"
   ]
  },
  {
   "cell_type": "code",
   "execution_count": null,
   "id": "f2c0e256-b498-4c1b-9eb0-6d365ca624f8",
   "metadata": {},
   "outputs": [],
   "source": [
    "SAMPLES = paramspace[\"patient_id\"]\n",
    "FOLDERS = paramspace[\"cfDNA_folder\"]"
   ]
  },
  {
   "cell_type": "code",
   "execution_count": null,
   "id": "e2718c51-863b-4003-ac1e-add7203de77f",
   "metadata": {},
   "outputs": [],
   "source": [
    "nrow(paramspace)"
   ]
  },
  {
   "cell_type": "code",
   "execution_count": null,
   "id": "386461c3-526e-4409-b00e-fd9724efc328",
   "metadata": {},
   "outputs": [],
   "source": [
    "paramspace[\"big_ratio\"] <- NA\n",
    "paramspace[\"big_ratio_CI_lower\"] <- NA\n",
    "paramspace[\"big_ratio_CI_upper\"] <- NA\n",
    "\n",
    "paramspace[\"small_ratio\"] <- NA\n",
    "paramspace[\"small_ratio_CI_lower\"] <- NA\n",
    "paramspace[\"small_ratio_CI_upper\"] <- NA\n",
    "\n",
    "#paramspace[\"jaccard\"] <- NA\n",
    "#paramspace[\"jaccard_CI_lower\"] <- NA\n",
    "#paramspace[\"jaccard_CI_upper\"] <- NA\n",
    "\n",
    "for (row in 1:nrow(paramspace)){\n",
    "    pt = paramspace[row, \"patient_id\"]\n",
    "    #print(pt)\n",
    "    fd = paramspace[row, \"cfDNA_folder\"]\n",
    "    big_r = read.csv(paste(\"../data/\", pt, \"/\" , fd, \"/\", input_folder, \"/\", \"big_\", filetype, \".csv\", sep = \"\"))\n",
    "    #jaccard = read.csv(paste(\"../data/\", pt, \"/\" , fd, \"/\", input_folder, \"/\", \"jaccard_index.csv\", sep = \"\"))\n",
    "    small_r = read.csv(paste(\"../data/\", pt, \"/\", fd, \"/\", input_folder, \"/\", \"small_\", filetype, \".csv\", sep = \"\"))\n",
    "    #print(big_r[[1]])\n",
    "    #print(small_r[[1]])\n",
    "    paramspace[row, \"big_ratio\"] = big_r$ratio\n",
    "    paramspace[row, \"big_ratio_CI_lower\"] = big_r$lower_CI\n",
    "    paramspace[row, \"big_ratio_CI_upper\"] = big_r$upper_CI\n",
    "\n",
    "    #paramspace[row, \"jaccard\"] = jaccard$ratio\n",
    "    #paramspace[row, \"jaccard_CI_lower\"] = jaccard$lower_CI\n",
    "   # paramspace[row, \"jaccard_CI_upper\"] = jaccard$upper_CI\n",
    "    \n",
    "    paramspace[row, \"small_ratio\"] = small_r$ratio\n",
    "    paramspace[row, \"small_ratio_CI_lower\"] = small_r$lower_CI\n",
    "    paramspace[row, \"small_ratio_CI_upper\"] = small_r$upper_CI\n",
    "}"
   ]
  },
  {
   "cell_type": "code",
   "execution_count": null,
   "id": "742b4f2b-b916-49ba-b8a0-83adffacac7d",
   "metadata": {},
   "outputs": [],
   "source": [
    "res <- paramspace\n",
    "head(res)"
   ]
  },
  {
   "cell_type": "code",
   "execution_count": null,
   "id": "ef4aa368-7b40-426e-8839-0cb99d858aab",
   "metadata": {},
   "outputs": [],
   "source": [
    "#res <- res %>% separate(cfDNA_folder, c(\"sampleID\", \"sample_type\", \"sample_number\"))\n",
    "res <- res %>% \n",
    "  mutate(tmp_chunks = stringr::str_split(cfDNA_folder, stringr::fixed(\"_\"),  n = 3)) %>%\n",
    "  mutate(sampleID = map_chr(tmp_chunks, 1),\n",
    "         sub_value = map_chr(tmp_chunks, 2), \n",
    "         sub_val = map_chr(tmp_chunks, 3)) %>%\n",
    "  select(-c(tmp_chunks, sub_value, sub_val))\n",
    "\n",
    "head(res)\n",
    "dim(res)"
   ]
  },
  {
   "cell_type": "code",
   "execution_count": null,
   "id": "9c662e0d-7d23-49a1-89a0-fdb78e6c530a",
   "metadata": {},
   "outputs": [],
   "source": [
    "sample_timepoint <- read.csv(\"../data/metadata/clin_data/sample_timepoint_formatted.csv\")"
   ]
  },
  {
   "cell_type": "code",
   "execution_count": null,
   "id": "3aa5025b-a3bb-4ff2-b639-f00f2566fa34",
   "metadata": {},
   "outputs": [],
   "source": [
    "head(sample_timepoint)\n",
    "sample_timepoint_days <- sample_timepoint %>% filter(phase == \"phaseI\")\n",
    "sample_timepoint_days <- sample_timepoint_days %>% select(sampleID, sample_timepoint_days_since_OP)\n",
    "sample_timepoint_days %>% filter(is.na(sample_timepoint_days_since_OP))\n",
    "dim(sample_timepoint_days)\n",
    "head(sample_timepoint_days)"
   ]
  },
  {
   "cell_type": "code",
   "execution_count": null,
   "id": "c874738f-d7f9-45b4-a937-ba8bb0ba358c",
   "metadata": {},
   "outputs": [],
   "source": [
    "res$sampleID <- as.character(res$sampleID)\n",
    "res <- left_join(res, sample_timepoint_days, by = c(\"sampleID\"))\n",
    "head(res)\n",
    "dim(res)"
   ]
  },
  {
   "cell_type": "code",
   "execution_count": null,
   "id": "d419b5e8-241c-4aa9-b08e-6dccdcfed8d2",
   "metadata": {},
   "outputs": [],
   "source": [
    "res %>% filter(is.na(sample_timepoint_days_since_OP))"
   ]
  },
  {
   "cell_type": "code",
   "execution_count": null,
   "id": "7bf24bd5-1441-47ff-a259-6bf2574510ab",
   "metadata": {},
   "outputs": [],
   "source": [
    "clinical_data <- read.csv(\"../data/metadata/clin_data/clinical_data_formatted.csv\")\n",
    "clinical_data_relapse <- clinical_data %>% select(patient_id, time_to_relapse_days, adjuvant_chemo_start_days, adjuvant_chemo_end_days)\n",
    "head(clinical_data_relapse)"
   ]
  },
  {
   "cell_type": "code",
   "execution_count": null,
   "id": "11e7e677-fe59-4b14-ad2f-1044ede1abe3",
   "metadata": {},
   "outputs": [],
   "source": [
    "res <-left_join(res, clinical_data_relapse, by=\"patient_id\")\n",
    "head(res)\n",
    "dim(res)"
   ]
  },
  {
   "cell_type": "code",
   "execution_count": null,
   "id": "e7d6de04-42f3-42e7-a727-dcf1fea9cd6d",
   "metadata": {},
   "outputs": [],
   "source": [
    "res_plot <- res %>% select(patient_id, cfDNA_folder, big_ratio, small_ratio, sample_timepoint_days_since_OP, time_to_relapse_days)"
   ]
  },
  {
   "cell_type": "code",
   "execution_count": null,
   "id": "9c339563-131a-4f79-8c33-253d26065804",
   "metadata": {},
   "outputs": [],
   "source": [
    "normalized_res_intervention <- data.frame(matrix(ncol = 8, nrow = 0))\n",
    "colnames(normalized_res_intervention) <- c(\"patient_id\", \"cfDNA_folder\", \"big_ratio\", \"small_ratio\", \"sample_timepoint_days_since_OP\", \"time_to_relapse_days\", \"big_ratio_normalized\", \"small_ratio_normalized\")"
   ]
  },
  {
   "cell_type": "code",
   "execution_count": null,
   "id": "85f0a8e2-9468-42fe-9722-ebbc3c05173e",
   "metadata": {},
   "outputs": [],
   "source": [
    "head(normalized_res_intervention)"
   ]
  },
  {
   "cell_type": "code",
   "execution_count": null,
   "id": "c984a2a6-593b-4a24-817d-eeacdb8a09b5",
   "metadata": {},
   "outputs": [],
   "source": [
    "patients = as.character(unique(res_plot$patient_id))"
   ]
  },
  {
   "cell_type": "code",
   "execution_count": null,
   "id": "c31b9108-fc2a-4e07-83af-1bc0c4e54ca6",
   "metadata": {},
   "outputs": [],
   "source": [
    "for (i in patients){\n",
    "    res_pt <- res_plot %>% filter(patient_id == i)\n",
    "    \n",
    "    first_sample <- min(res_pt$sample_timepoint_days_since_OP)\n",
    "    print(first_sample)\n",
    "    for (x in res_pt$cfDNA_folder){\n",
    "        sample_label_check <- res_pt %>% filter(cfDNA_folder == x)\n",
    "        \n",
    "        if (sample_label_check$sample_timepoint_days_since_OP == first_sample){\n",
    "            pre_val_big = sample_label_check$big_ratio\n",
    "            #pre_val_jaccard = sample_label_check$jaccard\n",
    "            pre_val_small = sample_label_check$small_ratio}}\n",
    "    \n",
    "    for (j in res_pt$cfDNA_folder){\n",
    "        normalized_line <- res_pt %>% filter(cfDNA_folder == j)\n",
    "        #print(normalized_line)\n",
    "        normalized_line <- normalized_line %>% mutate(big_ratio_normalized = big_ratio/pre_val_big, small_ratio_normalized = small_ratio/pre_val_small)\n",
    "        #print(normalized_line)\n",
    "        normalized_res_intervention[nrow(normalized_res_intervention)+1,] = c(i, j, normalized_line[3:8])\n",
    "    \n",
    "    }}"
   ]
  },
  {
   "cell_type": "code",
   "execution_count": null,
   "id": "97de4310-d2de-47bf-b9f2-e82c1a910bb9",
   "metadata": {},
   "outputs": [],
   "source": [
    "Correlations <- read.csv(\"../data/ci5_cs1e9_correlation.csv\")\n",
    "relapse_label <- Correlations %>% select(cfDNA_sample, Relapse)\n",
    "colnames(relapse_label) <- c(\"cfDNA_folder\", \"Relapse_label\")"
   ]
  },
  {
   "cell_type": "markdown",
   "id": "5fb3b44d-4f1c-4226-9fa8-08257e28d9c3",
   "metadata": {},
   "source": [
    "## Plots normalized by pre_op"
   ]
  },
  {
   "cell_type": "code",
   "execution_count": null,
   "id": "b5e2134e-caad-4762-bcfa-a694f355d67b",
   "metadata": {},
   "outputs": [],
   "source": [
    "normalized_res_intervention <- inner_join(normalized_res_intervention, relapse_label, by = \"cfDNA_folder\")"
   ]
  },
  {
   "cell_type": "code",
   "execution_count": null,
   "id": "e032ad8c-5b3b-4efd-8e4a-24cf70108037",
   "metadata": {},
   "outputs": [],
   "source": [
    "normalized_res_intervention_relapses <- normalized_res_intervention %>% filter(Relapse_label == \"Relapse\", sample_timepoint_days_since_OP >= time_to_relapse_days)\n",
    "normalized_res_intervention_pre_or_no_relapse1 <- normalized_res_intervention %>% group_by(patient_id) %>% filter(Relapse_label == \"Relapse\", sample_timepoint_days_since_OP >= time_to_relapse_days) %>% filter(sample_timepoint_days_since_OP == min(sample_timepoint_days_since_OP))\n",
    "\n",
    "normalized_res_intervention_pre_or_no_relapse2 <- normalized_res_intervention %>% filter(Relapse_label == \"No_relapse\" | \n",
    "                                                                                        sample_timepoint_days_since_OP < time_to_relapse_days)\n",
    "\n",
    "normalized_res_intervention_pre_or_no_relapse <- bind_rows(normalized_res_intervention_pre_or_no_relapse1, normalized_res_intervention_pre_or_no_relapse2)"
   ]
  },
  {
   "cell_type": "code",
   "execution_count": null,
   "id": "69f72269-618c-454c-9778-4ac21853b711",
   "metadata": {},
   "outputs": [],
   "source": [
    "options(repr.plot.width=12, repr.plot.height=8)"
   ]
  },
  {
   "cell_type": "code",
   "execution_count": null,
   "id": "188d0ba9-d807-47d5-b122-ca5b5ca545dd",
   "metadata": {},
   "outputs": [],
   "source": [
    "large_plot_big_r_normalized <- ggplot() + \n",
    "    geom_line(data = normalized_res_intervention_pre_or_no_relapse, aes(x = sample_timepoint_days_since_OP, y = log10(big_ratio_normalized), color = Relapse_label, group=patient_id)) + \n",
    "    geom_line(data = normalized_res_intervention_relapses, aes(x = sample_timepoint_days_since_OP, y = log10(big_ratio_normalized), color = Relapse_label, group=patient_id), linetype = \"dashed\") + \n",
    "    geom_point(data = normalized_res_intervention, aes(x = sample_timepoint_days_since_OP, y = log10(big_ratio_normalized), color = Relapse_label))+ theme(text = element_text(size = 20))  \n",
    "ggsave(\n",
    "  paste(\"../plotting_results/\", output_folder, \"/big_plots/Relapse_noRelapse_Normalized_Big_\", filetype, \".png\", sep = \"\"),\n",
    "  large_plot_big_r_normalized, width = 12, height = 8, dpi = \"print\")"
   ]
  },
  {
   "cell_type": "code",
   "execution_count": null,
   "id": "1e51c931-21bc-4165-af6a-d991bdeb334c",
   "metadata": {},
   "outputs": [],
   "source": [
    "large_plot_big_r_normalized"
   ]
  },
  {
   "cell_type": "code",
   "execution_count": null,
   "id": "59e698a9-a65d-4ed9-a575-b2b668042008",
   "metadata": {},
   "outputs": [],
   "source": [
    "#large_plot_jaccard_normalized <- ggplot() + \n",
    "#    geom_line(data = normalized_res_intervention_pre_or_no_relapse, aes(x = sample_timepoint_days_since_OP, y = log10(jaccard_normalized), color = Relapse_label, group=patient_id)) + \n",
    "#    geom_line(data = normalized_res_intervention_relapses, aes(x = sample_timepoint_days_since_OP, y = log10(jaccard_normalized), color = Relapse_label, group=patient_id), linetype = \"dashed\") + \n",
    "#    geom_point(data = normalized_res_intervention, aes(x = sample_timepoint_days_since_OP, y = log10(jaccard_normalized), color = Relapse_label))+ theme(text = element_text(size = 20))  \n",
    "#ggsave(\n",
    "#  paste(\"../plotting_results/\", output_folder, \"/big_plots/Relapse_noRelapse_Normalized_Jaccard\", filetype, \".png\", sep = \"\"),\n",
    "#  large_plot_jaccard_normalized, width = 12, height = 8, dpi = \"print\")"
   ]
  },
  {
   "cell_type": "code",
   "execution_count": null,
   "id": "e1a2a1be-aa6e-4155-9700-f24bea866f16",
   "metadata": {},
   "outputs": [],
   "source": [
    "#large_plot_jaccard_normalized"
   ]
  },
  {
   "cell_type": "code",
   "execution_count": null,
   "id": "c57fa216-72ce-4342-ac54-251ef8471cfe",
   "metadata": {},
   "outputs": [],
   "source": [
    "large_plot_small_r_normalized <- ggplot() + \n",
    "    geom_line(data = normalized_res_intervention_pre_or_no_relapse, aes(x = sample_timepoint_days_since_OP, y = log10(small_ratio_normalized), color = Relapse_label, group=patient_id)) + \n",
    "    geom_line(data = normalized_res_intervention_relapses, aes(x = sample_timepoint_days_since_OP, y = log10(small_ratio_normalized), color = Relapse_label, group=patient_id), linetype = \"dashed\") + \n",
    "    geom_point(data = normalized_res_intervention, aes(x = sample_timepoint_days_since_OP, y = log10(small_ratio_normalized), color = Relapse_label))+ theme(text = element_text(size = 20)) \n",
    "\n",
    "ggsave(\n",
    "  paste(\"../plotting_results/\", output_folder, \"/big_plots/Relapse_noRelapse_Normalized_Small_\", filetype, \".png\", sep = \"\"),\n",
    "  large_plot_small_r_normalized, width = 12, height = 8, dpi = \"print\")"
   ]
  },
  {
   "cell_type": "code",
   "execution_count": null,
   "id": "b2027600-7412-4cf1-8c83-3bd17332f019",
   "metadata": {},
   "outputs": [],
   "source": [
    "large_plot_small_r_normalized"
   ]
  },
  {
   "cell_type": "markdown",
   "id": "0cc2d207-d55d-4771-be63-09a6dc561690",
   "metadata": {},
   "source": [
    "## Plots normalized by post-op"
   ]
  },
  {
   "cell_type": "code",
   "execution_count": null,
   "id": "45a061c8-9073-4771-9d9d-6fbe9f4a034a",
   "metadata": {},
   "outputs": [],
   "source": [
    "normalized_res_post_op <-  data.frame(matrix(ncol = 8, nrow = 0))\n",
    "colnames(normalized_res_post_op) <- c(\"patient_id\", \"cfDNA_folder\", \"big_ratio\", \"small_ratio\", \"sample_timepoint_days_since_OP\", \"time_to_relapse_days\", \"big_ratio_normalized\", \"small_ratio_normalized\")"
   ]
  },
  {
   "cell_type": "code",
   "execution_count": null,
   "id": "b6e4196f-ad84-4806-a9fa-8b67a09300b9",
   "metadata": {},
   "outputs": [],
   "source": [
    "for (i in patients){\n",
    "    res_pt <- res_plot %>% filter(patient_id == i)\n",
    "    \n",
    "    first_sample <- min(res_pt$sample_timepoint_days_since_OP)\n",
    "    without_first_sample <- res_pt %>% filter(sample_timepoint_days_since_OP != first_sample)\n",
    "    post_op_sample <- min(without_first_sample$sample_timepoint_days_since_OP)\n",
    "        \n",
    "    print(post_op_sample)\n",
    "    for (x in res_pt$cfDNA_folder){\n",
    "        sample_label_check <- res_pt %>% filter(cfDNA_folder == x)\n",
    "        \n",
    "        if (sample_label_check$sample_timepoint_days_since_OP == post_op_sample){\n",
    "            pre_val_big = sample_label_check$big_ratio\n",
    "            #pre_val_jaccard = sample_label_check$jaccard\n",
    "            pre_val_small = sample_label_check$small_ratio}}\n",
    "    \n",
    "    for (j in res_pt$cfDNA_folder){\n",
    "        normalized_line <- res_pt %>% filter(cfDNA_folder == j)\n",
    "        #print(normalized_line)\n",
    "        normalized_line <- normalized_line %>% mutate(big_ratio_normalized = big_ratio/pre_val_big, small_ratio_normalized = small_ratio/pre_val_small)\n",
    "        #print(normalized_line)\n",
    "        normalized_res_post_op[nrow(normalized_res_post_op)+1,] = c(i, j, normalized_line[3:8])\n",
    "    \n",
    "    }}"
   ]
  },
  {
   "cell_type": "code",
   "execution_count": null,
   "id": "7bbaf09f-aa7d-4d4d-b643-af2aa4c8f381",
   "metadata": {},
   "outputs": [],
   "source": [
    "normalized_res_post_op <- inner_join(normalized_res_post_op, relapse_label, by = \"cfDNA_folder\")"
   ]
  },
  {
   "cell_type": "code",
   "execution_count": null,
   "id": "3961e3af-5764-4bd8-b54d-0d18eef79366",
   "metadata": {},
   "outputs": [],
   "source": [
    "normalized_res_post_op_relapses <- normalized_res_post_op %>% filter(Relapse_label == \"Relapse\", sample_timepoint_days_since_OP >= time_to_relapse_days)\n",
    "nnormalized_res_post_op_pre_or_no_relapse1 <- normalized_res_post_op %>% group_by(patient_id) %>% filter(Relapse_label == \"Relapse\", sample_timepoint_days_since_OP >= time_to_relapse_days) %>% filter(sample_timepoint_days_since_OP == min(sample_timepoint_days_since_OP))\n",
    "\n",
    "normalized_res_post_op_pre_or_no_relapse2 <- normalized_res_post_op %>% filter(Relapse_label == \"No_relapse\" | \n",
    "                                                                                        sample_timepoint_days_since_OP < time_to_relapse_days)\n",
    "\n",
    "normalized_res_post_op_pre_or_no_relapse <- bind_rows(nnormalized_res_post_op_pre_or_no_relapse1, normalized_res_post_op_pre_or_no_relapse2)"
   ]
  },
  {
   "cell_type": "code",
   "execution_count": null,
   "id": "338851ad-ed9b-45b7-8ed2-f036487bdbed",
   "metadata": {},
   "outputs": [],
   "source": []
  },
  {
   "cell_type": "code",
   "execution_count": null,
   "id": "04281d4d-4e9b-45e6-b4ed-b59e8728af37",
   "metadata": {},
   "outputs": [],
   "source": [
    "large_plot_big_r_normalized_by_post_op <- ggplot() + \n",
    "    geom_line(data = normalized_res_post_op_pre_or_no_relapse %>% filter(patient_id != low_qual_sample), aes(x = sample_timepoint_days_since_OP, y = log10(big_ratio_normalized), color = Relapse_label, group=patient_id), size = 1.1) + \n",
    "    geom_line(data = normalized_res_post_op_relapses %>% filter(patient_id != low_qual_sample), aes(x = sample_timepoint_days_since_OP, y = log10(big_ratio_normalized), color = Relapse_label, group=patient_id), linetype = \"dashed\", size = 1.1) + \n",
    "    geom_point(data = normalized_res_post_op %>% filter(patient_id != low_qual_sample), aes(x = sample_timepoint_days_since_OP, y = log10(big_ratio_normalized), color = Relapse_label), size = 3) + \n",
    "    \n",
    "    theme_minimal() + \n",
    "    theme(text = element_text(size = 20))  + \n",
    "    scale_color_manual(values=c('#00BFC4', '#F8766D'), labels = c(\"No relapse\", \"Relapse\"))+\n",
    "    labs(color=\"Relapse status\")+   \n",
    "\n",
    "    xlab(\"Sample time point (days since surgery)\") + ylab(\"log10((UT in cfDNA / cfDNA) /(UT / T))\")  \n",
    "    #ggtitle(\"Estimated ctDNA levels in cfDNA, normalized by the first post-op sample (low quality sample removed)\")\n"
   ]
  },
  {
   "cell_type": "code",
   "execution_count": null,
   "id": "c1202d26-14c3-4878-9a1b-86deac47726e",
   "metadata": {},
   "outputs": [],
   "source": [
    "ggsave(\n",
    "  paste(\"../plotting_results/\", output_folder, \"/big_plots/Relapse_noRelapse_Normalized_by_post_op_Big_\", filetype, \".png\", sep = \"\"),\n",
    "  large_plot_big_r_normalized_by_post_op, width = 12, height = 8, dpi = \"print\")"
   ]
  },
  {
   "cell_type": "code",
   "execution_count": null,
   "id": "3ea85af9-3dab-4335-95ab-635df32e2b9a",
   "metadata": {},
   "outputs": [],
   "source": [
    "large_plot_big_r_normalized_by_post_op"
   ]
  },
  {
   "cell_type": "code",
   "execution_count": null,
   "id": "967c81bd-fc5b-4ea4-b136-2f02f4555114",
   "metadata": {},
   "outputs": [],
   "source": [
    "#large_plot_jaccard_normalized_by_post_op <- ggplot() + \n",
    "#    geom_line(data = normalized_res_post_op_pre_or_no_relapse, aes(x = sample_timepoint_days_since_OP, y = log10(jaccard_normalized), color = Relapse_label, group=patient_id)) + \n",
    "#    geom_line(data = normalized_res_post_op_relapses, aes(x = sample_timepoint_days_since_OP, y = log10(jaccard_normalized), color = Relapse_label, group=patient_id), linetype = \"dashed\") + \n",
    "#    geom_point(data = normalized_res_post_op, aes(x = sample_timepoint_days_since_OP, y = log10(jaccard_normalized), color = Relapse_label))+ theme(text = element_text(size = 20))  \n",
    "#ggsave(\n",
    "#  paste(\"../plotting_results/\", output_folder, \"/big_plots/Relapse_noRelapse_Normalized_by_post_op_Jaccard_\", filetype, \".png\", sep = \"\"),\n",
    "#  large_plot_jaccard_normalized_by_post_op, width = 12, height = 8, dpi = \"print\")"
   ]
  },
  {
   "cell_type": "code",
   "execution_count": null,
   "id": "05a04faf-b0fc-43b3-ab4c-5d4e8ea2a447",
   "metadata": {},
   "outputs": [],
   "source": [
    "#large_plot_jaccard_normalized_by_post_op"
   ]
  },
  {
   "cell_type": "code",
   "execution_count": null,
   "id": "a346e9f7-754d-49cf-8338-ccd2e15ba1cb",
   "metadata": {},
   "outputs": [],
   "source": [
    "head(normalized_res_post_op)"
   ]
  },
  {
   "cell_type": "code",
   "execution_count": null,
   "id": "071895a2-f8fb-4fe6-9081-76d76f28caa7",
   "metadata": {},
   "outputs": [],
   "source": [
    "large_plot_small_r_normalized_by_post_op <- ggplot() + \n",
    "    geom_line(data = normalized_res_post_op_pre_or_no_relapse %>% filter(patient_id != low_qual_sample), aes(x = sample_timepoint_days_since_OP, y = log10(small_ratio_normalized), color = Relapse_label, group=patient_id), size = 1.1) + \n",
    "    geom_line(data = normalized_res_post_op_relapses %>% filter(patient_id != low_qual_sample), aes(x = sample_timepoint_days_since_OP, y = log10(small_ratio_normalized), color = Relapse_label, group=patient_id), linetype = \"dashed\", size = 1.1) + \n",
    "    geom_point(data = normalized_res_post_op %>% filter(patient_id != low_qual_sample), aes(x = sample_timepoint_days_since_OP, y = log10(small_ratio_normalized), color = Relapse_label), size = 3) + \n",
    "    theme_minimal() + \n",
    "    theme(text = element_text(size = 20))  + \n",
    "    xlab(\"Sample time point (days since surgery)\") + ylab(\"log10((UT kmers in cfDNA / UT kmers)\") + \n",
    "    scale_color_manual(values=c('#00BFC4', '#F8766D'), labels = c(\"No relapse\", \"Relapse\"))+\n",
    "    labs(color=\"Relapse status\")\n",
    "    #scale_color_hue(labels = c(\"No relapse\", \"Relapse\"))\n",
    "    #ggtitle(\"Fraction of unique tumor k-mers found in cfDNA, normalized by the first post-op sample (low quality sample removed)\")\n"
   ]
  },
  {
   "cell_type": "code",
   "execution_count": null,
   "id": "30f11738-95eb-4961-b8bd-5533c7b2af09",
   "metadata": {},
   "outputs": [],
   "source": [
    "large_plot_small_r_normalized_by_post_op"
   ]
  },
  {
   "cell_type": "code",
   "execution_count": null,
   "id": "473653af-48b5-4e6f-8a66-848edac8098d",
   "metadata": {},
   "outputs": [],
   "source": [
    "ggsave(\n",
    "  paste(\"../plotting_results/\", output_folder, \"/big_plots/Relapse_noRelapse_Normalized_by_post_op_Small_\", filetype, \".png\", sep = \"\"),\n",
    "  large_plot_small_r_normalized_by_post_op, width = 12, height = 8, dpi = \"print\")"
   ]
  },
  {
   "cell_type": "code",
   "execution_count": null,
   "id": "142d88c5-67c8-4abb-a9d7-3eda042550c6",
   "metadata": {},
   "outputs": [],
   "source": []
  },
  {
   "cell_type": "code",
   "execution_count": null,
   "id": "0f99eeba-39ad-44ad-a262-f77417f31fec",
   "metadata": {},
   "outputs": [],
   "source": [
    "head(normalized_res_intervention_relapses)"
   ]
  },
  {
   "cell_type": "markdown",
   "id": "771c5168-9027-4fa6-8812-4bcba3810f6b",
   "metadata": {},
   "source": [
    "## Plots not normalized"
   ]
  },
  {
   "cell_type": "code",
   "execution_count": null,
   "id": "3e6095be-1990-4fee-8427-bed852734f56",
   "metadata": {},
   "outputs": [],
   "source": [
    "\n",
    "large_plot_big_r <- ggplot() + \n",
    "    geom_line(data = normalized_res_intervention_pre_or_no_relapse, aes(x = sample_timepoint_days_since_OP, y = log10(big_ratio), color = Relapse_label, group=patient_id)) + \n",
    "    geom_line(data = normalized_res_intervention_relapses, aes(x = sample_timepoint_days_since_OP, y = log10(big_ratio), color = Relapse_label, group=patient_id), linetype = \"dashed\") + \n",
    "    geom_point(data = normalized_res_intervention, aes(x = sample_timepoint_days_since_OP, y = log10(big_ratio), color = Relapse_label))+ theme(text = element_text(size = 20)) +#+geom_text(data = normalized_res_intervention, aes(x = sample_timepoint_days_since_OP, y = big_ratio, label =cfDNA_folder)) \n",
    "    theme_minimal()+\n",
    "    theme(text = element_text(size = 20)) + \n",
    "    labs(color=\"Relapse status\")+\n",
    "    xlab(\"Sample time point (days since surgery)\") + ylab(\"log10(Estimate of ctDNA level in cfDNA)\") +\n",
    "    scale_color_hue(labels = c(\"No relapse\", \"Relapse\"))"
   ]
  },
  {
   "cell_type": "code",
   "execution_count": null,
   "id": "156441ed-9645-4587-91cc-6ea8f6811825",
   "metadata": {},
   "outputs": [],
   "source": [
    "large_plot_big_r"
   ]
  },
  {
   "cell_type": "code",
   "execution_count": null,
   "id": "4eb1caef-5f4f-40ae-a10c-5f1b784442f7",
   "metadata": {},
   "outputs": [],
   "source": [
    "ggsave(\n",
    "  paste(\"../plotting_results/\", output_folder, \"/big_plots/Relapse_noRelapse_Big_\", filetype, \".png\", sep = \"\"),\n",
    "  large_plot_big_r, width = 12, height = 8, dpi = \"print\")"
   ]
  },
  {
   "cell_type": "code",
   "execution_count": null,
   "id": "5d8e22e9-0a20-4c7a-8af6-8c44c68f18cb",
   "metadata": {},
   "outputs": [],
   "source": [
    "\n",
    "#large_plot_jaccard <- ggplot() + \n",
    "#    geom_line(data = normalized_res_intervention_pre_or_no_relapse %>% filter(patient_id != low_qual_sample), aes(x = sample_timepoint_days_since_OP, y = jaccard, color = Relapse_label, group=patient_id)) + \n",
    "#    geom_line(data = normalized_res_intervention_relapses %>% filter(patient_id != low_qual_sample), aes(x = sample_timepoint_days_since_OP, y = jaccard, color = Relapse_label, group=patient_id), linetype = \"dashed\") + \n",
    "#    geom_point(data = normalized_res_intervention %>% filter(patient_id != low_qual_sample), aes(x = sample_timepoint_days_since_OP, y = jaccard, color = Relapse_label))+ theme(text = element_text(size = 20)) #+geom_text(data = normalized_res_intervention, aes(x = sample_timepoint_days_since_OP, y = big_ratio, label =cfDNA_folder)) \n"
   ]
  },
  {
   "cell_type": "code",
   "execution_count": null,
   "id": "20f5222c-4e07-4a96-9bbd-d1d8bf01c5ec",
   "metadata": {},
   "outputs": [],
   "source": [
    "#large_plot_jaccard"
   ]
  },
  {
   "cell_type": "code",
   "execution_count": null,
   "id": "f1fa24b1-fdaa-4744-8f72-767d414208be",
   "metadata": {},
   "outputs": [],
   "source": [
    "head(normalized_res_intervention)"
   ]
  },
  {
   "cell_type": "code",
   "execution_count": null,
   "id": "c31c74e1-f6a2-406a-a5ba-01f21e9e01a1",
   "metadata": {},
   "outputs": [],
   "source": [
    "options(repr.plot.width=20, repr.plot.height=8)\n",
    "small_plot_big_r <- ggplot() + \n",
    "    geom_line(data = normalized_res_intervention_pre_or_no_relapse  %>% filter(patient_id != low_qual_sample), aes(x = sample_timepoint_days_since_OP, y = log10(small_ratio), color = Relapse_label, group=patient_id)) + \n",
    "    geom_line(data = normalized_res_intervention_relapses  %>% filter(patient_id != low_qual_sample), aes(x = sample_timepoint_days_since_OP, y = log10(small_ratio), color = Relapse_label, group=patient_id), linetype = \"dashed\") + \n",
    "    geom_point(data = normalized_res_intervention  %>% filter(patient_id != low_qual_sample), aes(x = sample_timepoint_days_since_OP, y = log10(small_ratio), color = Relapse_label)) + \n",
    "    theme_minimal() + \n",
    "    theme(text = element_text(size = 20)) + \n",
    "    xlab(\"Sample time point (days since surgery)\") + ylab(\"log10((UT kmers in cfDNA / UT kmers)\") +\n",
    "    labs(color=\"Relapse status\")+\n",
    "    scale_color_hue(labels = c(\"No relapse\", \"Relapse\"))\n",
    "    #ggtitle(\"Fraction of unique tumor k-mers found in cfDNA (low quality sample removed)\")\n",
    "\n"
   ]
  },
  {
   "cell_type": "code",
   "execution_count": null,
   "id": "616e6064-737f-4ca3-9c32-4f3953170a02",
   "metadata": {},
   "outputs": [],
   "source": [
    "ggsave(\n",
    "  paste(\"../plotting_results/\", output_folder, \"/big_plots/Relapse_noRelapse_Small_\", filetype, \".png\", sep = \"\"),\n",
    "  small_plot_big_r, width = 12, height = 8, dpi = \"print\")"
   ]
  },
  {
   "cell_type": "code",
   "execution_count": null,
   "id": "509e8c1c-502b-41ed-9c59-d07995480e0f",
   "metadata": {},
   "outputs": [],
   "source": [
    "small_plot_big_r"
   ]
  },
  {
   "cell_type": "code",
   "execution_count": null,
   "id": "35985a5a-0ca7-42dc-bf21-a239f199714f",
   "metadata": {},
   "outputs": [],
   "source": []
  },
  {
   "cell_type": "code",
   "execution_count": null,
   "id": "8d02e909-4d36-4337-a35e-4521aa01e620",
   "metadata": {},
   "outputs": [],
   "source": []
  },
  {
   "cell_type": "code",
   "execution_count": null,
   "id": "1ca2d11e-248e-4cc2-9ec7-ebb0815b3e45",
   "metadata": {},
   "outputs": [],
   "source": []
  },
  {
   "cell_type": "code",
   "execution_count": null,
   "id": "59b60c74-e36c-4790-87d0-4e2e331e4482",
   "metadata": {},
   "outputs": [],
   "source": []
  }
 ],
 "metadata": {
  "kernelspec": {
   "display_name": "R",
   "language": "R",
   "name": "ir"
  },
  "language_info": {
   "codemirror_mode": "r",
   "file_extension": ".r",
   "mimetype": "text/x-r-source",
   "name": "R",
   "pygments_lexer": "r",
   "version": "3.6.1"
  }
 },
 "nbformat": 4,
 "nbformat_minor": 5
}
