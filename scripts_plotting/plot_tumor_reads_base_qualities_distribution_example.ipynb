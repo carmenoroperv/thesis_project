{
 "cells": [
  {
   "cell_type": "code",
   "execution_count": null,
   "id": "2f277b70-22d5-4e8f-8466-a8dea04ef3bb",
   "metadata": {},
   "outputs": [],
   "source": [
    "library(tidyverse)"
   ]
  },
  {
   "cell_type": "code",
   "execution_count": null,
   "id": "dd2a42c9-a92b-4f03-a000-44dc28236cee",
   "metadata": {},
   "outputs": [],
   "source": [
    "qualities <- read.csv(\"../data/pt/folder//tumor_bam_base_qualities.csv\")"
   ]
  },
  {
   "cell_type": "code",
   "execution_count": null,
   "id": "b8580d2d-1e22-4fa2-adb7-db8b4c8a5944",
   "metadata": {},
   "outputs": [],
   "source": [
    "qualities"
   ]
  },
  {
   "cell_type": "code",
   "execution_count": null,
   "id": "7c9983ec-9d72-4fab-a170-c7ec7f73d723",
   "metadata": {},
   "outputs": [],
   "source": [
    "options(repr.plot.width=7, repr.plot.height=8)\n",
    "qplot(as.factor(Quality), Number_of_bases, geom = \"col\", data = qualities, xlab = \"Phred base quality\", ylab = \"n bases\")"
   ]
  },
  {
   "cell_type": "code",
   "execution_count": null,
   "id": "252cd90b-014c-4bf0-abf3-765f5748d83e",
   "metadata": {},
   "outputs": [],
   "source": []
  }
 ],
 "metadata": {
  "kernelspec": {
   "display_name": "R",
   "language": "R",
   "name": "ir"
  },
  "language_info": {
   "codemirror_mode": "r",
   "file_extension": ".r",
   "mimetype": "text/x-r-source",
   "name": "R",
   "pygments_lexer": "r",
   "version": "3.6.1"
  }
 },
 "nbformat": 4,
 "nbformat_minor": 5
}
