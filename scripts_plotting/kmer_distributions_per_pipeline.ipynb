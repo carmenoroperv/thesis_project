{
 "cells": [
  {
   "cell_type": "code",
   "execution_count": null,
   "id": "9d6625e1-f1e3-4a6a-a39d-58e46fe1e440",
   "metadata": {},
   "outputs": [],
   "source": [
    "library(tidyverse)"
   ]
  },
  {
   "cell_type": "code",
   "execution_count": null,
   "id": "692df55e-9709-4bc3-a8e1-7347a1179965",
   "metadata": {},
   "outputs": [],
   "source": [
    "############################################################################\n",
    "#                                                                          #\n",
    "#                          SET PARAMETERS HERE                             #\n",
    "#                                                                          #\n",
    "############################################################################\n",
    "\n",
    "############### input parameters (in data folder) ##########################\n",
    "# input_folder = \"all_germline_filtered_bams_tumor_ci5_cs1e9\" # \"all_germline_ci5_cs1e9\" # \"ci5_cs1e9\" # \"cs1e9\"\n",
    "input_folder = \"all_germline_filtered_bams_tumor_subtract_other_tumor_ci5_cs1e9\"\n",
    "#filename =  \"plotdata_unique_tumor_all_germline_singletons_excluded_tumor_4_cs_filtered.txt\" # \"plotdata_tumor_cs1e9_filtered.txt\" # plotdata_tumor_filtered.txt\n",
    "filename = \"plotdata_unique_tumor_kmers_filtered.txt\"\n",
    "\n",
    "############### output parameters (in plotting_results folder) #############\n",
    "#output_folder = \"ci1_cs1e9\" # \"ci5_cs1e9\" # \"union_germline_ci4_cs1e9\" # union_germline_filtered_tumor_bams_ci5_cs1e9 # \"union_germline_filtered_tumor_bams_subtract_other_tumors_ci5_cs1e9\"\n",
    "output_folder = \"union_germline_filtered_tumor_bams_subtract_other_tumors_ci5_cs1e9\"\n",
    "#plot_title = \"Unique_tumor_kmers\" # \"Tumor_kmers\"\n",
    "plot_title = \"Unique_tumor_kmers\"\n",
    "\n",
    "\n",
    "paramspace <- read.csv(\"../data/metadata/paramspace_phaseI.csv\", sep = \",\")\n",
    "dim(paramspace)\n",
    "#output_path_unique_kmers, pt_id"
   ]
  },
  {
   "cell_type": "code",
   "execution_count": null,
   "id": "acaefb10-514c-4cf0-be93-42b88569d31c",
   "metadata": {},
   "outputs": [],
   "source": [
    "data_all <- NULL\n",
    "\n",
    "for (row in 1:nrow(paramspace)){\n",
    "    pt = paramspace[row, \"pt_id\"]\n",
    "    print(pt)\n",
    "    fd = paramspace[row, \"output_path_unique_kmers\"]\n",
    "    \n",
    "    data <- read.table(paste(\"../data/\", pt, \"/\", fd ,\"/\", input_folder, \"/\", filename, sep = \"\"))\n",
    "    data <- data %>% mutate(patient_id = pt)\n",
    "    \n",
    "    cum_sum <- NULL\n",
    "    for (row in 1:nrow(data)){\n",
    "        if (row <= 1000){\n",
    "            sub_data <- data[row:nrow(data), ]\n",
    "            cum_sum <- c(cum_sum, sum(sub_data$V2))\n",
    "        } else {\n",
    "            cum_sum <- c(cum_sum, NA)\n",
    "        }\n",
    "        }\n",
    "\n",
    "    data <- data %>% mutate(cumulative_kmers = cum_sum)\n",
    "    \n",
    "    data_all <- rbind(data_all, data)\n",
    "    }\n",
    "\n"
   ]
  },
  {
   "cell_type": "code",
   "execution_count": null,
   "id": "53abef02-3304-4037-aca3-b1643d3c4fdd",
   "metadata": {},
   "outputs": [],
   "source": [
    "dim(data_all)\n",
    "\n",
    "colnames(data_all) <- c(\"count\", \"n\", \"patient_id\", \"cumulative_kmers\")\n",
    "head(data_all)"
   ]
  },
  {
   "cell_type": "code",
   "execution_count": null,
   "id": "c1767bb3-efb6-4e2c-8a8c-88b3eae4484f",
   "metadata": {},
   "outputs": [],
   "source": []
  },
  {
   "cell_type": "code",
   "execution_count": null,
   "id": "c1e91763-209e-4ca2-a3f7-533c42919a59",
   "metadata": {},
   "outputs": [],
   "source": []
  },
  {
   "cell_type": "code",
   "execution_count": null,
   "id": "3a0524d3-5fcc-4f92-a7fe-aa4b3e44f817",
   "metadata": {},
   "outputs": [],
   "source": [
    "data_all_1000 <- data_all %>% filter(count <= 250)\n",
    "data_all_1000$label <- NA\n",
    "data_all_1000$label[which(data_all_1000$count == max(data_all_1000$count))] <- data_all_1000$patient_id[which(data_all_1000$count == max(data_all_1000$count))]\n"
   ]
  },
  {
   "cell_type": "code",
   "execution_count": null,
   "id": "782e4dca-bee1-4980-bb6d-84a4b25324ef",
   "metadata": {},
   "outputs": [],
   "source": [
    "#data_only_500[1, \"patient_id\"]\n",
    "data_only_250 <- data_all_1000 %>% filter(count == 125)\n",
    "data_only_250\n",
    "log(max(data_only_250$n))"
   ]
  },
  {
   "cell_type": "code",
   "execution_count": null,
   "id": "bb07691c-0781-439b-87b8-36d58b6f5e85",
   "metadata": {},
   "outputs": [],
   "source": [
    "\n",
    "\n",
    "line_smooth <- ggplot(data_all_1000) + \n",
    "    #geom_smooth(aes(count, log10(n), color = patient_id), size = 0.5, alpha = 1, se = FALSE) + \n",
    "    geom_line(aes(count, log10(n), color = patient_id), size = 0.4, alpha = 0.7) + \n",
    "    xlab(\"Number of times k-mer is observed\") + \n",
    "    ylab(\"log(Number of k-mers)\") + \n",
    "    theme_minimal()  + \n",
    "    annotate(\"text\", x = 150, y = log10(max(data_only_250$n)) + 0.6, label = data_only_250$patient_id[which(data_only_250$n == max(data_only_250$n))]) +\n",
    "    ggtitle(paste(plot_title, \", pipeline \", input_folder, sep =  \"\"))\n",
    "\n",
    "line_smooth\n",
    "\n"
   ]
  },
  {
   "cell_type": "code",
   "execution_count": null,
   "id": "2662ce9e-cadd-4f50-81c2-ede27ba7924c",
   "metadata": {},
   "outputs": [],
   "source": [
    "line_cumulative <- ggplot(data_all_1000) + \n",
    "    #geom_smooth(aes(count, log10(cumulative_kmers), color = patient_id), size = 0.5, alpha = 1, se = FALSE) + \n",
    "    geom_line(aes(count, log10(cumulative_kmers), color = patient_id), size = 0.5, alpha = 1) + \n",
    "    xlab(\"Number of times k-mer is observed\") + \n",
    "    ylab(\"log(Cumulative number of kmers (excluding everything < x)\") + \n",
    "    theme_minimal()  + \n",
    "    annotate(\"text\", x = 125, y = log10(max(data_only_250$cumulative_kmers)) + 0.6, label = data_only_250$patient_id[which(data_only_250$n == max(data_only_250$n))]) +\n",
    "    ggtitle(paste(plot_title, \", pipeline \", input_folder, sep =  \"\"))\n",
    "\n",
    "line_cumulative"
   ]
  },
  {
   "cell_type": "code",
   "execution_count": null,
   "id": "f0c4a8bb-52cc-462d-884d-d33bb943612a",
   "metadata": {},
   "outputs": [],
   "source": []
  },
  {
   "cell_type": "code",
   "execution_count": null,
   "id": "d3add948-6f90-45be-91f5-d32ab7bf4d1e",
   "metadata": {},
   "outputs": [],
   "source": []
  },
  {
   "cell_type": "code",
   "execution_count": null,
   "id": "dae2a799-5fcc-4be2-b73b-83fb1fea1a00",
   "metadata": {},
   "outputs": [],
   "source": [
    "ggsave(\n",
    "  paste(\"../plotting_results/\", output_folder, \"/kmer_distributions/\", plot_title, \"_count_distribution.png\", sep = \"\"),\n",
    "  line_smooth, dpi = \"print\")\n",
    "\n",
    "ggsave(\n",
    "  paste(\"../plotting_results/\", output_folder, \"/kmer_distributions/\", plot_title, \"_count_distribution_cumulative.png\", sep = \"\"),\n",
    "  line_cumulative, dpi = \"print\")"
   ]
  },
  {
   "cell_type": "code",
   "execution_count": null,
   "id": "9957a446-531d-4cd4-8bab-76e768a8bc5d",
   "metadata": {},
   "outputs": [],
   "source": []
  },
  {
   "cell_type": "code",
   "execution_count": null,
   "id": "2e4657b9-71ea-42de-8753-4de083dcedd4",
   "metadata": {},
   "outputs": [],
   "source": []
  }
 ],
 "metadata": {
  "kernelspec": {
   "display_name": "R",
   "language": "R",
   "name": "ir"
  },
  "language_info": {
   "codemirror_mode": "r",
   "file_extension": ".r",
   "mimetype": "text/x-r-source",
   "name": "R",
   "pygments_lexer": "r",
   "version": "3.6.1"
  }
 },
 "nbformat": 4,
 "nbformat_minor": 5
}
