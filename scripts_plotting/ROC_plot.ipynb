{
 "cells": [
  {
   "cell_type": "code",
   "execution_count": null,
   "id": "99b5b644-ec37-4dc1-ab0c-886d02dad99a",
   "metadata": {},
   "outputs": [],
   "source": [
    "library(tidyverse)\n",
    "library(ROCR)"
   ]
  },
  {
   "cell_type": "code",
   "execution_count": null,
   "id": "f30050d9-3fad-47a5-8aa5-c5b454506545",
   "metadata": {},
   "outputs": [],
   "source": [
    "paramspace = read.csv(\"../data/metadata/paramspace_cfDNA_phaseI.csv\")\n",
    "\n",
    "paramspace  <- paramspace %>% rename(patient_id = pt_id)\n",
    "head(paramspace)"
   ]
  },
  {
   "cell_type": "code",
   "execution_count": null,
   "id": "5dac90ae-57a4-4ae0-8738-5c992751b668",
   "metadata": {},
   "outputs": [],
   "source": [
    "nrow(paramspace)\n",
    "\n",
    "low_qual_sample <- read.table(\"../low_qual_sample.txt\")\n",
    "low_qual_sample <- as.character(low_qual_sample[[1]])"
   ]
  },
  {
   "cell_type": "code",
   "execution_count": null,
   "id": "451dd0e2-5b25-4afd-a200-a87b94cd70c5",
   "metadata": {},
   "outputs": [],
   "source": [
    "#filetype = # \"ratio_cs1e9\" # \"ratio_singletons_excluded_tumor_cs\" # \"ratio_singletons_excluded_tumor_4_cs\"\n",
    "filetype = \"ratio\"\n",
    "\n",
    "#input_folder = all_germline_filtered_bams_tumor_ci5_cs1e9 # all_germline_filtered_bams_tumor_ci5_cs1e9_filtered_cfDNA # de_novo_germline # de_novo_germline_filtered_cfDNA\n",
    "input_folder = \"de_novo_germline_filtered_cfDNA\"\n",
    "\n",
    "paramspace[\"big_ratio\"] <- NA\n",
    "paramspace[\"big_ratio_CI_lower\"] <- NA\n",
    "paramspace[\"big_ratio_CI_upper\"] <- NA\n",
    "\n",
    "paramspace[\"small_ratio\"] <- NA\n",
    "paramspace[\"small_ratio_CI_lower\"] <- NA\n",
    "paramspace[\"small_ratio_CI_upper\"] <- NA\n",
    "\n",
    "for (row in 1:nrow(paramspace)){\n",
    "    pt = paramspace[row, \"patient_id\"]\n",
    "    #print(pt)\n",
    "    fd = paramspace[row, \"cfDNA_folder\"]\n",
    "    big_r = read.csv(paste(\"../data/\", pt, \"/\" , fd, \"/\", input_folder, \"/big_\", filetype, \".csv\", sep = \"\"))\n",
    "    small_r = read.csv(paste(\"../data/\", pt, \"/\", fd, \"/\", input_folder, \"/small_\", filetype, \".csv\", sep = \"\"))\n",
    "    #print(big_r[[1]])\n",
    "    #print(small_r[[1]])\n",
    "    paramspace[row, \"big_ratio\"] = big_r$ratio\n",
    "    paramspace[row, \"big_ratio_CI_lower\"] = big_r$lower_CI\n",
    "    paramspace[row, \"big_ratio_CI_upper\"] = big_r$upper_CI\n",
    "    \n",
    "    paramspace[row, \"small_ratio\"] = small_r$ratio\n",
    "    paramspace[row, \"small_ratio_CI_lower\"] = small_r$lower_CI\n",
    "    paramspace[row, \"small_ratio_CI_upper\"] = small_r$upper_CI\n",
    "}"
   ]
  },
  {
   "cell_type": "code",
   "execution_count": null,
   "id": "d7ec5058-2cdd-4f18-aff6-304ff6751fad",
   "metadata": {},
   "outputs": [],
   "source": [
    "res <- paramspace\n",
    "head(res)"
   ]
  },
  {
   "cell_type": "code",
   "execution_count": null,
   "id": "8fd696af-f55b-4072-9a87-80e2a3c64dce",
   "metadata": {},
   "outputs": [],
   "source": [
    "#res <- res %>% separate(cfDNA_folder, c(\"sampleID\", \"sample_type\", \"sample_number\"))\n",
    "res <- res %>% \n",
    "  mutate(tmp_chunks = stringr::str_split(cfDNA_folder, stringr::fixed(\"_\"),  n = 3)) %>%\n",
    "  mutate(sampleID = map_chr(tmp_chunks, 1),\n",
    "         sub_value = map_chr(tmp_chunks, 2), \n",
    "         sub_val = map_chr(tmp_chunks, 3)) %>%\n",
    "  select(-c(tmp_chunks, sub_value, sub_val))\n",
    "\n",
    "head(res)\n",
    "dim(res)"
   ]
  },
  {
   "cell_type": "code",
   "execution_count": null,
   "id": "dc9b3386-8aa9-4bec-a591-eeaf6dd0717d",
   "metadata": {},
   "outputs": [],
   "source": [
    "sample_timepoint <- read.csv(\"../data/metadata/clin_data/sample_timepoint_formatted.csv\")"
   ]
  },
  {
   "cell_type": "code",
   "execution_count": null,
   "id": "643c27eb-b047-4d03-8fc0-c52861d5f8c8",
   "metadata": {},
   "outputs": [],
   "source": [
    "head(sample_timepoint)\n",
    "sample_timepoint_days <- sample_timepoint %>% filter(phase == \"phaseI\")\n",
    "sample_timepoint_days <- sample_timepoint_days %>% select(sampleID, sample_timepoint_days_since_OP)\n",
    "sample_timepoint_days %>% filter(is.na(sample_timepoint_days_since_OP))\n",
    "dim(sample_timepoint_days)\n",
    "head(sample_timepoint_days)"
   ]
  },
  {
   "cell_type": "code",
   "execution_count": null,
   "id": "118a04b9-176a-4945-be50-6f93603abf13",
   "metadata": {},
   "outputs": [],
   "source": [
    "res$sampleID <- as.character(res$sampleID)\n",
    "res <- left_join(res, sample_timepoint_days, by = c(\"sampleID\"))\n",
    "head(res)\n",
    "dim(res)"
   ]
  },
  {
   "cell_type": "code",
   "execution_count": null,
   "id": "ffc4f3d4-2a99-4e78-a3a6-229d84efdef1",
   "metadata": {},
   "outputs": [],
   "source": [
    "pos_neg = read.csv(\"../data/metadata/pos_neg_samples_phaseI.csv\")\n",
    "resv1 <- left_join(res, pos_neg, by = c(\"sampleID\"))\n",
    "head(resv1)"
   ]
  },
  {
   "cell_type": "code",
   "execution_count": null,
   "id": "3dabd3e5-bc26-462c-adda-7858acafb7b2",
   "metadata": {},
   "outputs": [],
   "source": [
    "res_only_posneg <- resv1 %>% filter(!is.na(pos_neg_samples))\n",
    "head(res_only_posneg)\n",
    "dim(res_only_posneg)"
   ]
  },
  {
   "cell_type": "code",
   "execution_count": null,
   "id": "f26a9f6a-ae15-447c-972f-0efa56b49e9a",
   "metadata": {},
   "outputs": [],
   "source": [
    "res_only_posneg_pt_rm <- res_only_posneg %>% filter(!patient_id %in% low_qual_sample)"
   ]
  },
  {
   "cell_type": "code",
   "execution_count": null,
   "id": "3745a224-6e17-4434-a30c-abde3f2b929e",
   "metadata": {},
   "outputs": [],
   "source": [
    "pred <- prediction(res_only_posneg_pt_rm$big_ratio, res_only_posneg_pt_rm$pos_neg_samples)\n",
    "perf <- performance(pred,\"tpr\",\"fpr\")\n",
    "perf <- tibble(FPR = perf@x.values[[1]], TPR = perf@y.values[[1]])\n",
    "\n",
    "auc <- performance(pred, measure = \"auc\")\n",
    "auc <- auc@y.values[[1]]\n",
    "\n",
    "p_big_ratio <- ggplot() + geom_line(data = perf, aes(x = FPR, y=TPR), color = \"firebrick\", size = 1) + \n",
    "           geom_abline(intercept = 0, slope = 1, color = \"lightgrey\", size = 0.5) +\n",
    "           theme_minimal() + ggtitle(paste(\"Big ratio, AUC: \", round(auc, 4), sep = \"\"))\n",
    "\n",
    "print(p_big_ratio)\n",
    "#png(paste(\"../plotting_results/ROC_curves/ROC_big_\", filetype, \".png\", sep = \"\"))\n",
    "#print(p_big_ratio)\n",
    "#dev.off()"
   ]
  },
  {
   "cell_type": "code",
   "execution_count": null,
   "id": "1c491019-35ec-434e-b328-3a5752c628a3",
   "metadata": {},
   "outputs": [],
   "source": [
    "pred <- prediction(res_only_posneg_pt_rm$small_ratio, res_only_posneg_pt_rm$pos_neg_samples)\n",
    "perf <- performance(pred,\"tpr\",\"fpr\")\n",
    "perf <- tibble(FPR = perf@x.values[[1]], TPR = perf@y.values[[1]])\n",
    "\n",
    "auc <- performance(pred, measure = \"auc\")\n",
    "auc <- auc@y.values[[1]]\n",
    "\n",
    "p_small_ratio <- ggplot() + geom_line(data = perf, aes(x = FPR, y=TPR), color = \"firebrick\", size = 1) + \n",
    "           geom_abline(intercept = 0, slope = 1, color = \"lightgrey\", size = 0.5) +\n",
    "           theme_minimal() +  ggtitle(paste(\"Small ratio, AUC: \", round(auc, 4), sep = \"\"))\n",
    "\n",
    "print(p_small_ratio)\n",
    "#png(paste(\"../plotting_results/ROC_curves/ROC_small_\", filetype, \".png\", sep = \"\"))\n",
    "#print(p_small_ratio)\n",
    "#dev.off()"
   ]
  },
  {
   "cell_type": "code",
   "execution_count": null,
   "id": "bf732431-032d-44d4-b22d-28a8d85bf8e6",
   "metadata": {},
   "outputs": [],
   "source": [
    "pos_neg = read.csv(\"../data/metadata/pos_neg_samples_phaseI_V2.csv\")\n",
    "pos_neg$sampleID <- as.character(pos_neg$sampleID)\n",
    "resv2 <- left_join(res, pos_neg, by = c(\"sampleID\"))\n",
    "head(resv2)"
   ]
  },
  {
   "cell_type": "code",
   "execution_count": null,
   "id": "ea2e6d44-0dc9-460f-8967-790baaf6e5ee",
   "metadata": {},
   "outputs": [],
   "source": [
    "res_only_posneg_v2 <- resv2 %>% filter(!is.na(pos_neg_samples))\n",
    "head(res_only_posneg_v2)\n",
    "dim(res_only_posneg_v2)"
   ]
  },
  {
   "cell_type": "code",
   "execution_count": null,
   "id": "39894dd9-8bb8-4793-9aae-3d72355cb8a0",
   "metadata": {},
   "outputs": [],
   "source": [
    "res_only_posneg_v2_pt_rm <- res_only_posneg_v2 %>% filter(!patient_id %in% low_qual_sample)"
   ]
  },
  {
   "cell_type": "code",
   "execution_count": null,
   "id": "f4b5967e-8af8-413b-a3f5-559c5cb0e46f",
   "metadata": {},
   "outputs": [],
   "source": [
    "pred <- prediction(res_only_posneg_v2_pt_rm$big_ratio, res_only_posneg_v2_pt_rm$pos_neg_samples)\n",
    "perf <- performance(pred,\"tpr\",\"fpr\")\n",
    "perf <- tibble(FPR = perf@x.values[[1]], TPR = perf@y.values[[1]])\n",
    "\n",
    "auc <- performance(pred, measure = \"auc\")\n",
    "auc <- auc@y.values[[1]]\n",
    "\n",
    "p_big_ratio <- ggplot() + geom_line(data = perf, aes(x = FPR, y=TPR), color = \"firebrick\", size = 1) + \n",
    "           geom_abline(intercept = 0, slope = 1, color = \"lightgrey\", size = 0.5) +\n",
    "           theme_minimal() + ggtitle(paste(\"V2 Big ratio, AUC: \", round(auc, 4), sep = \"\"))\n",
    "\n",
    "print(p_big_ratio)\n",
    "#png(paste(\"../plotting_results/ROC_curves/ROC_big_\", filetype, \".png\", sep = \"\"))\n",
    "#print(p_big_ratio)\n",
    "#dev.off()"
   ]
  },
  {
   "cell_type": "code",
   "execution_count": null,
   "id": "2b84f2c9-a81a-4c26-a077-285f1dc880b1",
   "metadata": {},
   "outputs": [],
   "source": [
    "pred <- prediction(res_only_posneg_v2_pt_rm$small_ratio, res_only_posneg_v2_pt_rm$pos_neg_samples)\n",
    "perf <- performance(pred,\"tpr\",\"fpr\")\n",
    "perf <- tibble(FPR = perf@x.values[[1]], TPR = perf@y.values[[1]])\n",
    "\n",
    "auc <- performance(pred, measure = \"auc\")\n",
    "auc <- auc@y.values[[1]]\n",
    "\n",
    "p_small_ratio <- ggplot() + geom_line(data = perf, aes(x = FPR, y=TPR), color = \"firebrick\", size = 1) + \n",
    "           geom_abline(intercept = 0, slope = 1, color = \"lightgrey\", size = 0.5) +\n",
    "           theme_minimal() +  ggtitle(paste(\"V2 Small ratio, AUC: \", round(auc, 4), sep = \"\"))\n",
    "\n",
    "print(p_small_ratio)\n",
    "#png(paste(\"../plotting_results/ROC_curves/ROC_small_\", filetype, \".png\", sep = \"\"))\n",
    "#print(p_small_ratio)\n",
    "#dev.off()"
   ]
  },
  {
   "cell_type": "markdown",
   "id": "c93f69db-3b31-4ee1-a586-a4d13506c0d0",
   "metadata": {},
   "source": [
    "### Normalized by post op ROCs"
   ]
  },
  {
   "cell_type": "code",
   "execution_count": null,
   "id": "b56b8268-42f9-4dd5-970a-4df8aba06b40",
   "metadata": {},
   "outputs": [],
   "source": [
    "Correlations <- read.csv(\"../data/ci5_cs1e9_correlation.csv\")\n",
    "relapse_label <- Correlations %>% select(cfDNA_sample, Relapse)\n",
    "colnames(relapse_label) <- c(\"cfDNA_folder\", \"Relapse_label\")"
   ]
  },
  {
   "cell_type": "code",
   "execution_count": null,
   "id": "25de07fb-ce84-4b33-a337-fa8b7a2ac817",
   "metadata": {},
   "outputs": [],
   "source": [
    "res_post_op_normalized <- NULL\n",
    "patients = as.character(unique(res$patient_id))\n",
    "\n",
    "for (i in patients){\n",
    "    res_pt <- resv1 %>% filter(patient_id == i)\n",
    "    \n",
    "    first_sample <- min(res_pt$sample_timepoint_days_since_OP)\n",
    "    without_first_sample <- res_pt %>% filter(sample_timepoint_days_since_OP != first_sample)\n",
    "    post_op_sample <- min(without_first_sample$sample_timepoint_days_since_OP)\n",
    "        \n",
    "    print(post_op_sample)\n",
    "    for (x in res_pt$cfDNA_folder){\n",
    "        sample_label_check <- res_pt %>% filter(cfDNA_folder == x)\n",
    "        \n",
    "        if (sample_label_check$sample_timepoint_days_since_OP == post_op_sample){\n",
    "            pre_val_big = sample_label_check$big_ratio\n",
    "            pre_val_small = sample_label_check$small_ratio}}\n",
    "    \n",
    "    res_post_op_normalized_pt <- res_pt %>% mutate(big_ratio_normalized = big_ratio/pre_val_big, small_ratio_normalized = small_ratio/pre_val_small)\n",
    "    \n",
    "    res_post_op_normalized <- rbind(res_post_op_normalized, res_post_op_normalized_pt)\n",
    "    \n",
    "    \n",
    "    }"
   ]
  },
  {
   "cell_type": "code",
   "execution_count": null,
   "id": "be0a26ea-9c1c-4a71-a257-6caa9cb89993",
   "metadata": {},
   "outputs": [],
   "source": [
    "res_post_op_normalized <- inner_join(res_post_op_normalized, relapse_label, by = \"cfDNA_folder\")"
   ]
  },
  {
   "cell_type": "code",
   "execution_count": null,
   "id": "87aa9fb7-08aa-4af7-8d8e-3ee8f327023b",
   "metadata": {},
   "outputs": [],
   "source": [
    "res_post_op_normalized_only_posneg <- res_post_op_normalized %>% filter(!is.na(pos_neg_samples))\n",
    "head(res_post_op_normalized_only_posneg)\n",
    "dim(res_post_op_normalized_only_posneg)"
   ]
  },
  {
   "cell_type": "code",
   "execution_count": null,
   "id": "6c416a15-eab6-4d8e-a125-f9c5a261cdf0",
   "metadata": {},
   "outputs": [],
   "source": [
    "res_post_op_normalized_only_posneg_pt_rm <- res_post_op_normalized_only_posneg %>% filter(!patient_id %in% low_qual_sample)"
   ]
  },
  {
   "cell_type": "code",
   "execution_count": null,
   "id": "fef11084-2e66-4fad-b4d6-db7cc1812c77",
   "metadata": {},
   "outputs": [],
   "source": [
    "pred <- prediction(res_post_op_normalized_only_posneg_pt_rm$big_ratio_normalized, res_post_op_normalized_only_posneg_pt_rm$pos_neg_samples)\n",
    "perf <- performance(pred,\"tpr\",\"fpr\")\n",
    "perf <- tibble(FPR = perf@x.values[[1]], TPR = perf@y.values[[1]])\n",
    "\n",
    "auc <- performance(pred, measure = \"auc\")\n",
    "auc <- auc@y.values[[1]]\n",
    "\n",
    "p_big_ratio <- ggplot() + geom_line(data = perf, aes(x = FPR, y=TPR), color = \"firebrick\", size = 1) + \n",
    "           geom_abline(intercept = 0, slope = 1, color = \"lightgrey\", size = 0.5) +\n",
    "           theme_minimal() + ggtitle(paste(\"Big ratio normalized by post op, AUC: \", round(auc, 4), sep = \"\"))\n",
    "\n",
    "print(p_big_ratio)\n",
    "#png(paste(\"../plotting_results/ROC_curves/ROC_big_\", filetype, \".png\", sep = \"\"))\n",
    "#print(p_big_ratio)\n",
    "#dev.off()"
   ]
  },
  {
   "cell_type": "code",
   "execution_count": null,
   "id": "522badd2-9211-466c-bd98-6b0e38c5af2a",
   "metadata": {},
   "outputs": [],
   "source": [
    "pred <- prediction(res_post_op_normalized_only_posneg_pt_rm$small_ratio_normalized, res_post_op_normalized_only_posneg_pt_rm$pos_neg_samples)\n",
    "perf <- performance(pred,\"tpr\",\"fpr\")\n",
    "perf <- tibble(FPR = perf@x.values[[1]], TPR = perf@y.values[[1]])\n",
    "\n",
    "auc <- performance(pred, measure = \"auc\")\n",
    "auc <- auc@y.values[[1]]\n",
    "\n",
    "p_small_ratio <- ggplot() + geom_line(data = perf, aes(x = FPR, y=TPR), color = \"firebrick\", size = 1) + \n",
    "           geom_abline(intercept = 0, slope = 1, color = \"lightgrey\", size = 0.5) +\n",
    "           theme_minimal() +  ggtitle(paste(\"Small ratio normalized by post op, AUC: \", round(auc, 4), sep = \"\"))\n",
    "\n",
    "print(p_small_ratio)\n",
    "#png(paste(\"../plotting_results/ROC_curves/ROC_small_\", filetype, \".png\", sep = \"\"))\n",
    "#print(p_small_ratio)\n",
    "#dev.off()"
   ]
  },
  {
   "cell_type": "code",
   "execution_count": null,
   "id": "88e6fcc0-5b89-4287-904a-4aa8ef4db88d",
   "metadata": {},
   "outputs": [],
   "source": []
  },
  {
   "cell_type": "code",
   "execution_count": null,
   "id": "a8b457a9-b5ab-4487-a32a-2b5d60776656",
   "metadata": {},
   "outputs": [],
   "source": []
  },
  {
   "cell_type": "code",
   "execution_count": null,
   "id": "8a21ed6b-44b1-4860-9c89-a6eac18d419f",
   "metadata": {},
   "outputs": [],
   "source": [
    "res_post_op_normalized_v2 <- NULL\n",
    "patients = as.character(unique(resv2$patient_id))\n",
    "\n",
    "for (i in patients){\n",
    "    res_pt <- resv2 %>% filter(patient_id == i)\n",
    "    \n",
    "    first_sample <- min(res_pt$sample_timepoint_days_since_OP)\n",
    "    without_first_sample <- res_pt %>% filter(sample_timepoint_days_since_OP != first_sample)\n",
    "    post_op_sample <- min(without_first_sample$sample_timepoint_days_since_OP)\n",
    "        \n",
    "    print(post_op_sample)\n",
    "    for (x in res_pt$cfDNA_folder){\n",
    "        sample_label_check <- res_pt %>% filter(cfDNA_folder == x)\n",
    "        \n",
    "        if (sample_label_check$sample_timepoint_days_since_OP == post_op_sample){\n",
    "            pre_val_big = sample_label_check$big_ratio\n",
    "            pre_val_small = sample_label_check$small_ratio}}\n",
    "    \n",
    "    res_post_op_normalized_pt <- res_pt %>% mutate(big_ratio_normalized = big_ratio/pre_val_big, small_ratio_normalized = small_ratio/pre_val_small)\n",
    "    \n",
    "    res_post_op_normalized_v2 <- rbind(res_post_op_normalized_v2, res_post_op_normalized_pt)\n",
    "    \n",
    "    \n",
    "    }"
   ]
  },
  {
   "cell_type": "code",
   "execution_count": null,
   "id": "0712cbf6-4540-45b9-b585-85f4f72c1973",
   "metadata": {},
   "outputs": [],
   "source": [
    "res_post_op_normalized_v2 <- inner_join(res_post_op_normalized_v2, relapse_label, by = \"cfDNA_folder\")"
   ]
  },
  {
   "cell_type": "code",
   "execution_count": null,
   "id": "f7704d17-87cc-49a4-a84a-6a2076d28458",
   "metadata": {},
   "outputs": [],
   "source": [
    "res_post_op_normalized_v2_only_posneg <- res_post_op_normalized_v2 %>% filter(!is.na(pos_neg_samples))\n",
    "head(res_post_op_normalized_v2_only_posneg)\n",
    "dim(res_post_op_normalized_v2_only_posneg)"
   ]
  },
  {
   "cell_type": "code",
   "execution_count": null,
   "id": "baa87748-0947-4840-ba14-563424dfd1c1",
   "metadata": {},
   "outputs": [],
   "source": [
    "res_post_op_normalized_v2_only_posneg_pt_rm <- res_post_op_normalized_v2_only_posneg  %>% filter(!patient_id %in% low_qual_sample)"
   ]
  },
  {
   "cell_type": "code",
   "execution_count": null,
   "id": "7ebe5d4f-cca3-4db4-8fd7-b30a94bc60ee",
   "metadata": {},
   "outputs": [],
   "source": [
    "pred <- prediction(res_post_op_normalized_v2_only_posneg_pt_rm$big_ratio_normalized, res_post_op_normalized_v2_only_posneg_pt_rm$pos_neg_samples)\n",
    "perf <- performance(pred,\"tpr\",\"fpr\")\n",
    "perf <- tibble(FPR = perf@x.values[[1]], TPR = perf@y.values[[1]])\n",
    "\n",
    "auc <- performance(pred, measure = \"auc\")\n",
    "auc <- auc@y.values[[1]]\n",
    "\n",
    "p_big_ratio <- ggplot() + geom_line(data = perf, aes(x = FPR, y=TPR), color = \"firebrick\", size = 1) + \n",
    "           geom_abline(intercept = 0, slope = 1, color = \"lightgrey\", size = 0.5) +\n",
    "           theme_minimal() + ggtitle(paste(\"Big ratio normalized by post op, AUC: \", round(auc, 4), sep = \"\"))\n",
    "\n",
    "print(p_big_ratio)\n",
    "#png(paste(\"../plotting_results/ROC_curves/ROC_big_\", filetype, \".png\", sep = \"\"))\n",
    "#print(p_big_ratio)\n",
    "#dev.off()"
   ]
  },
  {
   "cell_type": "code",
   "execution_count": null,
   "id": "d7b09c0d-4048-430e-96aa-0068bce408fc",
   "metadata": {},
   "outputs": [],
   "source": [
    "pred <- prediction(res_post_op_normalized_v2_only_posneg_pt_rm$small_ratio_normalized, res_post_op_normalized_v2_only_posneg_pt_rm$pos_neg_samples)\n",
    "perf <- performance(pred,\"tpr\",\"fpr\")\n",
    "perf <- tibble(FPR = perf@x.values[[1]], TPR = perf@y.values[[1]])\n",
    "\n",
    "auc <- performance(pred, measure = \"auc\")\n",
    "auc <- auc@y.values[[1]]\n",
    "\n",
    "p_small_ratio <- ggplot() + geom_line(data = perf, aes(x = FPR, y=TPR), color = \"firebrick\", size = 1) + \n",
    "           geom_abline(intercept = 0, slope = 1, color = \"lightgrey\", size = 0.5) +\n",
    "           theme_minimal() +  ggtitle(paste(\"Small ratio normalized by post op, AUC: \", round(auc, 4), sep = \"\"))\n",
    "\n",
    "print(p_small_ratio)\n",
    "#png(paste(\"../plotting_results/ROC_curves/ROC_small_\", filetype, \".png\", sep = \"\"))\n",
    "#print(p_small_ratio)\n",
    "#dev.off()"
   ]
  },
  {
   "cell_type": "code",
   "execution_count": null,
   "id": "13e9a4ee-68b5-45d8-8fe7-5811aecf2da6",
   "metadata": {},
   "outputs": [],
   "source": []
  }
 ],
 "metadata": {
  "kernelspec": {
   "display_name": "R",
   "language": "R",
   "name": "ir"
  },
  "language_info": {
   "codemirror_mode": "r",
   "file_extension": ".r",
   "mimetype": "text/x-r-source",
   "name": "R",
   "pygments_lexer": "r",
   "version": "3.6.1"
  }
 },
 "nbformat": 4,
 "nbformat_minor": 5
}
