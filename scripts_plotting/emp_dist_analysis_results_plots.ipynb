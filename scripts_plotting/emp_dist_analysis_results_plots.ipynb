{
 "cells": [
  {
   "cell_type": "code",
   "execution_count": null,
   "id": "4a4003dd-62de-4678-82a1-c3af847ae5ec",
   "metadata": {},
   "outputs": [],
   "source": [
    "library(tidyverse)\n",
    "library(RColorBrewer)\n",
    "library(cowplot)"
   ]
  },
  {
   "cell_type": "code",
   "execution_count": null,
   "id": "b37a9d63-3232-4c58-9260-15a2b57fb30f",
   "metadata": {},
   "outputs": [],
   "source": [
    "############################################################################\n",
    "#                                                                          #\n",
    "#                          SET PARAMETERS HERE                             #\n",
    "#                                                                          #\n",
    "############################################################################\n",
    "\n",
    "# ci5_cs1e9        all_germline_filtered_bams_tumor_ci5_cs1e9 #de_novo_germline_reference\n",
    "input_folder_target_ratios = \"all_germline_filtered_bams_tumor_ci5_cs1e9\"\n",
    "# ratio_singletons_excluded_tumor_4_cs     ratio\n",
    "filetype_target_ratios = \"ratio\"\n",
    "\n",
    "# ratio_emp_dist_analysis_ci4_cs1e9    ratio_emp_dist_analysis_all_germline_filtered_tumor_bams_ci5_cs1e9 # ratio_emp_dist_analysis_de_novo_germline_reference\n",
    "input_folder_ratios_dist = \"ratio_emp_dist_analysis_all_germline_filtered_tumor_bams_ci5_cs1e9\"\n",
    "output_folder = \"union_germline_filtered_tumor_bams_ci5_cs1e9\" # ci5_cs1e9 # union_germline_filtered_tumor_bams_ci5_cs1e9 # de_novo_germline_reference"
   ]
  },
  {
   "cell_type": "code",
   "execution_count": null,
   "id": "43aafde5-feb2-4193-8b6a-19a17a88d047",
   "metadata": {},
   "outputs": [],
   "source": [
    "paramspace_emp <- read.csv(\"../data/metadata/paramspace_empirical_dist_analysis_phaseI.csv\", sep = \",\")\n",
    "dim(paramspace_emp)\n",
    "head(paramspace_emp)"
   ]
  },
  {
   "cell_type": "code",
   "execution_count": null,
   "id": "56121d00-2efa-40c9-a04a-f96306ee2a72",
   "metadata": {},
   "outputs": [],
   "source": [
    "paramspace_cfDNA <- read.csv(\"../data/metadata/paramspace_cfDNA_phaseI.csv\", sep = \",\")\n",
    "paramspace_cfDNA  <- paramspace_cfDNA %>% rename(patient_id = pt_id)\n",
    "dim(paramspace_cfDNA)"
   ]
  },
  {
   "cell_type": "code",
   "execution_count": null,
   "id": "7c913ee1-6d8b-45f9-9fa7-58bf2c24fdd4",
   "metadata": {},
   "outputs": [],
   "source": [
    "paramspace_cfDNA[\"big_ratio\"] <- NA\n",
    "paramspace_cfDNA[\"big_ratio_CI_lower\"] <- NA\n",
    "paramspace_cfDNA[\"big_ratio_CI_upper\"] <- NA\n",
    "\n",
    "paramspace_cfDNA[\"small_ratio\"] <- NA\n",
    "paramspace_cfDNA[\"small_ratio_CI_lower\"] <- NA\n",
    "paramspace_cfDNA[\"small_ratio_CI_upper\"] <- NA\n",
    "\n",
    "for (row in 1:nrow(paramspace_cfDNA)){\n",
    "    pt = paramspace_cfDNA[row, \"patient_id\"]\n",
    "    #print(pt)\n",
    "    fd = paramspace_cfDNA[row, \"cfDNA_folder\"]\n",
    "    big_r = read.csv(paste(\"../data/\", pt, \"/\" , fd, \"/\", input_folder_target_ratios, \"/\", \"big_\", filetype_target_ratios, \".csv\", sep = \"\"))\n",
    "    small_r = read.csv(paste(\"../data/\", pt, \"/\", fd, \"/\", input_folder_target_ratios, \"/\", \"small_\", filetype_target_ratios, \".csv\", sep = \"\"))\n",
    "    #print(big_r[[1]])\n",
    "    #print(small_r[[1]])\n",
    "    paramspace_cfDNA[row, \"big_ratio\"] = big_r$ratio\n",
    "    paramspace_cfDNA[row, \"big_ratio_CI_lower\"] = big_r$lower_CI\n",
    "    paramspace_cfDNA[row, \"big_ratio_CI_upper\"] = big_r$upper_CI\n",
    "    \n",
    "    paramspace_cfDNA[row, \"small_ratio\"] = small_r$ratio\n",
    "    paramspace_cfDNA[row, \"small_ratio_CI_lower\"] = small_r$lower_CI\n",
    "    paramspace_cfDNA[row, \"small_ratio_CI_upper\"] = small_r$upper_CI\n",
    "}"
   ]
  },
  {
   "cell_type": "code",
   "execution_count": null,
   "id": "8b3d8c3f-0b9f-4e7c-bc5a-752c26a8616f",
   "metadata": {},
   "outputs": [],
   "source": [
    "paramspace_cfDNA <- paramspace_cfDNA %>% \n",
    "  mutate(tmp_chunks = stringr::str_split(cfDNA_folder, stringr::fixed(\"_\"),  n = 3)) %>%\n",
    "  mutate(sampleID = map_chr(tmp_chunks, 1),\n",
    "         sub_value = map_chr(tmp_chunks, 2), \n",
    "         sub_val = map_chr(tmp_chunks, 3)) %>%\n",
    "  select(-c(tmp_chunks, sub_value, sub_val))\n",
    "\n",
    "head(paramspace_cfDNA)\n",
    "dim(paramspace_cfDNA)"
   ]
  },
  {
   "cell_type": "code",
   "execution_count": null,
   "id": "68615caa-e56c-4072-87b3-4b2be305bf18",
   "metadata": {},
   "outputs": [],
   "source": [
    "sample_timepoint <- read.csv(\"../data/metadata/clin_data/sample_timepoint_formatted.csv\")"
   ]
  },
  {
   "cell_type": "code",
   "execution_count": null,
   "id": "724193a5-5397-48ca-9f40-859bd21427cf",
   "metadata": {},
   "outputs": [],
   "source": [
    "sample_timepoint_days <- sample_timepoint %>% filter(phase == \"phaseI\")\n",
    "sample_timepoint_days <- sample_timepoint_days %>% select(sampleID, sample_timepoint_days_since_OP)\n",
    "print(sample_timepoint_days %>% filter(is.na(sample_timepoint_days_since_OP)))\n",
    "dim(sample_timepoint_days)\n",
    "head(sample_timepoint_days)"
   ]
  },
  {
   "cell_type": "code",
   "execution_count": null,
   "id": "9c893b3f-6cce-4c36-b582-3223ccadb6e4",
   "metadata": {},
   "outputs": [],
   "source": [
    "paramspace_cfDNA$sampleID <- as.character(paramspace_cfDNA$sampleID)\n",
    "paramspace_cfDNA <- left_join(paramspace_cfDNA, sample_timepoint_days, by = c(\"sampleID\"))\n",
    "head(paramspace_cfDNA)\n",
    "dim(paramspace_cfDNA)"
   ]
  },
  {
   "cell_type": "code",
   "execution_count": null,
   "id": "c46abbff-cc5a-4788-974d-8e46bc530aca",
   "metadata": {},
   "outputs": [],
   "source": [
    "getPalette = colorRampPalette(brewer.pal(9, \"Blues\"))"
   ]
  },
  {
   "cell_type": "code",
   "execution_count": null,
   "id": "c515dbde-53e2-4f17-afba-160531cad0c9",
   "metadata": {},
   "outputs": [],
   "source": [
    "head(paramspace_emp)"
   ]
  },
  {
   "cell_type": "code",
   "execution_count": null,
   "id": "7e53e954-0165-4bdf-883a-0538a8a7927f",
   "metadata": {},
   "outputs": [],
   "source": [
    "Correlations <- read.csv(\"../data/ci5_cs1e9_correlation.csv\")\n",
    "relapse_label <- Correlations %>% select(cfDNA_sample, Relapse)\n",
    "colnames(relapse_label) <- c(\"cfDNA_folder\", \"Relapse_label\")"
   ]
  },
  {
   "cell_type": "code",
   "execution_count": null,
   "id": "1edda2fa-7626-43c4-9bfb-09fd0bd793e2",
   "metadata": {},
   "outputs": [],
   "source": [
    "dim(paramspace_cfDNA)"
   ]
  },
  {
   "cell_type": "code",
   "execution_count": null,
   "id": "646eba8f-6aba-47dd-b8c6-fc7efce78e29",
   "metadata": {},
   "outputs": [],
   "source": [
    "paramspace_cfDNA <- left_join(paramspace_cfDNA, relapse_label, by = \"cfDNA_folder\")\n",
    "head(paramspace_cfDNA)"
   ]
  },
  {
   "cell_type": "code",
   "execution_count": null,
   "id": "82b6d4ba-0a4b-4f35-8774-75c2678e1a9b",
   "metadata": {},
   "outputs": [],
   "source": [
    "plots <- NULL\n",
    "plots_grid <- NULL\n",
    "plots_small <- NULL\n",
    "plots_grid_small <- NULL\n",
    "p_vals_all <- NULL\n",
    "\n",
    "for (pt in unique(paramspace_emp$patient_id)){\n",
    "    paramspace_emp_pt <- paramspace_emp %>% filter(patient_id == pt)\n",
    "    paramspace_cfDNA_pt <- paramspace_cfDNA %>% filter(patient_id == pt)\n",
    "    \n",
    "    paramspace_emp_pt[\"big_ratio\"] <- NA\n",
    "    paramspace_emp_pt[\"small_ratio\"] <- NA\n",
    "    \n",
    "    for (row in 1:nrow(paramspace_emp_pt)){\n",
    "        other_pt = paramspace_emp_pt[row, \"other_patient_id\"]\n",
    "        other_pt_cfDNA_folder = paramspace_emp_pt[row, \"other_patient_cfDNA_folder\"]\n",
    "        index  = paramspace_emp_pt[row, \"X\"]\n",
    "        big_r = read.csv(paste(\"../data/\", pt, \"/\" , input_folder_ratios_dist, \"/ratios/\", \"big_ratio_pt_\", other_pt, \"_cfDNAsample_\", other_pt_cfDNA_folder, \"_\", index, \".csv\", sep = \"\"))\n",
    "        small_r = read.csv(paste(\"../data/\", pt, \"/\" , input_folder_ratios_dist, \"/small_ratios/\", \"small_ratio_pt_\", other_pt, \"_cfDNAsample_\", other_pt_cfDNA_folder, \"_\", index, \".csv\", sep = \"\"))\n",
    "        paramspace_emp_pt[row, \"big_ratio\"] = big_r$ratio\n",
    "        paramspace_emp_pt[row, \"small_ratio\"] = small_r$ratio\n",
    "    }\n",
    "    ratios_other = paramspace_emp_pt$big_ratio\n",
    "    ratios_other = sort(ratios_other, decreasing = FALSE)\n",
    "    paramspace_cfDNA_pt[\"p_value\"] <- NA\n",
    "    \n",
    "    ratios_other_small = paramspace_emp_pt$small_ratio\n",
    "    ratios_other_small = sort(ratios_other_small, decreasing = FALSE)\n",
    "    paramspace_cfDNA_pt[\"p_value\"] <- NA\n",
    "    paramspace_cfDNA_pt[\"p_value_small_r\"] <- NA\n",
    "    \n",
    "    for (row in 1:nrow(paramspace_cfDNA_pt)){\n",
    "        ratio = paramspace_cfDNA_pt[row, \"big_ratio\"]\n",
    "        paramspace_cfDNA_pt[row, \"p_value\"] = sum(ratios_other >= ratio)/length(ratios_other)\n",
    "        \n",
    "        small_ratio = paramspace_cfDNA_pt[row, \"small_ratio\"]\n",
    "        paramspace_cfDNA_pt[row, \"p_value_small_r\"] = sum(ratios_other_small >= small_ratio)/length(ratios_other_small)\n",
    "        }\n",
    "    p_vals_all <- rbind(p_vals_all, paramspace_cfDNA_pt)\n",
    "    \n",
    "    \n",
    "    paramspace_cfDNA_pt$sample_timepoint <- as.factor(paramspace_cfDNA_pt$sample_timepoint)\n",
    "    colourCount = length(unique(paramspace_cfDNA_pt$sample_timepoint))\n",
    "    \n",
    "    #distribution_plot <- ggplot() + \n",
    "    #                          geom_histogram(data = paramspace_emp_pt, aes(x = big_ratio), fill = \"grey81\", color = \"grey50\", bins = 70) + \n",
    "    #                          geom_vline(data = paramspace_cfDNA_pt, aes(xintercept = big_ratio, color = sample_timepoint), size = 0.5, alpha = 1) + \n",
    "    #                          theme_minimal()  + \n",
    "    #                          scale_color_manual(values = getPalette(colourCount)) + \n",
    "    #                          labs(x = \"Big ratio\",\n",
    "    #                               y = \"count\", \n",
    "    #                               title = paste(\"Big ratio distribution\", sep =  \"\"),\n",
    "    #                               subtitle = paste(\"Patient \", pt, \" (\", paramspace_cfDNA_pt[1, \"Relapse_label\"], \")\", \"\\nPipeline \", input_folder_target_ratios, sep =  \"\"))\n",
    "    #\n",
    "    #distribution_plot_cowplot <- ggplot() + \n",
    "    #                          geom_histogram(data = paramspace_emp_pt, aes(x = big_ratio), fill = \"grey81\", color = \"grey50\", bins = 70) + \n",
    "    #                          geom_vline(data = paramspace_cfDNA_pt, aes(xintercept = big_ratio, color = sample_timepoint), size = 0.5, alpha = 1) + \n",
    "    #                          theme_minimal()  + \n",
    "    #                          scale_color_manual(values = getPalette(colourCount)) + \n",
    "    #                          labs(x = \"Big ratio\",\n",
    "    #                               y = \"count\", \n",
    "    #                               title = paste(pt, \" (\", paramspace_cfDNA_pt[1, \"Relapse_label\"], \")\", sep =  \"\")) +\n",
    "    #                          theme(legend.position = \"none\")\n",
    "    \n",
    "    #ggsave(\n",
    "    #  paste(\"../plotting_results/\", output_folder, \"/empirical_dist_analysis/big_ratios/Patient_\", pt, \"_Big_ratio_distribution.png\", sep = \"\"),\n",
    "    #  distribution_plot, dpi = \"print\")\n",
    "    \n",
    "    ######################################################################################################################################\n",
    "    ######################################################################################################################################\n",
    "    ######################################################################################################################################\n",
    "    \n",
    "    distribution_plot_small <- ggplot() + \n",
    "                              geom_histogram(data = paramspace_emp_pt, aes(x = small_ratio), fill = \"grey71\", color = \"grey50\", bins = 70) + \n",
    "                              geom_vline(data = paramspace_cfDNA_pt, aes(xintercept = small_ratio, color = sample_timepoint), size = 1.2, alpha = 1) + \n",
    "                              theme_minimal()  + \n",
    "                              scale_color_manual(values = getPalette(colourCount)) + \n",
    "                              labs(x = \" \",\n",
    "                                   y = \" \", \n",
    "                                   title = paste(\"Small ratio distribution\", sep =  \"\"),\n",
    "                                   subtitle = paste(\"Patient \", pt, \" (\", paramspace_cfDNA_pt[1, \"Relapse_label\"], \")\", \"\\nPipeline \", input_folder_target_ratios, sep =  \"\")) + \n",
    "                              theme(legend.position = \"none\",\n",
    "                                    text = element_text(size = 20),\n",
    "                                    plot.title = element_text(size=22)) + \n",
    "                              xlab(\"\") + ylab(\"\")\n",
    "    \n",
    "     distribution_plot_cowplot_small <- ggplot() + \n",
    "                              geom_histogram(data = paramspace_emp_pt, aes(x = small_ratio), fill = \"grey71\", color = \"grey50\", bins = 70) + \n",
    "                              geom_vline(data = paramspace_cfDNA_pt, aes(xintercept = small_ratio, color = sample_timepoint), size = 1.2, alpha = 1) + \n",
    "                              theme_minimal()  + \n",
    "                              scale_color_manual(values = getPalette(colourCount)) + \n",
    "                              labs(x = \" \",\n",
    "                                   y = \" \", \n",
    "                                   title = paste(pt, \" (\", paramspace_cfDNA_pt[1, \"Relapse_label\"], \")\", sep =  \"\")) +\n",
    "                              theme(legend.position = \"none\",\n",
    "                                    plot.title = element_text(size=18),\n",
    "                                    axis.text.x=element_text(size=12),\n",
    "                                    axis.text.y=element_text(size=12)) + \n",
    "                              xlab(\"\") + ylab(\"\")\n",
    "    \n",
    "    #ggsave(\n",
    "    #  paste(\"../plotting_results/\", output_folder, \"/empirical_dist_analysis/small_ratios/Patient_\", pt, \"_Small_ratio_distribution.png\", sep = \"\"),\n",
    "    #  distribution_plot_small, dpi = \"print\")\n",
    "\n",
    "    \n",
    "    #plots[[pt]] <- distribution_plot\n",
    "    #plots_grid[[pt]] <- distribution_plot_cowplot\n",
    "    \n",
    "    plots_small[[pt]] <- distribution_plot_small\n",
    "    plots_grid_small[[pt]] <- distribution_plot_cowplot_small\n",
    "    \n",
    "    }"
   ]
  },
  {
   "cell_type": "code",
   "execution_count": null,
   "id": "1b6b9786-2468-4402-a039-5b23a006b8a4",
   "metadata": {},
   "outputs": [],
   "source": [
    "options(repr.plot.width=12, repr.plot.height=8)\n",
    "combined_plot"
   ]
  },
  {
   "cell_type": "code",
   "execution_count": null,
   "id": "de85d2a9-b6e1-4644-9eca-ba112e07327b",
   "metadata": {},
   "outputs": [],
   "source": [
    "ggsave(\n",
    "      paste(\"../plotting_results/\", output_folder, \"/empirical_dist_analysis/big_ratios/Combined_plots_Big_ratio_distribution.png\", sep = \"\"),\n",
    "      combined_plot, width = 15, height = 8, dpi = \"print\")"
   ]
  },
  {
   "cell_type": "code",
   "execution_count": null,
   "id": "c3f482f9-9eb6-4614-9976-a8dbe6874e71",
   "metadata": {},
   "outputs": [],
   "source": [
    "options(repr.plot.width=11, repr.plot.height=12)\n",
    "combined_plot_small"
   ]
  },
  {
   "cell_type": "code",
   "execution_count": null,
   "id": "fe4a012d-8c57-4685-bfe2-b89e8a816990",
   "metadata": {},
   "outputs": [],
   "source": [
    "ggsave(\n",
    "      paste(\"../plotting_results/\", output_folder, \"/empirical_dist_analysis/small_ratios/Combined_plots_Small_ratio_distribution.png\", sep = \"\"),\n",
    "      combined_plot_small, width = 15, height = 8, dpi = \"print\")"
   ]
  },
  {
   "cell_type": "markdown",
   "id": "899c1dda-f197-4ba7-92b7-30f757216e87",
   "metadata": {},
   "source": [
    "## Calculate p-values"
   ]
  },
  {
   "cell_type": "code",
   "execution_count": null,
   "id": "b1200b69-2148-412e-b753-a1f581cf072f",
   "metadata": {},
   "outputs": [],
   "source": [
    "dim(paramspace_cfDNA)"
   ]
  },
  {
   "cell_type": "code",
   "execution_count": null,
   "id": "a348f45b-e681-4e51-bd8a-6d3651a7a72e",
   "metadata": {},
   "outputs": [],
   "source": [
    "dim(p_vals_all)"
   ]
  },
  {
   "cell_type": "code",
   "execution_count": null,
   "id": "0435be91-a1aa-4be2-92bc-0c0ba7e170d7",
   "metadata": {},
   "outputs": [],
   "source": [
    "p_vals_all <- p_vals_all %>% select(patient_id, cfDNA_folder, unique_kmers_folder, big_ratio, small_ratio, sampleID, sample_timepoint_days_since_OP, Relapse_label, p_value, p_value_small_r)\n",
    "head(p_vals_all)"
   ]
  },
  {
   "cell_type": "code",
   "execution_count": null,
   "id": "85ae2db3-fea0-44b0-8cf0-c3cce34079e2",
   "metadata": {},
   "outputs": [],
   "source": [
    "write.csv(p_vals_all,  paste(\"../plotting_results/\", output_folder, \"/empirical_dist_analysis/p_values.csv\", sep = \"\"), row.names = FALSE)"
   ]
  },
  {
   "cell_type": "code",
   "execution_count": null,
   "id": "028870c1-d985-40cd-91ac-652a2915b654",
   "metadata": {},
   "outputs": [],
   "source": []
  }
 ],
 "metadata": {
  "kernelspec": {
   "display_name": "R",
   "language": "R",
   "name": "ir"
  },
  "language_info": {
   "codemirror_mode": "r",
   "file_extension": ".r",
   "mimetype": "text/x-r-source",
   "name": "R",
   "pygments_lexer": "r",
   "version": "3.6.1"
  }
 },
 "nbformat": 4,
 "nbformat_minor": 5
}
