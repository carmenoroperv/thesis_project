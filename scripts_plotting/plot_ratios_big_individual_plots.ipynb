{
 "cells": [
  {
   "cell_type": "code",
   "execution_count": null,
   "id": "71e68840-29c2-40fc-a62d-ea179bdcec2d",
   "metadata": {},
   "outputs": [],
   "source": [
    "library(tidyverse)\n",
    "library(stringr) \n",
    "library(plotly)"
   ]
  },
  {
   "cell_type": "code",
   "execution_count": null,
   "id": "e193650f-52ee-4265-9b53-912c1bd270c5",
   "metadata": {},
   "outputs": [],
   "source": [
    "##############################################################################\n",
    "\n",
    "##########################     INPUT PARAMETERS    ###########################\n",
    "\n",
    "##############################################################################\n",
    "\n",
    "\n",
    "\n",
    "# filetype = # \"ratio_all_germline_singletons_excluded_tumor_4_cs\" # # \"ratio_singletons_excluded_tumor_4_cs\" # \"ratio\" \n",
    "filetype = \"ratio\"\n",
    "\n",
    "# input_folder =   \"ci5_cs1e9\" # \"all_germline_ci5_cs1e9\" # \"all_germline_filtered_bams_tumor_ci5_cs1e9\" # \"all_germline_filtered_bams_tumor_subtract_other_tumor_ci5_cs1e9\", all_germline_filtered_bams_tumor_ci5_cs1e9_filtered_cfDNA\n",
    "# all_germline_filtered_bams_tumor_ci5_cs1e9_filtered_cfDNA # de_novo_germline # all_germline_filtered_bams_tumor_ci5_cs1e9_filtered_cfDNA_subtracted_kmers_not_seen\n",
    "# all_germline_filtered_bams_tumor_ci5_cs1e9_well_mapping_subtracted # de_novo_germline # de_novo_germline_filtered_cfDNA # de_novo_germline_reference\n",
    "input_folder = \"de_novo_germline_reference\"\n",
    "\n",
    "# output_folder =  \"ci5_cs1e9\" # \"union_germline_ci4_cs1e9\" # \"union_germline_filtered_tumor_bams_ci5_cs1e9\" # \"union_germline_filtered_tumor_bams_subtract_other_tumors_ci5_cs1e9\"\n",
    "# union_germline_filtered_tumor_bams_ci5_cs1e9_filtered_cfDNA # de_novo_germline # union_germline_filtered_bams_tumor_ci5_cs1e9_filtered_cfDNA_subtracted_kmers_not_seen\n",
    "# union_germline_filtered_tumor_ci5_cs1e9_well_mapping_subtracted # de_novo_germline # de_novo_germline_filtered_cfDNA # de_novo_germline_reference\n",
    "output_folder = \"de_novo_germline_reference\"\n",
    "\n",
    "low_qual_sample <- read.table(\"../low_qual_sample.txt\")\n",
    "low_qual_sample <- as.character(low_qual_sample[[1]])\n",
    "\n",
    "phaseIpt <- read.csv(\"../phaseI_pt.csv\", header=FALSE)\n",
    "phaseIpt <- as.character(unlist(c(phaseIpt[1,])))"
   ]
  },
  {
   "cell_type": "code",
   "execution_count": null,
   "id": "716a4a9d-4f4b-4c78-a2aa-908674ab3f67",
   "metadata": {},
   "outputs": [],
   "source": [
    "paramspace = read.csv(\"../data/metadata/paramspace_cfDNA_phaseI.csv\")\n",
    "\n",
    "paramspace  <- paramspace %>% rename(patient_id = pt_id)\n",
    "head(paramspace)"
   ]
  },
  {
   "cell_type": "code",
   "execution_count": null,
   "id": "f2c0e256-b498-4c1b-9eb0-6d365ca624f8",
   "metadata": {},
   "outputs": [],
   "source": [
    "SAMPLES = paramspace[\"patient_id\"]\n",
    "FOLDERS = paramspace[\"cfDNA_folder\"]"
   ]
  },
  {
   "cell_type": "code",
   "execution_count": null,
   "id": "e2718c51-863b-4003-ac1e-add7203de77f",
   "metadata": {},
   "outputs": [],
   "source": [
    "nrow(paramspace)"
   ]
  },
  {
   "cell_type": "code",
   "execution_count": null,
   "id": "386461c3-526e-4409-b00e-fd9724efc328",
   "metadata": {},
   "outputs": [],
   "source": [
    "paramspace[\"big_ratio\"] <- NA\n",
    "paramspace[\"big_ratio_CI_lower\"] <- NA\n",
    "paramspace[\"big_ratio_CI_upper\"] <- NA\n",
    "\n",
    "paramspace[\"small_ratio\"] <- NA\n",
    "paramspace[\"small_ratio_CI_lower\"] <- NA\n",
    "paramspace[\"small_ratio_CI_upper\"] <- NA\n",
    "\n",
    "#paramspace[\"jaccard\"] <- NA\n",
    "#paramspace[\"jaccard_CI_lower\"] <- NA\n",
    "#paramspace[\"jaccard_CI_upper\"] <- NA\n",
    "\n",
    "for (row in 1:nrow(paramspace)){\n",
    "    pt = paramspace[row, \"patient_id\"]\n",
    "    #print(pt)\n",
    "    fd = paramspace[row, \"cfDNA_folder\"]\n",
    "    big_r = read.csv(paste(\"../data/\", pt, \"/\" , fd, \"/\", input_folder, \"/\", \"big_\", filetype, \".csv\", sep = \"\"))\n",
    "    small_r = read.csv(paste(\"../data/\", pt, \"/\", fd, \"/\", input_folder, \"/\", \"small_\", filetype, \".csv\", sep = \"\"))\n",
    "    #print(big_r[[1]])\n",
    "    #print(small_r[[1]])\n",
    "    paramspace[row, \"big_ratio\"] = big_r$ratio\n",
    "    paramspace[row, \"big_ratio_CI_lower\"] = big_r$lower_CI\n",
    "    paramspace[row, \"big_ratio_CI_upper\"] = big_r$upper_CI\n",
    "    \n",
    "    paramspace[row, \"small_ratio\"] = small_r$ratio\n",
    "    paramspace[row, \"small_ratio_CI_lower\"] = small_r$lower_CI\n",
    "    paramspace[row, \"small_ratio_CI_upper\"] = small_r$upper_CI\n",
    "}"
   ]
  },
  {
   "cell_type": "code",
   "execution_count": null,
   "id": "c983d4b5-dd1d-453e-b69d-970cf69c1d29",
   "metadata": {},
   "outputs": [],
   "source": [
    "res <- paramspace\n",
    "head(res)"
   ]
  },
  {
   "cell_type": "code",
   "execution_count": null,
   "id": "ef4aa368-7b40-426e-8839-0cb99d858aab",
   "metadata": {},
   "outputs": [],
   "source": [
    "#res <- res %>% separate(cfDNA_folder, c(\"sampleID\", \"sample_type\", \"sample_number\"))\n",
    "res <- res %>% \n",
    "  mutate(tmp_chunks = stringr::str_split(cfDNA_folder, stringr::fixed(\"_\"),  n = 3)) %>%\n",
    "  mutate(sampleID = map_chr(tmp_chunks, 1),\n",
    "         sub_value = map_chr(tmp_chunks, 2), \n",
    "         sub_val = map_chr(tmp_chunks, 3)) %>%\n",
    "  select(-c(tmp_chunks, sub_value, sub_val))\n",
    "\n",
    "head(res)\n",
    "dim(res)"
   ]
  },
  {
   "cell_type": "code",
   "execution_count": null,
   "id": "9c662e0d-7d23-49a1-89a0-fdb78e6c530a",
   "metadata": {},
   "outputs": [],
   "source": [
    "sample_timepoint <- read.csv(\"../data/metadata/clin_data/sample_timepoint_formatted.csv\")"
   ]
  },
  {
   "cell_type": "code",
   "execution_count": null,
   "id": "3aa5025b-a3bb-4ff2-b639-f00f2566fa34",
   "metadata": {},
   "outputs": [],
   "source": [
    "head(sample_timepoint)\n",
    "sample_timepoint_days <- sample_timepoint %>% filter(phase == \"phaseI\")\n",
    "sample_timepoint_days <- sample_timepoint_days %>% select(sampleID, sample_timepoint_days_since_OP)\n",
    "sample_timepoint_days %>% filter(is.na(sample_timepoint_days_since_OP))\n",
    "dim(sample_timepoint_days)\n",
    "head(sample_timepoint_days)"
   ]
  },
  {
   "cell_type": "code",
   "execution_count": null,
   "id": "c874738f-d7f9-45b4-a937-ba8bb0ba358c",
   "metadata": {},
   "outputs": [],
   "source": [
    "res$sampleID <- as.character(res$sampleID)\n",
    "res <- left_join(res, sample_timepoint_days, by = c(\"sampleID\"))\n",
    "head(res)\n",
    "dim(res)"
   ]
  },
  {
   "cell_type": "code",
   "execution_count": null,
   "id": "d419b5e8-241c-4aa9-b08e-6dccdcfed8d2",
   "metadata": {},
   "outputs": [],
   "source": [
    "res %>% filter(is.na(sample_timepoint_days_since_OP))"
   ]
  },
  {
   "cell_type": "code",
   "execution_count": null,
   "id": "7bf24bd5-1441-47ff-a259-6bf2574510ab",
   "metadata": {},
   "outputs": [],
   "source": [
    "clinical_data <- read.csv(\"../data/metadata/clin_data/clinical_data_formatted.csv\")\n",
    "clinical_data_relapse <- clinical_data %>% select(patient_id, time_to_relapse_days, adjuvant_chemo_start_days, adjuvant_chemo_end_days)\n",
    "head(clinical_data_relapse)"
   ]
  },
  {
   "cell_type": "code",
   "execution_count": null,
   "id": "11e7e677-fe59-4b14-ad2f-1044ede1abe3",
   "metadata": {},
   "outputs": [],
   "source": [
    "res <-left_join(res, clinical_data_relapse, by=\"patient_id\")\n",
    "head(res)\n",
    "dim(res)"
   ]
  },
  {
   "cell_type": "code",
   "execution_count": null,
   "id": "e7d6de04-42f3-42e7-a727-dcf1fea9cd6d",
   "metadata": {},
   "outputs": [],
   "source": [
    "interventions = read.csv(\"../data/metadata/clin_data/intervention_formatted.csv\")\n",
    "\n",
    "intervention_chemo = interventions %>% filter(intervention_type %in% c(4, 5, 12))\n",
    "intervention_other = interventions %>% filter(!intervention_type %in% c(4, 5, 12))\n",
    "\n",
    "intervention_chemo  <- intervention_chemo %>% rename(intervention_chemo_start_days = intervention_start_days)\n",
    "intervention_chemo  <- intervention_chemo %>% rename(intervention_chemo_end_days = intervention_end_days)\n",
    "intervention_other  <- intervention_other %>% rename(intervention_other_start_days = intervention_start_days)\n",
    "intervention_other  <- intervention_other %>% rename(intervention_other_end_days = intervention_end_days)\n",
    "\n",
    "intervention_chemo <- intervention_chemo %>% select(patient_id, intervention_chemo_start_days, intervention_chemo_end_days)\n",
    "intervention_other <- intervention_other %>% select(patient_id, intervention_other_start_days, intervention_other_end_days)\n",
    "\n",
    "phase_I_pts = phaseIpt\n",
    "intervention_chemo <- intervention_chemo %>% filter(patient_id %in% phase_I_pts)\n",
    "intervention_other <- intervention_other %>% filter(patient_id %in% phase_I_pts)\n",
    "\n",
    "\n",
    "head(intervention_chemo)\n",
    "head(intervention_other)\n",
    "\n",
    "\n",
    "dim(intervention_chemo)\n",
    "dim(intervention_other)"
   ]
  },
  {
   "cell_type": "code",
   "execution_count": null,
   "id": "91f4cb25-1bc3-4c67-b1cf-1da1db7dba67",
   "metadata": {},
   "outputs": [],
   "source": [
    "res_intervention <- full_join(res, intervention_chemo, by = c(\"patient_id\"))\n",
    "res_intervention <- full_join(res_intervention, intervention_other, by = c(\"patient_id\"))\n",
    "head(res_intervention)\n",
    "dim(res_intervention)"
   ]
  },
  {
   "cell_type": "code",
   "execution_count": null,
   "id": "d3743cad-040c-4804-b905-329035a948e1",
   "metadata": {},
   "outputs": [],
   "source": [
    "write.csv(res_intervention, \"../results_phaseI.csv\")"
   ]
  },
  {
   "cell_type": "code",
   "execution_count": null,
   "id": "470cd408-bf68-4811-829b-adef7037dbcd",
   "metadata": {},
   "outputs": [],
   "source": [
    "means <- tibble(patient_id = as.character(), \n",
    "                big_ratio_min = as.numeric(), \n",
    "                big_ratio_max = as.numeric(), \n",
    "                #jaccard_min = as.numeric(), \n",
    "                #jaccard_max = as.numeric(), \n",
    "                small_ratio_min = as.numeric(), \n",
    "                small_ratio_max = as.numeric())\n",
    "\n",
    "for (ind in phase_I_pts){\n",
    "    res_ind <- res_intervention %>% filter(patient_id == ind)\n",
    "    ind_big_r_max <- max(res_ind$big_ratio)\n",
    "    ind_big_r_min <- min(res_ind$big_ratio)\n",
    "    #ind_jaccard_max <- max(res_ind$jaccard)\n",
    "    #ind_jaccard_min <- min(res_ind$jaccard)\n",
    "    ind_small_r_max <- max(res_ind$small_ratio)\n",
    "    ind_small_r_min <- min(res_ind$small_ratio)\n",
    "    \n",
    "    row <- tibble(patient_id = ind, big_ratio_min = ind_big_r_min, big_ratio_max = ind_big_r_max, small_ratio_min = ind_small_r_min, small_ratio_max = ind_small_r_max)\n",
    "    #big_upper_ratio_min = ind_big_upper_r_min, big_upper_ratio_max = ind_big_upper_r_max,\n",
    "    \n",
    "    means <- rbind(means, row)\n",
    "    \n",
    "}\n",
    "\n",
    "head(means)\n",
    "res_intervention <- left_join(res_intervention, means, by = c(\"patient_id\"))\n",
    "head(res_intervention)"
   ]
  },
  {
   "cell_type": "code",
   "execution_count": null,
   "id": "a4f8aff4-d14e-4e6a-8039-69d66dd7a859",
   "metadata": {
    "tags": []
   },
   "outputs": [],
   "source": [
    "pt_unique = res_intervention %>% distinct(patient_id) %>% select(patient_id)\n",
    "pt_unique_v = pt_unique$patient_id\n",
    "\n",
    "plots_big_r <- NULL\n",
    "#plots_big_upper_r <- NULL\n",
    "plots_small_r <- NULL\n",
    "\n",
    "#res_pt = res %>% filter(pt_id == pt_unique_v[pt])\n",
    "    \n",
    "p_bigr <- ggplot() + \n",
    "                geom_ribbon(data = res_intervention, aes(x = sample_timepoint_days_since_OP, ymin = big_ratio_CI_lower, ymax = big_ratio_CI_upper), alpha = 0.1, color=\"grey\") +\n",
    "                geom_line(data = res_intervention, aes(x = as.numeric(as.character(sample_timepoint_days_since_OP)), y = big_ratio)) + \n",
    "                geom_point(data = res_intervention, aes(x = as.numeric(as.character(sample_timepoint_days_since_OP)), y = big_ratio)) +\n",
    "                #ggtitle(paste(\"Big ratio cs1e9, \", pt_unique_v[pt], sep = \"\")) + \n",
    "                xlab(\"Days\") +\n",
    "                ylab(\"TF (big_ratio)\") +\n",
    "                 \n",
    "                \n",
    "                \n",
    "                geom_vline(data = res_intervention, aes(xintercept=0), color= \"firebrick4\") +                                 # Surgery\n",
    "                geom_vline(data = res_intervention, aes(xintercept=time_to_relapse_days), color = \"steelblue4\", size = 1) +   # Relapse\n",
    "                \n",
    "                # adjuvant chemo\n",
    "                geom_rect(data = res_intervention,  \n",
    "                         aes(xmin = adjuvant_chemo_start_days, xmax = adjuvant_chemo_end_days, ymin = big_ratio_min, ymax = big_ratio_max), \n",
    "                             fill = \"cadetblue4\", alpha = 0.01) + \n",
    "\n",
    "                # chemo interventions\n",
    "                geom_rect(data = res_intervention,\n",
    "                         aes(xmin = intervention_chemo_start_days, xmax = intervention_chemo_end_days, ymin = big_ratio_min, ymax = big_ratio_max), \n",
    "                             fill = \"coral1\", alpha = 0.01) + \n",
    "                \n",
    "                 ## other interventions\n",
    "                geom_vline(data = res_intervention,\n",
    "                           aes(xintercept = intervention_other_start_days), color = \"coral1\", size = 1, alpha = 0.5) +\n",
    "\n",
    "                #geom_text(data = res_intervention, aes(x = sample_timepoint_days_since_OP, y = big_ratio, label =cfDNA_folder))+\n",
    "\n",
    "                #scale_color_manual(name='Legend',\n",
    "                #     breaks=c(\"Surgery\", \"Relapse\", \"Intervention\"),\n",
    "                #     values=c(\"Surgery\"=\"firebrick4\", \"Relapse\"=\"steelblue4\", \"Intervention\"=\"steelblue2\"))+\n",
    "                \n",
    "                theme_minimal() +\n",
    "                facet_wrap(~res_intervention$patient_id, ncol = 1, scales = \"free_y\")\n",
    "    \n",
    "    \n",
    "\n",
    "options(repr.plot.width=12, repr.plot.height=90)\n",
    "p_bigr\n",
    "\n",
    "\n",
    "    "
   ]
  },
  {
   "cell_type": "code",
   "execution_count": null,
   "id": "d59ad376-e112-46e7-a480-c80ffad8aa43",
   "metadata": {},
   "outputs": [],
   "source": [
    "ggsave(\n",
    "  paste(\"../plotting_results/\", output_folder, \"/big_plots/Big_\", filetype, \".png\", sep = \"\"),\n",
    "  p_bigr, width = 13, height = 50, dpi = \"print\", limitsize = FALSE\n",
    "    \n",
    ")"
   ]
  },
  {
   "cell_type": "code",
   "execution_count": null,
   "id": "8feb8675-d984-4b1e-ab4f-446d4f334d8b",
   "metadata": {},
   "outputs": [],
   "source": [
    "#p_big_upper_r <- ggplot() + \n",
    "#                geom_ribbon(data = res_intervention, aes(x = sample_timepoint_days_since_OP, ymin = big_upper_ratio_CI_lower, ymax = big_upper_ratio_CI_upper), alpha = 0.1, color=\"grey\") +\n",
    "#                geom_line(data = res_intervention, aes(x = as.numeric(as.character(sample_timepoint_days_since_OP)), y = big_upper_ratio)) + \n",
    "#                geom_point(data = res_intervention, aes(x = as.numeric(as.character(sample_timepoint_days_since_OP)), y = big_upper_ratio)) +\n",
    "#                #ggtitle(paste(\"Big ratio cs1e9, \", pt_unique_v[pt], sep = \"\")) + \n",
    "#                xlab(\"Days\") +\n",
    "#                ylab(\"TF (big_upper_ratio)\") +\n",
    "                 \n",
    "                \n",
    "                \n",
    "#                geom_vline(data = res_intervention, aes(xintercept=0), color= \"firebrick4\") +                                 # Surgery\n",
    "#                geom_vline(data = res_intervention, aes(xintercept=time_to_relapse_days), color = \"steelblue4\", size = 1) +   # Relapse\n",
    "                \n",
    "                # adjuvant chemo\n",
    "#                geom_rect(data = res_intervention,  \n",
    "#                         aes(xmin = adjuvant_chemo_start_days, xmax = adjuvant_chemo_end_days, ymin = big_upper_ratio_min, ymax = big_upper_ratio_max), \n",
    "#                             fill = \"cadetblue4\", alpha = 0.01) + \n",
    "\n",
    "                # chemo interventions\n",
    "#                geom_rect(data = res_intervention,\n",
    "#                         aes(xmin = intervention_chemo_start_days, xmax = intervention_chemo_end_days, ymin = big_upper_ratio_min, ymax = big_upper_ratio_max), \n",
    "#                             fill = \"coral1\", alpha = 0.01) + \n",
    "                \n",
    "                 ## other interventions\n",
    "#                geom_vline(data = res_intervention,\n",
    "#                           aes(xintercept = intervention_other_start_days), color = \"coral1\", size = 1, alpha = 0.5) +\n",
    "                #scale_color_manual(name='Legend',\n",
    "                #     breaks=c(\"Surgery\", \"Relapse\", \"Intervention\"),\n",
    "                #     values=c(\"Surgery\"=\"firebrick4\", \"Relapse\"=\"steelblue4\", \"Intervention\"=\"steelblue2\"))+\n",
    "                \n",
    "#                theme_minimal() +\n",
    "#                facet_wrap(~res_intervention$patient_id, ncol = 1, scales = \"free_y\")\n",
    "    \n",
    "    \n",
    "\n",
    "#options(repr.plot.width=12, repr.plot.height=90)\n",
    "#p_big_upper_r"
   ]
  },
  {
   "cell_type": "code",
   "execution_count": null,
   "id": "447bb5ad-cd8d-4f46-8e21-56859975e1a0",
   "metadata": {},
   "outputs": [],
   "source": [
    "#ggsave(\n",
    "#  paste(\"../plotting_results/\", output_folder, \"/big_plots/Big_upper_\", filetype, \".png\", sep = \"\"),\n",
    "#  p_big_upper_r, width = 13, height = 50, dpi = \"print\", limitsize = FALSE)"
   ]
  },
  {
   "cell_type": "code",
   "execution_count": null,
   "id": "05d1c4f6-a4dd-4331-bdde-d9edc913796e",
   "metadata": {},
   "outputs": [],
   "source": [
    "res_all <- res_intervention %>% select(-c(\"intervention_chemo_start_days\", \"intervention_chemo_end_days\", \"intervention_other_start_days\", \"intervention_other_end_days\")) %>% distinct()\n",
    "dim(res_all)\n",
    "head(res_all)"
   ]
  },
  {
   "cell_type": "code",
   "execution_count": null,
   "id": "0797586e-04d9-4724-b75a-34f4d5d0c019",
   "metadata": {},
   "outputs": [],
   "source": [
    "res_all_min_max_val <- res_all %>% select(patient_id, small_ratio_min, small_ratio_max)"
   ]
  },
  {
   "cell_type": "code",
   "execution_count": null,
   "id": "07e335ef-7f74-44ff-aaa8-d21f403c6a87",
   "metadata": {},
   "outputs": [],
   "source": [
    "intervention_chemo <- left_join(intervention_chemo, res_all_min_max_val, by = \"patient_id\")\n",
    "intervention_other <- left_join(intervention_other, res_all_min_max_val, by = \"patient_id\")"
   ]
  },
  {
   "cell_type": "code",
   "execution_count": null,
   "id": "d009267d-bd0b-4eae-93d9-f0ad989d2126",
   "metadata": {},
   "outputs": [],
   "source": [
    "low_qual_sample <- read.table(\"../low_qual_sample.txt\")\n",
    "low_qual_sample <- as.character(low_qual_sample[[1]])"
   ]
  },
  {
   "cell_type": "code",
   "execution_count": null,
   "id": "f49166cd-7e16-40a2-95f7-dbb91f71e10f",
   "metadata": {},
   "outputs": [],
   "source": [
    "res_all <- res_all %>% filter(patient_id != low_qual_sample)\n",
    "intervention_chemo <- intervention_chemo %>% filter(patient_id != low_qual_sample)\n",
    "intervention_other <- intervention_other %>% filter(patient_id != low_qual_sample)"
   ]
  },
  {
   "cell_type": "code",
   "execution_count": null,
   "id": "3d432546-021d-4458-a77f-02fbdd3844ec",
   "metadata": {},
   "outputs": [],
   "source": [
    "patients = as.character(unique(res_all$patient_id))\n",
    "normalized_res_intervention <- data.frame(matrix(ncol = 7, nrow = 0))\n",
    "colnames(normalized_res_intervention) <- c(\"patient_id\", \"cfDNA_folder\", \"small_ratio\", \"sample_timepoint_days_since_OP\", \"time_to_relapse_days\",\"small_ratio_normalized_preop\", \"small_ratio_normalized_postop\")\n",
    "res_all_normalized <- NULL\n",
    "\n",
    "for (i in patients){\n",
    "    res_pt <- res_all %>% filter(patient_id == i)\n",
    "    \n",
    "    first_sample <- min(res_pt$sample_timepoint_days_since_OP)\n",
    "    without_first_sample <- res_pt %>% filter(sample_timepoint_days_since_OP != first_sample)\n",
    "    post_op_sample <- min(without_first_sample$sample_timepoint_days_since_OP)\n",
    "    \n",
    "    pre_val_small_pre <- res_pt$small_ratio[which(res_pt$sample_timepoint_days_since_OP == first_sample)]\n",
    "    pre_val_small_post <- res_pt$small_ratio[which(res_pt$sample_timepoint_days_since_OP == post_op_sample)]\n",
    "    #print(pre_val_small_pre)\n",
    "    #print(pre_val_small_post)\n",
    "    res_pt <- res_pt %>% mutate(small_ratio_normalized_preop = small_ratio/pre_val_small_pre, small_ratio_normalized_postop = small_ratio/pre_val_small_post)\n",
    "    res_all_normalized <- rbind(res_all_normalized, res_pt)   \n",
    "}\n",
    "\n",
    "res_all_normalized <- res_all_normalized %>% mutate(small_ratio_normalized_postop_log = log10(small_ratio_normalized_postop), relapse_status_pred = ifelse(small_ratio_normalized_postop_log > 0.5, \"D\", \"ND\"))\n",
    "head(res_all_normalized)"
   ]
  },
  {
   "cell_type": "code",
   "execution_count": null,
   "id": "d8463f46-2de7-407c-805b-ee1d32b630ed",
   "metadata": {},
   "outputs": [],
   "source": [
    "## Read in c2i res\n",
    "c2i_res <- read.csv(\"../data/metadata/clin_data/c2i_res.csv\")\n",
    "c2i_res$Sample.ID <- as.character(c2i_res$Sample.ID)\n",
    "c2i_res$C2.Test <- as.character(c2i_res$C2.Test)\n",
    "c2i_res <- c2i_res %>% mutate(patient_id = paste0(\"C0\", Subject.ID), sampleID = substr(Sample.ID,1,nchar(Sample.ID)-6)) %>%\n",
    "    select(patient_id, sampleID, C2.Test, Tumor.Fraction)\n",
    "c2i_res$patient_id <- as.character(c2i_res$patient_id) \n",
    "c2i_res <- c2i_res %>% filter(patient_id != low_qual_sample)\n",
    "\n",
    "c2i_res <- c2i_res %>% filter(patient_id %in% unique(paramspace$patient_id))\n",
    "c2i_res <- left_join(c2i_res, sample_timepoint_days, by = c(\"sampleID\")) \n",
    "c2i_res <- c2i_res %>% filter(!is.na(sample_timepoint_days_since_OP))\n",
    "head(c2i_res)\n",
    "dim(c2i_res)\n",
    "\n",
    "c2i_res <-left_join(c2i_res, clinical_data_relapse, by=\"patient_id\")\n",
    "head(c2i_res)\n",
    "dim(c2i_res)"
   ]
  },
  {
   "cell_type": "code",
   "execution_count": null,
   "id": "ce0e6002-c932-4521-83c4-f38d739c2513",
   "metadata": {},
   "outputs": [],
   "source": [
    "meansc2i <- tibble(patient_id = as.character(), \n",
    "                TF_min = as.numeric(), \n",
    "                TF_max = as.numeric())\n",
    "\n",
    "for (ind in unique(c2i_res$patient_id)){\n",
    "    res_ind <- c2i_res %>% filter(patient_id == ind)\n",
    "    ind_TF_max <- max(res_ind$Tumor.Fraction)\n",
    "    ind_TF_min <- min(res_ind$Tumor.Fraction)\n",
    "    \n",
    "    row <- tibble(patient_id = ind, TF_min = ind_TF_min, TF_max = ind_TF_max)\n",
    "    #big_upper_ratio_min = ind_big_upper_r_min, big_upper_ratio_max = ind_big_upper_r_max,\n",
    "    \n",
    "    meansc2i <- rbind(meansc2i, row)\n",
    "    \n",
    "}\n",
    "\n",
    "head(means)\n",
    "c2i_res <- left_join(c2i_res, meansc2i, by = c(\"patient_id\"))\n",
    "head(c2i_res)"
   ]
  },
  {
   "cell_type": "code",
   "execution_count": null,
   "id": "4e7a67e4-ee2f-4564-b161-1d9974e33a00",
   "metadata": {},
   "outputs": [],
   "source": [
    "res_c2i_min_max_val <- c2i_res %>% select(patient_id, TF_min, TF_max)\n",
    "intervention_chemo_c2i <- left_join(intervention_chemo, res_c2i_min_max_val, by = \"patient_id\")\n",
    "intervention_other_c2i <- left_join(intervention_other, res_c2i_min_max_val, by = \"patient_id\")"
   ]
  },
  {
   "cell_type": "code",
   "execution_count": null,
   "id": "de18658b-7d98-4591-b536-7233566bb891",
   "metadata": {},
   "outputs": [],
   "source": []
  },
  {
   "cell_type": "code",
   "execution_count": null,
   "id": "24e4907d-428c-4bc6-9c4c-58c70a532567",
   "metadata": {},
   "outputs": [],
   "source": []
  },
  {
   "cell_type": "code",
   "execution_count": null,
   "id": "4d8f0d36-59a2-496a-ae3b-b881a481a371",
   "metadata": {},
   "outputs": [],
   "source": []
  },
  {
   "cell_type": "markdown",
   "id": "c375a0b8-359d-449a-bf95-ec56723bdfd9",
   "metadata": {},
   "source": [
    "# plotting"
   ]
  },
  {
   "cell_type": "code",
   "execution_count": null,
   "id": "90ef5add-8101-4b8c-bb5c-a46009defbc0",
   "metadata": {},
   "outputs": [],
   "source": [
    "options(repr.plot.width=9, repr.plot.height=10)\n",
    "options(warn=-1)\n",
    "p_smallr <- ggplot(data = NULL) + \n",
    "                #geom_ribbon(data = res_all, aes(x = sample_timepoint_days_since_OP, ymin = small_ratio_CI_lower, ymax = small_ratio_CI_upper), alpha = 0.2, color=\"grey\") + \n",
    "                geom_line(data = res_all_normalized, aes(x = as.numeric(as.character(sample_timepoint_days_since_OP)), y = small_ratio), size = 0.7) + \n",
    "                geom_point(data = res_all_normalized, aes(x = as.numeric(as.character(sample_timepoint_days_since_OP)), y = small_ratio, color = relapse_status_pred), size = 1.5) +\n",
    "                scale_color_manual(values=c('#FF0000','#00008B'))+\n",
    "#ggtitle(paste(\"Big ratio cs1e9, \", pt_unique_v[pt], sep = \"\")) + \n",
    "                xlab(\"Sample time point (days since surgery)\") +\n",
    "                ylab(\"UT kmers in cfDNA / UT kmers\") +\n",
    "\n",
    "                ## plot c2i\n",
    "                #geom_line(data = c2i_res, aes(x = as.numeric(as.character(sample_timepoint_days_since_OP)), y = Tumor.Fraction), color = \"lightgrey\") + \n",
    "                #geom_point(data = c2i_res, aes(x = as.numeric(as.character(sample_timepoint_days_since_OP)), y = Tumor.Fraction, color = C2.Test)) +\n",
    "                \n",
    "                geom_vline(data = res_all_normalized, aes(xintercept=0), color= \"firebrick4\", size = 1.1) +                                 # Surgery\n",
    "                geom_vline(data = res_all_normalized, aes(xintercept=time_to_relapse_days), color = \"steelblue4\", size = 1.1) +   # Relapse\n",
    "                \n",
    "                # adjuvant chemo\n",
    "                geom_rect(data = res_all_normalized,  \n",
    "                         aes(xmin = adjuvant_chemo_start_days, xmax = adjuvant_chemo_end_days, ymin = small_ratio_min, ymax = small_ratio_max), \n",
    "                             fill = \"cadetblue4\", alpha = 0.01) + \n",
    "\n",
    "                # chemo interventions\n",
    "                geom_rect(data = intervention_chemo,\n",
    "                         aes(xmin = intervention_chemo_start_days, xmax = intervention_chemo_end_days, ymin = small_ratio_min, ymax = small_ratio_max), \n",
    "                             fill = \"coral1\", alpha = 0.01) + \n",
    "                \n",
    "                 ## other interventions\n",
    "                geom_vline(data = intervention_other,\n",
    "                           aes(xintercept = intervention_other_start_days), color = \"coral1\", size = 1.1, alpha = 0.5) +\n",
    "                #scale_color_manual(name='Legend',\n",
    "                #     breaks=c(\"Surgery\", \"Relapse\", \"Intervention\"),\n",
    "                #     values=c(\"Surgery\"=\"firebrick4\", \"Relapse\"=\"steelblue4\", \"Intervention\"=\"steelblue2\"))+\n",
    "                \n",
    "                theme_minimal() +\n",
    "                theme(text = element_text(size = 16),\n",
    "                      legend.position=\"none\") +\n",
    "                facet_wrap(~patient_id, ncol = 2, scales = \"free_y\")\n",
    "\n",
    "p_smallr\n",
    "                     \n",
    "\n",
    "#intervention_chemo\n",
    "#intervention_other\n",
    "   \n",
    "    "
   ]
  },
  {
   "cell_type": "code",
   "execution_count": null,
   "id": "57f4c2e7-bc5e-4f63-84ae-d4899af94b8c",
   "metadata": {},
   "outputs": [],
   "source": [
    "p_smallr <- ggplot(data = NULL) + \n",
    "                #geom_ribbon(data = res_all, aes(x = sample_timepoint_days_since_OP, ymin = small_ratio_CI_lower, ymax = small_ratio_CI_upper), alpha = 0.2, color=\"grey\") + \n",
    "                #geom_line(data = res_all_normalized, aes(x = as.numeric(as.character(sample_timepoint_days_since_OP)), y = small_ratio)) + \n",
    "                #geom_point(data = res_all_normalized, aes(x = as.numeric(as.character(sample_timepoint_days_since_OP)), y = small_ratio, color = relapse_status_pred)) +\n",
    "                #ggtitle(paste(\"Big ratio cs1e9, \", pt_unique_v[pt], sep = \"\")) + \n",
    "                xlab(\"Sample time point (days since surgery)\") +\n",
    "                ylab(\"UT kmers in cfDNA / UT kmers\") +\n",
    "\n",
    "                ## plot c2i\n",
    "                geom_line(data = c2i_res, aes(x = as.numeric(as.character(sample_timepoint_days_since_OP)), y = Tumor.Fraction), color = \"black\") + \n",
    "                geom_point(data = c2i_res, aes(x = as.numeric(as.character(sample_timepoint_days_since_OP)), y = Tumor.Fraction, color = C2.Test)) +\n",
    "                \n",
    "                geom_vline(data = c2i_res, aes(xintercept=0), color= \"firebrick4\") +                                 # Surgery\n",
    "                geom_vline(data = c2i_res, aes(xintercept=time_to_relapse_days), color = \"steelblue4\", size = 1) +   # Relapse\n",
    "                \n",
    "                # adjuvant chemo\n",
    "                geom_rect(data = c2i_res,  \n",
    "                         aes(xmin = adjuvant_chemo_start_days, xmax = adjuvant_chemo_end_days, ymin = TF_min, ymax = TF_max), \n",
    "                             fill = \"cadetblue4\", alpha = 0.01) + \n",
    "\n",
    "                # chemo interventions\n",
    "                geom_rect(data = intervention_chemo_c2i,\n",
    "                         aes(xmin = intervention_chemo_start_days, xmax = intervention_chemo_end_days,  ymin = TF_min, ymax = TF_max), \n",
    "                             fill = \"coral1\", alpha = 0.01) + \n",
    "                \n",
    "                 ## other interventions\n",
    "                geom_vline(data = intervention_other_c2i,\n",
    "                           aes(xintercept = intervention_other_start_days), color = \"coral1\", size = 1, alpha = 0.5) +\n",
    "                #scale_color_manual(name='Legend',\n",
    "                #     breaks=c(\"Surgery\", \"Relapse\", \"Intervention\"),\n",
    "                #     values=c(\"Surgery\"=\"firebrick4\", \"Relapse\"=\"steelblue4\", \"Intervention\"=\"steelblue2\"))+\n",
    "                \n",
    "                theme_minimal() +\n",
    "                theme(text = element_text(size = 16),\n",
    "                      legend.position=\"none\") +\n",
    "                facet_wrap(~patient_id, ncol = 2, scales = \"free_y\")\n",
    "\n",
    "p_smallr\n",
    "                     \n"
   ]
  },
  {
   "cell_type": "code",
   "execution_count": null,
   "id": "470f3b3d-d640-4450-b38b-d3fa70fa3d98",
   "metadata": {},
   "outputs": [],
   "source": [
    "ggsave(\n",
    "  paste(\"../plotting_results/\", output_folder, \"/big_plots/Small_\", filetype, \".png\", sep = \"\"),\n",
    "  p_smallr, width = 13, height = 50, dpi = \"print\", limitsize = FALSE\n",
    "    \n",
    ")"
   ]
  },
  {
   "cell_type": "code",
   "execution_count": null,
   "id": "c616a861-712a-49fd-8bab-ff9b4961b310",
   "metadata": {},
   "outputs": [],
   "source": []
  },
  {
   "cell_type": "code",
   "execution_count": null,
   "id": "8b50b837-8e75-496f-9eb8-ed45085e17e4",
   "metadata": {},
   "outputs": [],
   "source": []
  }
 ],
 "metadata": {
  "kernelspec": {
   "display_name": "R",
   "language": "R",
   "name": "ir"
  },
  "language_info": {
   "codemirror_mode": "r",
   "file_extension": ".r",
   "mimetype": "text/x-r-source",
   "name": "R",
   "pygments_lexer": "r",
   "version": "3.6.1"
  }
 },
 "nbformat": 4,
 "nbformat_minor": 5
}
