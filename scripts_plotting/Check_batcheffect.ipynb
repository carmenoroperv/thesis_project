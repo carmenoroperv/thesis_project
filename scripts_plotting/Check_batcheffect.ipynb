{
 "cells": [
  {
   "cell_type": "code",
   "execution_count": null,
   "id": "4416e120-dc81-4f61-adbb-9e8177357e82",
   "metadata": {},
   "outputs": [],
   "source": [
    "library(tidyverse)\n",
    "library(RColorBrewer)\n",
    "data_folder <- \"de_novo_germline_reference\"\n",
    "#\"all_germline_filtered_bams_tumor_ci5_cs1e9_filtered_cfDNA\" #\"all_germline_filtered_bams_tumor_ci5_cs1e9_cfDNA_ci2_cs1e9\" #\"all_germline_filtered_bams_tumor_ci5_cs1e9\"\n",
    "# de_novo_germline_reference\n",
    "plot_folder <- \"de_novo_germline_reference\" \n",
    "#union_germline_filtered_tumor_bams_ci5_cs1e9 union_germline_filtered_tumor_bams_ci5_cs1e9_cfDNA_ci2  union_germline_filtered_tumor_bams_ci5_cs1e9_filtered_cfDNA\n",
    "\n",
    "low_qual_sample <- read.table(\"../low_qual_sample.txt\")\n",
    "low_qual_sample <- as.character(low_qual_sample[[1]])\n",
    "\n",
    "paramspace <- read.csv(\"../data/metadata/paramspace_cfDNA_phaseI.csv\")\n",
    "paramspace <- paramspace %>% select(pt_id, cfDNA_folder)\n",
    "paramspace <- paramspace %>% filter(pt_id != low_qual_sample)\n",
    "patients <- as.character(unique(paramspace$pt_id))\n",
    "cfDNA_counts <- data.frame(matrix(ncol = 6, nrow = 0))\n",
    "colnames(cfDNA_counts) <-c(\"pt_id\", \"cfDNA_sample\", \"count_before_sub\", \"count_after_sub\", \"count_before_sub_nocounts\", \"count_after_sub_nocounts\")\n",
    "\n",
    "\n",
    "filetype = \"ratio\""
   ]
  },
  {
   "cell_type": "code",
   "execution_count": null,
   "id": "ff71d14f-2742-4c45-8b83-bcb80612ca09",
   "metadata": {},
   "outputs": [],
   "source": [
    "\n",
    "for (i in patients){\n",
    "    paramspace_patient <- paramspace %>% filter(pt_id == i)\n",
    "    for (j in paramspace_patient$cfDNA_folder){\n",
    "        after_sub <- read.csv(paste(\"../data/\", i, \"/\", j, \"/\", data_folder, \"/cfDNA_kmers_substracted_tumor_and_union_germline_histogram_filtered.txt\", sep = \"\"), header=FALSE, sep = \"\\t\")\n",
    "        colnames(after_sub) <- c(\"Kmer\", \"count\")\n",
    "        after_sub_counts <- after_sub %>% mutate(multi = as.numeric(Kmer)*as.numeric(count))\n",
    "        sum_after_val <- sum(after_sub_counts$multi)\n",
    "        sum_after_val_nocounts <- sum(after_sub$Kmer)\n",
    "        before_sub <- read.csv(paste(\"../data/\", i, \"/\", j, \"/cs1e9/plotdata_cfDNA_cs1e9_filtered.txt\", sep = \"\"), header=FALSE, sep = \"\\t\")\n",
    "        colnames(before_sub) <- c(\"Kmer\", \"count\")\n",
    "        before_sub_counts <- before_sub %>% mutate(multi = as.numeric(Kmer)*as.numeric(count))\n",
    "        sum_before_val <- sum(before_sub_counts$multi)\n",
    "        sum_before_val_nocounts <- sum(before_sub$Kmer)\n",
    "        cfDNA_counts[nrow(cfDNA_counts)+1, ] = c(i, j, sum_before_val, sum_after_val, sum_before_val_nocounts, sum_after_val_nocounts)\n",
    "    }}"
   ]
  },
  {
   "cell_type": "code",
   "execution_count": null,
   "id": "88b93aea-78e1-43ce-aa65-eddb7033c657",
   "metadata": {},
   "outputs": [],
   "source": [
    "str(cfDNA_counts)"
   ]
  },
  {
   "cell_type": "code",
   "execution_count": null,
   "id": "15b20496-f51b-460a-af7c-10953d0fd04d",
   "metadata": {},
   "outputs": [],
   "source": [
    "cfDNA_counts$count_after_sub <- as.numeric(cfDNA_counts$count_after_sub)\n",
    "cfDNA_counts$count_before_sub <- as.numeric(cfDNA_counts$count_before_sub)\n",
    "\n",
    "cfDNA_counts$count_after_sub_nocounts  <- as.numeric(cfDNA_counts$count_after_sub_nocounts )\n",
    "cfDNA_counts$count_before_sub_nocounts <- as.numeric(cfDNA_counts$count_before_sub_nocounts)"
   ]
  },
  {
   "cell_type": "code",
   "execution_count": null,
   "id": "03b44737-3996-4512-8c5e-11a65df1cd82",
   "metadata": {},
   "outputs": [],
   "source": [
    "head(cfDNA_counts)"
   ]
  },
  {
   "cell_type": "code",
   "execution_count": null,
   "id": "fff51f9a-32f7-4bdf-92a9-e0a2ad2667db",
   "metadata": {},
   "outputs": [],
   "source": [
    "cfDNA_counts = cfDNA_counts %>% mutate(ratio = count_after_sub/count_before_sub, ratio_nocounts = count_after_sub_nocounts/count_before_sub_nocounts)"
   ]
  },
  {
   "cell_type": "code",
   "execution_count": null,
   "id": "8cdcca48-d402-4d8f-ad6e-cba572ed40df",
   "metadata": {},
   "outputs": [],
   "source": [
    "\n",
    "write.csv(cfDNA_counts, paste(\"../data/Batch_effect_check/\", data_folder, \"/batch_effect_check.csv\", sep = \"\"), row.names = FALSE)\n",
    "plot <- ggplot(data = cfDNA_counts)+\n",
    "    geom_point(aes(x = cfDNA_sample, y=ratio))\n",
    "ggsave(paste(\"../plotting_results/\", plot_folder, \"/batch_effect_check.png\", sep = \"\"))"
   ]
  },
  {
   "cell_type": "code",
   "execution_count": null,
   "id": "103558db-280d-4aae-8fa7-e287c5fbf7f1",
   "metadata": {},
   "outputs": [],
   "source": [
    "plot"
   ]
  },
  {
   "cell_type": "code",
   "execution_count": null,
   "id": "edd5a329-6e6a-43b9-b4cb-6f30bdcb9c8a",
   "metadata": {},
   "outputs": [],
   "source": [
    "head(cfDNA_counts)"
   ]
  },
  {
   "cell_type": "code",
   "execution_count": null,
   "id": "cf130bf4-c8fd-49e6-829c-102899880644",
   "metadata": {},
   "outputs": [],
   "source": [
    "Correlations <- read.csv(\"../data/ci5_cs1e9_correlation.csv\")\n",
    "relapse_label <- Correlations %>% select(cfDNA_sample, Relapse)\n",
    "colnames(relapse_label) <- c(\"cfDNA_sample\", \"Relapse_label\")"
   ]
  },
  {
   "cell_type": "code",
   "execution_count": null,
   "id": "370ce695-21a5-4f01-a2b7-20b7935d939b",
   "metadata": {},
   "outputs": [],
   "source": [
    "cfDNA_counts_relapse <- inner_join(cfDNA_counts, relapse_label, by = \"cfDNA_sample\")"
   ]
  },
  {
   "cell_type": "code",
   "execution_count": null,
   "id": "6e464c30-c27c-42b2-9283-56ad79a0cae5",
   "metadata": {},
   "outputs": [],
   "source": [
    "plot <- ggplot(data = cfDNA_counts_relapse)+\n",
    "    geom_point(data = cfDNA_counts_relapse, aes(x = cfDNA_sample, y=ratio, color = pt_id))"
   ]
  },
  {
   "cell_type": "code",
   "execution_count": null,
   "id": "1950b9ed-43b6-453f-a036-132a2669b175",
   "metadata": {},
   "outputs": [],
   "source": [
    "plot"
   ]
  },
  {
   "cell_type": "code",
   "execution_count": null,
   "id": "4d0c9865-ef17-4808-b28a-11b08bcb0d9c",
   "metadata": {},
   "outputs": [],
   "source": [
    "ggsave(paste(\"../plotting_results/\", plot_folder, \"/batch_effect_check_colored.png\", sep = \"\"))"
   ]
  },
  {
   "cell_type": "code",
   "execution_count": null,
   "id": "3b03692a-ed1c-4e66-86e3-e8f08dfd1f6b",
   "metadata": {},
   "outputs": [],
   "source": []
  },
  {
   "cell_type": "code",
   "execution_count": null,
   "id": "368380bc-37ad-449a-a756-70a1d3f1edfe",
   "metadata": {},
   "outputs": [],
   "source": []
  },
  {
   "cell_type": "code",
   "execution_count": null,
   "id": "275d4119-ac3f-4ebe-ab7f-5e791b028e87",
   "metadata": {},
   "outputs": [],
   "source": []
  },
  {
   "cell_type": "code",
   "execution_count": null,
   "id": "e41204da-7e70-4a77-8b6c-6d19829bdf8b",
   "metadata": {},
   "outputs": [],
   "source": []
  },
  {
   "cell_type": "code",
   "execution_count": null,
   "id": "d50b0871-3cb7-4ec2-8ecb-db41ee5b4587",
   "metadata": {},
   "outputs": [],
   "source": [
    "paramspace_cfDNA <- read.csv(\"../data/metadata/paramspace_cfDNA_phaseI.csv\")\n",
    "paramspace_cfDNA <- paramspace_cfDNA %>% select(pt_id, cfDNA_folder, unique_kmers_folder)\n",
    "head(paramspace_cfDNA)\n",
    "dim(paramspace_cfDNA)"
   ]
  },
  {
   "cell_type": "code",
   "execution_count": null,
   "id": "b29fc095-ffac-4f3c-8a30-da926c7e6f74",
   "metadata": {},
   "outputs": [],
   "source": [
    "paramspace_cfDNA <- paramspace_cfDNA %>% \n",
    "  mutate(tmp_chunks = stringr::str_split(cfDNA_folder, stringr::fixed(\"_\"),  n = 3)) %>%\n",
    "  mutate(sampleID = map_chr(tmp_chunks, 1),\n",
    "         sub_value = map_chr(tmp_chunks, 2), \n",
    "         sub_val = map_chr(tmp_chunks, 3)) %>%\n",
    "  select(-c(tmp_chunks, sub_value, sub_val))\n",
    "\n",
    "head(paramspace_cfDNA)\n",
    "dim(paramspace_cfDNA)"
   ]
  },
  {
   "cell_type": "code",
   "execution_count": null,
   "id": "656cb49a-95d0-4f11-bd45-1c382415501f",
   "metadata": {},
   "outputs": [],
   "source": [
    "sample_timepoint <- read.csv(\"../data/metadata/clin_data/sample_timepoint_formatted.csv\")"
   ]
  },
  {
   "cell_type": "code",
   "execution_count": null,
   "id": "bdb4f8bc-5a54-4834-827b-5eca5600343b",
   "metadata": {},
   "outputs": [],
   "source": [
    "head(sample_timepoint)\n",
    "sample_timepoint_days <- sample_timepoint %>% filter(phase == \"phaseI\")\n",
    "sample_timepoint_days <- sample_timepoint_days %>% select(sampleID, sample_timepoint_days_since_OP)\n",
    "sample_timepoint_days %>% filter(is.na(sample_timepoint_days_since_OP))\n",
    "dim(sample_timepoint_days)\n",
    "head(sample_timepoint_days)"
   ]
  },
  {
   "cell_type": "code",
   "execution_count": null,
   "id": "d0715f3b-433d-495d-9a03-8b5bb92645a7",
   "metadata": {},
   "outputs": [],
   "source": [
    "paramspace_cfDNA$sampleID <- as.character(paramspace_cfDNA$sampleID)\n",
    "paramspace_cfDNA <- left_join(paramspace_cfDNA, sample_timepoint_days, by = c(\"sampleID\"))\n",
    "head(paramspace_cfDNA)\n",
    "dim(paramspace_cfDNA)"
   ]
  },
  {
   "cell_type": "code",
   "execution_count": null,
   "id": "316a8e21-04cc-4f87-8139-896961183b5a",
   "metadata": {},
   "outputs": [],
   "source": [
    "processFile = function(filepath) {\n",
    "    con = file(filepath, \"r\")\n",
    "    while (TRUE) {\n",
    "        line = readLines(con, n = 1)\n",
    "        if ( length(line) == 0 || str_split(line, \":\")[[1]][1] == \"1 of 1 steps (100%) done\") {\n",
    "            break\n",
    "            }\n",
    "        if (str_split(line, \":\")[[1]][1] == \"   Total no. of reads                 \"){\n",
    "            reads = gsub(\" \", \"\", str_split(line, \":\")[[1]][2], fixed = TRUE)\n",
    "            }\n",
    "        if (str_split(line, \":\")[[1]][1] == \"   No. of unique counted k-mers       \"){\n",
    "            kmers = gsub(\" \", \"\", str_split(line, \":\")[[1]][2], fixed = TRUE)\n",
    "            }\n",
    "    }\n",
    "    res = c(reads, kmers)\n",
    "    close(con)\n",
    "    return(res) \n",
    "}"
   ]
  },
  {
   "cell_type": "code",
   "execution_count": null,
   "id": "048071c6-7e67-49df-bf93-57b92b515496",
   "metadata": {},
   "outputs": [],
   "source": [
    "res_cfDNA <- NULL\n",
    "\n",
    "logs_cfDNA = list.files('../logs/count_cfDNA_kmers_cs1e9/')\n",
    "\n",
    "\n",
    "for (row in 1:nrow(paramspace_cfDNA)){\n",
    "    patient = paramspace_cfDNA[row, \"pt_id\"]\n",
    "    #print(as.character(patient))\n",
    "    cfDNA_folder = paramspace_cfDNA[row, \"cfDNA_folder\"]\n",
    "    folder = paramspace_cfDNA[row, \"unique_kmers_folder\"]\n",
    "    \n",
    "    logs_pt = grep(patient, logs_cfDNA, value=TRUE)\n",
    "    logs_pt_cfDNA_sample = grep(cfDNA_folder, logs_pt, value=TRUE)\n",
    "    if (length(logs_pt_cfDNA_sample) == 0){\n",
    "        print(cfDNA_folder)\n",
    "        reads_kmers_cfDNA = c(NA, NA)\n",
    "    } else {\n",
    "        reads_kmers_cfDNA <- processFile(paste0('../logs/count_cfDNA_kmers_cs1e9/', logs_pt_cfDNA_sample))\n",
    "    }\n",
    "    \n",
    "    #print(reads_kmers_cfDNA)\n",
    "    \n",
    "    cfDNA_kmers_df <- read.table(paste(\"../data/\", patient, \"/\", cfDNA_folder, \"/cs1e9/\", \"plotdata_cfDNA_cs1e9_filtered.txt\", sep = \"\"))\n",
    "    #cfDNA_kmers_filtered_df <- read.table(paste(\"../data/\", patient, \"/\", cfDNA_folder, \"/all_germline_filtered_bams_tumor_ci5_cs1e9_filtered_cfDNA/\", \"plotdata_cfDNA_kmers_filtered.txt\", sep = \"\"))\n",
    "    cfDNA_kmers_df_ci2 = cfDNA_kmers_df[-c(1), ]\n",
    "    cfDNA_kmers_df$V2 <- as.numeric(cfDNA_kmers_df$V2)\n",
    "    cfDNA_kmers_df$V1 <- as.numeric(cfDNA_kmers_df$V1)\n",
    "    \n",
    "    #cfDNA_kmers_filtered_df$V2 <- as.numeric(cfDNA_kmers_filtered_df$V2)\n",
    "    #cfDNA_kmers_filtered_df$V1 <- as.numeric(cfDNA_kmers_filtered_df$V1)\n",
    "    \n",
    "    cfDNA_res_sample <- tibble(pt_id = patient, \n",
    "                        tumor_folder = folder, \n",
    "                        cfDNA_folder = cfDNA_folder,\n",
    "                        cfDNA_reads = as.numeric(reads_kmers_cfDNA[1]),\n",
    "                        cfDNA_kmers = as.numeric(sum(cfDNA_kmers_df$V2)),\n",
    "                        cfDNA_kmers_ci2 = as.numeric(sum(cfDNA_kmers_df_ci2$V2)),\n",
    "                        cfDNA_kmers_total_n = as.numeric(sum(cfDNA_kmers_df$V2 * cfDNA_kmers_df$V1)),\n",
    "                        #cfDNA_kmers_filtered = as.numeric(sum(cfDNA_kmers_filtered_df$V2)),\n",
    "                        #cfDNA_kmers_filtered_total_n = as.numeric(sum(cfDNA_kmers_filtered_df$V2 * cfDNA_kmers_filtered_df$V1)),\n",
    "                        sample_timepoint_days_since_OP = paramspace_cfDNA[row, \"sample_timepoint_days_since_OP\"],\n",
    "                        pipeline = \"ci1_cs1e9\")\n",
    "    #print(reads_kmers_cfDNA[2])\n",
    "    #print(sum(cfDNA_kmers_df$V2))\n",
    "    res_cfDNA <- bind_rows(res_cfDNA, cfDNA_res_sample)\n",
    "    }"
   ]
  },
  {
   "cell_type": "code",
   "execution_count": null,
   "id": "4b9d858b-5842-4087-b2d1-ce48a7e80f81",
   "metadata": {},
   "outputs": [],
   "source": [
    "res_cfDNA_final <- NULL\n",
    "color_palette_size <- 0\n",
    "for (pt in unique(res_cfDNA$pt_id)){\n",
    "    res_cfDNA_pt <- res_cfDNA %>% filter(pt_id == pt)\n",
    "    res_cfDNA_pt$sample_timepoint_days_since_OP <- as.numeric(res_cfDNA_pt$sample_timepoint_days_since_OP)\n",
    "    res_cfDNA_pt <- res_cfDNA_pt %>% arrange(sample_timepoint_days_since_OP) %>% mutate(samples_order = seq(1, nrow(res_cfDNA_pt)))\n",
    "    if (nrow(res_cfDNA_pt) > color_palette_size){\n",
    "        color_palette_size <- nrow(res_cfDNA_pt)\n",
    "    }\n",
    "    res_cfDNA_final <- rbind(res_cfDNA_final, res_cfDNA_pt)\n",
    "}\n",
    "head(res_cfDNA_final)"
   ]
  },
  {
   "cell_type": "code",
   "execution_count": null,
   "id": "32341a27-eb7b-4d00-9dbd-b295e639cda3",
   "metadata": {},
   "outputs": [],
   "source": [
    "res_cfDNA_final_selected <- res_cfDNA_final %>% select(cfDNA_folder, samples_order)\n",
    "colnames(res_cfDNA_final_selected) <- c(\"cfDNA_sample\", \"samples_order\")"
   ]
  },
  {
   "cell_type": "code",
   "execution_count": null,
   "id": "7fb71e4c-aaae-4c30-abba-4e88e1688219",
   "metadata": {},
   "outputs": [],
   "source": [
    "cfDNA_counts_relapse <- inner_join(cfDNA_counts_relapse, res_cfDNA_final_selected, by=\"cfDNA_sample\")"
   ]
  },
  {
   "cell_type": "code",
   "execution_count": null,
   "id": "cfb1f591-e654-4cae-8944-2747025ebfc7",
   "metadata": {},
   "outputs": [],
   "source": [
    "cfDNA_counts_relapse"
   ]
  },
  {
   "cell_type": "code",
   "execution_count": null,
   "id": "11ea68ae-9cb2-46bc-aa38-44328e4f3109",
   "metadata": {},
   "outputs": [],
   "source": [
    "cfDNA_counts_relapse <- cfDNA_counts_relapse %>% filter(pt_id != low_qual_sample)\n",
    "\n",
    "pt_id.labs <- c(paste(cfDNA_counts_relapse$pt_id, \", (\", cfDNA_counts_relapse$Relapse_label, \"), mean: \", round(cfDNA_counts_relapse$ratio, 3),  sep = \"\"))\n",
    "names(pt_id.labs) <- c(as.character(cfDNA_counts_relapse$pt_id))\n",
    "\n",
    "plot2 <- ggplot(data = cfDNA_counts_relapse)+\n",
    "    geom_point(data = cfDNA_counts_relapse, aes(x = samples_order, y=ratio))+\n",
    "    facet_wrap(~pt_id, ncol = 3, scales = \"free_x\", labeller = labeller(pt_id = pt_id.labs))+\n",
    "    theme_minimal() +\n",
    "    theme(axis.text.x=element_blank(),\n",
    "        axis.ticks.x=element_blank(),\n",
    "        panel.border = element_rect(size = 0.1, colour = \"black\", fill = NA)) + \n",
    "        ylab(\"Fraction of cfDNA k-mers not seen in germline or tumor\") + xlab(\"Time\")\n",
    "    "
   ]
  },
  {
   "cell_type": "code",
   "execution_count": null,
   "id": "77ca1e9a-1194-4454-9d85-702756b88056",
   "metadata": {},
   "outputs": [],
   "source": [
    "plot2"
   ]
  },
  {
   "cell_type": "code",
   "execution_count": null,
   "id": "35d24f3c-f6a2-4b16-8a2b-5a98a08f4436",
   "metadata": {},
   "outputs": [],
   "source": [
    "options(\"scipen\"=-100)\n",
    "cfDNA_counts_relapse <- cfDNA_counts_relapse %>% filter(pt_id != low_qual_sample)\n",
    "\n",
    "pt_id.labs <- c(paste(cfDNA_counts_relapse$pt_id, \", (\", cfDNA_counts_relapse$Relapse_label, \"), mean: \", round(cfDNA_counts_relapse$ratio_nocounts, 5), sep = \"\"))\n",
    "names(pt_id.labs) <- c(as.character(cfDNA_counts_relapse$pt_id))\n",
    "\n",
    "plot2 <- ggplot(data = cfDNA_counts_relapse)+\n",
    "    geom_point(data = cfDNA_counts_relapse, aes(x = samples_order, y=ratio_nocounts))+\n",
    "    facet_wrap(~pt_id, ncol = 3, scales = \"free_x\", labeller = labeller(pt_id = pt_id.labs))+\n",
    "    theme_minimal() +\n",
    "    theme(panel.spacing = unit(0.2, \"lines\"),\n",
    "        axis.text.x=element_blank(),\n",
    "        axis.ticks.x=element_blank(),\n",
    "        panel.border = element_rect(size = 0.1, colour = \"black\", fill = NA)) + \n",
    "        ylab(\"Fraction of cfDNA k-mers not seen in germline or tumor\") + xlab(\"Time\")\n",
    "    "
   ]
  },
  {
   "cell_type": "code",
   "execution_count": null,
   "id": "b9ec51d5-4ab4-42ad-97e1-4da37a0d2346",
   "metadata": {},
   "outputs": [],
   "source": [
    "plot2"
   ]
  },
  {
   "cell_type": "code",
   "execution_count": null,
   "id": "cb56325f-b131-41f7-ac4e-7d11cadb717e",
   "metadata": {},
   "outputs": [],
   "source": [
    "mean(cfDNA_counts_relapse$ratio)"
   ]
  },
  {
   "cell_type": "code",
   "execution_count": null,
   "id": "c3c6a028-2cec-4a2c-aca5-e35c57527eaf",
   "metadata": {},
   "outputs": [],
   "source": []
  },
  {
   "cell_type": "code",
   "execution_count": null,
   "id": "ce475584-10af-4895-a6bd-17f9c8c9f4fb",
   "metadata": {},
   "outputs": [],
   "source": [
    "plot <- ggplot(data = cfDNA_counts_relapse)+\n",
    "    geom_point(data = cfDNA_counts_relapse, aes(x = cfDNA_sample, y=ratio, color = pt_id))+\n",
    "    geom_text(data = cfDNA_counts_relapse, aes(x = cfDNA_sample, y = ratio, label =pt_id)) "
   ]
  },
  {
   "cell_type": "code",
   "execution_count": null,
   "id": "5e18d803-96b9-4a6a-b580-8c85fc78f8fa",
   "metadata": {},
   "outputs": [],
   "source": [
    "plot"
   ]
  },
  {
   "cell_type": "code",
   "execution_count": null,
   "id": "5d60a63e-ad31-48cf-ac25-5760b1fe1a71",
   "metadata": {},
   "outputs": [],
   "source": []
  },
  {
   "cell_type": "code",
   "execution_count": null,
   "id": "4f3c3b2b-95b6-4082-96dd-d414d67e4ea3",
   "metadata": {},
   "outputs": [],
   "source": [
    "#Plots vs ratio"
   ]
  },
  {
   "cell_type": "code",
   "execution_count": null,
   "id": "a1fe9393-5d84-4692-81f6-c718cd8c32d3",
   "metadata": {},
   "outputs": [],
   "source": [
    "paramspace = read.csv(\"../data/metadata/paramspace_cfDNA_phaseI.csv\")\n",
    "\n",
    "paramspace  <- paramspace %>% rename(patient_id = pt_id)\n",
    "head(paramspace)"
   ]
  },
  {
   "cell_type": "code",
   "execution_count": null,
   "id": "f87bbc7b-880d-40b4-8c14-0e373c4583aa",
   "metadata": {},
   "outputs": [],
   "source": [
    "SAMPLES = paramspace[\"patient_id\"]\n",
    "FOLDERS = paramspace[\"cfDNA_folder\"]"
   ]
  },
  {
   "cell_type": "code",
   "execution_count": null,
   "id": "be9aa7c2-fb7f-4f2d-8796-b509b1fb8db4",
   "metadata": {},
   "outputs": [],
   "source": [
    "paramspace[\"big_ratio\"] <- NA\n",
    "\n",
    "\n",
    "paramspace[\"small_ratio\"] <- NA\n",
    "\n",
    "\n",
    "for (row in 1:nrow(paramspace)){\n",
    "    pt = paramspace[row, \"patient_id\"]\n",
    "    #print(pt)\n",
    "    fd = paramspace[row, \"cfDNA_folder\"]\n",
    "    big_r = read.csv(paste(\"../data/\", pt, \"/\" , fd, \"/\", data_folder, \"/\", \"big_\", filetype, \".csv\", sep = \"\"))\n",
    "    small_r = read.csv(paste(\"../data/\", pt, \"/\", fd, \"/\", data_folder, \"/\", \"small_\", filetype, \".csv\", sep = \"\"))\n",
    "    paramspace[row, \"big_ratio\"] = big_r$ratio\n",
    "    paramspace[row, \"big_ratio_intersection_sum\"] = big_r$intersection_sum\n",
    "    paramspace[row, \"big_ratio_all_cfDNA_sum\"] = big_r$all_cfDNA_sum\n",
    "    paramspace[row, \"big_ratio_unique_tumor_sum\"] = big_r$unique_tumor_sum\n",
    "    paramspace[row, \"big_ratio_all_tumor_sum\"] = big_r$all_tumor_sum\n",
    "\n",
    "\n",
    "    paramspace[row, \"small_ratio\"] = small_r$ratio\n",
    "    paramspace[row, \"small_ratio_intersection_sum\"] = small_r$intersection_sum_small\n",
    "    paramspace[row, \"small_ratio_unique_tumor_sum\"] = small_r$unique_tumor_sum_small\n",
    "}"
   ]
  },
  {
   "cell_type": "code",
   "execution_count": null,
   "id": "5f6640ec-df65-4e82-9321-b865046f597e",
   "metadata": {},
   "outputs": [],
   "source": [
    "head(paramspace)"
   ]
  },
  {
   "cell_type": "code",
   "execution_count": null,
   "id": "9205b715-58bf-4fde-9fa3-6549af3c4fa5",
   "metadata": {},
   "outputs": [],
   "source": [
    "res <- paramspace %>% select(\"cfDNA_folder\", \"big_ratio\", \"small_ratio\", \"big_ratio_intersection_sum\", \"big_ratio_all_cfDNA_sum\", \"big_ratio_unique_tumor_sum\", \"big_ratio_all_tumor_sum\", \"small_ratio_intersection_sum\", \"small_ratio_unique_tumor_sum\")"
   ]
  },
  {
   "cell_type": "code",
   "execution_count": null,
   "id": "fb5c647c-4c6d-438c-9b10-310ec3a6fcfc",
   "metadata": {},
   "outputs": [],
   "source": [
    "colnames(res) <- c(\"cfDNA_sample\", \"big_ratio\", \"small_ratio\", \"big_ratio_intersection_sum\", \"big_ratio_all_cfDNA_sum\", \"big_ratio_unique_tumor_sum\", \"big_ratio_all_tumor_sum\", \"small_ratio_intersection_sum\", \"small_ratio_unique_tumor_sum\")"
   ]
  },
  {
   "cell_type": "code",
   "execution_count": null,
   "id": "d620b8c9-5752-41fb-881c-0a280d5f00f7",
   "metadata": {},
   "outputs": [],
   "source": [
    "res <- inner_join(res, cfDNA_counts_relapse, by = \"cfDNA_sample\")"
   ]
  },
  {
   "cell_type": "code",
   "execution_count": null,
   "id": "e8bd48a7-83df-4dad-806a-b0bdfad4087d",
   "metadata": {},
   "outputs": [],
   "source": []
  },
  {
   "cell_type": "code",
   "execution_count": null,
   "id": "17dfa4c6-20b3-4dae-8b5d-8116134b515c",
   "metadata": {},
   "outputs": [],
   "source": [
    "head(res)"
   ]
  },
  {
   "cell_type": "code",
   "execution_count": null,
   "id": "2ca20edb-1e8f-40f2-9d4a-48ab9e5ffa4e",
   "metadata": {},
   "outputs": [],
   "source": [
    "head(cfDNA_counts_relapse)"
   ]
  },
  {
   "cell_type": "code",
   "execution_count": null,
   "id": "6264887e-7dcc-42ce-ba0a-d12276d86cc6",
   "metadata": {},
   "outputs": [],
   "source": [
    "cfDNA_counts_relapse_big_ratio <- res %>% select(cfDNA_sample, big_ratio)\n",
    "colnames(cfDNA_counts_relapse_big_ratio) <- c(\"cfDNA_sample\", \"tumor_fraction_estimate\")\n",
    "cfDNA_counts_relapse_big_ratio <- inner_join(cfDNA_counts_relapse, cfDNA_counts_relapse_big_ratio, by=\"cfDNA_sample\")\n",
    "cfDNA_counts_relapse_big_ratio <- cfDNA_counts_relapse_big_ratio %>% mutate(Ratio_type = \"Big_ratio\")"
   ]
  },
  {
   "cell_type": "code",
   "execution_count": null,
   "id": "99bf8893-7ec1-4cb1-b3c4-cdb5933020b4",
   "metadata": {},
   "outputs": [],
   "source": [
    "cfDNA_counts_relapse_big_ratio_intersection_sum <- res %>% select(cfDNA_sample, big_ratio_intersection_sum)\n",
    "colnames(cfDNA_counts_relapse_big_ratio_intersection_sum) <- c(\"cfDNA_sample\", \"tumor_fraction_estimate\")\n",
    "cfDNA_counts_relapse_big_ratio_intersection_sum <- inner_join(cfDNA_counts_relapse, cfDNA_counts_relapse_big_ratio_intersection_sum, by=\"cfDNA_sample\")\n",
    "cfDNA_counts_relapse_big_ratio_intersection_sum <- cfDNA_counts_relapse_big_ratio_intersection_sum %>% mutate(Ratio_type = \"Big_ratio_intersection_sum\")"
   ]
  },
  {
   "cell_type": "code",
   "execution_count": null,
   "id": "50d86224-2f48-4f63-85b2-d652c15c05ac",
   "metadata": {},
   "outputs": [],
   "source": [
    "cfDNA_counts_relapse_big_ratio_all_cfDNA_sum <- res %>% select(cfDNA_sample, big_ratio_all_cfDNA_sum)\n",
    "colnames(cfDNA_counts_relapse_big_ratio_all_cfDNA_sum) <- c(\"cfDNA_sample\", \"tumor_fraction_estimate\")\n",
    "cfDNA_counts_relapse_big_ratio_all_cfDNA_sum <- inner_join(cfDNA_counts_relapse, cfDNA_counts_relapse_big_ratio_all_cfDNA_sum, by=\"cfDNA_sample\")\n",
    "cfDNA_counts_relapse_big_ratio_all_cfDNA_sum <- cfDNA_counts_relapse_big_ratio_all_cfDNA_sum %>% mutate(Ratio_type = \"Big_ratio_all_cfDNA_sum\")"
   ]
  },
  {
   "cell_type": "code",
   "execution_count": null,
   "id": "8cfdc7ef-c260-4ab1-80c2-92169148baeb",
   "metadata": {},
   "outputs": [],
   "source": [
    "cfDNA_counts_relapse_big_ratio_unique_tumor_sum <- res %>% select(cfDNA_sample, big_ratio_unique_tumor_sum)\n",
    "colnames(cfDNA_counts_relapse_big_ratio_unique_tumor_sum) <- c(\"cfDNA_sample\", \"tumor_fraction_estimate\")\n",
    "cfDNA_counts_relapse_big_ratio_unique_tumor_sum <- inner_join(cfDNA_counts_relapse, cfDNA_counts_relapse_big_ratio_unique_tumor_sum, by=\"cfDNA_sample\")\n",
    "cfDNA_counts_relapse_big_ratio_unique_tumor_sum <- cfDNA_counts_relapse_big_ratio_unique_tumor_sum %>% mutate(Ratio_type = \"Big_ratio_unique_tumor_sum\")"
   ]
  },
  {
   "cell_type": "code",
   "execution_count": null,
   "id": "cf88cc19-0ac0-4dc3-b443-c9787e8a7e1a",
   "metadata": {},
   "outputs": [],
   "source": [
    "cfDNA_counts_relapse_big_ratio_all_tumor_sum <- res %>% select(cfDNA_sample, big_ratio_all_tumor_sum)\n",
    "colnames(cfDNA_counts_relapse_big_ratio_all_tumor_sum) <- c(\"cfDNA_sample\", \"tumor_fraction_estimate\")\n",
    "cfDNA_counts_relapse_big_ratio_all_tumor_sum <- inner_join(cfDNA_counts_relapse, cfDNA_counts_relapse_big_ratio_all_tumor_sum, by=\"cfDNA_sample\")\n",
    "cfDNA_counts_relapse_big_ratio_all_tumor_sum <- cfDNA_counts_relapse_big_ratio_all_tumor_sum %>% mutate(Ratio_type = \"Big_ratio_all_tumor_sum\")"
   ]
  },
  {
   "cell_type": "code",
   "execution_count": null,
   "id": "cc3f6d32-6b3a-4282-8236-665f99b44ca5",
   "metadata": {},
   "outputs": [],
   "source": [
    "cfDNA_counts_relapse_small_ratio <- res %>% select(cfDNA_sample, small_ratio)\n",
    "colnames(cfDNA_counts_relapse_small_ratio) <- c(\"cfDNA_sample\", \"tumor_fraction_estimate\")\n",
    "cfDNA_counts_relapse_small_ratio <- inner_join(cfDNA_counts_relapse, cfDNA_counts_relapse_small_ratio, by=\"cfDNA_sample\")\n",
    "cfDNA_counts_relapse_small_ratio <- cfDNA_counts_relapse_small_ratio %>% mutate(Ratio_type = \"Small_ratio\")"
   ]
  },
  {
   "cell_type": "code",
   "execution_count": null,
   "id": "cae4c539-ff04-46c8-9cf4-6f927b6e551b",
   "metadata": {},
   "outputs": [],
   "source": [
    "cfDNA_counts_relapse_small_ratio_intersection_sum <- res %>% select(cfDNA_sample, small_ratio_intersection_sum)\n",
    "colnames(cfDNA_counts_relapse_small_ratio_intersection_sum) <- c(\"cfDNA_sample\", \"tumor_fraction_estimate\")\n",
    "cfDNA_counts_relapse_small_ratio_intersection_sum <- inner_join(cfDNA_counts_relapse, cfDNA_counts_relapse_small_ratio_intersection_sum, by=\"cfDNA_sample\")\n",
    "cfDNA_counts_relapse_small_ratio_intersection_sum <- cfDNA_counts_relapse_small_ratio_intersection_sum %>% mutate(Ratio_type = \"Small_ratio_intersection_sum\")"
   ]
  },
  {
   "cell_type": "code",
   "execution_count": null,
   "id": "1a78f84f-0256-4cf6-aa74-6dc022ef132f",
   "metadata": {},
   "outputs": [],
   "source": [
    "cfDNA_counts_relapse_small_ratio_unique_tumor_sum <- res %>% select(cfDNA_sample, small_ratio_unique_tumor_sum)\n",
    "colnames(cfDNA_counts_relapse_small_ratio_unique_tumor_sum) <- c(\"cfDNA_sample\", \"tumor_fraction_estimate\")\n",
    "cfDNA_counts_relapse_small_ratio_unique_tumor_sum <- inner_join(cfDNA_counts_relapse, cfDNA_counts_relapse_small_ratio_unique_tumor_sum, by=\"cfDNA_sample\")\n",
    "cfDNA_counts_relapse_small_ratio_unique_tumor_sum <- cfDNA_counts_relapse_small_ratio_unique_tumor_sum %>% mutate(Ratio_type = \"Small_ratio_unique_tumor_sum\")"
   ]
  },
  {
   "cell_type": "code",
   "execution_count": null,
   "id": "c251586e-38e2-4b6c-9295-0b050f89229f",
   "metadata": {},
   "outputs": [],
   "source": []
  },
  {
   "cell_type": "code",
   "execution_count": null,
   "id": "68aa3555-2a4c-4601-ae7d-4c4fc8509d75",
   "metadata": {},
   "outputs": [],
   "source": [
    "combined_data <- bind_rows(cfDNA_counts_relapse_big_ratio, cfDNA_counts_relapse_big_ratio_intersection_sum, cfDNA_counts_relapse_big_ratio_all_cfDNA_sum, cfDNA_counts_relapse_big_ratio_unique_tumor_sum, cfDNA_counts_relapse_big_ratio_all_tumor_sum, cfDNA_counts_relapse_small_ratio, cfDNA_counts_relapse_small_ratio_intersection_sum, cfDNA_counts_relapse_small_ratio_unique_tumor_sum)"
   ]
  },
  {
   "cell_type": "code",
   "execution_count": null,
   "id": "593b9916-2b31-471b-895d-82420f9c146a",
   "metadata": {},
   "outputs": [],
   "source": [
    "head(combined_data)"
   ]
  },
  {
   "cell_type": "code",
   "execution_count": null,
   "id": "12efafa6-1b48-41f3-93cd-7fe31cd54771",
   "metadata": {},
   "outputs": [],
   "source": [
    "plot_big_r <- ggplot(data = res)+\n",
    "    geom_point(data = res, aes(x = ratio, y=big_ratio, color = pt_id)) \n",
    "\n",
    "plot_big_r"
   ]
  },
  {
   "cell_type": "code",
   "execution_count": null,
   "id": "61ff71fb-0b6a-491b-b650-a49d9250265c",
   "metadata": {},
   "outputs": [],
   "source": [
    "plot_small_r <- ggplot(data = res)+\n",
    "    geom_point(data = res, aes(x = ratio, y=small_ratio, color = pt_id)) \n",
    "\n",
    "plot_small_r"
   ]
  },
  {
   "cell_type": "code",
   "execution_count": null,
   "id": "ddcf84f2-929f-4b73-acb4-763d32f3381f",
   "metadata": {},
   "outputs": [],
   "source": [
    "lm_big_ratio_unique_tumor_sum <- lm(big_ratio_unique_tumor_sum~ratio, data = res)\n",
    "#summary(lm_big_ratio_unique_tumor_sum)\n",
    "\n",
    "lm_big_ratio_all_tumor_sum <- lm(big_ratio_all_tumor_sum~ratio, data = res)\n",
    "#summary(lm_big_ratio_all_tumor_sum)\n",
    "\n",
    "lm_big_ratio_intersection_sum <- lm(big_ratio_intersection_sum~ratio, data = res)\n",
    "#summary(lm_big_ratio_intersection_sum)\n",
    "\n",
    "lm_big_ratio_all_cfDNA_sum <- lm(big_ratio_all_cfDNA_sum~ratio, data = res)\n",
    "#summary(lm_big_ratio_all_cfDNA_sum)"
   ]
  },
  {
   "cell_type": "code",
   "execution_count": null,
   "id": "87a7a217-2a00-41c1-a9a8-6a47b2723434",
   "metadata": {},
   "outputs": [],
   "source": [
    "head(combined_data)"
   ]
  },
  {
   "cell_type": "code",
   "execution_count": null,
   "id": "b71dcb9c-2713-404f-b731-da6235fbba0b",
   "metadata": {},
   "outputs": [],
   "source": [
    "plot_big_r_separate <- ggplot(data = combined_data)+\n",
    "    geom_point(data = combined_data, aes(x = ratio, y=tumor_fraction_estimate, color = pt_id))+\n",
    "    facet_wrap(~Ratio_type, ncol = 1, scales=\"free\")\n",
    "plot_big_r_separate"
   ]
  },
  {
   "cell_type": "code",
   "execution_count": null,
   "id": "8eddee59-06b6-4b04-985b-a1d91fd94b1d",
   "metadata": {},
   "outputs": [],
   "source": [
    "options(repr.plot.width = 12, repr.plot.heigth = 8)\n",
    "plot_big_r_separate <- ggplot(data = res)+\n",
    "    geom_point(data = res, aes(x = ratio, y=big_ratio, color = samples_order))+\n",
    "    facet_wrap(~pt_id, scales=\"free\")\n",
    "plot_big_r_separate"
   ]
  },
  {
   "cell_type": "code",
   "execution_count": null,
   "id": "d5564ad6-1a81-419f-b667-200db1685dc7",
   "metadata": {},
   "outputs": [],
   "source": [
    "options(repr.plot.width = 12, repr.plot.heigth = 8)\n",
    "plot_small_r_separate <- ggplot(data = res)+\n",
    "    geom_point(data = res, aes(x = ratio, y=small_ratio, color = samples_order))+\n",
    "    facet_wrap(~pt_id)\n",
    "plot_small_r_separate"
   ]
  },
  {
   "cell_type": "code",
   "execution_count": null,
   "id": "cde9826d-66e0-42eb-b22a-bf1816912d88",
   "metadata": {},
   "outputs": [],
   "source": []
  }
 ],
 "metadata": {
  "kernelspec": {
   "display_name": "R",
   "language": "R",
   "name": "ir"
  },
  "language_info": {
   "codemirror_mode": "r",
   "file_extension": ".r",
   "mimetype": "text/x-r-source",
   "name": "R",
   "pygments_lexer": "r",
   "version": "3.6.1"
  }
 },
 "nbformat": 4,
 "nbformat_minor": 5
}
