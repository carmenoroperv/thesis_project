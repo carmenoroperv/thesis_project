{
 "cells": [
  {
   "cell_type": "code",
   "execution_count": 8,
   "id": "f6c2a156-5581-4c68-9ddf-b4b3f6b54bd0",
   "metadata": {},
   "outputs": [],
   "source": [
    "library(tidyverse)"
   ]
  },
  {
   "cell_type": "code",
   "execution_count": 9,
   "id": "6c8e2472-c7bb-42e3-bbda-4a9b867d0e24",
   "metadata": {},
   "outputs": [],
   "source": [
    "correlation_dump <- read.table(\"data/C05234/C386A05234D_cfdna_N295-223/ci5_cs1e9/intersection_unique_tumor_cfDNAintersection.txt\")"
   ]
  },
  {
   "cell_type": "code",
   "execution_count": 10,
   "id": "33b66aeb-e1b0-4da0-8202-fc2d6bb8eb2e",
   "metadata": {},
   "outputs": [],
   "source": [
    "colnames(correlation_dump) <- c(\"kmer\", \"tumor\")"
   ]
  },
  {
   "cell_type": "code",
   "execution_count": 11,
   "id": "9721cc5e-9111-41c9-80e6-175c9be96aee",
   "metadata": {},
   "outputs": [
    {
     "data": {
      "text/html": [
       "<table>\n",
       "<thead><tr><th scope=col>kmer</th><th scope=col>tumor</th></tr></thead>\n",
       "<tbody>\n",
       "\t<tr><td>AAAAAAAAAAAAAAAAAAAAAAAAAAAAAAAAAAAAAAAAAAAAACCGAT</td><td>7                                                 </td></tr>\n",
       "\t<tr><td>AAAAAAAAAAAAAAAAAAAAAAAAAAAAAAAAAAAAAAAAAAAAAGCCGC</td><td>7                                                 </td></tr>\n",
       "\t<tr><td>AAAAAAAAAAAAAAAAAAAAAAAAAAAAAAAAAAAAAAAAAAAAAGCGTA</td><td>6                                                 </td></tr>\n",
       "\t<tr><td>AAAAAAAAAAAAAAAAAAAAAAAAAAAAAAAAAAAAAAAAAAAAAGCGTC</td><td>9                                                 </td></tr>\n",
       "\t<tr><td>AAAAAAAAAAAAAAAAAAAAAAAAAAAAAAAAAAAAAAAAAAAAAGCGTT</td><td>8                                                 </td></tr>\n",
       "\t<tr><td>AAAAAAAAAAAAAAAAAAAAAAAAAAAAAAAAAAAAAAAAAAAAAGTACG</td><td>6                                                 </td></tr>\n",
       "</tbody>\n",
       "</table>\n"
      ],
      "text/latex": [
       "\\begin{tabular}{r|ll}\n",
       " kmer & tumor\\\\\n",
       "\\hline\n",
       "\t AAAAAAAAAAAAAAAAAAAAAAAAAAAAAAAAAAAAAAAAAAAAACCGAT & 7                                                 \\\\\n",
       "\t AAAAAAAAAAAAAAAAAAAAAAAAAAAAAAAAAAAAAAAAAAAAAGCCGC & 7                                                 \\\\\n",
       "\t AAAAAAAAAAAAAAAAAAAAAAAAAAAAAAAAAAAAAAAAAAAAAGCGTA & 6                                                 \\\\\n",
       "\t AAAAAAAAAAAAAAAAAAAAAAAAAAAAAAAAAAAAAAAAAAAAAGCGTC & 9                                                 \\\\\n",
       "\t AAAAAAAAAAAAAAAAAAAAAAAAAAAAAAAAAAAAAAAAAAAAAGCGTT & 8                                                 \\\\\n",
       "\t AAAAAAAAAAAAAAAAAAAAAAAAAAAAAAAAAAAAAAAAAAAAAGTACG & 6                                                 \\\\\n",
       "\\end{tabular}\n"
      ],
      "text/markdown": [
       "\n",
       "| kmer | tumor |\n",
       "|---|---|\n",
       "| AAAAAAAAAAAAAAAAAAAAAAAAAAAAAAAAAAAAAAAAAAAAACCGAT | 7                                                  |\n",
       "| AAAAAAAAAAAAAAAAAAAAAAAAAAAAAAAAAAAAAAAAAAAAAGCCGC | 7                                                  |\n",
       "| AAAAAAAAAAAAAAAAAAAAAAAAAAAAAAAAAAAAAAAAAAAAAGCGTA | 6                                                  |\n",
       "| AAAAAAAAAAAAAAAAAAAAAAAAAAAAAAAAAAAAAAAAAAAAAGCGTC | 9                                                  |\n",
       "| AAAAAAAAAAAAAAAAAAAAAAAAAAAAAAAAAAAAAAAAAAAAAGCGTT | 8                                                  |\n",
       "| AAAAAAAAAAAAAAAAAAAAAAAAAAAAAAAAAAAAAAAAAAAAAGTACG | 6                                                  |\n",
       "\n"
      ],
      "text/plain": [
       "  kmer                                               tumor\n",
       "1 AAAAAAAAAAAAAAAAAAAAAAAAAAAAAAAAAAAAAAAAAAAAACCGAT 7    \n",
       "2 AAAAAAAAAAAAAAAAAAAAAAAAAAAAAAAAAAAAAAAAAAAAAGCCGC 7    \n",
       "3 AAAAAAAAAAAAAAAAAAAAAAAAAAAAAAAAAAAAAAAAAAAAAGCGTA 6    \n",
       "4 AAAAAAAAAAAAAAAAAAAAAAAAAAAAAAAAAAAAAAAAAAAAAGCGTC 9    \n",
       "5 AAAAAAAAAAAAAAAAAAAAAAAAAAAAAAAAAAAAAAAAAAAAAGCGTT 8    \n",
       "6 AAAAAAAAAAAAAAAAAAAAAAAAAAAAAAAAAAAAAAAAAAAAAGTACG 6    "
      ]
     },
     "metadata": {},
     "output_type": "display_data"
    }
   ],
   "source": [
    "head(correlation_dump)"
   ]
  },
  {
   "cell_type": "code",
   "execution_count": 12,
   "id": "1293e5bb-573f-48bd-ac4b-9df941b48ea5",
   "metadata": {},
   "outputs": [],
   "source": [
    "cfDNA <- read.table(\"data/C05234/C386A05234D_cfdna_N295-223/ci5_cs1e9/cfDNA_kmers_unique_tumor_kmers_intersect_singletons_excluded_tumor_4_cs.txt\")"
   ]
  },
  {
   "cell_type": "code",
   "execution_count": 13,
   "id": "cdea2b9e-d6b2-492b-93dd-8c0bef384b37",
   "metadata": {},
   "outputs": [],
   "source": [
    "colnames(cfDNA) <- c(\"kmer\", \"cfDNA_C386A05234D_cfdna_N295_223\")"
   ]
  },
  {
   "cell_type": "code",
   "execution_count": 14,
   "id": "253c36e3-0b8c-40e0-9e28-401bb8103cd3",
   "metadata": {},
   "outputs": [
    {
     "data": {
      "text/html": [
       "<table>\n",
       "<thead><tr><th scope=col>kmer</th><th scope=col>cfDNA_C386A05234D_cfdna_N295_223</th></tr></thead>\n",
       "<tbody>\n",
       "\t<tr><td>AAAAAAAAAAAAAAAAAAAAAAAAAAAAAAAAAAAAAAAAAAAAACCGAT</td><td>2                                                 </td></tr>\n",
       "\t<tr><td>AAAAAAAAAAAAAAAAAAAAAAAAAAAAAAAAAAAAAAAAAAAAAGCCGC</td><td>6                                                 </td></tr>\n",
       "\t<tr><td>AAAAAAAAAAAAAAAAAAAAAAAAAAAAAAAAAAAAAAAAAAAAAGCGTA</td><td>6                                                 </td></tr>\n",
       "\t<tr><td>AAAAAAAAAAAAAAAAAAAAAAAAAAAAAAAAAAAAAAAAAAAAAGCGTC</td><td>3                                                 </td></tr>\n",
       "\t<tr><td>AAAAAAAAAAAAAAAAAAAAAAAAAAAAAAAAAAAAAAAAAAAAAGCGTT</td><td>4                                                 </td></tr>\n",
       "\t<tr><td>AAAAAAAAAAAAAAAAAAAAAAAAAAAAAAAAAAAAAAAAAAAAAGTACG</td><td>2                                                 </td></tr>\n",
       "</tbody>\n",
       "</table>\n"
      ],
      "text/latex": [
       "\\begin{tabular}{r|ll}\n",
       " kmer & cfDNA\\_C386A05234D\\_cfdna\\_N295\\_223\\\\\n",
       "\\hline\n",
       "\t AAAAAAAAAAAAAAAAAAAAAAAAAAAAAAAAAAAAAAAAAAAAACCGAT & 2                                                 \\\\\n",
       "\t AAAAAAAAAAAAAAAAAAAAAAAAAAAAAAAAAAAAAAAAAAAAAGCCGC & 6                                                 \\\\\n",
       "\t AAAAAAAAAAAAAAAAAAAAAAAAAAAAAAAAAAAAAAAAAAAAAGCGTA & 6                                                 \\\\\n",
       "\t AAAAAAAAAAAAAAAAAAAAAAAAAAAAAAAAAAAAAAAAAAAAAGCGTC & 3                                                 \\\\\n",
       "\t AAAAAAAAAAAAAAAAAAAAAAAAAAAAAAAAAAAAAAAAAAAAAGCGTT & 4                                                 \\\\\n",
       "\t AAAAAAAAAAAAAAAAAAAAAAAAAAAAAAAAAAAAAAAAAAAAAGTACG & 2                                                 \\\\\n",
       "\\end{tabular}\n"
      ],
      "text/markdown": [
       "\n",
       "| kmer | cfDNA_C386A05234D_cfdna_N295_223 |\n",
       "|---|---|\n",
       "| AAAAAAAAAAAAAAAAAAAAAAAAAAAAAAAAAAAAAAAAAAAAACCGAT | 2                                                  |\n",
       "| AAAAAAAAAAAAAAAAAAAAAAAAAAAAAAAAAAAAAAAAAAAAAGCCGC | 6                                                  |\n",
       "| AAAAAAAAAAAAAAAAAAAAAAAAAAAAAAAAAAAAAAAAAAAAAGCGTA | 6                                                  |\n",
       "| AAAAAAAAAAAAAAAAAAAAAAAAAAAAAAAAAAAAAAAAAAAAAGCGTC | 3                                                  |\n",
       "| AAAAAAAAAAAAAAAAAAAAAAAAAAAAAAAAAAAAAAAAAAAAAGCGTT | 4                                                  |\n",
       "| AAAAAAAAAAAAAAAAAAAAAAAAAAAAAAAAAAAAAAAAAAAAAGTACG | 2                                                  |\n",
       "\n"
      ],
      "text/plain": [
       "  kmer                                              \n",
       "1 AAAAAAAAAAAAAAAAAAAAAAAAAAAAAAAAAAAAAAAAAAAAACCGAT\n",
       "2 AAAAAAAAAAAAAAAAAAAAAAAAAAAAAAAAAAAAAAAAAAAAAGCCGC\n",
       "3 AAAAAAAAAAAAAAAAAAAAAAAAAAAAAAAAAAAAAAAAAAAAAGCGTA\n",
       "4 AAAAAAAAAAAAAAAAAAAAAAAAAAAAAAAAAAAAAAAAAAAAAGCGTC\n",
       "5 AAAAAAAAAAAAAAAAAAAAAAAAAAAAAAAAAAAAAAAAAAAAAGCGTT\n",
       "6 AAAAAAAAAAAAAAAAAAAAAAAAAAAAAAAAAAAAAAAAAAAAAGTACG\n",
       "  cfDNA_C386A05234D_cfdna_N295_223\n",
       "1 2                               \n",
       "2 6                               \n",
       "3 6                               \n",
       "4 3                               \n",
       "5 4                               \n",
       "6 2                               "
      ]
     },
     "metadata": {},
     "output_type": "display_data"
    }
   ],
   "source": [
    "head(cfDNA)"
   ]
  },
  {
   "cell_type": "code",
   "execution_count": null,
   "id": "93673fec-02db-413b-a422-58e098e9faf4",
   "metadata": {},
   "outputs": [],
   "source": []
  },
  {
   "cell_type": "code",
   "execution_count": 15,
   "id": "133a127b-b126-409a-89c7-f040f0243f15",
   "metadata": {},
   "outputs": [],
   "source": [
    "tumor <- full_join(correlation_dump, cfDNA, by = \"kmer\")"
   ]
  },
  {
   "cell_type": "code",
   "execution_count": 16,
   "id": "77b2d0c7-d5d4-439f-98d9-15d534441f29",
   "metadata": {},
   "outputs": [
    {
     "data": {
      "text/html": [
       "<table>\n",
       "<thead><tr><th scope=col>kmer</th><th scope=col>tumor</th><th scope=col>cfDNA_C386A05234D_cfdna_N295_223</th></tr></thead>\n",
       "<tbody>\n",
       "\t<tr><td>AAAAAAAAAAAAAAAAAAAAAAAAAAAAAAAAAAAAAAAAAAAAACCGAT</td><td>7                                                 </td><td>2                                                 </td></tr>\n",
       "\t<tr><td>AAAAAAAAAAAAAAAAAAAAAAAAAAAAAAAAAAAAAAAAAAAAAGCCGC</td><td>7                                                 </td><td>6                                                 </td></tr>\n",
       "\t<tr><td>AAAAAAAAAAAAAAAAAAAAAAAAAAAAAAAAAAAAAAAAAAAAAGCGTA</td><td>6                                                 </td><td>6                                                 </td></tr>\n",
       "\t<tr><td>AAAAAAAAAAAAAAAAAAAAAAAAAAAAAAAAAAAAAAAAAAAAAGCGTC</td><td>9                                                 </td><td>3                                                 </td></tr>\n",
       "\t<tr><td>AAAAAAAAAAAAAAAAAAAAAAAAAAAAAAAAAAAAAAAAAAAAAGCGTT</td><td>8                                                 </td><td>4                                                 </td></tr>\n",
       "\t<tr><td>AAAAAAAAAAAAAAAAAAAAAAAAAAAAAAAAAAAAAAAAAAAAAGTACG</td><td>6                                                 </td><td>2                                                 </td></tr>\n",
       "</tbody>\n",
       "</table>\n"
      ],
      "text/latex": [
       "\\begin{tabular}{r|lll}\n",
       " kmer & tumor & cfDNA\\_C386A05234D\\_cfdna\\_N295\\_223\\\\\n",
       "\\hline\n",
       "\t AAAAAAAAAAAAAAAAAAAAAAAAAAAAAAAAAAAAAAAAAAAAACCGAT & 7                                                  & 2                                                 \\\\\n",
       "\t AAAAAAAAAAAAAAAAAAAAAAAAAAAAAAAAAAAAAAAAAAAAAGCCGC & 7                                                  & 6                                                 \\\\\n",
       "\t AAAAAAAAAAAAAAAAAAAAAAAAAAAAAAAAAAAAAAAAAAAAAGCGTA & 6                                                  & 6                                                 \\\\\n",
       "\t AAAAAAAAAAAAAAAAAAAAAAAAAAAAAAAAAAAAAAAAAAAAAGCGTC & 9                                                  & 3                                                 \\\\\n",
       "\t AAAAAAAAAAAAAAAAAAAAAAAAAAAAAAAAAAAAAAAAAAAAAGCGTT & 8                                                  & 4                                                 \\\\\n",
       "\t AAAAAAAAAAAAAAAAAAAAAAAAAAAAAAAAAAAAAAAAAAAAAGTACG & 6                                                  & 2                                                 \\\\\n",
       "\\end{tabular}\n"
      ],
      "text/markdown": [
       "\n",
       "| kmer | tumor | cfDNA_C386A05234D_cfdna_N295_223 |\n",
       "|---|---|---|\n",
       "| AAAAAAAAAAAAAAAAAAAAAAAAAAAAAAAAAAAAAAAAAAAAACCGAT | 7                                                  | 2                                                  |\n",
       "| AAAAAAAAAAAAAAAAAAAAAAAAAAAAAAAAAAAAAAAAAAAAAGCCGC | 7                                                  | 6                                                  |\n",
       "| AAAAAAAAAAAAAAAAAAAAAAAAAAAAAAAAAAAAAAAAAAAAAGCGTA | 6                                                  | 6                                                  |\n",
       "| AAAAAAAAAAAAAAAAAAAAAAAAAAAAAAAAAAAAAAAAAAAAAGCGTC | 9                                                  | 3                                                  |\n",
       "| AAAAAAAAAAAAAAAAAAAAAAAAAAAAAAAAAAAAAAAAAAAAAGCGTT | 8                                                  | 4                                                  |\n",
       "| AAAAAAAAAAAAAAAAAAAAAAAAAAAAAAAAAAAAAAAAAAAAAGTACG | 6                                                  | 2                                                  |\n",
       "\n"
      ],
      "text/plain": [
       "  kmer                                               tumor\n",
       "1 AAAAAAAAAAAAAAAAAAAAAAAAAAAAAAAAAAAAAAAAAAAAACCGAT 7    \n",
       "2 AAAAAAAAAAAAAAAAAAAAAAAAAAAAAAAAAAAAAAAAAAAAAGCCGC 7    \n",
       "3 AAAAAAAAAAAAAAAAAAAAAAAAAAAAAAAAAAAAAAAAAAAAAGCGTA 6    \n",
       "4 AAAAAAAAAAAAAAAAAAAAAAAAAAAAAAAAAAAAAAAAAAAAAGCGTC 9    \n",
       "5 AAAAAAAAAAAAAAAAAAAAAAAAAAAAAAAAAAAAAAAAAAAAAGCGTT 8    \n",
       "6 AAAAAAAAAAAAAAAAAAAAAAAAAAAAAAAAAAAAAAAAAAAAAGTACG 6    \n",
       "  cfDNA_C386A05234D_cfdna_N295_223\n",
       "1 2                               \n",
       "2 6                               \n",
       "3 6                               \n",
       "4 3                               \n",
       "5 4                               \n",
       "6 2                               "
      ]
     },
     "metadata": {},
     "output_type": "display_data"
    }
   ],
   "source": [
    "head(tumor)"
   ]
  },
  {
   "cell_type": "code",
   "execution_count": 17,
   "id": "dff56be7-61f3-4be5-9347-5ce3d8bc2cd3",
   "metadata": {},
   "outputs": [
    {
     "data": {
      "text/html": [
       "0.0814333868430281"
      ],
      "text/latex": [
       "0.0814333868430281"
      ],
      "text/markdown": [
       "0.0814333868430281"
      ],
      "text/plain": [
       "[1] 0.08143339"
      ]
     },
     "metadata": {},
     "output_type": "display_data"
    }
   ],
   "source": [
    "cor(tumor$tumor, tumor$cfDNA_C386A05234D_cfdna_N295_223)"
   ]
  },
  {
   "cell_type": "code",
   "execution_count": 18,
   "id": "f4b12b4f-1409-4eb3-8c11-fedb2a799bd1",
   "metadata": {},
   "outputs": [],
   "source": [
    "plot_C04874 <- ggplot(data = tumor)+\n",
    "    geom_point(aes(x = tumor, y = cfDNA_C386A05234D_cfdna_N295_223))"
   ]
  },
  {
   "cell_type": "code",
   "execution_count": 19,
   "id": "7c0c41cb-10fa-4be1-9b32-5a445eac4e9a",
   "metadata": {},
   "outputs": [
    {
     "data": {
      "image/png": "[encoded data removed]",
      "text/plain": [
       "plot without title"
      ]
     },
     "metadata": {},
     "output_type": "display_data"
    }
   ],
   "source": [
    "plot_C04874"
   ]
  },
  {
   "cell_type": "code",
   "execution_count": 25,
   "id": "a6b70a27-e812-4faa-bbe0-6744851c348f",
   "metadata": {},
   "outputs": [],
   "source": [
    "library(ggExtra)"
   ]
  },
  {
   "cell_type": "code",
   "execution_count": 28,
   "id": "01cdf42e-38d4-44fb-a5b8-122b25c0d24f",
   "metadata": {},
   "outputs": [],
   "source": [
    "#plot_C04874_marginal <- ggMarginal(plot_C04874, type=\"histogram\") #if we want them as bars\n",
    "plot_C04874_marginal <- ggMarginal(plot_C04874, type=\"density\") #if we want them as line\n",
    "#plot_C04874_marginal <- ggMarginal(plot_C04874, type=\"boxplot\") #if we want them as box plot"
   ]
  },
  {
   "cell_type": "code",
   "execution_count": 29,
   "id": "557a2fbb-428e-48dd-9d91-5d3a55b91c72",
   "metadata": {},
   "outputs": [
    {
     "data": {
      "image/png": "[encoded data removed]",
      "text/plain": [
       "plot without title"
      ]
     },
     "metadata": {},
     "output_type": "display_data"
    }
   ],
   "source": [
    "plot_C04874_marginal"
   ]
  },
  {
   "cell_type": "code",
   "execution_count": 13,
   "id": "d893b57e-d50d-4591-80a5-d38b78576153",
   "metadata": {},
   "outputs": [
    {
     "name": "stderr",
     "output_type": "stream",
     "text": [
      "Saving 6.67 x 6.67 in image\n"
     ]
    }
   ],
   "source": [
    "ggsave(\"plotting_results/Correlation_example_re_C05234.png\")"
   ]
  },
  {
   "cell_type": "code",
   "execution_count": null,
   "id": "e0572493-8719-41de-97f8-b477740887d2",
   "metadata": {},
   "outputs": [],
   "source": []
  },
  {
   "cell_type": "code",
   "execution_count": null,
   "id": "12edb7f7-c02b-40f0-b3b6-b7417abf1dab",
   "metadata": {},
   "outputs": [],
   "source": []
  },
  {
   "cell_type": "code",
   "execution_count": null,
   "id": "7fd71d72-128a-4d5a-90c1-f2da12553dee",
   "metadata": {},
   "outputs": [],
   "source": []
  }
 ],
 "metadata": {
  "kernelspec": {
   "display_name": "R",
   "language": "R",
   "name": "ir"
  },
  "language_info": {
   "codemirror_mode": "r",
   "file_extension": ".r",
   "mimetype": "text/x-r-source",
   "name": "R",
   "pygments_lexer": "r",
   "version": "3.6.1"
  }
 },
 "nbformat": 4,
 "nbformat_minor": 5
}
