{
 "cells": [
  {
   "cell_type": "code",
   "execution_count": null,
   "id": "7cc1eb4e-791c-469e-af9a-b2c14c246aa6",
   "metadata": {},
   "outputs": [],
   "source": [
    "library(tidyverse)\n",
    "library(RColorBrewer)"
   ]
  },
  {
   "cell_type": "code",
   "execution_count": null,
   "id": "ab863fb1-8d55-41cb-8037-a17821078a3b",
   "metadata": {},
   "outputs": [],
   "source": [
    "# 1) count unmapped from unmapped file \n",
    "# 2) take soft clipped kmer numbers -> S in CIGAR\n",
    "# 3) insertions -> I in CIGAR\n",
    "# 4) deletions -> D in CIGAR"
   ]
  },
  {
   "cell_type": "code",
   "execution_count": null,
   "id": "c4841f35-fcc2-47fe-b7a9-afebb5c298f6",
   "metadata": {},
   "outputs": [],
   "source": [
    "paramspace <- read.csv(\"../data/metadata/paramspace_phaseI.csv\")\n",
    "paramspace <- paramspace %>% select(pt_id, output_path_unique_kmers)\n",
    "head(paramspace)\n",
    "dim(paramspace)"
   ]
  },
  {
   "cell_type": "code",
   "execution_count": null,
   "id": "eddc7387-0a39-4ae4-94e4-0374ca78e076",
   "metadata": {},
   "outputs": [],
   "source": [
    "create_fasta_unmapped_kmers <- function(dataset, pt, folder) {\n",
    "    file.create(paste0(\"../data/\", pt, \"/\", folder, \"/all_germline_filtered_bams_tumor_ci5_cs1e9/mapping_to_reference/unmapped_kmers.fasta\"))\n",
    "\n",
    "    for (row in 1:nrow(dataset)){\n",
    "        cat(paste0(\">\", dataset[row, \"V1\"]), file=paste0(\"../data/\", pt, \"/\", folder, \"/all_germline_filtered_bams_tumor_ci5_cs1e9/mapping_to_reference/unmapped_kmers.fasta\"),append=TRUE, sep=\"\\n\")\n",
    "        cat(dataset[row, \"V10\"], file=paste0(\"../data/\", pt, \"/\", folder, \"/all_germline_filtered_bams_tumor_ci5_cs1e9/mapping_to_reference/unmapped_kmers.fasta\"),append=TRUE, sep=\"\\n\")\n",
    "    }\n",
    "    \n",
    "}"
   ]
  },
  {
   "cell_type": "code",
   "execution_count": null,
   "id": "179e30ca-643a-42b9-917c-11680eb4773f",
   "metadata": {},
   "outputs": [],
   "source": [
    "res_unmapped_final <- NULL\n",
    "for (row in 1:nrow(paramspace)){\n",
    "    patient = paramspace[row, \"pt_id\"]\n",
    "    folder = paramspace[row, \"output_path_unique_kmers\"]\n",
    "    print(patient)\n",
    "    \n",
    "    res_unmapped <- read.table(paste0('../data/', patient, \"/\", folder, \"/all_germline_filtered_bams_tumor_ci5_cs1e9/mapping_to_reference/unique_tumor_kmers_unmapped.sam\"))\n",
    "    print(nrow(res_unmapped))\n",
    "    res_unmapped_pt <- tibble(pt_id = patient, tumor_folder = folder, unmapped_kmers = nrow(res_unmapped))\n",
    "    res_unmapped_final <- rbind(res_unmapped_final, res_unmapped_pt)\n",
    "    \n",
    "    res_unmapped$V10 <- as.character(res_unmapped$V10)\n",
    "    \n",
    "    #create_fasta_unmapped_kmers(res_unmapped, patient, folder)\n",
    "}"
   ]
  },
  {
   "cell_type": "code",
   "execution_count": null,
   "id": "247496f6-6b31-45ac-9147-e9278b7c49bc",
   "metadata": {},
   "outputs": [],
   "source": [
    "head(res_unmapped)"
   ]
  },
  {
   "cell_type": "code",
   "execution_count": null,
   "id": "90e18957-a245-4d7c-ba31-d5f61e2aab70",
   "metadata": {},
   "outputs": [],
   "source": [
    "create_fasta <- function(dataset, pt, folder) {\n",
    "    file.create(paste0(\"../data/\", pt, \"/\", folder, \"/all_germline_filtered_bams_tumor_ci5_cs1e9/mapping_to_reference/kmers_mapping_w_01_mismatches.fasta\"))\n",
    "    #fileConn<-file(paste0(\"../data/\", pt, \"/\", folder, \"/all_germline_filtered_bams_tumor_ci5_cs1e9/mapping_to_reference/kmers_mapping_w_01_mismatches.fasta\"))\n",
    "    for (row in 1:nrow(dataset)){\n",
    "        cat(paste0(\">\", dataset[row, \"V1\"]), file=paste0(\"../data/\", pt, \"/\", folder, \"/all_germline_filtered_bams_tumor_ci5_cs1e9/mapping_to_reference/kmers_mapping_w_01_mismatches.fasta\"),append=TRUE, sep=\"\\n\")\n",
    "        cat(dataset[row, \"V10\"], file=paste0(\"../data/\", pt, \"/\", folder, \"/all_germline_filtered_bams_tumor_ci5_cs1e9/mapping_to_reference/kmers_mapping_w_01_mismatches.fasta\"),append=TRUE, sep=\"\\n\")\n",
    "    }\n",
    "    \n",
    "}"
   ]
  },
  {
   "cell_type": "code",
   "execution_count": null,
   "id": "5c48d191-1edb-493e-96cd-ce2102929456",
   "metadata": {
    "tags": []
   },
   "outputs": [],
   "source": [
    "res_mapped_final <- NULL\n",
    "for (row in 1:nrow(paramspace)){\n",
    "    patient = paramspace[row, \"pt_id\"]\n",
    "    folder = paramspace[row, \"output_path_unique_kmers\"]\n",
    "    print(as.character(patient))\n",
    "    # , colClasses=c(rep(\"character\", 15)) \n",
    "    res_mapped <- read.table(paste0('../data/', patient, \"/\", folder, \"/all_germline_filtered_bams_tumor_ci5_cs1e9/mapping_to_reference/unique_tumor_kmers_mapped.sam\"), header=FALSE, sep=\"\\t\", fill=TRUE,\n",
    "                             col.names = paste0(\"V\", seq_len(17)))\n",
    "    \n",
    "    #print(head(res_mapped))\n",
    "    res_mapped_softclipped <- dplyr::filter(res_mapped, grepl('S|H', V6))\n",
    "    res_mapped_rest <- dplyr::filter(res_mapped, !(grepl('S|H', V6)))\n",
    "    \n",
    "    res_mapped_indels <- dplyr::filter(res_mapped_rest, grepl('I|D', V6))\n",
    "    res_mapped_rest <- dplyr::filter(res_mapped_rest, !(grepl('I|D', V6)))\n",
    "    \n",
    "    res_mapped_rest_with_indels_check <- dplyr::filter(res_mapped_rest, !(grepl('^', V13)))\n",
    "    #print(dim(res_mapped_rest_with_indels_check))\n",
    "    \n",
    "    #print(length(res_mapped_rest$V1))\n",
    "    #print(length(res_mapped_rest$V10))\n",
    "    res_mapped_rest$V12 <- as.character(res_mapped_rest$V12)\n",
    "    res_mapped_rest_split <- res_mapped_rest %>% separate(V12, c(\"A\", \"B\", \"C\"), \":\", extra = \"merge\")\n",
    "    #print(head(res_mapped_rest_split))\n",
    "    #print(dim(res_mapped_rest_split))\n",
    "    print(dim(res_mapped_rest_split %>% filter(A == \"NM\")))\n",
    "    res_mapped_rest_split$C <- as.numeric(res_mapped_rest_split$C) \n",
    "\n",
    "    res_mapped_pt <- tibble(pt_id = patient, \n",
    "                            tumor_folder = folder, \n",
    "                            mapped_kmers = nrow(res_mapped),\n",
    "                            softclipped_kmers = nrow(res_mapped_softclipped),\n",
    "                            kmers_w_indels = nrow(res_mapped_indels),\n",
    "                            kmers_rest = nrow(res_mapped_rest),\n",
    "                            kmers_0_mismatches = nrow(res_mapped_rest_split %>% filter(C == 0)),\n",
    "                            kmers_1_mismatches = nrow(res_mapped_rest_split %>% filter(C == 1)),\n",
    "                            kmers_2_mismatches = nrow(res_mapped_rest_split %>% filter(C == 2)),\n",
    "                            kmers_3more_mismatches = nrow(res_mapped_rest_split %>% filter(C >= 3))\n",
    "                            )\n",
    "    \n",
    "    print(\"Kmers with 0 or 1 mismatches\")\n",
    "    res_01_mismatches <- res_mapped_rest_split %>% filter(C <= 1)\n",
    "    print(dim(res_01_mismatches))\n",
    "    #print(head(res_01_mismatches))\n",
    "    res_01_mismatches$V10 <- as.character(res_01_mismatches$V10)\n",
    "    \n",
    "    #print(\"duplicated kmers: \")\n",
    "    #print(res_01_mismatches$V10[duplicated(res_01_mismatches$V10)])\n",
    "    #n_occur <- data.frame(table(res_01_mismatches$V10))\n",
    "    #print(n_occur[n_occur$Freq > 1,])\n",
    "    #print(res_01_mismatches[res_01_mismatches$V10 %in% n_occur$Var1[n_occur$Freq > 1],])\n",
    "    \n",
    "    #for (i in res_01_mismatches$V10){\n",
    "    #    if (nchar(i) != 50){\n",
    "    #        print(i)\n",
    "    #    }\n",
    "    #}\n",
    "    \n",
    "    #write.table(res_01_mismatches, file = paste0(\"../data/\", patient, \"/\", folder, \"/all_germline_filtered_bams_tumor_ci5_cs1e9/mapping_to_reference/kmers_mapping_w_01_mismatches.tsv\"), row.names=FALSE, sep=\"\\t\")\n",
    "    \n",
    "    res_mapped_final <- rbind(res_mapped_final, res_mapped_pt)\n",
    "}\n",
    "\n",
    "print(head(res_mapped))"
   ]
  },
  {
   "cell_type": "code",
   "execution_count": null,
   "id": "7a35497a-87cb-447f-a5f0-2b7ae9710658",
   "metadata": {},
   "outputs": [],
   "source": [
    "dim(res_unmapped_final)\n",
    "head(res_unmapped_final)"
   ]
  },
  {
   "cell_type": "code",
   "execution_count": null,
   "id": "77200649-604b-4e6f-81cf-f1c1e1cfceef",
   "metadata": {},
   "outputs": [],
   "source": [
    "dim(res_mapped_final)\n",
    "head(res_mapped_final)"
   ]
  },
  {
   "cell_type": "code",
   "execution_count": null,
   "id": "d495b0d0-7c37-4cfb-b010-c14dfb26e352",
   "metadata": {},
   "outputs": [],
   "source": [
    "low_qual_sample <- read.table(\"../low_qual_sample.txt\")\n",
    "low_qual_sample <- as.character(low_qual_sample[[1]])\n",
    "\n",
    "phaseIpt_R <- read.csv(\"../phaseI_pt_R.csv\", header=FALSE)\n",
    "phaseIpt_R <- as.character(unlist(c(phaseIpt_R[1,])))"
   ]
  },
  {
   "cell_type": "code",
   "execution_count": null,
   "id": "57d8b194-a235-4733-8527-aafa9d236bce",
   "metadata": {},
   "outputs": [],
   "source": [
    "res_mapped_final_nopt <- res_mapped_final %>% filter(!(pt_id == low_qual_sample))"
   ]
  },
  {
   "cell_type": "code",
   "execution_count": null,
   "id": "f97886c6-24eb-4725-b5aa-438bbc46f7c9",
   "metadata": {},
   "outputs": [],
   "source": [
    "a <- ifelse(res_mapped_final$pt_id %in% phaseIpt_R, \"red\", \"darkblue\")\n",
    "b <- ifelse(unique(as.character(res_mapped_final_nopt$pt_id)) %in% phaseIpt_R, \"red\", \"darkblue\")"
   ]
  },
  {
   "cell_type": "code",
   "execution_count": null,
   "id": "9e4c60e5-5927-4a60-b392-ea32dfb45d32",
   "metadata": {},
   "outputs": [],
   "source": [
    "res <- left_join(res_unmapped_final, res_mapped_final, by = c(\"pt_id\", \"tumor_folder\"))\n",
    "head(res)"
   ]
  },
  {
   "cell_type": "code",
   "execution_count": null,
   "id": "45b0e597-5717-499c-8350-8187a43127cd",
   "metadata": {},
   "outputs": [],
   "source": [
    "res_long <- res %>% pivot_longer(cols = c(\"unmapped_kmers\", \n",
    "                                          \"mapped_kmers\", \n",
    "                                          \"softclipped_kmers\", \n",
    "                                          \"kmers_w_indels\",\n",
    "                                          \"kmers_rest\",\n",
    "                                          \"kmers_0_mismatches\",\n",
    "                                          \"kmers_1_mismatches\",\n",
    "                                          \"kmers_2_mismatches\",\n",
    "                                          \"kmers_3more_mismatches\"),\n",
    "                                                 names_to = \"kmer\",\n",
    "                                                 values_to = \"n\")"
   ]
  },
  {
   "cell_type": "code",
   "execution_count": null,
   "id": "f7354956-41b0-4d38-a95b-818d8f4bcc11",
   "metadata": {},
   "outputs": [],
   "source": [
    "head(res_long)"
   ]
  },
  {
   "cell_type": "code",
   "execution_count": null,
   "id": "ad4120f4-9919-43de-ba86-88b6c86f2408",
   "metadata": {},
   "outputs": [],
   "source": [
    "options(repr.plot.width=15, repr.plot.height=8)\n",
    "\n",
    "res_long %>% filter(kmer %in% c(\"mapped_kmers\", \n",
    "                                \"unmapped_kmers\")) %>% \n",
    "    ggplot() +\n",
    "    geom_col(aes(x = pt_id, y = n, fill = kmer), position = \"dodge2\") +\n",
    "    ggtitle(\"Mapped and unmapped unique tumor kmers\") + theme_minimal() + \n",
    "    theme(axis.text.x = element_text(colour = a))"
   ]
  },
  {
   "cell_type": "code",
   "execution_count": null,
   "id": "f9b11212-e18a-4c29-82ca-f5e5498fcd44",
   "metadata": {},
   "outputs": [],
   "source": [
    "res_long %>% \n",
    "    filter(!(pt_id %in% low_qual_sample)) %>% \n",
    "    filter(kmer %in% c(\"mapped_kmers\", \n",
    "                       \"unmapped_kmers\")) %>% \n",
    "    ggplot() +\n",
    "    geom_col(aes(x = pt_id, y = n, fill = kmer), position = \"dodge2\") + theme_minimal() +\n",
    "    theme(axis.text.x = element_text(colour = b, size = 14),\n",
    "          axis.text.y = element_text(size = 14), \n",
    "          axis.title.y = element_text(size = 16),\n",
    "          legend.title=element_text(size=16), \n",
    "          legend.text=element_text(size=14)) +\n",
    "    scale_fill_discrete(name = \"K-mers\", labels = c(\"Mapped\", \"Unmapped\")) + xlab(\"\") + ylab(\"Count\")\n",
    "    \n"
   ]
  },
  {
   "cell_type": "code",
   "execution_count": null,
   "id": "17167805-1912-4146-8d6b-9a527bb8165d",
   "metadata": {},
   "outputs": [],
   "source": [
    "res_long %>% \n",
    "    filter(!(kmer %in% c(\"mapped_kmers\", \n",
    "                         \"unmapped_kmers\",\n",
    "                         \"kmers_0_mismatches\",\n",
    "                         \"kmers_1_mismatches\",\n",
    "                         \"kmers_2_mismatches\",\n",
    "                         \"kmers_3more_mismatches\"))) %>% \n",
    "    ggplot() +\n",
    "    geom_col(aes(x = pt_id, y = n, fill = kmer), position = \"dodge2\") +\n",
    "    ggtitle(\"Mapped unique tumor kmers\") + theme_minimal() + \n",
    "    theme(axis.text.x = element_text(colour = a))"
   ]
  },
  {
   "cell_type": "code",
   "execution_count": null,
   "id": "a5636199-8586-460e-9b40-3c0484e18948",
   "metadata": {},
   "outputs": [],
   "source": [
    "res_long %>% \n",
    "    filter(!(pt_id %in% low_qual_sample)) %>% \n",
    "    filter(!(kmer %in% c(\"mapped_kmers\", \n",
    "                         \"unmapped_kmers\",\n",
    "                         \"kmers_rest\",\n",
    "                         \"kmers_0_mismatches\",\n",
    "                         \"kmers_1_mismatches\",\n",
    "                         \"kmers_2_mismatches\",\n",
    "                         \"kmers_3more_mismatches\"))) %>% \n",
    "    ggplot() +\n",
    "    geom_col(aes(x = pt_id, y = n, fill = kmer), position = \"dodge2\") +\n",
    "    theme_minimal() + \n",
    "    theme(axis.text.x = element_text(colour = b, size = 14),\n",
    "          axis.text.y = element_text(size = 14), \n",
    "          axis.title.y = element_text(size = 16),\n",
    "          legend.title=element_text(size=16), \n",
    "          legend.text=element_text(size=14)) +\n",
    "    scale_fill_discrete(name = \"K-mers\", labels = c(\"including indels\", \"bases clipped\")) + xlab(\"\") + ylab(\"Count\")\n",
    "\n"
   ]
  },
  {
   "cell_type": "code",
   "execution_count": null,
   "id": "87acc590-b2d1-48f2-8f8d-ffcd0c5db1fa",
   "metadata": {},
   "outputs": [],
   "source": [
    "res_long %>% \n",
    "    filter(!(kmer %in% c(\"mapped_kmers\", \n",
    "                         \"unmapped_kmers\",\n",
    "                         \"softclipped_kmers\", \n",
    "                         \"kmers_w_indels\",\n",
    "                         \"kmers_rest\"))) %>% \n",
    "    ggplot() +\n",
    "    geom_col(aes(x = pt_id, y = n, fill = kmer), position = \"dodge2\") +\n",
    "    ggtitle(\"Unique tumor kmers, mapped with 0, 1, 2, 3 or more mismatches\") + theme_minimal() + \n",
    "    theme(axis.text.x = element_text(colour = a))"
   ]
  },
  {
   "cell_type": "code",
   "execution_count": null,
   "id": "68ae4a85-181f-440c-9bf4-90ec0d8399fd",
   "metadata": {},
   "outputs": [],
   "source": [
    "res_long %>% \n",
    "    filter(!(pt_id %in% low_qual_sample)) %>% \n",
    "    filter(!(kmer %in% c(\"mapped_kmers\", \n",
    "                         \"unmapped_kmers\",\n",
    "                         \"softclipped_kmers\", \n",
    "                         \"kmers_w_indels\",\n",
    "                         \"kmers_rest\"))) %>% \n",
    "    ggplot() +\n",
    "    geom_col(aes(x = pt_id, y = n, fill = kmer), position = \"dodge2\") +\n",
    "    theme_minimal() + \n",
    "     theme(axis.text.x = element_text(colour = b, size = 14),\n",
    "          axis.text.y = element_text(size = 14), \n",
    "          axis.title.y = element_text(size = 16),\n",
    "          legend.title=element_text(size=16), \n",
    "          legend.text=element_text(size=14)) +\n",
    "    scale_fill_discrete(name = \"K-mers\", labels = c(\"0 mismatches\", \"1 mismatch\", \"2 mismatches\", \"3 or more mismatches\")) + xlab(\"\") + ylab(\"log10(Count)\")\n",
    "\n",
    "\n"
   ]
  },
  {
   "cell_type": "code",
   "execution_count": null,
   "id": "ab9fc465-a384-4f9f-8d2f-ddde9e744b49",
   "metadata": {},
   "outputs": [],
   "source": [
    "str(res_long)"
   ]
  },
  {
   "cell_type": "code",
   "execution_count": null,
   "id": "b9b32f22-0a69-4cb3-b7ea-148f7d997e76",
   "metadata": {},
   "outputs": [],
   "source": [
    "res_long %>% filter(kmer %in% c(\"unmapped_kmers\", \"mapped_kmers\"))"
   ]
  },
  {
   "cell_type": "code",
   "execution_count": null,
   "id": "c3b9fa38-9885-4c27-b8e5-36f2a64f9e77",
   "metadata": {},
   "outputs": [],
   "source": [
    "all_kmers <- res_long %>% group_by(pt_id) %>% filter(kmer %in% c(\"mapped_kmers\", \"unmapped_kmers\")) %>% \n",
    "    summarize(all_kmers_n = sum(n))\n",
    "(all_kmers)"
   ]
  },
  {
   "cell_type": "code",
   "execution_count": null,
   "id": "ad859fec-36f4-47df-88a3-27955fae8921",
   "metadata": {},
   "outputs": [],
   "source": [
    "unmapped <- res_long %>% group_by(pt_id) %>% filter(kmer %in% c(\"unmapped_kmers\")) %>% rename(unmapped_kmers_n = n)\n",
    "head(unmapped)"
   ]
  },
  {
   "cell_type": "code",
   "execution_count": null,
   "id": "4125e0a6-a55c-4f7c-8546-46a4a8a2b0a2",
   "metadata": {},
   "outputs": [],
   "source": [
    "unmapped_ratio <- left_join(unmapped, all_kmers, by = \"pt_id\") \n",
    "unmapped_ratio <- unmapped_ratio %>% mutate(unmapped_ratio = unmapped_kmers_n/all_kmers_n) %>% arrange(desc(unmapped_ratio))\n",
    "unmapped_ratio"
   ]
  }
 ],
 "metadata": {
  "kernelspec": {
   "display_name": "R",
   "language": "R",
   "name": "ir"
  },
  "language_info": {
   "codemirror_mode": "r",
   "file_extension": ".r",
   "mimetype": "text/x-r-source",
   "name": "R",
   "pygments_lexer": "r",
   "version": "3.6.1"
  }
 },
 "nbformat": 4,
 "nbformat_minor": 5
}
