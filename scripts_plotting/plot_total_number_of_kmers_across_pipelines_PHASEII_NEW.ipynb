{
 "cells": [
  {
   "cell_type": "code",
   "execution_count": null,
   "id": "6e329441-8571-41a9-b59b-cc3d32f775c8",
   "metadata": {},
   "outputs": [],
   "source": [
    "library(tidyverse)\n",
    "library(RColorBrewer)\n",
    "library(ggh4x)"
   ]
  },
  {
   "cell_type": "code",
   "execution_count": null,
   "id": "0b6768eb-6b42-4f73-8f39-adab0c74fb5e",
   "metadata": {},
   "outputs": [],
   "source": [
    "paramspace <- read.csv(\"../data/metadata/paramspace_phaseII.csv\")\n",
    "paramspace <- paramspace %>% select(pt_id, output_path_unique_kmers)\n",
    "head(paramspace)\n",
    "dim(paramspace)"
   ]
  },
  {
   "cell_type": "code",
   "execution_count": null,
   "id": "9e590b62-9ff3-43b1-9ee4-54a50dce4868",
   "metadata": {},
   "outputs": [],
   "source": [
    "phase2ptex <- read.csv(\"../phase2_exclude3.csv\", header=FALSE)\n",
    "phase2ptex <- as.character(unlist(c(phase2ptex[1,])))\n",
    "\n",
    "paramspace <- paramspace %>% filter(!pt_id %in% phase2ptex)"
   ]
  },
  {
   "cell_type": "code",
   "execution_count": null,
   "id": "84bb23fb-3529-415f-b391-438b847f5171",
   "metadata": {},
   "outputs": [],
   "source": [
    "phaseIpt_R <- read.csv(\"../phaseI_pt_R.csv\", header=FALSE)\n",
    "phaseIpt_R <- as.character(unlist(c(phaseIpt_R[1,])))"
   ]
  },
  {
   "cell_type": "code",
   "execution_count": null,
   "id": "f56b023d-6ac9-4252-b2f9-60eb5a3e4d52",
   "metadata": {},
   "outputs": [],
   "source": [
    "processFile = function(filepath) {\n",
    "    con = file(filepath, \"r\")\n",
    "    while (TRUE) {\n",
    "        line = readLines(con, n = 1)\n",
    "        if ( length(line) == 0 || str_split(line, \":\")[[1]][1] == \"1 of 1 steps (100%) done\") {\n",
    "            break\n",
    "            }\n",
    "        if (str_split(line, \":\")[[1]][1] == \"   Total no. of reads                 \"){\n",
    "            reads = gsub(\" \", \"\", str_split(line, \":\")[[1]][2], fixed = TRUE)\n",
    "            }\n",
    "        if (str_split(line, \":\")[[1]][1] == \"   No. of unique counted k-mers       \"){\n",
    "            kmers = gsub(\" \", \"\", str_split(line, \":\")[[1]][2], fixed = TRUE)\n",
    "            }\n",
    "    }\n",
    "    res = c(reads, kmers)\n",
    "    close(con)\n",
    "    return(res) \n",
    "}"
   ]
  },
  {
   "cell_type": "code",
   "execution_count": null,
   "id": "186fa273-72b6-4d4b-ac16-49b0299b4a8a",
   "metadata": {},
   "outputs": [],
   "source": [
    "res_germline <- NULL\n",
    "logs = list.files('../logs/count_germline_phase_II/')\n",
    "\n",
    "for (row in 1:nrow(paramspace)){\n",
    "    patient = paramspace[row, \"pt_id\"]\n",
    "    folder = paramspace[row, \"output_path_unique_kmers\"]\n",
    "    \n",
    "    log = grep(patient, logs, value=TRUE)\n",
    "    res_germ_pt <- processFile(paste0('../logs/count_germline_phase_II/', log))\n",
    "    res_germ_pt_df <- tibble(pt_id = patient, \n",
    "                            tumor_folder = folder, \n",
    "                            germline_reads = as.numeric(res_germ_pt[1]),\n",
    "                            germline_kmers = as.numeric(res_germ_pt[2]))\n",
    "    res_germline <- bind_rows(res_germline, res_germ_pt_df)\n",
    "}\n",
    "head(res_germline)"
   ]
  },
  {
   "cell_type": "code",
   "execution_count": null,
   "id": "2843fd7e-3926-42ec-b6ab-ae9f1e36547d",
   "metadata": {},
   "outputs": [],
   "source": [
    "union_germline <- read.table(paste(\"../data/\", \"phase_II_patients/plotdata_germline_union_de_novo_and_k50_and_reference_filtered.txt\", sep = \"\"))\n",
    "union_kmers <- as.numeric(sum(union_germline$V2))\n",
    "res_germ_union <- tibble(pt_id = \"union_germline\", \n",
    "                            tumor_folder = NA, \n",
    "                            germline_reads = NA,\n",
    "                            germline_kmers = as.numeric(union_kmers))\n",
    "res_germline <- bind_rows(res_germline, res_germ_union)"
   ]
  },
  {
   "cell_type": "code",
   "execution_count": null,
   "id": "7782f8c8-5005-4d7a-9c9c-3f533c3b5130",
   "metadata": {},
   "outputs": [],
   "source": [
    "options(repr.plot.width=15, repr.plot.height=8)\n",
    "\n",
    "a <- ifelse(res_germline$pt_id %in% phaseIpt_R, \"red\", \"darkblue\")\n",
    "\n",
    "res_germline %>% filter(pt_id != \"union_germline\") %>% ggplot() +\n",
    "  geom_col(aes(x = pt_id, y = germline_reads), fill = \"grey\") +\n",
    "    ggtitle(\"Germline reads\") + theme_minimal() + \n",
    "    theme(axis.text.x = element_text(colour = \"darkblue\", \n",
    "                                    angle=60))"
   ]
  },
  {
   "cell_type": "code",
   "execution_count": null,
   "id": "7d253db8-57e1-4322-aa66-955a8fa40447",
   "metadata": {},
   "outputs": [],
   "source": []
  },
  {
   "cell_type": "code",
   "execution_count": null,
   "id": "ee4249eb-cda8-4daf-b016-7aad1a034872",
   "metadata": {},
   "outputs": [],
   "source": [
    "res_germline <- res_germline %>% arrange(germline_reads)\n",
    "write.csv(res_germline, \"res_phaseII_germline.csv\")"
   ]
  },
  {
   "cell_type": "code",
   "execution_count": null,
   "id": "283f5bae-f88f-4cc5-85e8-cbdc27d0fd02",
   "metadata": {},
   "outputs": [],
   "source": [
    "res_germline %>% filter(pt_id != \"union_germline\") %>% ggplot() +\n",
    "  geom_col(aes(x = pt_id, y = germline_kmers), fill = \"grey\") +\n",
    "    ggtitle(\"Germline kmers\") + theme_minimal()  + \n",
    "    theme(axis.text.x = element_text(colour = a))+\n",
    "    xlab(\"\") + ylab(\"Number of germline k-mers\")"
   ]
  },
  {
   "cell_type": "code",
   "execution_count": null,
   "id": "dba753fb-b6d3-47ad-8b01-11ef37a0d442",
   "metadata": {},
   "outputs": [],
   "source": [
    "res_germline_without <- res_germline %>% filter(pt_id != \"union_germline\") %>% filter(!pt_id %in% phase2ptex)\n",
    "res_germline_without <- res_germline_without %>% mutate(tick_l_y_end = ifelse(!pt_id %in% res_germline_without$pt_id[seq(1, length(res_germline_without$pt_id), 2)], -300000000, -150000000 ))\n",
    "res_germline_without <- res_germline_without %>% mutate(tick_l_y_end_tumor = ifelse(!pt_id %in% res_germline_without$pt_id[seq(1, length(res_germline_without$pt_id), 2)], -300000000, -150000000))\n",
    "head(res_germline_without)"
   ]
  },
  {
   "cell_type": "code",
   "execution_count": null,
   "id": "91adf7db-5dc3-421b-86e8-20f15ace176a",
   "metadata": {},
   "outputs": [],
   "source": [
    "levels_order <- rev(unique(res_germline_without$pt_id))"
   ]
  },
  {
   "cell_type": "code",
   "execution_count": null,
   "id": "c6312cff-e421-43e9-a672-9a7cbb59ca72",
   "metadata": {},
   "outputs": [],
   "source": [
    "levels_order <- as.data.frame(rev(sort(levels_order)))"
   ]
  },
  {
   "cell_type": "code",
   "execution_count": null,
   "id": "2bf7808c-f2ad-4d4d-9737-7535ed72c606",
   "metadata": {},
   "outputs": [],
   "source": [
    "colnames(levels_order) <- c(\"pt_id\")"
   ]
  },
  {
   "cell_type": "code",
   "execution_count": null,
   "id": "a047d3b8-5b8d-48cf-b16d-016ac735aaad",
   "metadata": {},
   "outputs": [],
   "source": [
    "res_germline_without <- res_germline %>% filter(pt_id != \"union_germline\") %>% filter(!pt_id %in% phase2ptex)\n",
    "res_germline_without <- left_join(levels_order, res_germline_without, by=\"pt_id\")\n",
    "res_germline_without <- res_germline_without %>% mutate(tick_l_y_end = ifelse(!pt_id %in% res_germline_without$pt_id[seq(1, length(res_germline_without$pt_id), 2)], -600000000, -1400000000 ))\n",
    "res_germline_without <- res_germline_without %>% mutate(tick_l_y_end_tumor = ifelse(!pt_id %in% res_germline_without$pt_id[seq(1, length(res_germline_without$pt_id), 2)], -300000000, -150000000))\n",
    "head(res_germline_without)"
   ]
  },
  {
   "cell_type": "code",
   "execution_count": null,
   "id": "5cb3595a-83c4-41d7-b76b-6d4274a45a13",
   "metadata": {},
   "outputs": [],
   "source": [
    "options(repr.plot.width=14, repr.plot.height=18)\n",
    "\n",
    "\n",
    "ggplot(res_germline_without, aes(x = pt_id, y = germline_kmers)) + geom_col(fill = \"darkgrey\") +\n",
    "    geom_linerange(data = res_germline_without, aes(x=pt_id, ymax=-0.1, ymin=tick_l_y_end), # The custom tickmarks\n",
    "                 size=0.8,\n",
    "                 inherit.aes = F) + \n",
    "    guides(y = guide_axis_manual(n.dodge = 2)) + \n",
    "    theme_minimal()  + \n",
    "    theme(text = element_text(size = 16),\n",
    "          axis.text.x = element_text(angle = 0, color = \"black\"))+\n",
    "    ylab(\"Number of germline k-mers\") + xlab(\"\") + \n",
    "    #scale_y_continuous(expand = c(0, 0), breaks = c(0, 1000000000, 20000000000, 30000000000)) + \n",
    "    coord_flip(clip='off', ylim = c(-0.4, NA)) "
   ]
  },
  {
   "cell_type": "code",
   "execution_count": null,
   "id": "f99f7324-1e7b-40b3-a597-4b23ae7c5c10",
   "metadata": {},
   "outputs": [],
   "source": []
  },
  {
   "cell_type": "code",
   "execution_count": null,
   "id": "73b6a403-771e-429f-b4f3-c9519b1fbb66",
   "metadata": {
    "tags": []
   },
   "outputs": [],
   "source": [
    "res_tumor_unique_tumor <- NULL\n",
    "\n",
    "logs_tumor = list.files('../logs/count_tumor_phase_II/')\n",
    "\n",
    "\n",
    "\n",
    "for (row in 1:nrow(paramspace)){\n",
    "    patient = paramspace[row, \"pt_id\"]\n",
    "    print(as.character(patient))\n",
    "    folder = paramspace[row, \"output_path_unique_kmers\"]\n",
    "    \n",
    "    \n",
    "    log_tumor = grep(patient, logs_tumor, value=TRUE)\n",
    "    reads_kmers_tumor <- processFile(paste0('../logs/count_tumor_phase_II/', log_tumor))\n",
    "    \n",
    "    unique_kmers_tumor <- read.table(paste(\"../data/phase_II_patients/\", patient, \"/\", folder, \"/final_pipeline_NEW/\", \"plotdata_unique_tumor_kmers_subs59_and_72_filtered.txt\", sep = \"\"))\n",
    "    tumor_kmers_tumor <- read.table(paste(\"../data/phase_II_patients/\", patient, \"/\", folder, \"/final_pipeline/\", \"plotdata_tumor_filtered.txt\", sep = \"\"))\n",
    "    tumor <- tibble(pt_id = patient, \n",
    "                        tumor_folder = folder, \n",
    "                        tumor_reads = as.numeric(reads_kmers_tumor[1]),\n",
    "                        tumor_kmers = as.numeric(sum(tumor_kmers_tumor$V2)),\n",
    "                        tumor_kmers_total_n = as.numeric(sum(as.numeric(tumor_kmers_tumor$V2) * as.numeric(tumor_kmers_tumor$V1))),\n",
    "                        unique_tumor_kmers = as.numeric(sum(unique_kmers_tumor$V2)), \n",
    "                        unique_tumor_kmers_total_n = as.numeric(sum(as.numeric(unique_kmers_tumor$V2) * as.numeric(unique_kmers_tumor$V1))), \n",
    "                        pipeline = \"final\")\n",
    "    #print(reads_kmers_ci1_cs1e9[1])\n",
    "    #print(sum(tumor_kmers_ci1_cs1e9$V2))\n",
    "    res_tumor_unique_tumor <- bind_rows(res_tumor_unique_tumor, tumor)\n",
    "    \n",
    "    \n",
    "   \n",
    "}"
   ]
  },
  {
   "cell_type": "code",
   "execution_count": null,
   "id": "4829af29-1cb6-4754-b02d-1d17488f517b",
   "metadata": {},
   "outputs": [],
   "source": [
    "res_tumor_unique_tumor$pipeline <- factor(res_tumor_unique_tumor$pipeline, levels = c(\"final\"))\n",
    "res_tumor_unique_tumor$pt_id <- as.character(res_tumor_unique_tumor$pt_id)\n",
    "res_tumor_unique_tumor <- res_tumor_unique_tumor %>% arrange(pt_id)\n",
    "head(res_tumor_unique_tumor)\n"
   ]
  },
  {
   "cell_type": "code",
   "execution_count": null,
   "id": "2d752003-a891-417b-b77b-7a5a75de78bd",
   "metadata": {},
   "outputs": [],
   "source": [
    "\n",
    "ggplot(data = res_tumor_unique_tumor) +\n",
    "  geom_col(aes(x = pt_id, y = tumor_kmers, fill = pipeline), position = \"dodge2\") "
   ]
  },
  {
   "cell_type": "code",
   "execution_count": null,
   "id": "9edaf0be-1adb-46b4-a566-8710b7bcb29d",
   "metadata": {},
   "outputs": [],
   "source": [
    "res_tumor_unique_tumor <- res_tumor_unique_tumor %>% mutate(tick_l_y_end = ifelse(!pt_id %in% res_tumor_unique_tumor$pt_id[seq(1, length(res_tumor_unique_tumor$pt_id), 2)], -330000000, -150000000))\n",
    "res_tumor_unique_tumor <- res_tumor_unique_tumor %>% mutate(tick_l_y_end_tumor = ifelse(!pt_id %in% res_tumor_unique_tumor$pt_id[seq(1, length(res_tumor_unique_tumor$pt_id), 2)], -150000000, -0.6))\n",
    "head(res_tumor_unique_tumor)"
   ]
  },
  {
   "cell_type": "code",
   "execution_count": null,
   "id": "df6672b1-0396-4df0-8bf4-ea8938701532",
   "metadata": {},
   "outputs": [],
   "source": [
    "options(repr.plot.width=14, repr.plot.height=18)\n",
    "\n",
    "ggplot(res_tumor_unique_tumor, aes(x = pt_id, y = tumor_kmers)) + geom_col(fill = \"darkgrey\") +\n",
    "    geom_linerange(data = res_tumor_unique_tumor, aes(x=pt_id, ymax=-0.1, ymin=tick_l_y_end), # The custom tickmarks\n",
    "                 size=0.8,\n",
    "                 inherit.aes = F) + \n",
    "    guides(y = guide_axis_manual(n.dodge = 2)) + \n",
    "    theme_minimal()  + \n",
    "    theme(text = element_text(size = 16),\n",
    "          axis.text.x = element_text(angle = 0, color = \"black\"))+\n",
    "    ylab(\"Number of tumor k-mers\") + xlab(\"\") + \n",
    "    #scale_y_continuous(expand = c(0, 0), breaks = c(0, 1000000000, 20000000000, 30000000000)) + \n",
    "    coord_flip(clip='off', ylim = c(-0.4, NA)) \n",
    "    \n"
   ]
  },
  {
   "cell_type": "code",
   "execution_count": null,
   "id": "7fefe4c1-2202-428c-92bf-5977404d7732",
   "metadata": {},
   "outputs": [],
   "source": [
    "res_tumor_unique_tumor <- res_tumor_unique_tumor %>% mutate(tick_l_y_end = ifelse(!pt_id %in% res_tumor_unique_tumor$pt_id[seq(1, length(res_tumor_unique_tumor$pt_id), 2)], -2.4, -1.35))\n",
    "res_tumor_unique_tumor <- res_tumor_unique_tumor %>% mutate(tick_l_y_end_tumor = ifelse(!pt_id %in% res_tumor_unique_tumor$pt_id[seq(1, length(res_tumor_unique_tumor$pt_id), 2)], -1000000, -0.6))\n",
    "head(res_tumor_unique_tumor)"
   ]
  },
  {
   "cell_type": "code",
   "execution_count": null,
   "id": "d180f033-dd21-4ea0-a957-9db112b61fa3",
   "metadata": {},
   "outputs": [],
   "source": [
    "options(repr.plot.width=14, repr.plot.height=18)\n",
    "\n",
    "ggplot(res_tumor_unique_tumor, aes(x = pt_id, y = unique_tumor_kmers)) + geom_col(fill = \"darkgrey\") +\n",
    "    geom_linerange(data = res_tumor_unique_tumor, aes(x=pt_id, ymax=-0.1, ymin=tick_l_y_end), # The custom tickmarks\n",
    "                 size=0.8,\n",
    "                 inherit.aes = F) + \n",
    "    guides(y = guide_axis_manual(n.dodge = 2)) + \n",
    "    theme_minimal()  + \n",
    "    theme(text = element_text(size = 16),\n",
    "          axis.text.x = element_text(angle = 0, color = \"black\"))+\n",
    "    ylab(\"log(Number of unique tumor k-mers)\") + xlab(\"\") + \n",
    "    #scale_y_continuous(expand = c(0, 0), breaks = c(0, 1000000000, 20000000000, 30000000000)) + \n",
    "    coord_flip(clip='off', ylim = c(-0.4, NA)) "
   ]
  },
  {
   "cell_type": "markdown",
   "id": "5ca56dec-de93-490e-968f-aeb3ee06bbda",
   "metadata": {},
   "source": [
    "# cfDNA "
   ]
  },
  {
   "cell_type": "code",
   "execution_count": null,
   "id": "a29c9e6f-1729-44d3-a0c9-b11ae5c249ad",
   "metadata": {},
   "outputs": [],
   "source": [
    "paramspace_cfDNA <- read.csv(\"../data/metadata/paramspace_cfDNA_phaseII_missing_removed.csv\")\n",
    "paramspace_cfDNA <- paramspace_cfDNA %>% select(pt_id, cfDNA_folder, unique_kmers_folder)\n",
    "head(paramspace_cfDNA)\n",
    "dim(paramspace_cfDNA)"
   ]
  },
  {
   "cell_type": "code",
   "execution_count": null,
   "id": "ae1effca-2998-4204-836a-cea388bedce7",
   "metadata": {},
   "outputs": [],
   "source": [
    "paramspace_cfDNA <- paramspace_cfDNA %>% \n",
    "  mutate(tmp_chunks = stringr::str_split(cfDNA_folder, stringr::fixed(\"_\"),  n = 3)) %>%\n",
    "  mutate(sampleID = map_chr(tmp_chunks, 1),\n",
    "         sub_value = map_chr(tmp_chunks, 2), \n",
    "         sub_val = map_chr(tmp_chunks, 3)) %>%\n",
    "  select(-c(tmp_chunks, sub_value, sub_val))\n",
    "\n",
    "head(paramspace_cfDNA)\n",
    "dim(paramspace_cfDNA)"
   ]
  },
  {
   "cell_type": "code",
   "execution_count": null,
   "id": "95194d6f-f1c9-4836-a363-96627675b97e",
   "metadata": {},
   "outputs": [],
   "source": [
    "sample_timepoint <- read.csv(\"../data/metadata/clin_data/sample_timepoint_formatted.csv\")"
   ]
  },
  {
   "cell_type": "code",
   "execution_count": null,
   "id": "4cc71740-a941-4108-9753-d8ceb557cab8",
   "metadata": {},
   "outputs": [],
   "source": [
    "head(sample_timepoint)\n",
    "sample_timepoint_days <- sample_timepoint %>% filter(phase == \"phaseII\")\n",
    "sample_timepoint_days <- sample_timepoint_days %>% select(sampleID, sample_timepoint_days_since_OP)\n",
    "sample_timepoint_days %>% filter(is.na(sample_timepoint_days_since_OP))\n",
    "dim(sample_timepoint_days)\n",
    "head(sample_timepoint_days)"
   ]
  },
  {
   "cell_type": "code",
   "execution_count": null,
   "id": "a40beabc-86ad-4a6d-9045-ebbd01600260",
   "metadata": {},
   "outputs": [],
   "source": [
    "paramspace_cfDNA$sampleID <- as.character(paramspace_cfDNA$sampleID)\n",
    "paramspace_cfDNA <- left_join(paramspace_cfDNA, sample_timepoint_days, by = c(\"sampleID\"))\n",
    "head(paramspace_cfDNA)\n",
    "dim(paramspace_cfDNA)"
   ]
  },
  {
   "cell_type": "code",
   "execution_count": null,
   "id": "7da67d61-29b5-4335-aecb-3b6b36125217",
   "metadata": {},
   "outputs": [],
   "source": [
    "res_cfDNA <- NULL\n",
    "\n",
    "logs_cfDNA = list.files('../logs/count_cfDNA_kmers_filtered_cfDNA/')\n",
    "\n",
    "\n",
    "for (row in 1:nrow(paramspace_cfDNA)){\n",
    "    patient = paramspace_cfDNA[row, \"pt_id\"]\n",
    "    #print(as.character(patient))\n",
    "    cfDNA_folder = paramspace_cfDNA[row, \"cfDNA_folder\"]\n",
    "    folder = paramspace_cfDNA[row, \"unique_kmers_folder\"]\n",
    "    \n",
    "    logs_pt = grep(patient, logs_cfDNA, value=TRUE)\n",
    "    logs_pt_cfDNA_sample = grep(cfDNA_folder, logs_pt, value=TRUE)\n",
    "    if (length(logs_pt_cfDNA_sample) == 0){\n",
    "        print(cfDNA_folder)\n",
    "        reads_kmers_cfDNA = c(NA, NA)\n",
    "    } else {\n",
    "        reads_kmers_cfDNA <- processFile(paste0('../logs/count_cfDNA_kmers_filtered_cfDNA/', logs_pt_cfDNA_sample))\n",
    "    }\n",
    "    \n",
    "    #print(reads_kmers_cfDNA)\n",
    "    \n",
    "    cfDNA_kmers_df <- read.table(paste(\"../data/phase_II_patients/\", patient, \"/\", cfDNA_folder, \"/final_pipeline/\", \"plotdata_cfDNA_filtered.txt\", sep = \"\"))\n",
    "    #cfDNA_kmers_filtered_df <- read.table(paste(\"../data/\", patient, \"/\", cfDNA_folder, \"/all_germline_filtered_bams_tumor_ci5_cs1e9_filtered_cfDNA/\", \"plotdata_cfDNA_kmers_filtered.txt\", sep = \"\"))\n",
    "    cfDNA_kmers_df_ci2 = cfDNA_kmers_df[-c(1), ]\n",
    "    cfDNA_kmers_df$V2 <- as.numeric(cfDNA_kmers_df$V2)\n",
    "    cfDNA_kmers_df$V1 <- as.numeric(cfDNA_kmers_df$V1)\n",
    "    \n",
    "    #cfDNA_kmers_filtered_df$V2 <- as.numeric(cfDNA_kmers_filtered_df$V2)\n",
    "    #cfDNA_kmers_filtered_df$V1 <- as.numeric(cfDNA_kmers_filtered_df$V1)\n",
    "    \n",
    "    cfDNA_res_sample <- tibble(pt_id = patient, \n",
    "                        tumor_folder = folder, \n",
    "                        cfDNA_folder = cfDNA_folder,\n",
    "                        cfDNA_reads = as.numeric(reads_kmers_cfDNA[1]),\n",
    "                        cfDNA_kmers = as.numeric(sum(cfDNA_kmers_df$V2)),\n",
    "                        cfDNA_kmers_ci2 = as.numeric(sum(cfDNA_kmers_df_ci2$V2)),\n",
    "                        cfDNA_kmers_total_n = as.numeric(sum(cfDNA_kmers_df$V2 * cfDNA_kmers_df$V1)),\n",
    "                        #cfDNA_kmers_filtered = as.numeric(sum(cfDNA_kmers_filtered_df$V2)),\n",
    "                        #cfDNA_kmers_filtered_total_n = as.numeric(sum(cfDNA_kmers_filtered_df$V2 * cfDNA_kmers_filtered_df$V1)),\n",
    "                        sample_timepoint_days_since_OP = paramspace_cfDNA[row, \"sample_timepoint_days_since_OP\"],\n",
    "                        pipeline = \"final\")\n",
    "    #print(reads_kmers_cfDNA[2])\n",
    "    #print(sum(cfDNA_kmers_df$V2))\n",
    "    res_cfDNA <- bind_rows(res_cfDNA, cfDNA_res_sample)\n",
    "    }"
   ]
  },
  {
   "cell_type": "code",
   "execution_count": null,
   "id": "1ff76aca-15b4-4d86-8452-ad427653ffc0",
   "metadata": {},
   "outputs": [],
   "source": [
    "res_cfDNA_final <- NULL\n",
    "color_palette_size <- 0\n",
    "for (pt in unique(res_cfDNA$pt_id)){\n",
    "    res_cfDNA_pt <- res_cfDNA %>% filter(pt_id == pt)\n",
    "    res_cfDNA_pt$sample_timepoint_days_since_OP <- as.numeric(res_cfDNA_pt$sample_timepoint_days_since_OP)\n",
    "    res_cfDNA_pt <- res_cfDNA_pt %>% arrange(sample_timepoint_days_since_OP) %>% mutate(samples_order = seq(1, nrow(res_cfDNA_pt)))\n",
    "    if (nrow(res_cfDNA_pt) > color_palette_size){\n",
    "        color_palette_size <- nrow(res_cfDNA_pt)\n",
    "    }\n",
    "    res_cfDNA_final <- rbind(res_cfDNA_final, res_cfDNA_pt)\n",
    "}\n",
    "head(res_cfDNA_final)"
   ]
  },
  {
   "cell_type": "code",
   "execution_count": null,
   "id": "2b1970cd-0b05-4f02-abb3-166b7c469533",
   "metadata": {},
   "outputs": [],
   "source": [
    "res_cfDNA_final <- res_cfDNA_final %>% filter(!pt_id %in% phase2ptex)"
   ]
  },
  {
   "cell_type": "code",
   "execution_count": null,
   "id": "f1bdb0e3-cbd7-47b1-8035-2298a23eb4cb",
   "metadata": {},
   "outputs": [],
   "source": [
    "nrow(res_cfDNA_final)"
   ]
  },
  {
   "cell_type": "code",
   "execution_count": null,
   "id": "c40822e1-be43-4a31-8002-4002ee236288",
   "metadata": {},
   "outputs": [],
   "source": []
  },
  {
   "cell_type": "code",
   "execution_count": null,
   "id": "85323749-daf6-40f7-a61d-bb9009e0ba9d",
   "metadata": {},
   "outputs": [],
   "source": [
    "res_cfDNA_final_pt <- as.data.frame(unique(res_cfDNA_final$pt_id))\n",
    "res_cfDNA_final_pt <- res_cfDNA_final_pt %>% mutate(plot_group = c(1, 1, 1, 1, 1, 1, 1, 1, 1, 1, 1, 1, 1, 1,\n",
    "                                                                   2, 2, 2, 2, 2, 2, 2, 2, 2, 2, 2, 2, 2, 2, \n",
    "                                                                   3, 3, 3, 3, 3, 3, 3, 3, 3, 3, 3, 3, 3, 3, \n",
    "                                                                   4, 4, 4, 4, 4, 4, 4, 4, 4, 4, 4, 4, 4, 4,\n",
    "                                                                   5, 5, 5, 5, 5, 5, 5, 5, 5, 5, 5, 5, 5, 5, \n",
    "                                                                   6, 6, 6, 6, 6, 6, 6, 6, 6, 6, 6, 6, 6, 6,  \n",
    "                                                                   7, 7, 7, 7, 7, 7, 7, 7, 7, 7, 7, 7, 7,   \n",
    "                                                                   8, 8, 8, 8, 8, 8, 8, 8, 8, 8, 8, 8, 8, \n",
    "                                                                   9, 9, 9, 9, 9, 9, 9, 9, 9, 9, 9, 9, 9\n",
    "                                                                   ))\n",
    "                                                                   \n",
    "                                                                  \n",
    "colnames(res_cfDNA_final_pt) <- c(\"pt_id\", \"plot_group\")     \n",
    "res_cfDNA_final <- left_join(res_cfDNA_final_pt, res_cfDNA_final, by=\"pt_id\")"
   ]
  },
  {
   "cell_type": "code",
   "execution_count": null,
   "id": "90a56d2b-2cdc-4ee8-afcc-7c90bbf7f257",
   "metadata": {},
   "outputs": [],
   "source": [
    "                                                         "
   ]
  },
  {
   "cell_type": "code",
   "execution_count": null,
   "id": "a5b0f774-1628-4e9f-8c96-bd700ae73c6d",
   "metadata": {},
   "outputs": [],
   "source": []
  },
  {
   "cell_type": "code",
   "execution_count": null,
   "id": "244162b9-0b63-46b4-bedf-4ab8e463a040",
   "metadata": {},
   "outputs": [],
   "source": [
    "head(res_cfDNA_final)\n",
    "tail(res_cfDNA_final)"
   ]
  },
  {
   "cell_type": "code",
   "execution_count": null,
   "id": "70800d49-af32-49e4-a3fb-82ba767517d2",
   "metadata": {},
   "outputs": [],
   "source": [
    "getPalette = colorRampPalette(brewer.pal(9, \"Blues\"))\n",
    "res_cfDNA_final$samples_order <- as.factor(res_cfDNA_final$samples_order)"
   ]
  },
  {
   "cell_type": "code",
   "execution_count": null,
   "id": "5e0de2d0-db77-47c6-ae6e-fd3fdb585313",
   "metadata": {},
   "outputs": [],
   "source": [
    "colsi = colorRampPalette(brewer.pal(9, \"Blues\"))(17)[4:17]\n",
    "res_cfDNA_final$samples_order <- as.factor(res_cfDNA_final$samples_order)"
   ]
  },
  {
   "cell_type": "code",
   "execution_count": null,
   "id": "3855215c-987f-4f20-8735-8de75652cfad",
   "metadata": {},
   "outputs": [],
   "source": [
    "options(repr.plot.width=15, repr.plot.height=20)\n",
    "ggplot(res_cfDNA_final) +\n",
    "    geom_col(aes(x = pt_id, y = cfDNA_reads, fill = samples_order), position = \"dodge2\") +\n",
    "    #ggtitle(\"cfDNA reads\") + \n",
    "    theme_minimal() + \n",
    "    scale_fill_manual(values = c(\"firebrick\", colsi)) + \n",
    "    theme(axis.text.x = element_text(colour = a))+\n",
    "    facet_wrap(vars(plot_group), scales=\"free\", ncol = 1)+xlab(\"\")+ ylab(\"Number of cfDNA reads\")+\n",
    "     theme(text = element_text(size = 15), strip.text.x = element_text(size=0))+labs(fill=\"Order of samples\")"
   ]
  },
  {
   "cell_type": "code",
   "execution_count": null,
   "id": "7c68644c-d701-41c9-8b88-25f35c9dcff2",
   "metadata": {},
   "outputs": [],
   "source": [
    "options(repr.plot.width=15, repr.plot.height=20)\n",
    "ggplot(res_cfDNA_final) +\n",
    "    geom_col(aes(x = pt_id, y = cfDNA_kmers, fill = samples_order), position = \"dodge2\") +\n",
    "    #ggtitle(\"cfDNA reads\") + \n",
    "    theme_minimal() + \n",
    "    scale_fill_manual(values = c(\"firebrick\", colsi)) + \n",
    "    theme(axis.text.x = element_text(colour = a))+\n",
    "    facet_wrap(vars(plot_group), scales=\"free_x\", ncol = 1)+xlab(\"\")+ ylab(\"Number of cfDNA k-mers\")+\n",
    "     theme(text = element_text(size = 15), strip.text.x = element_text(size=0))+labs(fill=\"Order of samples\")"
   ]
  },
  {
   "cell_type": "markdown",
   "id": "d105bc3d-dbde-4c68-b5cc-22f57c0613f2",
   "metadata": {},
   "source": [
    "# Intersections"
   ]
  },
  {
   "cell_type": "code",
   "execution_count": null,
   "id": "34df0dd7-5784-4d72-8116-f890f910c330",
   "metadata": {
    "tags": []
   },
   "outputs": [],
   "source": [
    "res_intersection <- NULL\n",
    "\n",
    "for (row in 1:nrow(paramspace_cfDNA)){\n",
    "    patient = paramspace_cfDNA[row, \"pt_id\"]\n",
    "   # print(as.character(patient))\n",
    "    cfDNA_folder = paramspace_cfDNA[row, \"cfDNA_folder\"]\n",
    "    folder = paramspace_cfDNA[row, \"unique_kmers_folder\"]\n",
    "    \n",
    "    intersection_kmers_ci1_cs1e9 <- read.table(paste(\"../data/phase_II_patients/\", patient, \"/\", cfDNA_folder, \"/final_pipeline_NEW/\", \"plotdata_intersection_filtered.txt\", sep = \"\"))\n",
    "    intersection_ci1_cs1e9 <- tibble(pt_id = patient, \n",
    "                                    tumor_folder = folder, \n",
    "                                    cfDNA_folder = cfDNA_folder,\n",
    "                                    intersection_kmers = as.numeric(sum(intersection_kmers_ci1_cs1e9$V2)),\n",
    "                                    intersection_kmers_total_n = as.numeric(sum(intersection_kmers_ci1_cs1e9$V2 * intersection_kmers_ci1_cs1e9$V1)),\n",
    "                                    sample_timepoint_days_since_OP = paramspace_cfDNA[row, \"sample_timepoint_days_since_OP\"],\n",
    "                                    pipeline = \"final\")\n",
    "    res_intersection <- bind_rows(res_intersection, intersection_ci1_cs1e9)\n",
    "    \n",
    "    }\n",
    "    \n",
    "   "
   ]
  },
  {
   "cell_type": "code",
   "execution_count": null,
   "id": "005e5b79-a8a8-48fa-8861-ed453f59191b",
   "metadata": {},
   "outputs": [],
   "source": [
    "res_intersection_final <- NULL # \n",
    "color_palette_size <- 0\n",
    "for (pt in unique(res_intersection$pt_id)){\n",
    "    res_intersection_pt <- res_intersection %>% filter(pt_id == pt)\n",
    "    for (pipeline_C in c(\"final\")){\n",
    "        res_intersection_pt_pipeline <- res_intersection_pt %>% filter(pipeline == pipeline_C)\n",
    "        res_intersection_pt_pipeline$sample_timepoint_days_since_OP <- as.numeric(res_intersection_pt_pipeline$sample_timepoint_days_since_OP)\n",
    "        res_intersection_pt_pipeline <- res_intersection_pt_pipeline %>% arrange(sample_timepoint_days_since_OP) %>% mutate(samples_order = seq(1, nrow(res_intersection_pt_pipeline)))\n",
    "        if (nrow(res_intersection_pt_pipeline) > color_palette_size){\n",
    "            color_palette_size <- nrow(res_intersection_pt_pipeline)\n",
    "        }\n",
    "        res_intersection_final <- rbind(res_intersection_final, res_intersection_pt_pipeline)\n",
    "        }\n",
    "}\n",
    "\n"
   ]
  },
  {
   "cell_type": "code",
   "execution_count": null,
   "id": "1c5b723a-f25f-47a5-9552-6c157f825e1c",
   "metadata": {},
   "outputs": [],
   "source": [
    "res_intersection_final$samples_order <- as.factor(res_intersection_final$samples_order)\n",
    "res_intersection_final$pipeline <- factor(res_intersection_final$pipeline, levels = c(\"final\"))\n",
    "head(res_intersection_final)"
   ]
  },
  {
   "cell_type": "code",
   "execution_count": null,
   "id": "7d7ba43e-6c7d-4621-8229-17228a129e76",
   "metadata": {},
   "outputs": [],
   "source": [
    "res_intersection_final <- res_intersection_final %>% filter(!pt_id %in% phase2ptex)"
   ]
  },
  {
   "cell_type": "code",
   "execution_count": null,
   "id": "3998a6ba-d041-4a8f-b3b3-56aecb5090a1",
   "metadata": {},
   "outputs": [],
   "source": [
    "res_intersection_final_pt <- as.data.frame(unique(res_intersection_final$pt_id))\n",
    "res_intersection_final_pt <- res_intersection_final_pt %>% mutate(plot_group = c(1, 1, 1, 1, 1, 1, 1, 1, 1, 1, 1, 1, 1, 1,\n",
    "                                                                   2, 2, 2, 2, 2, 2, 2, 2, 2, 2, 2, 2, 2, 2, \n",
    "                                                                   3, 3, 3, 3, 3, 3, 3, 3, 3, 3, 3, 3, 3, 3, \n",
    "                                                                   4, 4, 4, 4, 4, 4, 4, 4, 4, 4, 4, 4, 4, 4, \n",
    "                                                                   5, 5, 5, 5, 5, 5, 5, 5, 5, 5, 5, 5, 5, 5, \n",
    "                                                                   6, 6, 6, 6, 6, 6, 6, 6, 6, 6, 6, 6, 6, 6,  \n",
    "                                                                   7, 7, 7, 7, 7, 7, 7, 7, 7, 7, 7, 7, 7,   \n",
    "                                                                   8, 8, 8, 8, 8, 8, 8, 8, 8, 8, 8, 8, 8,\n",
    "                                                                   9, 9, 9, 9, 9, 9, 9, 9, 9, 9, 9, 9, 9\n",
    "                                                                   ))\n",
    "                                                                   \n",
    "                                                                  \n",
    "colnames(res_intersection_final_pt) <- c(\"pt_id\", \"plot_group\")     \n",
    "res_intersection_final <- left_join(res_intersection_final_pt, res_intersection_final, by=\"pt_id\")"
   ]
  },
  {
   "cell_type": "code",
   "execution_count": null,
   "id": "36435cff-9151-4816-9a9a-4e9df7ed01bf",
   "metadata": {},
   "outputs": [],
   "source": [
    "colsi = colorRampPalette(brewer.pal(9, \"Blues\"))(17)[4:17]\n",
    "res_intersection_final$samples_order <- as.factor(res_intersection_final$samples_order)"
   ]
  },
  {
   "cell_type": "code",
   "execution_count": null,
   "id": "6f00e4b2-bfd3-4a4b-aa6f-953c1b5f24a2",
   "metadata": {},
   "outputs": [],
   "source": []
  },
  {
   "cell_type": "code",
   "execution_count": null,
   "id": "b8c6c369-87f3-4e28-8b83-4d94065049ca",
   "metadata": {},
   "outputs": [],
   "source": [
    "options(repr.plot.width=15, repr.plot.height=20)\n",
    "ggplot(res_intersection_final) +\n",
    "    geom_col(aes(x = pt_id, y = log(intersection_kmers), fill = samples_order), position = \"dodge2\") +\n",
    "    #ggtitle(\"cfDNA reads\") + \n",
    "    theme_minimal() + \n",
    "    scale_fill_manual(values = c(\"firebrick\", colsi)) + \n",
    "    #theme(axis.text.x = element_text(colour = a))+\n",
    "    facet_wrap(vars(plot_group), scales=\"free_x\", ncol = 1)+\n",
    "    xlab(\"\")+ ylab(\"Number of ctDNA k-mers\")+\n",
    "    theme(text = element_text(size = 15), strip.text.x = element_text(size=0))+labs(fill=\"Order of samples\")"
   ]
  },
  {
   "cell_type": "code",
   "execution_count": null,
   "id": "a8e6119d-9ee1-475d-85f3-af925489f39b",
   "metadata": {},
   "outputs": [],
   "source": []
  },
  {
   "cell_type": "code",
   "execution_count": null,
   "id": "f68c510b-4a43-4309-a140-d47f1a32950f",
   "metadata": {},
   "outputs": [],
   "source": [
    "denovo_file <- read.table(\"../data/phase_II_patients/creating_union_germline_de_novo/plotdata_germline_filtered.txt\")"
   ]
  },
  {
   "cell_type": "code",
   "execution_count": null,
   "id": "d4a27236-a52f-44ff-af97-371736ce5d70",
   "metadata": {},
   "outputs": [],
   "source": [
    "head(denovo_file)"
   ]
  },
  {
   "cell_type": "code",
   "execution_count": null,
   "id": "3e14af9b-0695-43c3-bdfd-7c7a98798c5a",
   "metadata": {},
   "outputs": [],
   "source": [
    "de_novo_sum <- sum(denovo_file$V2)\n",
    "de_novo_sum"
   ]
  },
  {
   "cell_type": "code",
   "execution_count": null,
   "id": "82dee54e-a1f5-4185-a870-20c357a27ede",
   "metadata": {},
   "outputs": [],
   "source": []
  }
 ],
 "metadata": {
  "kernelspec": {
   "display_name": "R",
   "language": "R",
   "name": "ir"
  },
  "language_info": {
   "codemirror_mode": "r",
   "file_extension": ".r",
   "mimetype": "text/x-r-source",
   "name": "R",
   "pygments_lexer": "r",
   "version": "3.6.1"
  }
 },
 "nbformat": 4,
 "nbformat_minor": 5
}
