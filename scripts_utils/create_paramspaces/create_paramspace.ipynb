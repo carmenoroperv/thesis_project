{
 "cells": [
  {
   "cell_type": "code",
   "execution_count": null,
   "id": "b8a8a4b7-9bc2-4553-9ac3-6554ee99a716",
   "metadata": {},
   "outputs": [],
   "source": [
    "import os\n",
    "import pandas as pd"
   ]
  },
  {
   "cell_type": "code",
   "execution_count": null,
   "id": "e0d88e76-5939-4c2d-b72c-3d1f78420f7f",
   "metadata": {},
   "outputs": [],
   "source": [
    "# input parameters\n",
    "\n",
    "# insert here the phase (I or II) you want to create the paramspace for\n",
    "target_phase = \"phaseII\""
   ]
  },
  {
   "cell_type": "code",
   "execution_count": null,
   "id": "e34cfb88-1f7f-496c-8714-b3f29b4cb5bd",
   "metadata": {},
   "outputs": [],
   "source": [
    "clin_data = pd.read_csv(\"../../data/metadata/clin_data/clinical_data.csv\")\n",
    "clin_data.head()\n",
    "\n",
    "mask = clin_data.C2i_phase == target_phase\n",
    "clin_data_phase = clin_data[mask]\n",
    "clin_data_phase.head()\n",
    "\n",
    "samples_pts = [\"C0\" + str(sample) for sample in clin_data_phase.biobankID.tolist()]\n",
    "print(samples_pts)\n",
    "print(f\"Number of patients in {target_phase}: {len(samples_pts)}.\")"
   ]
  },
  {
   "cell_type": "code",
   "execution_count": null,
   "id": "553ef60d-d6ad-4925-88af-9606e8ab90fa",
   "metadata": {
    "tags": []
   },
   "outputs": [],
   "source": [
    "paramspace = pd.DataFrame({})\n",
    "\n",
    "for pt in samples_pts:\n",
    "    folders = os.listdir(\"../../../../DerivedData/main_data/\" + str(pt))\n",
    "    cfDNA_samples = []\n",
    "    print(folders)\n",
    "    for folder in folders:\n",
    "        if str(folder) in [\".DS_Store\", \"._.DS_Store\"]:\n",
    "            continue\n",
    "        files = os.listdir(\"../../../../DerivedData/main_data/\" + str(pt) + \"/\" + str(folder))\n",
    "        print(files)        \n",
    "        for file in files:\n",
    "            file_suf = file.split(\".\")[-1]\n",
    "            print(file_suf)\n",
    "            if file_suf == \"bam\":     \n",
    "                dna_type = file.split(\"_\")[1].split(\".\")[0]\n",
    "                print(dna_type)\n",
    "                if dna_type == \"buffycoat\":\n",
    "                    germline = file\n",
    "                    output_folder = folder\n",
    "                elif dna_type == \"cfdna\":\n",
    "                    cfDNA_samples.append(folder + \"/\" + file)\n",
    "                else: \n",
    "                    tumor = file\n",
    "            \n",
    "    add = {'pt_id': pt, \n",
    "           'sample_paths': pt + \"/\" + output_folder, \n",
    "           'germline_file': germline,\n",
    "           'germline_bam_path': \"../../DerivedData/main_data/\" + pt + \"/\" + output_folder + \"/\" + germline,\n",
    "           'tumor_file': tumor,\n",
    "           'tumor_bam_path': \"../../DerivedData/main_data/\" + pt + \"/\" + output_folder + \"/\" + tumor,\n",
    "           'cfDNA_samples': cfDNA_samples,\n",
    "           'output_path_unique_kmers': output_folder\n",
    "                  }\n",
    "    paramspace = paramspace.append(add, ignore_index = True)\n",
    "        \n",
    "    \n",
    "paramspace = paramspace.sort_values(by=[\"pt_id\"])\n",
    "paramspace"
   ]
  },
  {
   "cell_type": "code",
   "execution_count": null,
   "id": "aba58ff0-4b69-49a0-8e98-c1ed61409cdf",
   "metadata": {},
   "outputs": [],
   "source": [
    "paramspace.to_csv(f\"../../data/metadata/paramspace_{target_phase}.csv\", index=False)"
   ]
  },
  {
   "cell_type": "code",
   "execution_count": null,
   "id": "a528bdf3-109f-4e04-997d-0495bbb2106c",
   "metadata": {},
   "outputs": [],
   "source": []
  }
 ],
 "metadata": {
  "kernelspec": {
   "display_name": "Python 3 (ipykernel)",
   "language": "python",
   "name": "python3"
  },
  "language_info": {
   "codemirror_mode": {
    "name": "ipython",
    "version": 3
   },
   "file_extension": ".py",
   "mimetype": "text/x-python",
   "name": "python",
   "nbconvert_exporter": "python",
   "pygments_lexer": "ipython3",
   "version": "3.9.6"
  }
 },
 "nbformat": 4,
 "nbformat_minor": 5
}
