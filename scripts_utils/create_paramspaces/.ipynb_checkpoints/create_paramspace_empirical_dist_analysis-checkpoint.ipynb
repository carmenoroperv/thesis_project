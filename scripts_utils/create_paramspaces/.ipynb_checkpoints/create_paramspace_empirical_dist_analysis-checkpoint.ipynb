{
 "cells": [
  {
   "cell_type": "code",
   "execution_count": null,
   "id": "f9401668-94b0-4bd7-8e6f-404662061f3d",
   "metadata": {},
   "outputs": [],
   "source": [
    "import os\n",
    "import pandas as pd"
   ]
  },
  {
   "cell_type": "code",
   "execution_count": null,
   "id": "116dc803-d683-44b5-a906-d3b0391b192a",
   "metadata": {},
   "outputs": [],
   "source": [
    "clin_data = pd.read_csv(\"../../data/metadata/clin_data/clinical_data_formatted.csv\")\n",
    "clin_data.head()\n",
    "\n",
    "mask = clin_data.C2i_phase == \"phaseI\"\n",
    "clin_data_phase1 = clin_data[mask]\n",
    "clin_data_phase1.head()\n",
    "\n",
    "samples_pts = [str(sample) for sample in clin_data_phase1.patient_id.tolist()]\n",
    "samples_pts"
   ]
  },
  {
   "cell_type": "code",
   "execution_count": null,
   "id": "28a450e0-4526-4711-a0ad-45f0dd804dde",
   "metadata": {},
   "outputs": [],
   "source": [
    "paramspace = pd.DataFrame({})\n",
    "\n",
    "def check(x):\n",
    "    if \"ffpe\" in x:\n",
    "        return True\n",
    "    elif \"frfr\" in x: \n",
    "        return True\n",
    "    else:\n",
    "        return False\n",
    "\n",
    "for pt in samples_pts:\n",
    "    folders = os.listdir(\"../../../../DerivedData/main_data/\" + str(pt))\n",
    "    unique_kmers_folder =  [x for x in folders if check(x)]\n",
    "    unique_kmers_folder = unique_kmers_folder[0]\n",
    "    \n",
    "    other_patients = [x for x in samples_pts if x != pt]\n",
    "    \n",
    "    for other_pt in other_patients: \n",
    "        folders_other = os.listdir(\"../../../../DerivedData/main_data/\" + str(other_pt))\n",
    "        \n",
    "        unique_kmers_folder_other_pt =  [x for x in folders_other if check(x)][0]\n",
    "        cfDNA_folders = [x for x in folders_other if x != unique_kmers_folder_other_pt]\n",
    "        \n",
    "        for cfDNA_folder in cfDNA_folders: \n",
    "            add = {\n",
    "                    \"patient_id\": pt, \n",
    "                    \"unique_tumor_kmers_folder\": unique_kmers_folder,\n",
    "                    \"other_patient_id\": other_pt, \n",
    "                    \"other_patient_cfDNA_folder\": cfDNA_folder\n",
    "                  }\n",
    "            paramspace = paramspace.append(add, ignore_index = True)"
   ]
  },
  {
   "cell_type": "code",
   "execution_count": null,
   "id": "31a7d461-ae3d-45bb-a541-aee0a5a4cf01",
   "metadata": {},
   "outputs": [],
   "source": [
    "paramspace"
   ]
  },
  {
   "cell_type": "code",
   "execution_count": null,
   "id": "ebfa5a3c-6fb2-4317-a8ee-7f962a5722f3",
   "metadata": {},
   "outputs": [],
   "source": [
    "paramspace.to_csv(\"../../data/metadata/paramspace_empirical_dist_analysis_phaseI.csv\")"
   ]
  },
  {
   "cell_type": "code",
   "execution_count": null,
   "id": "b2b954ea-6c32-4d16-919d-7d1c61562b6d",
   "metadata": {},
   "outputs": [],
   "source": []
  }
 ],
 "metadata": {
  "kernelspec": {
   "display_name": "Python 3 (ipykernel)",
   "language": "python",
   "name": "python3"
  },
  "language_info": {
   "codemirror_mode": {
    "name": "ipython",
    "version": 3
   },
   "file_extension": ".py",
   "mimetype": "text/x-python",
   "name": "python",
   "nbconvert_exporter": "python",
   "pygments_lexer": "ipython3",
   "version": "3.9.6"
  }
 },
 "nbformat": 4,
 "nbformat_minor": 5
}
