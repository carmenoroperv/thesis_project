{
 "cells": [
  {
   "cell_type": "code",
   "execution_count": null,
   "id": "efbdd7fc-dbca-4d1c-a948-d1966849037b",
   "metadata": {},
   "outputs": [],
   "source": [
    "import os\n",
    "import pandas as pd"
   ]
  },
  {
   "cell_type": "code",
   "execution_count": null,
   "id": "3f75d0b9-5aab-426f-9074-11b8cb2b39ea",
   "metadata": {},
   "outputs": [],
   "source": [
    "# input parameters\n",
    "\n",
    "# insert here the phase (I or II) you want to create the paramspace for\n",
    "target_phase = \"phaseII\""
   ]
  },
  {
   "cell_type": "code",
   "execution_count": null,
   "id": "6c4bd8e7-6848-44f0-a1b9-f5ff13cee5c6",
   "metadata": {},
   "outputs": [],
   "source": [
    "clin_data = pd.read_csv(\"../../data/metadata/clin_data/clinical_data.csv\")\n",
    "clin_data.head()\n",
    "\n",
    "mask = clin_data.C2i_phase == target_phase\n",
    "clin_data_phase = clin_data[mask]\n",
    "clin_data_phase.head()\n",
    "\n",
    "samples_pts = [\"C0\" + str(sample) for sample in clin_data_phase.biobankID.tolist()]\n",
    "samples_pts\n",
    "\n",
    "samples_pts = [\"C0\" + str(sample) for sample in clin_data_phase.biobankID.tolist()]\n",
    "print(samples_pts)\n",
    "print(f\"Number of patients in {target_phase}: {len(samples_pts)}.\")"
   ]
  },
  {
   "cell_type": "code",
   "execution_count": null,
   "id": "896ec4da-0715-4b57-94f8-9db8e436c7c2",
   "metadata": {},
   "outputs": [],
   "source": [
    "paramspace_cfdna = pd.DataFrame({})\n",
    "\n",
    "def check(x):\n",
    "    if \"ffpe\" in x:\n",
    "        return True\n",
    "    elif \"frfr\" in x: \n",
    "        return True\n",
    "    else:\n",
    "        return False\n",
    "\n",
    "for pt in samples_pts:\n",
    "    folders = os.listdir(\"../../../../DerivedData/main_data/\" + str(pt))\n",
    "    cfDNA_samples = []\n",
    "    print(folders)\n",
    "    unique_kmers_folder =  [x for x in folders if check(x)]\n",
    "    for folder in folders:\n",
    "        if str(folder) in [\".DS_Store\", \"._.DS_Store\"]:\n",
    "            continue\n",
    "        files = os.listdir(\"../../../../DerivedData/main_data/\" + str(pt) + \"/\" + str(folder))\n",
    "        print(files)        \n",
    "        for file in files:\n",
    "            file_suf = file.split(\".\")[-1]\n",
    "            print(file_suf)\n",
    "            if file_suf == \"bam\":     \n",
    "                dna_type = file.split(\"_\")[1].split(\".\")[0]\n",
    "                print(dna_type)\n",
    "                if dna_type == \"buffycoat\":\n",
    "                    continue\n",
    "                elif dna_type == \"cfdna\":\n",
    "                    cfDNA_folder = folder\n",
    "                    cfDNA_sample = file\n",
    "                else:\n",
    "                    continue\n",
    "                add = {'pt_id': pt,\n",
    "                       'cfDNA_folder': folder,\n",
    "                       'cfDNA_file': file,\n",
    "                       'cfDNA_bam_path': \"../../DerivedData/main_data/\" + pt + \"/\" + folder + \"/\" + file, #\"data/\"\n",
    "                       'unique_kmers_folder': unique_kmers_folder[0]\n",
    "                              }\n",
    "                paramspace_cfdna = paramspace_cfdna.append(add, ignore_index = True)\n",
    "        \n",
    "    \n",
    "paramspace_cfdna = paramspace_cfdna.sort_values(by=[\"pt_id\"])\n",
    "paramspace_cfdna = paramspace_cfdna.reset_index(drop = True)\n",
    "paramspace_cfdna"
   ]
  },
  {
   "cell_type": "code",
   "execution_count": null,
   "id": "68fe25bc-1bc8-44bf-8b3b-bb6f0b84a09a",
   "metadata": {},
   "outputs": [],
   "source": [
    "paramspace_cfdna.to_csv(f\"../../data/metadata/paramspace_cfDNA_{target_phase}.csv\", index=False)"
   ]
  },
  {
   "cell_type": "code",
   "execution_count": null,
   "id": "7d4780b6-89c3-4cad-9ca7-ed56e2bc4b88",
   "metadata": {},
   "outputs": [],
   "source": []
  }
 ],
 "metadata": {
  "kernelspec": {
   "display_name": "Python 3 (ipykernel)",
   "language": "python",
   "name": "python3"
  },
  "language_info": {
   "codemirror_mode": {
    "name": "ipython",
    "version": 3
   },
   "file_extension": ".py",
   "mimetype": "text/x-python",
   "name": "python",
   "nbconvert_exporter": "python",
   "pygments_lexer": "ipython3",
   "version": "3.9.6"
  }
 },
 "nbformat": 4,
 "nbformat_minor": 5
}
