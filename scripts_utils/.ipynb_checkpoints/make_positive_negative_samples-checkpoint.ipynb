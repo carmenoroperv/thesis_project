{
 "cells": [
  {
   "cell_type": "code",
   "execution_count": null,
   "id": "1ebc0073-26a9-4973-ae2c-f19e5b66c9d3",
   "metadata": {},
   "outputs": [],
   "source": [
    "library(tidyverse)"
   ]
  },
  {
   "cell_type": "code",
   "execution_count": null,
   "id": "92feaccc-66aa-4b91-8079-ed6368ddb9b5",
   "metadata": {},
   "outputs": [],
   "source": [
    "paramspace = read.csv(\"../data/metadata/paramspace_cfDNA_phaseI.csv\")\n",
    "paramspace  <- paramspace %>% rename(patient_id = pt_id)\n",
    "head(paramspace)"
   ]
  },
  {
   "cell_type": "code",
   "execution_count": null,
   "id": "fa30a9dc-cba1-4715-a29f-f54344263ada",
   "metadata": {},
   "outputs": [],
   "source": [
    "paramspace <- paramspace %>% \n",
    "  mutate(tmp_chunks = stringr::str_split(cfDNA_folder, stringr::fixed(\"_\"),  n = 3)) %>%\n",
    "  mutate(sampleID = map_chr(tmp_chunks, 1),\n",
    "         sub_value = map_chr(tmp_chunks, 2), \n",
    "         sub_val = map_chr(tmp_chunks, 3)) %>%\n",
    "  select(-c(tmp_chunks, sub_value, sub_val))"
   ]
  },
  {
   "cell_type": "code",
   "execution_count": null,
   "id": "e3d82ddb-1e6e-4c39-9c91-c73371c27982",
   "metadata": {},
   "outputs": [],
   "source": [
    "sample_timepoint <- read.csv(\"../data/metadata/clin_data/sample_timepoint_formatted.csv\")"
   ]
  },
  {
   "cell_type": "code",
   "execution_count": null,
   "id": "1438bc4c-6c46-4475-84f6-e4beaab19650",
   "metadata": {},
   "outputs": [],
   "source": [
    "head(sample_timepoint)\n",
    "sample_timepoint_days <- sample_timepoint %>% filter(phase == \"phaseI\")\n",
    "sample_timepoint_days <- sample_timepoint_days %>% select(sampleID, sample_timepoint_days_since_OP)\n",
    "sample_timepoint_days %>% filter(is.na(sample_timepoint_days_since_OP))\n",
    "dim(sample_timepoint_days)\n",
    "head(sample_timepoint_days)"
   ]
  },
  {
   "cell_type": "code",
   "execution_count": null,
   "id": "f1350484-68a2-4e17-baed-6ed7ec69ea7e",
   "metadata": {},
   "outputs": [],
   "source": [
    "paramspace$sampleID <- as.character(paramspace$sampleID)\n",
    "res <- left_join(paramspace, sample_timepoint_days, by = c(\"sampleID\"))\n",
    "head(res)\n",
    "dim(res)"
   ]
  },
  {
   "cell_type": "code",
   "execution_count": null,
   "id": "1bd28b97-9725-4068-ade4-741e25783ff6",
   "metadata": {},
   "outputs": [],
   "source": [
    "clinical_data <- read.csv(\"../data/metadata/clin_data/clinical_data_formatted.csv\")\n",
    "clinical_data_relapse <- clinical_data %>% select(patient_id, time_to_relapse_days, adjuvant_chemo_start_days, adjuvant_chemo_end_days)\n",
    "head(clinical_data_relapse)"
   ]
  },
  {
   "cell_type": "code",
   "execution_count": null,
   "id": "5492f707-87a7-461f-a093-dda865e894fd",
   "metadata": {},
   "outputs": [],
   "source": [
    "res <-left_join(res, clinical_data_relapse, by=\"patient_id\")\n",
    "head(res)\n",
    "dim(res)"
   ]
  },
  {
   "cell_type": "code",
   "execution_count": null,
   "id": "31b5120e-327f-486c-9bb3-ccb872468209",
   "metadata": {},
   "outputs": [],
   "source": [
    "# 0 - negative sample (patient is healthy)\n",
    "# 1 - positive sample (patient is sick)\n",
    "res$sample_timepoint_days_since_OP <- as.numeric(res$sample_timepoint_days_since_OP)\n",
    "\n",
    "phaseIpt <- read.csv(\"../phaseI_pt.csv\", header=FALSE)\n",
    "phaseIpt <- as.character(unlist(c(phaseIpt[1,])))\n",
    "\n",
    "phaseIpt_R <- read.csv(\"../phaseI_pt_R.csv\", header=FALSE)\n",
    "phaseIpt_R <- as.character(unlist(c(phaseIpt_R[1,])))\n",
    "\n",
    "phase_I_pts = phaseIpt\n",
    "relapse_pt = phaseIpt_R\n",
    "\n",
    "res_new <- NULL\n",
    "\n",
    "for (ind in phase_I_pts){\n",
    "    print(ind)\n",
    "    res_ind <- res %>% filter(patient_id == ind)\n",
    "    res_ind <- res_ind %>% arrange(sample_timepoint_days_since_OP)\n",
    "    #print(res_ind %>% select(-c(\"cfDNA_file\", \"cfDNA_folder\", \"cfDNA_bam_path\", \"unique_kmers_folder\")))\n",
    "    if (ind %in% relapse_pt){\n",
    "        res_ind$pos_neg_samples <- c(1, rep(NA, (nrow(res_ind)-1)))\n",
    "        \n",
    "        res_ind_relapse <- res_ind %>% filter(sample_timepoint_days_since_OP <= time_to_relapse_days) %>% filter(sample_timepoint_days_since_OP == max(sample_timepoint_days_since_OP))\n",
    "        print(head(res_ind_relapse$sample_timepoint_days_since_OP))\n",
    "        print(which(res_ind$sample_timepoint_days_since_OP == res_ind_relapse$sample_timepoint_days_since_OP, arr.ind=TRUE))\n",
    "        res_ind[which(res_ind$sample_timepoint_days_since_OP == res_ind_relapse$sample_timepoint_days_since_OP, arr.ind=TRUE), \"pos_neg_samples\"] = 1\n",
    "        \n",
    "    } else {\n",
    "        res_ind$pos_neg_samples <- c(1, rep(NA, (nrow(res_ind)-3)), 0, 0)\n",
    "    }\n",
    "    res_new <- rbind(res_new, res_ind)\n",
    "}\n",
    "\n",
    "head(res_new)\n",
    "nrow(res_new %>% filter(pos_neg_samples == 1))\n",
    "nrow(res_new %>% filter(pos_neg_samples == 0))"
   ]
  },
  {
   "cell_type": "code",
   "execution_count": null,
   "id": "04439a43-12f5-491e-af5e-00135e83f1e2",
   "metadata": {},
   "outputs": [],
   "source": [
    "res_new_min <- res_new %>% select(sampleID, pos_neg_samples)\n",
    "head(res_new_min)"
   ]
  },
  {
   "cell_type": "code",
   "execution_count": null,
   "id": "c96322ac-a924-428d-be20-42acdb82cadb",
   "metadata": {},
   "outputs": [],
   "source": [
    "write.csv(res_new_min, \"../data/metadata/pos_neg_samples_phaseI.csv\", row.names = FALSE)"
   ]
  },
  {
   "cell_type": "markdown",
   "id": "ef6bafd0-0747-4e2d-8d79-6b65b857f44d",
   "metadata": {},
   "source": [
    "### Positive/negative samples version 2\n",
    "\n",
    "#### Positives: relapse patients from the second post op sample until they relapse (until the sample before the relapse)\n",
    "#### Negatives: no_relapse patients from the second post op sample until the end"
   ]
  },
  {
   "cell_type": "code",
   "execution_count": null,
   "id": "fa12769a-1698-478c-8485-fae1c0e6c569",
   "metadata": {},
   "outputs": [],
   "source": [
    "phase_I_pts = phaseIpt\n",
    "relapse_pt = phaseIpt_R\n",
    "\n",
    "res_new_v2 <- NULL\n",
    "\n",
    "for (ind in phase_I_pts){\n",
    "    print(ind)\n",
    "    res_ind <- res %>% filter(patient_id == ind)\n",
    "    res_ind <- res_ind %>% arrange(sample_timepoint_days_since_OP)\n",
    "    if (ind %in% relapse_pt){\n",
    "        res_ind$pos_neg_samples <- c(NA, NA, rep(NA, (nrow(res_ind)-2)))\n",
    "        \n",
    "        res_ind_relapse <- res_ind %>% filter(sample_timepoint_days_since_OP <= time_to_relapse_days) %>% filter(sample_timepoint_days_since_OP == max(sample_timepoint_days_since_OP))\n",
    "        print(head(res_ind_relapse$sample_timepoint_days_since_OP))\n",
    "        print(which(res_ind$sample_timepoint_days_since_OP == res_ind_relapse$sample_timepoint_days_since_OP, arr.ind=TRUE))\n",
    "        res_ind[3:which(res_ind$sample_timepoint_days_since_OP == res_ind_relapse$sample_timepoint_days_since_OP, arr.ind=TRUE), \"pos_neg_samples\"] = 1\n",
    "        res_ind[which(res_ind$sample_timepoint_days_since_OP == res_ind_relapse$sample_timepoint_days_since_OP, arr.ind=TRUE):nrow(res_ind), \"pos_neg_samples\"] = 0\n",
    "    } else {\n",
    "        res_ind$pos_neg_samples <- c(NA, NA, rep(0, (nrow(res_ind)-2)))\n",
    "    }\n",
    "    res_new_v2 <- rbind(res_new_v2, res_ind)\n",
    "}\n",
    "\n",
    "head(res_new_v2)\n",
    "nrow(res_new_v2 %>% filter(pos_neg_samples == 1))\n",
    "nrow(res_new_v2 %>% filter(pos_neg_samples == 0))"
   ]
  },
  {
   "cell_type": "code",
   "execution_count": null,
   "id": "4297ce36-2a80-4f47-a935-031bedfc7ff5",
   "metadata": {},
   "outputs": [],
   "source": [
    "res_new_v2"
   ]
  },
  {
   "cell_type": "code",
   "execution_count": null,
   "id": "f6488091-be06-4a4b-9ea1-23ab9c9e246d",
   "metadata": {},
   "outputs": [],
   "source": [
    "res_new_v2_min <- res_new_v2 %>% select(sampleID, pos_neg_samples)\n",
    "head(res_new_v2_min)"
   ]
  },
  {
   "cell_type": "code",
   "execution_count": null,
   "id": "3889db93-95c2-433f-a5bf-ece542f248b3",
   "metadata": {},
   "outputs": [],
   "source": [
    "write.csv(res_new_v2_min, \"../data/metadata/pos_neg_samples_phaseI_V2.csv\", row.names = FALSE)"
   ]
  },
  {
   "cell_type": "code",
   "execution_count": null,
   "id": "77028c05-399f-46e1-bf72-919aadca71a7",
   "metadata": {},
   "outputs": [],
   "source": []
  }
 ],
 "metadata": {
  "kernelspec": {
   "display_name": "R",
   "language": "R",
   "name": "ir"
  },
  "language_info": {
   "codemirror_mode": "r",
   "file_extension": ".r",
   "mimetype": "text/x-r-source",
   "name": "R",
   "pygments_lexer": "r",
   "version": "3.6.1"
  }
 },
 "nbformat": 4,
 "nbformat_minor": 5
}
