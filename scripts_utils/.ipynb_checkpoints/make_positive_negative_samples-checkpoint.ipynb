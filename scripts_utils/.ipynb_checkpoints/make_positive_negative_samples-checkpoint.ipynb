{
 "cells": [
  {
   "cell_type": "code",
   "execution_count": 1,
   "id": "1ebc0073-26a9-4973-ae2c-f19e5b66c9d3",
   "metadata": {},
   "outputs": [
    {
     "name": "stderr",
     "output_type": "stream",
     "text": [
      "Registered S3 methods overwritten by 'ggplot2':\n",
      "  method         from \n",
      "  [.quosures     rlang\n",
      "  c.quosures     rlang\n",
      "  print.quosures rlang\n",
      "Registered S3 method overwritten by 'rvest':\n",
      "  method            from\n",
      "  read_xml.response xml2\n",
      "── Attaching packages ───────────────────────────────────────────────────────────────────── tidyverse 1.2.1 ──\n",
      "✔ ggplot2 3.1.1     ✔ purrr   0.3.4\n",
      "✔ tibble  3.1.4     ✔ dplyr   1.0.7\n",
      "✔ tidyr   1.1.3     ✔ stringr 1.4.0\n",
      "✔ readr   1.3.1     ✔ forcats 0.4.0\n",
      "── Conflicts ──────────────────────────────────────────────────────────────────────── tidyverse_conflicts() ──\n",
      "✖ dplyr::filter() masks stats::filter()\n",
      "✖ dplyr::lag()    masks stats::lag()\n"
     ]
    }
   ],
   "source": [
    "library(tidyverse)"
   ]
  },
  {
   "cell_type": "code",
   "execution_count": 2,
   "id": "92feaccc-66aa-4b91-8079-ed6368ddb9b5",
   "metadata": {},
   "outputs": [
    {
     "data": {
      "text/html": [
       "<table>\n",
       "<thead><tr><th scope=col>patient_id</th><th scope=col>cfDNA_folder</th><th scope=col>cfDNA_file</th><th scope=col>cfDNA_bam_path</th><th scope=col>unique_kmers_folder</th></tr></thead>\n",
       "<tbody>\n",
       "\t<tr><td>C04689                                                                                                    </td><td>C303A04689D_cfdna_N295-103                                                                                </td><td>C303A04689D_cfdna.aligned.sorted.markdup.bam                                                              </td><td>../../DerivedData/main_data/C04689/C303A04689D_cfdna_N295-103/C303A04689D_cfdna.aligned.sorted.markdup.bam</td><td>C123T04689D_frfr_N295-450                                                                                 </td></tr>\n",
       "\t<tr><td>C04689                                                                                                    </td><td>C305A04689D_cfdna_N295-71                                                                                 </td><td>C305A04689D_cfdna.aligned.sorted.markdup.bam                                                              </td><td>../../DerivedData/main_data/C04689/C305A04689D_cfdna_N295-71/C305A04689D_cfdna.aligned.sorted.markdup.bam </td><td>C123T04689D_frfr_N295-450                                                                                 </td></tr>\n",
       "\t<tr><td>C04689                                                                                                    </td><td>C309A04689D_cfdna_N295-47                                                                                 </td><td>C309A04689D_cfdna.aligned.sorted.markdup.bam                                                              </td><td>../../DerivedData/main_data/C04689/C309A04689D_cfdna_N295-47/C309A04689D_cfdna.aligned.sorted.markdup.bam </td><td>C123T04689D_frfr_N295-450                                                                                 </td></tr>\n",
       "\t<tr><td>C04689                                                                                                    </td><td>C302A04689D_cfdna_N295-102                                                                                </td><td>C302A04689D_cfdna.aligned.sorted.markdup.bam                                                              </td><td>../../DerivedData/main_data/C04689/C302A04689D_cfdna_N295-102/C302A04689D_cfdna.aligned.sorted.markdup.bam</td><td>C123T04689D_frfr_N295-450                                                                                 </td></tr>\n",
       "\t<tr><td>C04689                                                                                                    </td><td>C299A04689D_cfdna_N295-99                                                                                 </td><td>C299A04689D_cfdna.aligned.sorted.markdup.bam                                                              </td><td>../../DerivedData/main_data/C04689/C299A04689D_cfdna_N295-99/C299A04689D_cfdna.aligned.sorted.markdup.bam </td><td>C123T04689D_frfr_N295-450                                                                                 </td></tr>\n",
       "\t<tr><td>C04689                                                                                                    </td><td>C307A04689D_cfdna_N295-110                                                                                </td><td>C307A04689D_cfdna.aligned.sorted.markdup.bam                                                              </td><td>../../DerivedData/main_data/C04689/C307A04689D_cfdna_N295-110/C307A04689D_cfdna.aligned.sorted.markdup.bam</td><td>C123T04689D_frfr_N295-450                                                                                 </td></tr>\n",
       "</tbody>\n",
       "</table>\n"
      ],
      "text/latex": [
       "\\begin{tabular}{r|lllll}\n",
       " patient\\_id & cfDNA\\_folder & cfDNA\\_file & cfDNA\\_bam\\_path & unique\\_kmers\\_folder\\\\\n",
       "\\hline\n",
       "\t C04689                                                                                                             & C303A04689D\\_cfdna\\_N295-103                                                                                     & C303A04689D\\_cfdna.aligned.sorted.markdup.bam                                                                     & ../../DerivedData/main\\_data/C04689/C303A04689D\\_cfdna\\_N295-103/C303A04689D\\_cfdna.aligned.sorted.markdup.bam & C123T04689D\\_frfr\\_N295-450                                                                                     \\\\\n",
       "\t C04689                                                                                                             & C305A04689D\\_cfdna\\_N295-71                                                                                      & C305A04689D\\_cfdna.aligned.sorted.markdup.bam                                                                     & ../../DerivedData/main\\_data/C04689/C305A04689D\\_cfdna\\_N295-71/C305A04689D\\_cfdna.aligned.sorted.markdup.bam  & C123T04689D\\_frfr\\_N295-450                                                                                     \\\\\n",
       "\t C04689                                                                                                             & C309A04689D\\_cfdna\\_N295-47                                                                                      & C309A04689D\\_cfdna.aligned.sorted.markdup.bam                                                                     & ../../DerivedData/main\\_data/C04689/C309A04689D\\_cfdna\\_N295-47/C309A04689D\\_cfdna.aligned.sorted.markdup.bam  & C123T04689D\\_frfr\\_N295-450                                                                                     \\\\\n",
       "\t C04689                                                                                                             & C302A04689D\\_cfdna\\_N295-102                                                                                     & C302A04689D\\_cfdna.aligned.sorted.markdup.bam                                                                     & ../../DerivedData/main\\_data/C04689/C302A04689D\\_cfdna\\_N295-102/C302A04689D\\_cfdna.aligned.sorted.markdup.bam & C123T04689D\\_frfr\\_N295-450                                                                                     \\\\\n",
       "\t C04689                                                                                                             & C299A04689D\\_cfdna\\_N295-99                                                                                      & C299A04689D\\_cfdna.aligned.sorted.markdup.bam                                                                     & ../../DerivedData/main\\_data/C04689/C299A04689D\\_cfdna\\_N295-99/C299A04689D\\_cfdna.aligned.sorted.markdup.bam  & C123T04689D\\_frfr\\_N295-450                                                                                     \\\\\n",
       "\t C04689                                                                                                             & C307A04689D\\_cfdna\\_N295-110                                                                                     & C307A04689D\\_cfdna.aligned.sorted.markdup.bam                                                                     & ../../DerivedData/main\\_data/C04689/C307A04689D\\_cfdna\\_N295-110/C307A04689D\\_cfdna.aligned.sorted.markdup.bam & C123T04689D\\_frfr\\_N295-450                                                                                     \\\\\n",
       "\\end{tabular}\n"
      ],
      "text/markdown": [
       "\n",
       "| patient_id | cfDNA_folder | cfDNA_file | cfDNA_bam_path | unique_kmers_folder |\n",
       "|---|---|---|---|---|\n",
       "| C04689                                                                                                     | C303A04689D_cfdna_N295-103                                                                                 | C303A04689D_cfdna.aligned.sorted.markdup.bam                                                               | ../../DerivedData/main_data/C04689/C303A04689D_cfdna_N295-103/C303A04689D_cfdna.aligned.sorted.markdup.bam | C123T04689D_frfr_N295-450                                                                                  |\n",
       "| C04689                                                                                                     | C305A04689D_cfdna_N295-71                                                                                  | C305A04689D_cfdna.aligned.sorted.markdup.bam                                                               | ../../DerivedData/main_data/C04689/C305A04689D_cfdna_N295-71/C305A04689D_cfdna.aligned.sorted.markdup.bam  | C123T04689D_frfr_N295-450                                                                                  |\n",
       "| C04689                                                                                                     | C309A04689D_cfdna_N295-47                                                                                  | C309A04689D_cfdna.aligned.sorted.markdup.bam                                                               | ../../DerivedData/main_data/C04689/C309A04689D_cfdna_N295-47/C309A04689D_cfdna.aligned.sorted.markdup.bam  | C123T04689D_frfr_N295-450                                                                                  |\n",
       "| C04689                                                                                                     | C302A04689D_cfdna_N295-102                                                                                 | C302A04689D_cfdna.aligned.sorted.markdup.bam                                                               | ../../DerivedData/main_data/C04689/C302A04689D_cfdna_N295-102/C302A04689D_cfdna.aligned.sorted.markdup.bam | C123T04689D_frfr_N295-450                                                                                  |\n",
       "| C04689                                                                                                     | C299A04689D_cfdna_N295-99                                                                                  | C299A04689D_cfdna.aligned.sorted.markdup.bam                                                               | ../../DerivedData/main_data/C04689/C299A04689D_cfdna_N295-99/C299A04689D_cfdna.aligned.sorted.markdup.bam  | C123T04689D_frfr_N295-450                                                                                  |\n",
       "| C04689                                                                                                     | C307A04689D_cfdna_N295-110                                                                                 | C307A04689D_cfdna.aligned.sorted.markdup.bam                                                               | ../../DerivedData/main_data/C04689/C307A04689D_cfdna_N295-110/C307A04689D_cfdna.aligned.sorted.markdup.bam | C123T04689D_frfr_N295-450                                                                                  |\n",
       "\n"
      ],
      "text/plain": [
       "  patient_id cfDNA_folder              \n",
       "1 C04689     C303A04689D_cfdna_N295-103\n",
       "2 C04689     C305A04689D_cfdna_N295-71 \n",
       "3 C04689     C309A04689D_cfdna_N295-47 \n",
       "4 C04689     C302A04689D_cfdna_N295-102\n",
       "5 C04689     C299A04689D_cfdna_N295-99 \n",
       "6 C04689     C307A04689D_cfdna_N295-110\n",
       "  cfDNA_file                                  \n",
       "1 C303A04689D_cfdna.aligned.sorted.markdup.bam\n",
       "2 C305A04689D_cfdna.aligned.sorted.markdup.bam\n",
       "3 C309A04689D_cfdna.aligned.sorted.markdup.bam\n",
       "4 C302A04689D_cfdna.aligned.sorted.markdup.bam\n",
       "5 C299A04689D_cfdna.aligned.sorted.markdup.bam\n",
       "6 C307A04689D_cfdna.aligned.sorted.markdup.bam\n",
       "  cfDNA_bam_path                                                                                            \n",
       "1 ../../DerivedData/main_data/C04689/C303A04689D_cfdna_N295-103/C303A04689D_cfdna.aligned.sorted.markdup.bam\n",
       "2 ../../DerivedData/main_data/C04689/C305A04689D_cfdna_N295-71/C305A04689D_cfdna.aligned.sorted.markdup.bam \n",
       "3 ../../DerivedData/main_data/C04689/C309A04689D_cfdna_N295-47/C309A04689D_cfdna.aligned.sorted.markdup.bam \n",
       "4 ../../DerivedData/main_data/C04689/C302A04689D_cfdna_N295-102/C302A04689D_cfdna.aligned.sorted.markdup.bam\n",
       "5 ../../DerivedData/main_data/C04689/C299A04689D_cfdna_N295-99/C299A04689D_cfdna.aligned.sorted.markdup.bam \n",
       "6 ../../DerivedData/main_data/C04689/C307A04689D_cfdna_N295-110/C307A04689D_cfdna.aligned.sorted.markdup.bam\n",
       "  unique_kmers_folder      \n",
       "1 C123T04689D_frfr_N295-450\n",
       "2 C123T04689D_frfr_N295-450\n",
       "3 C123T04689D_frfr_N295-450\n",
       "4 C123T04689D_frfr_N295-450\n",
       "5 C123T04689D_frfr_N295-450\n",
       "6 C123T04689D_frfr_N295-450"
      ]
     },
     "metadata": {},
     "output_type": "display_data"
    }
   ],
   "source": [
    "paramspace = read.csv(\"../data/metadata/paramspace_cfDNA_phaseI.csv\")\n",
    "paramspace  <- paramspace %>% rename(patient_id = pt_id)\n",
    "head(paramspace)"
   ]
  },
  {
   "cell_type": "code",
   "execution_count": 3,
   "id": "fa30a9dc-cba1-4715-a29f-f54344263ada",
   "metadata": {},
   "outputs": [],
   "source": [
    "paramspace <- paramspace %>% \n",
    "  mutate(tmp_chunks = stringr::str_split(cfDNA_folder, stringr::fixed(\"_\"),  n = 3)) %>%\n",
    "  mutate(sampleID = map_chr(tmp_chunks, 1),\n",
    "         sub_value = map_chr(tmp_chunks, 2), \n",
    "         sub_val = map_chr(tmp_chunks, 3)) %>%\n",
    "  select(-c(tmp_chunks, sub_value, sub_val))"
   ]
  },
  {
   "cell_type": "code",
   "execution_count": 4,
   "id": "e3d82ddb-1e6e-4c39-9c91-c73371c27982",
   "metadata": {},
   "outputs": [],
   "source": [
    "sample_timepoint <- read.csv(\"../data/metadata/clin_data/sample_timepoint_formatted.csv\")"
   ]
  },
  {
   "cell_type": "code",
   "execution_count": 5,
   "id": "1438bc4c-6c46-4475-84f6-e4beaab19650",
   "metadata": {},
   "outputs": [
    {
     "data": {
      "text/html": [
       "<table>\n",
       "<thead><tr><th scope=col>biobankID</th><th scope=col>sample_timepoint_days_since_OP</th><th scope=col>phase</th><th scope=col>patient_id</th><th scope=col>sampleID</th></tr></thead>\n",
       "<tbody>\n",
       "\t<tr><td>1982       </td><td> -6        </td><td>phaseII    </td><td>C01982     </td><td>C84A01982D </td></tr>\n",
       "\t<tr><td>1982       </td><td> 15        </td><td>phaseII    </td><td>C01982     </td><td>C85A01982D </td></tr>\n",
       "\t<tr><td>1982       </td><td>142        </td><td>phaseII    </td><td>C01982     </td><td>C86A01982D </td></tr>\n",
       "\t<tr><td>1982       </td><td>241        </td><td>phaseII    </td><td>C01982     </td><td>C87A01982D </td></tr>\n",
       "\t<tr><td>3736       </td><td> -1        </td><td>phaseII    </td><td>C03736     </td><td>C211A03736D</td></tr>\n",
       "\t<tr><td>3736       </td><td> 43        </td><td>phaseII    </td><td>C03736     </td><td>C212A03736D</td></tr>\n",
       "</tbody>\n",
       "</table>\n"
      ],
      "text/latex": [
       "\\begin{tabular}{r|lllll}\n",
       " biobankID & sample\\_timepoint\\_days\\_since\\_OP & phase & patient\\_id & sampleID\\\\\n",
       "\\hline\n",
       "\t 1982        &  -6         & phaseII     & C01982      & C84A01982D \\\\\n",
       "\t 1982        &  15         & phaseII     & C01982      & C85A01982D \\\\\n",
       "\t 1982        & 142         & phaseII     & C01982      & C86A01982D \\\\\n",
       "\t 1982        & 241         & phaseII     & C01982      & C87A01982D \\\\\n",
       "\t 3736        &  -1         & phaseII     & C03736      & C211A03736D\\\\\n",
       "\t 3736        &  43         & phaseII     & C03736      & C212A03736D\\\\\n",
       "\\end{tabular}\n"
      ],
      "text/markdown": [
       "\n",
       "| biobankID | sample_timepoint_days_since_OP | phase | patient_id | sampleID |\n",
       "|---|---|---|---|---|\n",
       "| 1982        |  -6         | phaseII     | C01982      | C84A01982D  |\n",
       "| 1982        |  15         | phaseII     | C01982      | C85A01982D  |\n",
       "| 1982        | 142         | phaseII     | C01982      | C86A01982D  |\n",
       "| 1982        | 241         | phaseII     | C01982      | C87A01982D  |\n",
       "| 3736        |  -1         | phaseII     | C03736      | C211A03736D |\n",
       "| 3736        |  43         | phaseII     | C03736      | C212A03736D |\n",
       "\n"
      ],
      "text/plain": [
       "  biobankID sample_timepoint_days_since_OP phase   patient_id sampleID   \n",
       "1 1982       -6                            phaseII C01982     C84A01982D \n",
       "2 1982       15                            phaseII C01982     C85A01982D \n",
       "3 1982      142                            phaseII C01982     C86A01982D \n",
       "4 1982      241                            phaseII C01982     C87A01982D \n",
       "5 3736       -1                            phaseII C03736     C211A03736D\n",
       "6 3736       43                            phaseII C03736     C212A03736D"
      ]
     },
     "metadata": {},
     "output_type": "display_data"
    },
    {
     "data": {
      "text/html": [
       "<table>\n",
       "<thead><tr><th scope=col>sampleID</th><th scope=col>sample_timepoint_days_since_OP</th></tr></thead>\n",
       "<tbody>\n",
       "</tbody>\n",
       "</table>\n"
      ],
      "text/latex": [
       "\\begin{tabular}{r|ll}\n",
       " sampleID & sample\\_timepoint\\_days\\_since\\_OP\\\\\n",
       "\\hline\n",
       "\\end{tabular}\n"
      ],
      "text/markdown": [
       "\n",
       "| sampleID | sample_timepoint_days_since_OP |\n",
       "|---|---|\n",
       "\n"
      ],
      "text/plain": [
       "     sampleID sample_timepoint_days_since_OP"
      ]
     },
     "metadata": {},
     "output_type": "display_data"
    },
    {
     "data": {
      "text/html": [
       "<ol class=list-inline>\n",
       "\t<li>190</li>\n",
       "\t<li>2</li>\n",
       "</ol>\n"
      ],
      "text/latex": [
       "\\begin{enumerate*}\n",
       "\\item 190\n",
       "\\item 2\n",
       "\\end{enumerate*}\n"
      ],
      "text/markdown": [
       "1. 190\n",
       "2. 2\n",
       "\n",
       "\n"
      ],
      "text/plain": [
       "[1] 190   2"
      ]
     },
     "metadata": {},
     "output_type": "display_data"
    },
    {
     "data": {
      "text/html": [
       "<table>\n",
       "<thead><tr><th scope=col>sampleID</th><th scope=col>sample_timepoint_days_since_OP</th></tr></thead>\n",
       "<tbody>\n",
       "\t<tr><td>C299A04689D</td><td> -1        </td></tr>\n",
       "\t<tr><td>C300A04689D</td><td> 37        </td></tr>\n",
       "\t<tr><td>C301A04689D</td><td> 93        </td></tr>\n",
       "\t<tr><td>C302A04689D</td><td>175        </td></tr>\n",
       "\t<tr><td>C303A04689D</td><td>267        </td></tr>\n",
       "\t<tr><td>C304A04689D</td><td>362        </td></tr>\n",
       "</tbody>\n",
       "</table>\n"
      ],
      "text/latex": [
       "\\begin{tabular}{r|ll}\n",
       " sampleID & sample\\_timepoint\\_days\\_since\\_OP\\\\\n",
       "\\hline\n",
       "\t C299A04689D &  -1        \\\\\n",
       "\t C300A04689D &  37        \\\\\n",
       "\t C301A04689D &  93        \\\\\n",
       "\t C302A04689D & 175        \\\\\n",
       "\t C303A04689D & 267        \\\\\n",
       "\t C304A04689D & 362        \\\\\n",
       "\\end{tabular}\n"
      ],
      "text/markdown": [
       "\n",
       "| sampleID | sample_timepoint_days_since_OP |\n",
       "|---|---|\n",
       "| C299A04689D |  -1         |\n",
       "| C300A04689D |  37         |\n",
       "| C301A04689D |  93         |\n",
       "| C302A04689D | 175         |\n",
       "| C303A04689D | 267         |\n",
       "| C304A04689D | 362         |\n",
       "\n"
      ],
      "text/plain": [
       "  sampleID    sample_timepoint_days_since_OP\n",
       "1 C299A04689D  -1                           \n",
       "2 C300A04689D  37                           \n",
       "3 C301A04689D  93                           \n",
       "4 C302A04689D 175                           \n",
       "5 C303A04689D 267                           \n",
       "6 C304A04689D 362                           "
      ]
     },
     "metadata": {},
     "output_type": "display_data"
    }
   ],
   "source": [
    "head(sample_timepoint)\n",
    "sample_timepoint_days <- sample_timepoint %>% filter(phase == \"phaseI\")\n",
    "sample_timepoint_days <- sample_timepoint_days %>% select(sampleID, sample_timepoint_days_since_OP)\n",
    "sample_timepoint_days %>% filter(is.na(sample_timepoint_days_since_OP))\n",
    "dim(sample_timepoint_days)\n",
    "head(sample_timepoint_days)"
   ]
  },
  {
   "cell_type": "code",
   "execution_count": 6,
   "id": "f1350484-68a2-4e17-baed-6ed7ec69ea7e",
   "metadata": {},
   "outputs": [
    {
     "data": {
      "text/html": [
       "<table>\n",
       "<thead><tr><th scope=col>patient_id</th><th scope=col>cfDNA_folder</th><th scope=col>cfDNA_file</th><th scope=col>cfDNA_bam_path</th><th scope=col>unique_kmers_folder</th><th scope=col>sampleID</th><th scope=col>sample_timepoint_days_since_OP</th></tr></thead>\n",
       "<tbody>\n",
       "\t<tr><td>C04689                                                                                                    </td><td>C303A04689D_cfdna_N295-103                                                                                </td><td>C303A04689D_cfdna.aligned.sorted.markdup.bam                                                              </td><td>../../DerivedData/main_data/C04689/C303A04689D_cfdna_N295-103/C303A04689D_cfdna.aligned.sorted.markdup.bam</td><td>C123T04689D_frfr_N295-450                                                                                 </td><td>C303A04689D                                                                                               </td><td>267                                                                                                       </td></tr>\n",
       "\t<tr><td>C04689                                                                                                    </td><td>C305A04689D_cfdna_N295-71                                                                                 </td><td>C305A04689D_cfdna.aligned.sorted.markdup.bam                                                              </td><td>../../DerivedData/main_data/C04689/C305A04689D_cfdna_N295-71/C305A04689D_cfdna.aligned.sorted.markdup.bam </td><td>C123T04689D_frfr_N295-450                                                                                 </td><td>C305A04689D                                                                                               </td><td>454                                                                                                       </td></tr>\n",
       "\t<tr><td>C04689                                                                                                    </td><td>C309A04689D_cfdna_N295-47                                                                                 </td><td>C309A04689D_cfdna.aligned.sorted.markdup.bam                                                              </td><td>../../DerivedData/main_data/C04689/C309A04689D_cfdna_N295-47/C309A04689D_cfdna.aligned.sorted.markdup.bam </td><td>C123T04689D_frfr_N295-450                                                                                 </td><td>C309A04689D                                                                                               </td><td>820                                                                                                       </td></tr>\n",
       "\t<tr><td>C04689                                                                                                    </td><td>C302A04689D_cfdna_N295-102                                                                                </td><td>C302A04689D_cfdna.aligned.sorted.markdup.bam                                                              </td><td>../../DerivedData/main_data/C04689/C302A04689D_cfdna_N295-102/C302A04689D_cfdna.aligned.sorted.markdup.bam</td><td>C123T04689D_frfr_N295-450                                                                                 </td><td>C302A04689D                                                                                               </td><td>175                                                                                                       </td></tr>\n",
       "\t<tr><td>C04689                                                                                                    </td><td>C299A04689D_cfdna_N295-99                                                                                 </td><td>C299A04689D_cfdna.aligned.sorted.markdup.bam                                                              </td><td>../../DerivedData/main_data/C04689/C299A04689D_cfdna_N295-99/C299A04689D_cfdna.aligned.sorted.markdup.bam </td><td>C123T04689D_frfr_N295-450                                                                                 </td><td>C299A04689D                                                                                               </td><td> -1                                                                                                       </td></tr>\n",
       "\t<tr><td>C04689                                                                                                    </td><td>C307A04689D_cfdna_N295-110                                                                                </td><td>C307A04689D_cfdna.aligned.sorted.markdup.bam                                                              </td><td>../../DerivedData/main_data/C04689/C307A04689D_cfdna_N295-110/C307A04689D_cfdna.aligned.sorted.markdup.bam</td><td>C123T04689D_frfr_N295-450                                                                                 </td><td>C307A04689D                                                                                               </td><td>637                                                                                                       </td></tr>\n",
       "</tbody>\n",
       "</table>\n"
      ],
      "text/latex": [
       "\\begin{tabular}{r|lllllll}\n",
       " patient\\_id & cfDNA\\_folder & cfDNA\\_file & cfDNA\\_bam\\_path & unique\\_kmers\\_folder & sampleID & sample\\_timepoint\\_days\\_since\\_OP\\\\\n",
       "\\hline\n",
       "\t C04689                                                                                                             & C303A04689D\\_cfdna\\_N295-103                                                                                     & C303A04689D\\_cfdna.aligned.sorted.markdup.bam                                                                     & ../../DerivedData/main\\_data/C04689/C303A04689D\\_cfdna\\_N295-103/C303A04689D\\_cfdna.aligned.sorted.markdup.bam & C123T04689D\\_frfr\\_N295-450                                                                                      & C303A04689D                                                                                                        & 267                                                                                                               \\\\\n",
       "\t C04689                                                                                                             & C305A04689D\\_cfdna\\_N295-71                                                                                      & C305A04689D\\_cfdna.aligned.sorted.markdup.bam                                                                     & ../../DerivedData/main\\_data/C04689/C305A04689D\\_cfdna\\_N295-71/C305A04689D\\_cfdna.aligned.sorted.markdup.bam  & C123T04689D\\_frfr\\_N295-450                                                                                      & C305A04689D                                                                                                        & 454                                                                                                               \\\\\n",
       "\t C04689                                                                                                             & C309A04689D\\_cfdna\\_N295-47                                                                                      & C309A04689D\\_cfdna.aligned.sorted.markdup.bam                                                                     & ../../DerivedData/main\\_data/C04689/C309A04689D\\_cfdna\\_N295-47/C309A04689D\\_cfdna.aligned.sorted.markdup.bam  & C123T04689D\\_frfr\\_N295-450                                                                                      & C309A04689D                                                                                                        & 820                                                                                                               \\\\\n",
       "\t C04689                                                                                                             & C302A04689D\\_cfdna\\_N295-102                                                                                     & C302A04689D\\_cfdna.aligned.sorted.markdup.bam                                                                     & ../../DerivedData/main\\_data/C04689/C302A04689D\\_cfdna\\_N295-102/C302A04689D\\_cfdna.aligned.sorted.markdup.bam & C123T04689D\\_frfr\\_N295-450                                                                                      & C302A04689D                                                                                                        & 175                                                                                                               \\\\\n",
       "\t C04689                                                                                                             & C299A04689D\\_cfdna\\_N295-99                                                                                      & C299A04689D\\_cfdna.aligned.sorted.markdup.bam                                                                     & ../../DerivedData/main\\_data/C04689/C299A04689D\\_cfdna\\_N295-99/C299A04689D\\_cfdna.aligned.sorted.markdup.bam  & C123T04689D\\_frfr\\_N295-450                                                                                      & C299A04689D                                                                                                        &  -1                                                                                                               \\\\\n",
       "\t C04689                                                                                                             & C307A04689D\\_cfdna\\_N295-110                                                                                     & C307A04689D\\_cfdna.aligned.sorted.markdup.bam                                                                     & ../../DerivedData/main\\_data/C04689/C307A04689D\\_cfdna\\_N295-110/C307A04689D\\_cfdna.aligned.sorted.markdup.bam & C123T04689D\\_frfr\\_N295-450                                                                                      & C307A04689D                                                                                                        & 637                                                                                                               \\\\\n",
       "\\end{tabular}\n"
      ],
      "text/markdown": [
       "\n",
       "| patient_id | cfDNA_folder | cfDNA_file | cfDNA_bam_path | unique_kmers_folder | sampleID | sample_timepoint_days_since_OP |\n",
       "|---|---|---|---|---|---|---|\n",
       "| C04689                                                                                                     | C303A04689D_cfdna_N295-103                                                                                 | C303A04689D_cfdna.aligned.sorted.markdup.bam                                                               | ../../DerivedData/main_data/C04689/C303A04689D_cfdna_N295-103/C303A04689D_cfdna.aligned.sorted.markdup.bam | C123T04689D_frfr_N295-450                                                                                  | C303A04689D                                                                                                | 267                                                                                                        |\n",
       "| C04689                                                                                                     | C305A04689D_cfdna_N295-71                                                                                  | C305A04689D_cfdna.aligned.sorted.markdup.bam                                                               | ../../DerivedData/main_data/C04689/C305A04689D_cfdna_N295-71/C305A04689D_cfdna.aligned.sorted.markdup.bam  | C123T04689D_frfr_N295-450                                                                                  | C305A04689D                                                                                                | 454                                                                                                        |\n",
       "| C04689                                                                                                     | C309A04689D_cfdna_N295-47                                                                                  | C309A04689D_cfdna.aligned.sorted.markdup.bam                                                               | ../../DerivedData/main_data/C04689/C309A04689D_cfdna_N295-47/C309A04689D_cfdna.aligned.sorted.markdup.bam  | C123T04689D_frfr_N295-450                                                                                  | C309A04689D                                                                                                | 820                                                                                                        |\n",
       "| C04689                                                                                                     | C302A04689D_cfdna_N295-102                                                                                 | C302A04689D_cfdna.aligned.sorted.markdup.bam                                                               | ../../DerivedData/main_data/C04689/C302A04689D_cfdna_N295-102/C302A04689D_cfdna.aligned.sorted.markdup.bam | C123T04689D_frfr_N295-450                                                                                  | C302A04689D                                                                                                | 175                                                                                                        |\n",
       "| C04689                                                                                                     | C299A04689D_cfdna_N295-99                                                                                  | C299A04689D_cfdna.aligned.sorted.markdup.bam                                                               | ../../DerivedData/main_data/C04689/C299A04689D_cfdna_N295-99/C299A04689D_cfdna.aligned.sorted.markdup.bam  | C123T04689D_frfr_N295-450                                                                                  | C299A04689D                                                                                                |  -1                                                                                                        |\n",
       "| C04689                                                                                                     | C307A04689D_cfdna_N295-110                                                                                 | C307A04689D_cfdna.aligned.sorted.markdup.bam                                                               | ../../DerivedData/main_data/C04689/C307A04689D_cfdna_N295-110/C307A04689D_cfdna.aligned.sorted.markdup.bam | C123T04689D_frfr_N295-450                                                                                  | C307A04689D                                                                                                | 637                                                                                                        |\n",
       "\n"
      ],
      "text/plain": [
       "  patient_id cfDNA_folder              \n",
       "1 C04689     C303A04689D_cfdna_N295-103\n",
       "2 C04689     C305A04689D_cfdna_N295-71 \n",
       "3 C04689     C309A04689D_cfdna_N295-47 \n",
       "4 C04689     C302A04689D_cfdna_N295-102\n",
       "5 C04689     C299A04689D_cfdna_N295-99 \n",
       "6 C04689     C307A04689D_cfdna_N295-110\n",
       "  cfDNA_file                                  \n",
       "1 C303A04689D_cfdna.aligned.sorted.markdup.bam\n",
       "2 C305A04689D_cfdna.aligned.sorted.markdup.bam\n",
       "3 C309A04689D_cfdna.aligned.sorted.markdup.bam\n",
       "4 C302A04689D_cfdna.aligned.sorted.markdup.bam\n",
       "5 C299A04689D_cfdna.aligned.sorted.markdup.bam\n",
       "6 C307A04689D_cfdna.aligned.sorted.markdup.bam\n",
       "  cfDNA_bam_path                                                                                            \n",
       "1 ../../DerivedData/main_data/C04689/C303A04689D_cfdna_N295-103/C303A04689D_cfdna.aligned.sorted.markdup.bam\n",
       "2 ../../DerivedData/main_data/C04689/C305A04689D_cfdna_N295-71/C305A04689D_cfdna.aligned.sorted.markdup.bam \n",
       "3 ../../DerivedData/main_data/C04689/C309A04689D_cfdna_N295-47/C309A04689D_cfdna.aligned.sorted.markdup.bam \n",
       "4 ../../DerivedData/main_data/C04689/C302A04689D_cfdna_N295-102/C302A04689D_cfdna.aligned.sorted.markdup.bam\n",
       "5 ../../DerivedData/main_data/C04689/C299A04689D_cfdna_N295-99/C299A04689D_cfdna.aligned.sorted.markdup.bam \n",
       "6 ../../DerivedData/main_data/C04689/C307A04689D_cfdna_N295-110/C307A04689D_cfdna.aligned.sorted.markdup.bam\n",
       "  unique_kmers_folder       sampleID    sample_timepoint_days_since_OP\n",
       "1 C123T04689D_frfr_N295-450 C303A04689D 267                           \n",
       "2 C123T04689D_frfr_N295-450 C305A04689D 454                           \n",
       "3 C123T04689D_frfr_N295-450 C309A04689D 820                           \n",
       "4 C123T04689D_frfr_N295-450 C302A04689D 175                           \n",
       "5 C123T04689D_frfr_N295-450 C299A04689D  -1                           \n",
       "6 C123T04689D_frfr_N295-450 C307A04689D 637                           "
      ]
     },
     "metadata": {},
     "output_type": "display_data"
    },
    {
     "data": {
      "text/html": [
       "<ol class=list-inline>\n",
       "\t<li>190</li>\n",
       "\t<li>7</li>\n",
       "</ol>\n"
      ],
      "text/latex": [
       "\\begin{enumerate*}\n",
       "\\item 190\n",
       "\\item 7\n",
       "\\end{enumerate*}\n"
      ],
      "text/markdown": [
       "1. 190\n",
       "2. 7\n",
       "\n",
       "\n"
      ],
      "text/plain": [
       "[1] 190   7"
      ]
     },
     "metadata": {},
     "output_type": "display_data"
    }
   ],
   "source": [
    "paramspace$sampleID <- as.character(paramspace$sampleID)\n",
    "res <- left_join(paramspace, sample_timepoint_days, by = c(\"sampleID\"))\n",
    "head(res)\n",
    "dim(res)"
   ]
  },
  {
   "cell_type": "code",
   "execution_count": 7,
   "id": "1bd28b97-9725-4068-ade4-741e25783ff6",
   "metadata": {},
   "outputs": [
    {
     "data": {
      "text/html": [
       "<table>\n",
       "<thead><tr><th scope=col>patient_id</th><th scope=col>time_to_relapse_days</th><th scope=col>adjuvant_chemo_start_days</th><th scope=col>adjuvant_chemo_end_days</th></tr></thead>\n",
       "<tbody>\n",
       "\t<tr><td>C05101  </td><td>      NA</td><td>12.17500</td><td>133.9250</td></tr>\n",
       "\t<tr><td>C05796  </td><td>      NA</td><td>12.17500</td><td>170.4500</td></tr>\n",
       "\t<tr><td>C06018  </td><td>258.7188</td><td>15.21875</td><td>203.9313</td></tr>\n",
       "\t<tr><td>C04689  </td><td>      NA</td><td>15.21875</td><td>197.8438</td></tr>\n",
       "\t<tr><td>C05173  </td><td>      NA</td><td>15.21875</td><td>100.4437</td></tr>\n",
       "\t<tr><td>C05188  </td><td>      NA</td><td>15.21875</td><td>179.5813</td></tr>\n",
       "</tbody>\n",
       "</table>\n"
      ],
      "text/latex": [
       "\\begin{tabular}{r|llll}\n",
       " patient\\_id & time\\_to\\_relapse\\_days & adjuvant\\_chemo\\_start\\_days & adjuvant\\_chemo\\_end\\_days\\\\\n",
       "\\hline\n",
       "\t C05101   &       NA & 12.17500 & 133.9250\\\\\n",
       "\t C05796   &       NA & 12.17500 & 170.4500\\\\\n",
       "\t C06018   & 258.7188 & 15.21875 & 203.9313\\\\\n",
       "\t C04689   &       NA & 15.21875 & 197.8438\\\\\n",
       "\t C05173   &       NA & 15.21875 & 100.4437\\\\\n",
       "\t C05188   &       NA & 15.21875 & 179.5813\\\\\n",
       "\\end{tabular}\n"
      ],
      "text/markdown": [
       "\n",
       "| patient_id | time_to_relapse_days | adjuvant_chemo_start_days | adjuvant_chemo_end_days |\n",
       "|---|---|---|---|\n",
       "| C05101   |       NA | 12.17500 | 133.9250 |\n",
       "| C05796   |       NA | 12.17500 | 170.4500 |\n",
       "| C06018   | 258.7188 | 15.21875 | 203.9313 |\n",
       "| C04689   |       NA | 15.21875 | 197.8438 |\n",
       "| C05173   |       NA | 15.21875 | 100.4437 |\n",
       "| C05188   |       NA | 15.21875 | 179.5813 |\n",
       "\n"
      ],
      "text/plain": [
       "  patient_id time_to_relapse_days adjuvant_chemo_start_days\n",
       "1 C05101           NA             12.17500                 \n",
       "2 C05796           NA             12.17500                 \n",
       "3 C06018     258.7188             15.21875                 \n",
       "4 C04689           NA             15.21875                 \n",
       "5 C05173           NA             15.21875                 \n",
       "6 C05188           NA             15.21875                 \n",
       "  adjuvant_chemo_end_days\n",
       "1 133.9250               \n",
       "2 170.4500               \n",
       "3 203.9313               \n",
       "4 197.8438               \n",
       "5 100.4437               \n",
       "6 179.5813               "
      ]
     },
     "metadata": {},
     "output_type": "display_data"
    }
   ],
   "source": [
    "clinical_data <- read.csv(\"../data/metadata/clin_data/clinical_data_formatted.csv\")\n",
    "clinical_data_relapse <- clinical_data %>% select(patient_id, time_to_relapse_days, adjuvant_chemo_start_days, adjuvant_chemo_end_days)\n",
    "head(clinical_data_relapse)"
   ]
  },
  {
   "cell_type": "code",
   "execution_count": 8,
   "id": "5492f707-87a7-461f-a093-dda865e894fd",
   "metadata": {},
   "outputs": [
    {
     "data": {
      "text/html": [
       "<table>\n",
       "<thead><tr><th scope=col>patient_id</th><th scope=col>cfDNA_folder</th><th scope=col>cfDNA_file</th><th scope=col>cfDNA_bam_path</th><th scope=col>unique_kmers_folder</th><th scope=col>sampleID</th><th scope=col>sample_timepoint_days_since_OP</th><th scope=col>time_to_relapse_days</th><th scope=col>adjuvant_chemo_start_days</th><th scope=col>adjuvant_chemo_end_days</th></tr></thead>\n",
       "<tbody>\n",
       "\t<tr><td>C04689                                                                                                    </td><td>C303A04689D_cfdna_N295-103                                                                                </td><td>C303A04689D_cfdna.aligned.sorted.markdup.bam                                                              </td><td>../../DerivedData/main_data/C04689/C303A04689D_cfdna_N295-103/C303A04689D_cfdna.aligned.sorted.markdup.bam</td><td>C123T04689D_frfr_N295-450                                                                                 </td><td>C303A04689D                                                                                               </td><td>267                                                                                                       </td><td>NA                                                                                                        </td><td>15.21875                                                                                                  </td><td>197.8438                                                                                                  </td></tr>\n",
       "\t<tr><td>C04689                                                                                                    </td><td>C305A04689D_cfdna_N295-71                                                                                 </td><td>C305A04689D_cfdna.aligned.sorted.markdup.bam                                                              </td><td>../../DerivedData/main_data/C04689/C305A04689D_cfdna_N295-71/C305A04689D_cfdna.aligned.sorted.markdup.bam </td><td>C123T04689D_frfr_N295-450                                                                                 </td><td>C305A04689D                                                                                               </td><td>454                                                                                                       </td><td>NA                                                                                                        </td><td>15.21875                                                                                                  </td><td>197.8438                                                                                                  </td></tr>\n",
       "\t<tr><td>C04689                                                                                                    </td><td>C309A04689D_cfdna_N295-47                                                                                 </td><td>C309A04689D_cfdna.aligned.sorted.markdup.bam                                                              </td><td>../../DerivedData/main_data/C04689/C309A04689D_cfdna_N295-47/C309A04689D_cfdna.aligned.sorted.markdup.bam </td><td>C123T04689D_frfr_N295-450                                                                                 </td><td>C309A04689D                                                                                               </td><td>820                                                                                                       </td><td>NA                                                                                                        </td><td>15.21875                                                                                                  </td><td>197.8438                                                                                                  </td></tr>\n",
       "\t<tr><td>C04689                                                                                                    </td><td>C302A04689D_cfdna_N295-102                                                                                </td><td>C302A04689D_cfdna.aligned.sorted.markdup.bam                                                              </td><td>../../DerivedData/main_data/C04689/C302A04689D_cfdna_N295-102/C302A04689D_cfdna.aligned.sorted.markdup.bam</td><td>C123T04689D_frfr_N295-450                                                                                 </td><td>C302A04689D                                                                                               </td><td>175                                                                                                       </td><td>NA                                                                                                        </td><td>15.21875                                                                                                  </td><td>197.8438                                                                                                  </td></tr>\n",
       "\t<tr><td>C04689                                                                                                    </td><td>C299A04689D_cfdna_N295-99                                                                                 </td><td>C299A04689D_cfdna.aligned.sorted.markdup.bam                                                              </td><td>../../DerivedData/main_data/C04689/C299A04689D_cfdna_N295-99/C299A04689D_cfdna.aligned.sorted.markdup.bam </td><td>C123T04689D_frfr_N295-450                                                                                 </td><td>C299A04689D                                                                                               </td><td> -1                                                                                                       </td><td>NA                                                                                                        </td><td>15.21875                                                                                                  </td><td>197.8438                                                                                                  </td></tr>\n",
       "\t<tr><td>C04689                                                                                                    </td><td>C307A04689D_cfdna_N295-110                                                                                </td><td>C307A04689D_cfdna.aligned.sorted.markdup.bam                                                              </td><td>../../DerivedData/main_data/C04689/C307A04689D_cfdna_N295-110/C307A04689D_cfdna.aligned.sorted.markdup.bam</td><td>C123T04689D_frfr_N295-450                                                                                 </td><td>C307A04689D                                                                                               </td><td>637                                                                                                       </td><td>NA                                                                                                        </td><td>15.21875                                                                                                  </td><td>197.8438                                                                                                  </td></tr>\n",
       "</tbody>\n",
       "</table>\n"
      ],
      "text/latex": [
       "\\begin{tabular}{r|llllllllll}\n",
       " patient\\_id & cfDNA\\_folder & cfDNA\\_file & cfDNA\\_bam\\_path & unique\\_kmers\\_folder & sampleID & sample\\_timepoint\\_days\\_since\\_OP & time\\_to\\_relapse\\_days & adjuvant\\_chemo\\_start\\_days & adjuvant\\_chemo\\_end\\_days\\\\\n",
       "\\hline\n",
       "\t C04689                                                                                                             & C303A04689D\\_cfdna\\_N295-103                                                                                     & C303A04689D\\_cfdna.aligned.sorted.markdup.bam                                                                     & ../../DerivedData/main\\_data/C04689/C303A04689D\\_cfdna\\_N295-103/C303A04689D\\_cfdna.aligned.sorted.markdup.bam & C123T04689D\\_frfr\\_N295-450                                                                                      & C303A04689D                                                                                                        & 267                                                                                                                & NA                                                                                                                 & 15.21875                                                                                                           & 197.8438                                                                                                          \\\\\n",
       "\t C04689                                                                                                             & C305A04689D\\_cfdna\\_N295-71                                                                                      & C305A04689D\\_cfdna.aligned.sorted.markdup.bam                                                                     & ../../DerivedData/main\\_data/C04689/C305A04689D\\_cfdna\\_N295-71/C305A04689D\\_cfdna.aligned.sorted.markdup.bam  & C123T04689D\\_frfr\\_N295-450                                                                                      & C305A04689D                                                                                                        & 454                                                                                                                & NA                                                                                                                 & 15.21875                                                                                                           & 197.8438                                                                                                          \\\\\n",
       "\t C04689                                                                                                             & C309A04689D\\_cfdna\\_N295-47                                                                                      & C309A04689D\\_cfdna.aligned.sorted.markdup.bam                                                                     & ../../DerivedData/main\\_data/C04689/C309A04689D\\_cfdna\\_N295-47/C309A04689D\\_cfdna.aligned.sorted.markdup.bam  & C123T04689D\\_frfr\\_N295-450                                                                                      & C309A04689D                                                                                                        & 820                                                                                                                & NA                                                                                                                 & 15.21875                                                                                                           & 197.8438                                                                                                          \\\\\n",
       "\t C04689                                                                                                             & C302A04689D\\_cfdna\\_N295-102                                                                                     & C302A04689D\\_cfdna.aligned.sorted.markdup.bam                                                                     & ../../DerivedData/main\\_data/C04689/C302A04689D\\_cfdna\\_N295-102/C302A04689D\\_cfdna.aligned.sorted.markdup.bam & C123T04689D\\_frfr\\_N295-450                                                                                      & C302A04689D                                                                                                        & 175                                                                                                                & NA                                                                                                                 & 15.21875                                                                                                           & 197.8438                                                                                                          \\\\\n",
       "\t C04689                                                                                                             & C299A04689D\\_cfdna\\_N295-99                                                                                      & C299A04689D\\_cfdna.aligned.sorted.markdup.bam                                                                     & ../../DerivedData/main\\_data/C04689/C299A04689D\\_cfdna\\_N295-99/C299A04689D\\_cfdna.aligned.sorted.markdup.bam  & C123T04689D\\_frfr\\_N295-450                                                                                      & C299A04689D                                                                                                        &  -1                                                                                                                & NA                                                                                                                 & 15.21875                                                                                                           & 197.8438                                                                                                          \\\\\n",
       "\t C04689                                                                                                             & C307A04689D\\_cfdna\\_N295-110                                                                                     & C307A04689D\\_cfdna.aligned.sorted.markdup.bam                                                                     & ../../DerivedData/main\\_data/C04689/C307A04689D\\_cfdna\\_N295-110/C307A04689D\\_cfdna.aligned.sorted.markdup.bam & C123T04689D\\_frfr\\_N295-450                                                                                      & C307A04689D                                                                                                        & 637                                                                                                                & NA                                                                                                                 & 15.21875                                                                                                           & 197.8438                                                                                                          \\\\\n",
       "\\end{tabular}\n"
      ],
      "text/markdown": [
       "\n",
       "| patient_id | cfDNA_folder | cfDNA_file | cfDNA_bam_path | unique_kmers_folder | sampleID | sample_timepoint_days_since_OP | time_to_relapse_days | adjuvant_chemo_start_days | adjuvant_chemo_end_days |\n",
       "|---|---|---|---|---|---|---|---|---|---|\n",
       "| C04689                                                                                                     | C303A04689D_cfdna_N295-103                                                                                 | C303A04689D_cfdna.aligned.sorted.markdup.bam                                                               | ../../DerivedData/main_data/C04689/C303A04689D_cfdna_N295-103/C303A04689D_cfdna.aligned.sorted.markdup.bam | C123T04689D_frfr_N295-450                                                                                  | C303A04689D                                                                                                | 267                                                                                                        | NA                                                                                                         | 15.21875                                                                                                   | 197.8438                                                                                                   |\n",
       "| C04689                                                                                                     | C305A04689D_cfdna_N295-71                                                                                  | C305A04689D_cfdna.aligned.sorted.markdup.bam                                                               | ../../DerivedData/main_data/C04689/C305A04689D_cfdna_N295-71/C305A04689D_cfdna.aligned.sorted.markdup.bam  | C123T04689D_frfr_N295-450                                                                                  | C305A04689D                                                                                                | 454                                                                                                        | NA                                                                                                         | 15.21875                                                                                                   | 197.8438                                                                                                   |\n",
       "| C04689                                                                                                     | C309A04689D_cfdna_N295-47                                                                                  | C309A04689D_cfdna.aligned.sorted.markdup.bam                                                               | ../../DerivedData/main_data/C04689/C309A04689D_cfdna_N295-47/C309A04689D_cfdna.aligned.sorted.markdup.bam  | C123T04689D_frfr_N295-450                                                                                  | C309A04689D                                                                                                | 820                                                                                                        | NA                                                                                                         | 15.21875                                                                                                   | 197.8438                                                                                                   |\n",
       "| C04689                                                                                                     | C302A04689D_cfdna_N295-102                                                                                 | C302A04689D_cfdna.aligned.sorted.markdup.bam                                                               | ../../DerivedData/main_data/C04689/C302A04689D_cfdna_N295-102/C302A04689D_cfdna.aligned.sorted.markdup.bam | C123T04689D_frfr_N295-450                                                                                  | C302A04689D                                                                                                | 175                                                                                                        | NA                                                                                                         | 15.21875                                                                                                   | 197.8438                                                                                                   |\n",
       "| C04689                                                                                                     | C299A04689D_cfdna_N295-99                                                                                  | C299A04689D_cfdna.aligned.sorted.markdup.bam                                                               | ../../DerivedData/main_data/C04689/C299A04689D_cfdna_N295-99/C299A04689D_cfdna.aligned.sorted.markdup.bam  | C123T04689D_frfr_N295-450                                                                                  | C299A04689D                                                                                                |  -1                                                                                                        | NA                                                                                                         | 15.21875                                                                                                   | 197.8438                                                                                                   |\n",
       "| C04689                                                                                                     | C307A04689D_cfdna_N295-110                                                                                 | C307A04689D_cfdna.aligned.sorted.markdup.bam                                                               | ../../DerivedData/main_data/C04689/C307A04689D_cfdna_N295-110/C307A04689D_cfdna.aligned.sorted.markdup.bam | C123T04689D_frfr_N295-450                                                                                  | C307A04689D                                                                                                | 637                                                                                                        | NA                                                                                                         | 15.21875                                                                                                   | 197.8438                                                                                                   |\n",
       "\n"
      ],
      "text/plain": [
       "  patient_id cfDNA_folder              \n",
       "1 C04689     C303A04689D_cfdna_N295-103\n",
       "2 C04689     C305A04689D_cfdna_N295-71 \n",
       "3 C04689     C309A04689D_cfdna_N295-47 \n",
       "4 C04689     C302A04689D_cfdna_N295-102\n",
       "5 C04689     C299A04689D_cfdna_N295-99 \n",
       "6 C04689     C307A04689D_cfdna_N295-110\n",
       "  cfDNA_file                                  \n",
       "1 C303A04689D_cfdna.aligned.sorted.markdup.bam\n",
       "2 C305A04689D_cfdna.aligned.sorted.markdup.bam\n",
       "3 C309A04689D_cfdna.aligned.sorted.markdup.bam\n",
       "4 C302A04689D_cfdna.aligned.sorted.markdup.bam\n",
       "5 C299A04689D_cfdna.aligned.sorted.markdup.bam\n",
       "6 C307A04689D_cfdna.aligned.sorted.markdup.bam\n",
       "  cfDNA_bam_path                                                                                            \n",
       "1 ../../DerivedData/main_data/C04689/C303A04689D_cfdna_N295-103/C303A04689D_cfdna.aligned.sorted.markdup.bam\n",
       "2 ../../DerivedData/main_data/C04689/C305A04689D_cfdna_N295-71/C305A04689D_cfdna.aligned.sorted.markdup.bam \n",
       "3 ../../DerivedData/main_data/C04689/C309A04689D_cfdna_N295-47/C309A04689D_cfdna.aligned.sorted.markdup.bam \n",
       "4 ../../DerivedData/main_data/C04689/C302A04689D_cfdna_N295-102/C302A04689D_cfdna.aligned.sorted.markdup.bam\n",
       "5 ../../DerivedData/main_data/C04689/C299A04689D_cfdna_N295-99/C299A04689D_cfdna.aligned.sorted.markdup.bam \n",
       "6 ../../DerivedData/main_data/C04689/C307A04689D_cfdna_N295-110/C307A04689D_cfdna.aligned.sorted.markdup.bam\n",
       "  unique_kmers_folder       sampleID    sample_timepoint_days_since_OP\n",
       "1 C123T04689D_frfr_N295-450 C303A04689D 267                           \n",
       "2 C123T04689D_frfr_N295-450 C305A04689D 454                           \n",
       "3 C123T04689D_frfr_N295-450 C309A04689D 820                           \n",
       "4 C123T04689D_frfr_N295-450 C302A04689D 175                           \n",
       "5 C123T04689D_frfr_N295-450 C299A04689D  -1                           \n",
       "6 C123T04689D_frfr_N295-450 C307A04689D 637                           \n",
       "  time_to_relapse_days adjuvant_chemo_start_days adjuvant_chemo_end_days\n",
       "1 NA                   15.21875                  197.8438               \n",
       "2 NA                   15.21875                  197.8438               \n",
       "3 NA                   15.21875                  197.8438               \n",
       "4 NA                   15.21875                  197.8438               \n",
       "5 NA                   15.21875                  197.8438               \n",
       "6 NA                   15.21875                  197.8438               "
      ]
     },
     "metadata": {},
     "output_type": "display_data"
    },
    {
     "data": {
      "text/html": [
       "<ol class=list-inline>\n",
       "\t<li>190</li>\n",
       "\t<li>10</li>\n",
       "</ol>\n"
      ],
      "text/latex": [
       "\\begin{enumerate*}\n",
       "\\item 190\n",
       "\\item 10\n",
       "\\end{enumerate*}\n"
      ],
      "text/markdown": [
       "1. 190\n",
       "2. 10\n",
       "\n",
       "\n"
      ],
      "text/plain": [
       "[1] 190  10"
      ]
     },
     "metadata": {},
     "output_type": "display_data"
    }
   ],
   "source": [
    "res <-left_join(res, clinical_data_relapse, by=\"patient_id\")\n",
    "head(res)\n",
    "dim(res)"
   ]
  },
  {
   "cell_type": "code",
   "execution_count": 9,
   "id": "31b5120e-327f-486c-9bb3-ccb872468209",
   "metadata": {},
   "outputs": [
    {
     "data": {
      "text/html": [
       "<table>\n",
       "<thead><tr><th scope=col>patient_id</th><th scope=col>cfDNA_folder</th><th scope=col>cfDNA_file</th><th scope=col>cfDNA_bam_path</th><th scope=col>unique_kmers_folder</th><th scope=col>sampleID</th><th scope=col>sample_timepoint_days_since_OP</th><th scope=col>time_to_relapse_days</th><th scope=col>adjuvant_chemo_start_days</th><th scope=col>adjuvant_chemo_end_days</th><th scope=col>pos_neg_samples</th></tr></thead>\n",
       "<tbody>\n",
       "\t<tr><td>C04689                                                                                                    </td><td>C299A04689D_cfdna_N295-99                                                                                 </td><td>C299A04689D_cfdna.aligned.sorted.markdup.bam                                                              </td><td>../../DerivedData/main_data/C04689/C299A04689D_cfdna_N295-99/C299A04689D_cfdna.aligned.sorted.markdup.bam </td><td>C123T04689D_frfr_N295-450                                                                                 </td><td>C299A04689D                                                                                               </td><td> -1                                                                                                       </td><td>NA                                                                                                        </td><td>15.21875                                                                                                  </td><td>197.8438                                                                                                  </td><td> 1                                                                                                        </td></tr>\n",
       "\t<tr><td>C04689                                                                                                    </td><td>C300A04689D_cfdna_N295-100                                                                                </td><td>C300A04689D_cfdna.aligned.sorted.markdup.bam                                                              </td><td>../../DerivedData/main_data/C04689/C300A04689D_cfdna_N295-100/C300A04689D_cfdna.aligned.sorted.markdup.bam</td><td>C123T04689D_frfr_N295-450                                                                                 </td><td>C300A04689D                                                                                               </td><td> 37                                                                                                       </td><td>NA                                                                                                        </td><td>15.21875                                                                                                  </td><td>197.8438                                                                                                  </td><td>NA                                                                                                        </td></tr>\n",
       "\t<tr><td>C04689                                                                                                    </td><td>C301A04689D_cfdna_N295-101                                                                                </td><td>C301A04689D_cfdna.aligned.sorted.markdup.bam                                                              </td><td>../../DerivedData/main_data/C04689/C301A04689D_cfdna_N295-101/C301A04689D_cfdna.aligned.sorted.markdup.bam</td><td>C123T04689D_frfr_N295-450                                                                                 </td><td>C301A04689D                                                                                               </td><td> 93                                                                                                       </td><td>NA                                                                                                        </td><td>15.21875                                                                                                  </td><td>197.8438                                                                                                  </td><td>NA                                                                                                        </td></tr>\n",
       "\t<tr><td>C04689                                                                                                    </td><td>C302A04689D_cfdna_N295-102                                                                                </td><td>C302A04689D_cfdna.aligned.sorted.markdup.bam                                                              </td><td>../../DerivedData/main_data/C04689/C302A04689D_cfdna_N295-102/C302A04689D_cfdna.aligned.sorted.markdup.bam</td><td>C123T04689D_frfr_N295-450                                                                                 </td><td>C302A04689D                                                                                               </td><td>175                                                                                                       </td><td>NA                                                                                                        </td><td>15.21875                                                                                                  </td><td>197.8438                                                                                                  </td><td>NA                                                                                                        </td></tr>\n",
       "\t<tr><td>C04689                                                                                                    </td><td>C303A04689D_cfdna_N295-103                                                                                </td><td>C303A04689D_cfdna.aligned.sorted.markdup.bam                                                              </td><td>../../DerivedData/main_data/C04689/C303A04689D_cfdna_N295-103/C303A04689D_cfdna.aligned.sorted.markdup.bam</td><td>C123T04689D_frfr_N295-450                                                                                 </td><td>C303A04689D                                                                                               </td><td>267                                                                                                       </td><td>NA                                                                                                        </td><td>15.21875                                                                                                  </td><td>197.8438                                                                                                  </td><td>NA                                                                                                        </td></tr>\n",
       "\t<tr><td>C04689                                                                                                    </td><td>C304A04689D_cfdna_N295-60                                                                                 </td><td>C304A04689D_cfdna.aligned.sorted.markdup.bam                                                              </td><td>../../DerivedData/main_data/C04689/C304A04689D_cfdna_N295-60/C304A04689D_cfdna.aligned.sorted.markdup.bam </td><td>C123T04689D_frfr_N295-450                                                                                 </td><td>C304A04689D                                                                                               </td><td>362                                                                                                       </td><td>NA                                                                                                        </td><td>15.21875                                                                                                  </td><td>197.8438                                                                                                  </td><td>NA                                                                                                        </td></tr>\n",
       "</tbody>\n",
       "</table>\n"
      ],
      "text/latex": [
       "\\begin{tabular}{r|lllllllllll}\n",
       " patient\\_id & cfDNA\\_folder & cfDNA\\_file & cfDNA\\_bam\\_path & unique\\_kmers\\_folder & sampleID & sample\\_timepoint\\_days\\_since\\_OP & time\\_to\\_relapse\\_days & adjuvant\\_chemo\\_start\\_days & adjuvant\\_chemo\\_end\\_days & pos\\_neg\\_samples\\\\\n",
       "\\hline\n",
       "\t C04689                                                                                                             & C299A04689D\\_cfdna\\_N295-99                                                                                      & C299A04689D\\_cfdna.aligned.sorted.markdup.bam                                                                     & ../../DerivedData/main\\_data/C04689/C299A04689D\\_cfdna\\_N295-99/C299A04689D\\_cfdna.aligned.sorted.markdup.bam  & C123T04689D\\_frfr\\_N295-450                                                                                      & C299A04689D                                                                                                        &  -1                                                                                                                & NA                                                                                                                 & 15.21875                                                                                                           & 197.8438                                                                                                           &  1                                                                                                                \\\\\n",
       "\t C04689                                                                                                             & C300A04689D\\_cfdna\\_N295-100                                                                                     & C300A04689D\\_cfdna.aligned.sorted.markdup.bam                                                                     & ../../DerivedData/main\\_data/C04689/C300A04689D\\_cfdna\\_N295-100/C300A04689D\\_cfdna.aligned.sorted.markdup.bam & C123T04689D\\_frfr\\_N295-450                                                                                      & C300A04689D                                                                                                        &  37                                                                                                                & NA                                                                                                                 & 15.21875                                                                                                           & 197.8438                                                                                                           & NA                                                                                                                \\\\\n",
       "\t C04689                                                                                                             & C301A04689D\\_cfdna\\_N295-101                                                                                     & C301A04689D\\_cfdna.aligned.sorted.markdup.bam                                                                     & ../../DerivedData/main\\_data/C04689/C301A04689D\\_cfdna\\_N295-101/C301A04689D\\_cfdna.aligned.sorted.markdup.bam & C123T04689D\\_frfr\\_N295-450                                                                                      & C301A04689D                                                                                                        &  93                                                                                                                & NA                                                                                                                 & 15.21875                                                                                                           & 197.8438                                                                                                           & NA                                                                                                                \\\\\n",
       "\t C04689                                                                                                             & C302A04689D\\_cfdna\\_N295-102                                                                                     & C302A04689D\\_cfdna.aligned.sorted.markdup.bam                                                                     & ../../DerivedData/main\\_data/C04689/C302A04689D\\_cfdna\\_N295-102/C302A04689D\\_cfdna.aligned.sorted.markdup.bam & C123T04689D\\_frfr\\_N295-450                                                                                      & C302A04689D                                                                                                        & 175                                                                                                                & NA                                                                                                                 & 15.21875                                                                                                           & 197.8438                                                                                                           & NA                                                                                                                \\\\\n",
       "\t C04689                                                                                                             & C303A04689D\\_cfdna\\_N295-103                                                                                     & C303A04689D\\_cfdna.aligned.sorted.markdup.bam                                                                     & ../../DerivedData/main\\_data/C04689/C303A04689D\\_cfdna\\_N295-103/C303A04689D\\_cfdna.aligned.sorted.markdup.bam & C123T04689D\\_frfr\\_N295-450                                                                                      & C303A04689D                                                                                                        & 267                                                                                                                & NA                                                                                                                 & 15.21875                                                                                                           & 197.8438                                                                                                           & NA                                                                                                                \\\\\n",
       "\t C04689                                                                                                             & C304A04689D\\_cfdna\\_N295-60                                                                                      & C304A04689D\\_cfdna.aligned.sorted.markdup.bam                                                                     & ../../DerivedData/main\\_data/C04689/C304A04689D\\_cfdna\\_N295-60/C304A04689D\\_cfdna.aligned.sorted.markdup.bam  & C123T04689D\\_frfr\\_N295-450                                                                                      & C304A04689D                                                                                                        & 362                                                                                                                & NA                                                                                                                 & 15.21875                                                                                                           & 197.8438                                                                                                           & NA                                                                                                                \\\\\n",
       "\\end{tabular}\n"
      ],
      "text/markdown": [
       "\n",
       "| patient_id | cfDNA_folder | cfDNA_file | cfDNA_bam_path | unique_kmers_folder | sampleID | sample_timepoint_days_since_OP | time_to_relapse_days | adjuvant_chemo_start_days | adjuvant_chemo_end_days | pos_neg_samples |\n",
       "|---|---|---|---|---|---|---|---|---|---|---|\n",
       "| C04689                                                                                                     | C299A04689D_cfdna_N295-99                                                                                  | C299A04689D_cfdna.aligned.sorted.markdup.bam                                                               | ../../DerivedData/main_data/C04689/C299A04689D_cfdna_N295-99/C299A04689D_cfdna.aligned.sorted.markdup.bam  | C123T04689D_frfr_N295-450                                                                                  | C299A04689D                                                                                                |  -1                                                                                                        | NA                                                                                                         | 15.21875                                                                                                   | 197.8438                                                                                                   |  1                                                                                                         |\n",
       "| C04689                                                                                                     | C300A04689D_cfdna_N295-100                                                                                 | C300A04689D_cfdna.aligned.sorted.markdup.bam                                                               | ../../DerivedData/main_data/C04689/C300A04689D_cfdna_N295-100/C300A04689D_cfdna.aligned.sorted.markdup.bam | C123T04689D_frfr_N295-450                                                                                  | C300A04689D                                                                                                |  37                                                                                                        | NA                                                                                                         | 15.21875                                                                                                   | 197.8438                                                                                                   | NA                                                                                                         |\n",
       "| C04689                                                                                                     | C301A04689D_cfdna_N295-101                                                                                 | C301A04689D_cfdna.aligned.sorted.markdup.bam                                                               | ../../DerivedData/main_data/C04689/C301A04689D_cfdna_N295-101/C301A04689D_cfdna.aligned.sorted.markdup.bam | C123T04689D_frfr_N295-450                                                                                  | C301A04689D                                                                                                |  93                                                                                                        | NA                                                                                                         | 15.21875                                                                                                   | 197.8438                                                                                                   | NA                                                                                                         |\n",
       "| C04689                                                                                                     | C302A04689D_cfdna_N295-102                                                                                 | C302A04689D_cfdna.aligned.sorted.markdup.bam                                                               | ../../DerivedData/main_data/C04689/C302A04689D_cfdna_N295-102/C302A04689D_cfdna.aligned.sorted.markdup.bam | C123T04689D_frfr_N295-450                                                                                  | C302A04689D                                                                                                | 175                                                                                                        | NA                                                                                                         | 15.21875                                                                                                   | 197.8438                                                                                                   | NA                                                                                                         |\n",
       "| C04689                                                                                                     | C303A04689D_cfdna_N295-103                                                                                 | C303A04689D_cfdna.aligned.sorted.markdup.bam                                                               | ../../DerivedData/main_data/C04689/C303A04689D_cfdna_N295-103/C303A04689D_cfdna.aligned.sorted.markdup.bam | C123T04689D_frfr_N295-450                                                                                  | C303A04689D                                                                                                | 267                                                                                                        | NA                                                                                                         | 15.21875                                                                                                   | 197.8438                                                                                                   | NA                                                                                                         |\n",
       "| C04689                                                                                                     | C304A04689D_cfdna_N295-60                                                                                  | C304A04689D_cfdna.aligned.sorted.markdup.bam                                                               | ../../DerivedData/main_data/C04689/C304A04689D_cfdna_N295-60/C304A04689D_cfdna.aligned.sorted.markdup.bam  | C123T04689D_frfr_N295-450                                                                                  | C304A04689D                                                                                                | 362                                                                                                        | NA                                                                                                         | 15.21875                                                                                                   | 197.8438                                                                                                   | NA                                                                                                         |\n",
       "\n"
      ],
      "text/plain": [
       "  patient_id cfDNA_folder              \n",
       "1 C04689     C299A04689D_cfdna_N295-99 \n",
       "2 C04689     C300A04689D_cfdna_N295-100\n",
       "3 C04689     C301A04689D_cfdna_N295-101\n",
       "4 C04689     C302A04689D_cfdna_N295-102\n",
       "5 C04689     C303A04689D_cfdna_N295-103\n",
       "6 C04689     C304A04689D_cfdna_N295-60 \n",
       "  cfDNA_file                                  \n",
       "1 C299A04689D_cfdna.aligned.sorted.markdup.bam\n",
       "2 C300A04689D_cfdna.aligned.sorted.markdup.bam\n",
       "3 C301A04689D_cfdna.aligned.sorted.markdup.bam\n",
       "4 C302A04689D_cfdna.aligned.sorted.markdup.bam\n",
       "5 C303A04689D_cfdna.aligned.sorted.markdup.bam\n",
       "6 C304A04689D_cfdna.aligned.sorted.markdup.bam\n",
       "  cfDNA_bam_path                                                                                            \n",
       "1 ../../DerivedData/main_data/C04689/C299A04689D_cfdna_N295-99/C299A04689D_cfdna.aligned.sorted.markdup.bam \n",
       "2 ../../DerivedData/main_data/C04689/C300A04689D_cfdna_N295-100/C300A04689D_cfdna.aligned.sorted.markdup.bam\n",
       "3 ../../DerivedData/main_data/C04689/C301A04689D_cfdna_N295-101/C301A04689D_cfdna.aligned.sorted.markdup.bam\n",
       "4 ../../DerivedData/main_data/C04689/C302A04689D_cfdna_N295-102/C302A04689D_cfdna.aligned.sorted.markdup.bam\n",
       "5 ../../DerivedData/main_data/C04689/C303A04689D_cfdna_N295-103/C303A04689D_cfdna.aligned.sorted.markdup.bam\n",
       "6 ../../DerivedData/main_data/C04689/C304A04689D_cfdna_N295-60/C304A04689D_cfdna.aligned.sorted.markdup.bam \n",
       "  unique_kmers_folder       sampleID    sample_timepoint_days_since_OP\n",
       "1 C123T04689D_frfr_N295-450 C299A04689D  -1                           \n",
       "2 C123T04689D_frfr_N295-450 C300A04689D  37                           \n",
       "3 C123T04689D_frfr_N295-450 C301A04689D  93                           \n",
       "4 C123T04689D_frfr_N295-450 C302A04689D 175                           \n",
       "5 C123T04689D_frfr_N295-450 C303A04689D 267                           \n",
       "6 C123T04689D_frfr_N295-450 C304A04689D 362                           \n",
       "  time_to_relapse_days adjuvant_chemo_start_days adjuvant_chemo_end_days\n",
       "1 NA                   15.21875                  197.8438               \n",
       "2 NA                   15.21875                  197.8438               \n",
       "3 NA                   15.21875                  197.8438               \n",
       "4 NA                   15.21875                  197.8438               \n",
       "5 NA                   15.21875                  197.8438               \n",
       "6 NA                   15.21875                  197.8438               \n",
       "  pos_neg_samples\n",
       "1  1             \n",
       "2 NA             \n",
       "3 NA             \n",
       "4 NA             \n",
       "5 NA             \n",
       "6 NA             "
      ]
     },
     "metadata": {},
     "output_type": "display_data"
    },
    {
     "data": {
      "text/html": [
       "15"
      ],
      "text/latex": [
       "15"
      ],
      "text/markdown": [
       "15"
      ],
      "text/plain": [
       "[1] 15"
      ]
     },
     "metadata": {},
     "output_type": "display_data"
    },
    {
     "data": {
      "text/html": [
       "20"
      ],
      "text/latex": [
       "20"
      ],
      "text/markdown": [
       "20"
      ],
      "text/plain": [
       "[1] 20"
      ]
     },
     "metadata": {},
     "output_type": "display_data"
    }
   ],
   "source": [
    "# 0 - negative sample (patient is healthy)\n",
    "# 1 - positive sample (patient is sick)\n",
    "res$sample_timepoint_days_since_OP <- as.numeric(res$sample_timepoint_days_since_OP)\n",
    "\n",
    "phase_I_pts = c('C04689', 'C04816', 'C04837', 'C04849', 'C04873', 'C04874', 'C04886', 'C04887', 'C05048', 'C05073', 'C05084', 'C05118', 'C05194', 'C05234', 'C05703')\n",
    "relapse_pt = c('C04849', 'C04874', 'C05084', 'C05118', 'C05234')\n",
    "\n",
    "res_new <- NULL\n",
    "\n",
    "for (ind in phase_I_pts){\n",
    "    res_ind <- res %>% filter(patient_id == ind)\n",
    "    res_ind <- res_ind %>% arrange(sample_timepoint_days_since_OP)\n",
    "    if (ind %in% relapse_pt){\n",
    "        res_ind$pos_neg_samples <- c(1, rep(NA, (nrow(res_ind)-1)))\n",
    "        \n",
    "    } else {\n",
    "        res_ind$pos_neg_samples <- c(1, rep(NA, (nrow(res_ind)-3)), 0, 0)\n",
    "    }\n",
    "    res_new <- rbind(res_new, res_ind)\n",
    "}\n",
    "\n",
    "head(res_new)\n",
    "nrow(res_new %>% filter(pos_neg_samples == 1))\n",
    "nrow(res_new %>% filter(pos_neg_samples == 0))"
   ]
  },
  {
   "cell_type": "code",
   "execution_count": 10,
   "id": "04439a43-12f5-491e-af5e-00135e83f1e2",
   "metadata": {},
   "outputs": [
    {
     "data": {
      "text/html": [
       "<table>\n",
       "<thead><tr><th scope=col>sampleID</th><th scope=col>pos_neg_samples</th></tr></thead>\n",
       "<tbody>\n",
       "\t<tr><td>C299A04689D</td><td> 1         </td></tr>\n",
       "\t<tr><td>C300A04689D</td><td>NA         </td></tr>\n",
       "\t<tr><td>C301A04689D</td><td>NA         </td></tr>\n",
       "\t<tr><td>C302A04689D</td><td>NA         </td></tr>\n",
       "\t<tr><td>C303A04689D</td><td>NA         </td></tr>\n",
       "\t<tr><td>C304A04689D</td><td>NA         </td></tr>\n",
       "</tbody>\n",
       "</table>\n"
      ],
      "text/latex": [
       "\\begin{tabular}{r|ll}\n",
       " sampleID & pos\\_neg\\_samples\\\\\n",
       "\\hline\n",
       "\t C299A04689D &  1         \\\\\n",
       "\t C300A04689D & NA         \\\\\n",
       "\t C301A04689D & NA         \\\\\n",
       "\t C302A04689D & NA         \\\\\n",
       "\t C303A04689D & NA         \\\\\n",
       "\t C304A04689D & NA         \\\\\n",
       "\\end{tabular}\n"
      ],
      "text/markdown": [
       "\n",
       "| sampleID | pos_neg_samples |\n",
       "|---|---|\n",
       "| C299A04689D |  1          |\n",
       "| C300A04689D | NA          |\n",
       "| C301A04689D | NA          |\n",
       "| C302A04689D | NA          |\n",
       "| C303A04689D | NA          |\n",
       "| C304A04689D | NA          |\n",
       "\n"
      ],
      "text/plain": [
       "  sampleID    pos_neg_samples\n",
       "1 C299A04689D  1             \n",
       "2 C300A04689D NA             \n",
       "3 C301A04689D NA             \n",
       "4 C302A04689D NA             \n",
       "5 C303A04689D NA             \n",
       "6 C304A04689D NA             "
      ]
     },
     "metadata": {},
     "output_type": "display_data"
    }
   ],
   "source": [
    "res_new_min <- res_new %>% select(sampleID, pos_neg_samples)\n",
    "head(res_new_min)"
   ]
  },
  {
   "cell_type": "code",
   "execution_count": 11,
   "id": "c96322ac-a924-428d-be20-42acdb82cadb",
   "metadata": {},
   "outputs": [],
   "source": [
    "write.csv(res_new_min, \"../data/metadata/pos_neg_samples_phaseI.csv\", row.names = FALSE)"
   ]
  },
  {
   "cell_type": "code",
   "execution_count": null,
   "id": "1677c5fd-6036-4176-a512-20d45130092a",
   "metadata": {},
   "outputs": [],
   "source": []
  }
 ],
 "metadata": {
  "kernelspec": {
   "display_name": "R",
   "language": "R",
   "name": "ir"
  },
  "language_info": {
   "codemirror_mode": "r",
   "file_extension": ".r",
   "mimetype": "text/x-r-source",
   "name": "R",
   "pygments_lexer": "r",
   "version": "3.6.1"
  }
 },
 "nbformat": 4,
 "nbformat_minor": 5
}
