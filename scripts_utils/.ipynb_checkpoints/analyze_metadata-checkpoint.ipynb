{
 "cells": [
  {
   "cell_type": "code",
   "execution_count": null,
   "id": "585768a0-b723-46bb-aaea-ffe3a632b906",
   "metadata": {},
   "outputs": [],
   "source": [
    "library(tidyverse)"
   ]
  },
  {
   "cell_type": "code",
   "execution_count": null,
   "id": "c764eddf-79d1-4fa4-902b-c357d56ccc3a",
   "metadata": {},
   "outputs": [],
   "source": [
    "clin_data <- read.csv(\"../data/metadata/clin_data/clinical_data_formatted.csv\")\n",
    "head(clin_data)"
   ]
  },
  {
   "cell_type": "code",
   "execution_count": null,
   "id": "07e79da7-1e24-44bf-ae64-5f56c99811c9",
   "metadata": {},
   "outputs": [],
   "source": [
    "relapse <- clin_data %>% select(patient_id, is_relapse..0.no.1.yes.)"
   ]
  },
  {
   "cell_type": "code",
   "execution_count": null,
   "id": "7e47e3ba-2376-4a79-8e15-812c94244e8b",
   "metadata": {},
   "outputs": [],
   "source": [
    "clin_data_phaseI <- clin_data %>% filter(C2i_phase == \"phaseI\")\n",
    "clin_data_phaseII <- clin_data %>% filter(C2i_phase == \"phaseII\")\n",
    "dim(clin_data_phaseI)\n",
    "dim(clin_data_phaseII)"
   ]
  },
  {
   "cell_type": "code",
   "execution_count": null,
   "id": "42045c85-cf75-4e7e-80dc-a804fe3e8f05",
   "metadata": {},
   "outputs": [],
   "source": [
    "dim(clin_data_phaseI %>% filter(is_relapse..0.no.1.yes. == 1))\n",
    "dim(clin_data_phaseI %>% filter(is_relapse..0.no.1.yes. == 0))\n",
    "\n",
    "dim(clin_data_phaseII %>% filter(is_relapse..0.no.1.yes. == 1))\n",
    "dim(clin_data_phaseII %>% filter(is_relapse..0.no.1.yes. == 0))"
   ]
  },
  {
   "cell_type": "code",
   "execution_count": null,
   "id": "f869617d-e982-42e0-975e-64fa58040b09",
   "metadata": {},
   "outputs": [],
   "source": [
    "dim(clin_data_phaseI %>% filter(is_relapse..0.no.1.yes. == 0) %>% filter(gender..0.female.1.male. == 0))\n",
    "dim(clin_data_phaseI %>% filter(is_relapse..0.no.1.yes. == 0) %>% filter(gender..0.female.1.male. == 1))\n",
    "dim(clin_data_phaseI %>% filter(is_relapse..0.no.1.yes. == 1) %>% filter(gender..0.female.1.male. == 0))\n",
    "dim(clin_data_phaseI %>% filter(is_relapse..0.no.1.yes. == 1) %>% filter(gender..0.female.1.male. == 1))"
   ]
  },
  {
   "cell_type": "code",
   "execution_count": null,
   "id": "33fb63e5-2443-429c-b0e5-8c544dd853f2",
   "metadata": {},
   "outputs": [],
   "source": [
    "dim(clin_data_phaseII %>% filter(is_relapse..0.no.1.yes. == 0) %>% filter(gender..0.female.1.male. == 0))\n",
    "dim(clin_data_phaseII %>% filter(is_relapse..0.no.1.yes. == 0) %>% filter(gender..0.female.1.male. == 1))\n",
    "dim(clin_data_phaseII %>% filter(is_relapse..0.no.1.yes. == 1) %>% filter(gender..0.female.1.male. == 0))\n",
    "dim(clin_data_phaseII %>% filter(is_relapse..0.no.1.yes. == 1) %>% filter(gender..0.female.1.male. == 1))"
   ]
  },
  {
   "cell_type": "code",
   "execution_count": null,
   "id": "07c029af-f320-45d6-ba0c-1a4436ca2657",
   "metadata": {},
   "outputs": [],
   "source": [
    "clin_data_phaseI %>% group_by(is_relapse..0.no.1.yes.) %>% summarize(mean_age_at_surgery = mean(age_at_surgery))\n",
    "clin_data_phaseII %>% group_by(is_relapse..0.no.1.yes.) %>% summarize(mean_age_at_surgery = mean(age_at_surgery))"
   ]
  },
  {
   "cell_type": "code",
   "execution_count": null,
   "id": "479fed81-0e80-48f3-9651-4c36b9b5198d",
   "metadata": {},
   "outputs": [],
   "source": [
    "clin_data_phaseI %>% group_by(is_relapse..0.no.1.yes. == 1) %>% summarize(mean_time_to_R = mean(time_to_relapse_days))\n",
    "\n",
    "clin_data_phaseII %>% group_by(is_relapse..0.no.1.yes. == 1) %>% summarize(mean_time_to_R = mean(time_to_relapse_days))"
   ]
  },
  {
   "cell_type": "code",
   "execution_count": null,
   "id": "c19a1d1b-7dde-4d34-9eda-163db97dedae",
   "metadata": {},
   "outputs": [],
   "source": [
    "dim(clin_data_phaseI %>% filter(is_relapse..0.no.1.yes. == 0) %>% filter(!is.na(adjuvant_chemo_start_days)))\n",
    "dim(clin_data_phaseI %>% filter(is_relapse..0.no.1.yes. == 1) %>% filter(!is.na(adjuvant_chemo_start_days)))\n",
    "\n",
    "dim(clin_data_phaseII %>% filter(is_relapse..0.no.1.yes. == 0) %>% filter(!is.na(adjuvant_chemo_start_days)))\n",
    "dim(clin_data_phaseII %>% filter(is_relapse..0.no.1.yes. == 1) %>% filter(!is.na(adjuvant_chemo_start_days)))"
   ]
  },
  {
   "cell_type": "code",
   "execution_count": null,
   "id": "98c06432-003e-44f9-8d78-8700d3a183f3",
   "metadata": {},
   "outputs": [],
   "source": [
    "clin_data_phaseI %>% filter(is_relapse..0.no.1.yes. == 0) %>% filter(!is.na(adjuvant_chemo_start_days)) %>% \n",
    "    summarize(mean_start_chemo = mean(adjuvant_chemo_start_days))\n",
    "clin_data_phaseI %>% filter(is_relapse..0.no.1.yes. == 1) %>% filter(!is.na(adjuvant_chemo_start_days)) %>% \n",
    "    summarize(mean_start_chemo = mean(adjuvant_chemo_start_days))\n",
    "\n",
    "clin_data_phaseII %>% filter(is_relapse..0.no.1.yes. == 0) %>% filter(!is.na(adjuvant_chemo_start_days)) %>% \n",
    "    summarize(mean_start_chemo = mean(adjuvant_chemo_start_days))\n",
    "clin_data_phaseII %>% filter(is_relapse..0.no.1.yes. == 1) %>% filter(!is.na(adjuvant_chemo_start_days)) %>% \n",
    "    summarize(mean_start_chemo = mean(adjuvant_chemo_start_days))"
   ]
  },
  {
   "cell_type": "code",
   "execution_count": null,
   "id": "6137b4b2-f35b-4794-b2b4-9a37dc1303d5",
   "metadata": {},
   "outputs": [],
   "source": [
    "clin_data_phaseI %>% filter(is_relapse..0.no.1.yes. == 0) %>% filter(!is.na(adjuvant_chemo_end_days)) %>% \n",
    "    summarize(mean_end_chemo = mean(adjuvant_chemo_end_days))\n",
    "clin_data_phaseI %>% filter(is_relapse..0.no.1.yes. == 1) %>% filter(!is.na(adjuvant_chemo_end_days)) %>% \n",
    "    summarize(mean_end_chemo = mean(adjuvant_chemo_end_days))\n",
    "\n",
    "clin_data_phaseII %>% filter(is_relapse..0.no.1.yes. == 0) %>% filter(!is.na(adjuvant_chemo_end_days)) %>% \n",
    "    summarize(mean_end_chemo = mean(adjuvant_chemo_end_days))\n",
    "clin_data_phaseII %>% filter(is_relapse..0.no.1.yes. == 1) %>% filter(!is.na(adjuvant_chemo_end_days)) %>% \n",
    "    summarize(mean_end_chemo = mean(adjuvant_chemo_end_days))"
   ]
  },
  {
   "cell_type": "code",
   "execution_count": null,
   "id": "ed365533-7411-4504-b033-facd5443e086",
   "metadata": {},
   "outputs": [],
   "source": [
    "phaseIpt <- read.csv(\"../phaseI_pt.csv\", header=FALSE)\n",
    "phaseIpt <- as.character(unlist(c(phaseIpt[1,])))"
   ]
  },
  {
   "cell_type": "code",
   "execution_count": null,
   "id": "9bdfc719-64de-4d9c-902c-73d8fda3d5bd",
   "metadata": {},
   "outputs": [],
   "source": [
    "cfDNA_times <- read.csv(\"../data/metadata/clin_data/sample_timepoint_formatted.csv\")\n",
    "dim(cfDNA_times)\n",
    "cfDNA_times <- inner_join(cfDNA_times, relapse)\n",
    "head(cfDNA_times)\n",
    "dim(cfDNA_times)"
   ]
  },
  {
   "cell_type": "code",
   "execution_count": null,
   "id": "4b1a7806-ba85-40fa-98a6-2066f4f30b4f",
   "metadata": {},
   "outputs": [],
   "source": [
    "cfDNA_times_phaseI <- cfDNA_times %>% filter(phase == \"phaseI\")\n",
    "cfDNA_times_phaseII <- cfDNA_times %>% filter(phase == \"phaseII\")\n",
    "dim(cfDNA_times_phaseI)\n",
    "dim(cfDNA_times_phaseII)"
   ]
  },
  {
   "cell_type": "code",
   "execution_count": null,
   "id": "2e29982f-2169-49a9-a7f2-18912ede33c1",
   "metadata": {},
   "outputs": [],
   "source": [
    "cfDNA_times_phaseI %>% group_by(is_relapse..0.no.1.yes.) %>% summarize(n = n()) %>% arrange(n)\n",
    "\n",
    "cfDNA_times_phaseII %>% group_by(is_relapse..0.no.1.yes.) %>% summarize(n = n()) %>% arrange(n)"
   ]
  },
  {
   "cell_type": "code",
   "execution_count": null,
   "id": "068ad134-c41e-4c69-a3a9-b668166d6cd7",
   "metadata": {},
   "outputs": [],
   "source": [
    "cfDNA_times_phaseI %>% group_by(is_relapse..0.no.1.yes.) %>% summarize(min_time = min(sample_timepoint_days_since_OP))\n",
    "cfDNA_times_phaseI %>% group_by(is_relapse..0.no.1.yes.) %>% summarize(max_time = max(sample_timepoint_days_since_OP))"
   ]
  },
  {
   "cell_type": "code",
   "execution_count": null,
   "id": "8c50f9b5-7b43-42d9-acbc-cb61b461865c",
   "metadata": {},
   "outputs": [],
   "source": [
    "cfDNA_times_phaseII %>% group_by(is_relapse..0.no.1.yes.) %>% summarize(min_time = min(sample_timepoint_days_since_OP))\n",
    "cfDNA_times_phaseII %>% group_by(is_relapse..0.no.1.yes.) %>% summarize(max_time = max(sample_timepoint_days_since_OP))"
   ]
  },
  {
   "cell_type": "code",
   "execution_count": null,
   "id": "dbd787f0-ead8-4566-94ac-63bd3966e46b",
   "metadata": {},
   "outputs": [],
   "source": [
    "cfDNA_times_phaseI %>% filter(is_relapse..0.no.1.yes. == 0) %>% group_by(patient_id) %>% summarize(n = n()) %>% arrange(n)\n",
    "cfDNA_times_phaseI %>% filter(is_relapse..0.no.1.yes. == 1) %>% group_by(patient_id) %>% summarize(n = n()) %>% arrange(n)"
   ]
  },
  {
   "cell_type": "code",
   "execution_count": null,
   "id": "1f7357a4-4cfc-40a4-b42c-28dc923f110a",
   "metadata": {},
   "outputs": [],
   "source": [
    "cfDNA_times_phaseII %>% filter(is_relapse..0.no.1.yes. == 0) %>% group_by(patient_id) %>% summarize(n = n()) %>% arrange(n)\n",
    "cfDNA_times_phaseII %>% filter(is_relapse..0.no.1.yes. == 1) %>% group_by(patient_id) %>% summarize(n = n()) %>% arrange(n)"
   ]
  },
  {
   "cell_type": "code",
   "execution_count": null,
   "id": "e3952f6f-dbc1-4a70-a4bf-0937517f81cd",
   "metadata": {},
   "outputs": [],
   "source": [
    "cfDNA_times_phaseI %>% filter(is_relapse..0.no.1.yes. == 0) %>% group_by(patient_id) %>% summarize(n = n()) %>% arrange(n) %>% summarize(mean_n = mean(n))\n",
    "cfDNA_times_phaseI %>% filter(is_relapse..0.no.1.yes. == 1) %>% group_by(patient_id) %>% summarize(n = n()) %>% arrange(n) %>% summarize(mean_n = mean(n))"
   ]
  },
  {
   "cell_type": "code",
   "execution_count": null,
   "id": "8bb6ffc2-a6f2-47a7-b80c-a17aad385aec",
   "metadata": {},
   "outputs": [],
   "source": [
    "cfDNA_times_phaseII %>% filter(is_relapse..0.no.1.yes. == 0) %>% group_by(patient_id) %>% summarize(n = n()) %>% arrange(n) %>% summarize(mean_n = mean(n))\n",
    "cfDNA_times_phaseII %>% filter(is_relapse..0.no.1.yes. == 1) %>% group_by(patient_id) %>% summarize(n = n()) %>% arrange(n) %>% summarize(mean_n = mean(n))"
   ]
  },
  {
   "cell_type": "code",
   "execution_count": null,
   "id": "b5b04948-7f01-4911-a752-57b0ed3e73a0",
   "metadata": {},
   "outputs": [],
   "source": [
    "coverages_phaseI <- read.csv(\"../data/coverages_phaseI.csv\")\n",
    "\n",
    "coverages_phaseI <- tibble(pt_id = patient, tumor_median = tumor_median, germline_median = germline_median)\n",
    "head(coverages_phaseI)"
   ]
  },
  {
   "cell_type": "code",
   "execution_count": null,
   "id": "8f1d5835-2000-407c-9005-111be39e2ff7",
   "metadata": {},
   "outputs": [],
   "source": [
    "phaseIpt_R <- read.csv(\"../phaseI_pt_R.csv\", header=FALSE)\n",
    "phaseIpt_R <- as.character(unlist(c(phaseIpt_R[1,])))"
   ]
  },
  {
   "cell_type": "code",
   "execution_count": null,
   "id": "e1e23f4c-9699-4fd2-9315-e17937716cee",
   "metadata": {},
   "outputs": [],
   "source": [
    "options(warn=-1)\n",
    "options(repr.plot.width=20, repr.plot.height=8)\n",
    "a <- ifelse(coverages_phaseI$pt_id %in% phaseIpt_R, \"red\", \"darkblue\")\n",
    "\n",
    "ggplot(coverages_phaseI) + geom_col(aes(x = pt_id, y = tumor_median), fill = \"darkgrey\") +\n",
    "    theme_minimal()  + \n",
    "    theme(axis.text.x = element_text(colour = a))+ \n",
    "    theme(text = element_text(size = 20))+\n",
    "    ylab(\"Median coverage tumor\") + xlab(\"\")"
   ]
  },
  {
   "cell_type": "code",
   "execution_count": null,
   "id": "56ceaa4c-4073-4899-87c0-6fc84122be47",
   "metadata": {},
   "outputs": [],
   "source": [
    "ggplot(coverages_phaseI) + geom_col(aes(x = pt_id, y = germline_median), fill = \"darkgrey\") +\n",
    "    theme_minimal()  + \n",
    "    theme(axis.text.x = element_text(colour = a))+ \n",
    "    \n",
    "    theme(text = element_text(size = 20))+\n",
    "    ylab(\"Median coverage germline\") + xlab(\"\")"
   ]
  },
  {
   "cell_type": "code",
   "execution_count": null,
   "id": "1ba158e5-970d-44b9-a993-93f584af368d",
   "metadata": {},
   "outputs": [],
   "source": [
    "coverages_phaseII <- read.csv(\"../data/metadata/paramspace_phaseII_wcoverages.csv\") %>% select(pt_id, germline_coverage, tumor_coverage)\n",
    "head(coverages_phaseII)\n",
    "\n",
    "coverages_phaseII$pt_id <- as.character(coverages_phaseII$pt_id)\n",
    "str(coverages_phaseII)\n",
    "dim(coverages_phaseII)"
   ]
  },
  {
   "cell_type": "code",
   "execution_count": null,
   "id": "37ffff13-375b-4656-8f0f-efe65718e85e",
   "metadata": {},
   "outputs": [],
   "source": [
    "exclude3 <- read.csv(\"../phase2_exclude3.csv\", header=FALSE)\n",
    "exclude3 <- as.character(unlist(c(exclude3[1,])))"
   ]
  },
  {
   "cell_type": "code",
   "execution_count": null,
   "id": "32f626f7-6764-4963-b8c2-dbfe0411ddba",
   "metadata": {},
   "outputs": [],
   "source": [
    "coverages_phaseII <- coverages_phaseII %>% filter(!pt_id %in% exclude3) %>% mutate(tick_l_y_end = ifelse(!pt_id %in% coverages_phaseII$pt_id[seq(1, length(coverages_phaseII$pt_id), 2)], -2.9, -0.5))\n",
    "coverages_phaseII <- coverages_phaseII %>% filter(!pt_id %in% exclude3) %>% mutate(tick_l_y_end_tumor = ifelse(!pt_id %in% coverages_phaseII$pt_id[seq(1, length(coverages_phaseII$pt_id), 2)], -5.2, -0.8))\n",
    "head(coverages_phaseII)"
   ]
  },
  {
   "cell_type": "code",
   "execution_count": null,
   "id": "1f10e241-6631-46c1-8636-d97018c33651",
   "metadata": {},
   "outputs": [],
   "source": [
    "options(repr.plot.width=14, repr.plot.height=18)\n",
    "\n",
    "ggplot(coverages_phaseII, aes(x = pt_id, y = germline_coverage)) + geom_col(fill = \"darkgrey\") +\n",
    "    geom_linerange(data = coverages_phaseII, aes(x=pt_id, ymax=-0.1, ymin=tick_l_y_end), # The custom tickmarks\n",
    "                 size=0.8,\n",
    "                 inherit.aes = F) + \n",
    "    guides(y = guide_axis_manual(n.dodge = 2)) + \n",
    "    theme_minimal()  + \n",
    "    theme(text = element_text(size = 16),\n",
    "          axis.text.x = element_text(angle = 0, color = \"black\"))+\n",
    "    ylab(\"Median coverage germline\") + xlab(\"\") + scale_y_continuous(expand = c(0, 0), breaks = c(0, 10, 20, 30, 40)) + \n",
    "    coord_flip(clip='off', ylim = c(-0.4, 45)) \n",
    "    \n"
   ]
  },
  {
   "cell_type": "code",
   "execution_count": null,
   "id": "68747f82-8583-48ef-9856-4bb78c4afe49",
   "metadata": {},
   "outputs": [],
   "source": [
    "ggplot(coverages_phaseII) + geom_col(aes(x = pt_id, y = tumor_coverage), fill = \"darkgrey\") +\n",
    "    geom_linerange(data = coverages_phaseII, aes(x=pt_id, ymax=-0.1, ymin=tick_l_y_end_tumor), # The custom tickmarks\n",
    "                 size=0.8,\n",
    "                 inherit.aes = F) + \n",
    "    guides(y = guide_axis_manual(n.dodge = 2)) + \n",
    "    theme_minimal()  + \n",
    "    theme(text = element_text(size = 16),\n",
    "          axis.text.x = element_text(angle = 0, color = \"black\"))+\n",
    "    ylab(\"Median coverage tumor\") + xlab(\"\") + scale_y_continuous(expand = c(0, 0)) + \n",
    "    coord_flip(clip='off', ylim = c(-0.4, 90)) "
   ]
  },
  {
   "cell_type": "code",
   "execution_count": null,
   "id": "7f49bddc-3081-4c55-bffb-0126199cda2f",
   "metadata": {},
   "outputs": [],
   "source": []
  },
  {
   "cell_type": "code",
   "execution_count": null,
   "id": "e62ccffb-800f-4e7d-9ac7-1dffda37d50c",
   "metadata": {},
   "outputs": [],
   "source": []
  }
 ],
 "metadata": {
  "kernelspec": {
   "display_name": "R",
   "language": "R",
   "name": "ir"
  },
  "language_info": {
   "codemirror_mode": "r",
   "file_extension": ".r",
   "mimetype": "text/x-r-source",
   "name": "R",
   "pygments_lexer": "r",
   "version": "3.6.1"
  }
 },
 "nbformat": 4,
 "nbformat_minor": 5
}
