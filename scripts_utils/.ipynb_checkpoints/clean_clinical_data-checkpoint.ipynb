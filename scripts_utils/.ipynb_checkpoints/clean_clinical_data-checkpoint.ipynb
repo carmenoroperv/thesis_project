{
 "cells": [
  {
   "cell_type": "code",
   "execution_count": null,
   "id": "238bf01a-2f5e-4757-85e5-47b9719be834",
   "metadata": {},
   "outputs": [],
   "source": [
    "library(tidyverse)"
   ]
  },
  {
   "cell_type": "code",
   "execution_count": null,
   "id": "1b8ba6d8-ca3a-4d42-a171-d8bdc0b093ff",
   "metadata": {},
   "outputs": [],
   "source": [
    "clinical = read.csv(\"../data/metadata/clin_data/clinical_data.csv\")\n",
    "sample_timepoint = read.csv(\"../data/metadata/clin_data/sample_timepoint.csv\")\n",
    "imaging = read.csv(\"../data/metadata/clin_data/imaging.csv\")\n",
    "intervention = read.csv(\"../data/metadata/clin_data/intervention.csv\")\n",
    "\n",
    "sampleID_map = read.csv(\"../data/metadata/clin_data/C2i_MOMA_Samples_match_final.csv\")"
   ]
  },
  {
   "cell_type": "code",
   "execution_count": null,
   "id": "14cc4f45-c1fd-451f-989c-bed3dcb889ca",
   "metadata": {},
   "outputs": [],
   "source": [
    "dim(sampleID_map)\n",
    "sampleID_map <- sampleID_map %>% distinct()\n",
    "dim(sampleID_map)"
   ]
  },
  {
   "cell_type": "code",
   "execution_count": null,
   "id": "78e849cc-97d9-4a7e-9264-b7e33e8da6a8",
   "metadata": {},
   "outputs": [],
   "source": [
    "head(sampleID_map)"
   ]
  },
  {
   "cell_type": "code",
   "execution_count": null,
   "id": "7c267e8a-e94b-45f0-a8d4-55a8cac3e463",
   "metadata": {},
   "outputs": [],
   "source": [
    "clinical = clinical %>% mutate(patient_id = paste(\"C0\", biobankID, sep = \"\"))\n",
    "clinical <- mutate(clinical, time_to_relapse_days = time_to_relapse_months*365.25/12)\n",
    "clinical <- mutate(clinical, adjuvant_chemo_start_days = adjuvant_chemo_start_months*365.25/12)\n",
    "clinical <- mutate(clinical, adjuvant_chemo_end_days = adjuvant_chemo_end_months*365.25/12)\n",
    "head(clinical)"
   ]
  },
  {
   "cell_type": "code",
   "execution_count": null,
   "id": "d7a53618-38ac-4b7a-8dc6-aae0a80f8f6b",
   "metadata": {
    "tags": []
   },
   "outputs": [],
   "source": [
    "sample_timepoint = sample_timepoint %>% mutate(patient_id = paste(\"C0\", biobankID, sep = \"\"))\n",
    "\n",
    "sample_timepoint$sampleID <- as.character(sample_timepoint$sampleID)\n",
    "sampleID_map$sampleID_C2i <- as.character(sampleID_map$sampleID_C2i)\n",
    "sampleID_map$sampleID_MOMA <- as.character(sampleID_map$sampleID_MOMA)\n",
    "sample_timepoint[\"sampleID_MOMA\"] = NA\n",
    "\n",
    "i = 0\n",
    "for (row in 1:nrow(sample_timepoint)){\n",
    "    sampleID = sample_timepoint[row, \"sampleID\"]\n",
    "    print(sampleID)\n",
    "    if (!(sampleID %in% sampleID_map$sampleID_MOMA) & !(sampleID %in% sampleID_map$sampleID_C2i)){\n",
    "        print(\"HERE\")\n",
    "        sample_timepoint[row, \"sampleID_MOMA\"] = sampleID\n",
    "    } else if (sampleID %in% sampleID_map$sampleID_MOMA) {\n",
    "        print(\"HERE2\")\n",
    "        sample_timepoint[row, \"sampleID_MOMA\"] = sampleID\n",
    "    } else if (sampleID %in% sampleID_map$sampleID_C2i) {\n",
    "        print(\"HERE3\")\n",
    "        #print(which(sampleID_map$sampleID_C2i == sampleID))\n",
    "        ind <- which(sampleID_map$sampleID_C2i == sampleID)\n",
    "        print(\"original sampleID\")\n",
    "        print(sampleID)\n",
    "        print(ind)\n",
    "        print(sampleID_map[ind, \"sampleID_MOMA\"])\n",
    "        if (ind[1] != \"na\" || ind[1] != NA){\n",
    "            sample_timepoint[row, \"sampleID_MOMA\"] = sampleID_map[ind[1], \"sampleID_MOMA\"]\n",
    "        } else {\n",
    "            sample_timepoint[row, \"sampleID_MOMA\"] = sampleID_map[ind[2], \"sampleID_MOMA\"]\n",
    "        }\n",
    "        i = i + 1\n",
    "    }\n",
    "}\n",
    "\n",
    "print(i)\n",
    "\n",
    "\n",
    "sample_timepoint <- sample_timepoint %>% select(-sampleID)\n",
    "sample_timepoint  <- sample_timepoint %>% rename(sampleID = sampleID_MOMA)\n",
    "head(sample_timepoint)"
   ]
  },
  {
   "cell_type": "code",
   "execution_count": null,
   "id": "85b9b5c5-3215-44a9-acd8-223588f25eaa",
   "metadata": {},
   "outputs": [],
   "source": [
    "sample_timepoint %>% filter(is.na(sampleID))"
   ]
  },
  {
   "cell_type": "code",
   "execution_count": null,
   "id": "92bc1ec5-b8da-43f4-a162-28623a01b1a1",
   "metadata": {},
   "outputs": [],
   "source": [
    "imaging = imaging %>% mutate(patient_id = paste(\"C0\", biobankID, sep = \"\"))\n",
    "head(imaging)"
   ]
  },
  {
   "cell_type": "code",
   "execution_count": null,
   "id": "938d81b2-f03d-488d-b21d-889eebb7ae2e",
   "metadata": {},
   "outputs": [],
   "source": [
    "intervention = intervention %>% mutate(patient_id = paste(\"C0\", biobankID, sep = \"\"))\n",
    "intervention <- intervention %>% mutate(intervention_start_days = intervention_start_months*365.25/12, \n",
    "                                          intervention_end_days = intervention_end_months*365.25/12)\n",
    "head(intervention)"
   ]
  },
  {
   "cell_type": "code",
   "execution_count": null,
   "id": "6d3b239e-ea73-498c-8576-02cca933f54e",
   "metadata": {},
   "outputs": [],
   "source": [
    "write.csv(clinical, \"../data/metadata/clin_data/clinical_data_formatted.csv\", row.names = FALSE)\n",
    "write.csv(sample_timepoint, \"../data/metadata/clin_data/sample_timepoint_formatted.csv\", row.names = FALSE)\n",
    "write.csv(imaging, \"../data/metadata/clin_data/imaging_formatted.csv\", row.names = FALSE)\n",
    "write.csv(intervention, \"../data/metadata/clin_data/intervention_formatted.csv\", row.names = FALSE)"
   ]
  },
  {
   "cell_type": "code",
   "execution_count": null,
   "id": "14b85fcb-0f4c-4407-afac-356eec1b2eac",
   "metadata": {},
   "outputs": [],
   "source": [
    "\n"
   ]
  },
  {
   "cell_type": "code",
   "execution_count": null,
   "id": "781f0fb5-a8f2-4fdf-ac90-b956ac1c5663",
   "metadata": {},
   "outputs": [],
   "source": []
  }
 ],
 "metadata": {
  "kernelspec": {
   "display_name": "R",
   "language": "R",
   "name": "ir"
  },
  "language_info": {
   "codemirror_mode": "r",
   "file_extension": ".r",
   "mimetype": "text/x-r-source",
   "name": "R",
   "pygments_lexer": "r",
   "version": "3.6.1"
  }
 },
 "nbformat": 4,
 "nbformat_minor": 5
}
