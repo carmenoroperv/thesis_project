{
 "cells": [
  {
   "cell_type": "code",
   "execution_count": null,
   "id": "dafd8af4-dc48-499e-8d06-2c12a5b5c8b9",
   "metadata": {},
   "outputs": [],
   "source": [
    "library(tidyverse)"
   ]
  },
  {
   "cell_type": "code",
   "execution_count": null,
   "id": "f456dd5b-ec84-4ce4-9637-c23c5b69a3a0",
   "metadata": {},
   "outputs": [],
   "source": [
    "filetype = \"ratio\"\n",
    "\n",
    "input_folder = \"final_pipeline_NEW\"\n",
    "input_phase <- \"phaseII\""
   ]
  },
  {
   "cell_type": "code",
   "execution_count": null,
   "id": "354bebe7-c28c-49d3-9369-3689337256cb",
   "metadata": {},
   "outputs": [],
   "source": [
    "paramspace = read.csv(\"../data/metadata/paramspace_cfDNA_phaseII_missing_removed.csv\")\n",
    "\n",
    "\n",
    "paramspace  <- paramspace %>% rename(patient_id = pt_id)"
   ]
  },
  {
   "cell_type": "code",
   "execution_count": null,
   "id": "c0f26b0f-b229-488e-bd99-77b953a9c352",
   "metadata": {},
   "outputs": [],
   "source": [
    "head(paramspace)"
   ]
  },
  {
   "cell_type": "code",
   "execution_count": null,
   "id": "4b5e9fb9-fdd6-41ff-a00d-3e7c10787fb1",
   "metadata": {},
   "outputs": [],
   "source": [
    "\n",
    "\n",
    "phase2ptex <- read.csv(\"../phase2_exclude3.csv\", header=FALSE)\n",
    "phase2ptex <- as.character(unlist(c(phase2ptex[1,])))\n",
    "\n",
    "paramspace <- paramspace %>% filter(!patient_id %in% phase2ptex)\n",
    "\n"
   ]
  },
  {
   "cell_type": "code",
   "execution_count": null,
   "id": "d81bfc40-2911-4f5a-ade2-300ed4c74a25",
   "metadata": {},
   "outputs": [],
   "source": [
    "SAMPLES = paramspace[\"patient_id\"]\n",
    "FOLDERS = paramspace[\"cfDNA_folder\"]"
   ]
  },
  {
   "cell_type": "code",
   "execution_count": null,
   "id": "8eb5f738-f76c-4e8c-a1be-c8c3bc437d33",
   "metadata": {},
   "outputs": [],
   "source": [
    "nrow(paramspace)"
   ]
  },
  {
   "cell_type": "code",
   "execution_count": null,
   "id": "fd3e7e87-77ce-44f7-b823-194396cc4a5a",
   "metadata": {
    "tags": []
   },
   "outputs": [],
   "source": [
    "c2i_res <- read.csv(\"../data/metadata/clin_data/c2i_res.csv\")\n",
    "head(c2i_res)\n",
    "c2i_res$Sample.ID <- as.character(c2i_res$Sample.ID)\n",
    "c2i_res$C2.Test <- as.character(c2i_res$C2.Test)\n",
    "c2i_res <- c2i_res %>% mutate(patient_id = paste0(\"C0\", Subject.ID), sampleID = substr(Sample.ID,1,nchar(Sample.ID)-6)) %>%\n",
    "    select(patient_id, sampleID, C2.Test, Tumor.Fraction)\n",
    "c2i_res$patient_id <- as.character(c2i_res$patient_id) \n",
    "\n",
    "c2i_res <- c2i_res %>% filter(patient_id %in% unique(paramspace$patient_id))\n",
    "head(c2i_res)\n",
    "str(c2i_res)\n",
    "dim(c2i_res)"
   ]
  },
  {
   "cell_type": "code",
   "execution_count": null,
   "id": "ecbc7f2d-b450-47b6-a8f4-dbbfed6bf789",
   "metadata": {},
   "outputs": [],
   "source": [
    "#paramspace[\"big_ratio\"] <- NA\n",
    "#paramspace[\"big_ratio_CI_lower\"] <- NA\n",
    "#paramspace[\"big_ratio_CI_upper\"] <- NA\n",
    "\n",
    "paramspace[\"small_ratio\"] <- NA\n",
    "paramspace[\"small_ratio_CI_lower\"] <- NA\n",
    "paramspace[\"small_ratio_CI_upper\"] <- NA\n",
    "\n",
    "for (row in 1:nrow(paramspace)){\n",
    "    pt = paramspace[row, \"patient_id\"]\n",
    "    #print(pt)\n",
    "    fd = paramspace[row, \"cfDNA_folder\"]\n",
    "    #big_r = read.csv(paste(\"../data/\", pt, \"/\" , fd, \"/\", input_folder, \"/\", \"big_\", filetype, \".csv\", sep = \"\"))\n",
    "    #small_r = read.csv(paste(\"../data/phase_II_patients/\", pt, \"/\", fd, \"/\", input_folder, \"/\", \"small_\", filetype, \".csv\", sep = \"\"))\n",
    "    small_r = read.csv(paste(\"../data/phase_II_patients/\", pt, \"/\", fd, \"/\", input_folder, \"/\", \"small_\", filetype, \".csv\", sep = \"\"))\n",
    "    #paramspace[row, \"big_ratio\"] = big_r$ratio\n",
    "    #paramspace[row, \"big_ratio_CI_lower\"] = big_r$lower_CI\n",
    "    #paramspace[row, \"big_ratio_CI_upper\"] = big_r$upper_CI\n",
    "    \n",
    "    paramspace[row, \"small_ratio\"] = small_r$ratio\n",
    "    paramspace[row, \"small_ratio_CI_lower\"] = small_r$lower_CI\n",
    "    paramspace[row, \"small_ratio_CI_upper\"] = small_r$upper_CI\n",
    "}"
   ]
  },
  {
   "cell_type": "code",
   "execution_count": null,
   "id": "08e10ced-ff1d-4ded-97b4-6c2fe48fdb8d",
   "metadata": {},
   "outputs": [],
   "source": [
    "res <- paramspace"
   ]
  },
  {
   "cell_type": "code",
   "execution_count": null,
   "id": "76afa4b9-2973-4a54-b22c-96ab2516ce6c",
   "metadata": {},
   "outputs": [],
   "source": [
    "res <- res %>% \n",
    "  mutate(tmp_chunks = stringr::str_split(cfDNA_folder, stringr::fixed(\"_\"),  n = 3)) %>%\n",
    "  mutate(sampleID = map_chr(tmp_chunks, 1),\n",
    "         sub_value = map_chr(tmp_chunks, 2), \n",
    "         sub_val = map_chr(tmp_chunks, 3)) %>%\n",
    "  select(-c(tmp_chunks, sub_value, sub_val))\n",
    "\n",
    "head(res)\n",
    "dim(res)"
   ]
  },
  {
   "cell_type": "code",
   "execution_count": null,
   "id": "a7debacc-2970-4d5c-afa9-b7bea58aa179",
   "metadata": {},
   "outputs": [],
   "source": [
    "sample_timepoint <- read.csv(\"../data/metadata/clin_data/sample_timepoint_formatted.csv\")"
   ]
  },
  {
   "cell_type": "code",
   "execution_count": null,
   "id": "1f938644-a4f4-428c-9034-ff3f389f77b4",
   "metadata": {},
   "outputs": [],
   "source": [
    "head(sample_timepoint)\n",
    "sample_timepoint_days <- sample_timepoint %>% filter(phase == input_phase)\n",
    "sample_timepoint_days <- sample_timepoint_days %>% select(sampleID, sample_timepoint_days_since_OP)\n",
    "sample_timepoint_days %>% filter(is.na(sample_timepoint_days_since_OP))\n",
    "dim(sample_timepoint_days)\n",
    "head(sample_timepoint_days)"
   ]
  },
  {
   "cell_type": "code",
   "execution_count": null,
   "id": "9706daf1-83b2-4001-84cc-574c425bcc54",
   "metadata": {},
   "outputs": [],
   "source": [
    "res$sampleID <- as.character(res$sampleID)\n",
    "res <- left_join(res, sample_timepoint_days, by = c(\"sampleID\"))\n",
    "head(res)\n",
    "dim(res)"
   ]
  },
  {
   "cell_type": "code",
   "execution_count": null,
   "id": "ab9ea318-5aca-4880-ae98-d5cf70f2e150",
   "metadata": {},
   "outputs": [],
   "source": [
    "clinical_data <- read.csv(\"../data/metadata/clin_data/clinical_data_formatted.csv\")\n",
    "clinical_data_relapse <- clinical_data %>% select(patient_id, time_to_relapse_days, adjuvant_chemo_start_days, adjuvant_chemo_end_days)\n",
    "head(clinical_data_relapse)"
   ]
  },
  {
   "cell_type": "code",
   "execution_count": null,
   "id": "980eff8b-27b2-4b84-967c-15a65417d7f7",
   "metadata": {},
   "outputs": [],
   "source": [
    "res <-left_join(res, clinical_data_relapse, by=\"patient_id\")\n",
    "head(res)\n",
    "dim(res)"
   ]
  },
  {
   "cell_type": "code",
   "execution_count": null,
   "id": "2da83c49-16ea-4dcb-9342-3497b9449de7",
   "metadata": {},
   "outputs": [],
   "source": [
    "res_plot <- res %>% select(patient_id, cfDNA_folder, sampleID, small_ratio, sample_timepoint_days_since_OP, time_to_relapse_days)\n",
    "dim(res_plot)\n",
    "str(res_plot)"
   ]
  },
  {
   "cell_type": "code",
   "execution_count": null,
   "id": "86f12dfa-e35e-4fa9-97b3-61b49b768c3e",
   "metadata": {},
   "outputs": [],
   "source": [
    "normalized_res_intervention <- data.frame(matrix(ncol = 8, nrow = 0))\n",
    "colnames(normalized_res_intervention) <- c(\"patient_id\", \"cfDNA_folder\", \"sampleID\", \"small_ratio\", \"sample_timepoint_days_since_OP\", \"time_to_relapse_days\",\"small_ratio_normalized_preop\", \"small_ratio_normalized_postop\")"
   ]
  },
  {
   "cell_type": "code",
   "execution_count": null,
   "id": "79af761a-42be-476b-9644-78685099bab2",
   "metadata": {},
   "outputs": [],
   "source": [
    "patients = as.character(unique(res_plot$patient_id))\n",
    "normalized_res_intervention <- NULL\n",
    "\n",
    "for (i in patients){\n",
    "    res_pt <- res_plot %>% filter(patient_id == i)\n",
    "    \n",
    "    first_sample <- min(res_pt$sample_timepoint_days_since_OP)\n",
    "    without_first_sample <- res_pt %>% filter(sample_timepoint_days_since_OP != first_sample)\n",
    "    post_op_sample <- min(without_first_sample$sample_timepoint_days_since_OP)\n",
    "    \n",
    "    pre_val_small_pre <- res_pt$small_ratio[which(res_pt$sample_timepoint_days_since_OP == first_sample)]\n",
    "    pre_val_small_post <- res_pt$small_ratio[which(res_pt$sample_timepoint_days_since_OP == post_op_sample)]\n",
    "    res_pt <- res_pt %>% mutate(small_ratio_normalized_preop = small_ratio/pre_val_small_pre, small_ratio_normalized_postop = small_ratio/pre_val_small_post)\n",
    "    normalized_res_intervention <- rbind(normalized_res_intervention, res_pt)   \n",
    "}\n",
    "\n",
    "normalized_res_intervention <- normalized_res_intervention %>% mutate(small_ratio_normalized_postop_log = log10(small_ratio_normalized_postop), relapse_status_pred = ifelse(small_ratio_normalized_postop_log > 0.5, \"D\", \"ND\"))\n",
    "head(normalized_res_intervention)"
   ]
  },
  {
   "cell_type": "code",
   "execution_count": null,
   "id": "fe8decd1-f626-4a6a-bd04-c83c2cf06314",
   "metadata": {},
   "outputs": [],
   "source": [
    "relapse <- read.csv(\"../data/metadata/clin_data//clinical_data_formatted.csv\")\n",
    "relapse <- relapse %>% filter(C2i_phase == input_phase) %>% select(patient_id, is_relapse..0.no.1.yes., time_to_relapse_days)\n",
    "relapse_label <- relapse %>% mutate(Relapse_label = ifelse(is_relapse..0.no.1.yes. == 0, \"No_relapse\", \"Relapse\")) %>% select(patient_id, Relapse_label)\n",
    "head(relapse_label)"
   ]
  },
  {
   "cell_type": "code",
   "execution_count": null,
   "id": "bead1379-b443-4303-8f13-adc7144d7935",
   "metadata": {},
   "outputs": [],
   "source": [
    "dim(normalized_res_intervention)\n",
    "normalized_res_intervention <- left_join(normalized_res_intervention, relapse_label, by = \"patient_id\")\n",
    "head(normalized_res_intervention)\n",
    "dim(normalized_res_intervention)\n",
    "str(normalized_res_intervention)"
   ]
  },
  {
   "cell_type": "markdown",
   "id": "e12cfb89-7e4a-4dca-8da3-b28dfe94ce20",
   "metadata": {},
   "source": [
    "# Imaging based"
   ]
  },
  {
   "cell_type": "code",
   "execution_count": null,
   "id": "cd729c58-13aa-4a31-bda9-2419bf858ffa",
   "metadata": {},
   "outputs": [],
   "source": [
    "length(unique(normalized_res_intervention$patient_id))"
   ]
  },
  {
   "cell_type": "code",
   "execution_count": null,
   "id": "0ef0e26d-d4ce-4a77-9741-9b6fe5421490",
   "metadata": {},
   "outputs": [],
   "source": [
    "normalized_res_intervention$Relapse_label <- as.character(normalized_res_intervention$Relapse_label)\n",
    "normalized_res_intervention <- normalized_res_intervention %>% filter(!patient_id %in% phase2ptex)\n",
    "truth <- normalized_res_intervention %>% filter(Relapse_label == \"Relapse\")\n",
    "truth$patient_id <- as.character(truth$patient_id)\n",
    "unique(truth$patient_id)"
   ]
  },
  {
   "cell_type": "code",
   "execution_count": null,
   "id": "5fc50f23-b929-4757-bba9-2fe75eec5907",
   "metadata": {},
   "outputs": [],
   "source": [
    "normalized_res_intervention$Relapse_label <- as.character(normalized_res_intervention$Relapse_label)\n",
    "truth_nor <- normalized_res_intervention %>% filter(Relapse_label == \"No_relapse\")\n",
    "truth_nor$patient_id <- as.character(truth_nor$patient_id)\n",
    "unique(truth_nor$patient_id)"
   ]
  },
  {
   "cell_type": "code",
   "execution_count": null,
   "id": "b918e315-1e42-4bd0-862e-54c048752a49",
   "metadata": {},
   "outputs": [],
   "source": [
    "normalized_res_intervention %>% filter(Relapse_label == \"Relapse\") %>% filter(!patient_id %in% phase2ptex) %>%  group_by(patient_id) %>%\n",
    "    summarize(time_to_relapse_imaging = min(time_to_relapse_days))"
   ]
  },
  {
   "cell_type": "markdown",
   "id": "7a759f96-bb37-494b-99ae-9e4c0abe1015",
   "metadata": {},
   "source": [
    "# K-mer based"
   ]
  },
  {
   "cell_type": "code",
   "execution_count": null,
   "id": "28ffa210-d1c1-4e60-b262-0ff645f78a7c",
   "metadata": {},
   "outputs": [],
   "source": [
    "pre_ops <- normalized_res_intervention %>% group_by(patient_id) %>% summarize(pre_op = min(sample_timepoint_days_since_OP))"
   ]
  },
  {
   "cell_type": "code",
   "execution_count": null,
   "id": "1d8a5326-4b36-4aa5-a47c-ac2e9c44f0b4",
   "metadata": {},
   "outputs": [],
   "source": [
    "normalized_res_intervention <- normalized_res_intervention %>% mutate(small_ratio_normalized_postop_log = log10(small_ratio_normalized_postop))\n",
    "dim(normalized_res_intervention)"
   ]
  },
  {
   "cell_type": "code",
   "execution_count": null,
   "id": "1b5b16bf-854b-49a9-9a4e-f8e345bbe8d0",
   "metadata": {},
   "outputs": [],
   "source": [
    "normalized_res_intervention_rm_preop <- normalized_res_intervention %>% filter(!sample_timepoint_days_since_OP %in% pre_ops$pre_op)\n",
    "dim(normalized_res_intervention_rm_preop)"
   ]
  },
  {
   "cell_type": "code",
   "execution_count": null,
   "id": "9b2ae233-c56f-4c2e-b0fb-ee8a3081b39a",
   "metadata": {},
   "outputs": [],
   "source": [
    "detected_kmers <- normalized_res_intervention_rm_preop %>% group_by(patient_id) %>% summarize(max_ratio_log = max(small_ratio_normalized_postop_log)) %>% filter(max_ratio_log > 0.5)\n",
    "detected_kmers$patient_id <- as.character(detected_kmers$patient_id)\n",
    "true_detections <- unique(detected_kmers$patient_id)[(unique(detected_kmers$patient_id) %in% unique(truth$patient_id))]\n",
    "true_detections\n",
    "false_detections <- unique(detected_kmers$patient_id)[!(unique(detected_kmers$patient_id) %in% unique(truth$patient_id))]\n",
    "false_detections\n"
   ]
  },
  {
   "cell_type": "code",
   "execution_count": null,
   "id": "bc3d45b3-f3fd-4db4-ae20-73e573b9bf51",
   "metadata": {},
   "outputs": [],
   "source": [
    "normalized_res_intervention_rm_preop %>% filter(Relapse_label == \"Relapse\") %>% filter(small_ratio_normalized_postop_log > 0.5) %>% group_by(patient_id) %>%\n",
    "    summarize(sample_timepoint_days_since_OP_relapse = min(sample_timepoint_days_since_OP))"
   ]
  },
  {
   "cell_type": "markdown",
   "id": "a8b0ffb1-179f-46e1-bfed-78707532d81f",
   "metadata": {},
   "source": [
    "# C2i"
   ]
  },
  {
   "cell_type": "code",
   "execution_count": null,
   "id": "cb31f4a4-471e-4a1b-b07a-acbc7ae7b135",
   "metadata": {},
   "outputs": [],
   "source": [
    "c2i_res <- left_join(c2i_res, sample_timepoint_days, by = c(\"sampleID\")) \n",
    "c2i_res <- c2i_res %>% filter(!is.na(sample_timepoint_days_since_OP))\n",
    "head(c2i_res)\n",
    "dim(c2i_res)"
   ]
  },
  {
   "cell_type": "code",
   "execution_count": null,
   "id": "556cbc07-e0af-40c7-8a9b-a72eb4a56c33",
   "metadata": {},
   "outputs": [],
   "source": [
    "c2i_res_rm_preop <- c2i_res %>% filter(!sample_timepoint_days_since_OP %in% pre_ops$pre_op)\n",
    "dim(c2i_res_rm_preop)"
   ]
  },
  {
   "cell_type": "code",
   "execution_count": null,
   "id": "3f1ac1fd-ca23-4ce7-8a47-281b1d75a02a",
   "metadata": {},
   "outputs": [],
   "source": [
    "c2i_detected <- c2i_res_rm_preop %>% filter(C2.Test == \"D\") %>% filter(!patient_id %in% phase2ptex)\n",
    "true_detections <- unique(c2i_detected$patient_id)[(unique(c2i_detected$patient_id) %in% unique(truth$patient_id))]\n",
    "true_detections\n",
    "false_detections <- unique(c2i_detected$patient_id)[!(unique(c2i_detected$patient_id) %in% unique(truth$patient_id))]\n",
    "false_detections"
   ]
  },
  {
   "cell_type": "code",
   "execution_count": null,
   "id": "1352bee9-f762-4c50-a9e1-372dc057850d",
   "metadata": {},
   "outputs": [],
   "source": [
    "c2i_res_rm_preop %>% filter(patient_id %in% true_detections) %>% \n",
    "    filter(C2.Test == \"D\") %>% \n",
    "    group_by(patient_id) %>% \n",
    "    summarize(min_detected =  min(sample_timepoint_days_since_OP))"
   ]
  },
  {
   "cell_type": "code",
   "execution_count": null,
   "id": "bf3b0156-ccd5-4b93-8f10-84e153630eed",
   "metadata": {},
   "outputs": [],
   "source": []
  },
  {
   "cell_type": "code",
   "execution_count": null,
   "id": "98ff5454-8823-4c63-b8ab-3569168ce1d2",
   "metadata": {},
   "outputs": [],
   "source": []
  }
 ],
 "metadata": {
  "kernelspec": {
   "display_name": "R",
   "language": "R",
   "name": "ir"
  },
  "language_info": {
   "codemirror_mode": "r",
   "file_extension": ".r",
   "mimetype": "text/x-r-source",
   "name": "R",
   "pygments_lexer": "r",
   "version": "3.6.1"
  }
 },
 "nbformat": 4,
 "nbformat_minor": 5
}
