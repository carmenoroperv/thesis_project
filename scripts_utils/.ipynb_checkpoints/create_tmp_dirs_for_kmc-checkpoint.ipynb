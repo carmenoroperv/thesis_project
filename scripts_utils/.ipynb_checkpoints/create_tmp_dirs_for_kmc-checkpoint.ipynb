{
 "cells": [
  {
   "cell_type": "code",
   "execution_count": 5,
   "id": "d549f3bf-f0dd-4019-8a1f-2bcdec13a8a5",
   "metadata": {},
   "outputs": [],
   "source": [
    "import pandas as pd\n",
    "from pathlib import Path\n",
    "import os"
   ]
  },
  {
   "cell_type": "code",
   "execution_count": 6,
   "id": "a78e9751-3406-4132-bc61-c6e629f904bc",
   "metadata": {},
   "outputs": [],
   "source": [
    "paramspace = pd.read_csv(\"../data/metadata/paramspace.csv\", index_col='pt_id')\n",
    "SAMPLES = paramspace.index\n",
    "FOLDERS = paramspace[\"output_path_unique_kmers\"]"
   ]
  },
  {
   "cell_type": "code",
   "execution_count": 8,
   "id": "cb1f73c2-3d0b-4213-a8d0-f00a9b0517dc",
   "metadata": {},
   "outputs": [],
   "source": [
    "for pt in SAMPLES:\n",
    "    for fd in FOLDERS:\n",
    "        save_folder = \"../tmp_normal/tmp_normal_\" + str(pt) + \"/\" + str(fd) + \"_singletons_excluded_beginning_cs\" + \"/\"\n",
    "        Path(save_folder).mkdir(parents=True, exist_ok=True)"
   ]
  },
  {
   "cell_type": "code",
   "execution_count": null,
   "id": "ac87f742-8c05-4e44-b544-c87c2547e75a",
   "metadata": {},
   "outputs": [],
   "source": []
  }
 ],
 "metadata": {
  "kernelspec": {
   "display_name": "Python 3 (ipykernel)",
   "language": "python",
   "name": "python3"
  },
  "language_info": {
   "codemirror_mode": {
    "name": "ipython",
    "version": 3
   },
   "file_extension": ".py",
   "mimetype": "text/x-python",
   "name": "python",
   "nbconvert_exporter": "python",
   "pygments_lexer": "ipython3",
   "version": "3.9.6"
  }
 },
 "nbformat": 4,
 "nbformat_minor": 5
}
