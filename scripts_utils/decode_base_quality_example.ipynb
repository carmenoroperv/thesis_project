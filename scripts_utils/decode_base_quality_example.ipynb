{
 "cells": [
  {
   "cell_type": "code",
   "execution_count": null,
   "id": "637ced8d-0116-432e-916c-7e255cf525fc",
   "metadata": {},
   "outputs": [],
   "source": [
    "_BASE_QUAL_CUTOFF = 20\n",
    "\n",
    "\n",
    "all([ord(c) - 33 >= _BASE_QUAL_CUTOFF for c in list(\"F,,,:,,,,,,,:,,:,:,,,,,,,F,F,,,,F,:,,,,,F,,,,FFF,,,F,F,,,FF,,F,,,,,,,FF,FF,,FF:FF,,F:,,,F,FF,,F,,F,,FFFFFFFFFFFFF:FFFFFFFFFFFFFFFFFFFFFFFFFFFFFFFFFFFFF\")])"
   ]
  },
  {
   "cell_type": "code",
   "execution_count": null,
   "id": "fbbc3c3e-a0eb-4521-891b-bbeceda0b373",
   "metadata": {},
   "outputs": [],
   "source": [
    "for c in list(\"F,,,:,,,,,,,:,,:,:,,,,,,,F,F,,,,F,:,,,,,F,,,,FFF,,,F,F,,,FF,,F,,,,,,,FF,FF,,FF:FF,,F:,,,F,FF,,F,,F,,FFFFFFFFFFFFF:FFFFFFFFFFFFFFFFFFFFFFFFFFFFFFFFFFFFF\"):\n",
    "    print(ord(c)-33)"
   ]
  },
  {
   "cell_type": "code",
   "execution_count": null,
   "id": "bce88df8-b2e9-43a9-8f70-64d32ffc5e8c",
   "metadata": {},
   "outputs": [],
   "source": []
  }
 ],
 "metadata": {
  "kernelspec": {
   "display_name": "Python 3 (ipykernel)",
   "language": "python",
   "name": "python3"
  },
  "language_info": {
   "codemirror_mode": {
    "name": "ipython",
    "version": 3
   },
   "file_extension": ".py",
   "mimetype": "text/x-python",
   "name": "python",
   "nbconvert_exporter": "python",
   "pygments_lexer": "ipython3",
   "version": "3.9.6"
  }
 },
 "nbformat": 4,
 "nbformat_minor": 5
}
