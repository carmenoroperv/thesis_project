{
 "cells": [
  {
   "cell_type": "code",
   "execution_count": 1,
   "id": "0501f844-cbb8-4970-afcd-a1e1b0782c39",
   "metadata": {},
   "outputs": [],
   "source": [
    "import pandas as pd"
   ]
  },
  {
   "cell_type": "code",
   "execution_count": 2,
   "id": "9f3f7e45-7fff-43a5-8438-8298d0aacdf9",
   "metadata": {},
   "outputs": [
    {
     "data": {
      "text/html": [
       "<div>\n",
       "<style scoped>\n",
       "    .dataframe tbody tr th:only-of-type {\n",
       "        vertical-align: middle;\n",
       "    }\n",
       "\n",
       "    .dataframe tbody tr th {\n",
       "        vertical-align: top;\n",
       "    }\n",
       "\n",
       "    .dataframe thead th {\n",
       "        text-align: right;\n",
       "    }\n",
       "</style>\n",
       "<table border=\"1\" class=\"dataframe\">\n",
       "  <thead>\n",
       "    <tr style=\"text-align: right;\">\n",
       "      <th></th>\n",
       "      <th>kmer</th>\n",
       "      <th>count</th>\n",
       "    </tr>\n",
       "  </thead>\n",
       "  <tbody>\n",
       "    <tr>\n",
       "      <th>0</th>\n",
       "      <td>AAAAAAAAAAAAAAAAAAAAAAAAAAAAAAAAAAAAAAAAAAGCAC...</td>\n",
       "      <td>6</td>\n",
       "    </tr>\n",
       "    <tr>\n",
       "      <th>1</th>\n",
       "      <td>AAAAAAAAAAAAAAAAAAAAAAAAAAAAAAAAAAAAAAAAAAGTGC...</td>\n",
       "      <td>1</td>\n",
       "    </tr>\n",
       "    <tr>\n",
       "      <th>2</th>\n",
       "      <td>AAAAAAAAAAAAAAAAAAAAAAAAAAAAAAAAAAAAAAAAAATCCT...</td>\n",
       "      <td>1</td>\n",
       "    </tr>\n",
       "    <tr>\n",
       "      <th>3</th>\n",
       "      <td>AAAAAAAAAAAAAAAAAAAAAAAAAAAAAAAAAAAAAAAAAGAGTC...</td>\n",
       "      <td>1</td>\n",
       "    </tr>\n",
       "    <tr>\n",
       "      <th>4</th>\n",
       "      <td>AAAAAAAAAAAAAAAAAAAAAAAAAAAAAAAAAAAAAAAAAGCACC...</td>\n",
       "      <td>6</td>\n",
       "    </tr>\n",
       "  </tbody>\n",
       "</table>\n",
       "</div>"
      ],
      "text/plain": [
       "                                                kmer  count\n",
       "0  AAAAAAAAAAAAAAAAAAAAAAAAAAAAAAAAAAAAAAAAAAGCAC...      6\n",
       "1  AAAAAAAAAAAAAAAAAAAAAAAAAAAAAAAAAAAAAAAAAAGTGC...      1\n",
       "2  AAAAAAAAAAAAAAAAAAAAAAAAAAAAAAAAAAAAAAAAAATCCT...      1\n",
       "3  AAAAAAAAAAAAAAAAAAAAAAAAAAAAAAAAAAAAAAAAAGAGTC...      1\n",
       "4  AAAAAAAAAAAAAAAAAAAAAAAAAAAAAAAAAAAAAAAAAGCACC...      6"
      ]
     },
     "execution_count": 2,
     "metadata": {},
     "output_type": "execute_result"
    }
   ],
   "source": [
    "pipeline = \"all_germline_ci5_cs1e9\"\n",
    "pt = \"C04689\"\n",
    "folder = \"C299A04689D_cfdna_N295-99\"\n",
    "file_name = \"cfDNA_kmers_unique_all_germline_tumor_kmers_intersect_singletons_excluded_tumor_4_cs\"\n",
    "\n",
    "df = pd.read_csv(\"../data/C04689/C299A04689D_cfdna_N295-99/all_germline_ci5_cs1e9/cfDNA_kmers_unique_all_germline_tumor_kmers_intersect_singletons_excluded_tumor_4_cs.txt\", sep='\\t', header =  None)\n",
    "df = df.rename(columns={0: 'kmer', 1: 'count'})\n",
    "df.head()"
   ]
  },
  {
   "cell_type": "code",
   "execution_count": 3,
   "id": "4a5d3d13-94d1-4187-ac87-e80e3876631a",
   "metadata": {},
   "outputs": [
    {
     "data": {
      "text/plain": [
       "(11, 2)"
      ]
     },
     "execution_count": 3,
     "metadata": {},
     "output_type": "execute_result"
    }
   ],
   "source": [
    "df_sub = df.loc[0:10, ]\n",
    "df_sub.shape"
   ]
  },
  {
   "cell_type": "code",
   "execution_count": 5,
   "id": "10387067-76cd-423c-bd2d-a559c6df0d55",
   "metadata": {},
   "outputs": [
    {
     "name": "stdout",
     "output_type": "stream",
     "text": [
      ">index0\n",
      ">index1\n",
      ">index2\n",
      ">index3\n",
      ">index4\n",
      ">index5\n",
      ">index6\n",
      ">index7\n",
      ">index8\n",
      ">index9\n",
      ">index10\n"
     ]
    }
   ],
   "source": [
    "for index, row in df_sub.iterrows():\n",
    "    header = \">index\" + str(index)\n",
    "    print(header)\n",
    "    \n",
    "    if index == 0:\n",
    "        with open(\"test_fasta.fa\", \"w\") as file_object:\n",
    "            file_object.write(header)\n",
    "            file_object.write(\"\\n\")\n",
    "            file_object.write(row[\"kmer\"])\n",
    "            file_object.write(\"\\n\")\n",
    "    else: \n",
    "        with open(\"test_fasta.fa\", \"a\") as file_object:\n",
    "            file_object.write(header)\n",
    "            file_object.write(\"\\n\")\n",
    "            file_object.write(row[\"kmer\"])\n",
    "            file_object.write(\"\\n\")\n",
    "            \n",
    "    "
   ]
  },
  {
   "cell_type": "code",
   "execution_count": null,
   "id": "3e5750ac-1821-4e3f-acee-17aa5ad50e03",
   "metadata": {},
   "outputs": [],
   "source": []
  }
 ],
 "metadata": {
  "kernelspec": {
   "display_name": "Python 3 (ipykernel)",
   "language": "python",
   "name": "python3"
  },
  "language_info": {
   "codemirror_mode": {
    "name": "ipython",
    "version": 3
   },
   "file_extension": ".py",
   "mimetype": "text/x-python",
   "name": "python",
   "nbconvert_exporter": "python",
   "pygments_lexer": "ipython3",
   "version": "3.9.6"
  }
 },
 "nbformat": 4,
 "nbformat_minor": 5
}
