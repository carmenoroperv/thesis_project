{
 "cells": [
  {
   "cell_type": "code",
   "execution_count": null,
   "id": "de785f4e-b91c-4da0-be30-1a40a6ed44f4",
   "metadata": {},
   "outputs": [],
   "source": [
    "#intersection = read.table(snakemake@input[[\"intersection\"]])\n",
    "#all_cfDNA = read.table(snakemake@input[[\"all_cfDNA\"]])\n",
    "#unique_tumor = read.table(snakemake@input[[\"unique_tumor\"]])\n",
    "#all_tumor = read.table(snakemake@input[[\"all_tumor\"]])"
   ]
  },
  {
   "cell_type": "code",
   "execution_count": null,
   "id": "319b9585-9427-49d3-b7bc-d3af087118e8",
   "metadata": {},
   "outputs": [],
   "source": [
    "intersection = read.table(\"Example/Output/plotdata_intersection_patient_1.txt\")"
   ]
  },
  {
   "cell_type": "code",
   "execution_count": null,
   "id": "0881805b-321d-4d3e-b59c-c5aca6c6bfb7",
   "metadata": {},
   "outputs": [],
   "source": [
    "all_cfDNA = read.table(\"Example/Output/plotdata_cfDNA_patient_1_first_sample.txt\")"
   ]
  },
  {
   "cell_type": "code",
   "execution_count": null,
   "id": "c9c3a5fd-fafd-4ded-9846-f29fdfe69b6c",
   "metadata": {},
   "outputs": [],
   "source": [
    "unique_tumor = read.table(\"Example/Output/plotdata_unique_tumor_patient_1.txt\")"
   ]
  },
  {
   "cell_type": "code",
   "execution_count": null,
   "id": "e17784f2-589e-4d64-bf68-4bb9a568e070",
   "metadata": {},
   "outputs": [],
   "source": [
    "all_tumor = read.table(\"Example/Output/plotdata_tumor_patient_1.txt\")"
   ]
  },
  {
   "cell_type": "code",
   "execution_count": null,
   "id": "97caa1c9-1409-41a8-9cd0-d2dc7df5c1a6",
   "metadata": {},
   "outputs": [],
   "source": [
    "example = read.table(\"Trash/hist.txt\")"
   ]
  },
  {
   "cell_type": "code",
   "execution_count": null,
   "id": "4a043940-4732-4093-a474-71949ef99e04",
   "metadata": {},
   "outputs": [],
   "source": [
    "example_sum = sum(example$V2)"
   ]
  },
  {
   "cell_type": "code",
   "execution_count": null,
   "id": "ab6f04cb-8920-4fb2-980e-6b1ddef1cd58",
   "metadata": {},
   "outputs": [
    {
     "data": {
      "text/html": [
       "10"
      ],
      "text/latex": [
       "10"
      ],
      "text/markdown": [
       "10"
      ],
      "text/plain": [
       "[1] 10"
      ]
     },
     "metadata": {},
     "output_type": "display_data"
    }
   ],
   "source": [
    "example_sum"
   ]
  },
  {
   "cell_type": "code",
   "execution_count": null,
   "id": "b256fbb8-896d-4673-a944-33cd80302fbd",
   "metadata": {},
   "outputs": [],
   "source": [
    "intersection_sum = sum(intersection$V2)\n",
    "all_cfDNA_sum = sum(all_cfDNA$V2)\n",
    "unique_tumor_sum = sum(unique_tumor$V2)\n",
    "all_tumor_sum = sum(all_tumor$V2)"
   ]
  },
  {
   "cell_type": "code",
   "execution_count": null,
   "id": "8b2fc61c-7ce0-4570-af61-b1533bfdb9c1",
   "metadata": {},
   "outputs": [],
   "source": []
  },
  {
   "cell_type": "code",
   "execution_count": null,
   "id": "0e6630d2-e6ef-4e00-936c-d8aea34f2ce1",
   "metadata": {},
   "outputs": [],
   "source": [
    "ratio = (intersection_sum/all_cfDNA_sum)/(unique_tumor_sum/all_tumor_sum)"
   ]
  },
  {
   "cell_type": "code",
   "execution_count": null,
   "id": "bb4122c3-1c39-496b-b3c4-b8f44f07b217",
   "metadata": {},
   "outputs": [],
   "source": [
    "ratio"
   ]
  },
  {
   "cell_type": "code",
   "execution_count": null,
   "id": "33e08c12-0d41-4352-8de2-6d7f60832588",
   "metadata": {},
   "outputs": [],
   "source": [
    "write.csv(ratio, snakemake@output[[\"ratio\"]], row.names = FALSE)"
   ]
  }
 ],
 "metadata": {
  "kernelspec": {
   "display_name": "R",
   "language": "R",
   "name": "ir"
  },
  "language_info": {
   "codemirror_mode": "r",
   "file_extension": ".r",
   "mimetype": "text/x-r-source",
   "name": "R",
   "pygments_lexer": "r",
   "version": "3.6.1"
  }
 },
 "nbformat": 4,
 "nbformat_minor": 5
}
