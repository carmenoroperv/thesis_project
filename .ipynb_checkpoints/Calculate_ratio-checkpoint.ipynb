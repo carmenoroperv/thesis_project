{
 "cells": [
  {
   "cell_type": "code",
   "execution_count": null,
   "id": "de785f4e-b91c-4da0-be30-1a40a6ed44f4",
   "metadata": {},
   "outputs": [],
   "source": [
    "#intersection = read.table(snakemake@input[[\"intersection\"]])\n",
    "#all_cfDNA = read.table(snakemake@input[[\"all_cfDNA\"]])\n",
    "#unique_tumor = read.table(snakemake@input[[\"unique_tumor\"]])\n",
    "#all_tumor = read.table(snakemake@input[[\"all_tumor\"]])"
   ]
  },
  {
   "cell_type": "code",
   "execution_count": null,
   "id": "319b9585-9427-49d3-b7bc-d3af087118e8",
   "metadata": {},
   "outputs": [],
   "source": [
    "intersection = read.table(\"Example/Output/plotdata_intersection_patient_1.txt\")"
   ]
  },
  {
   "cell_type": "code",
   "execution_count": null,
   "id": "0881805b-321d-4d3e-b59c-c5aca6c6bfb7",
   "metadata": {},
   "outputs": [],
   "source": [
    "all_cfDNA = read.table(\"Example/Output/plotdata_cfDNA_patient_1_first_sample.txt\")"
   ]
  },
  {
   "cell_type": "code",
   "execution_count": null,
   "id": "c9c3a5fd-fafd-4ded-9846-f29fdfe69b6c",
   "metadata": {},
   "outputs": [],
   "source": [
    "unique_tumor = read.table(\"Example/Output/plotdata_unique_tumor_patient_1.txt\")"
   ]
  },
  {
   "cell_type": "code",
   "execution_count": null,
   "id": "e17784f2-589e-4d64-bf68-4bb9a568e070",
   "metadata": {},
   "outputs": [],
   "source": [
    "all_tumor = read.table(\"Example/Output/plotdata_tumor_patient_1.txt\")"
   ]
  },
  {
   "cell_type": "code",
   "execution_count": null,
   "id": "97caa1c9-1409-41a8-9cd0-d2dc7df5c1a6",
   "metadata": {},
   "outputs": [],
   "source": [
    "example = read.table(\"Trash/hist.txt\")"
   ]
  },
  {
   "cell_type": "code",
   "execution_count": null,
   "id": "4a043940-4732-4093-a474-71949ef99e04",
   "metadata": {},
   "outputs": [],
   "source": [
    "example_sum = sum(example$V2)"
   ]
  },
  {
   "cell_type": "code",
   "execution_count": null,
   "id": "ab6f04cb-8920-4fb2-980e-6b1ddef1cd58",
   "metadata": {},
   "outputs": [
    {
     "data": {
      "text/html": [
       "10"
      ],
      "text/latex": [
       "10"
      ],
      "text/markdown": [
       "10"
      ],
      "text/plain": [
       "[1] 10"
      ]
     },
     "metadata": {},
     "output_type": "display_data"
    }
   ],
   "source": [
    "example_sum"
   ]
  },
  {
   "cell_type": "code",
   "execution_count": null,
   "id": "b256fbb8-896d-4673-a944-33cd80302fbd",
   "metadata": {},
   "outputs": [],
   "source": [
    "intersection_sum = sum(intersection$V2)\n",
    "all_cfDNA_sum = sum(all_cfDNA$V2)\n",
    "unique_tumor_sum = sum(unique_tumor$V2)\n",
    "all_tumor_sum = sum(all_tumor$V2)"
   ]
  },
  {
   "cell_type": "code",
   "execution_count": null,
   "id": "8b2fc61c-7ce0-4570-af61-b1533bfdb9c1",
   "metadata": {},
   "outputs": [],
   "source": []
  },
  {
   "cell_type": "code",
   "execution_count": null,
   "id": "0e6630d2-e6ef-4e00-936c-d8aea34f2ce1",
   "metadata": {},
   "outputs": [],
   "source": [
    "ratio = (intersection_sum/all_cfDNA_sum)/(unique_tumor_sum/all_tumor_sum)"
   ]
  },
  {
   "cell_type": "code",
   "execution_count": null,
   "id": "bb4122c3-1c39-496b-b3c4-b8f44f07b217",
   "metadata": {},
   "outputs": [],
   "source": [
    "ratio"
   ]
  },
  {
   "cell_type": "code",
   "execution_count": null,
   "id": "33e08c12-0d41-4352-8de2-6d7f60832588",
   "metadata": {},
   "outputs": [],
   "source": [
    "#write.csv(ratio, snakemake@output[[\"ratio\"]], row.names = FALSE)"
   ]
  },
  {
   "cell_type": "markdown",
   "id": "9f0cd117-73e4-40bb-943b-18419cc0b554",
   "metadata": {},
   "source": [
    "# Testing"
   ]
  },
  {
   "cell_type": "code",
   "execution_count": 1,
   "id": "55454659-0d35-408f-b341-e69fd0d25a31",
   "metadata": {},
   "outputs": [
    {
     "name": "stderr",
     "output_type": "stream",
     "text": [
      "Registered S3 methods overwritten by 'ggplot2':\n",
      "  method         from \n",
      "  [.quosures     rlang\n",
      "  c.quosures     rlang\n",
      "  print.quosures rlang\n",
      "Registered S3 method overwritten by 'rvest':\n",
      "  method            from\n",
      "  read_xml.response xml2\n",
      "── Attaching packages ─────────────────────────────────────────────────────────────── tidyverse 1.2.1 ──\n",
      "✔ ggplot2 3.1.1     ✔ purrr   0.3.4\n",
      "✔ tibble  3.1.4     ✔ dplyr   1.0.7\n",
      "✔ tidyr   1.1.3     ✔ stringr 1.4.0\n",
      "✔ readr   1.3.1     ✔ forcats 0.4.0\n",
      "── Conflicts ────────────────────────────────────────────────────────────────── tidyverse_conflicts() ──\n",
      "✖ dplyr::filter() masks stats::filter()\n",
      "✖ dplyr::lag()    masks stats::lag()\n"
     ]
    }
   ],
   "source": [
    "library(tidyverse)"
   ]
  },
  {
   "cell_type": "code",
   "execution_count": 2,
   "id": "bc460fd3-dc10-488a-bce1-f7d4db32beab",
   "metadata": {},
   "outputs": [],
   "source": [
    "intersection = read.table(\"data/C04873/ratio_emp_dist_analysis_ci4_cs1e9/plotdata_files/plotdata_intersection_pt_C04886_cfDNAsample_C108A04886D_cfdna_N295-232_1148.txt\")"
   ]
  },
  {
   "cell_type": "code",
   "execution_count": 3,
   "id": "866baa10-59bd-4505-977e-9078c2fb9f4f",
   "metadata": {},
   "outputs": [],
   "source": [
    "all_cfDNA = read.table(\"data/C04886/C108A04886D_cfdna_N295-232/cs1e9/plotdata_cfDNA_cs1e9.txt\")"
   ]
  },
  {
   "cell_type": "code",
   "execution_count": 4,
   "id": "0c680367-a626-4409-a128-08e8ef2aece5",
   "metadata": {},
   "outputs": [],
   "source": [
    "unique_tumor = read.table(\"data/C04873/C77T04873D_frfr_N295-454/ci5_cs1e9/plotdata_unique_tumor_singletons_excluded_tumor_4_cs_filtered.txt\")"
   ]
  },
  {
   "cell_type": "code",
   "execution_count": 5,
   "id": "4e9b22dc-ffff-456c-b4ee-0095e529b002",
   "metadata": {},
   "outputs": [],
   "source": [
    "all_tumor = read.table(\"data/C04873/C77T04873D_frfr_N295-454/ci5_cs1e9/plotdata_tumor_singletons_excluded_tumor_4_cs_filtered.txt\")"
   ]
  },
  {
   "cell_type": "code",
   "execution_count": 6,
   "id": "7cebfb0a-9d58-4399-9814-29120981e958",
   "metadata": {},
   "outputs": [
    {
     "name": "stdout",
     "output_type": "stream",
     "text": [
      "[1] \"intersection_sum\"\n",
      " num 36853124\n",
      "[1] 36853124\n",
      "[1] \"all_cfDNA_sum\"\n",
      " num 8.86e+10\n",
      "[1] 88646508909\n",
      "[1] \"unique_tumor_sum\"\n",
      " num 32710981\n",
      "[1] 32710981\n",
      "[1] \"all_tumor_sum\"\n",
      " num 1.11e+11\n",
      "[1] 110570213683\n",
      "[1] 1.405262\n"
     ]
    }
   ],
   "source": [
    "intersection$V2 <- as.numeric(intersection$V2)\n",
    "all_cfDNA$V2 <- as.numeric(all_cfDNA$V2)\n",
    "unique_tumor$V2 <- as.numeric(unique_tumor$V2)\n",
    "all_tumor$V2 <- as.numeric(all_tumor$V2)\n",
    "\n",
    "intersection_sum = sum(intersection$V2*intersection$V1)\n",
    "intersection_sum = as.numeric(intersection_sum)\n",
    "\n",
    "all_cfDNA_sum = sum(all_cfDNA$V2*all_cfDNA$V1)\n",
    "all_cfDNA_sum = as.numeric(all_cfDNA_sum)\n",
    "\n",
    "unique_tumor_sum = sum(unique_tumor$V2*unique_tumor$V1)\n",
    "unique_tumor_sum = as.numeric(unique_tumor_sum)\n",
    "\n",
    "all_tumor_sum = sum(all_tumor$V2*all_tumor$V1)\n",
    "all_tumor_sum = as.numeric(all_tumor_sum)\n",
    "\n",
    "\n",
    "print(\"intersection_sum\")\n",
    "str(intersection_sum)\n",
    "print(intersection_sum)\n",
    "\n",
    "print(\"all_cfDNA_sum\")\n",
    "str(all_cfDNA_sum)\n",
    "print(all_cfDNA_sum)\n",
    "\n",
    "print(\"unique_tumor_sum\")\n",
    "str(unique_tumor_sum)\n",
    "print(unique_tumor_sum)\n",
    "\n",
    "print(\"all_tumor_sum\")\n",
    "str(all_tumor_sum)\n",
    "print(all_tumor_sum)\n",
    "\n",
    "ratio = (intersection_sum/all_cfDNA_sum)/(unique_tumor_sum/all_tumor_sum)\n",
    "print(ratio)\n",
    "\n",
    "#intersection_sim = (rpois(10000, intersection_sum))\n",
    "#all_cfDNA_sim = (rpois(10000, all_cfDNA_sum))\n",
    "#unique_tumor_sim = (rpois(10000, unique_tumor_sum))\n",
    "#all_tumor_sim = (rpois(10000, all_tumor_sum))\n",
    "\n",
    "#ratios_sim = (intersection_sim/all_cfDNA_sim)/(unique_tumor_sim/all_tumor_sim)\n",
    "#ratios_sim = sort(ratios_sim)\n",
    "\n",
    "#print(length(ratios_sim))\n",
    "#print(head(ratios_sim))\n",
    "#print(tail(ratios_sim))\n",
    "\n",
    "#lowerCI = quantile(ratios_sim,.025)\n",
    "#upperCI = quantile(ratios_sim,.975)\n",
    "\n",
    "#res = tibble(ratio = ratio, lower_CI = lowerCI, upper_CI = upperCI)"
   ]
  },
  {
   "cell_type": "code",
   "execution_count": null,
   "id": "e807a838-d648-49c7-b8a9-a3a58262de8c",
   "metadata": {},
   "outputs": [],
   "source": []
  },
  {
   "cell_type": "code",
   "execution_count": 7,
   "id": "81b76125-156a-4dce-ad76-420cee7c3b58",
   "metadata": {},
   "outputs": [],
   "source": [
    "unique_tumor_not_filtered = read.table(\"data/C04873/C77T04873D_frfr_N295-454/ci5_cs1e9/plotdata_unique_tumor_singletons_excluded_tumor_4_cs.txt\")\n"
   ]
  },
  {
   "cell_type": "code",
   "execution_count": 8,
   "id": "57f0cc53-dc18-4a05-8947-0796d1c3d4db",
   "metadata": {},
   "outputs": [],
   "source": [
    "all_tumor_not_filtered = read.table(\"data/C04873/C77T04873D_frfr_N295-454/ci5_cs1e9/plotdata_tumor_singletons_excluded_tumor_4_cs.txt\")"
   ]
  },
  {
   "cell_type": "code",
   "execution_count": 12,
   "id": "4a9850b1-0b03-4c4d-a3ec-1972f73ddd9c",
   "metadata": {},
   "outputs": [
    {
     "name": "stdout",
     "output_type": "stream",
     "text": [
      "[1] 32710981\n",
      "[1] 32710981\n",
      "[1] 110570213683\n",
      "[1] 110570213683\n"
     ]
    }
   ],
   "source": [
    "unique_tumor_sum_not_filtered = sum(unique_tumor_not_filtered$V2*unique_tumor_not_filtered$V1)\n",
    "unique_tumor_sum_not_filtered = as.numeric(unique_tumor_sum_not_filtered)\n",
    "print(unique_tumor_sum_not_filtered)\n",
    "print(unique_tumor_sum)\n",
    "\n",
    "all_tumor_not_filtered$V2 <- as.numeric(all_tumor_not_filtered$V2)\n",
    "all_tumor_sum_not_filtered = sum(all_tumor_not_filtered$V2*all_tumor_not_filtered$V1)\n",
    "all_tumor_sum_not_filtered = as.numeric(all_tumor_sum_not_filtered)\n",
    "print(all_tumor_sum_not_filtered)\n",
    "print(all_tumor_sum)"
   ]
  },
  {
   "cell_type": "code",
   "execution_count": 13,
   "id": "1eab0624-ab44-4c12-b804-47ddc86045c1",
   "metadata": {},
   "outputs": [
    {
     "name": "stdout",
     "output_type": "stream",
     "text": [
      "[1] 0.000295839\n",
      "[1] 0.000295839\n"
     ]
    }
   ],
   "source": [
    "print(unique_tumor_sum/all_tumor_sum)\n",
    "print(unique_tumor_sum_not_filtered/all_tumor_sum_not_filtered)"
   ]
  },
  {
   "cell_type": "code",
   "execution_count": 18,
   "id": "38ebab42-ca67-4481-9d2d-534cfe788cdf",
   "metadata": {},
   "outputs": [
    {
     "data": {
      "text/html": [
       "0.000404523921135128"
      ],
      "text/latex": [
       "0.000404523921135128"
      ],
      "text/markdown": [
       "0.000404523921135128"
      ],
      "text/plain": [
       "[1] 0.0004045239"
      ]
     },
     "metadata": {},
     "output_type": "display_data"
    },
    {
     "data": {
      "text/html": [
       "4.64642169917194e-05"
      ],
      "text/latex": [
       "4.64642169917194e-05"
      ],
      "text/markdown": [
       "4.64642169917194e-05"
      ],
      "text/plain": [
       "[1] 4.646422e-05"
      ]
     },
     "metadata": {},
     "output_type": "display_data"
    },
    {
     "data": {
      "text/html": [
       "0.000415731250486486"
      ],
      "text/latex": [
       "0.000415731250486486"
      ],
      "text/markdown": [
       "0.000415731250486486"
      ],
      "text/plain": [
       "[1] 0.0004157313"
      ]
     },
     "metadata": {},
     "output_type": "display_data"
    }
   ],
   "source": [
    "# from high_cs_exclude_singletons_tumor_calculate_big_ratio/high_cs_exclude_singletons_tumor_calculate_big_ratio-output_f=C204A04873D_cfdna_N295-230,pt=C04873-62332230.out\n",
    "# bottom of the ratio is the same with file emp_dist_analysis_calculate_big_ratio_ci4_cs1e9-cfDNA_sample=C108A04886D_cfdna_N295-232,index=1148,other_pt=C04886,pt=C04873-62591633.out\n",
    "\n",
    "#Top of the ratio from the first file (first comment in this chunk): original ratio for patient C04873\n",
    "15 990 886/39 530 136 945\n",
    "\n",
    "# from high_cs_exclude_singletons_tumor_calculate_big_ratio-output_f=C206A04873D_cfdna_N295-74,pt=C04873-62332661.out\n",
    "#Top of the ratio from this file:\n",
    "4 154 373/89 410 158 375\n",
    "\n",
    "\n",
    "#Top of the ratio from the second file (second comment in this chunk): emp dist analysis \n",
    "36 853 124/88 646 508 909"
   ]
  },
  {
   "cell_type": "code",
   "execution_count": 19,
   "id": "c6904f2a-9871-46b7-b1e9-66e7e57f7f39",
   "metadata": {},
   "outputs": [
    {
     "data": {
      "text/html": [
       "1.36737863042983"
      ],
      "text/latex": [
       "1.36737863042983"
      ],
      "text/markdown": [
       "1.36737863042983"
      ],
      "text/plain": [
       "[1] 1.367379"
      ]
     },
     "metadata": {},
     "output_type": "display_data"
    },
    {
     "data": {
      "text/html": [
       "0.157059135627504"
      ],
      "text/latex": [
       "0.157059135627504"
      ],
      "text/markdown": [
       "0.157059135627504"
      ],
      "text/plain": [
       "[1] 0.1570591"
      ]
     },
     "metadata": {},
     "output_type": "display_data"
    },
    {
     "data": {
      "text/html": [
       "1.40526183549774"
      ],
      "text/latex": [
       "1.40526183549774"
      ],
      "text/markdown": [
       "1.40526183549774"
      ],
      "text/plain": [
       "[1] 1.405262"
      ]
     },
     "metadata": {},
     "output_type": "display_data"
    }
   ],
   "source": [
    "(15990886/39530136945)/(unique_tumor_sum_not_filtered/all_tumor_sum_not_filtered)\n",
    "(4154373/89410158375)/(unique_tumor_sum_not_filtered/all_tumor_sum_not_filtered)\n",
    "(36853124/88646508909)/(unique_tumor_sum_not_filtered/all_tumor_sum_not_filtered)"
   ]
  },
  {
   "cell_type": "code",
   "execution_count": null,
   "id": "dad706f9-9916-43ee-8a8a-6c6b6512c05a",
   "metadata": {},
   "outputs": [],
   "source": []
  }
 ],
 "metadata": {
  "kernelspec": {
   "display_name": "R",
   "language": "R",
   "name": "ir"
  },
  "language_info": {
   "codemirror_mode": "r",
   "file_extension": ".r",
   "mimetype": "text/x-r-source",
   "name": "R",
   "pygments_lexer": "r",
   "version": "3.6.1"
  }
 },
 "nbformat": 4,
 "nbformat_minor": 5
}
