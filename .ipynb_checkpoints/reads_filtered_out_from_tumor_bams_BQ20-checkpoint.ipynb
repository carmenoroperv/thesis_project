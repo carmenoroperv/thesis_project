{
 "cells": [
  {
   "cell_type": "code",
   "execution_count": 1,
   "id": "04580bc1-a3e5-428e-8488-ef5c89aeb0b8",
   "metadata": {},
   "outputs": [
    {
     "data": {
      "text/html": [
       "0.504463927022111"
      ],
      "text/latex": [
       "0.504463927022111"
      ],
      "text/markdown": [
       "0.504463927022111"
      ],
      "text/plain": [
       "[1] 0.5044639"
      ]
     },
     "metadata": {},
     "output_type": "display_data"
    }
   ],
   "source": [
    "601888079/1193124120"
   ]
  },
  {
   "cell_type": "code",
   "execution_count": 2,
   "id": "f7655e1e-6680-46d8-9d47-091965cf2044",
   "metadata": {},
   "outputs": [
    {
     "data": {
      "text/html": [
       "0.518273440080354"
      ],
      "text/latex": [
       "0.518273440080354"
      ],
      "text/markdown": [
       "0.518273440080354"
      ],
      "text/plain": [
       "[1] 0.5182734"
      ]
     },
     "metadata": {},
     "output_type": "display_data"
    }
   ],
   "source": [
    "684581204/1320888070"
   ]
  },
  {
   "cell_type": "code",
   "execution_count": 3,
   "id": "459bbcc7-fe2e-45cf-8215-73024be6f7ef",
   "metadata": {},
   "outputs": [
    {
     "data": {
      "text/html": [
       "0.46500654589122"
      ],
      "text/latex": [
       "0.46500654589122"
      ],
      "text/markdown": [
       "0.46500654589122"
      ],
      "text/plain": [
       "[1] 0.4650065"
      ]
     },
     "metadata": {},
     "output_type": "display_data"
    }
   ],
   "source": [
    "567926919/1221331020"
   ]
  },
  {
   "cell_type": "code",
   "execution_count": 4,
   "id": "61713ace-f968-4f58-9452-49a5366d4a83",
   "metadata": {},
   "outputs": [
    {
     "data": {
      "text/html": [
       "0.471332009668714"
      ],
      "text/latex": [
       "0.471332009668714"
      ],
      "text/markdown": [
       "0.471332009668714"
      ],
      "text/plain": [
       "[1] 0.471332"
      ]
     },
     "metadata": {},
     "output_type": "display_data"
    }
   ],
   "source": [
    "565950145/1200746254"
   ]
  },
  {
   "cell_type": "code",
   "execution_count": 5,
   "id": "53aef0f8-86e1-47e9-b5ca-ea9cdac7a274",
   "metadata": {},
   "outputs": [
    {
     "data": {
      "text/html": [
       "0.516783350521628"
      ],
      "text/latex": [
       "0.516783350521628"
      ],
      "text/markdown": [
       "0.516783350521628"
      ],
      "text/plain": [
       "[1] 0.5167834"
      ]
     },
     "metadata": {},
     "output_type": "display_data"
    }
   ],
   "source": [
    "677377558/1310757317"
   ]
  },
  {
   "cell_type": "code",
   "execution_count": 6,
   "id": "772e019c-67ad-443e-8703-4b7a6384bccc",
   "metadata": {},
   "outputs": [
    {
     "data": {
      "text/html": [
       "0.518349018442181"
      ],
      "text/latex": [
       "0.518349018442181"
      ],
      "text/markdown": [
       "0.518349018442181"
      ],
      "text/plain": [
       "[1] 0.518349"
      ]
     },
     "metadata": {},
     "output_type": "display_data"
    }
   ],
   "source": [
    "584697656/1127999929"
   ]
  },
  {
   "cell_type": "code",
   "execution_count": 7,
   "id": "acf99c0b-dd54-4d00-8edc-c8f3a6cab6fc",
   "metadata": {},
   "outputs": [
    {
     "data": {
      "text/html": [
       "0.51562615792209"
      ],
      "text/latex": [
       "0.51562615792209"
      ],
      "text/markdown": [
       "0.51562615792209"
      ],
      "text/plain": [
       "[1] 0.5156262"
      ]
     },
     "metadata": {},
     "output_type": "display_data"
    }
   ],
   "source": [
    "598521995/1160767323"
   ]
  },
  {
   "cell_type": "code",
   "execution_count": 8,
   "id": "3fd6745f-d042-472c-92c4-9d1f4932a5cb",
   "metadata": {},
   "outputs": [
    {
     "data": {
      "text/html": [
       "0.481168950937093"
      ],
      "text/latex": [
       "0.481168950937093"
      ],
      "text/markdown": [
       "0.481168950937093"
      ],
      "text/plain": [
       "[1] 0.481169"
      ]
     },
     "metadata": {},
     "output_type": "display_data"
    }
   ],
   "source": [
    "533717005/1109209154"
   ]
  },
  {
   "cell_type": "code",
   "execution_count": 9,
   "id": "283ae750-743e-4925-ba06-f77bc42f6555",
   "metadata": {},
   "outputs": [
    {
     "data": {
      "text/html": [
       "0.469650297834639"
      ],
      "text/latex": [
       "0.469650297834639"
      ],
      "text/markdown": [
       "0.469650297834639"
      ],
      "text/plain": [
       "[1] 0.4696503"
      ]
     },
     "metadata": {},
     "output_type": "display_data"
    }
   ],
   "source": [
    "565402261/1203879277"
   ]
  },
  {
   "cell_type": "code",
   "execution_count": 1,
   "id": "ee29e7f7-1ee0-4e88-8aac-7b4979f6eb24",
   "metadata": {},
   "outputs": [
    {
     "data": {
      "text/html": [
       "0.457368745719234"
      ],
      "text/latex": [
       "0.457368745719234"
      ],
      "text/markdown": [
       "0.457368745719234"
      ],
      "text/plain": [
       "[1] 0.4573687"
      ]
     },
     "metadata": {},
     "output_type": "display_data"
    }
   ],
   "source": [
    "589331831/1288526679"
   ]
  },
  {
   "cell_type": "code",
   "execution_count": 2,
   "id": "ea8449ff-5540-4448-8724-1dec44ecf95b",
   "metadata": {},
   "outputs": [
    {
     "data": {
      "text/html": [
       "0.462055795953428"
      ],
      "text/latex": [
       "0.462055795953428"
      ],
      "text/markdown": [
       "0.462055795953428"
      ],
      "text/plain": [
       "[1] 0.4620558"
      ]
     },
     "metadata": {},
     "output_type": "display_data"
    }
   ],
   "source": [
    "616328539/1333883363"
   ]
  },
  {
   "cell_type": "code",
   "execution_count": 3,
   "id": "c3e55478-ec6e-42e8-95aa-3f5189c18f82",
   "metadata": {},
   "outputs": [
    {
     "data": {
      "text/html": [
       "0.485342315436618"
      ],
      "text/latex": [
       "0.485342315436618"
      ],
      "text/markdown": [
       "0.485342315436618"
      ],
      "text/plain": [
       "[1] 0.4853423"
      ]
     },
     "metadata": {},
     "output_type": "display_data"
    }
   ],
   "source": [
    "603446507/1243342045"
   ]
  },
  {
   "cell_type": "code",
   "execution_count": 4,
   "id": "7a29804f-4efd-4e4e-abf1-3e2e99834d60",
   "metadata": {},
   "outputs": [
    {
     "data": {
      "text/html": [
       "0.527334952476949"
      ],
      "text/latex": [
       "0.527334952476949"
      ],
      "text/markdown": [
       "0.527334952476949"
      ],
      "text/plain": [
       "[1] 0.527335"
      ]
     },
     "metadata": {},
     "output_type": "display_data"
    }
   ],
   "source": [
    "586464959/1112129883"
   ]
  },
  {
   "cell_type": "code",
   "execution_count": 5,
   "id": "41f059ee-660c-4ce6-9571-af0d03d5e9c4",
   "metadata": {},
   "outputs": [
    {
     "data": {
      "text/html": [
       "0.503343612273197"
      ],
      "text/latex": [
       "0.503343612273197"
      ],
      "text/markdown": [
       "0.503343612273197"
      ],
      "text/plain": [
       "[1] 0.5033436"
      ]
     },
     "metadata": {},
     "output_type": "display_data"
    }
   ],
   "source": [
    "597995036/1188045346"
   ]
  },
  {
   "cell_type": "code",
   "execution_count": 7,
   "id": "c7ad98e0-7c7e-4905-8352-ca16b4d94762",
   "metadata": {},
   "outputs": [
    {
     "data": {
      "text/html": [
       "48"
      ],
      "text/latex": [
       "48"
      ],
      "text/markdown": [
       "48"
      ],
      "text/plain": [
       "[1] 48"
      ]
     },
     "metadata": {},
     "output_type": "display_data"
    }
   ],
   "source": [
    "mean(48, 50.4, 51.8, 46.5, 47.1, 51.7, 51.8, 51.6, 48.1, 47, 45.7, 46.2, 48.5, 52.7, 50.3)\n"
   ]
  },
  {
   "cell_type": "code",
   "execution_count": null,
   "id": "24c12e05-e213-4dc5-b50b-000498e2010b",
   "metadata": {},
   "outputs": [],
   "source": []
  }
 ],
 "metadata": {
  "kernelspec": {
   "display_name": "R [conda env:r4-base]",
   "language": "R",
   "name": "conda-env-r4-base-r"
  },
  "language_info": {
   "codemirror_mode": "r",
   "file_extension": ".r",
   "mimetype": "text/x-r-source",
   "name": "R",
   "pygments_lexer": "r",
   "version": "4.0.5"
  }
 },
 "nbformat": 4,
 "nbformat_minor": 5
}
