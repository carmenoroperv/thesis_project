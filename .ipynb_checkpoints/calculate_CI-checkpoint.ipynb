{
 "cells": [
  {
   "cell_type": "code",
   "execution_count": 1,
   "id": "60970335-d56a-49cc-a8db-310c38797d7a",
   "metadata": {},
   "outputs": [
    {
     "name": "stderr",
     "output_type": "stream",
     "text": [
      "Registered S3 methods overwritten by 'ggplot2':\n",
      "  method         from \n",
      "  [.quosures     rlang\n",
      "  c.quosures     rlang\n",
      "  print.quosures rlang\n",
      "Registered S3 method overwritten by 'rvest':\n",
      "  method            from\n",
      "  read_xml.response xml2\n",
      "── Attaching packages ───────────────────────────────────────────────────────────────────── tidyverse 1.2.1 ──\n",
      "✔ ggplot2 3.1.1     ✔ purrr   0.3.4\n",
      "✔ tibble  3.1.4     ✔ dplyr   1.0.7\n",
      "✔ tidyr   1.1.3     ✔ stringr 1.4.0\n",
      "✔ readr   1.3.1     ✔ forcats 0.4.0\n",
      "── Conflicts ──────────────────────────────────────────────────────────────────────── tidyverse_conflicts() ──\n",
      "✖ dplyr::filter() masks stats::filter()\n",
      "✖ dplyr::lag()    masks stats::lag()\n"
     ]
    }
   ],
   "source": [
    "library(tidyverse)"
   ]
  },
  {
   "cell_type": "code",
   "execution_count": 4,
   "id": "e676672e-062d-4c6e-8911-cebba6ec9b08",
   "metadata": {},
   "outputs": [],
   "source": [
    "intersection = read.table(\"data/C04689/C299A04689D_cfdna_N295-99/plotdata_intersection_singletons_excluded_tumor_4_cs.txt\")\n",
    "all_cfDNA = read.table(\"data/C04689/C299A04689D_cfdna_N295-99/plotdata_cfDNA_cs1e9.txt\")\n",
    "unique_tumor = read.table(\"data/C04689/C123T04689D_frfr_N295-450/plotdata_unique_tumor_singletons_excluded_tumor_4_cs.txt\")\n",
    "all_tumor = read.table(\"data/C04689/C123T04689D_frfr_N295-450/plotdata_tumor_singletons_excluded_tumor_4_cs.txt\")\n",
    "all_tumor$V2 <- as.numeric(all_tumor$V2)"
   ]
  },
  {
   "cell_type": "code",
   "execution_count": 11,
   "id": "26dccc85-81e1-445c-aae9-44b18f593965",
   "metadata": {},
   "outputs": [
    {
     "name": "stdout",
     "output_type": "stream",
     "text": [
      "[1] \"Intersection sum\"\n"
     ]
    },
    {
     "data": {
      "text/html": [
       "8646071"
      ],
      "text/latex": [
       "8646071"
      ],
      "text/markdown": [
       "8646071"
      ],
      "text/plain": [
       "[1] 8646071"
      ]
     },
     "metadata": {},
     "output_type": "display_data"
    },
    {
     "name": "stdout",
     "output_type": "stream",
     "text": [
      "[1] \"unique_tumor_sum\"\n",
      "[1] 15154389\n"
     ]
    },
    {
     "data": {
      "text/plain": [
       "\n",
       "\tExact binomial test\n",
       "\n",
       "data:  intersection_sum and unique_tumor_sum\n",
       "number of successes = 8646071, number of trials = 15154389, p-value <\n",
       "2.2e-16\n",
       "alternative hypothesis: true probability of success is not equal to 0.5\n",
       "95 percent confidence interval:\n",
       " 0.5702832 0.5707817\n",
       "sample estimates:\n",
       "probability of success \n",
       "             0.5705325 \n"
      ]
     },
     "metadata": {},
     "output_type": "display_data"
    },
    {
     "data": {
      "text/html": [
       "<ol class=list-inline>\n",
       "\t<li>0.570283203611394</li>\n",
       "\t<li>0.570781711090427</li>\n",
       "</ol>\n"
      ],
      "text/latex": [
       "\\begin{enumerate*}\n",
       "\\item 0.570283203611394\n",
       "\\item 0.570781711090427\n",
       "\\end{enumerate*}\n"
      ],
      "text/markdown": [
       "1. 0.570283203611394\n",
       "2. 0.570781711090427\n",
       "\n",
       "\n"
      ],
      "text/plain": [
       "[1] 0.5702832 0.5707817\n",
       "attr(,\"conf.level\")\n",
       "[1] 0.95"
      ]
     },
     "metadata": {},
     "output_type": "display_data"
    },
    {
     "data": {
      "text/html": [
       "0.570283203611394"
      ],
      "text/latex": [
       "0.570283203611394"
      ],
      "text/markdown": [
       "0.570283203611394"
      ],
      "text/plain": [
       "[1] 0.5702832"
      ]
     },
     "metadata": {},
     "output_type": "display_data"
    },
    {
     "data": {
      "text/html": [
       "0.570781711090427"
      ],
      "text/latex": [
       "0.570781711090427"
      ],
      "text/markdown": [
       "0.570781711090427"
      ],
      "text/plain": [
       "[1] 0.5707817"
      ]
     },
     "metadata": {},
     "output_type": "display_data"
    }
   ],
   "source": [
    "# small ratio\n",
    "\n",
    "intersection_sum = sum(intersection$V2)\n",
    "unique_tumor_sum = sum(unique_tumor$V2)\n",
    "\n",
    "print(\"Intersection sum\")\n",
    "intersection_sum\n",
    "\n",
    "print(\"unique_tumor_sum\")\n",
    "print(unique_tumor_sum)\n",
    "\n",
    "ratio = (intersection_sum/unique_tumor_sum)\n",
    "\n",
    "\n",
    "# CI for small ratio\n",
    "\n",
    "(binom_test <- binom.test(intersection_sum, unique_tumor_sum))\n",
    "binom_test$conf.int\n",
    "\n",
    "binom_test$conf.int[1]\n",
    "binom_test$conf.int[2]"
   ]
  },
  {
   "cell_type": "code",
   "execution_count": 3,
   "id": "50bb59dd-55b7-4ac9-9d1c-ff5645739ea3",
   "metadata": {},
   "outputs": [
    {
     "name": "stdout",
     "output_type": "stream",
     "text": [
      " num 64795004\n",
      "[1] 64795004\n",
      " num 7.8e+10\n",
      "[1] 78043827145\n",
      " num 1.48e+08\n",
      "[1] 148378591\n",
      " num 1.02e+11\n",
      "[1] 101924588355\n"
     ]
    }
   ],
   "source": [
    "# big ratio sums\n",
    "\n",
    "intersection_sum = sum(intersection$V2*intersection$V1)\n",
    "intersection_sum = as.numeric(intersection_sum)\n",
    "str(intersection_sum)\n",
    "print(intersection_sum)\n",
    "\n",
    "all_cfDNA_sum = sum(all_cfDNA$V2*all_cfDNA$V1)\n",
    "all_cfDNA_sum = as.numeric(all_cfDNA_sum)\n",
    "str(all_cfDNA_sum)\n",
    "print(all_cfDNA_sum)\n",
    "\n",
    "unique_tumor_sum = sum(unique_tumor$V2*unique_tumor$V1)\n",
    "unique_tumor_sum = as.numeric(unique_tumor_sum)\n",
    "str(unique_tumor_sum)\n",
    "print(unique_tumor_sum)\n",
    "\n",
    "all_tumor_sum = sum(all_tumor$V2*all_tumor$V1)\n",
    "all_tumor_sum = as.numeric(all_tumor_sum)\n",
    "str(all_tumor_sum)\n",
    "print(all_tumor_sum)"
   ]
  },
  {
   "cell_type": "code",
   "execution_count": 20,
   "id": "73bdf6ba-3a94-48be-9446-aa965cdb104e",
   "metadata": {},
   "outputs": [],
   "source": [
    "# simulation for big ratio confidence intervals\n",
    "\n",
    "intersection_sim = sort(rpois(10000, intersection_sum))\n",
    "all_cfDNA_sim = sort(rpois(10000, all_cfDNA_sum))\n",
    "unique_tumor_sim = sort(rpois(10000, unique_tumor_sum))\n",
    "all_tumor_sim = sort(rpois(10000, all_tumor_sum))\n"
   ]
  },
  {
   "cell_type": "code",
   "execution_count": 21,
   "id": "ebfb84a7-7829-43ba-a1dd-7d77b762fb7b",
   "metadata": {},
   "outputs": [
    {
     "data": {
      "text/html": [
       "<style>\n",
       ".list-inline {list-style: none; margin:0; padding: 0}\n",
       ".list-inline>li {display: inline-block}\n",
       ".list-inline>li:not(:last-child)::after {content: \"\\00b7\"; padding: 0 .5ex}\n",
       "</style>\n",
       "<ol class=list-inline><li>101924692934</li><li>101924332063</li><li>101924566662</li><li>101924509492</li><li>101924841899</li><li>101924812916</li></ol>\n"
      ],
      "text/latex": [
       "\\begin{enumerate*}\n",
       "\\item 101924692934\n",
       "\\item 101924332063\n",
       "\\item 101924566662\n",
       "\\item 101924509492\n",
       "\\item 101924841899\n",
       "\\item 101924812916\n",
       "\\end{enumerate*}\n"
      ],
      "text/markdown": [
       "1. 101924692934\n",
       "2. 101924332063\n",
       "3. 101924566662\n",
       "4. 101924509492\n",
       "5. 101924841899\n",
       "6. 101924812916\n",
       "\n",
       "\n"
      ],
      "text/plain": [
       "[1] 101924692934 101924332063 101924566662 101924509492 101924841899\n",
       "[6] 101924812916"
      ]
     },
     "metadata": {},
     "output_type": "display_data"
    }
   ],
   "source": [
    "head(all_tumor_sim)"
   ]
  },
  {
   "cell_type": "code",
   "execution_count": 22,
   "id": "c9a45a72-b512-4dcf-bac3-2715ddaf2003",
   "metadata": {
    "tags": []
   },
   "outputs": [
    {
     "data": {
      "text/html": [
       "10000"
      ],
      "text/latex": [
       "10000"
      ],
      "text/markdown": [
       "10000"
      ],
      "text/plain": [
       "[1] 10000"
      ]
     },
     "metadata": {},
     "output_type": "display_data"
    },
    {
     "data": {
      "text/html": [
       "<style>\n",
       ".list-inline {list-style: none; margin:0; padding: 0}\n",
       ".list-inline>li {display: inline-block}\n",
       ".list-inline>li:not(:last-child)::after {content: \"\\00b7\"; padding: 0 .5ex}\n",
       "</style>\n",
       "<ol class=list-inline><li>0.570002996202224</li><li>0.570015010154726</li><li>0.570018551417647</li><li>0.570029710205754</li><li>0.570032205474417</li><li>0.570033878852071</li></ol>\n"
      ],
      "text/latex": [
       "\\begin{enumerate*}\n",
       "\\item 0.570002996202224\n",
       "\\item 0.570015010154726\n",
       "\\item 0.570018551417647\n",
       "\\item 0.570029710205754\n",
       "\\item 0.570032205474417\n",
       "\\item 0.570033878852071\n",
       "\\end{enumerate*}\n"
      ],
      "text/markdown": [
       "1. 0.570002996202224\n",
       "2. 0.570015010154726\n",
       "3. 0.570018551417647\n",
       "4. 0.570029710205754\n",
       "5. 0.570032205474417\n",
       "6. 0.570033878852071\n",
       "\n",
       "\n"
      ],
      "text/plain": [
       "[1] 0.5700030 0.5700150 0.5700186 0.5700297 0.5700322 0.5700339"
      ]
     },
     "metadata": {},
     "output_type": "display_data"
    },
    {
     "data": {
      "text/html": [
       "<style>\n",
       ".list-inline {list-style: none; margin:0; padding: 0}\n",
       ".list-inline>li {display: inline-block}\n",
       ".list-inline>li:not(:last-child)::after {content: \"\\00b7\"; padding: 0 .5ex}\n",
       "</style>\n",
       "<ol class=list-inline><li>0.570579545849657</li><li>0.57058209623389</li><li>0.570584586824171</li><li>0.570585637061947</li><li>0.570599088902356</li><li>0.570627407121855</li></ol>\n"
      ],
      "text/latex": [
       "\\begin{enumerate*}\n",
       "\\item 0.570579545849657\n",
       "\\item 0.57058209623389\n",
       "\\item 0.570584586824171\n",
       "\\item 0.570585637061947\n",
       "\\item 0.570599088902356\n",
       "\\item 0.570627407121855\n",
       "\\end{enumerate*}\n"
      ],
      "text/markdown": [
       "1. 0.570579545849657\n",
       "2. 0.57058209623389\n",
       "3. 0.570584586824171\n",
       "4. 0.570585637061947\n",
       "5. 0.570599088902356\n",
       "6. 0.570627407121855\n",
       "\n",
       "\n"
      ],
      "text/plain": [
       "[1] 0.5705795 0.5705821 0.5705846 0.5705856 0.5705991 0.5706274"
      ]
     },
     "metadata": {},
     "output_type": "display_data"
    }
   ],
   "source": [
    "# calculate big ratios from simulated data\n",
    "\n",
    "ratios_sim = (intersection_sim/all_cfDNA_sim)/(unique_tumor_sim/all_tumor_sim)\n",
    "ratios_sim = sort(ratios_sim)\n",
    "length(ratios_sim)\n",
    "head(ratios_sim)\n",
    "tail(ratios_sim)"
   ]
  },
  {
   "cell_type": "code",
   "execution_count": null,
   "id": "709ea58a-c26e-48b2-9804-f82a6266e066",
   "metadata": {
    "collapsed": true,
    "jupyter": {
     "outputs_hidden": true
    },
    "tags": []
   },
   "outputs": [],
   "source": []
  },
  {
   "cell_type": "code",
   "execution_count": 23,
   "id": "6e7e0060-f57c-4722-a44e-9a66477b4ef7",
   "metadata": {
    "tags": []
   },
   "outputs": [
    {
     "data": {
      "text/html": [
       "<strong>2.5%:</strong> 0.570144720299105"
      ],
      "text/latex": [
       "\\textbf{2.5\\textbackslash{}\\%:} 0.570144720299105"
      ],
      "text/markdown": [
       "**2.5%:** 0.570144720299105"
      ],
      "text/plain": [
       "     2.5% \n",
       "0.5701447 "
      ]
     },
     "metadata": {},
     "output_type": "display_data"
    },
    {
     "data": {
      "text/html": [
       "<strong>97.5%:</strong> 0.570471766563342"
      ],
      "text/latex": [
       "\\textbf{97.5\\textbackslash{}\\%:} 0.570471766563342"
      ],
      "text/markdown": [
       "**97.5%:** 0.570471766563342"
      ],
      "text/plain": [
       "    97.5% \n",
       "0.5704718 "
      ]
     },
     "metadata": {},
     "output_type": "display_data"
    }
   ],
   "source": [
    "# big ratio confidence interval \n",
    "\n",
    "quantile(ratios_sim,.025)\n",
    "quantile(ratios_sim,.975)"
   ]
  },
  {
   "cell_type": "code",
   "execution_count": null,
   "id": "343ffa68-71aa-42ec-ae48-45dcdcfda42f",
   "metadata": {},
   "outputs": [],
   "source": []
  }
 ],
 "metadata": {
  "kernelspec": {
   "display_name": "R",
   "language": "R",
   "name": "ir"
  },
  "language_info": {
   "codemirror_mode": "r",
   "file_extension": ".r",
   "mimetype": "text/x-r-source",
   "name": "R",
   "pygments_lexer": "r",
   "version": "3.6.1"
  }
 },
 "nbformat": 4,
 "nbformat_minor": 5
}
